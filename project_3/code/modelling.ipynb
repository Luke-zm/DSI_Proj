{
 "cells": [
  {
   "cell_type": "markdown",
   "id": "bd34ba96-8f6d-4e5a-9547-ada1ac7319fa",
   "metadata": {},
   "source": [
    "# Modelling"
   ]
  },
  {
   "cell_type": "markdown",
   "id": "26ee9b64-20c4-49e3-8e7d-eba0f2a4b623",
   "metadata": {},
   "source": [
    "## Introduction"
   ]
  },
  {
   "cell_type": "markdown",
   "id": "8a1cd75a-5df9-42c6-a1e3-0fb9837744a3",
   "metadata": {},
   "source": [
    "In this notebook, I will explore the models and techniques in detail, and try to evaluate thier performances.  \n",
    "I will also try to explain what each model is trying to do, and is it working for this case.  \n",
    "The contents covered are:\n",
    "1. [Baseline](#Baseline)\n",
    "2. Naive Bayes\n",
    "3. Random Forest\n",
    "4. XGB\n",
    "5. Word Embedding?\n",
    "6. spaCy?"
   ]
  },
  {
   "cell_type": "code",
   "execution_count": 1,
   "id": "55f8e3f7-6b00-4787-a830-9688c84d05af",
   "metadata": {},
   "outputs": [],
   "source": [
    "import joblib\n",
    "import pickle\n",
    "import matplotlib.pyplot as plt\n",
    "import numpy as np\n",
    "import pandas as pd\n",
    "import seaborn as sns\n",
    "import xgboost as xgb\n",
    "from sklearn.feature_extraction.text import CountVectorizer, TfidfVectorizer\n",
    "\n",
    "import re\n",
    "\n",
    "from nltk.stem import WordNetLemmatizer\n",
    "from nltk.tokenize import sent_tokenize, word_tokenize, RegexpTokenizer\n",
    "from nltk.stem.porter import PorterStemmer\n",
    "from nltk.stem.snowball import SnowballStemmer\n",
    "from nltk.corpus import stopwords\n",
    "\n",
    "from sklearn.feature_extraction import text \n",
    "from sklearn.model_selection import train_test_split, GridSearchCV, cross_val_score, cross_validate\n",
    "from sklearn.pipeline import Pipeline\n",
    "from sklearn.naive_bayes import MultinomialNB\n",
    "from sklearn.decomposition import LatentDirichletAllocation\n",
    "from sklearn.metrics import confusion_matrix, plot_confusion_matrix, accuracy_score\n",
    "from sklearn.base import BaseEstimator, TransformerMixin\n",
    "\n",
    "from scipy.stats import shapiro\n",
    "\n",
    "from wordcloud import WordCloud, STOPWORDS, ImageColorGenerator"
   ]
  },
  {
   "cell_type": "code",
   "execution_count": 2,
   "id": "db947bc6-9e85-4be5-ad02-f4d24acefd5f",
   "metadata": {},
   "outputs": [],
   "source": [
    "df = pd.read_csv('../data/combined_df.csv')"
   ]
  },
  {
   "cell_type": "code",
   "execution_count": 3,
   "id": "15147322-fbf3-42f3-b628-cf72d11610d8",
   "metadata": {},
   "outputs": [
    {
     "data": {
      "text/html": [
       "<div>\n",
       "<style scoped>\n",
       "    .dataframe tbody tr th:only-of-type {\n",
       "        vertical-align: middle;\n",
       "    }\n",
       "\n",
       "    .dataframe tbody tr th {\n",
       "        vertical-align: top;\n",
       "    }\n",
       "\n",
       "    .dataframe thead th {\n",
       "        text-align: right;\n",
       "    }\n",
       "</style>\n",
       "<table border=\"1\" class=\"dataframe\">\n",
       "  <thead>\n",
       "    <tr style=\"text-align: right;\">\n",
       "      <th></th>\n",
       "      <th>id</th>\n",
       "      <th>title</th>\n",
       "      <th>post_content</th>\n",
       "      <th>user</th>\n",
       "      <th>label</th>\n",
       "      <th>title_word_count</th>\n",
       "      <th>title_len</th>\n",
       "      <th>post_word_count</th>\n",
       "      <th>post_len</th>\n",
       "      <th>emoji_num</th>\n",
       "      <th>emoji_post</th>\n",
       "    </tr>\n",
       "  </thead>\n",
       "  <tbody>\n",
       "    <tr>\n",
       "      <th>0</th>\n",
       "      <td>119r7rg</td>\n",
       "      <td>THROWDOWN THURSDAY: LEAKS CONFIRM LINK IS IN T...</td>\n",
       "      <td>WELCOME TO THROWDOWN THURSDAY, TURN YOUR CAPS ...</td>\n",
       "      <td>1338h4x</td>\n",
       "      <td>1</td>\n",
       "      <td>11</td>\n",
       "      <td>65</td>\n",
       "      <td>114</td>\n",
       "      <td>674</td>\n",
       "      <td>0</td>\n",
       "      <td>0</td>\n",
       "    </tr>\n",
       "    <tr>\n",
       "      <th>1</th>\n",
       "      <td>11c6ol7</td>\n",
       "      <td>smile sunday - happy 30th anniversary, star fox!</td>\n",
       "      <td>turn your caps lock off and rave about whateve...</td>\n",
       "      <td>tale-wind</td>\n",
       "      <td>1</td>\n",
       "      <td>8</td>\n",
       "      <td>48</td>\n",
       "      <td>231</td>\n",
       "      <td>1515</td>\n",
       "      <td>0</td>\n",
       "      <td>0</td>\n",
       "    </tr>\n",
       "    <tr>\n",
       "      <th>2</th>\n",
       "      <td>11cai3l</td>\n",
       "      <td>Never played a Pokémon game- where do I start?</td>\n",
       "      <td>I’ve been a gamer since early Gameboy days but...</td>\n",
       "      <td>Focusboy50</td>\n",
       "      <td>1</td>\n",
       "      <td>9</td>\n",
       "      <td>46</td>\n",
       "      <td>60</td>\n",
       "      <td>320</td>\n",
       "      <td>0</td>\n",
       "      <td>0</td>\n",
       "    </tr>\n",
       "    <tr>\n",
       "      <th>3</th>\n",
       "      <td>11bipdi</td>\n",
       "      <td>Universal Brazil posted a video of a Mario mov...</td>\n",
       "      <td>NaN</td>\n",
       "      <td>Nas160</td>\n",
       "      <td>1</td>\n",
       "      <td>21</td>\n",
       "      <td>114</td>\n",
       "      <td>0</td>\n",
       "      <td>0</td>\n",
       "      <td>0</td>\n",
       "      <td>0</td>\n",
       "    </tr>\n",
       "    <tr>\n",
       "      <th>4</th>\n",
       "      <td>11bkknf</td>\n",
       "      <td>MyNintendo offering eight exclusive reversible...</td>\n",
       "      <td>NaN</td>\n",
       "      <td>blubberpuppers</td>\n",
       "      <td>1</td>\n",
       "      <td>20</td>\n",
       "      <td>139</td>\n",
       "      <td>0</td>\n",
       "      <td>0</td>\n",
       "      <td>0</td>\n",
       "      <td>0</td>\n",
       "    </tr>\n",
       "  </tbody>\n",
       "</table>\n",
       "</div>"
      ],
      "text/plain": [
       "        id                                              title  \\\n",
       "0  119r7rg  THROWDOWN THURSDAY: LEAKS CONFIRM LINK IS IN T...   \n",
       "1  11c6ol7   smile sunday - happy 30th anniversary, star fox!   \n",
       "2  11cai3l     Never played a Pokémon game- where do I start?   \n",
       "3  11bipdi  Universal Brazil posted a video of a Mario mov...   \n",
       "4  11bkknf  MyNintendo offering eight exclusive reversible...   \n",
       "\n",
       "                                        post_content            user  label  \\\n",
       "0  WELCOME TO THROWDOWN THURSDAY, TURN YOUR CAPS ...         1338h4x      1   \n",
       "1  turn your caps lock off and rave about whateve...       tale-wind      1   \n",
       "2  I’ve been a gamer since early Gameboy days but...      Focusboy50      1   \n",
       "3                                                NaN          Nas160      1   \n",
       "4                                                NaN  blubberpuppers      1   \n",
       "\n",
       "   title_word_count  title_len  post_word_count  post_len  emoji_num  \\\n",
       "0                11         65              114       674          0   \n",
       "1                 8         48              231      1515          0   \n",
       "2                 9         46               60       320          0   \n",
       "3                21        114                0         0          0   \n",
       "4                20        139                0         0          0   \n",
       "\n",
       "   emoji_post  \n",
       "0           0  \n",
       "1           0  \n",
       "2           0  \n",
       "3           0  \n",
       "4           0  "
      ]
     },
     "execution_count": 3,
     "metadata": {},
     "output_type": "execute_result"
    }
   ],
   "source": [
    "df.head()"
   ]
  },
  {
   "cell_type": "code",
   "execution_count": 4,
   "id": "026e79e1-0679-4052-8756-f8ada1cee587",
   "metadata": {},
   "outputs": [
    {
     "data": {
      "text/html": [
       "<div>\n",
       "<style scoped>\n",
       "    .dataframe tbody tr th:only-of-type {\n",
       "        vertical-align: middle;\n",
       "    }\n",
       "\n",
       "    .dataframe tbody tr th {\n",
       "        vertical-align: top;\n",
       "    }\n",
       "\n",
       "    .dataframe thead th {\n",
       "        text-align: right;\n",
       "    }\n",
       "</style>\n",
       "<table border=\"1\" class=\"dataframe\">\n",
       "  <thead>\n",
       "    <tr style=\"text-align: right;\">\n",
       "      <th></th>\n",
       "      <th>id</th>\n",
       "      <th>title</th>\n",
       "      <th>post_content</th>\n",
       "      <th>user</th>\n",
       "      <th>title_word_count</th>\n",
       "      <th>title_len</th>\n",
       "      <th>post_word_count</th>\n",
       "      <th>post_len</th>\n",
       "      <th>emoji_num</th>\n",
       "      <th>emoji_post</th>\n",
       "    </tr>\n",
       "    <tr>\n",
       "      <th>label</th>\n",
       "      <th></th>\n",
       "      <th></th>\n",
       "      <th></th>\n",
       "      <th></th>\n",
       "      <th></th>\n",
       "      <th></th>\n",
       "      <th></th>\n",
       "      <th></th>\n",
       "      <th></th>\n",
       "      <th></th>\n",
       "    </tr>\n",
       "  </thead>\n",
       "  <tbody>\n",
       "    <tr>\n",
       "      <th>0</th>\n",
       "      <td>1988</td>\n",
       "      <td>1988</td>\n",
       "      <td>679</td>\n",
       "      <td>1926</td>\n",
       "      <td>1988</td>\n",
       "      <td>1988</td>\n",
       "      <td>1988</td>\n",
       "      <td>1988</td>\n",
       "      <td>1988</td>\n",
       "      <td>1988</td>\n",
       "    </tr>\n",
       "    <tr>\n",
       "      <th>1</th>\n",
       "      <td>1916</td>\n",
       "      <td>1916</td>\n",
       "      <td>645</td>\n",
       "      <td>1799</td>\n",
       "      <td>1916</td>\n",
       "      <td>1916</td>\n",
       "      <td>1916</td>\n",
       "      <td>1916</td>\n",
       "      <td>1916</td>\n",
       "      <td>1916</td>\n",
       "    </tr>\n",
       "  </tbody>\n",
       "</table>\n",
       "</div>"
      ],
      "text/plain": [
       "         id  title  post_content  user  title_word_count  title_len  \\\n",
       "label                                                                 \n",
       "0      1988   1988           679  1926              1988       1988   \n",
       "1      1916   1916           645  1799              1916       1916   \n",
       "\n",
       "       post_word_count  post_len  emoji_num  emoji_post  \n",
       "label                                                    \n",
       "0                 1988      1988       1988        1988  \n",
       "1                 1916      1916       1916        1916  "
      ]
     },
     "execution_count": 4,
     "metadata": {},
     "output_type": "execute_result"
    }
   ],
   "source": [
    "df.groupby('label').count()"
   ]
  },
  {
   "cell_type": "markdown",
   "id": "d5690657-f87b-4109-8f0f-79329e801139",
   "metadata": {},
   "source": [
    "## Baseline"
   ]
  },
  {
   "cell_type": "markdown",
   "id": "e99951c9-b2ab-4ab4-99a7-201523aa189b",
   "metadata": {},
   "source": [
    "The most base case prediction should be as follows:  \n",
    "1. I look at the entire dataset and see how it is split into ninetendo and playstation.  \n",
    "2. I make a guess everytime based on how many posts are from nintendo and how many posts are from play station."
   ]
  },
  {
   "cell_type": "markdown",
   "id": "b586f5f4-4577-4d17-8910-a0a9cceb620f",
   "metadata": {},
   "source": [
    "I have 1988 posts from playstation.  \n",
    "I have 1916 posts from ninetendo.  \n",
    "I make a random number selector that simply selects 1 or 0, based on occurance of playstation and nintendo.  \n",
    "(If I am to fit the entire data set to training.)"
   ]
  },
  {
   "cell_type": "code",
   "execution_count": 5,
   "id": "9bff6f4d-b8f0-423b-9a1d-ef6c2108b82e",
   "metadata": {},
   "outputs": [],
   "source": [
    "class BaseLineModel(object):\n",
    "    '''base line model\n",
    "    '''\n",
    "    def __init__(self, X, y):\n",
    "        self.X = X\n",
    "        self.y = y\n",
    "        self.rand_train()\n",
    "    def rand_train(self):\n",
    "        # becasue true = 1, so sum(true)/len(total) == occurance probability\n",
    "        self.prob = sum(self.y)/len(self.y)\n",
    "    def predict(self, X_pred,random_state = 42):\n",
    "        # predict based on probability\n",
    "        if random_state:\n",
    "            np.random.seed(42)\n",
    "        prob_0 = 1-self.prob\n",
    "        prob_1 = self.prob\n",
    "        pred = []\n",
    "        for i in range(len(X_pred)):\n",
    "            pred.append(np.random.choice([0, 1], p=[prob_0, prob_1]))\n",
    "        return pred"
   ]
  },
  {
   "cell_type": "code",
   "execution_count": 6,
   "id": "4938b9c9-0190-42b4-8cda-b219c438f410",
   "metadata": {},
   "outputs": [],
   "source": [
    "def print_confusion_matrix(y_actual, y_pred):\n",
    "    cf_matrix = confusion_matrix(y_actual, y_pred)\n",
    "    group_names = ['True Neg','False Pos','False Neg','True Pos']\n",
    "    group_counts = [\"{0:0.0f}\".format(value) for value in\n",
    "                    cf_matrix.flatten()]\n",
    "    group_percentages = [\"{0:.2%}\".format(value) for value in\n",
    "                         cf_matrix.flatten()/np.sum(cf_matrix)]\n",
    "    labels = [f'{v1}\\n{v2}\\n{v3}' for v1, v2, v3 in\n",
    "              zip(group_names,group_counts,group_percentages)]\n",
    "    labels = np.asarray(labels).reshape(2,2)\n",
    "    sns.heatmap(cf_matrix, annot=labels, fmt='', cmap='Blues')"
   ]
  },
  {
   "cell_type": "code",
   "execution_count": 7,
   "id": "2404d506-0fb6-4574-984f-04414d37ed1a",
   "metadata": {},
   "outputs": [],
   "source": [
    "def metrics_for_model(y_true, y_pred):\n",
    "    '''find the relavent metrics from confusion metrics\n",
    "    arg:\n",
    "        y_true: true value for y\n",
    "        y_pred: predicted value for y\n",
    "    out:\n",
    "        pre: precison score\n",
    "        rec: recall score\n",
    "        f1: f1 socre\n",
    "    '''\n",
    "    tn, fp, fn, tp =confusion_matrix(y_true, y_pred).ravel()\n",
    "    acc = (tp+tn)/(tp+fp+tn+fn)\n",
    "    pre = tp/(tp+fp)\n",
    "    sp = tn/(tn+tp)\n",
    "    rec = tp/(tp+fn)\n",
    "    f1 = 2*(pre*rec)/(pre+rec)\n",
    "    print(f\"The accuracy of this inference is: {acc}\")\n",
    "    print(f\"The precision of this inference is: {pre}\")\n",
    "    print(f\"The specificty of this inference is: {sp}\")\n",
    "    print(f\"The recall of this inference is: {rec}\")\n",
    "    print(f\"The f1 score for this inference is: {f1}\")\n",
    "    return pre, rec, f1"
   ]
  },
  {
   "cell_type": "code",
   "execution_count": 8,
   "id": "bf7b9aed-80a1-42c5-bcf4-78a940e1c445",
   "metadata": {},
   "outputs": [],
   "source": [
    "# Split the data \n",
    "X_train, X_test, y_train, y_test = train_test_split(df['title'], df['label'], test_size=0.2, random_state=42)"
   ]
  },
  {
   "cell_type": "code",
   "execution_count": 9,
   "id": "179597ad-b665-4ed8-ba3e-b7c6e5dc46a0",
   "metadata": {},
   "outputs": [],
   "source": [
    "base_line = BaseLineModel(X_train, y_train)\n",
    "y_pred_base = base_line.predict(X_test)"
   ]
  },
  {
   "cell_type": "code",
   "execution_count": 10,
   "id": "4a5e63bf-be5b-45cf-9f04-4ebfe9bd1892",
   "metadata": {},
   "outputs": [
    {
     "name": "stdout",
     "output_type": "stream",
     "text": [
      "The accuracy of this inference is: 0.528809218950064\n",
      "The precision of this inference is: 0.5406824146981627\n",
      "The specificty of this inference is: 0.5012106537530266\n",
      "The recall of this inference is: 0.5162907268170426\n",
      "The f1 score for this inference is: 0.5282051282051281\n"
     ]
    },
    {
     "data": {
      "text/plain": [
       "(0.5406824146981627, 0.5162907268170426, 0.5282051282051281)"
      ]
     },
     "execution_count": 10,
     "metadata": {},
     "output_type": "execute_result"
    },
    {
     "data": {
      "image/png": "[encoded data removed]",
      "text/plain": [
       "<Figure size 640x480 with 2 Axes>"
      ]
     },
     "metadata": {},
     "output_type": "display_data"
    }
   ],
   "source": [
    "print_confusion_matrix(y_test, y_pred_base);\n",
    "metrics_for_model(y_test, y_pred_base)"
   ]
  },
  {
   "cell_type": "markdown",
   "id": "19fac5d3-d148-433b-94d5-cf17a26b6251",
   "metadata": {},
   "source": [
    "This is the my baseline model.  \n",
    "It is equally bad at predicting both, and have a very even mixture for errors too!  \n",
    "The main evalution metric is my coonfusion matrix.  \n",
    "This is becasue confusion matrix provide the most complete information to my classification model.  \n",
    "From it, my accuracy, recall, precision, specificty, f1 all can be calculated.  \n",
    "What I am focusing on, is the f1 score.  \n",
    "I want my model to be good for both predicting precisely (tp/tp+fp) and with good recall (tp/tp+fn).  \n",
    "F1 score can also be described as the harmonic mean or weighted average of precision and recall.  \n",
    "With my baseline model established, I will go on to investigate with other methods!"
   ]
  },
  {
   "cell_type": "markdown",
   "id": "760ea0cb-f462-4ab4-a8d9-fe6017945a92",
   "metadata": {},
   "source": [
    "## Naive Bayes"
   ]
  },
  {
   "cell_type": "markdown",
   "id": "ed71645b-3b41-47e5-b3d6-14b2972895a9",
   "metadata": {},
   "source": [
    "Naive Bayes model was explained and analysed in detail in the EDA notebook.  \n"
   ]
  },
  {
   "cell_type": "code",
   "execution_count": 11,
   "id": "44707f88-d2bd-4761-ab01-c9ad00593dca",
   "metadata": {},
   "outputs": [],
   "source": [
    "# Import my stop words\n",
    "with open('../data/stopwords.pkl', 'rb') as f:\n",
    "    my_stop_words = pickle.load(f)"
   ]
  },
  {
   "cell_type": "code",
   "execution_count": 12,
   "id": "44d4051d-d196-4490-82ed-a750a32d01b1",
   "metadata": {},
   "outputs": [],
   "source": [
    "class StemLemmatizeTransformer(BaseEstimator, TransformerMixin):\n",
    "    '''Class that \n",
    "    1. extract words from url\n",
    "    2. stem words\n",
    "    3. lemmatize words\n",
    "    '''\n",
    "    def __init__(self):\n",
    "        self.stemmer = PorterStemmer()\n",
    "        self.lemmatizer = WordNetLemmatizer()\n",
    "    \n",
    "    def fit(self, X, y=None):\n",
    "        return self\n",
    "    \n",
    "    def transform(self, X, y=None):\n",
    "        stemmed_lemmatized_text = []\n",
    "        replace_list = ['apps.', 'http://', 'https://', 'www.', '.net', '.com', '/', '.', '-']\n",
    "        for i, text in enumerate(X):\n",
    "            for part in replace_list:\n",
    "                text = text.replace(part, ' ')\n",
    "            # X[i] = text\n",
    "            stemmed_words = [self.stemmer.stem(word) for word in text.split()]\n",
    "            stemmed_lemmatized_text.append(' '.join([self.lemmatizer.lemmatize(word) for word in stemmed_words]))\n",
    "        return stemmed_lemmatized_text"
   ]
  },
  {
   "cell_type": "code",
   "execution_count": 13,
   "id": "f577d731-31dc-4c11-a160-4d0ce8fbe401",
   "metadata": {},
   "outputs": [],
   "source": [
    "final_nb_pipeline = Pipeline([\n",
    "    ('stem_lemmatize', StemLemmatizeTransformer()),\n",
    "    ('tfidf', TfidfVectorizer(min_df=5, ngram_range=(1,3))),\n",
    "    ('clf', MultinomialNB()),\n",
    "])\n"
   ]
  },
  {
   "cell_type": "code",
   "execution_count": 14,
   "id": "7fc38365-d647-448f-bb7d-da63f06852b8",
   "metadata": {},
   "outputs": [],
   "source": [
    "final_nb_model = final_nb_pipeline.fit(X_train, y_train)"
   ]
  },
  {
   "cell_type": "code",
   "execution_count": 15,
   "id": "3df1625a-2eb8-456f-8b82-74fb09faf3dc",
   "metadata": {},
   "outputs": [],
   "source": [
    "y_pred_nb = final_nb_model.predict(X_test)"
   ]
  },
  {
   "cell_type": "code",
   "execution_count": 16,
   "id": "5dff63de-a187-486b-bb3c-addf67efe05b",
   "metadata": {},
   "outputs": [
    {
     "data": {
      "image/png": "[encoded data removed]",
      "text/plain": [
       "<Figure size 640x480 with 2 Axes>"
      ]
     },
     "metadata": {},
     "output_type": "display_data"
    }
   ],
   "source": [
    "print_confusion_matrix(y_test, y_pred_nb)"
   ]
  },
  {
   "cell_type": "markdown",
   "id": "fc86302f-3c23-464e-9f79-a14f2bff428d",
   "metadata": {},
   "source": [
    "Unfortunately, the performance is worse than my preliminary model with key give away words removed.  \n",
    "This is very likely due to the inclusion of stemming and lemmatization.  \n",
    "Stemming is a more aggressive technique where words are truncated to their root form, whereas lemmatization is a more precise technique that considers the context of the word and reduces it to its base form.\n",
    "Combining both techniques, I am reducing the size of the vocabulary, and hoping it will increase the accuracy of the model.   \n",
    "However, in this case it did not achieve what I hope it can achieve.  \n",
    "This could be due to stemming removing too much of a word.  \n",
    "Let me do an experiment to confirm a few things:\n",
    "1. it is becasue of stemming and lemmatization.\n",
    "2. it is mainly due to stemming. \n",
    "3. TFIDF using N-grams does not impact this use case much."
   ]
  },
  {
   "cell_type": "code",
   "execution_count": 6,
   "id": "c4d0c242-6625-4847-baac-35cc627a1bf2",
   "metadata": {},
   "outputs": [],
   "source": [
    "\n",
    "class StemLemmaTfidfLDA(BaseEstimator, TransformerMixin):\n",
    "    def __init__(self, stop_words='english', max_features=5000, n_components=10, max_df=0.95, min_df=2):\n",
    "        self.stemmer = SnowballStemmer('english')\n",
    "        self.lemmatizer = WordNetLemmatizer()\n",
    "        self.tfidf_vectorizer = TfidfVectorizer(stop_words=stop_words, max_features=max_features)\n",
    "        self.lda_model = LatentDirichletAllocation(n_components=n_components, max_iter=5, learning_method='online', learning_offset=50.,random_state=0)\n",
    "        self.max_df = max_df\n",
    "        self.min_df = min_df\n",
    "    \n",
    "    def stem_and_lemmatize(self, document):\n",
    "        return [self.stemmer.stem(self.lemmatizer.lemmatize(token)) for token in document.split()]\n",
    "\n",
    "    def fit(self, X, y=None):\n",
    "        X_stemmed_lemmatized = [' '.join(self.stem_and_lemmatize(document)) for document in X]\n",
    "        X_tfidf = self.tfidf_vectorizer.fit_transform(X_stemmed_lemmatized)\n",
    "        self.lda_model.fit(X_tfidf)\n",
    "        return self\n",
    "\n",
    "    def transform(self, X):\n",
    "        X_stemmed_lemmatized = [' '.join(self.stem_and_lemmatize(document)) for document in X]\n",
    "        X_tfidf = self.tfidf_vectorizer.transform(X_stemmed_lemmatized)\n",
    "        X_lda = self.lda_model.transform(X_tfidf)\n",
    "        return X_lda\n"
   ]
  },
  {
   "cell_type": "code",
   "execution_count": null,
   "id": "2ef0b74c-cca8-4679-bb2b-5df1b86248eb",
   "metadata": {},
   "outputs": [],
   "source": []
  },
  {
   "cell_type": "code",
   "execution_count": 23,
   "id": "9c8483da-1eda-4fa0-9604-870d203a1c09",
   "metadata": {},
   "outputs": [],
   "source": [
    "def metrics_for_model(y_true, y_pred):\n",
    "    '''find the relavent metrics from confusion metrics\n",
    "    arg:\n",
    "        y_true: true value for y\n",
    "        y_pred: predicted value for y\n",
    "    out:\n",
    "        pre: precison score\n",
    "        rec: recall score\n",
    "        f1: f1 socre\n",
    "    '''\n",
    "    tn, fp, fn, tp =confusion_matrix(y_true, y_pred).ravel()\n",
    "    pre = tp/(tp+fp)\n",
    "    rec = tp/(tp+fn)\n",
    "    f1 = 2*(pre*rec)/(pre+rec)\n",
    "    print(f\"The recall of this inference is: {rec}\")\n",
    "    print(f\"The precision of this inference is: {pre}\")\n",
    "    print(f\"The f1 score for this inference is: {f1}\")\n",
    "    return pre, rec, f1"
   ]
  },
  {
   "cell_type": "code",
   "execution_count": 24,
   "id": "3eb38d46-911d-483f-87a0-e1c9f1e58599",
   "metadata": {},
   "outputs": [
    {
     "name": "stdout",
     "output_type": "stream",
     "text": [
      "The recall of this inference is: 0.9525052192066806\n",
      "The precision of this inference is: 0.9769807280513919\n",
      "The f1 score for this inference is: 0.9645877378435519\n"
     ]
    }
   ],
   "source": [
    "metrics_for_model(df['label'], df['pred']);"
   ]
  },
  {
   "cell_type": "code",
   "execution_count": null,
   "id": "6fac1751-0091-40ed-abfa-04d79f76789f",
   "metadata": {},
   "outputs": [],
   "source": [
    "# dnn based idea generator that make weak links.\n",
    "# then use GAN to determine if the idea is feasible."
   ]
  },
  {
   "cell_type": "code",
   "execution_count": null,
   "id": "87abac82-6269-433f-9fb7-2b2be583a8e2",
   "metadata": {},
   "outputs": [],
   "source": [
    "import numpy as np\n",
    "import spacy\n",
    "from sklearn.base import BaseEstimator, TransformerMixin\n",
    "from sklearn.feature_extraction.text import TfidfVectorizer\n",
    "from sklearn.pipeline import Pipeline\n",
    "from gensim.models import KeyedVectors\n",
    "\n",
    "\n",
    "class StemLemmatizeTransformer(BaseEstimator, TransformerMixin):\n",
    "    def __init__(self):\n",
    "        self.nlp = spacy.load('en_core_web_sm', disable=['parser', 'ner'])\n",
    "    \n",
    "    def stem(self, word):\n",
    "        stemmer = SnowballStemmer(\"english\")\n",
    "        return stemmer.stem(word)\n",
    "\n",
    "    def lemmatize(self, doc):\n",
    "        doc = self.nlp(doc)\n",
    "        return [token.lemma_ for token in doc]\n",
    "\n",
    "    def fit(self, X, y=None):\n",
    "        return self\n",
    "\n",
    "    def transform(self, X):\n",
    "        X = X.apply(lambda x: \" \".join([self.stem(w) for w in x.split()]))\n",
    "        X = X.apply(lambda x: \" \".join(self.lemmatize(x)))\n",
    "        return X\n",
    "\n",
    "\n",
    "class WordEmbeddingsTransformer(BaseEstimator, TransformerMixin):\n",
    "    def __init__(self, embeddings_file):\n",
    "        self.embeddings_file = embeddings_file\n",
    "\n",
    "    def fit(self, X, y=None):\n",
    "        self.word_vectors = KeyedVectors.load_word2vec_format(self.embeddings_file, binary=False)\n",
    "        return self\n",
    "\n",
    "    def transform(self, X):\n",
    "        X_embedded = []\n",
    "        for sentence in X:\n",
    "            embedded_sentence = []\n",
    "            for word in sentence.split():\n",
    "                if word in self.word_vectors:\n",
    "                    embedded_sentence.append(self.word_vectors[word])\n",
    "            if len(embedded_sentence) > 0:\n",
    "                X_embedded.append(np.mean(embedded_sentence, axis=0))\n",
    "            else:\n",
    "                X_embedded.append(np.zeros(100))\n",
    "        return np.array(X_embedded)\n",
    "\n",
    "pipeline = Pipeline([\n",
    "    ('stem_lemmatize', StemLemmatizeTransformer()),\n",
    "    ('tfidf', TfidfVectorizer()),\n",
    "    ('embeddings', WordEmbeddingsTransformer(embeddings_file='/path/to/glove.6B.100d.txt'))\n",
    "])\n"
   ]
  },
  {
   "cell_type": "code",
   "execution_count": null,
   "id": "80d868a9-28d1-42c1-aaad-c259923c9f35",
   "metadata": {},
   "outputs": [],
   "source": []
  },
  {
   "cell_type": "code",
   "execution_count": null,
   "id": "b323650d-b982-4757-a403-3d3eeab0064e",
   "metadata": {},
   "outputs": [],
   "source": []
  }
 ],
 "metadata": {
  "kernelspec": {
   "display_name": "Python [conda env:dsi-sg]",
   "language": "python",
   "name": "conda-env-dsi-sg-py"
  },
  "language_info": {
   "codemirror_mode": {
    "name": "ipython",
    "version": 3
   },
   "file_extension": ".py",
   "mimetype": "text/x-python",
   "name": "python",
   "nbconvert_exporter": "python",
   "pygments_lexer": "ipython3",
   "version": "3.9.13"
  }
 },
 "nbformat": 4,
 "nbformat_minor": 5
}

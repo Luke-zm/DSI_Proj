{
 "cells": [
  {
   "cell_type": "markdown",
   "id": "bd34ba96-8f6d-4e5a-9547-ada1ac7319fa",
   "metadata": {},
   "source": [
    "# Modelling"
   ]
  },
  {
   "cell_type": "markdown",
   "id": "26ee9b64-20c4-49e3-8e7d-eba0f2a4b623",
   "metadata": {},
   "source": [
    "## Introduction"
   ]
  },
  {
   "cell_type": "markdown",
   "id": "8a1cd75a-5df9-42c6-a1e3-0fb9837744a3",
   "metadata": {},
   "source": [
    "I am working for reddit and now reddit want to simplify the content posting process, so I employ an automated forum control tool, for users from r/nintendo and r/playstation.  \n",
    "For example, I want to post some random thoughts, I really just want to make a quick post and I don't want to go to the individual forum.  \n",
    "All I want to do is simply post, and as if by magic, this post will appear in the correct subreddit.  \n",
    "This makes life so much simpler! \n",
    "\n",
    "In this note book, I am finally at the model building stage.  \n",
    "I will build some models and see how they perform as classifiers for reddit titles, predicting if it is from nintendo or playstation.\n",
    "\n",
    "---\n",
    "\n",
    "In this notebook, I will explore the models and techniques in detail, and try to evaluate thier performances.  \n",
    "I will also try to explain what each model is trying to do, and is it working for this case.  \n",
    "The contents covered are:\n",
    "1. [Baseline](#Baseline)\n",
    "2. [Naive Bayes](#Naive-Bayes)\n",
    "3. [Logistic Regression](#Logistic-Regression)\n",
    "4. [Ensemble Methods](#Ensemble-Methods)  \n",
    "    i. [RF](#RF)  \n",
    "    ii. [XGB](#XGB)  \n",
    "    iii. [Stacking](#Stacking)\n",
    "5. [Conclusions](#Conclusions)"
   ]
  },
  {
   "cell_type": "code",
   "execution_count": 1,
   "id": "55f8e3f7-6b00-4787-a830-9688c84d05af",
   "metadata": {},
   "outputs": [],
   "source": [
    "import joblib\n",
    "import pickle\n",
    "import math\n",
    "import warnings\n",
    "import matplotlib.pyplot as plt\n",
    "import numpy as np\n",
    "import pandas as pd\n",
    "import seaborn as sns\n",
    "import xgboost as xgb\n",
    "from sklearn.feature_extraction.text import CountVectorizer, TfidfVectorizer\n",
    "\n",
    "import re\n",
    "\n",
    "from nltk.stem import WordNetLemmatizer\n",
    "from nltk.tokenize import sent_tokenize, word_tokenize, RegexpTokenizer\n",
    "from nltk.stem.porter import PorterStemmer\n",
    "from nltk.corpus import stopwords\n",
    "\n",
    "from sklearn.feature_extraction import text \n",
    "from sklearn.model_selection import train_test_split, GridSearchCV, RandomizedSearchCV, cross_val_score, cross_validate\n",
    "from sklearn.pipeline import Pipeline\n",
    "from sklearn.naive_bayes import MultinomialNB\n",
    "from sklearn.decomposition import LatentDirichletAllocation\n",
    "from sklearn.metrics import confusion_matrix, plot_confusion_matrix, accuracy_score\n",
    "from sklearn.ensemble import RandomForestClassifier\n",
    "from sklearn.base import BaseEstimator, TransformerMixin\n",
    "from sklearn.linear_model import LogisticRegression\n",
    "\n",
    "from scipy.stats import shapiro, uniform, randint\n",
    "\n",
    "from wordcloud import WordCloud, STOPWORDS, ImageColorGenerator"
   ]
  },
  {
   "cell_type": "code",
   "execution_count": 2,
   "id": "db947bc6-9e85-4be5-ad02-f4d24acefd5f",
   "metadata": {},
   "outputs": [],
   "source": [
    "df = pd.read_csv('../data/combined_df.csv')"
   ]
  },
  {
   "cell_type": "code",
   "execution_count": 3,
   "id": "15147322-fbf3-42f3-b628-cf72d11610d8",
   "metadata": {},
   "outputs": [
    {
     "data": {
      "text/html": [
       "<div>\n",
       "<style scoped>\n",
       "    .dataframe tbody tr th:only-of-type {\n",
       "        vertical-align: middle;\n",
       "    }\n",
       "\n",
       "    .dataframe tbody tr th {\n",
       "        vertical-align: top;\n",
       "    }\n",
       "\n",
       "    .dataframe thead th {\n",
       "        text-align: right;\n",
       "    }\n",
       "</style>\n",
       "<table border=\"1\" class=\"dataframe\">\n",
       "  <thead>\n",
       "    <tr style=\"text-align: right;\">\n",
       "      <th></th>\n",
       "      <th>id</th>\n",
       "      <th>title</th>\n",
       "      <th>post_content</th>\n",
       "      <th>user</th>\n",
       "      <th>label</th>\n",
       "      <th>title_word_count</th>\n",
       "      <th>title_len</th>\n",
       "      <th>post_word_count</th>\n",
       "      <th>post_len</th>\n",
       "      <th>emoji_num</th>\n",
       "      <th>emoji_post</th>\n",
       "    </tr>\n",
       "  </thead>\n",
       "  <tbody>\n",
       "    <tr>\n",
       "      <th>0</th>\n",
       "      <td>119r7rg</td>\n",
       "      <td>THROWDOWN THURSDAY: LEAKS CONFIRM LINK IS IN T...</td>\n",
       "      <td>WELCOME TO THROWDOWN THURSDAY, TURN YOUR CAPS ...</td>\n",
       "      <td>1338h4x</td>\n",
       "      <td>1</td>\n",
       "      <td>11</td>\n",
       "      <td>65</td>\n",
       "      <td>114</td>\n",
       "      <td>674</td>\n",
       "      <td>0</td>\n",
       "      <td>0</td>\n",
       "    </tr>\n",
       "    <tr>\n",
       "      <th>1</th>\n",
       "      <td>11c6ol7</td>\n",
       "      <td>smile sunday - happy 30th anniversary, star fox!</td>\n",
       "      <td>turn your caps lock off and rave about whateve...</td>\n",
       "      <td>tale-wind</td>\n",
       "      <td>1</td>\n",
       "      <td>8</td>\n",
       "      <td>48</td>\n",
       "      <td>231</td>\n",
       "      <td>1515</td>\n",
       "      <td>0</td>\n",
       "      <td>0</td>\n",
       "    </tr>\n",
       "    <tr>\n",
       "      <th>2</th>\n",
       "      <td>11cai3l</td>\n",
       "      <td>Never played a Pokémon game- where do I start?</td>\n",
       "      <td>I’ve been a gamer since early Gameboy days but...</td>\n",
       "      <td>Focusboy50</td>\n",
       "      <td>1</td>\n",
       "      <td>9</td>\n",
       "      <td>46</td>\n",
       "      <td>60</td>\n",
       "      <td>320</td>\n",
       "      <td>0</td>\n",
       "      <td>0</td>\n",
       "    </tr>\n",
       "    <tr>\n",
       "      <th>3</th>\n",
       "      <td>11bipdi</td>\n",
       "      <td>Universal Brazil posted a video of a Mario mov...</td>\n",
       "      <td>NaN</td>\n",
       "      <td>Nas160</td>\n",
       "      <td>1</td>\n",
       "      <td>21</td>\n",
       "      <td>114</td>\n",
       "      <td>0</td>\n",
       "      <td>0</td>\n",
       "      <td>0</td>\n",
       "      <td>0</td>\n",
       "    </tr>\n",
       "    <tr>\n",
       "      <th>4</th>\n",
       "      <td>11bkknf</td>\n",
       "      <td>MyNintendo offering eight exclusive reversible...</td>\n",
       "      <td>NaN</td>\n",
       "      <td>blubberpuppers</td>\n",
       "      <td>1</td>\n",
       "      <td>20</td>\n",
       "      <td>139</td>\n",
       "      <td>0</td>\n",
       "      <td>0</td>\n",
       "      <td>0</td>\n",
       "      <td>0</td>\n",
       "    </tr>\n",
       "  </tbody>\n",
       "</table>\n",
       "</div>"
      ],
      "text/plain": [
       "        id                                              title  \\\n",
       "0  119r7rg  THROWDOWN THURSDAY: LEAKS CONFIRM LINK IS IN T...   \n",
       "1  11c6ol7   smile sunday - happy 30th anniversary, star fox!   \n",
       "2  11cai3l     Never played a Pokémon game- where do I start?   \n",
       "3  11bipdi  Universal Brazil posted a video of a Mario mov...   \n",
       "4  11bkknf  MyNintendo offering eight exclusive reversible...   \n",
       "\n",
       "                                        post_content            user  label  \\\n",
       "0  WELCOME TO THROWDOWN THURSDAY, TURN YOUR CAPS ...         1338h4x      1   \n",
       "1  turn your caps lock off and rave about whateve...       tale-wind      1   \n",
       "2  I’ve been a gamer since early Gameboy days but...      Focusboy50      1   \n",
       "3                                                NaN          Nas160      1   \n",
       "4                                                NaN  blubberpuppers      1   \n",
       "\n",
       "   title_word_count  title_len  post_word_count  post_len  emoji_num  \\\n",
       "0                11         65              114       674          0   \n",
       "1                 8         48              231      1515          0   \n",
       "2                 9         46               60       320          0   \n",
       "3                21        114                0         0          0   \n",
       "4                20        139                0         0          0   \n",
       "\n",
       "   emoji_post  \n",
       "0           0  \n",
       "1           0  \n",
       "2           0  \n",
       "3           0  \n",
       "4           0  "
      ]
     },
     "execution_count": 3,
     "metadata": {},
     "output_type": "execute_result"
    }
   ],
   "source": [
    "df.head()"
   ]
  },
  {
   "cell_type": "code",
   "execution_count": 4,
   "id": "026e79e1-0679-4052-8756-f8ada1cee587",
   "metadata": {},
   "outputs": [
    {
     "data": {
      "text/html": [
       "<div>\n",
       "<style scoped>\n",
       "    .dataframe tbody tr th:only-of-type {\n",
       "        vertical-align: middle;\n",
       "    }\n",
       "\n",
       "    .dataframe tbody tr th {\n",
       "        vertical-align: top;\n",
       "    }\n",
       "\n",
       "    .dataframe thead th {\n",
       "        text-align: right;\n",
       "    }\n",
       "</style>\n",
       "<table border=\"1\" class=\"dataframe\">\n",
       "  <thead>\n",
       "    <tr style=\"text-align: right;\">\n",
       "      <th></th>\n",
       "      <th>id</th>\n",
       "      <th>title</th>\n",
       "      <th>post_content</th>\n",
       "      <th>user</th>\n",
       "      <th>title_word_count</th>\n",
       "      <th>title_len</th>\n",
       "      <th>post_word_count</th>\n",
       "      <th>post_len</th>\n",
       "      <th>emoji_num</th>\n",
       "      <th>emoji_post</th>\n",
       "    </tr>\n",
       "    <tr>\n",
       "      <th>label</th>\n",
       "      <th></th>\n",
       "      <th></th>\n",
       "      <th></th>\n",
       "      <th></th>\n",
       "      <th></th>\n",
       "      <th></th>\n",
       "      <th></th>\n",
       "      <th></th>\n",
       "      <th></th>\n",
       "      <th></th>\n",
       "    </tr>\n",
       "  </thead>\n",
       "  <tbody>\n",
       "    <tr>\n",
       "      <th>0</th>\n",
       "      <td>1988</td>\n",
       "      <td>1988</td>\n",
       "      <td>679</td>\n",
       "      <td>1926</td>\n",
       "      <td>1988</td>\n",
       "      <td>1988</td>\n",
       "      <td>1988</td>\n",
       "      <td>1988</td>\n",
       "      <td>1988</td>\n",
       "      <td>1988</td>\n",
       "    </tr>\n",
       "    <tr>\n",
       "      <th>1</th>\n",
       "      <td>1916</td>\n",
       "      <td>1916</td>\n",
       "      <td>645</td>\n",
       "      <td>1799</td>\n",
       "      <td>1916</td>\n",
       "      <td>1916</td>\n",
       "      <td>1916</td>\n",
       "      <td>1916</td>\n",
       "      <td>1916</td>\n",
       "      <td>1916</td>\n",
       "    </tr>\n",
       "  </tbody>\n",
       "</table>\n",
       "</div>"
      ],
      "text/plain": [
       "         id  title  post_content  user  title_word_count  title_len  \\\n",
       "label                                                                 \n",
       "0      1988   1988           679  1926              1988       1988   \n",
       "1      1916   1916           645  1799              1916       1916   \n",
       "\n",
       "       post_word_count  post_len  emoji_num  emoji_post  \n",
       "label                                                    \n",
       "0                 1988      1988       1988        1988  \n",
       "1                 1916      1916       1916        1916  "
      ]
     },
     "execution_count": 4,
     "metadata": {},
     "output_type": "execute_result"
    }
   ],
   "source": [
    "df.groupby('label').count()"
   ]
  },
  {
   "cell_type": "markdown",
   "id": "d5690657-f87b-4109-8f0f-79329e801139",
   "metadata": {},
   "source": [
    "## Baseline"
   ]
  },
  {
   "cell_type": "markdown",
   "id": "e99951c9-b2ab-4ab4-99a7-201523aa189b",
   "metadata": {},
   "source": [
    "The most base case prediction should be as follows:  \n",
    "1. I look at the entire dataset and see how it is split into ninetendo and playstation.  \n",
    "2. I make a guess everytime based on how many posts are from nintendo and how many posts are from play station."
   ]
  },
  {
   "cell_type": "markdown",
   "id": "b586f5f4-4577-4d17-8910-a0a9cceb620f",
   "metadata": {},
   "source": [
    "I have 1988 posts from playstation.  \n",
    "I have 1916 posts from ninetendo.  \n",
    "I make a random number selector that simply selects 1 or 0, based on occurance of playstation and nintendo.  \n",
    "(If I am to fit the entire data set to training.)"
   ]
  },
  {
   "cell_type": "code",
   "execution_count": 5,
   "id": "9bff6f4d-b8f0-423b-9a1d-ef6c2108b82e",
   "metadata": {},
   "outputs": [],
   "source": [
    "class BaseLineModel(object):\n",
    "    '''base line model\n",
    "    '''\n",
    "    def __init__(self, X, y):\n",
    "        self.X = X\n",
    "        self.y = y\n",
    "        self.rand_train()\n",
    "    def rand_train(self):\n",
    "        # becasue true = 1, so sum(true)/len(total) == occurance probability\n",
    "        self.prob = sum(self.y)/len(self.y)\n",
    "    def predict(self, X_pred,random_state = 42):\n",
    "        # predict based on probability\n",
    "        if random_state:\n",
    "            np.random.seed(42)\n",
    "        prob_0 = 1-self.prob\n",
    "        prob_1 = self.prob\n",
    "        pred = []\n",
    "        for i in range(len(X_pred)):\n",
    "            pred.append(np.random.choice([0, 1], p=[prob_0, prob_1]))\n",
    "        return pred"
   ]
  },
  {
   "cell_type": "code",
   "execution_count": 6,
   "id": "4938b9c9-0190-42b4-8cda-b219c438f410",
   "metadata": {},
   "outputs": [],
   "source": [
    "def print_confusion_matrix(y_actual, y_pred):\n",
    "    cf_matrix = confusion_matrix(y_actual, y_pred)\n",
    "    group_names = ['True Neg','False Pos','False Neg','True Pos']\n",
    "    group_counts = [\"{0:0.0f}\".format(value) for value in\n",
    "                    cf_matrix.flatten()]\n",
    "    group_percentages = [\"{0:.2%}\".format(value) for value in\n",
    "                         cf_matrix.flatten()/np.sum(cf_matrix)]\n",
    "    labels = [f'{v1}\\n{v2}\\n{v3}' for v1, v2, v3 in\n",
    "              zip(group_names,group_counts,group_percentages)]\n",
    "    labels = np.asarray(labels).reshape(2,2)\n",
    "    sns.heatmap(cf_matrix, annot=labels, fmt='', cmap='Blues')"
   ]
  },
  {
   "cell_type": "code",
   "execution_count": 7,
   "id": "2404d506-0fb6-4574-984f-04414d37ed1a",
   "metadata": {},
   "outputs": [],
   "source": [
    "def metrics_for_model(y_true, y_pred):\n",
    "    '''find the relavent metrics from confusion metrics\n",
    "    arg:\n",
    "        y_true: true value for y\n",
    "        y_pred: predicted value for y\n",
    "    out:\n",
    "        pre: precison score\n",
    "        rec: recall score\n",
    "        f1: f1 socre\n",
    "    '''\n",
    "    tn, fp, fn, tp =confusion_matrix(y_true, y_pred).ravel()\n",
    "    acc = (tp+tn)/(tp+fp+tn+fn)\n",
    "    pre = tp/(tp+fp)\n",
    "    sp = tn/(tn+fp)\n",
    "    rec = tp/(tp+fn)\n",
    "    f1 = 2*(pre*rec)/(pre+rec)\n",
    "    print(f\"The accuracy of this inference is: {acc}\")\n",
    "    print(f\"The precision of this inference is: {pre}\")\n",
    "    print(f\"The specificty of this inference is: {sp}\")\n",
    "    print(f\"The recall of this inference is: {rec}\")\n",
    "    print(f\"The f1 score for this inference is: {f1}\")\n",
    "    return pre, rec, f1"
   ]
  },
  {
   "cell_type": "code",
   "execution_count": 8,
   "id": "bf7b9aed-80a1-42c5-bcf4-78a940e1c445",
   "metadata": {},
   "outputs": [],
   "source": [
    "# Split the data \n",
    "X_train, X_test, y_train, y_test = train_test_split(df['title'], df['label'], test_size=0.2, random_state=42)"
   ]
  },
  {
   "cell_type": "code",
   "execution_count": 9,
   "id": "2210eb52-f4c9-4175-80ef-e1a3f5deb40e",
   "metadata": {},
   "outputs": [],
   "source": [
    "X_test.reset_index(drop=True, inplace=True)\n",
    "y_test.reset_index(drop=True, inplace=True)"
   ]
  },
  {
   "cell_type": "code",
   "execution_count": 10,
   "id": "179597ad-b665-4ed8-ba3e-b7c6e5dc46a0",
   "metadata": {},
   "outputs": [],
   "source": [
    "base_line = BaseLineModel(X_train, y_train)\n",
    "y_pred_base = base_line.predict(X_test)"
   ]
  },
  {
   "cell_type": "code",
   "execution_count": 11,
   "id": "4a5e63bf-be5b-45cf-9f04-4ebfe9bd1892",
   "metadata": {},
   "outputs": [
    {
     "name": "stdout",
     "output_type": "stream",
     "text": [
      "The accuracy of this inference is: 0.528809218950064\n",
      "The precision of this inference is: 0.5406824146981627\n",
      "The specificty of this inference is: 0.5418848167539267\n",
      "The recall of this inference is: 0.5162907268170426\n",
      "The f1 score for this inference is: 0.5282051282051281\n"
     ]
    },
    {
     "data": {
      "text/plain": [
       "(0.5406824146981627, 0.5162907268170426, 0.5282051282051281)"
      ]
     },
     "execution_count": 11,
     "metadata": {},
     "output_type": "execute_result"
    },
    {
     "data": {
      "image/png": "[encoded data removed]",
      "text/plain": [
       "<Figure size 640x480 with 2 Axes>"
      ]
     },
     "metadata": {},
     "output_type": "display_data"
    }
   ],
   "source": [
    "print_confusion_matrix(y_test, y_pred_base);\n",
    "metrics_for_model(y_test, y_pred_base)"
   ]
  },
  {
   "cell_type": "markdown",
   "id": "19fac5d3-d148-433b-94d5-cf17a26b6251",
   "metadata": {},
   "source": [
    "This is the my baseline model.  \n",
    "It is equally bad at predicting both, and have a very even mixture for errors too!  \n",
    "The main evalution metric is my coonfusion matrix.  \n",
    "This is becasue confusion matrix provide the most complete information to my classification model.  \n",
    "From it, my accuracy, recall, precision, specificty, f1 all can be calculated.  \n",
    "What I am focusing on, is the f1 score.  \n",
    "I want my model to be good for both predicting precisely (tp/tp+fp) and with good recall (tp/tp+fn).  \n",
    "F1 score can also be described as the harmonic mean or weighted average of precision and recall.  \n",
    "With my baseline model established, I will go on to investigate with other methods!"
   ]
  },
  {
   "cell_type": "markdown",
   "id": "760ea0cb-f462-4ab4-a8d9-fe6017945a92",
   "metadata": {},
   "source": [
    "## Naive Bayes"
   ]
  },
  {
   "cell_type": "markdown",
   "id": "ed71645b-3b41-47e5-b3d6-14b2972895a9",
   "metadata": {},
   "source": [
    "I am using multinominal NB as explained in the EDA notebook.  \n",
    "It is a simple classification model and commonly used in NLP tasks like that one at hand.  \n",
    "I will examine some techniques and how they affect the model.  \n",
    "1. Extracting words from web links.\n",
    "2. Stemming\n",
    "3. Lemmatization  \n",
    "\n",
    "Then the preprocessed tokens will be sent to TF-IDF.  \n",
    "After which, it will be fitted using NB.\n",
    "I will then examine the model and decide which variant of the model to use, should I want a NB model for production."
   ]
  },
  {
   "cell_type": "code",
   "execution_count": 12,
   "id": "44707f88-d2bd-4761-ab01-c9ad00593dca",
   "metadata": {},
   "outputs": [],
   "source": [
    "# Import my stop words\n",
    "with open('../data/stopwords.pkl', 'rb') as f:\n",
    "    my_stop_words = pickle.load(f)"
   ]
  },
  {
   "cell_type": "code",
   "execution_count": 13,
   "id": "44d4051d-d196-4490-82ed-a750a32d01b1",
   "metadata": {},
   "outputs": [],
   "source": [
    "class StemLemmatizeTransformer(BaseEstimator, TransformerMixin):\n",
    "    '''Class that \n",
    "    1. extract words from url\n",
    "    2. stem words\n",
    "    3. lemmatize words\n",
    "    '''\n",
    "    def __init__(self):\n",
    "        self.stemmer = PorterStemmer()\n",
    "        self.lemmatizer = WordNetLemmatizer()\n",
    "    \n",
    "    def fit(self, X, y=None):\n",
    "        return self\n",
    "    \n",
    "    def transform(self, X, y=None):\n",
    "        stemmed_lemmatized_text = []\n",
    "        replace_list = ['apps.', 'http://', 'https://', 'www.', '.net', '.com', '/', '.', '-']\n",
    "        for i, text in enumerate(X):\n",
    "            for part in replace_list:\n",
    "                text = text.replace(part, ' ')\n",
    "            # X[i] = text\n",
    "            stemmed_words = [self.stemmer.stem(word) for word in text.split()]\n",
    "            stemmed_lemmatized_text.append(' '.join([self.lemmatizer.lemmatize(word) for word in stemmed_words]))\n",
    "        return stemmed_lemmatized_text"
   ]
  },
  {
   "cell_type": "code",
   "execution_count": 14,
   "id": "f577d731-31dc-4c11-a160-4d0ce8fbe401",
   "metadata": {},
   "outputs": [],
   "source": [
    "final_nb_pipeline = Pipeline([\n",
    "    ('stem_lemmatize', StemLemmatizeTransformer()),\n",
    "    ('tfidf', TfidfVectorizer(min_df=5, ngram_range=(1,3), stop_words=my_stop_words)),\n",
    "    ('clf', MultinomialNB()),\n",
    "])\n"
   ]
  },
  {
   "cell_type": "code",
   "execution_count": 15,
   "id": "7fc38365-d647-448f-bb7d-da63f06852b8",
   "metadata": {},
   "outputs": [],
   "source": [
    "final_nb_model = final_nb_pipeline.fit(X_train, y_train)"
   ]
  },
  {
   "cell_type": "code",
   "execution_count": 16,
   "id": "3df1625a-2eb8-456f-8b82-74fb09faf3dc",
   "metadata": {},
   "outputs": [],
   "source": [
    "y_pred_nb = final_nb_model.predict(X_test)"
   ]
  },
  {
   "cell_type": "code",
   "execution_count": 17,
   "id": "5dff63de-a187-486b-bb3c-addf67efe05b",
   "metadata": {},
   "outputs": [
    {
     "name": "stdout",
     "output_type": "stream",
     "text": [
      "The accuracy of this inference is: 0.8796414852752881\n",
      "The precision of this inference is: 0.9066666666666666\n",
      "The specificty of this inference is: 0.9083769633507853\n",
      "The recall of this inference is: 0.8521303258145363\n",
      "The f1 score for this inference is: 0.8785529715762274\n"
     ]
    },
    {
     "data": {
      "image/png": "[encoded data removed]",
      "text/plain": [
       "<Figure size 640x480 with 2 Axes>"
      ]
     },
     "metadata": {},
     "output_type": "display_data"
    }
   ],
   "source": [
    "print_confusion_matrix(y_test, y_pred_nb)\n",
    "metrics_for_model(y_test, y_pred_nb);"
   ]
  },
  {
   "cell_type": "code",
   "execution_count": 18,
   "id": "f1a5f2e0-3c55-4924-bffd-d47addef6e64",
   "metadata": {
    "tags": []
   },
   "outputs": [
    {
     "data": {
      "text/html": [
       "<div>\n",
       "<style scoped>\n",
       "    .dataframe tbody tr th:only-of-type {\n",
       "        vertical-align: middle;\n",
       "    }\n",
       "\n",
       "    .dataframe tbody tr th {\n",
       "        vertical-align: top;\n",
       "    }\n",
       "\n",
       "    .dataframe thead th {\n",
       "        text-align: right;\n",
       "    }\n",
       "</style>\n",
       "<table border=\"1\" class=\"dataframe\">\n",
       "  <thead>\n",
       "    <tr style=\"text-align: right;\">\n",
       "      <th></th>\n",
       "      <th>title</th>\n",
       "      <th>label</th>\n",
       "      <th>y_pred_nb</th>\n",
       "    </tr>\n",
       "  </thead>\n",
       "  <tbody>\n",
       "    <tr>\n",
       "      <th>4</th>\n",
       "      <td>It’s weird how Sakurai is the only “employee” ...</td>\n",
       "      <td>1</td>\n",
       "      <td>0</td>\n",
       "    </tr>\n",
       "    <tr>\n",
       "      <th>34</th>\n",
       "      <td>PSA: If you're having issues with your Switch ...</td>\n",
       "      <td>1</td>\n",
       "      <td>0</td>\n",
       "    </tr>\n",
       "    <tr>\n",
       "      <th>41</th>\n",
       "      <td>WARNING DON'T Upload photos on nintendo live chat</td>\n",
       "      <td>1</td>\n",
       "      <td>0</td>\n",
       "    </tr>\n",
       "    <tr>\n",
       "      <th>53</th>\n",
       "      <td>Every Issue of Nintendo Power uploaded to arch...</td>\n",
       "      <td>1</td>\n",
       "      <td>0</td>\n",
       "    </tr>\n",
       "    <tr>\n",
       "      <th>60</th>\n",
       "      <td>Theogony of Hyrule: The Tale of the Goddess Hy...</td>\n",
       "      <td>1</td>\n",
       "      <td>0</td>\n",
       "    </tr>\n",
       "    <tr>\n",
       "      <th>...</th>\n",
       "      <td>...</td>\n",
       "      <td>...</td>\n",
       "      <td>...</td>\n",
       "    </tr>\n",
       "    <tr>\n",
       "      <th>746</th>\n",
       "      <td>Next EU Splatfest: Should the toilet roll hang...</td>\n",
       "      <td>1</td>\n",
       "      <td>0</td>\n",
       "    </tr>\n",
       "    <tr>\n",
       "      <th>747</th>\n",
       "      <td>Tis the season on the Starfall Islands. You ca...</td>\n",
       "      <td>1</td>\n",
       "      <td>0</td>\n",
       "    </tr>\n",
       "    <tr>\n",
       "      <th>749</th>\n",
       "      <td>As a kid, Nintendo helped me earn my Bear Badge.</td>\n",
       "      <td>1</td>\n",
       "      <td>0</td>\n",
       "    </tr>\n",
       "    <tr>\n",
       "      <th>766</th>\n",
       "      <td>Galar Region is based off the UK. Victorian-es...</td>\n",
       "      <td>1</td>\n",
       "      <td>0</td>\n",
       "    </tr>\n",
       "    <tr>\n",
       "      <th>769</th>\n",
       "      <td>Japan Is More Excited About Nintendo Labo Than...</td>\n",
       "      <td>1</td>\n",
       "      <td>0</td>\n",
       "    </tr>\n",
       "  </tbody>\n",
       "</table>\n",
       "<p>94 rows × 3 columns</p>\n",
       "</div>"
      ],
      "text/plain": [
       "                                                 title  label  y_pred_nb\n",
       "4    It’s weird how Sakurai is the only “employee” ...      1          0\n",
       "34   PSA: If you're having issues with your Switch ...      1          0\n",
       "41   WARNING DON'T Upload photos on nintendo live chat      1          0\n",
       "53   Every Issue of Nintendo Power uploaded to arch...      1          0\n",
       "60   Theogony of Hyrule: The Tale of the Goddess Hy...      1          0\n",
       "..                                                 ...    ...        ...\n",
       "746  Next EU Splatfest: Should the toilet roll hang...      1          0\n",
       "747  Tis the season on the Starfall Islands. You ca...      1          0\n",
       "749   As a kid, Nintendo helped me earn my Bear Badge.      1          0\n",
       "766  Galar Region is based off the UK. Victorian-es...      1          0\n",
       "769  Japan Is More Excited About Nintendo Labo Than...      1          0\n",
       "\n",
       "[94 rows x 3 columns]"
      ]
     },
     "execution_count": 18,
     "metadata": {},
     "output_type": "execute_result"
    }
   ],
   "source": [
    "df_comb = pd.concat([X_test, y_test, pd.DataFrame(y_pred_nb, columns=['y_pred_nb'])], axis=1)\n",
    "df_comb.loc[df_comb['label'] != df_comb['y_pred_nb']]"
   ]
  },
  {
   "cell_type": "code",
   "execution_count": 19,
   "id": "ddf59af0-a98c-4ec1-98e0-35cd25823ed2",
   "metadata": {},
   "outputs": [
    {
     "name": "stdout",
     "output_type": "stream",
     "text": [
      "The accuracy of this inference is: 0.8860435339308579\n",
      "The precision of this inference is: 0.9078947368421053\n",
      "The specificty of this inference is: 0.9083769633507853\n",
      "The recall of this inference is: 0.8646616541353384\n",
      "The f1 score for this inference is: 0.8857509627727858\n"
     ]
    },
    {
     "data": {
      "image/png": "[encoded data removed]",
      "text/plain": [
       "<Figure size 640x480 with 2 Axes>"
      ]
     },
     "metadata": {},
     "output_type": "display_data"
    }
   ],
   "source": [
    "# compare it with my prelim model without the removal of key words\n",
    "prelim_nb_model = joblib.load('../model/prelim_model.joblib')\n",
    "y_pred_prelim_nb = prelim_nb_model.predict(X_test)\n",
    "print_confusion_matrix(y_test, y_pred_prelim_nb)\n",
    "metrics_for_model(y_test, y_pred_prelim_nb);"
   ]
  },
  {
   "cell_type": "code",
   "execution_count": 20,
   "id": "1ed38b65-5b6b-4463-8511-d4ce4c50a74f",
   "metadata": {},
   "outputs": [
    {
     "data": {
      "text/html": [
       "<div>\n",
       "<style scoped>\n",
       "    .dataframe tbody tr th:only-of-type {\n",
       "        vertical-align: middle;\n",
       "    }\n",
       "\n",
       "    .dataframe tbody tr th {\n",
       "        vertical-align: top;\n",
       "    }\n",
       "\n",
       "    .dataframe thead th {\n",
       "        text-align: right;\n",
       "    }\n",
       "</style>\n",
       "<table border=\"1\" class=\"dataframe\">\n",
       "  <thead>\n",
       "    <tr style=\"text-align: right;\">\n",
       "      <th></th>\n",
       "      <th>title</th>\n",
       "      <th>label</th>\n",
       "      <th>y_pred_nb</th>\n",
       "      <th>y_prelim_nb</th>\n",
       "    </tr>\n",
       "  </thead>\n",
       "  <tbody>\n",
       "    <tr>\n",
       "      <th>4</th>\n",
       "      <td>It’s weird how Sakurai is the only “employee” ...</td>\n",
       "      <td>1</td>\n",
       "      <td>0</td>\n",
       "      <td>0</td>\n",
       "    </tr>\n",
       "    <tr>\n",
       "      <th>7</th>\n",
       "      <td>Spider Man trailer with 90s theme</td>\n",
       "      <td>0</td>\n",
       "      <td>0</td>\n",
       "      <td>1</td>\n",
       "    </tr>\n",
       "    <tr>\n",
       "      <th>52</th>\n",
       "      <td>If Nintendo could give you one \"gift,\" as in a...</td>\n",
       "      <td>1</td>\n",
       "      <td>1</td>\n",
       "      <td>0</td>\n",
       "    </tr>\n",
       "    <tr>\n",
       "      <th>53</th>\n",
       "      <td>Every Issue of Nintendo Power uploaded to arch...</td>\n",
       "      <td>1</td>\n",
       "      <td>0</td>\n",
       "      <td>0</td>\n",
       "    </tr>\n",
       "    <tr>\n",
       "      <th>54</th>\n",
       "      <td>PSA for those looking at the legend of dragoon...</td>\n",
       "      <td>0</td>\n",
       "      <td>0</td>\n",
       "      <td>1</td>\n",
       "    </tr>\n",
       "    <tr>\n",
       "      <th>...</th>\n",
       "      <td>...</td>\n",
       "      <td>...</td>\n",
       "      <td>...</td>\n",
       "      <td>...</td>\n",
       "    </tr>\n",
       "    <tr>\n",
       "      <th>747</th>\n",
       "      <td>Tis the season on the Starfall Islands. You ca...</td>\n",
       "      <td>1</td>\n",
       "      <td>0</td>\n",
       "      <td>0</td>\n",
       "    </tr>\n",
       "    <tr>\n",
       "      <th>748</th>\n",
       "      <td>Nintendo's next console will lean towards stre...</td>\n",
       "      <td>1</td>\n",
       "      <td>1</td>\n",
       "      <td>0</td>\n",
       "    </tr>\n",
       "    <tr>\n",
       "      <th>749</th>\n",
       "      <td>As a kid, Nintendo helped me earn my Bear Badge.</td>\n",
       "      <td>1</td>\n",
       "      <td>0</td>\n",
       "      <td>0</td>\n",
       "    </tr>\n",
       "    <tr>\n",
       "      <th>762</th>\n",
       "      <td>You can't convert replays to video unless you ...</td>\n",
       "      <td>1</td>\n",
       "      <td>1</td>\n",
       "      <td>0</td>\n",
       "    </tr>\n",
       "    <tr>\n",
       "      <th>769</th>\n",
       "      <td>Japan Is More Excited About Nintendo Labo Than...</td>\n",
       "      <td>1</td>\n",
       "      <td>0</td>\n",
       "      <td>0</td>\n",
       "    </tr>\n",
       "  </tbody>\n",
       "</table>\n",
       "<p>89 rows × 4 columns</p>\n",
       "</div>"
      ],
      "text/plain": [
       "                                                 title  label  y_pred_nb  \\\n",
       "4    It’s weird how Sakurai is the only “employee” ...      1          0   \n",
       "7                    Spider Man trailer with 90s theme      0          0   \n",
       "52   If Nintendo could give you one \"gift,\" as in a...      1          1   \n",
       "53   Every Issue of Nintendo Power uploaded to arch...      1          0   \n",
       "54   PSA for those looking at the legend of dragoon...      0          0   \n",
       "..                                                 ...    ...        ...   \n",
       "747  Tis the season on the Starfall Islands. You ca...      1          0   \n",
       "748  Nintendo's next console will lean towards stre...      1          1   \n",
       "749   As a kid, Nintendo helped me earn my Bear Badge.      1          0   \n",
       "762  You can't convert replays to video unless you ...      1          1   \n",
       "769  Japan Is More Excited About Nintendo Labo Than...      1          0   \n",
       "\n",
       "     y_prelim_nb  \n",
       "4              0  \n",
       "7              1  \n",
       "52             0  \n",
       "53             0  \n",
       "54             1  \n",
       "..           ...  \n",
       "747            0  \n",
       "748            0  \n",
       "749            0  \n",
       "762            0  \n",
       "769            0  \n",
       "\n",
       "[89 rows x 4 columns]"
      ]
     },
     "execution_count": 20,
     "metadata": {},
     "output_type": "execute_result"
    }
   ],
   "source": [
    "df_comb = pd.concat([df_comb, pd.DataFrame(y_pred_prelim_nb, columns=['y_prelim_nb'])], axis=1)\n",
    "df_comb.loc[df_comb['label'] != df_comb['y_prelim_nb']]"
   ]
  },
  {
   "cell_type": "markdown",
   "id": "fc86302f-3c23-464e-9f79-a14f2bff428d",
   "metadata": {},
   "source": [
    "Unfortunately, the performance is very slightly worse than my preliminary model with key give away words removed.    \n",
    "Comparing my model in EDA notebook with removal of the stop words, this current 'final' model have a slightly lower `true positive` count, and a slightly `higher flase negative`.  \n",
    "\n",
    "---\n",
    "What this means is that my combination of stemming and lemmatization and N-grams makes no major improvement to the model.  \n",
    "If fact, they might have tightened the 'bound' the model used to determine a post title as `true positive`.  \n",
    "It is more difficult to be passsed as a title from `ninetendo` post.   \n",
    "This is very likely due to the inclusion of stemming and lemmatization.  \n",
    "Stemming is a more aggressive technique where words are truncated to their root form, whereas lemmatization is a more precise technique that considers the context of the word and reduces it to its base form.\n",
    "Combining both techniques, I am reducing the size of the vocabulary, and hoping it will increase the accuracy of the model.   \n",
    "However, in this case it did not achieve what I hope it can achieve.  \n",
    "This could be due to stemming removing too much of a word.  \n",
    "Let me do an experiment to confirm a few things:\n",
    "1. it is becasue of stemming and lemmatization.\n",
    "2. it is mainly due to stemming. \n",
    "3. TFIDF using N-grams does not impact this use case much."
   ]
  },
  {
   "cell_type": "code",
   "execution_count": 21,
   "id": "626c0cc9-910f-44b5-90ff-534f0b4af9b9",
   "metadata": {},
   "outputs": [],
   "source": [
    "# Build a pipeline without the stemming and lemmatization.\n",
    "final_nb_pipeline_2 = Pipeline([\n",
    "    # ('stem_lemmatize', StemLemmatizeTransformer()),\n",
    "    ('tfidf', TfidfVectorizer(min_df=5, ngram_range=(1,3), stop_words=my_stop_words)),\n",
    "    ('clf', MultinomialNB()),\n",
    "])"
   ]
  },
  {
   "cell_type": "code",
   "execution_count": 22,
   "id": "f62f31d1-5c09-4913-8c33-be7210e4ac19",
   "metadata": {},
   "outputs": [
    {
     "name": "stdout",
     "output_type": "stream",
     "text": [
      "The accuracy of this inference is: 0.8886043533930857\n",
      "The precision of this inference is: 0.9216216216216216\n",
      "The specificty of this inference is: 0.9240837696335078\n",
      "The recall of this inference is: 0.8546365914786967\n",
      "The f1 score for this inference is: 0.8868660598179453\n"
     ]
    },
    {
     "data": {
      "image/png": "[encoded data removed]",
      "text/plain": [
       "<Figure size 640x480 with 2 Axes>"
      ]
     },
     "metadata": {},
     "output_type": "display_data"
    }
   ],
   "source": [
    "final_nb_pipeline_2.fit(X_train, y_train)\n",
    "y_pred_nb_2 = final_nb_pipeline_2.predict(X_test)\n",
    "print_confusion_matrix(y_test, y_pred_nb_2)\n",
    "metrics_for_model(y_test, y_pred_nb_2);"
   ]
  },
  {
   "cell_type": "markdown",
   "id": "b9322b3f-7885-4f77-abe2-d46e4453a891",
   "metadata": {},
   "source": [
    "Yes! As I have hypothesised, the stemming and lemmatization actually decreased the performance of the model.  \n",
    "How the above model is different from my EDA model is that, this model uses n-grams.  \n",
    "N-grams takes N words/ tokens in a document and use them as feature.   \n",
    "N-grams during the tokenisation process helps to retain some information on the context of the words.  \n",
    "Indeed, with n-grams the `true nrgatives` have a better performance as the `false positive` decreases.   \n",
    "However, the performance improvement is not too much.   \n",
    "This also serve as a proof to my third hypothesis, inclusion of n-grams, or at least up to trigram, doesn't drastically increase the performance of the model in this case.   \n",
    "Also, if I decrease the minimum document frequency `min_df`, it will result in a better performance in this case.  \n",
    "However, since I still want to keep my model more generalised, I feel that a small drop in performance is reasonable.  \n",
    "In my context, the common words are not very frequent.  \n",
    "Unique words are also rare...  \n",
    "Therefore, I am still keeping `min_df = 5`."
   ]
  },
  {
   "cell_type": "code",
   "execution_count": 23,
   "id": "f53c1eee-9ac6-46a3-9e0b-2557ad505659",
   "metadata": {},
   "outputs": [
    {
     "data": {
      "text/html": [
       "<div>\n",
       "<style scoped>\n",
       "    .dataframe tbody tr th:only-of-type {\n",
       "        vertical-align: middle;\n",
       "    }\n",
       "\n",
       "    .dataframe tbody tr th {\n",
       "        vertical-align: top;\n",
       "    }\n",
       "\n",
       "    .dataframe thead th {\n",
       "        text-align: right;\n",
       "    }\n",
       "</style>\n",
       "<table border=\"1\" class=\"dataframe\">\n",
       "  <thead>\n",
       "    <tr style=\"text-align: right;\">\n",
       "      <th></th>\n",
       "      <th>title</th>\n",
       "      <th>label</th>\n",
       "      <th>y_pred_nb</th>\n",
       "      <th>y_prelim_nb</th>\n",
       "      <th>y_pred_nb_2</th>\n",
       "    </tr>\n",
       "  </thead>\n",
       "  <tbody>\n",
       "    <tr>\n",
       "      <th>4</th>\n",
       "      <td>It’s weird how Sakurai is the only “employee” ...</td>\n",
       "      <td>1</td>\n",
       "      <td>0</td>\n",
       "      <td>0</td>\n",
       "      <td>0</td>\n",
       "    </tr>\n",
       "    <tr>\n",
       "      <th>53</th>\n",
       "      <td>Every Issue of Nintendo Power uploaded to arch...</td>\n",
       "      <td>1</td>\n",
       "      <td>0</td>\n",
       "      <td>0</td>\n",
       "      <td>0</td>\n",
       "    </tr>\n",
       "    <tr>\n",
       "      <th>69</th>\n",
       "      <td>You can buy a brand new sealed copy of LarryBo...</td>\n",
       "      <td>1</td>\n",
       "      <td>0</td>\n",
       "      <td>0</td>\n",
       "      <td>0</td>\n",
       "    </tr>\n",
       "    <tr>\n",
       "      <th>77</th>\n",
       "      <td>How simple texture compression can start a 20-...</td>\n",
       "      <td>1</td>\n",
       "      <td>0</td>\n",
       "      <td>0</td>\n",
       "      <td>0</td>\n",
       "    </tr>\n",
       "    <tr>\n",
       "      <th>79</th>\n",
       "      <td>Been online friends since Destiny launch in 20...</td>\n",
       "      <td>0</td>\n",
       "      <td>1</td>\n",
       "      <td>1</td>\n",
       "      <td>1</td>\n",
       "    </tr>\n",
       "    <tr>\n",
       "      <th>...</th>\n",
       "      <td>...</td>\n",
       "      <td>...</td>\n",
       "      <td>...</td>\n",
       "      <td>...</td>\n",
       "      <td>...</td>\n",
       "    </tr>\n",
       "    <tr>\n",
       "      <th>747</th>\n",
       "      <td>Tis the season on the Starfall Islands. You ca...</td>\n",
       "      <td>1</td>\n",
       "      <td>0</td>\n",
       "      <td>0</td>\n",
       "      <td>0</td>\n",
       "    </tr>\n",
       "    <tr>\n",
       "      <th>748</th>\n",
       "      <td>Nintendo's next console will lean towards stre...</td>\n",
       "      <td>1</td>\n",
       "      <td>1</td>\n",
       "      <td>0</td>\n",
       "      <td>0</td>\n",
       "    </tr>\n",
       "    <tr>\n",
       "      <th>749</th>\n",
       "      <td>As a kid, Nintendo helped me earn my Bear Badge.</td>\n",
       "      <td>1</td>\n",
       "      <td>0</td>\n",
       "      <td>0</td>\n",
       "      <td>0</td>\n",
       "    </tr>\n",
       "    <tr>\n",
       "      <th>762</th>\n",
       "      <td>You can't convert replays to video unless you ...</td>\n",
       "      <td>1</td>\n",
       "      <td>1</td>\n",
       "      <td>0</td>\n",
       "      <td>0</td>\n",
       "    </tr>\n",
       "    <tr>\n",
       "      <th>769</th>\n",
       "      <td>Japan Is More Excited About Nintendo Labo Than...</td>\n",
       "      <td>1</td>\n",
       "      <td>0</td>\n",
       "      <td>0</td>\n",
       "      <td>0</td>\n",
       "    </tr>\n",
       "  </tbody>\n",
       "</table>\n",
       "<p>87 rows × 5 columns</p>\n",
       "</div>"
      ],
      "text/plain": [
       "                                                 title  label  y_pred_nb  \\\n",
       "4    It’s weird how Sakurai is the only “employee” ...      1          0   \n",
       "53   Every Issue of Nintendo Power uploaded to arch...      1          0   \n",
       "69   You can buy a brand new sealed copy of LarryBo...      1          0   \n",
       "77   How simple texture compression can start a 20-...      1          0   \n",
       "79   Been online friends since Destiny launch in 20...      0          1   \n",
       "..                                                 ...    ...        ...   \n",
       "747  Tis the season on the Starfall Islands. You ca...      1          0   \n",
       "748  Nintendo's next console will lean towards stre...      1          1   \n",
       "749   As a kid, Nintendo helped me earn my Bear Badge.      1          0   \n",
       "762  You can't convert replays to video unless you ...      1          1   \n",
       "769  Japan Is More Excited About Nintendo Labo Than...      1          0   \n",
       "\n",
       "     y_prelim_nb  y_pred_nb_2  \n",
       "4              0            0  \n",
       "53             0            0  \n",
       "69             0            0  \n",
       "77             0            0  \n",
       "79             1            1  \n",
       "..           ...          ...  \n",
       "747            0            0  \n",
       "748            0            0  \n",
       "749            0            0  \n",
       "762            0            0  \n",
       "769            0            0  \n",
       "\n",
       "[87 rows x 5 columns]"
      ]
     },
     "execution_count": 23,
     "metadata": {},
     "output_type": "execute_result"
    }
   ],
   "source": [
    "df_comb = pd.concat([df_comb, pd.DataFrame(y_pred_nb_2, columns=['y_pred_nb_2'])], axis=1)\n",
    "df_comb.loc[df_comb['label'] != df_comb['y_pred_nb_2']]"
   ]
  },
  {
   "cell_type": "markdown",
   "id": "1dbd72e8-8397-4054-9f65-26573b2a8f3a",
   "metadata": {},
   "source": [
    "Just by looking at the results of what went wrong, some very consistent mistakes can be found here.  \n",
    "Like theese lines:   \n",
    "`It’s weird how Sakurai is the only “employee” ...`,   \n",
    "`Adding a search by publisher/maker`,   \n",
    "`Do you think the Xenoblade Chronicles games wo...`  \n",
    "These are the sentences that may not be covered by the traning set.    \n",
    "I can try to keep updating my dataset.  \n"
   ]
  },
  {
   "cell_type": "markdown",
   "id": "c0cd0c4d-1286-4a54-906c-083b91b5640a",
   "metadata": {},
   "source": [
    "---\n",
    "Now, time to check my 2nd hypothesis.   \n",
    "Check is the problem due to stemming or lemmatization.  \n",
    "That process is a bit mundane (edititng the 3 parts that forms my StemLemmatizeTransformer class) and I shall skip the process here.   \n",
    "Let me just get stright to the results.  \n",
    "I have tried 4 things in total for this part.  \n",
    "1. No breaking down weblink.\n",
    "2. No stemming.\n",
    "3. No lemmatization.\n",
    "4. No stemming and lemmatization.  \n",
    "Here are the results.   \n",
    "\n",
    "### No breaking web links\n",
    "<img src='../img/remove_link_stripe.png' width=\"400\" height=\"400\"></img>\n",
    "### No stemming\n",
    "<img src='../img/no_stem.png' width=\"400\" height=\"400\"></img>\n",
    "### No lemmatization\n",
    "<img src='../img/no_lemma.png' width=\"400\" height=\"400\"></img>\n",
    "### No stemming & lemmatization\n",
    "<img src='../img/no_stem_n_lemma.png' width=\"400\" height=\"400\"></img>"
   ]
  },
  {
   "cell_type": "markdown",
   "id": "dd94c6ac-7395-4ff5-ac5b-ea1d057d1408",
   "metadata": {},
   "source": [
    "Now, it should be obvious that both stemming and lemmatizition helpped to generalise the model...  \n",
    "At the cost of a few `True Negatives`.  \n",
    "Breaking the weblink or not, doesn't really matter.  \n",
    "This could be because I dont have weblink in my test data?  \n",
    "Anyways, via the experiments I have done, it doesn't really matter.  \n",
    "Therefore, the final Multinominal Naive Bayes model/ pipeline I will use is my `final_nb_pipeline_2`.  \n",
    "By having minmum document frequency of 5, and using n-grams from 1 to 3, I am able to achieve a relatively light weight, yet accurate model with good performance.  "
   ]
  },
  {
   "cell_type": "code",
   "execution_count": 24,
   "id": "1da3f34a-2fe9-4a79-9292-560803f2d517",
   "metadata": {},
   "outputs": [
    {
     "name": "stdout",
     "output_type": "stream",
     "text": [
      "The accuracy of this inference is: 0.9285943003522255\n",
      "The precision of this inference is: 0.9621428571428572\n",
      "The specificty of this inference is: 0.9669987546699875\n",
      "The recall of this inference is: 0.8879367172050099\n",
      "The f1 score for this inference is: 0.923551594103531\n"
     ]
    },
    {
     "data": {
      "image/png": "[encoded data removed]",
      "text/plain": [
       "<Figure size 640x480 with 2 Axes>"
      ]
     },
     "metadata": {},
     "output_type": "display_data"
    }
   ],
   "source": [
    "y_pred_nb_train = final_nb_pipeline_2.predict(X_train)\n",
    "print_confusion_matrix(y_train, y_pred_nb_train)\n",
    "metrics_for_model(y_train, y_pred_nb_train);"
   ]
  },
  {
   "cell_type": "markdown",
   "id": "a14a50fa-69f0-4bff-a6aa-69eefc0679fd",
   "metadata": {},
   "source": [
    "Also, looking at the predictions on the training set, and comparing it against the predictions on the testing set, the percentage of true positive is quite similar.  \n",
    "All other metrics are slightly higher for the training data set.  \n",
    "However, it is only slightly higher, at about 0.04, comparing training and test.  \n",
    "This means that while the fitted model is slightly over fitted, it is still quite reasonable. \n",
    "\n",
    "---\n",
    "Since my goal is to accurately predict the origin of my post title, the selected pipeline, `final_nb_pipeline_2`, offering a f1-score of 0.8886, is suitable for this job.  \n",
    "Reason is that it is a good model with good f1 score and doesn't seem too over fitted."
   ]
  },
  {
   "cell_type": "markdown",
   "id": "7ae5fd92-1736-458a-b4b1-afb0c7d82bd2",
   "metadata": {},
   "source": [
    "## Logistic Regression"
   ]
  },
  {
   "cell_type": "markdown",
   "id": "c96e28ee-76fd-4268-8d4a-86bfb5a9105a",
   "metadata": {},
   "source": [
    "Logistic Regression is a linear model.  \n",
    "It is simple, but very powerful.  \n",
    "Although the actual logit values may not make sense, but it is a good predictor.   \n",
    "It is also very explainable, similar to other forms of linear regression models.   \n",
    "The formulation for logistic regression is as follows:  \n",
    "P(y=1|X) = 1 / (1 + exp(-(β0 + β1X1 + β2X2 + ... + βkXk)))  \n",
    "Where:\n",
    "\n",
    "- P(y=1|X) is the probability of the outcome variable (y) being equal to 1, given the predictor variables (X)   \n",
    "- β0, β1, β2, ..., βk are the coefficients of the model, representing the effect of each predictor variable on the log odds of the outcome variable   \n",
    "- X1, X2, ..., Xk are the values of the predictor variables   \n",
    "\n",
    "To interpret the coefficients of the logistic regression model, we can look at their exponentiated values, known as odds ratios.   \n",
    "The odds ratio represents the change in the odds of the outcome variable for a one-unit increase in the predictor variable, holding all other predictor variables constant.  \n",
    "For example, if the coefficient of a predictor variable is 0.5, the odds ratio would be exp(0.5) = 1.65.   \n",
    "This means that for a one-unit increase in the predictor variable, the odds of the outcome variable increase by a factor of 1.65, holding all other predictor variables constant.    \n",
    "If the odds ratio is greater than 1, the predictor variable has a positive effect on the outcome variable.    \n",
    "If the odds ratio is less than 1, the predictor variable has a negative effect on the outcome variable.    \n",
    "If the odds ratio is equal to 1, the predictor variable has no effect on the outcome variable.   "
   ]
  },
  {
   "cell_type": "code",
   "execution_count": 25,
   "id": "033ea8c6-d6e6-47fb-8794-ce75b6dc58c9",
   "metadata": {},
   "outputs": [],
   "source": [
    "log_pipeline = Pipeline([\n",
    "    ('tfidf', TfidfVectorizer(min_df=5, ngram_range=(1,3), stop_words=my_stop_words)),\n",
    "    ('logistic', LogisticRegression()),\n",
    "])"
   ]
  },
  {
   "cell_type": "code",
   "execution_count": 26,
   "id": "338cef8c-8db3-4f09-8bdd-87d9c2133c0c",
   "metadata": {},
   "outputs": [
    {
     "data": {
      "text/html": [
       "<style>#sk-container-id-1 {color: black;background-color: white;}#sk-container-id-1 pre{padding: 0;}#sk-container-id-1 div.sk-toggleable {background-color: white;}#sk-container-id-1 label.sk-toggleable__label {cursor: pointer;display: block;width: 100%;margin-bottom: 0;padding: 0.3em;box-sizing: border-box;text-align: center;}#sk-container-id-1 label.sk-toggleable__label-arrow:before {content: \"▸\";float: left;margin-right: 0.25em;color: #696969;}#sk-container-id-1 label.sk-toggleable__label-arrow:hover:before {color: black;}#sk-container-id-1 div.sk-estimator:hover label.sk-toggleable__label-arrow:before {color: black;}#sk-container-id-1 div.sk-toggleable__content {max-height: 0;max-width: 0;overflow: hidden;text-align: left;background-color: #f0f8ff;}#sk-container-id-1 div.sk-toggleable__content pre {margin: 0.2em;color: black;border-radius: 0.25em;background-color: #f0f8ff;}#sk-container-id-1 input.sk-toggleable__control:checked~div.sk-toggleable__content {max-height: 200px;max-width: 100%;overflow: auto;}#sk-container-id-1 input.sk-toggleable__control:checked~label.sk-toggleable__label-arrow:before {content: \"▾\";}#sk-container-id-1 div.sk-estimator input.sk-toggleable__control:checked~label.sk-toggleable__label {background-color: #d4ebff;}#sk-container-id-1 div.sk-label input.sk-toggleable__control:checked~label.sk-toggleable__label {background-color: #d4ebff;}#sk-container-id-1 input.sk-hidden--visually {border: 0;clip: rect(1px 1px 1px 1px);clip: rect(1px, 1px, 1px, 1px);height: 1px;margin: -1px;overflow: hidden;padding: 0;position: absolute;width: 1px;}#sk-container-id-1 div.sk-estimator {font-family: monospace;background-color: #f0f8ff;border: 1px dotted black;border-radius: 0.25em;box-sizing: border-box;margin-bottom: 0.5em;}#sk-container-id-1 div.sk-estimator:hover {background-color: #d4ebff;}#sk-container-id-1 div.sk-parallel-item::after {content: \"\";width: 100%;border-bottom: 1px solid gray;flex-grow: 1;}#sk-container-id-1 div.sk-label:hover label.sk-toggleable__label {background-color: #d4ebff;}#sk-container-id-1 div.sk-serial::before {content: \"\";position: absolute;border-left: 1px solid gray;box-sizing: border-box;top: 0;bottom: 0;left: 50%;z-index: 0;}#sk-container-id-1 div.sk-serial {display: flex;flex-direction: column;align-items: center;background-color: white;padding-right: 0.2em;padding-left: 0.2em;position: relative;}#sk-container-id-1 div.sk-item {position: relative;z-index: 1;}#sk-container-id-1 div.sk-parallel {display: flex;align-items: stretch;justify-content: center;background-color: white;position: relative;}#sk-container-id-1 div.sk-item::before, #sk-container-id-1 div.sk-parallel-item::before {content: \"\";position: absolute;border-left: 1px solid gray;box-sizing: border-box;top: 0;bottom: 0;left: 50%;z-index: -1;}#sk-container-id-1 div.sk-parallel-item {display: flex;flex-direction: column;z-index: 1;position: relative;background-color: white;}#sk-container-id-1 div.sk-parallel-item:first-child::after {align-self: flex-end;width: 50%;}#sk-container-id-1 div.sk-parallel-item:last-child::after {align-self: flex-start;width: 50%;}#sk-container-id-1 div.sk-parallel-item:only-child::after {width: 0;}#sk-container-id-1 div.sk-dashed-wrapped {border: 1px dashed gray;margin: 0 0.4em 0.5em 0.4em;box-sizing: border-box;padding-bottom: 0.4em;background-color: white;}#sk-container-id-1 div.sk-label label {font-family: monospace;font-weight: bold;display: inline-block;line-height: 1.2em;}#sk-container-id-1 div.sk-label-container {text-align: center;}#sk-container-id-1 div.sk-container {/* jupyter's `normalize.less` sets `[hidden] { display: none; }` but bootstrap.min.css set `[hidden] { display: none !important; }` so we also need the `!important` here to be able to override the default hidden behavior on the sphinx rendered scikit-learn.org. See: https://github.com/scikit-learn/scikit-learn/issues/21755 */display: inline-block !important;position: relative;}#sk-container-id-1 div.sk-text-repr-fallback {display: none;}</style><div id=\"sk-container-id-1\" class=\"sk-top-container\"><div class=\"sk-text-repr-fallback\"><pre>Pipeline(steps=[(&#x27;tfidf&#x27;,\n",
       "                 TfidfVectorizer(min_df=5, ngram_range=(1, 3),\n",
       "                                 stop_words={&#x27;a&#x27;, &#x27;about&#x27;, &#x27;above&#x27;, &#x27;across&#x27;,\n",
       "                                             &#x27;after&#x27;, &#x27;afterwards&#x27;, &#x27;again&#x27;,\n",
       "                                             &#x27;against&#x27;, &#x27;ain&#x27;, &#x27;all&#x27;, &#x27;almost&#x27;,\n",
       "                                             &#x27;alone&#x27;, &#x27;along&#x27;, &#x27;already&#x27;,\n",
       "                                             &#x27;also&#x27;, &#x27;although&#x27;, &#x27;always&#x27;, &#x27;am&#x27;,\n",
       "                                             &#x27;among&#x27;, &#x27;amongst&#x27;, &#x27;amoungst&#x27;,\n",
       "                                             &#x27;amount&#x27;, &#x27;an&#x27;, &#x27;and&#x27;, &#x27;another&#x27;,\n",
       "                                             &#x27;any&#x27;, &#x27;anyhow&#x27;, &#x27;anyone&#x27;,\n",
       "                                             &#x27;anything&#x27;, &#x27;anyway&#x27;, ...})),\n",
       "                (&#x27;logistic&#x27;, LogisticRegression())])</pre><b>In a Jupyter environment, please rerun this cell to show the HTML representation or trust the notebook. <br />On GitHub, the HTML representation is unable to render, please try loading this page with nbviewer.org.</b></div><div class=\"sk-container\" hidden><div class=\"sk-item sk-dashed-wrapped\"><div class=\"sk-label-container\"><div class=\"sk-label sk-toggleable\"><input class=\"sk-toggleable__control sk-hidden--visually\" id=\"sk-estimator-id-1\" type=\"checkbox\" ><label for=\"sk-estimator-id-1\" class=\"sk-toggleable__label sk-toggleable__label-arrow\">Pipeline</label><div class=\"sk-toggleable__content\"><pre>Pipeline(steps=[(&#x27;tfidf&#x27;,\n",
       "                 TfidfVectorizer(min_df=5, ngram_range=(1, 3),\n",
       "                                 stop_words={&#x27;a&#x27;, &#x27;about&#x27;, &#x27;above&#x27;, &#x27;across&#x27;,\n",
       "                                             &#x27;after&#x27;, &#x27;afterwards&#x27;, &#x27;again&#x27;,\n",
       "                                             &#x27;against&#x27;, &#x27;ain&#x27;, &#x27;all&#x27;, &#x27;almost&#x27;,\n",
       "                                             &#x27;alone&#x27;, &#x27;along&#x27;, &#x27;already&#x27;,\n",
       "                                             &#x27;also&#x27;, &#x27;although&#x27;, &#x27;always&#x27;, &#x27;am&#x27;,\n",
       "                                             &#x27;among&#x27;, &#x27;amongst&#x27;, &#x27;amoungst&#x27;,\n",
       "                                             &#x27;amount&#x27;, &#x27;an&#x27;, &#x27;and&#x27;, &#x27;another&#x27;,\n",
       "                                             &#x27;any&#x27;, &#x27;anyhow&#x27;, &#x27;anyone&#x27;,\n",
       "                                             &#x27;anything&#x27;, &#x27;anyway&#x27;, ...})),\n",
       "                (&#x27;logistic&#x27;, LogisticRegression())])</pre></div></div></div><div class=\"sk-serial\"><div class=\"sk-item\"><div class=\"sk-estimator sk-toggleable\"><input class=\"sk-toggleable__control sk-hidden--visually\" id=\"sk-estimator-id-2\" type=\"checkbox\" ><label for=\"sk-estimator-id-2\" class=\"sk-toggleable__label sk-toggleable__label-arrow\">TfidfVectorizer</label><div class=\"sk-toggleable__content\"><pre>TfidfVectorizer(min_df=5, ngram_range=(1, 3),\n",
       "                stop_words={&#x27;a&#x27;, &#x27;about&#x27;, &#x27;above&#x27;, &#x27;across&#x27;, &#x27;after&#x27;,\n",
       "                            &#x27;afterwards&#x27;, &#x27;again&#x27;, &#x27;against&#x27;, &#x27;ain&#x27;, &#x27;all&#x27;,\n",
       "                            &#x27;almost&#x27;, &#x27;alone&#x27;, &#x27;along&#x27;, &#x27;already&#x27;, &#x27;also&#x27;,\n",
       "                            &#x27;although&#x27;, &#x27;always&#x27;, &#x27;am&#x27;, &#x27;among&#x27;, &#x27;amongst&#x27;,\n",
       "                            &#x27;amoungst&#x27;, &#x27;amount&#x27;, &#x27;an&#x27;, &#x27;and&#x27;, &#x27;another&#x27;, &#x27;any&#x27;,\n",
       "                            &#x27;anyhow&#x27;, &#x27;anyone&#x27;, &#x27;anything&#x27;, &#x27;anyway&#x27;, ...})</pre></div></div></div><div class=\"sk-item\"><div class=\"sk-estimator sk-toggleable\"><input class=\"sk-toggleable__control sk-hidden--visually\" id=\"sk-estimator-id-3\" type=\"checkbox\" ><label for=\"sk-estimator-id-3\" class=\"sk-toggleable__label sk-toggleable__label-arrow\">LogisticRegression</label><div class=\"sk-toggleable__content\"><pre>LogisticRegression()</pre></div></div></div></div></div></div></div>"
      ],
      "text/plain": [
       "Pipeline(steps=[('tfidf',\n",
       "                 TfidfVectorizer(min_df=5, ngram_range=(1, 3),\n",
       "                                 stop_words={'a', 'about', 'above', 'across',\n",
       "                                             'after', 'afterwards', 'again',\n",
       "                                             'against', 'ain', 'all', 'almost',\n",
       "                                             'alone', 'along', 'already',\n",
       "                                             'also', 'although', 'always', 'am',\n",
       "                                             'among', 'amongst', 'amoungst',\n",
       "                                             'amount', 'an', 'and', 'another',\n",
       "                                             'any', 'anyhow', 'anyone',\n",
       "                                             'anything', 'anyway', ...})),\n",
       "                ('logistic', LogisticRegression())])"
      ]
     },
     "execution_count": 26,
     "metadata": {},
     "output_type": "execute_result"
    }
   ],
   "source": [
    "log_pipeline.fit(X_train, y_train)"
   ]
  },
  {
   "cell_type": "code",
   "execution_count": 27,
   "id": "9fda290b-951a-49d4-a5a3-e104c86cfdc7",
   "metadata": {},
   "outputs": [
    {
     "name": "stdout",
     "output_type": "stream",
     "text": [
      "The accuracy of this inference is: 0.8950064020486556\n",
      "The precision of this inference is: 0.9390581717451524\n",
      "The specificty of this inference is: 0.9424083769633508\n",
      "The recall of this inference is: 0.849624060150376\n",
      "The f1 score for this inference is: 0.8921052631578947\n"
     ]
    },
    {
     "data": {
      "image/png": "[encoded data removed]",
      "text/plain": [
       "<Figure size 640x480 with 2 Axes>"
      ]
     },
     "metadata": {},
     "output_type": "display_data"
    }
   ],
   "source": [
    "y_pred_log = log_pipeline.predict(X_test)\n",
    "print_confusion_matrix(y_test, y_pred_log)\n",
    "metrics_for_model(y_test, y_pred_log);"
   ]
  },
  {
   "cell_type": "markdown",
   "id": "ba660f6b-834e-4b6e-9e9b-375e8281121d",
   "metadata": {},
   "source": [
    "Logistic regression gives exceptional results!  \n",
    "My guess is that the nature of the data being word tokens helps tremendously in this context.  \n",
    "Each token plays a part in deciding if the word comes from one source or another!  "
   ]
  },
  {
   "cell_type": "code",
   "execution_count": 28,
   "id": "4e089e17-bb8d-4e34-94ef-01816eba3526",
   "metadata": {},
   "outputs": [
    {
     "data": {
      "text/html": [
       "<div>\n",
       "<style scoped>\n",
       "    .dataframe tbody tr th:only-of-type {\n",
       "        vertical-align: middle;\n",
       "    }\n",
       "\n",
       "    .dataframe tbody tr th {\n",
       "        vertical-align: top;\n",
       "    }\n",
       "\n",
       "    .dataframe thead th {\n",
       "        text-align: right;\n",
       "    }\n",
       "</style>\n",
       "<table border=\"1\" class=\"dataframe\">\n",
       "  <thead>\n",
       "    <tr style=\"text-align: right;\">\n",
       "      <th></th>\n",
       "      <th>title</th>\n",
       "      <th>label</th>\n",
       "      <th>y_pred_nb</th>\n",
       "      <th>y_prelim_nb</th>\n",
       "      <th>y_pred_nb_2</th>\n",
       "      <th>y_pred_log</th>\n",
       "    </tr>\n",
       "  </thead>\n",
       "  <tbody>\n",
       "    <tr>\n",
       "      <th>4</th>\n",
       "      <td>It’s weird how Sakurai is the only “employee” ...</td>\n",
       "      <td>1</td>\n",
       "      <td>0</td>\n",
       "      <td>0</td>\n",
       "      <td>0</td>\n",
       "      <td>0</td>\n",
       "    </tr>\n",
       "    <tr>\n",
       "      <th>54</th>\n",
       "      <td>PSA for those looking at the legend of dragoon...</td>\n",
       "      <td>0</td>\n",
       "      <td>0</td>\n",
       "      <td>1</td>\n",
       "      <td>0</td>\n",
       "      <td>1</td>\n",
       "    </tr>\n",
       "    <tr>\n",
       "      <th>69</th>\n",
       "      <td>You can buy a brand new sealed copy of LarryBo...</td>\n",
       "      <td>1</td>\n",
       "      <td>0</td>\n",
       "      <td>0</td>\n",
       "      <td>0</td>\n",
       "      <td>0</td>\n",
       "    </tr>\n",
       "    <tr>\n",
       "      <th>77</th>\n",
       "      <td>How simple texture compression can start a 20-...</td>\n",
       "      <td>1</td>\n",
       "      <td>0</td>\n",
       "      <td>0</td>\n",
       "      <td>0</td>\n",
       "      <td>0</td>\n",
       "    </tr>\n",
       "    <tr>\n",
       "      <th>79</th>\n",
       "      <td>Been online friends since Destiny launch in 20...</td>\n",
       "      <td>0</td>\n",
       "      <td>1</td>\n",
       "      <td>1</td>\n",
       "      <td>1</td>\n",
       "      <td>1</td>\n",
       "    </tr>\n",
       "    <tr>\n",
       "      <th>...</th>\n",
       "      <td>...</td>\n",
       "      <td>...</td>\n",
       "      <td>...</td>\n",
       "      <td>...</td>\n",
       "      <td>...</td>\n",
       "      <td>...</td>\n",
       "    </tr>\n",
       "    <tr>\n",
       "      <th>748</th>\n",
       "      <td>Nintendo's next console will lean towards stre...</td>\n",
       "      <td>1</td>\n",
       "      <td>1</td>\n",
       "      <td>0</td>\n",
       "      <td>0</td>\n",
       "      <td>0</td>\n",
       "    </tr>\n",
       "    <tr>\n",
       "      <th>749</th>\n",
       "      <td>As a kid, Nintendo helped me earn my Bear Badge.</td>\n",
       "      <td>1</td>\n",
       "      <td>0</td>\n",
       "      <td>0</td>\n",
       "      <td>0</td>\n",
       "      <td>0</td>\n",
       "    </tr>\n",
       "    <tr>\n",
       "      <th>762</th>\n",
       "      <td>You can't convert replays to video unless you ...</td>\n",
       "      <td>1</td>\n",
       "      <td>1</td>\n",
       "      <td>0</td>\n",
       "      <td>0</td>\n",
       "      <td>0</td>\n",
       "    </tr>\n",
       "    <tr>\n",
       "      <th>766</th>\n",
       "      <td>Galar Region is based off the UK. Victorian-es...</td>\n",
       "      <td>1</td>\n",
       "      <td>0</td>\n",
       "      <td>1</td>\n",
       "      <td>1</td>\n",
       "      <td>0</td>\n",
       "    </tr>\n",
       "    <tr>\n",
       "      <th>769</th>\n",
       "      <td>Japan Is More Excited About Nintendo Labo Than...</td>\n",
       "      <td>1</td>\n",
       "      <td>0</td>\n",
       "      <td>0</td>\n",
       "      <td>0</td>\n",
       "      <td>0</td>\n",
       "    </tr>\n",
       "  </tbody>\n",
       "</table>\n",
       "<p>82 rows × 6 columns</p>\n",
       "</div>"
      ],
      "text/plain": [
       "                                                 title  label  y_pred_nb  \\\n",
       "4    It’s weird how Sakurai is the only “employee” ...      1          0   \n",
       "54   PSA for those looking at the legend of dragoon...      0          0   \n",
       "69   You can buy a brand new sealed copy of LarryBo...      1          0   \n",
       "77   How simple texture compression can start a 20-...      1          0   \n",
       "79   Been online friends since Destiny launch in 20...      0          1   \n",
       "..                                                 ...    ...        ...   \n",
       "748  Nintendo's next console will lean towards stre...      1          1   \n",
       "749   As a kid, Nintendo helped me earn my Bear Badge.      1          0   \n",
       "762  You can't convert replays to video unless you ...      1          1   \n",
       "766  Galar Region is based off the UK. Victorian-es...      1          0   \n",
       "769  Japan Is More Excited About Nintendo Labo Than...      1          0   \n",
       "\n",
       "     y_prelim_nb  y_pred_nb_2  y_pred_log  \n",
       "4              0            0           0  \n",
       "54             1            0           1  \n",
       "69             0            0           0  \n",
       "77             0            0           0  \n",
       "79             1            1           1  \n",
       "..           ...          ...         ...  \n",
       "748            0            0           0  \n",
       "749            0            0           0  \n",
       "762            0            0           0  \n",
       "766            1            1           0  \n",
       "769            0            0           0  \n",
       "\n",
       "[82 rows x 6 columns]"
      ]
     },
     "execution_count": 28,
     "metadata": {},
     "output_type": "execute_result"
    }
   ],
   "source": [
    "df_comb = pd.concat([df_comb, pd.DataFrame(y_pred_log, columns=['y_pred_log'])], axis=1)\n",
    "df_comb.loc[df_comb['label'] != df_comb['y_pred_log']]"
   ]
  },
  {
   "cell_type": "code",
   "execution_count": 29,
   "id": "4b7c2d48-6a57-47ee-8130-c06b5943cc12",
   "metadata": {},
   "outputs": [],
   "source": [
    "coefficients = log_pipeline[1].coef_[0]"
   ]
  },
  {
   "cell_type": "code",
   "execution_count": 30,
   "id": "9ad16493-30ab-45a7-87a9-ec3ee8d22c00",
   "metadata": {},
   "outputs": [],
   "source": [
    "coef_names = log_pipeline[0].get_feature_names_out()"
   ]
  },
  {
   "cell_type": "code",
   "execution_count": 31,
   "id": "9ac6cc3f-4b18-47d3-a588-a07613bf23f1",
   "metadata": {},
   "outputs": [],
   "source": [
    "log_coeff_dict = {\"log_coef\": [], \"coef_name\":[], \"exp_coef\":[]}\n",
    "for coef, name in zip(coefficients, coef_names):\n",
    "    log_coeff_dict['log_coef'].append(coef)\n",
    "    log_coeff_dict['coef_name'].append(name)\n",
    "    log_coeff_dict['exp_coef'].append(np.exp(coef))"
   ]
  },
  {
   "cell_type": "code",
   "execution_count": 32,
   "id": "fe0c3a6a-f6ac-4e63-b78e-0aab028be00c",
   "metadata": {},
   "outputs": [
    {
     "data": {
      "text/html": [
       "<div>\n",
       "<style scoped>\n",
       "    .dataframe tbody tr th:only-of-type {\n",
       "        vertical-align: middle;\n",
       "    }\n",
       "\n",
       "    .dataframe tbody tr th {\n",
       "        vertical-align: top;\n",
       "    }\n",
       "\n",
       "    .dataframe thead th {\n",
       "        text-align: right;\n",
       "    }\n",
       "</style>\n",
       "<table border=\"1\" class=\"dataframe\">\n",
       "  <thead>\n",
       "    <tr style=\"text-align: right;\">\n",
       "      <th></th>\n",
       "      <th>log_coef</th>\n",
       "      <th>coef_name</th>\n",
       "      <th>exp_coef</th>\n",
       "    </tr>\n",
       "  </thead>\n",
       "  <tbody>\n",
       "    <tr>\n",
       "      <th>837</th>\n",
       "      <td>6.501446</td>\n",
       "      <td>switch</td>\n",
       "      <td>666.103805</td>\n",
       "    </tr>\n",
       "    <tr>\n",
       "      <th>503</th>\n",
       "      <td>4.851615</td>\n",
       "      <td>mario</td>\n",
       "      <td>127.946869</td>\n",
       "    </tr>\n",
       "    <tr>\n",
       "      <th>390</th>\n",
       "      <td>3.284914</td>\n",
       "      <td>history</td>\n",
       "      <td>26.706688</td>\n",
       "    </tr>\n",
       "    <tr>\n",
       "      <th>939</th>\n",
       "      <td>3.194616</td>\n",
       "      <td>wii</td>\n",
       "      <td>24.400795</td>\n",
       "    </tr>\n",
       "    <tr>\n",
       "      <th>632</th>\n",
       "      <td>3.080390</td>\n",
       "      <td>pokemon</td>\n",
       "      <td>21.766896</td>\n",
       "    </tr>\n",
       "    <tr>\n",
       "      <th>...</th>\n",
       "      <td>...</td>\n",
       "      <td>...</td>\n",
       "      <td>...</td>\n",
       "    </tr>\n",
       "    <tr>\n",
       "      <th>385</th>\n",
       "      <td>-1.876695</td>\n",
       "      <td>help</td>\n",
       "      <td>0.153095</td>\n",
       "    </tr>\n",
       "    <tr>\n",
       "      <th>676</th>\n",
       "      <td>-2.094873</td>\n",
       "      <td>psvr2</td>\n",
       "      <td>0.123086</td>\n",
       "    </tr>\n",
       "    <tr>\n",
       "      <th>660</th>\n",
       "      <td>-2.806486</td>\n",
       "      <td>ps</td>\n",
       "      <td>0.060417</td>\n",
       "    </tr>\n",
       "    <tr>\n",
       "      <th>667</th>\n",
       "      <td>-2.821731</td>\n",
       "      <td>ps4</td>\n",
       "      <td>0.059503</td>\n",
       "    </tr>\n",
       "    <tr>\n",
       "      <th>669</th>\n",
       "      <td>-5.571090</td>\n",
       "      <td>ps5</td>\n",
       "      <td>0.003806</td>\n",
       "    </tr>\n",
       "  </tbody>\n",
       "</table>\n",
       "<p>974 rows × 3 columns</p>\n",
       "</div>"
      ],
      "text/plain": [
       "     log_coef coef_name    exp_coef\n",
       "837  6.501446    switch  666.103805\n",
       "503  4.851615     mario  127.946869\n",
       "390  3.284914   history   26.706688\n",
       "939  3.194616       wii   24.400795\n",
       "632  3.080390   pokemon   21.766896\n",
       "..        ...       ...         ...\n",
       "385 -1.876695      help    0.153095\n",
       "676 -2.094873     psvr2    0.123086\n",
       "660 -2.806486        ps    0.060417\n",
       "667 -2.821731       ps4    0.059503\n",
       "669 -5.571090       ps5    0.003806\n",
       "\n",
       "[974 rows x 3 columns]"
      ]
     },
     "execution_count": 32,
     "metadata": {},
     "output_type": "execute_result"
    }
   ],
   "source": [
    "# Make dictionary to pandas dataframe\n",
    "log_coef_explained = pd.DataFrame(log_coeff_dict)\n",
    "log_coef_explained.sort_values(by='exp_coef',ascending=False)"
   ]
  },
  {
   "cell_type": "markdown",
   "id": "217d289b-a802-48e2-a4c4-399ba88ef560",
   "metadata": {},
   "source": [
    "Now, the exponential of coefficient is the odds ratio.   \n",
    "This means, with every increase appearance of the word in text, the increase in likely hood of the title being from `nintendo` is given by the odds ratio, or the `exp_coef` in this case.   \n",
    "So, with one word like switch in title, it is almost 666 more times to be from `nintendo` compared to a sentence with the exact same content but with out the word `switch`.    \n",
    "The most give away key word for `nintendo` is none other than `switch`.  \n",
    "The most give away key word for `playstation` is none other than `ps5`.  \n",
    "Now, I have knowledge on exactly this model predicts!  \n",
    "I can even fool the model by making a totally `playstation` post and include a `switch` to turn the answer around!  \n",
    "Also, it seems that the `playstation` users needed a lot of help."
   ]
  },
  {
   "cell_type": "code",
   "execution_count": 33,
   "id": "24db589d-be37-4cf3-bb68-0c5c115656e0",
   "metadata": {},
   "outputs": [
    {
     "name": "stdout",
     "output_type": "stream",
     "text": [
      "The accuracy of this inference is: 0.9426833173230867\n",
      "The precision of this inference is: 0.9764957264957265\n",
      "The specificty of this inference is: 0.9794520547945206\n",
      "The recall of this inference is: 0.9037574159525379\n",
      "The f1 score for this inference is: 0.9387196165696678\n"
     ]
    },
    {
     "data": {
      "image/png": "[encoded data removed]",
      "text/plain": [
       "<Figure size 640x480 with 2 Axes>"
      ]
     },
     "metadata": {},
     "output_type": "display_data"
    }
   ],
   "source": [
    "y_pred_log_train = log_pipeline.predict(X_train)\n",
    "print_confusion_matrix(y_train, y_pred_log_train)\n",
    "metrics_for_model(y_train, y_pred_log_train);"
   ]
  },
  {
   "cell_type": "markdown",
   "id": "c8c6f946-0cd0-42f0-bb10-15c46bd46724",
   "metadata": {},
   "source": [
    "The logistic regression model performed really very well!  \n",
    "Looking through the metrics, it did a fantansic job predicting where the post title originates from.  \n",
    "This is probably thanks to the corpus having a clear disctinction between them in the first place.  \n",
    "Nonetheless, it is a quick, easy to interpret and simple model that does a fantanstic job.  \n",
    "The over fitting is not very bad too. "
   ]
  },
  {
   "cell_type": "markdown",
   "id": "4963e28e-2fb0-4317-bee3-bbb21235c9a5",
   "metadata": {},
   "source": [
    "## Ensemble Methods"
   ]
  },
  {
   "cell_type": "markdown",
   "id": "8549f18b-5b45-4a8f-804f-a38ecd705201",
   "metadata": {},
   "source": [
    "Ensemble methods are ML techniques that helps to improve accuracy by combining multiple models, instead of just using a single model.  \n",
    "The three most common methods under ensemble are:  \n",
    "1. Bagging (Bootstrap aggregating)\n",
    "2. Boosting (Converting multiple weak learners into a single strong learning model)\n",
    "3. Stacking (Combining different models to best answer the question)  \n",
    "\n",
    "Bagging is random sampling with replacement from the available training data and make an estimator with each bootstrapped dataset, same model trained on the same dataset.  \n",
    "Boosting is making a series of weak learners that learns to avoid the mistake made by the previous one, or sequence of models that correct the predictions of prior models.\n",
    "Stacking is having a model that combines 2 or more models that each have thier individual strengths, different level 0 models trained on same dataset combined by a level 1 model.   \n",
    "\n",
    "I will explore:\n",
    "1. [RF](#RF)\n",
    "2. [XGB](#XGB)\n",
    "3. [Stacking](#Stacking)\n",
    "\n",
    "Stacking will not be explored here."
   ]
  },
  {
   "cell_type": "markdown",
   "id": "9fc19530-2a2e-4055-8796-821c28998ee6",
   "metadata": {},
   "source": [
    "### RF"
   ]
  },
  {
   "cell_type": "markdown",
   "id": "46b23a34-8f47-4f96-b435-39a5aa89c63b",
   "metadata": {},
   "source": [
    "RF or Random Forest is a famous bagging method.  \n",
    "In this notebook, I will try to use the Random Forest Classifier.  \n",
    "RF is a method where many weak learners, or models that doesn't perform so well, is built by over sampling of the training dataset.  \n",
    "In other words, many samples were taken from the same dataset with replacement, and each sample is used to build a model that doesn't work perfectly.  \n",
    "Then the results from the numerous models built are aggregated to make a final decision.  \n",
    "The process of creating these smaller decision trees involves a technique called bootstrap aggregation, also known as bagging.   \n",
    "This means that each tree is built using a randomly sampled subset of the training data, which helps to reduce overfitting and improve the accuracy of the model.  \n",
    "For the sklearn implementation, the default splitting uses a measure of impurity, called the Gini index, to split each tree.   \n",
    "The Gini index is a measure of how often a randomly chosen element from the set would be incorrectly labeled if it were randomly labeled according to the distribution of labels in the subset.   \n",
    "The Gini index is used to evaluate the quality of each split in the decision tree, and the algorithm chooses the split that results in the greatest reduction in impurity.   \n",
    "Gini index is very closely related to entropy, which is the average surprise on would expect, or the sum of specific values for surprise multiplied by the probability of observing that specific value for surprise.  \n",
    "For a very detailed expliannation, youc can check out this video by Josh Starmer, on [entropy for data scientists](https://www.youtube.com/watch?v=YtebGVx-Fxw&ab_channel=StatQuestwithJoshStarmer).   \n",
    "Random Forest works because it leverages the power of multiple decision trees to create a more accurate model than any single decision tree could achieve alone.    \n",
    "By randomly sampling the training data and using different subsets to train each decision tree, it reduces overfitting and increases the model's ability to generalize to new data.    \n",
    "Additionally, by selecting the features used to split each tree randomly, it reduces the correlation between trees and helps to capture different aspects of the data, leading to a more diverse set of predictions.     \n",
    "Overall, this results in a robust and accurate model that can be used for a variety of classification and regression tasks."
   ]
  },
  {
   "cell_type": "code",
   "execution_count": 34,
   "id": "d0de4b27-711a-419c-b5e8-58867fa765df",
   "metadata": {},
   "outputs": [],
   "source": [
    "RF_pipeline = Pipeline([\n",
    "    ('tfidf', TfidfVectorizer(min_df=5, ngram_range=(1,3), stop_words=my_stop_words)),\n",
    "    # ('cvec', CountVectorizer(min_df=5, ngram_range=(1,3), stop_words=my_stop_words)),\n",
    "    ('RF', RandomForestClassifier(\n",
    "        n_estimators=500, \n",
    "        max_depth=250, \n",
    "        min_samples_split=2, \n",
    "        min_samples_leaf=1,\n",
    "        random_state=42\n",
    "    )),\n",
    "])"
   ]
  },
  {
   "cell_type": "code",
   "execution_count": 35,
   "id": "4f489e1e-d6ad-448b-b56c-d411548dcf94",
   "metadata": {},
   "outputs": [
    {
     "data": {
      "text/html": [
       "<style>#sk-container-id-2 {color: black;background-color: white;}#sk-container-id-2 pre{padding: 0;}#sk-container-id-2 div.sk-toggleable {background-color: white;}#sk-container-id-2 label.sk-toggleable__label {cursor: pointer;display: block;width: 100%;margin-bottom: 0;padding: 0.3em;box-sizing: border-box;text-align: center;}#sk-container-id-2 label.sk-toggleable__label-arrow:before {content: \"▸\";float: left;margin-right: 0.25em;color: #696969;}#sk-container-id-2 label.sk-toggleable__label-arrow:hover:before {color: black;}#sk-container-id-2 div.sk-estimator:hover label.sk-toggleable__label-arrow:before {color: black;}#sk-container-id-2 div.sk-toggleable__content {max-height: 0;max-width: 0;overflow: hidden;text-align: left;background-color: #f0f8ff;}#sk-container-id-2 div.sk-toggleable__content pre {margin: 0.2em;color: black;border-radius: 0.25em;background-color: #f0f8ff;}#sk-container-id-2 input.sk-toggleable__control:checked~div.sk-toggleable__content {max-height: 200px;max-width: 100%;overflow: auto;}#sk-container-id-2 input.sk-toggleable__control:checked~label.sk-toggleable__label-arrow:before {content: \"▾\";}#sk-container-id-2 div.sk-estimator input.sk-toggleable__control:checked~label.sk-toggleable__label {background-color: #d4ebff;}#sk-container-id-2 div.sk-label input.sk-toggleable__control:checked~label.sk-toggleable__label {background-color: #d4ebff;}#sk-container-id-2 input.sk-hidden--visually {border: 0;clip: rect(1px 1px 1px 1px);clip: rect(1px, 1px, 1px, 1px);height: 1px;margin: -1px;overflow: hidden;padding: 0;position: absolute;width: 1px;}#sk-container-id-2 div.sk-estimator {font-family: monospace;background-color: #f0f8ff;border: 1px dotted black;border-radius: 0.25em;box-sizing: border-box;margin-bottom: 0.5em;}#sk-container-id-2 div.sk-estimator:hover {background-color: #d4ebff;}#sk-container-id-2 div.sk-parallel-item::after {content: \"\";width: 100%;border-bottom: 1px solid gray;flex-grow: 1;}#sk-container-id-2 div.sk-label:hover label.sk-toggleable__label {background-color: #d4ebff;}#sk-container-id-2 div.sk-serial::before {content: \"\";position: absolute;border-left: 1px solid gray;box-sizing: border-box;top: 0;bottom: 0;left: 50%;z-index: 0;}#sk-container-id-2 div.sk-serial {display: flex;flex-direction: column;align-items: center;background-color: white;padding-right: 0.2em;padding-left: 0.2em;position: relative;}#sk-container-id-2 div.sk-item {position: relative;z-index: 1;}#sk-container-id-2 div.sk-parallel {display: flex;align-items: stretch;justify-content: center;background-color: white;position: relative;}#sk-container-id-2 div.sk-item::before, #sk-container-id-2 div.sk-parallel-item::before {content: \"\";position: absolute;border-left: 1px solid gray;box-sizing: border-box;top: 0;bottom: 0;left: 50%;z-index: -1;}#sk-container-id-2 div.sk-parallel-item {display: flex;flex-direction: column;z-index: 1;position: relative;background-color: white;}#sk-container-id-2 div.sk-parallel-item:first-child::after {align-self: flex-end;width: 50%;}#sk-container-id-2 div.sk-parallel-item:last-child::after {align-self: flex-start;width: 50%;}#sk-container-id-2 div.sk-parallel-item:only-child::after {width: 0;}#sk-container-id-2 div.sk-dashed-wrapped {border: 1px dashed gray;margin: 0 0.4em 0.5em 0.4em;box-sizing: border-box;padding-bottom: 0.4em;background-color: white;}#sk-container-id-2 div.sk-label label {font-family: monospace;font-weight: bold;display: inline-block;line-height: 1.2em;}#sk-container-id-2 div.sk-label-container {text-align: center;}#sk-container-id-2 div.sk-container {/* jupyter's `normalize.less` sets `[hidden] { display: none; }` but bootstrap.min.css set `[hidden] { display: none !important; }` so we also need the `!important` here to be able to override the default hidden behavior on the sphinx rendered scikit-learn.org. See: https://github.com/scikit-learn/scikit-learn/issues/21755 */display: inline-block !important;position: relative;}#sk-container-id-2 div.sk-text-repr-fallback {display: none;}</style><div id=\"sk-container-id-2\" class=\"sk-top-container\"><div class=\"sk-text-repr-fallback\"><pre>Pipeline(steps=[(&#x27;tfidf&#x27;,\n",
       "                 TfidfVectorizer(min_df=5, ngram_range=(1, 3),\n",
       "                                 stop_words={&#x27;a&#x27;, &#x27;about&#x27;, &#x27;above&#x27;, &#x27;across&#x27;,\n",
       "                                             &#x27;after&#x27;, &#x27;afterwards&#x27;, &#x27;again&#x27;,\n",
       "                                             &#x27;against&#x27;, &#x27;ain&#x27;, &#x27;all&#x27;, &#x27;almost&#x27;,\n",
       "                                             &#x27;alone&#x27;, &#x27;along&#x27;, &#x27;already&#x27;,\n",
       "                                             &#x27;also&#x27;, &#x27;although&#x27;, &#x27;always&#x27;, &#x27;am&#x27;,\n",
       "                                             &#x27;among&#x27;, &#x27;amongst&#x27;, &#x27;amoungst&#x27;,\n",
       "                                             &#x27;amount&#x27;, &#x27;an&#x27;, &#x27;and&#x27;, &#x27;another&#x27;,\n",
       "                                             &#x27;any&#x27;, &#x27;anyhow&#x27;, &#x27;anyone&#x27;,\n",
       "                                             &#x27;anything&#x27;, &#x27;anyway&#x27;, ...})),\n",
       "                (&#x27;RF&#x27;,\n",
       "                 RandomForestClassifier(max_depth=250, n_estimators=500,\n",
       "                                        random_state=42))])</pre><b>In a Jupyter environment, please rerun this cell to show the HTML representation or trust the notebook. <br />On GitHub, the HTML representation is unable to render, please try loading this page with nbviewer.org.</b></div><div class=\"sk-container\" hidden><div class=\"sk-item sk-dashed-wrapped\"><div class=\"sk-label-container\"><div class=\"sk-label sk-toggleable\"><input class=\"sk-toggleable__control sk-hidden--visually\" id=\"sk-estimator-id-4\" type=\"checkbox\" ><label for=\"sk-estimator-id-4\" class=\"sk-toggleable__label sk-toggleable__label-arrow\">Pipeline</label><div class=\"sk-toggleable__content\"><pre>Pipeline(steps=[(&#x27;tfidf&#x27;,\n",
       "                 TfidfVectorizer(min_df=5, ngram_range=(1, 3),\n",
       "                                 stop_words={&#x27;a&#x27;, &#x27;about&#x27;, &#x27;above&#x27;, &#x27;across&#x27;,\n",
       "                                             &#x27;after&#x27;, &#x27;afterwards&#x27;, &#x27;again&#x27;,\n",
       "                                             &#x27;against&#x27;, &#x27;ain&#x27;, &#x27;all&#x27;, &#x27;almost&#x27;,\n",
       "                                             &#x27;alone&#x27;, &#x27;along&#x27;, &#x27;already&#x27;,\n",
       "                                             &#x27;also&#x27;, &#x27;although&#x27;, &#x27;always&#x27;, &#x27;am&#x27;,\n",
       "                                             &#x27;among&#x27;, &#x27;amongst&#x27;, &#x27;amoungst&#x27;,\n",
       "                                             &#x27;amount&#x27;, &#x27;an&#x27;, &#x27;and&#x27;, &#x27;another&#x27;,\n",
       "                                             &#x27;any&#x27;, &#x27;anyhow&#x27;, &#x27;anyone&#x27;,\n",
       "                                             &#x27;anything&#x27;, &#x27;anyway&#x27;, ...})),\n",
       "                (&#x27;RF&#x27;,\n",
       "                 RandomForestClassifier(max_depth=250, n_estimators=500,\n",
       "                                        random_state=42))])</pre></div></div></div><div class=\"sk-serial\"><div class=\"sk-item\"><div class=\"sk-estimator sk-toggleable\"><input class=\"sk-toggleable__control sk-hidden--visually\" id=\"sk-estimator-id-5\" type=\"checkbox\" ><label for=\"sk-estimator-id-5\" class=\"sk-toggleable__label sk-toggleable__label-arrow\">TfidfVectorizer</label><div class=\"sk-toggleable__content\"><pre>TfidfVectorizer(min_df=5, ngram_range=(1, 3),\n",
       "                stop_words={&#x27;a&#x27;, &#x27;about&#x27;, &#x27;above&#x27;, &#x27;across&#x27;, &#x27;after&#x27;,\n",
       "                            &#x27;afterwards&#x27;, &#x27;again&#x27;, &#x27;against&#x27;, &#x27;ain&#x27;, &#x27;all&#x27;,\n",
       "                            &#x27;almost&#x27;, &#x27;alone&#x27;, &#x27;along&#x27;, &#x27;already&#x27;, &#x27;also&#x27;,\n",
       "                            &#x27;although&#x27;, &#x27;always&#x27;, &#x27;am&#x27;, &#x27;among&#x27;, &#x27;amongst&#x27;,\n",
       "                            &#x27;amoungst&#x27;, &#x27;amount&#x27;, &#x27;an&#x27;, &#x27;and&#x27;, &#x27;another&#x27;, &#x27;any&#x27;,\n",
       "                            &#x27;anyhow&#x27;, &#x27;anyone&#x27;, &#x27;anything&#x27;, &#x27;anyway&#x27;, ...})</pre></div></div></div><div class=\"sk-item\"><div class=\"sk-estimator sk-toggleable\"><input class=\"sk-toggleable__control sk-hidden--visually\" id=\"sk-estimator-id-6\" type=\"checkbox\" ><label for=\"sk-estimator-id-6\" class=\"sk-toggleable__label sk-toggleable__label-arrow\">RandomForestClassifier</label><div class=\"sk-toggleable__content\"><pre>RandomForestClassifier(max_depth=250, n_estimators=500, random_state=42)</pre></div></div></div></div></div></div></div>"
      ],
      "text/plain": [
       "Pipeline(steps=[('tfidf',\n",
       "                 TfidfVectorizer(min_df=5, ngram_range=(1, 3),\n",
       "                                 stop_words={'a', 'about', 'above', 'across',\n",
       "                                             'after', 'afterwards', 'again',\n",
       "                                             'against', 'ain', 'all', 'almost',\n",
       "                                             'alone', 'along', 'already',\n",
       "                                             'also', 'although', 'always', 'am',\n",
       "                                             'among', 'amongst', 'amoungst',\n",
       "                                             'amount', 'an', 'and', 'another',\n",
       "                                             'any', 'anyhow', 'anyone',\n",
       "                                             'anything', 'anyway', ...})),\n",
       "                ('RF',\n",
       "                 RandomForestClassifier(max_depth=250, n_estimators=500,\n",
       "                                        random_state=42))])"
      ]
     },
     "execution_count": 35,
     "metadata": {},
     "output_type": "execute_result"
    }
   ],
   "source": [
    "RF_pipeline.fit(X_train, y_train)"
   ]
  },
  {
   "cell_type": "code",
   "execution_count": 36,
   "id": "c7d088a8-00e6-41a8-beeb-908d9b281d8c",
   "metadata": {},
   "outputs": [
    {
     "name": "stdout",
     "output_type": "stream",
     "text": [
      "The accuracy of this inference is: 0.8783610755441741\n",
      "The precision of this inference is: 0.9130434782608695\n",
      "The specificty of this inference is: 0.9162303664921466\n",
      "The recall of this inference is: 0.8421052631578947\n",
      "The f1 score for this inference is: 0.8761408083441982\n"
     ]
    },
    {
     "data": {
      "image/png": "[encoded data removed]",
      "text/plain": [
       "<Figure size 640x480 with 2 Axes>"
      ]
     },
     "metadata": {},
     "output_type": "display_data"
    }
   ],
   "source": [
    "y_pred_RF = RF_pipeline.predict(X_test)\n",
    "print_confusion_matrix(y_test, y_pred_RF)\n",
    "metrics_for_model(y_test, y_pred_RF);"
   ]
  },
  {
   "cell_type": "code",
   "execution_count": 37,
   "id": "60569a49-c3e0-4918-ad29-7a80ff9a23b9",
   "metadata": {},
   "outputs": [
    {
     "data": {
      "text/html": [
       "<div>\n",
       "<style scoped>\n",
       "    .dataframe tbody tr th:only-of-type {\n",
       "        vertical-align: middle;\n",
       "    }\n",
       "\n",
       "    .dataframe tbody tr th {\n",
       "        vertical-align: top;\n",
       "    }\n",
       "\n",
       "    .dataframe thead th {\n",
       "        text-align: right;\n",
       "    }\n",
       "</style>\n",
       "<table border=\"1\" class=\"dataframe\">\n",
       "  <thead>\n",
       "    <tr style=\"text-align: right;\">\n",
       "      <th></th>\n",
       "      <th>title</th>\n",
       "      <th>label</th>\n",
       "      <th>y_pred_nb</th>\n",
       "      <th>y_prelim_nb</th>\n",
       "      <th>y_pred_nb_2</th>\n",
       "      <th>y_pred_log</th>\n",
       "      <th>y_pred_RF</th>\n",
       "    </tr>\n",
       "  </thead>\n",
       "  <tbody>\n",
       "    <tr>\n",
       "      <th>4</th>\n",
       "      <td>It’s weird how Sakurai is the only “employee” ...</td>\n",
       "      <td>1</td>\n",
       "      <td>0</td>\n",
       "      <td>0</td>\n",
       "      <td>0</td>\n",
       "      <td>0</td>\n",
       "      <td>0</td>\n",
       "    </tr>\n",
       "    <tr>\n",
       "      <th>7</th>\n",
       "      <td>Spider Man trailer with 90s theme</td>\n",
       "      <td>0</td>\n",
       "      <td>0</td>\n",
       "      <td>1</td>\n",
       "      <td>0</td>\n",
       "      <td>0</td>\n",
       "      <td>1</td>\n",
       "    </tr>\n",
       "    <tr>\n",
       "      <th>41</th>\n",
       "      <td>WARNING DON'T Upload photos on nintendo live chat</td>\n",
       "      <td>1</td>\n",
       "      <td>0</td>\n",
       "      <td>1</td>\n",
       "      <td>1</td>\n",
       "      <td>1</td>\n",
       "      <td>0</td>\n",
       "    </tr>\n",
       "    <tr>\n",
       "      <th>47</th>\n",
       "      <td>GoldenEye really knocked down the competition ...</td>\n",
       "      <td>1</td>\n",
       "      <td>1</td>\n",
       "      <td>1</td>\n",
       "      <td>1</td>\n",
       "      <td>1</td>\n",
       "      <td>0</td>\n",
       "    </tr>\n",
       "    <tr>\n",
       "      <th>54</th>\n",
       "      <td>PSA for those looking at the legend of dragoon...</td>\n",
       "      <td>0</td>\n",
       "      <td>0</td>\n",
       "      <td>1</td>\n",
       "      <td>0</td>\n",
       "      <td>1</td>\n",
       "      <td>1</td>\n",
       "    </tr>\n",
       "    <tr>\n",
       "      <th>...</th>\n",
       "      <td>...</td>\n",
       "      <td>...</td>\n",
       "      <td>...</td>\n",
       "      <td>...</td>\n",
       "      <td>...</td>\n",
       "      <td>...</td>\n",
       "      <td>...</td>\n",
       "    </tr>\n",
       "    <tr>\n",
       "      <th>747</th>\n",
       "      <td>Tis the season on the Starfall Islands. You ca...</td>\n",
       "      <td>1</td>\n",
       "      <td>0</td>\n",
       "      <td>0</td>\n",
       "      <td>0</td>\n",
       "      <td>0</td>\n",
       "      <td>0</td>\n",
       "    </tr>\n",
       "    <tr>\n",
       "      <th>748</th>\n",
       "      <td>Nintendo's next console will lean towards stre...</td>\n",
       "      <td>1</td>\n",
       "      <td>1</td>\n",
       "      <td>0</td>\n",
       "      <td>0</td>\n",
       "      <td>0</td>\n",
       "      <td>0</td>\n",
       "    </tr>\n",
       "    <tr>\n",
       "      <th>749</th>\n",
       "      <td>As a kid, Nintendo helped me earn my Bear Badge.</td>\n",
       "      <td>1</td>\n",
       "      <td>0</td>\n",
       "      <td>0</td>\n",
       "      <td>0</td>\n",
       "      <td>0</td>\n",
       "      <td>0</td>\n",
       "    </tr>\n",
       "    <tr>\n",
       "      <th>766</th>\n",
       "      <td>Galar Region is based off the UK. Victorian-es...</td>\n",
       "      <td>1</td>\n",
       "      <td>0</td>\n",
       "      <td>1</td>\n",
       "      <td>1</td>\n",
       "      <td>0</td>\n",
       "      <td>0</td>\n",
       "    </tr>\n",
       "    <tr>\n",
       "      <th>769</th>\n",
       "      <td>Japan Is More Excited About Nintendo Labo Than...</td>\n",
       "      <td>1</td>\n",
       "      <td>0</td>\n",
       "      <td>0</td>\n",
       "      <td>0</td>\n",
       "      <td>0</td>\n",
       "      <td>0</td>\n",
       "    </tr>\n",
       "  </tbody>\n",
       "</table>\n",
       "<p>95 rows × 7 columns</p>\n",
       "</div>"
      ],
      "text/plain": [
       "                                                 title  label  y_pred_nb  \\\n",
       "4    It’s weird how Sakurai is the only “employee” ...      1          0   \n",
       "7                    Spider Man trailer with 90s theme      0          0   \n",
       "41   WARNING DON'T Upload photos on nintendo live chat      1          0   \n",
       "47   GoldenEye really knocked down the competition ...      1          1   \n",
       "54   PSA for those looking at the legend of dragoon...      0          0   \n",
       "..                                                 ...    ...        ...   \n",
       "747  Tis the season on the Starfall Islands. You ca...      1          0   \n",
       "748  Nintendo's next console will lean towards stre...      1          1   \n",
       "749   As a kid, Nintendo helped me earn my Bear Badge.      1          0   \n",
       "766  Galar Region is based off the UK. Victorian-es...      1          0   \n",
       "769  Japan Is More Excited About Nintendo Labo Than...      1          0   \n",
       "\n",
       "     y_prelim_nb  y_pred_nb_2  y_pred_log  y_pred_RF  \n",
       "4              0            0           0          0  \n",
       "7              1            0           0          1  \n",
       "41             1            1           1          0  \n",
       "47             1            1           1          0  \n",
       "54             1            0           1          1  \n",
       "..           ...          ...         ...        ...  \n",
       "747            0            0           0          0  \n",
       "748            0            0           0          0  \n",
       "749            0            0           0          0  \n",
       "766            1            1           0          0  \n",
       "769            0            0           0          0  \n",
       "\n",
       "[95 rows x 7 columns]"
      ]
     },
     "execution_count": 37,
     "metadata": {},
     "output_type": "execute_result"
    }
   ],
   "source": [
    "df_comb = pd.concat([df_comb, pd.DataFrame(y_pred_RF, columns=['y_pred_RF'])], axis=1)\n",
    "df_comb.loc[df_comb['label'] != df_comb['y_pred_RF']]"
   ]
  },
  {
   "cell_type": "markdown",
   "id": "adfaf603-40e0-4c72-9de6-1bc84236c72e",
   "metadata": {},
   "source": [
    "Machine learning is not magic.   \n",
    "It is math and statistics, based on data.  \n",
    "Some problem that can't be solved using simpler models, can't be solved by RF as well.  \n",
    "For example:   \n",
    "line 77: `How simple texture compression can start a 20-...`  \n",
    "line 79: `Been online friends since Destiny launch in 20...`  \n",
    "line 747: `Tis the season on the Starfall Islands. You ca...`  \n",
    "line 769: `Japan Is More Excited About Nintendo Labo Than...`  \n",
    "Some of thses problems can be solved by allowing `nintendo` and `playstation` in the document.  \n",
    "Also, lowering the minimum document frequency always helps.  "
   ]
  },
  {
   "cell_type": "code",
   "execution_count": 38,
   "id": "f6fb0b28-1f4d-4058-b54d-a69146dedaa0",
   "metadata": {},
   "outputs": [],
   "source": [
    "RF_params = {'n_estimators':[100, 200, 300, 400, 500], \n",
    "             'max_depth':[100, 150, 200, 250], \n",
    "             'min_samples_split':[6, 4 ,2], \n",
    "             'min_samples_leaf':[3,2,1],\n",
    "            }"
   ]
  },
  {
   "cell_type": "code",
   "execution_count": 39,
   "id": "c2963e90-b0c1-4020-ba82-c5733469c341",
   "metadata": {},
   "outputs": [],
   "source": [
    "grid_search = GridSearchCV(RandomForestClassifier(random_state=42),\n",
    "                           param_grid=RF_params,\n",
    "                           cv=5,\n",
    "                           )\n",
    "\n",
    "rf_grid_search_CV = Pipeline(\n",
    "    steps=[('tfidf', TfidfVectorizer(min_df=5, ngram_range=(1,3), stop_words=my_stop_words)), \n",
    "           (\"RF Grid Search\", grid_search)]\n",
    ") "
   ]
  },
  {
   "cell_type": "markdown",
   "id": "75ccbe52-4078-462b-9c31-0945b131d17f",
   "metadata": {},
   "source": [
    "In this case, the X_train is further split into 5 sets and used to train and fit the model.  \n",
    "The line below examines a total of 900 fits.  \n",
    "It can take a long time."
   ]
  },
  {
   "cell_type": "code",
   "execution_count": 31,
   "id": "2e65ad05-4196-40d9-bd9f-030c224a3c98",
   "metadata": {},
   "outputs": [
    {
     "data": {
      "text/html": [
       "<style>#sk-container-id-2 {color: black;background-color: white;}#sk-container-id-2 pre{padding: 0;}#sk-container-id-2 div.sk-toggleable {background-color: white;}#sk-container-id-2 label.sk-toggleable__label {cursor: pointer;display: block;width: 100%;margin-bottom: 0;padding: 0.3em;box-sizing: border-box;text-align: center;}#sk-container-id-2 label.sk-toggleable__label-arrow:before {content: \"▸\";float: left;margin-right: 0.25em;color: #696969;}#sk-container-id-2 label.sk-toggleable__label-arrow:hover:before {color: black;}#sk-container-id-2 div.sk-estimator:hover label.sk-toggleable__label-arrow:before {color: black;}#sk-container-id-2 div.sk-toggleable__content {max-height: 0;max-width: 0;overflow: hidden;text-align: left;background-color: #f0f8ff;}#sk-container-id-2 div.sk-toggleable__content pre {margin: 0.2em;color: black;border-radius: 0.25em;background-color: #f0f8ff;}#sk-container-id-2 input.sk-toggleable__control:checked~div.sk-toggleable__content {max-height: 200px;max-width: 100%;overflow: auto;}#sk-container-id-2 input.sk-toggleable__control:checked~label.sk-toggleable__label-arrow:before {content: \"▾\";}#sk-container-id-2 div.sk-estimator input.sk-toggleable__control:checked~label.sk-toggleable__label {background-color: #d4ebff;}#sk-container-id-2 div.sk-label input.sk-toggleable__control:checked~label.sk-toggleable__label {background-color: #d4ebff;}#sk-container-id-2 input.sk-hidden--visually {border: 0;clip: rect(1px 1px 1px 1px);clip: rect(1px, 1px, 1px, 1px);height: 1px;margin: -1px;overflow: hidden;padding: 0;position: absolute;width: 1px;}#sk-container-id-2 div.sk-estimator {font-family: monospace;background-color: #f0f8ff;border: 1px dotted black;border-radius: 0.25em;box-sizing: border-box;margin-bottom: 0.5em;}#sk-container-id-2 div.sk-estimator:hover {background-color: #d4ebff;}#sk-container-id-2 div.sk-parallel-item::after {content: \"\";width: 100%;border-bottom: 1px solid gray;flex-grow: 1;}#sk-container-id-2 div.sk-label:hover label.sk-toggleable__label {background-color: #d4ebff;}#sk-container-id-2 div.sk-serial::before {content: \"\";position: absolute;border-left: 1px solid gray;box-sizing: border-box;top: 0;bottom: 0;left: 50%;z-index: 0;}#sk-container-id-2 div.sk-serial {display: flex;flex-direction: column;align-items: center;background-color: white;padding-right: 0.2em;padding-left: 0.2em;position: relative;}#sk-container-id-2 div.sk-item {position: relative;z-index: 1;}#sk-container-id-2 div.sk-parallel {display: flex;align-items: stretch;justify-content: center;background-color: white;position: relative;}#sk-container-id-2 div.sk-item::before, #sk-container-id-2 div.sk-parallel-item::before {content: \"\";position: absolute;border-left: 1px solid gray;box-sizing: border-box;top: 0;bottom: 0;left: 50%;z-index: -1;}#sk-container-id-2 div.sk-parallel-item {display: flex;flex-direction: column;z-index: 1;position: relative;background-color: white;}#sk-container-id-2 div.sk-parallel-item:first-child::after {align-self: flex-end;width: 50%;}#sk-container-id-2 div.sk-parallel-item:last-child::after {align-self: flex-start;width: 50%;}#sk-container-id-2 div.sk-parallel-item:only-child::after {width: 0;}#sk-container-id-2 div.sk-dashed-wrapped {border: 1px dashed gray;margin: 0 0.4em 0.5em 0.4em;box-sizing: border-box;padding-bottom: 0.4em;background-color: white;}#sk-container-id-2 div.sk-label label {font-family: monospace;font-weight: bold;display: inline-block;line-height: 1.2em;}#sk-container-id-2 div.sk-label-container {text-align: center;}#sk-container-id-2 div.sk-container {/* jupyter's `normalize.less` sets `[hidden] { display: none; }` but bootstrap.min.css set `[hidden] { display: none !important; }` so we also need the `!important` here to be able to override the default hidden behavior on the sphinx rendered scikit-learn.org. See: https://github.com/scikit-learn/scikit-learn/issues/21755 */display: inline-block !important;position: relative;}#sk-container-id-2 div.sk-text-repr-fallback {display: none;}</style><div id=\"sk-container-id-2\" class=\"sk-top-container\"><div class=\"sk-text-repr-fallback\"><pre>Pipeline(steps=[(&#x27;tfidf&#x27;,\n",
       "                 TfidfVectorizer(min_df=5, ngram_range=(1, 3),\n",
       "                                 stop_words={&#x27;a&#x27;, &#x27;about&#x27;, &#x27;above&#x27;, &#x27;across&#x27;,\n",
       "                                             &#x27;after&#x27;, &#x27;afterwards&#x27;, &#x27;again&#x27;,\n",
       "                                             &#x27;against&#x27;, &#x27;ain&#x27;, &#x27;all&#x27;, &#x27;almost&#x27;,\n",
       "                                             &#x27;alone&#x27;, &#x27;along&#x27;, &#x27;already&#x27;,\n",
       "                                             &#x27;also&#x27;, &#x27;although&#x27;, &#x27;always&#x27;, &#x27;am&#x27;,\n",
       "                                             &#x27;among&#x27;, &#x27;amongst&#x27;, &#x27;amoungst&#x27;,\n",
       "                                             &#x27;amount&#x27;, &#x27;an&#x27;, &#x27;and&#x27;, &#x27;another&#x27;,\n",
       "                                             &#x27;any&#x27;, &#x27;anyhow&#x27;, &#x27;anyone&#x27;,\n",
       "                                             &#x27;anything&#x27;, &#x27;anyway&#x27;, ...})),\n",
       "                (&#x27;RF Grid Search&#x27;,\n",
       "                 GridSearchCV(cv=5,\n",
       "                              estimator=RandomForestClassifier(random_state=42),\n",
       "                              param_grid={&#x27;max_depth&#x27;: [100, 150, 200, 250],\n",
       "                                          &#x27;min_samples_leaf&#x27;: [3, 2, 1],\n",
       "                                          &#x27;min_samples_split&#x27;: [6, 4, 2],\n",
       "                                          &#x27;n_estimators&#x27;: [100, 200, 300, 400,\n",
       "                                                           500]}))])</pre><b>In a Jupyter environment, please rerun this cell to show the HTML representation or trust the notebook. <br />On GitHub, the HTML representation is unable to render, please try loading this page with nbviewer.org.</b></div><div class=\"sk-container\" hidden><div class=\"sk-item sk-dashed-wrapped\"><div class=\"sk-label-container\"><div class=\"sk-label sk-toggleable\"><input class=\"sk-toggleable__control sk-hidden--visually\" id=\"sk-estimator-id-4\" type=\"checkbox\" ><label for=\"sk-estimator-id-4\" class=\"sk-toggleable__label sk-toggleable__label-arrow\">Pipeline</label><div class=\"sk-toggleable__content\"><pre>Pipeline(steps=[(&#x27;tfidf&#x27;,\n",
       "                 TfidfVectorizer(min_df=5, ngram_range=(1, 3),\n",
       "                                 stop_words={&#x27;a&#x27;, &#x27;about&#x27;, &#x27;above&#x27;, &#x27;across&#x27;,\n",
       "                                             &#x27;after&#x27;, &#x27;afterwards&#x27;, &#x27;again&#x27;,\n",
       "                                             &#x27;against&#x27;, &#x27;ain&#x27;, &#x27;all&#x27;, &#x27;almost&#x27;,\n",
       "                                             &#x27;alone&#x27;, &#x27;along&#x27;, &#x27;already&#x27;,\n",
       "                                             &#x27;also&#x27;, &#x27;although&#x27;, &#x27;always&#x27;, &#x27;am&#x27;,\n",
       "                                             &#x27;among&#x27;, &#x27;amongst&#x27;, &#x27;amoungst&#x27;,\n",
       "                                             &#x27;amount&#x27;, &#x27;an&#x27;, &#x27;and&#x27;, &#x27;another&#x27;,\n",
       "                                             &#x27;any&#x27;, &#x27;anyhow&#x27;, &#x27;anyone&#x27;,\n",
       "                                             &#x27;anything&#x27;, &#x27;anyway&#x27;, ...})),\n",
       "                (&#x27;RF Grid Search&#x27;,\n",
       "                 GridSearchCV(cv=5,\n",
       "                              estimator=RandomForestClassifier(random_state=42),\n",
       "                              param_grid={&#x27;max_depth&#x27;: [100, 150, 200, 250],\n",
       "                                          &#x27;min_samples_leaf&#x27;: [3, 2, 1],\n",
       "                                          &#x27;min_samples_split&#x27;: [6, 4, 2],\n",
       "                                          &#x27;n_estimators&#x27;: [100, 200, 300, 400,\n",
       "                                                           500]}))])</pre></div></div></div><div class=\"sk-serial\"><div class=\"sk-item\"><div class=\"sk-estimator sk-toggleable\"><input class=\"sk-toggleable__control sk-hidden--visually\" id=\"sk-estimator-id-5\" type=\"checkbox\" ><label for=\"sk-estimator-id-5\" class=\"sk-toggleable__label sk-toggleable__label-arrow\">TfidfVectorizer</label><div class=\"sk-toggleable__content\"><pre>TfidfVectorizer(min_df=5, ngram_range=(1, 3),\n",
       "                stop_words={&#x27;a&#x27;, &#x27;about&#x27;, &#x27;above&#x27;, &#x27;across&#x27;, &#x27;after&#x27;,\n",
       "                            &#x27;afterwards&#x27;, &#x27;again&#x27;, &#x27;against&#x27;, &#x27;ain&#x27;, &#x27;all&#x27;,\n",
       "                            &#x27;almost&#x27;, &#x27;alone&#x27;, &#x27;along&#x27;, &#x27;already&#x27;, &#x27;also&#x27;,\n",
       "                            &#x27;although&#x27;, &#x27;always&#x27;, &#x27;am&#x27;, &#x27;among&#x27;, &#x27;amongst&#x27;,\n",
       "                            &#x27;amoungst&#x27;, &#x27;amount&#x27;, &#x27;an&#x27;, &#x27;and&#x27;, &#x27;another&#x27;, &#x27;any&#x27;,\n",
       "                            &#x27;anyhow&#x27;, &#x27;anyone&#x27;, &#x27;anything&#x27;, &#x27;anyway&#x27;, ...})</pre></div></div></div><div class=\"sk-item sk-dashed-wrapped\"><div class=\"sk-label-container\"><div class=\"sk-label sk-toggleable\"><input class=\"sk-toggleable__control sk-hidden--visually\" id=\"sk-estimator-id-6\" type=\"checkbox\" ><label for=\"sk-estimator-id-6\" class=\"sk-toggleable__label sk-toggleable__label-arrow\">RF Grid Search: GridSearchCV</label><div class=\"sk-toggleable__content\"><pre>GridSearchCV(cv=5, estimator=RandomForestClassifier(random_state=42),\n",
       "             param_grid={&#x27;max_depth&#x27;: [100, 150, 200, 250],\n",
       "                         &#x27;min_samples_leaf&#x27;: [3, 2, 1],\n",
       "                         &#x27;min_samples_split&#x27;: [6, 4, 2],\n",
       "                         &#x27;n_estimators&#x27;: [100, 200, 300, 400, 500]})</pre></div></div></div><div class=\"sk-parallel\"><div class=\"sk-parallel-item\"><div class=\"sk-item\"><div class=\"sk-label-container\"><div class=\"sk-label sk-toggleable\"><input class=\"sk-toggleable__control sk-hidden--visually\" id=\"sk-estimator-id-7\" type=\"checkbox\" ><label for=\"sk-estimator-id-7\" class=\"sk-toggleable__label sk-toggleable__label-arrow\">estimator: RandomForestClassifier</label><div class=\"sk-toggleable__content\"><pre>RandomForestClassifier(random_state=42)</pre></div></div></div><div class=\"sk-serial\"><div class=\"sk-item\"><div class=\"sk-estimator sk-toggleable\"><input class=\"sk-toggleable__control sk-hidden--visually\" id=\"sk-estimator-id-8\" type=\"checkbox\" ><label for=\"sk-estimator-id-8\" class=\"sk-toggleable__label sk-toggleable__label-arrow\">RandomForestClassifier</label><div class=\"sk-toggleable__content\"><pre>RandomForestClassifier(random_state=42)</pre></div></div></div></div></div></div></div></div></div></div></div></div>"
      ],
      "text/plain": [
       "Pipeline(steps=[('tfidf',\n",
       "                 TfidfVectorizer(min_df=5, ngram_range=(1, 3),\n",
       "                                 stop_words={'a', 'about', 'above', 'across',\n",
       "                                             'after', 'afterwards', 'again',\n",
       "                                             'against', 'ain', 'all', 'almost',\n",
       "                                             'alone', 'along', 'already',\n",
       "                                             'also', 'although', 'always', 'am',\n",
       "                                             'among', 'amongst', 'amoungst',\n",
       "                                             'amount', 'an', 'and', 'another',\n",
       "                                             'any', 'anyhow', 'anyone',\n",
       "                                             'anything', 'anyway', ...})),\n",
       "                ('RF Grid Search',\n",
       "                 GridSearchCV(cv=5,\n",
       "                              estimator=RandomForestClassifier(random_state=42),\n",
       "                              param_grid={'max_depth': [100, 150, 200, 250],\n",
       "                                          'min_samples_leaf': [3, 2, 1],\n",
       "                                          'min_samples_split': [6, 4, 2],\n",
       "                                          'n_estimators': [100, 200, 300, 400,\n",
       "                                                           500]}))])"
      ]
     },
     "execution_count": 31,
     "metadata": {},
     "output_type": "execute_result"
    }
   ],
   "source": [
    "rf_grid_search_CV.fit(X_train, y_train)"
   ]
  },
  {
   "cell_type": "code",
   "execution_count": 32,
   "id": "7908325d-d5df-4d3a-95cf-70ec69ca0bba",
   "metadata": {},
   "outputs": [
    {
     "name": "stdout",
     "output_type": "stream",
     "text": [
      "Best scores:  0.8888876923076923\n"
     ]
    }
   ],
   "source": [
    "print(\"Best scores: \", rf_grid_search_CV[1].best_score_)"
   ]
  },
  {
   "cell_type": "code",
   "execution_count": 33,
   "id": "f4938838-73b8-4145-9d36-88554e5ba896",
   "metadata": {},
   "outputs": [
    {
     "name": "stdout",
     "output_type": "stream",
     "text": [
      "Best parameters:  {'max_depth': 150, 'min_samples_leaf': 1, 'min_samples_split': 2, 'n_estimators': 100}\n"
     ]
    }
   ],
   "source": [
    "print(\"Best parameters: \", rf_grid_search_CV[1].best_params_)"
   ]
  },
  {
   "cell_type": "code",
   "execution_count": 40,
   "id": "db98af19-d542-44a2-8382-98451319a1f9",
   "metadata": {},
   "outputs": [],
   "source": [
    "# Train a model using the parameters above.\n",
    "RF_pipeline = Pipeline([\n",
    "    ('tfidf', TfidfVectorizer(min_df=5, ngram_range=(1,3), stop_words=my_stop_words)),\n",
    "    # ('cvec', CountVectorizer(min_df=5, ngram_range=(1,3), stop_words=my_stop_words)),\n",
    "    ('RF', RandomForestClassifier(\n",
    "        n_estimators=300, \n",
    "        max_depth=250, \n",
    "        min_samples_split=4, \n",
    "        min_samples_leaf=1,\n",
    "    )),\n",
    "])"
   ]
  },
  {
   "cell_type": "code",
   "execution_count": 41,
   "id": "d13a2b0a-0332-44e2-8867-8cba571d2462",
   "metadata": {},
   "outputs": [
    {
     "name": "stdout",
     "output_type": "stream",
     "text": [
      "The accuracy of this inference is: 0.8860435339308579\n",
      "The precision of this inference is: 0.9144385026737968\n",
      "The specificty of this inference is: 0.9162303664921466\n",
      "The recall of this inference is: 0.8571428571428571\n",
      "The f1 score for this inference is: 0.8848641655886158\n"
     ]
    },
    {
     "data": {
      "image/png": "[encoded data removed]",
      "text/plain": [
       "<Figure size 640x480 with 2 Axes>"
      ]
     },
     "metadata": {},
     "output_type": "display_data"
    }
   ],
   "source": [
    "RF_pipeline.fit(X_train, y_train)\n",
    "y_RF_pred_final = RF_pipeline.predict(X_test)\n",
    "print_confusion_matrix(y_test, y_RF_pred_final)\n",
    "metrics_for_model(y_test, y_RF_pred_final);"
   ]
  },
  {
   "cell_type": "code",
   "execution_count": 42,
   "id": "7061248f-ce47-4a31-8b04-e0e0e10650c2",
   "metadata": {},
   "outputs": [
    {
     "data": {
      "text/html": [
       "<div>\n",
       "<style scoped>\n",
       "    .dataframe tbody tr th:only-of-type {\n",
       "        vertical-align: middle;\n",
       "    }\n",
       "\n",
       "    .dataframe tbody tr th {\n",
       "        vertical-align: top;\n",
       "    }\n",
       "\n",
       "    .dataframe thead th {\n",
       "        text-align: right;\n",
       "    }\n",
       "</style>\n",
       "<table border=\"1\" class=\"dataframe\">\n",
       "  <thead>\n",
       "    <tr style=\"text-align: right;\">\n",
       "      <th></th>\n",
       "      <th>title</th>\n",
       "      <th>label</th>\n",
       "      <th>y_pred_nb</th>\n",
       "      <th>y_prelim_nb</th>\n",
       "      <th>y_pred_nb_2</th>\n",
       "      <th>y_pred_log</th>\n",
       "      <th>y_pred_RF</th>\n",
       "      <th>y_RF_final</th>\n",
       "    </tr>\n",
       "  </thead>\n",
       "  <tbody>\n",
       "    <tr>\n",
       "      <th>7</th>\n",
       "      <td>Spider Man trailer with 90s theme</td>\n",
       "      <td>0</td>\n",
       "      <td>0</td>\n",
       "      <td>1</td>\n",
       "      <td>0</td>\n",
       "      <td>0</td>\n",
       "      <td>1</td>\n",
       "      <td>1</td>\n",
       "    </tr>\n",
       "    <tr>\n",
       "      <th>41</th>\n",
       "      <td>WARNING DON'T Upload photos on nintendo live chat</td>\n",
       "      <td>1</td>\n",
       "      <td>0</td>\n",
       "      <td>1</td>\n",
       "      <td>1</td>\n",
       "      <td>1</td>\n",
       "      <td>0</td>\n",
       "      <td>0</td>\n",
       "    </tr>\n",
       "    <tr>\n",
       "      <th>54</th>\n",
       "      <td>PSA for those looking at the legend of dragoon...</td>\n",
       "      <td>0</td>\n",
       "      <td>0</td>\n",
       "      <td>1</td>\n",
       "      <td>0</td>\n",
       "      <td>1</td>\n",
       "      <td>1</td>\n",
       "      <td>1</td>\n",
       "    </tr>\n",
       "    <tr>\n",
       "      <th>77</th>\n",
       "      <td>How simple texture compression can start a 20-...</td>\n",
       "      <td>1</td>\n",
       "      <td>0</td>\n",
       "      <td>0</td>\n",
       "      <td>0</td>\n",
       "      <td>0</td>\n",
       "      <td>0</td>\n",
       "      <td>0</td>\n",
       "    </tr>\n",
       "    <tr>\n",
       "      <th>79</th>\n",
       "      <td>Been online friends since Destiny launch in 20...</td>\n",
       "      <td>0</td>\n",
       "      <td>1</td>\n",
       "      <td>1</td>\n",
       "      <td>1</td>\n",
       "      <td>1</td>\n",
       "      <td>1</td>\n",
       "      <td>1</td>\n",
       "    </tr>\n",
       "    <tr>\n",
       "      <th>...</th>\n",
       "      <td>...</td>\n",
       "      <td>...</td>\n",
       "      <td>...</td>\n",
       "      <td>...</td>\n",
       "      <td>...</td>\n",
       "      <td>...</td>\n",
       "      <td>...</td>\n",
       "      <td>...</td>\n",
       "    </tr>\n",
       "    <tr>\n",
       "      <th>747</th>\n",
       "      <td>Tis the season on the Starfall Islands. You ca...</td>\n",
       "      <td>1</td>\n",
       "      <td>0</td>\n",
       "      <td>0</td>\n",
       "      <td>0</td>\n",
       "      <td>0</td>\n",
       "      <td>0</td>\n",
       "      <td>0</td>\n",
       "    </tr>\n",
       "    <tr>\n",
       "      <th>748</th>\n",
       "      <td>Nintendo's next console will lean towards stre...</td>\n",
       "      <td>1</td>\n",
       "      <td>1</td>\n",
       "      <td>0</td>\n",
       "      <td>0</td>\n",
       "      <td>0</td>\n",
       "      <td>0</td>\n",
       "      <td>0</td>\n",
       "    </tr>\n",
       "    <tr>\n",
       "      <th>749</th>\n",
       "      <td>As a kid, Nintendo helped me earn my Bear Badge.</td>\n",
       "      <td>1</td>\n",
       "      <td>0</td>\n",
       "      <td>0</td>\n",
       "      <td>0</td>\n",
       "      <td>0</td>\n",
       "      <td>0</td>\n",
       "      <td>0</td>\n",
       "    </tr>\n",
       "    <tr>\n",
       "      <th>766</th>\n",
       "      <td>Galar Region is based off the UK. Victorian-es...</td>\n",
       "      <td>1</td>\n",
       "      <td>0</td>\n",
       "      <td>1</td>\n",
       "      <td>1</td>\n",
       "      <td>0</td>\n",
       "      <td>0</td>\n",
       "      <td>0</td>\n",
       "    </tr>\n",
       "    <tr>\n",
       "      <th>769</th>\n",
       "      <td>Japan Is More Excited About Nintendo Labo Than...</td>\n",
       "      <td>1</td>\n",
       "      <td>0</td>\n",
       "      <td>0</td>\n",
       "      <td>0</td>\n",
       "      <td>0</td>\n",
       "      <td>0</td>\n",
       "      <td>0</td>\n",
       "    </tr>\n",
       "  </tbody>\n",
       "</table>\n",
       "<p>89 rows × 8 columns</p>\n",
       "</div>"
      ],
      "text/plain": [
       "                                                 title  label  y_pred_nb  \\\n",
       "7                    Spider Man trailer with 90s theme      0          0   \n",
       "41   WARNING DON'T Upload photos on nintendo live chat      1          0   \n",
       "54   PSA for those looking at the legend of dragoon...      0          0   \n",
       "77   How simple texture compression can start a 20-...      1          0   \n",
       "79   Been online friends since Destiny launch in 20...      0          1   \n",
       "..                                                 ...    ...        ...   \n",
       "747  Tis the season on the Starfall Islands. You ca...      1          0   \n",
       "748  Nintendo's next console will lean towards stre...      1          1   \n",
       "749   As a kid, Nintendo helped me earn my Bear Badge.      1          0   \n",
       "766  Galar Region is based off the UK. Victorian-es...      1          0   \n",
       "769  Japan Is More Excited About Nintendo Labo Than...      1          0   \n",
       "\n",
       "     y_prelim_nb  y_pred_nb_2  y_pred_log  y_pred_RF  y_RF_final  \n",
       "7              1            0           0          1           1  \n",
       "41             1            1           1          0           0  \n",
       "54             1            0           1          1           1  \n",
       "77             0            0           0          0           0  \n",
       "79             1            1           1          1           1  \n",
       "..           ...          ...         ...        ...         ...  \n",
       "747            0            0           0          0           0  \n",
       "748            0            0           0          0           0  \n",
       "749            0            0           0          0           0  \n",
       "766            1            1           0          0           0  \n",
       "769            0            0           0          0           0  \n",
       "\n",
       "[89 rows x 8 columns]"
      ]
     },
     "execution_count": 42,
     "metadata": {},
     "output_type": "execute_result"
    }
   ],
   "source": [
    "df_comb = pd.concat([df_comb, pd.DataFrame(y_RF_pred_final, columns=['y_RF_final'])], axis=1)\n",
    "df_comb.loc[df_comb['label'] != df_comb['y_RF_final']]"
   ]
  },
  {
   "cell_type": "markdown",
   "id": "b3b537d6-f090-4eaf-b0f4-55b7b1c1bb32",
   "metadata": {},
   "source": [
    "Looking at RF, very similar problems can be seen here...   \n",
    "For example, key words like `nintendo` could not be recongnised for index 41, 748 and 769.  \n",
    "This then leads the model to give predict whats from nintendo to be from playstation and vice versa.  \n",
    "Other false predictions can likely be attributed to not having a clear context.  "
   ]
  },
  {
   "cell_type": "code",
   "execution_count": 43,
   "id": "cb4d74ad-b188-4890-831c-a12981f5eb5c",
   "metadata": {},
   "outputs": [
    {
     "name": "stdout",
     "output_type": "stream",
     "text": [
      "The accuracy of this inference is: 0.9846301633045149\n",
      "The precision of this inference is: 0.9946127946127946\n",
      "The specificty of this inference is: 0.9950186799501868\n",
      "The recall of this inference is: 0.97363216875412\n",
      "The f1 score for this inference is: 0.9840106595602932\n"
     ]
    },
    {
     "data": {
      "image/png": "[encoded data removed]",
      "text/plain": [
       "<Figure size 640x480 with 2 Axes>"
      ]
     },
     "metadata": {},
     "output_type": "display_data"
    }
   ],
   "source": [
    "# check for over fitting\n",
    "y_final_RF_pred_train = RF_pipeline.predict(X_train)\n",
    "print_confusion_matrix(y_train, y_final_RF_pred_train)\n",
    "metrics_for_model(y_train, y_final_RF_pred_train);"
   ]
  },
  {
   "cell_type": "markdown",
   "id": "d6f91c4d-cc78-4c3f-95a3-6a5c31f23db6",
   "metadata": {},
   "source": [
    "The final model is not fantanstic, in terms of all the socres.  \n",
    "It also displayed some degree of over fitting, when comparing the training and testing sets.  \n",
    "However, looking at the difference is likely due to the difference in the corpus used by training and testing sets.  \n",
    "Also, the model with hyper parameters before cross validation performed better than model using hyper parameters after cross validation.  \n",
    "The training set uses cross validation within the traning corpus.  \n",
    "Hyper parameters are being tuned for the traning sets, not the testing set.  \n",
    "This obviously doesn't generalise to the testing set.  \n",
    "This actually reflects that more data should be gathered to enlarge the corpus.  \n",
    "It also suggests that I may not want to remove the key give away words by putting them in the stop words list.  \n",
    "\n",
    "---\n",
    "Even so, the testing dataset performed okay with this model.  \n",
    "It performed very similarly to navie bayes.  \n",
    "I personally feel that this is an acceptable model.  "
   ]
  },
  {
   "cell_type": "markdown",
   "id": "efbd50e2-9c7d-4521-b7a3-b2a108027e17",
   "metadata": {},
   "source": [
    "### XGB"
   ]
  },
  {
   "cell_type": "markdown",
   "id": "1692d49f-8d68-4e4f-ab3d-7ee7330587e3",
   "metadata": {},
   "source": [
    "Gradient boosting is a powerful machine learning technique used for both regression and classification tasks.    \n",
    "It involves combining several weak models, typically decision trees, to create a strong predictive model.    \n",
    "The idea behind gradient boosting is to iteratively improve upon the performance of a base model by adding new models to the ensemble that can compensate for the errors made by the previous models.\n",
    "\n",
    "Extreme Gradient Boosting (XGBoost) is a popular implementation of gradient boosting that has gained significant popularity in recent years.    \n",
    "XGBoost is an optimized version of the gradient boosting algorithm that uses a combination of techniques to improve performance and reduce computation time.\n",
    "One of the key features of XGBoost is the use of a specialized gradient descent algorithm called \"tree boosting\" that constructs decision trees sequentially.    \n",
    "Each new tree is trained to predict the residual errors of the previous trees, which allows the model to progressively improve its performance.\n",
    "Another key feature of XGBoost is the use of regularization techniques such as L1 (lasso) and L2 (ridge) regularization, which help to prevent overfitting and improve the generalization performance of the model.   \n",
    "XGBoost also uses a technique called \"pruning,\" which involves removing parts of the tree that do not contribute to the overall accuracy of the model, reducing the model's complexity.\n",
    "Finally, XGBoost is designed to handle large datasets and is optimized to take advantage of distributed computing environments.    \n",
    "This makes it a powerful tool for training models on large-scale datasets.\n",
    "\n",
    "In summary, XGBoost is an optimized implementation of the gradient boosting algorithm that can achieve state-of-the-art performance on a wide range of tasks.  "
   ]
  },
  {
   "cell_type": "code",
   "execution_count": 44,
   "id": "708abaf7-7bc9-4297-b38b-3297b0c661c4",
   "metadata": {},
   "outputs": [],
   "source": [
    "XGB_pipeline = Pipeline([\n",
    "    ('tfidf', TfidfVectorizer(min_df=5, ngram_range=(1,3), stop_words=my_stop_words)),\n",
    "    # ('cvec', CountVectorizer(min_df=5, ngram_range=(1,3), stop_words=my_stop_words)),\n",
    "    ('XGBoost', xgb.XGBClassifier(objective=\"binary:logistic\", random_state=42)),\n",
    "])"
   ]
  },
  {
   "cell_type": "code",
   "execution_count": 45,
   "id": "b0d33f73-9b84-440e-a010-a9c38c3765b9",
   "metadata": {},
   "outputs": [
    {
     "data": {
      "text/html": [
       "<style>#sk-container-id-3 {color: black;background-color: white;}#sk-container-id-3 pre{padding: 0;}#sk-container-id-3 div.sk-toggleable {background-color: white;}#sk-container-id-3 label.sk-toggleable__label {cursor: pointer;display: block;width: 100%;margin-bottom: 0;padding: 0.3em;box-sizing: border-box;text-align: center;}#sk-container-id-3 label.sk-toggleable__label-arrow:before {content: \"▸\";float: left;margin-right: 0.25em;color: #696969;}#sk-container-id-3 label.sk-toggleable__label-arrow:hover:before {color: black;}#sk-container-id-3 div.sk-estimator:hover label.sk-toggleable__label-arrow:before {color: black;}#sk-container-id-3 div.sk-toggleable__content {max-height: 0;max-width: 0;overflow: hidden;text-align: left;background-color: #f0f8ff;}#sk-container-id-3 div.sk-toggleable__content pre {margin: 0.2em;color: black;border-radius: 0.25em;background-color: #f0f8ff;}#sk-container-id-3 input.sk-toggleable__control:checked~div.sk-toggleable__content {max-height: 200px;max-width: 100%;overflow: auto;}#sk-container-id-3 input.sk-toggleable__control:checked~label.sk-toggleable__label-arrow:before {content: \"▾\";}#sk-container-id-3 div.sk-estimator input.sk-toggleable__control:checked~label.sk-toggleable__label {background-color: #d4ebff;}#sk-container-id-3 div.sk-label input.sk-toggleable__control:checked~label.sk-toggleable__label {background-color: #d4ebff;}#sk-container-id-3 input.sk-hidden--visually {border: 0;clip: rect(1px 1px 1px 1px);clip: rect(1px, 1px, 1px, 1px);height: 1px;margin: -1px;overflow: hidden;padding: 0;position: absolute;width: 1px;}#sk-container-id-3 div.sk-estimator {font-family: monospace;background-color: #f0f8ff;border: 1px dotted black;border-radius: 0.25em;box-sizing: border-box;margin-bottom: 0.5em;}#sk-container-id-3 div.sk-estimator:hover {background-color: #d4ebff;}#sk-container-id-3 div.sk-parallel-item::after {content: \"\";width: 100%;border-bottom: 1px solid gray;flex-grow: 1;}#sk-container-id-3 div.sk-label:hover label.sk-toggleable__label {background-color: #d4ebff;}#sk-container-id-3 div.sk-serial::before {content: \"\";position: absolute;border-left: 1px solid gray;box-sizing: border-box;top: 0;bottom: 0;left: 50%;z-index: 0;}#sk-container-id-3 div.sk-serial {display: flex;flex-direction: column;align-items: center;background-color: white;padding-right: 0.2em;padding-left: 0.2em;position: relative;}#sk-container-id-3 div.sk-item {position: relative;z-index: 1;}#sk-container-id-3 div.sk-parallel {display: flex;align-items: stretch;justify-content: center;background-color: white;position: relative;}#sk-container-id-3 div.sk-item::before, #sk-container-id-3 div.sk-parallel-item::before {content: \"\";position: absolute;border-left: 1px solid gray;box-sizing: border-box;top: 0;bottom: 0;left: 50%;z-index: -1;}#sk-container-id-3 div.sk-parallel-item {display: flex;flex-direction: column;z-index: 1;position: relative;background-color: white;}#sk-container-id-3 div.sk-parallel-item:first-child::after {align-self: flex-end;width: 50%;}#sk-container-id-3 div.sk-parallel-item:last-child::after {align-self: flex-start;width: 50%;}#sk-container-id-3 div.sk-parallel-item:only-child::after {width: 0;}#sk-container-id-3 div.sk-dashed-wrapped {border: 1px dashed gray;margin: 0 0.4em 0.5em 0.4em;box-sizing: border-box;padding-bottom: 0.4em;background-color: white;}#sk-container-id-3 div.sk-label label {font-family: monospace;font-weight: bold;display: inline-block;line-height: 1.2em;}#sk-container-id-3 div.sk-label-container {text-align: center;}#sk-container-id-3 div.sk-container {/* jupyter's `normalize.less` sets `[hidden] { display: none; }` but bootstrap.min.css set `[hidden] { display: none !important; }` so we also need the `!important` here to be able to override the default hidden behavior on the sphinx rendered scikit-learn.org. See: https://github.com/scikit-learn/scikit-learn/issues/21755 */display: inline-block !important;position: relative;}#sk-container-id-3 div.sk-text-repr-fallback {display: none;}</style><div id=\"sk-container-id-3\" class=\"sk-top-container\"><div class=\"sk-text-repr-fallback\"><pre>Pipeline(steps=[(&#x27;tfidf&#x27;,\n",
       "                 TfidfVectorizer(min_df=5, ngram_range=(1, 3),\n",
       "                                 stop_words={&#x27;a&#x27;, &#x27;about&#x27;, &#x27;above&#x27;, &#x27;across&#x27;,\n",
       "                                             &#x27;after&#x27;, &#x27;afterwards&#x27;, &#x27;again&#x27;,\n",
       "                                             &#x27;against&#x27;, &#x27;ain&#x27;, &#x27;all&#x27;, &#x27;almost&#x27;,\n",
       "                                             &#x27;alone&#x27;, &#x27;along&#x27;, &#x27;already&#x27;,\n",
       "                                             &#x27;also&#x27;, &#x27;although&#x27;, &#x27;always&#x27;, &#x27;am&#x27;,\n",
       "                                             &#x27;among&#x27;, &#x27;amongst&#x27;, &#x27;amoungst&#x27;,\n",
       "                                             &#x27;amount&#x27;, &#x27;an&#x27;, &#x27;and&#x27;, &#x27;another&#x27;,\n",
       "                                             &#x27;any&#x27;, &#x27;anyhow&#x27;, &#x27;anyone&#x27;,\n",
       "                                             &#x27;anything&#x27;, &#x27;anyway&#x27;, ...})),\n",
       "                (&#x27;XGBoost&#x27;,\n",
       "                 XG...\n",
       "                               feature_types=None, gamma=0, gpu_id=-1,\n",
       "                               grow_policy=&#x27;depthwise&#x27;, importance_type=None,\n",
       "                               interaction_constraints=&#x27;&#x27;,\n",
       "                               learning_rate=0.300000012, max_bin=256,\n",
       "                               max_cat_threshold=64, max_cat_to_onehot=4,\n",
       "                               max_delta_step=0, max_depth=6, max_leaves=0,\n",
       "                               min_child_weight=1, missing=nan,\n",
       "                               monotone_constraints=&#x27;()&#x27;, n_estimators=100,\n",
       "                               n_jobs=0, num_parallel_tree=1, predictor=&#x27;auto&#x27;,\n",
       "                               random_state=42, ...))])</pre><b>In a Jupyter environment, please rerun this cell to show the HTML representation or trust the notebook. <br />On GitHub, the HTML representation is unable to render, please try loading this page with nbviewer.org.</b></div><div class=\"sk-container\" hidden><div class=\"sk-item sk-dashed-wrapped\"><div class=\"sk-label-container\"><div class=\"sk-label sk-toggleable\"><input class=\"sk-toggleable__control sk-hidden--visually\" id=\"sk-estimator-id-7\" type=\"checkbox\" ><label for=\"sk-estimator-id-7\" class=\"sk-toggleable__label sk-toggleable__label-arrow\">Pipeline</label><div class=\"sk-toggleable__content\"><pre>Pipeline(steps=[(&#x27;tfidf&#x27;,\n",
       "                 TfidfVectorizer(min_df=5, ngram_range=(1, 3),\n",
       "                                 stop_words={&#x27;a&#x27;, &#x27;about&#x27;, &#x27;above&#x27;, &#x27;across&#x27;,\n",
       "                                             &#x27;after&#x27;, &#x27;afterwards&#x27;, &#x27;again&#x27;,\n",
       "                                             &#x27;against&#x27;, &#x27;ain&#x27;, &#x27;all&#x27;, &#x27;almost&#x27;,\n",
       "                                             &#x27;alone&#x27;, &#x27;along&#x27;, &#x27;already&#x27;,\n",
       "                                             &#x27;also&#x27;, &#x27;although&#x27;, &#x27;always&#x27;, &#x27;am&#x27;,\n",
       "                                             &#x27;among&#x27;, &#x27;amongst&#x27;, &#x27;amoungst&#x27;,\n",
       "                                             &#x27;amount&#x27;, &#x27;an&#x27;, &#x27;and&#x27;, &#x27;another&#x27;,\n",
       "                                             &#x27;any&#x27;, &#x27;anyhow&#x27;, &#x27;anyone&#x27;,\n",
       "                                             &#x27;anything&#x27;, &#x27;anyway&#x27;, ...})),\n",
       "                (&#x27;XGBoost&#x27;,\n",
       "                 XG...\n",
       "                               feature_types=None, gamma=0, gpu_id=-1,\n",
       "                               grow_policy=&#x27;depthwise&#x27;, importance_type=None,\n",
       "                               interaction_constraints=&#x27;&#x27;,\n",
       "                               learning_rate=0.300000012, max_bin=256,\n",
       "                               max_cat_threshold=64, max_cat_to_onehot=4,\n",
       "                               max_delta_step=0, max_depth=6, max_leaves=0,\n",
       "                               min_child_weight=1, missing=nan,\n",
       "                               monotone_constraints=&#x27;()&#x27;, n_estimators=100,\n",
       "                               n_jobs=0, num_parallel_tree=1, predictor=&#x27;auto&#x27;,\n",
       "                               random_state=42, ...))])</pre></div></div></div><div class=\"sk-serial\"><div class=\"sk-item\"><div class=\"sk-estimator sk-toggleable\"><input class=\"sk-toggleable__control sk-hidden--visually\" id=\"sk-estimator-id-8\" type=\"checkbox\" ><label for=\"sk-estimator-id-8\" class=\"sk-toggleable__label sk-toggleable__label-arrow\">TfidfVectorizer</label><div class=\"sk-toggleable__content\"><pre>TfidfVectorizer(min_df=5, ngram_range=(1, 3),\n",
       "                stop_words={&#x27;a&#x27;, &#x27;about&#x27;, &#x27;above&#x27;, &#x27;across&#x27;, &#x27;after&#x27;,\n",
       "                            &#x27;afterwards&#x27;, &#x27;again&#x27;, &#x27;against&#x27;, &#x27;ain&#x27;, &#x27;all&#x27;,\n",
       "                            &#x27;almost&#x27;, &#x27;alone&#x27;, &#x27;along&#x27;, &#x27;already&#x27;, &#x27;also&#x27;,\n",
       "                            &#x27;although&#x27;, &#x27;always&#x27;, &#x27;am&#x27;, &#x27;among&#x27;, &#x27;amongst&#x27;,\n",
       "                            &#x27;amoungst&#x27;, &#x27;amount&#x27;, &#x27;an&#x27;, &#x27;and&#x27;, &#x27;another&#x27;, &#x27;any&#x27;,\n",
       "                            &#x27;anyhow&#x27;, &#x27;anyone&#x27;, &#x27;anything&#x27;, &#x27;anyway&#x27;, ...})</pre></div></div></div><div class=\"sk-item\"><div class=\"sk-estimator sk-toggleable\"><input class=\"sk-toggleable__control sk-hidden--visually\" id=\"sk-estimator-id-9\" type=\"checkbox\" ><label for=\"sk-estimator-id-9\" class=\"sk-toggleable__label sk-toggleable__label-arrow\">XGBClassifier</label><div class=\"sk-toggleable__content\"><pre>XGBClassifier(base_score=0.5, booster=&#x27;gbtree&#x27;, callbacks=None,\n",
       "              colsample_bylevel=1, colsample_bynode=1, colsample_bytree=1,\n",
       "              early_stopping_rounds=None, enable_categorical=False,\n",
       "              eval_metric=None, feature_types=None, gamma=0, gpu_id=-1,\n",
       "              grow_policy=&#x27;depthwise&#x27;, importance_type=None,\n",
       "              interaction_constraints=&#x27;&#x27;, learning_rate=0.300000012,\n",
       "              max_bin=256, max_cat_threshold=64, max_cat_to_onehot=4,\n",
       "              max_delta_step=0, max_depth=6, max_leaves=0, min_child_weight=1,\n",
       "              missing=nan, monotone_constraints=&#x27;()&#x27;, n_estimators=100,\n",
       "              n_jobs=0, num_parallel_tree=1, predictor=&#x27;auto&#x27;, random_state=42, ...)</pre></div></div></div></div></div></div></div>"
      ],
      "text/plain": [
       "Pipeline(steps=[('tfidf',\n",
       "                 TfidfVectorizer(min_df=5, ngram_range=(1, 3),\n",
       "                                 stop_words={'a', 'about', 'above', 'across',\n",
       "                                             'after', 'afterwards', 'again',\n",
       "                                             'against', 'ain', 'all', 'almost',\n",
       "                                             'alone', 'along', 'already',\n",
       "                                             'also', 'although', 'always', 'am',\n",
       "                                             'among', 'amongst', 'amoungst',\n",
       "                                             'amount', 'an', 'and', 'another',\n",
       "                                             'any', 'anyhow', 'anyone',\n",
       "                                             'anything', 'anyway', ...})),\n",
       "                ('XGBoost',\n",
       "                 XG...\n",
       "                               feature_types=None, gamma=0, gpu_id=-1,\n",
       "                               grow_policy='depthwise', importance_type=None,\n",
       "                               interaction_constraints='',\n",
       "                               learning_rate=0.300000012, max_bin=256,\n",
       "                               max_cat_threshold=64, max_cat_to_onehot=4,\n",
       "                               max_delta_step=0, max_depth=6, max_leaves=0,\n",
       "                               min_child_weight=1, missing=nan,\n",
       "                               monotone_constraints='()', n_estimators=100,\n",
       "                               n_jobs=0, num_parallel_tree=1, predictor='auto',\n",
       "                               random_state=42, ...))])"
      ]
     },
     "execution_count": 45,
     "metadata": {},
     "output_type": "execute_result"
    }
   ],
   "source": [
    "XGB_pipeline.fit(X_train, y_train)"
   ]
  },
  {
   "cell_type": "code",
   "execution_count": 46,
   "id": "59a2d2e8-8312-4d2f-8b7e-72df86bf3562",
   "metadata": {},
   "outputs": [
    {
     "name": "stdout",
     "output_type": "stream",
     "text": [
      "The accuracy of this inference is: 0.8693982074263764\n",
      "The precision of this inference is: 0.9406528189910979\n",
      "The specificty of this inference is: 0.9476439790575916\n",
      "The recall of this inference is: 0.7944862155388471\n",
      "The f1 score for this inference is: 0.8614130434782609\n"
     ]
    },
    {
     "data": {
      "image/png": "[encoded data removed]",
      "text/plain": [
       "<Figure size 640x480 with 2 Axes>"
      ]
     },
     "metadata": {},
     "output_type": "display_data"
    }
   ],
   "source": [
    "y_pred_XGB = XGB_pipeline.predict(X_test)\n",
    "print_confusion_matrix(y_test, y_pred_XGB)\n",
    "metrics_for_model(y_test, y_pred_XGB);"
   ]
  },
  {
   "cell_type": "markdown",
   "id": "245feb3b-221f-41fa-ae4c-5d066de7b214",
   "metadata": {},
   "source": [
    "The results from XGB pipeline is not as good as I would have imagined.  \n",
    "The good thing is, this model have the smallest number of false positives so far...  \n",
    "If my intension is to keep to the `nintendo` players happy, then this is probably the model to pick...  \n",
    "It is unlikely to classify `playstation` posts as `nintendo` posts, although it have a higher chance of classifying `nintendo` posts as `playstation`.  \n",
    "This model offers a high precision, but the trade off is a lower accuracy and a lower f1 socre.\n",
    "This is likely due to the tunning.  \n",
    "Let me check the over fitting.  "
   ]
  },
  {
   "cell_type": "code",
   "execution_count": 47,
   "id": "4e7d2df5-cc92-444a-9d45-1241a3a3d358",
   "metadata": {},
   "outputs": [
    {
     "name": "stdout",
     "output_type": "stream",
     "text": [
      "The accuracy of this inference is: 0.9266730707652898\n",
      "The precision of this inference is: 0.9931087289433385\n",
      "The specificty of this inference is: 0.9943960149439601\n",
      "The recall of this inference is: 0.8549769281476599\n",
      "The f1 score for this inference is: 0.9188806234502302\n"
     ]
    },
    {
     "data": {
      "image/png": "[encoded data removed]",
      "text/plain": [
       "<Figure size 640x480 with 2 Axes>"
      ]
     },
     "metadata": {},
     "output_type": "display_data"
    }
   ],
   "source": [
    "y_pred_XGB_train = XGB_pipeline.predict(X_train)\n",
    "print_confusion_matrix(y_train, y_pred_XGB_train)\n",
    "metrics_for_model(y_train, y_pred_XGB_train);"
   ]
  },
  {
   "cell_type": "markdown",
   "id": "e8145a0f-cb21-403a-9548-3bddb4026970",
   "metadata": {},
   "source": [
    "Yes the model is slightly over fitted, just like all other models.  \n",
    "There's no gross over fitting, and I suspect that it is due to the use of n-grams.  \n",
    "\n",
    "---\n",
    "move on to do hyper parameter tunning and see if the performance improves."
   ]
  },
  {
   "cell_type": "code",
   "execution_count": 48,
   "id": "ded7571c-3db0-400b-9988-18173e89aa3a",
   "metadata": {},
   "outputs": [],
   "source": [
    "rand_search_cv_params = {\n",
    "    \"colsample_bytree\": uniform(0.7, 0.3),\n",
    "    \"gamma\": uniform(0, 0.5),\n",
    "    \"learning_rate\": uniform(0.03, 0.3), # default 0.1 \n",
    "    \"max_depth\": randint(2, 6), # default 3\n",
    "    \"n_estimators\": randint(100, 150), # default 100\n",
    "    \"subsample\": uniform(0.6, 0.4)\n",
    "}\n",
    "xgb_model = xgb.XGBClassifier(objective=\"binary:logistic\", random_state=42)"
   ]
  },
  {
   "cell_type": "code",
   "execution_count": 49,
   "id": "a9d4050e-2f16-4694-abfa-05ff379dd090",
   "metadata": {},
   "outputs": [],
   "source": [
    "# Define rand search CV\n",
    "rand_search = RandomizedSearchCV(xgb_model, param_distributions=rand_search_cv_params, random_state=42, n_iter=200, cv=5, verbose=1, n_jobs=1, return_train_score=True)\n",
    "# Make pipeline\n",
    "xgb_rand_search_CV = Pipeline(\n",
    "    steps=[('tfidf', TfidfVectorizer(min_df=5, ngram_range=(1,3), stop_words=my_stop_words)), \n",
    "           (\"XGB Rand Search\", rand_search)]\n",
    ") "
   ]
  },
  {
   "cell_type": "code",
   "execution_count": 42,
   "id": "317a0f2b-2ec3-4cab-9e4b-5e3a32500a16",
   "metadata": {},
   "outputs": [
    {
     "name": "stdout",
     "output_type": "stream",
     "text": [
      "Fitting 5 folds for each of 200 candidates, totalling 1000 fits\n"
     ]
    },
    {
     "data": {
      "text/html": [
       "<style>#sk-container-id-4 {color: black;background-color: white;}#sk-container-id-4 pre{padding: 0;}#sk-container-id-4 div.sk-toggleable {background-color: white;}#sk-container-id-4 label.sk-toggleable__label {cursor: pointer;display: block;width: 100%;margin-bottom: 0;padding: 0.3em;box-sizing: border-box;text-align: center;}#sk-container-id-4 label.sk-toggleable__label-arrow:before {content: \"▸\";float: left;margin-right: 0.25em;color: #696969;}#sk-container-id-4 label.sk-toggleable__label-arrow:hover:before {color: black;}#sk-container-id-4 div.sk-estimator:hover label.sk-toggleable__label-arrow:before {color: black;}#sk-container-id-4 div.sk-toggleable__content {max-height: 0;max-width: 0;overflow: hidden;text-align: left;background-color: #f0f8ff;}#sk-container-id-4 div.sk-toggleable__content pre {margin: 0.2em;color: black;border-radius: 0.25em;background-color: #f0f8ff;}#sk-container-id-4 input.sk-toggleable__control:checked~div.sk-toggleable__content {max-height: 200px;max-width: 100%;overflow: auto;}#sk-container-id-4 input.sk-toggleable__control:checked~label.sk-toggleable__label-arrow:before {content: \"▾\";}#sk-container-id-4 div.sk-estimator input.sk-toggleable__control:checked~label.sk-toggleable__label {background-color: #d4ebff;}#sk-container-id-4 div.sk-label input.sk-toggleable__control:checked~label.sk-toggleable__label {background-color: #d4ebff;}#sk-container-id-4 input.sk-hidden--visually {border: 0;clip: rect(1px 1px 1px 1px);clip: rect(1px, 1px, 1px, 1px);height: 1px;margin: -1px;overflow: hidden;padding: 0;position: absolute;width: 1px;}#sk-container-id-4 div.sk-estimator {font-family: monospace;background-color: #f0f8ff;border: 1px dotted black;border-radius: 0.25em;box-sizing: border-box;margin-bottom: 0.5em;}#sk-container-id-4 div.sk-estimator:hover {background-color: #d4ebff;}#sk-container-id-4 div.sk-parallel-item::after {content: \"\";width: 100%;border-bottom: 1px solid gray;flex-grow: 1;}#sk-container-id-4 div.sk-label:hover label.sk-toggleable__label {background-color: #d4ebff;}#sk-container-id-4 div.sk-serial::before {content: \"\";position: absolute;border-left: 1px solid gray;box-sizing: border-box;top: 0;bottom: 0;left: 50%;z-index: 0;}#sk-container-id-4 div.sk-serial {display: flex;flex-direction: column;align-items: center;background-color: white;padding-right: 0.2em;padding-left: 0.2em;position: relative;}#sk-container-id-4 div.sk-item {position: relative;z-index: 1;}#sk-container-id-4 div.sk-parallel {display: flex;align-items: stretch;justify-content: center;background-color: white;position: relative;}#sk-container-id-4 div.sk-item::before, #sk-container-id-4 div.sk-parallel-item::before {content: \"\";position: absolute;border-left: 1px solid gray;box-sizing: border-box;top: 0;bottom: 0;left: 50%;z-index: -1;}#sk-container-id-4 div.sk-parallel-item {display: flex;flex-direction: column;z-index: 1;position: relative;background-color: white;}#sk-container-id-4 div.sk-parallel-item:first-child::after {align-self: flex-end;width: 50%;}#sk-container-id-4 div.sk-parallel-item:last-child::after {align-self: flex-start;width: 50%;}#sk-container-id-4 div.sk-parallel-item:only-child::after {width: 0;}#sk-container-id-4 div.sk-dashed-wrapped {border: 1px dashed gray;margin: 0 0.4em 0.5em 0.4em;box-sizing: border-box;padding-bottom: 0.4em;background-color: white;}#sk-container-id-4 div.sk-label label {font-family: monospace;font-weight: bold;display: inline-block;line-height: 1.2em;}#sk-container-id-4 div.sk-label-container {text-align: center;}#sk-container-id-4 div.sk-container {/* jupyter's `normalize.less` sets `[hidden] { display: none; }` but bootstrap.min.css set `[hidden] { display: none !important; }` so we also need the `!important` here to be able to override the default hidden behavior on the sphinx rendered scikit-learn.org. See: https://github.com/scikit-learn/scikit-learn/issues/21755 */display: inline-block !important;position: relative;}#sk-container-id-4 div.sk-text-repr-fallback {display: none;}</style><div id=\"sk-container-id-4\" class=\"sk-top-container\"><div class=\"sk-text-repr-fallback\"><pre>Pipeline(steps=[(&#x27;tfidf&#x27;,\n",
       "                 TfidfVectorizer(min_df=5, ngram_range=(1, 3),\n",
       "                                 stop_words={&#x27;a&#x27;, &#x27;about&#x27;, &#x27;above&#x27;, &#x27;across&#x27;,\n",
       "                                             &#x27;after&#x27;, &#x27;afterwards&#x27;, &#x27;again&#x27;,\n",
       "                                             &#x27;against&#x27;, &#x27;ain&#x27;, &#x27;all&#x27;, &#x27;almost&#x27;,\n",
       "                                             &#x27;alone&#x27;, &#x27;along&#x27;, &#x27;already&#x27;,\n",
       "                                             &#x27;also&#x27;, &#x27;although&#x27;, &#x27;always&#x27;, &#x27;am&#x27;,\n",
       "                                             &#x27;among&#x27;, &#x27;amongst&#x27;, &#x27;amoungst&#x27;,\n",
       "                                             &#x27;amount&#x27;, &#x27;an&#x27;, &#x27;and&#x27;, &#x27;another&#x27;,\n",
       "                                             &#x27;any&#x27;, &#x27;anyhow&#x27;, &#x27;anyone&#x27;,\n",
       "                                             &#x27;anything&#x27;, &#x27;anyway&#x27;, ...})),\n",
       "                (&#x27;XGB Rand Sear...\n",
       "                                                         &#x27;learning_rate&#x27;: &lt;scipy.stats._distn_infrastructure.rv_continuous_frozen object at 0x7fcbcdb57dc0&gt;,\n",
       "                                                         &#x27;max_depth&#x27;: &lt;scipy.stats._distn_infrastructure.rv_discrete_frozen object at 0x7fcbc04064f0&gt;,\n",
       "                                                         &#x27;n_estimators&#x27;: &lt;scipy.stats._distn_infrastructure.rv_discrete_frozen object at 0x7fcbc0414250&gt;,\n",
       "                                                         &#x27;subsample&#x27;: &lt;scipy.stats._distn_infrastructure.rv_continuous_frozen object at 0x7fcbc08278e0&gt;},\n",
       "                                    random_state=42, return_train_score=True,\n",
       "                                    verbose=1))])</pre><b>In a Jupyter environment, please rerun this cell to show the HTML representation or trust the notebook. <br />On GitHub, the HTML representation is unable to render, please try loading this page with nbviewer.org.</b></div><div class=\"sk-container\" hidden><div class=\"sk-item sk-dashed-wrapped\"><div class=\"sk-label-container\"><div class=\"sk-label sk-toggleable\"><input class=\"sk-toggleable__control sk-hidden--visually\" id=\"sk-estimator-id-12\" type=\"checkbox\" ><label for=\"sk-estimator-id-12\" class=\"sk-toggleable__label sk-toggleable__label-arrow\">Pipeline</label><div class=\"sk-toggleable__content\"><pre>Pipeline(steps=[(&#x27;tfidf&#x27;,\n",
       "                 TfidfVectorizer(min_df=5, ngram_range=(1, 3),\n",
       "                                 stop_words={&#x27;a&#x27;, &#x27;about&#x27;, &#x27;above&#x27;, &#x27;across&#x27;,\n",
       "                                             &#x27;after&#x27;, &#x27;afterwards&#x27;, &#x27;again&#x27;,\n",
       "                                             &#x27;against&#x27;, &#x27;ain&#x27;, &#x27;all&#x27;, &#x27;almost&#x27;,\n",
       "                                             &#x27;alone&#x27;, &#x27;along&#x27;, &#x27;already&#x27;,\n",
       "                                             &#x27;also&#x27;, &#x27;although&#x27;, &#x27;always&#x27;, &#x27;am&#x27;,\n",
       "                                             &#x27;among&#x27;, &#x27;amongst&#x27;, &#x27;amoungst&#x27;,\n",
       "                                             &#x27;amount&#x27;, &#x27;an&#x27;, &#x27;and&#x27;, &#x27;another&#x27;,\n",
       "                                             &#x27;any&#x27;, &#x27;anyhow&#x27;, &#x27;anyone&#x27;,\n",
       "                                             &#x27;anything&#x27;, &#x27;anyway&#x27;, ...})),\n",
       "                (&#x27;XGB Rand Sear...\n",
       "                                                         &#x27;learning_rate&#x27;: &lt;scipy.stats._distn_infrastructure.rv_continuous_frozen object at 0x7fcbcdb57dc0&gt;,\n",
       "                                                         &#x27;max_depth&#x27;: &lt;scipy.stats._distn_infrastructure.rv_discrete_frozen object at 0x7fcbc04064f0&gt;,\n",
       "                                                         &#x27;n_estimators&#x27;: &lt;scipy.stats._distn_infrastructure.rv_discrete_frozen object at 0x7fcbc0414250&gt;,\n",
       "                                                         &#x27;subsample&#x27;: &lt;scipy.stats._distn_infrastructure.rv_continuous_frozen object at 0x7fcbc08278e0&gt;},\n",
       "                                    random_state=42, return_train_score=True,\n",
       "                                    verbose=1))])</pre></div></div></div><div class=\"sk-serial\"><div class=\"sk-item\"><div class=\"sk-estimator sk-toggleable\"><input class=\"sk-toggleable__control sk-hidden--visually\" id=\"sk-estimator-id-13\" type=\"checkbox\" ><label for=\"sk-estimator-id-13\" class=\"sk-toggleable__label sk-toggleable__label-arrow\">TfidfVectorizer</label><div class=\"sk-toggleable__content\"><pre>TfidfVectorizer(min_df=5, ngram_range=(1, 3),\n",
       "                stop_words={&#x27;a&#x27;, &#x27;about&#x27;, &#x27;above&#x27;, &#x27;across&#x27;, &#x27;after&#x27;,\n",
       "                            &#x27;afterwards&#x27;, &#x27;again&#x27;, &#x27;against&#x27;, &#x27;ain&#x27;, &#x27;all&#x27;,\n",
       "                            &#x27;almost&#x27;, &#x27;alone&#x27;, &#x27;along&#x27;, &#x27;already&#x27;, &#x27;also&#x27;,\n",
       "                            &#x27;although&#x27;, &#x27;always&#x27;, &#x27;am&#x27;, &#x27;among&#x27;, &#x27;amongst&#x27;,\n",
       "                            &#x27;amoungst&#x27;, &#x27;amount&#x27;, &#x27;an&#x27;, &#x27;and&#x27;, &#x27;another&#x27;, &#x27;any&#x27;,\n",
       "                            &#x27;anyhow&#x27;, &#x27;anyone&#x27;, &#x27;anything&#x27;, &#x27;anyway&#x27;, ...})</pre></div></div></div><div class=\"sk-item sk-dashed-wrapped\"><div class=\"sk-label-container\"><div class=\"sk-label sk-toggleable\"><input class=\"sk-toggleable__control sk-hidden--visually\" id=\"sk-estimator-id-14\" type=\"checkbox\" ><label for=\"sk-estimator-id-14\" class=\"sk-toggleable__label sk-toggleable__label-arrow\">XGB Rand Search: RandomizedSearchCV</label><div class=\"sk-toggleable__content\"><pre>RandomizedSearchCV(cv=5,\n",
       "                   estimator=XGBClassifier(base_score=None, booster=None,\n",
       "                                           callbacks=None,\n",
       "                                           colsample_bylevel=None,\n",
       "                                           colsample_bynode=None,\n",
       "                                           colsample_bytree=None,\n",
       "                                           early_stopping_rounds=None,\n",
       "                                           enable_categorical=False,\n",
       "                                           eval_metric=None, feature_types=None,\n",
       "                                           gamma=None, gpu_id=None,\n",
       "                                           grow_policy=None,\n",
       "                                           importance_type=None,\n",
       "                                           interaction_constraints=None,\n",
       "                                           learning_rate...\n",
       "                                        &#x27;learning_rate&#x27;: &lt;scipy.stats._distn_infrastructure.rv_continuous_frozen object at 0x7fcbcdb57dc0&gt;,\n",
       "                                        &#x27;max_depth&#x27;: &lt;scipy.stats._distn_infrastructure.rv_discrete_frozen object at 0x7fcbc04064f0&gt;,\n",
       "                                        &#x27;n_estimators&#x27;: &lt;scipy.stats._distn_infrastructure.rv_discrete_frozen object at 0x7fcbc0414250&gt;,\n",
       "                                        &#x27;subsample&#x27;: &lt;scipy.stats._distn_infrastructure.rv_continuous_frozen object at 0x7fcbc08278e0&gt;},\n",
       "                   random_state=42, return_train_score=True, verbose=1)</pre></div></div></div><div class=\"sk-parallel\"><div class=\"sk-parallel-item\"><div class=\"sk-item\"><div class=\"sk-label-container\"><div class=\"sk-label sk-toggleable\"><input class=\"sk-toggleable__control sk-hidden--visually\" id=\"sk-estimator-id-15\" type=\"checkbox\" ><label for=\"sk-estimator-id-15\" class=\"sk-toggleable__label sk-toggleable__label-arrow\">estimator: XGBClassifier</label><div class=\"sk-toggleable__content\"><pre>XGBClassifier(base_score=None, booster=None, callbacks=None,\n",
       "              colsample_bylevel=None, colsample_bynode=None,\n",
       "              colsample_bytree=None, early_stopping_rounds=None,\n",
       "              enable_categorical=False, eval_metric=None, feature_types=None,\n",
       "              gamma=None, gpu_id=None, grow_policy=None, importance_type=None,\n",
       "              interaction_constraints=None, learning_rate=None, max_bin=None,\n",
       "              max_cat_threshold=None, max_cat_to_onehot=None,\n",
       "              max_delta_step=None, max_depth=None, max_leaves=None,\n",
       "              min_child_weight=None, missing=nan, monotone_constraints=None,\n",
       "              n_estimators=100, n_jobs=None, num_parallel_tree=None,\n",
       "              predictor=None, random_state=42, ...)</pre></div></div></div><div class=\"sk-serial\"><div class=\"sk-item\"><div class=\"sk-estimator sk-toggleable\"><input class=\"sk-toggleable__control sk-hidden--visually\" id=\"sk-estimator-id-16\" type=\"checkbox\" ><label for=\"sk-estimator-id-16\" class=\"sk-toggleable__label sk-toggleable__label-arrow\">XGBClassifier</label><div class=\"sk-toggleable__content\"><pre>XGBClassifier(base_score=None, booster=None, callbacks=None,\n",
       "              colsample_bylevel=None, colsample_bynode=None,\n",
       "              colsample_bytree=None, early_stopping_rounds=None,\n",
       "              enable_categorical=False, eval_metric=None, feature_types=None,\n",
       "              gamma=None, gpu_id=None, grow_policy=None, importance_type=None,\n",
       "              interaction_constraints=None, learning_rate=None, max_bin=None,\n",
       "              max_cat_threshold=None, max_cat_to_onehot=None,\n",
       "              max_delta_step=None, max_depth=None, max_leaves=None,\n",
       "              min_child_weight=None, missing=nan, monotone_constraints=None,\n",
       "              n_estimators=100, n_jobs=None, num_parallel_tree=None,\n",
       "              predictor=None, random_state=42, ...)</pre></div></div></div></div></div></div></div></div></div></div></div></div>"
      ],
      "text/plain": [
       "Pipeline(steps=[('tfidf',\n",
       "                 TfidfVectorizer(min_df=5, ngram_range=(1, 3),\n",
       "                                 stop_words={'a', 'about', 'above', 'across',\n",
       "                                             'after', 'afterwards', 'again',\n",
       "                                             'against', 'ain', 'all', 'almost',\n",
       "                                             'alone', 'along', 'already',\n",
       "                                             'also', 'although', 'always', 'am',\n",
       "                                             'among', 'amongst', 'amoungst',\n",
       "                                             'amount', 'an', 'and', 'another',\n",
       "                                             'any', 'anyhow', 'anyone',\n",
       "                                             'anything', 'anyway', ...})),\n",
       "                ('XGB Rand Sear...\n",
       "                                                         'learning_rate': <scipy.stats._distn_infrastructure.rv_continuous_frozen object at 0x7fcbcdb57dc0>,\n",
       "                                                         'max_depth': <scipy.stats._distn_infrastructure.rv_discrete_frozen object at 0x7fcbc04064f0>,\n",
       "                                                         'n_estimators': <scipy.stats._distn_infrastructure.rv_discrete_frozen object at 0x7fcbc0414250>,\n",
       "                                                         'subsample': <scipy.stats._distn_infrastructure.rv_continuous_frozen object at 0x7fcbc08278e0>},\n",
       "                                    random_state=42, return_train_score=True,\n",
       "                                    verbose=1))])"
      ]
     },
     "execution_count": 42,
     "metadata": {},
     "output_type": "execute_result"
    }
   ],
   "source": [
    "xgb_rand_search_CV.fit(X_train, y_train)"
   ]
  },
  {
   "cell_type": "code",
   "execution_count": 44,
   "id": "3df541fe-099c-4d91-93e2-24fac4367a74",
   "metadata": {},
   "outputs": [
    {
     "name": "stdout",
     "output_type": "stream",
     "text": [
      "Best scores:  0.866468205128205\n"
     ]
    }
   ],
   "source": [
    "print(\"Best scores: \", xgb_rand_search_CV[1].best_score_)"
   ]
  },
  {
   "cell_type": "code",
   "execution_count": 45,
   "id": "4e393501-9a34-4f1f-ac12-17260d6d0427",
   "metadata": {},
   "outputs": [
    {
     "name": "stdout",
     "output_type": "stream",
     "text": [
      "Best parameters:  {'colsample_bytree': 0.7982492056533743, 'gamma': 0.05988106590962561, 'learning_rate': 0.2971581842219685, 'max_depth': 5, 'n_estimators': 124, 'subsample': 0.8716409276577959}\n"
     ]
    }
   ],
   "source": [
    "print(\"Best parameters: \", xgb_rand_search_CV[1].best_params_)"
   ]
  },
  {
   "cell_type": "code",
   "execution_count": 50,
   "id": "863597cf-7b40-4884-b358-9d07f0b12f49",
   "metadata": {},
   "outputs": [],
   "source": [
    "XGB_pipeline_final = Pipeline([\n",
    "    ('tfidf', TfidfVectorizer(min_df=5, ngram_range=(1,3), stop_words=my_stop_words)),\n",
    "    # ('cvec', CountVectorizer(min_df=5, ngram_range=(1,3), stop_words=my_stop_words)),\n",
    "    ('XGBoost', xgb.XGBClassifier(objective=\"binary:logistic\", \n",
    "                                  random_state=42, \n",
    "                                  colsample_bytree= 0.7982492056533743, \n",
    "                                  gamma= 0.05988106590962561, \n",
    "                                  learning_rate= 0.2971581842219685, \n",
    "                                  max_depth= 5, \n",
    "                                  n_estimators= 124, \n",
    "                                  subsample= 0.8716409276577959\n",
    "                                 )),\n",
    "])"
   ]
  },
  {
   "cell_type": "code",
   "execution_count": 51,
   "id": "fe426787-e4fb-424a-b6a6-1e464abb6de7",
   "metadata": {},
   "outputs": [
    {
     "data": {
      "text/html": [
       "<style>#sk-container-id-4 {color: black;background-color: white;}#sk-container-id-4 pre{padding: 0;}#sk-container-id-4 div.sk-toggleable {background-color: white;}#sk-container-id-4 label.sk-toggleable__label {cursor: pointer;display: block;width: 100%;margin-bottom: 0;padding: 0.3em;box-sizing: border-box;text-align: center;}#sk-container-id-4 label.sk-toggleable__label-arrow:before {content: \"▸\";float: left;margin-right: 0.25em;color: #696969;}#sk-container-id-4 label.sk-toggleable__label-arrow:hover:before {color: black;}#sk-container-id-4 div.sk-estimator:hover label.sk-toggleable__label-arrow:before {color: black;}#sk-container-id-4 div.sk-toggleable__content {max-height: 0;max-width: 0;overflow: hidden;text-align: left;background-color: #f0f8ff;}#sk-container-id-4 div.sk-toggleable__content pre {margin: 0.2em;color: black;border-radius: 0.25em;background-color: #f0f8ff;}#sk-container-id-4 input.sk-toggleable__control:checked~div.sk-toggleable__content {max-height: 200px;max-width: 100%;overflow: auto;}#sk-container-id-4 input.sk-toggleable__control:checked~label.sk-toggleable__label-arrow:before {content: \"▾\";}#sk-container-id-4 div.sk-estimator input.sk-toggleable__control:checked~label.sk-toggleable__label {background-color: #d4ebff;}#sk-container-id-4 div.sk-label input.sk-toggleable__control:checked~label.sk-toggleable__label {background-color: #d4ebff;}#sk-container-id-4 input.sk-hidden--visually {border: 0;clip: rect(1px 1px 1px 1px);clip: rect(1px, 1px, 1px, 1px);height: 1px;margin: -1px;overflow: hidden;padding: 0;position: absolute;width: 1px;}#sk-container-id-4 div.sk-estimator {font-family: monospace;background-color: #f0f8ff;border: 1px dotted black;border-radius: 0.25em;box-sizing: border-box;margin-bottom: 0.5em;}#sk-container-id-4 div.sk-estimator:hover {background-color: #d4ebff;}#sk-container-id-4 div.sk-parallel-item::after {content: \"\";width: 100%;border-bottom: 1px solid gray;flex-grow: 1;}#sk-container-id-4 div.sk-label:hover label.sk-toggleable__label {background-color: #d4ebff;}#sk-container-id-4 div.sk-serial::before {content: \"\";position: absolute;border-left: 1px solid gray;box-sizing: border-box;top: 0;bottom: 0;left: 50%;z-index: 0;}#sk-container-id-4 div.sk-serial {display: flex;flex-direction: column;align-items: center;background-color: white;padding-right: 0.2em;padding-left: 0.2em;position: relative;}#sk-container-id-4 div.sk-item {position: relative;z-index: 1;}#sk-container-id-4 div.sk-parallel {display: flex;align-items: stretch;justify-content: center;background-color: white;position: relative;}#sk-container-id-4 div.sk-item::before, #sk-container-id-4 div.sk-parallel-item::before {content: \"\";position: absolute;border-left: 1px solid gray;box-sizing: border-box;top: 0;bottom: 0;left: 50%;z-index: -1;}#sk-container-id-4 div.sk-parallel-item {display: flex;flex-direction: column;z-index: 1;position: relative;background-color: white;}#sk-container-id-4 div.sk-parallel-item:first-child::after {align-self: flex-end;width: 50%;}#sk-container-id-4 div.sk-parallel-item:last-child::after {align-self: flex-start;width: 50%;}#sk-container-id-4 div.sk-parallel-item:only-child::after {width: 0;}#sk-container-id-4 div.sk-dashed-wrapped {border: 1px dashed gray;margin: 0 0.4em 0.5em 0.4em;box-sizing: border-box;padding-bottom: 0.4em;background-color: white;}#sk-container-id-4 div.sk-label label {font-family: monospace;font-weight: bold;display: inline-block;line-height: 1.2em;}#sk-container-id-4 div.sk-label-container {text-align: center;}#sk-container-id-4 div.sk-container {/* jupyter's `normalize.less` sets `[hidden] { display: none; }` but bootstrap.min.css set `[hidden] { display: none !important; }` so we also need the `!important` here to be able to override the default hidden behavior on the sphinx rendered scikit-learn.org. See: https://github.com/scikit-learn/scikit-learn/issues/21755 */display: inline-block !important;position: relative;}#sk-container-id-4 div.sk-text-repr-fallback {display: none;}</style><div id=\"sk-container-id-4\" class=\"sk-top-container\"><div class=\"sk-text-repr-fallback\"><pre>Pipeline(steps=[(&#x27;tfidf&#x27;,\n",
       "                 TfidfVectorizer(min_df=5, ngram_range=(1, 3),\n",
       "                                 stop_words={&#x27;a&#x27;, &#x27;about&#x27;, &#x27;above&#x27;, &#x27;across&#x27;,\n",
       "                                             &#x27;after&#x27;, &#x27;afterwards&#x27;, &#x27;again&#x27;,\n",
       "                                             &#x27;against&#x27;, &#x27;ain&#x27;, &#x27;all&#x27;, &#x27;almost&#x27;,\n",
       "                                             &#x27;alone&#x27;, &#x27;along&#x27;, &#x27;already&#x27;,\n",
       "                                             &#x27;also&#x27;, &#x27;although&#x27;, &#x27;always&#x27;, &#x27;am&#x27;,\n",
       "                                             &#x27;among&#x27;, &#x27;amongst&#x27;, &#x27;amoungst&#x27;,\n",
       "                                             &#x27;amount&#x27;, &#x27;an&#x27;, &#x27;and&#x27;, &#x27;another&#x27;,\n",
       "                                             &#x27;any&#x27;, &#x27;anyhow&#x27;, &#x27;anyone&#x27;,\n",
       "                                             &#x27;anything&#x27;, &#x27;anyway&#x27;, ...})),\n",
       "                (&#x27;XGBoost&#x27;,\n",
       "                 XG...\n",
       "                               gpu_id=-1, grow_policy=&#x27;depthwise&#x27;,\n",
       "                               importance_type=None, interaction_constraints=&#x27;&#x27;,\n",
       "                               learning_rate=0.2971581842219685, max_bin=256,\n",
       "                               max_cat_threshold=64, max_cat_to_onehot=4,\n",
       "                               max_delta_step=0, max_depth=5, max_leaves=0,\n",
       "                               min_child_weight=1, missing=nan,\n",
       "                               monotone_constraints=&#x27;()&#x27;, n_estimators=124,\n",
       "                               n_jobs=0, num_parallel_tree=1, predictor=&#x27;auto&#x27;,\n",
       "                               random_state=42, ...))])</pre><b>In a Jupyter environment, please rerun this cell to show the HTML representation or trust the notebook. <br />On GitHub, the HTML representation is unable to render, please try loading this page with nbviewer.org.</b></div><div class=\"sk-container\" hidden><div class=\"sk-item sk-dashed-wrapped\"><div class=\"sk-label-container\"><div class=\"sk-label sk-toggleable\"><input class=\"sk-toggleable__control sk-hidden--visually\" id=\"sk-estimator-id-10\" type=\"checkbox\" ><label for=\"sk-estimator-id-10\" class=\"sk-toggleable__label sk-toggleable__label-arrow\">Pipeline</label><div class=\"sk-toggleable__content\"><pre>Pipeline(steps=[(&#x27;tfidf&#x27;,\n",
       "                 TfidfVectorizer(min_df=5, ngram_range=(1, 3),\n",
       "                                 stop_words={&#x27;a&#x27;, &#x27;about&#x27;, &#x27;above&#x27;, &#x27;across&#x27;,\n",
       "                                             &#x27;after&#x27;, &#x27;afterwards&#x27;, &#x27;again&#x27;,\n",
       "                                             &#x27;against&#x27;, &#x27;ain&#x27;, &#x27;all&#x27;, &#x27;almost&#x27;,\n",
       "                                             &#x27;alone&#x27;, &#x27;along&#x27;, &#x27;already&#x27;,\n",
       "                                             &#x27;also&#x27;, &#x27;although&#x27;, &#x27;always&#x27;, &#x27;am&#x27;,\n",
       "                                             &#x27;among&#x27;, &#x27;amongst&#x27;, &#x27;amoungst&#x27;,\n",
       "                                             &#x27;amount&#x27;, &#x27;an&#x27;, &#x27;and&#x27;, &#x27;another&#x27;,\n",
       "                                             &#x27;any&#x27;, &#x27;anyhow&#x27;, &#x27;anyone&#x27;,\n",
       "                                             &#x27;anything&#x27;, &#x27;anyway&#x27;, ...})),\n",
       "                (&#x27;XGBoost&#x27;,\n",
       "                 XG...\n",
       "                               gpu_id=-1, grow_policy=&#x27;depthwise&#x27;,\n",
       "                               importance_type=None, interaction_constraints=&#x27;&#x27;,\n",
       "                               learning_rate=0.2971581842219685, max_bin=256,\n",
       "                               max_cat_threshold=64, max_cat_to_onehot=4,\n",
       "                               max_delta_step=0, max_depth=5, max_leaves=0,\n",
       "                               min_child_weight=1, missing=nan,\n",
       "                               monotone_constraints=&#x27;()&#x27;, n_estimators=124,\n",
       "                               n_jobs=0, num_parallel_tree=1, predictor=&#x27;auto&#x27;,\n",
       "                               random_state=42, ...))])</pre></div></div></div><div class=\"sk-serial\"><div class=\"sk-item\"><div class=\"sk-estimator sk-toggleable\"><input class=\"sk-toggleable__control sk-hidden--visually\" id=\"sk-estimator-id-11\" type=\"checkbox\" ><label for=\"sk-estimator-id-11\" class=\"sk-toggleable__label sk-toggleable__label-arrow\">TfidfVectorizer</label><div class=\"sk-toggleable__content\"><pre>TfidfVectorizer(min_df=5, ngram_range=(1, 3),\n",
       "                stop_words={&#x27;a&#x27;, &#x27;about&#x27;, &#x27;above&#x27;, &#x27;across&#x27;, &#x27;after&#x27;,\n",
       "                            &#x27;afterwards&#x27;, &#x27;again&#x27;, &#x27;against&#x27;, &#x27;ain&#x27;, &#x27;all&#x27;,\n",
       "                            &#x27;almost&#x27;, &#x27;alone&#x27;, &#x27;along&#x27;, &#x27;already&#x27;, &#x27;also&#x27;,\n",
       "                            &#x27;although&#x27;, &#x27;always&#x27;, &#x27;am&#x27;, &#x27;among&#x27;, &#x27;amongst&#x27;,\n",
       "                            &#x27;amoungst&#x27;, &#x27;amount&#x27;, &#x27;an&#x27;, &#x27;and&#x27;, &#x27;another&#x27;, &#x27;any&#x27;,\n",
       "                            &#x27;anyhow&#x27;, &#x27;anyone&#x27;, &#x27;anything&#x27;, &#x27;anyway&#x27;, ...})</pre></div></div></div><div class=\"sk-item\"><div class=\"sk-estimator sk-toggleable\"><input class=\"sk-toggleable__control sk-hidden--visually\" id=\"sk-estimator-id-12\" type=\"checkbox\" ><label for=\"sk-estimator-id-12\" class=\"sk-toggleable__label sk-toggleable__label-arrow\">XGBClassifier</label><div class=\"sk-toggleable__content\"><pre>XGBClassifier(base_score=0.5, booster=&#x27;gbtree&#x27;, callbacks=None,\n",
       "              colsample_bylevel=1, colsample_bynode=1,\n",
       "              colsample_bytree=0.7982492056533743, early_stopping_rounds=None,\n",
       "              enable_categorical=False, eval_metric=None, feature_types=None,\n",
       "              gamma=0.05988106590962561, gpu_id=-1, grow_policy=&#x27;depthwise&#x27;,\n",
       "              importance_type=None, interaction_constraints=&#x27;&#x27;,\n",
       "              learning_rate=0.2971581842219685, max_bin=256,\n",
       "              max_cat_threshold=64, max_cat_to_onehot=4, max_delta_step=0,\n",
       "              max_depth=5, max_leaves=0, min_child_weight=1, missing=nan,\n",
       "              monotone_constraints=&#x27;()&#x27;, n_estimators=124, n_jobs=0,\n",
       "              num_parallel_tree=1, predictor=&#x27;auto&#x27;, random_state=42, ...)</pre></div></div></div></div></div></div></div>"
      ],
      "text/plain": [
       "Pipeline(steps=[('tfidf',\n",
       "                 TfidfVectorizer(min_df=5, ngram_range=(1, 3),\n",
       "                                 stop_words={'a', 'about', 'above', 'across',\n",
       "                                             'after', 'afterwards', 'again',\n",
       "                                             'against', 'ain', 'all', 'almost',\n",
       "                                             'alone', 'along', 'already',\n",
       "                                             'also', 'although', 'always', 'am',\n",
       "                                             'among', 'amongst', 'amoungst',\n",
       "                                             'amount', 'an', 'and', 'another',\n",
       "                                             'any', 'anyhow', 'anyone',\n",
       "                                             'anything', 'anyway', ...})),\n",
       "                ('XGBoost',\n",
       "                 XG...\n",
       "                               gpu_id=-1, grow_policy='depthwise',\n",
       "                               importance_type=None, interaction_constraints='',\n",
       "                               learning_rate=0.2971581842219685, max_bin=256,\n",
       "                               max_cat_threshold=64, max_cat_to_onehot=4,\n",
       "                               max_delta_step=0, max_depth=5, max_leaves=0,\n",
       "                               min_child_weight=1, missing=nan,\n",
       "                               monotone_constraints='()', n_estimators=124,\n",
       "                               n_jobs=0, num_parallel_tree=1, predictor='auto',\n",
       "                               random_state=42, ...))])"
      ]
     },
     "execution_count": 51,
     "metadata": {},
     "output_type": "execute_result"
    }
   ],
   "source": [
    "XGB_pipeline_final.fit(X_train, y_train)"
   ]
  },
  {
   "cell_type": "code",
   "execution_count": 52,
   "id": "2ae3a13b-9a8d-410a-9225-e4ffed1d2824",
   "metadata": {},
   "outputs": [
    {
     "name": "stdout",
     "output_type": "stream",
     "text": [
      "The accuracy of this inference is: 0.8668373879641486\n",
      "The precision of this inference is: 0.9300291545189504\n",
      "The specificty of this inference is: 0.93717277486911\n",
      "The recall of this inference is: 0.7994987468671679\n",
      "The f1 score for this inference is: 0.8598382749326146\n"
     ]
    },
    {
     "data": {
      "image/png": "[encoded data removed]",
      "text/plain": [
       "<Figure size 640x480 with 2 Axes>"
      ]
     },
     "metadata": {},
     "output_type": "display_data"
    }
   ],
   "source": [
    "y_pred_XGB_final = XGB_pipeline_final.predict(X_test)\n",
    "print_confusion_matrix(y_test, y_pred_XGB_final)\n",
    "metrics_for_model(y_test, y_pred_XGB_final);"
   ]
  },
  {
   "cell_type": "code",
   "execution_count": 53,
   "id": "e60b22e3-89e3-483e-a140-4716ef199ccc",
   "metadata": {},
   "outputs": [
    {
     "data": {
      "text/html": [
       "<div>\n",
       "<style scoped>\n",
       "    .dataframe tbody tr th:only-of-type {\n",
       "        vertical-align: middle;\n",
       "    }\n",
       "\n",
       "    .dataframe tbody tr th {\n",
       "        vertical-align: top;\n",
       "    }\n",
       "\n",
       "    .dataframe thead th {\n",
       "        text-align: right;\n",
       "    }\n",
       "</style>\n",
       "<table border=\"1\" class=\"dataframe\">\n",
       "  <thead>\n",
       "    <tr style=\"text-align: right;\">\n",
       "      <th></th>\n",
       "      <th>title</th>\n",
       "      <th>label</th>\n",
       "      <th>y_pred_nb</th>\n",
       "      <th>y_prelim_nb</th>\n",
       "      <th>y_pred_nb_2</th>\n",
       "      <th>y_pred_log</th>\n",
       "      <th>y_pred_RF</th>\n",
       "      <th>y_RF_final</th>\n",
       "      <th>y_XGB</th>\n",
       "    </tr>\n",
       "  </thead>\n",
       "  <tbody>\n",
       "    <tr>\n",
       "      <th>4</th>\n",
       "      <td>It’s weird how Sakurai is the only “employee” ...</td>\n",
       "      <td>1</td>\n",
       "      <td>0</td>\n",
       "      <td>0</td>\n",
       "      <td>0</td>\n",
       "      <td>0</td>\n",
       "      <td>0</td>\n",
       "      <td>1</td>\n",
       "      <td>0</td>\n",
       "    </tr>\n",
       "    <tr>\n",
       "      <th>5</th>\n",
       "      <td>10 out of 10 best game</td>\n",
       "      <td>0</td>\n",
       "      <td>0</td>\n",
       "      <td>0</td>\n",
       "      <td>0</td>\n",
       "      <td>0</td>\n",
       "      <td>0</td>\n",
       "      <td>0</td>\n",
       "      <td>1</td>\n",
       "    </tr>\n",
       "    <tr>\n",
       "      <th>7</th>\n",
       "      <td>Spider Man trailer with 90s theme</td>\n",
       "      <td>0</td>\n",
       "      <td>0</td>\n",
       "      <td>1</td>\n",
       "      <td>0</td>\n",
       "      <td>0</td>\n",
       "      <td>1</td>\n",
       "      <td>1</td>\n",
       "      <td>1</td>\n",
       "    </tr>\n",
       "    <tr>\n",
       "      <th>39</th>\n",
       "      <td>For real though I miss the Jak and Daxter game...</td>\n",
       "      <td>0</td>\n",
       "      <td>0</td>\n",
       "      <td>0</td>\n",
       "      <td>0</td>\n",
       "      <td>0</td>\n",
       "      <td>0</td>\n",
       "      <td>0</td>\n",
       "      <td>1</td>\n",
       "    </tr>\n",
       "    <tr>\n",
       "      <th>41</th>\n",
       "      <td>WARNING DON'T Upload photos on nintendo live chat</td>\n",
       "      <td>1</td>\n",
       "      <td>0</td>\n",
       "      <td>1</td>\n",
       "      <td>1</td>\n",
       "      <td>1</td>\n",
       "      <td>0</td>\n",
       "      <td>0</td>\n",
       "      <td>0</td>\n",
       "    </tr>\n",
       "    <tr>\n",
       "      <th>...</th>\n",
       "      <td>...</td>\n",
       "      <td>...</td>\n",
       "      <td>...</td>\n",
       "      <td>...</td>\n",
       "      <td>...</td>\n",
       "      <td>...</td>\n",
       "      <td>...</td>\n",
       "      <td>...</td>\n",
       "      <td>...</td>\n",
       "    </tr>\n",
       "    <tr>\n",
       "      <th>748</th>\n",
       "      <td>Nintendo's next console will lean towards stre...</td>\n",
       "      <td>1</td>\n",
       "      <td>1</td>\n",
       "      <td>0</td>\n",
       "      <td>0</td>\n",
       "      <td>0</td>\n",
       "      <td>0</td>\n",
       "      <td>0</td>\n",
       "      <td>0</td>\n",
       "    </tr>\n",
       "    <tr>\n",
       "      <th>749</th>\n",
       "      <td>As a kid, Nintendo helped me earn my Bear Badge.</td>\n",
       "      <td>1</td>\n",
       "      <td>0</td>\n",
       "      <td>0</td>\n",
       "      <td>0</td>\n",
       "      <td>0</td>\n",
       "      <td>0</td>\n",
       "      <td>0</td>\n",
       "      <td>0</td>\n",
       "    </tr>\n",
       "    <tr>\n",
       "      <th>758</th>\n",
       "      <td>This is my drawing of Ratchet &amp; Clank that I f...</td>\n",
       "      <td>0</td>\n",
       "      <td>0</td>\n",
       "      <td>0</td>\n",
       "      <td>0</td>\n",
       "      <td>0</td>\n",
       "      <td>0</td>\n",
       "      <td>0</td>\n",
       "      <td>1</td>\n",
       "    </tr>\n",
       "    <tr>\n",
       "      <th>766</th>\n",
       "      <td>Galar Region is based off the UK. Victorian-es...</td>\n",
       "      <td>1</td>\n",
       "      <td>0</td>\n",
       "      <td>1</td>\n",
       "      <td>1</td>\n",
       "      <td>0</td>\n",
       "      <td>0</td>\n",
       "      <td>0</td>\n",
       "      <td>0</td>\n",
       "    </tr>\n",
       "    <tr>\n",
       "      <th>769</th>\n",
       "      <td>Japan Is More Excited About Nintendo Labo Than...</td>\n",
       "      <td>1</td>\n",
       "      <td>0</td>\n",
       "      <td>0</td>\n",
       "      <td>0</td>\n",
       "      <td>0</td>\n",
       "      <td>0</td>\n",
       "      <td>0</td>\n",
       "      <td>0</td>\n",
       "    </tr>\n",
       "  </tbody>\n",
       "</table>\n",
       "<p>104 rows × 9 columns</p>\n",
       "</div>"
      ],
      "text/plain": [
       "                                                 title  label  y_pred_nb  \\\n",
       "4    It’s weird how Sakurai is the only “employee” ...      1          0   \n",
       "5                               10 out of 10 best game      0          0   \n",
       "7                    Spider Man trailer with 90s theme      0          0   \n",
       "39   For real though I miss the Jak and Daxter game...      0          0   \n",
       "41   WARNING DON'T Upload photos on nintendo live chat      1          0   \n",
       "..                                                 ...    ...        ...   \n",
       "748  Nintendo's next console will lean towards stre...      1          1   \n",
       "749   As a kid, Nintendo helped me earn my Bear Badge.      1          0   \n",
       "758  This is my drawing of Ratchet & Clank that I f...      0          0   \n",
       "766  Galar Region is based off the UK. Victorian-es...      1          0   \n",
       "769  Japan Is More Excited About Nintendo Labo Than...      1          0   \n",
       "\n",
       "     y_prelim_nb  y_pred_nb_2  y_pred_log  y_pred_RF  y_RF_final  y_XGB  \n",
       "4              0            0           0          0           1      0  \n",
       "5              0            0           0          0           0      1  \n",
       "7              1            0           0          1           1      1  \n",
       "39             0            0           0          0           0      1  \n",
       "41             1            1           1          0           0      0  \n",
       "..           ...          ...         ...        ...         ...    ...  \n",
       "748            0            0           0          0           0      0  \n",
       "749            0            0           0          0           0      0  \n",
       "758            0            0           0          0           0      1  \n",
       "766            1            1           0          0           0      0  \n",
       "769            0            0           0          0           0      0  \n",
       "\n",
       "[104 rows x 9 columns]"
      ]
     },
     "execution_count": 53,
     "metadata": {},
     "output_type": "execute_result"
    }
   ],
   "source": [
    "df_comb = pd.concat([df_comb, pd.DataFrame(y_pred_XGB_final, columns=['y_XGB'])], axis=1)\n",
    "df_comb.loc[df_comb['label'] != df_comb['y_XGB']]"
   ]
  },
  {
   "cell_type": "markdown",
   "id": "c6fcd9c9-f479-418b-9c32-1c42edaaffaf",
   "metadata": {},
   "source": [
    "In this case, the errors look very similar.  \n",
    "However, it seems that XGB will classify titles with vague context as `postive`, instead of `negative`, unlike all other previous classifiers.  \n",
    "This is the result of a different focus, as XGB seems more focused on precision, or making a positive prediction.  "
   ]
  },
  {
   "cell_type": "code",
   "execution_count": 54,
   "id": "314b8630-55fb-4d36-82cd-981679449442",
   "metadata": {},
   "outputs": [],
   "source": [
    "# save the results file as csv in case it is needed for further analysis\n",
    "df_comb.to_csv('../data/test_results.csv', index_label=False, index=False)"
   ]
  },
  {
   "cell_type": "code",
   "execution_count": 55,
   "id": "35c35aac-0415-4a1f-8b15-1b86e2f6826b",
   "metadata": {},
   "outputs": [
    {
     "name": "stdout",
     "output_type": "stream",
     "text": [
      "The accuracy of this inference is: 0.9260326609029779\n",
      "The precision of this inference is: 0.9827327327327328\n",
      "The specificty of this inference is: 0.9856787048567871\n",
      "The recall of this inference is: 0.8628872775214239\n",
      "The f1 score for this inference is: 0.9189189189189189\n"
     ]
    },
    {
     "data": {
      "image/png": "[encoded data removed]",
      "text/plain": [
       "<Figure size 640x480 with 2 Axes>"
      ]
     },
     "metadata": {},
     "output_type": "display_data"
    }
   ],
   "source": [
    "y_pred_XGB_final_train = XGB_pipeline_final.predict(X_train)\n",
    "print_confusion_matrix(y_train, y_pred_XGB_final_train)\n",
    "metrics_for_model(y_train, y_pred_XGB_final_train);"
   ]
  },
  {
   "cell_type": "markdown",
   "id": "6abe8dc1-ec8a-49ae-97b6-a26dc936ab06",
   "metadata": {},
   "source": [
    "The hyper parameter tunning very slightly decreased the precison for the testing set.  \n",
    "The overall performance as measured by the f1 socre also decreased.  \n",
    "Once again, the hyper parameter tunning tuned the hyper parameters for the test set, but the same can't be said when it is applied to training set.  \n",
    "This highlights the problem that the test set, having a different corpus compared to the training set, will result in differnt fitting.  \n",
    "However, this little exploration is not without its merits.  \n",
    "Now I can conclude that XGBoost, with the set of hyper parameters I used, is very customised towards making a highly precise prediction, at the sacrifice of accuracy and f1 scores.  "
   ]
  },
  {
   "cell_type": "markdown",
   "id": "e472992d-eb8e-4382-9945-dd30240f9a8d",
   "metadata": {},
   "source": [
    "### Stacking"
   ]
  },
  {
   "cell_type": "markdown",
   "id": "ba995932-0f50-4dc6-ab9b-e5de6eb5b97f",
   "metadata": {},
   "source": [
    "This is the most basic \"stacking\" methods, where I just combine the different models together.  \n",
    "Basically, my idea is to see if the different models can work together to reduce their errors.  \n",
    "At least, I expect the errors made by a single model to be greatly reduced...  \n",
    "This is just a for fun kind of exploration here.  "
   ]
  },
  {
   "cell_type": "code",
   "execution_count": 56,
   "id": "86cb47dd-1ba5-42bf-82c6-9a42a8e9c45c",
   "metadata": {},
   "outputs": [],
   "source": [
    "def combined_result(X, mode='balanced'):\n",
    "    '''Simple combining of prediction results\n",
    "    args:\n",
    "        X: Data to predict on\n",
    "        mode: 3 kind of mode to use, default mode=balanced\n",
    "            balanced: round to nearest integer\n",
    "            passive: floor to integer, if any predict 0, result will be 0\n",
    "            aggressive: ceil to integer, if any predict 1, all will predict 1      \n",
    "    '''\n",
    "    df1 = log_pipeline.predict(X)\n",
    "    df2 = final_nb_pipeline_2.predict(X)\n",
    "    df3 = XGB_pipeline_final.predict(X)\n",
    "    df4 = RF_pipeline.predict(X)\n",
    "    df = {'log': df1, 'nb': df2, 'xgb': df3, 'rf': df4}\n",
    "    result = pd.DataFrame(df)\n",
    "    if mode == 'balanced':\n",
    "        result['voted'] = (result.sum(axis=1)/4).apply(np.rint)\n",
    "    elif mode == 'passive':\n",
    "        result['voted'] = (result.sum(axis=1)/4).apply(np.floor)\n",
    "    elif mode == 'aggressive':\n",
    "        result['voted'] = (result.sum(axis=1)/4).apply(np.ceil)\n",
    "    else:\n",
    "        warnings.warn(\"Warning: No such mode, defaulting to balanced mode\")\n",
    "        result['voted'] = (result.sum(axis=1)/4).apply(np.rint)\n",
    "    return result['voted']"
   ]
  },
  {
   "cell_type": "code",
   "execution_count": 57,
   "id": "46d48c79-2a0c-46ca-9e44-753c3b425950",
   "metadata": {},
   "outputs": [
    {
     "name": "stdout",
     "output_type": "stream",
     "text": [
      "The accuracy of this inference is: 0.8962868117797695\n",
      "The precision of this inference is: 0.9595375722543352\n",
      "The specificty of this inference is: 0.9633507853403142\n",
      "The recall of this inference is: 0.8320802005012531\n",
      "The f1 score for this inference is: 0.8912751677852347\n"
     ]
    },
    {
     "data": {
      "image/png": "[encoded data removed]",
      "text/plain": [
       "<Figure size 640x480 with 2 Axes>"
      ]
     },
     "metadata": {},
     "output_type": "display_data"
    }
   ],
   "source": [
    "y_pred_combined = combined_result(X_test, mode='balanced')\n",
    "print_confusion_matrix(y_test, y_pred_combined)\n",
    "metrics_for_model(y_test, y_pred_combined);"
   ]
  },
  {
   "cell_type": "code",
   "execution_count": 58,
   "id": "8bd3ce8e-6d4b-4dcb-babf-b5c06fb500f0",
   "metadata": {},
   "outputs": [
    {
     "name": "stdout",
     "output_type": "stream",
     "text": [
      "The accuracy of this inference is: 0.8591549295774648\n",
      "The precision of this inference is: 0.976897689768977\n",
      "The specificty of this inference is: 0.981675392670157\n",
      "The recall of this inference is: 0.7418546365914787\n",
      "The f1 score for this inference is: 0.8433048433048432\n"
     ]
    },
    {
     "data": {
      "image/png": "[encoded data removed]",
      "text/plain": [
       "<Figure size 640x480 with 2 Axes>"
      ]
     },
     "metadata": {},
     "output_type": "display_data"
    }
   ],
   "source": [
    "y_pred_combined = combined_result(X_test, mode='passive')\n",
    "print_confusion_matrix(y_test, y_pred_combined)\n",
    "metrics_for_model(y_test, y_pred_combined);"
   ]
  },
  {
   "cell_type": "code",
   "execution_count": 59,
   "id": "0a9895b2-fa00-43c0-ab5f-7aac5131db0c",
   "metadata": {},
   "outputs": [
    {
     "name": "stdout",
     "output_type": "stream",
     "text": [
      "The accuracy of this inference is: 0.8847631241997439\n",
      "The precision of this inference is: 0.8687350835322196\n",
      "The specificty of this inference is: 0.856020942408377\n",
      "The recall of this inference is: 0.9122807017543859\n",
      "The f1 score for this inference is: 0.8899755501222494\n"
     ]
    },
    {
     "data": {
      "image/png": "[encoded data removed]",
      "text/plain": [
       "<Figure size 640x480 with 2 Axes>"
      ]
     },
     "metadata": {},
     "output_type": "display_data"
    }
   ],
   "source": [
    "y_pred_combined = combined_result(X_test, mode='aggressive')\n",
    "print_confusion_matrix(y_test, y_pred_combined)\n",
    "metrics_for_model(y_test, y_pred_combined);"
   ]
  },
  {
   "cell_type": "markdown",
   "id": "d5cf1062-2dea-4554-91e2-def29029422c",
   "metadata": {},
   "source": [
    "As expected, the highest f1 score comes from balanced mode.  \n",
    "A vote is taking place, and all 4 models come together to vote is the final result a positive or negative.  \n",
    "This eliminates the errors made by a single model.  \n",
    "\n",
    "Then there's the passive mode.  \n",
    "This mode, if any model says negative, then the result will be negative.   \n",
    "Basically, this drastically decrease the chance of a false positive.  \n",
    "So when a model predicts it is true, it is highly likely going to be true.  \n",
    "This is very reserved and the trade off is the increase in number of false negatives.  \n",
    "\n",
    "The aggressive mode says, if any model says its a postive, the the result is a positive.  \n",
    "This greatly reduced the flase negative.  \n",
    "Becasue my dataset have more negative samples, this aggressive mode works pretty okay.  \n",
    "This way, the number of false negatives will dratically decrease.  \n",
    "Any model that says this negative, it will give negative a result.  \n",
    "Decreasing the flase negative but also the true negative and increase the false positive, so there can be more true positive. \n",
    "\n",
    "What this \"stacking\" model predicted wrongly, is really worth a close look.   \n",
    "Take out the sentence, and see where it went wrong.   \n",
    "But I will leave that for another time.  \n",
    "However, in general, the preferred mode should be balanced, where all models come together to make a vote, as per the spirit of \"ensemble models\".   \n",
    "  ; )"
   ]
  },
  {
   "cell_type": "markdown",
   "id": "dee91a4d-0007-4381-9246-630cacde4ab3",
   "metadata": {},
   "source": [
    "## Conclusions"
   ]
  },
  {
   "cell_type": "markdown",
   "id": "d6c372b6-5602-4b52-8110-e250a864c788",
   "metadata": {},
   "source": [
    "---\n",
    "The models tried out are:\n",
    "1. Navie Bayes\n",
    "2. Logistic Regression\n",
    "3. Random Forest\n",
    "4. XGBoost\n",
    "\n",
    "A navie baseline model is also built to show how good these models tried when compared against the most naive random guesses.  \n",
    "The key point, for me, is to understand why or why not the model works.   \n",
    "Which I have tried to make guesses in the evaluation process.  \n",
    "\n",
    "After which, pipeline is built with TF-IDF as the first step and the respective algorithms for prediction as the second step.  \n",
    "Results are analysed using a test set making up 20% of the entire collected data set.  \n",
    "This test set is not used in training at all.  \n",
    "The prediction result on the validation set is also reviewed to see if the model can generalise well.  \n",
    "Predictions made by the models are then saved into a file [test_results.csv](../data/test_results.csv) for comparison. \n",
    "\n",
    "The detailed analysis is done for each models above, and just to repeat, models mostly have similar performance.  \n",
    "It is concluded that the corpus is extremely important in this case.   \n",
    "There tend to be a higher number of false negatives for all models.   \n",
    "This is to be expected.  \n",
    "Looking back to the base line model, it can be seen that there's also more false negatives.  \n",
    "This is becase my data included more posts from the `playstation` subreddit.  \n",
    "So this is expected and acceptable.  \n",
    "The simpler models actually performed exceptionally well.  \n",
    "Like logistic regression and naive bayes.  \n",
    "\n",
    "As mentioned in my readme.md, my goal is clear.   \n",
    "It is to automate the forum control for both nintendo and playstation forums.  \n",
    "Unfortunately, I can not simply choose nintendo over playstation.  \n",
    "As such, a model with a good overall performance, in terms of the f1 score, is preferred.   \n",
    "\n",
    "For ML models, I will probably select the naive bayes based model for production.  \n",
    "Reason is that is gives good generalisation, have high f1 socre and performs well under most circumstances.  \n",
    "Should I really want to make the `nintendo` fans happy, I can use the XGBoost model, or the logistic regression model, which focuses on being precise and specific.  \n",
    "Where:  \n",
    "`precision = true positives / (true positives + false positives)`  \n",
    "and  \n",
    "`specificity = true negatives / (true negatives + false positives)`\n",
    "\n",
    "However, logistic regression model is also very worthy of a special mention here!  \n",
    "It is the best perfoming model with the highest f1 socre, and least flase negatives, while being light weight and very very very explainable.  \n",
    "The only reason it is not selected is that it is highly dependent on the word corpus...  \n",
    "Also, it is easy to confuse it, as shown below..."
   ]
  },
  {
   "cell_type": "code",
   "execution_count": 60,
   "id": "3401db33-7327-43d0-9740-c45fa9027b85",
   "metadata": {},
   "outputs": [
    {
     "data": {
      "text/plain": [
       "array([0])"
      ]
     },
     "execution_count": 60,
     "metadata": {},
     "output_type": "execute_result"
    }
   ],
   "source": [
    "for_fun = \"help, i am using psvr2 to play mario on my ps which is a ps5 and this will go down in history as wii\".join(\n",
    "\" and pokemon are no longer switch exclusive but also on ps and ps4.\") \n",
    "for_fun_df = pd.DataFrame({'title':[for_fun]})\n",
    "log_pipeline.predict(for_fun_df['title'])"
   ]
  },
  {
   "cell_type": "code",
   "execution_count": 61,
   "id": "f0935bfc-fd0d-4e23-90cf-f14d80c23067",
   "metadata": {},
   "outputs": [
    {
     "data": {
      "text/plain": [
       "array([1])"
      ]
     },
     "execution_count": 61,
     "metadata": {},
     "output_type": "execute_result"
    }
   ],
   "source": [
    "for_fun = \"i am using psvr2 to play mario on my ps and this will go down in history as wii\".join(\n",
    "\" and pokemon are no longer switch exclusive but also on ps and ps4.\")\n",
    "for_fun_df = pd.DataFrame({'title':[for_fun]})\n",
    "log_pipeline.predict(for_fun_df['title'])"
   ]
  },
  {
   "cell_type": "markdown",
   "id": "a1895498-abab-4935-8cfd-3d0fb584faed",
   "metadata": {},
   "source": [
    "Of course, due to the way the predictions is largely based on tfidf, this problem will persist...   \n",
    "One other solution is to use use API from chatGPT.  \n",
    "Or spaCy which I tried but failed.  \n",
    "\n",
    "---\n",
    "I have also played with stacking.   \n",
    "The result is quite interesting.  \n",
    "It decraesed the false postive at the cost of a few false negatives under my perferred default mode.  \n",
    "The reason I don't want to use it is because it complicates the model a lot.  \n",
    "The performnace increase is present, but I feel it really doesn't warrent that much increase in model complexity.  "
   ]
  },
  {
   "cell_type": "markdown",
   "id": "df91f142-82cd-4885-a0dc-b327c1669e26",
   "metadata": {},
   "source": [
    "Further studies\n",
    "---\n",
    "\n",
    "What I can do to further improve this model, is to collect more data using my scrapper, and feed them into my machine learning model.  \n",
    "Why I want to do this?   \n",
    "I would want a sample size large enough to capture the population's behaviour in the ideal case.   \n",
    "This means that the ammount of data and quality of data is very important.  \n",
    "\n",
    "Another slightly cheating method, is I can do not remove the key give away words like `nintendo` and `playstation`.  \n",
    "I can also further analyse the predictions that went wrong.  \n",
    "Which, with all the evidence I have, point towards removal of key give away words.    \n",
    "\n",
    "I can also decrease my minimum document frequency, but I believe this will likely lead to some form of over fitting.  \n",
    "\n",
    "One thing I think will work is to make a model that predicts on `playstation`.  \n",
    "So in the case where a title is not from playstation nor nintendo, it can be classified.  \n",
    "Additionally, there are many many methods and libraries not explored.  \n",
    "Such as spaCy, a famous NLP library.  \n",
    "\n",
    "Specific to this topic, I have the document of label vs prediction results.  \n",
    "That is a very good place to start, after clearing out those correct predictions and wrong predictions due to removal of keywords.  \n",
    "\n",
    "---\n"
   ]
  },
  {
   "cell_type": "markdown",
   "id": "3184805c-4a99-4f1c-bea7-abbae79aa426",
   "metadata": {},
   "source": [
    "## spaCy & Logistic Regression"
   ]
  },
  {
   "cell_type": "markdown",
   "id": "1c56533d-abb7-4d8b-a15f-6538d29daf59",
   "metadata": {},
   "source": [
    "spaCy is a Python library used for advanced natural language processing (NLP).    \n",
    "It is designed to be fast, efficient, and scalable for building applications that require NLP capabilities, such as text classification, entity recognition, and part-of-speech tagging.  \n",
    "spaCy also includes pre-trained models for several languages, as well as the ability to train custom models on your own data.  \n",
    "I am only using the spaCy tokenizer and lammatization.  \n",
    "spaCy also can do a lot more than simple tokenisation.  \n",
    "The reason I wanted to use this is to evaluate how different tokenisers help with NLP.  \n",
    "Also, I have tried to make use of classifier in spaCy, but was unable to build my custom model.  "
   ]
  },
  {
   "cell_type": "code",
   "execution_count": 1,
   "id": "92ddf446-bd98-4b99-9ae5-cff0e5f2c971",
   "metadata": {},
   "outputs": [],
   "source": [
    "### This part is using a different kernel compared to the previous parts. "
   ]
  },
  {
   "cell_type": "code",
   "execution_count": 2,
   "id": "c40ad20d-7c0b-4e5f-9d5d-42989d7c0591",
   "metadata": {},
   "outputs": [],
   "source": [
    "import spacy\n",
    "import pickle\n",
    "import pandas as pd\n",
    "import numpy as np\n",
    "import seaborn as sns\n",
    "from sklearn.feature_extraction.text import TfidfVectorizer\n",
    "from sklearn.linear_model import LogisticRegression\n",
    "from sklearn.naive_bayes import MultinomialNB\n",
    "from sklearn.pipeline import Pipeline\n",
    "from sklearn.model_selection import train_test_split\n",
    "from sklearn.metrics import confusion_matrix, accuracy_score"
   ]
  },
  {
   "cell_type": "code",
   "execution_count": 3,
   "id": "507e6178-93fd-4cc2-b253-849bff70398e",
   "metadata": {},
   "outputs": [],
   "source": [
    "df = pd.read_csv('../data/combined_df.csv')\n",
    "# Split the data \n",
    "X_train, X_test, y_train, y_test = train_test_split(df['title'], df['label'], test_size=0.2, random_state=42)"
   ]
  },
  {
   "cell_type": "code",
   "execution_count": 4,
   "id": "7d09fd7a-ecac-4fbd-a062-1a280735e14e",
   "metadata": {},
   "outputs": [],
   "source": [
    "nlp = spacy.load(\"en_core_web_sm\")\n",
    "# Load in stop words from pickle\n",
    "with open(\"../data/stopwords.pkl\", \"rb\") as f:\n",
    "    stop_words = pickle.load(f)\n",
    "\n",
    "# Add stop words to spaCy\n",
    "for word in stop_words:\n",
    "    nlp.Defaults.stop_words.add(word)\n",
    "\n",
    "# Define a function to preprocess the data\n",
    "def preprocess(text):\n",
    "    # Tokenize the text\n",
    "    doc = nlp(text)\n",
    "\n",
    "    # Lemmatize the tokens and remove stop words and punctuation\n",
    "    tokens = [token.lemma_ for token in doc if not token.is_stop and not token.is_punct]\n",
    "\n",
    "    # Return the preprocessed text as a string\n",
    "    return \" \".join(tokens)\n"
   ]
  },
  {
   "cell_type": "code",
   "execution_count": 5,
   "id": "24306a4b-6462-43eb-b405-a8055d6e692d",
   "metadata": {},
   "outputs": [],
   "source": [
    "def print_confusion_matrix(y_actual, y_pred):\n",
    "    cf_matrix = confusion_matrix(y_actual, y_pred)\n",
    "    group_names = ['True Neg','False Pos','False Neg','True Pos']\n",
    "    group_counts = [\"{0:0.0f}\".format(value) for value in\n",
    "                    cf_matrix.flatten()]\n",
    "    group_percentages = [\"{0:.2%}\".format(value) for value in\n",
    "                         cf_matrix.flatten()/np.sum(cf_matrix)]\n",
    "    labels = [f'{v1}\\n{v2}\\n{v3}' for v1, v2, v3 in\n",
    "              zip(group_names,group_counts,group_percentages)]\n",
    "    labels = np.asarray(labels).reshape(2,2)\n",
    "    sns.heatmap(cf_matrix, annot=labels, fmt='', cmap='Blues')\n",
    "\n",
    "def metrics_for_model(y_true, y_pred):\n",
    "    '''find the relavent metrics from confusion metrics\n",
    "    arg:\n",
    "        y_true: true value for y\n",
    "        y_pred: predicted value for y\n",
    "    out:\n",
    "        pre: precison score\n",
    "        rec: recall score\n",
    "        f1: f1 socre\n",
    "    '''\n",
    "    tn, fp, fn, tp =confusion_matrix(y_true, y_pred).ravel()\n",
    "    acc = (tp+tn)/(tp+fp+tn+fn)\n",
    "    pre = tp/(tp+fp)\n",
    "    sp = tn/(tn+fp)\n",
    "    rec = tp/(tp+fn)\n",
    "    f1 = 2*(pre*rec)/(pre+rec)\n",
    "    print(f\"The accuracy of this inference is: {acc}\")\n",
    "    print(f\"The precision of this inference is: {pre}\")\n",
    "    print(f\"The specificty of this inference is: {sp}\")\n",
    "    print(f\"The recall of this inference is: {rec}\")\n",
    "    print(f\"The f1 score for this inference is: {f1}\")\n",
    "    return pre, rec, f1"
   ]
  },
  {
   "cell_type": "code",
   "execution_count": 6,
   "id": "c906a097-09ac-4d07-808a-6f65f1646a01",
   "metadata": {},
   "outputs": [],
   "source": [
    "# Preprocess the text\n",
    "X_train = X_train.apply(preprocess)"
   ]
  },
  {
   "cell_type": "code",
   "execution_count": 7,
   "id": "fa6787bc-a906-40ee-92f3-f6df87a4d78b",
   "metadata": {},
   "outputs": [],
   "source": [
    "# Preprocess the test data\n",
    "X_test = X_test.apply(preprocess)"
   ]
  },
  {
   "cell_type": "code",
   "execution_count": 8,
   "id": "53ee57a9-9f1d-4ee8-be0e-881e19729e75",
   "metadata": {},
   "outputs": [],
   "source": [
    "# Create a pipeline\n",
    "pipe = Pipeline([\n",
    "    (\"tfidf\", TfidfVectorizer()),\n",
    "    (\"clf\", LogisticRegression())\n",
    "])"
   ]
  },
  {
   "cell_type": "code",
   "execution_count": 9,
   "id": "306fc3a2-5ec5-420c-9bfa-30e40c057a89",
   "metadata": {},
   "outputs": [
    {
     "data": {
      "text/html": [
       "<style>#sk-container-id-1 {color: black;background-color: white;}#sk-container-id-1 pre{padding: 0;}#sk-container-id-1 div.sk-toggleable {background-color: white;}#sk-container-id-1 label.sk-toggleable__label {cursor: pointer;display: block;width: 100%;margin-bottom: 0;padding: 0.3em;box-sizing: border-box;text-align: center;}#sk-container-id-1 label.sk-toggleable__label-arrow:before {content: \"▸\";float: left;margin-right: 0.25em;color: #696969;}#sk-container-id-1 label.sk-toggleable__label-arrow:hover:before {color: black;}#sk-container-id-1 div.sk-estimator:hover label.sk-toggleable__label-arrow:before {color: black;}#sk-container-id-1 div.sk-toggleable__content {max-height: 0;max-width: 0;overflow: hidden;text-align: left;background-color: #f0f8ff;}#sk-container-id-1 div.sk-toggleable__content pre {margin: 0.2em;color: black;border-radius: 0.25em;background-color: #f0f8ff;}#sk-container-id-1 input.sk-toggleable__control:checked~div.sk-toggleable__content {max-height: 200px;max-width: 100%;overflow: auto;}#sk-container-id-1 input.sk-toggleable__control:checked~label.sk-toggleable__label-arrow:before {content: \"▾\";}#sk-container-id-1 div.sk-estimator input.sk-toggleable__control:checked~label.sk-toggleable__label {background-color: #d4ebff;}#sk-container-id-1 div.sk-label input.sk-toggleable__control:checked~label.sk-toggleable__label {background-color: #d4ebff;}#sk-container-id-1 input.sk-hidden--visually {border: 0;clip: rect(1px 1px 1px 1px);clip: rect(1px, 1px, 1px, 1px);height: 1px;margin: -1px;overflow: hidden;padding: 0;position: absolute;width: 1px;}#sk-container-id-1 div.sk-estimator {font-family: monospace;background-color: #f0f8ff;border: 1px dotted black;border-radius: 0.25em;box-sizing: border-box;margin-bottom: 0.5em;}#sk-container-id-1 div.sk-estimator:hover {background-color: #d4ebff;}#sk-container-id-1 div.sk-parallel-item::after {content: \"\";width: 100%;border-bottom: 1px solid gray;flex-grow: 1;}#sk-container-id-1 div.sk-label:hover label.sk-toggleable__label {background-color: #d4ebff;}#sk-container-id-1 div.sk-serial::before {content: \"\";position: absolute;border-left: 1px solid gray;box-sizing: border-box;top: 0;bottom: 0;left: 50%;z-index: 0;}#sk-container-id-1 div.sk-serial {display: flex;flex-direction: column;align-items: center;background-color: white;padding-right: 0.2em;padding-left: 0.2em;position: relative;}#sk-container-id-1 div.sk-item {position: relative;z-index: 1;}#sk-container-id-1 div.sk-parallel {display: flex;align-items: stretch;justify-content: center;background-color: white;position: relative;}#sk-container-id-1 div.sk-item::before, #sk-container-id-1 div.sk-parallel-item::before {content: \"\";position: absolute;border-left: 1px solid gray;box-sizing: border-box;top: 0;bottom: 0;left: 50%;z-index: -1;}#sk-container-id-1 div.sk-parallel-item {display: flex;flex-direction: column;z-index: 1;position: relative;background-color: white;}#sk-container-id-1 div.sk-parallel-item:first-child::after {align-self: flex-end;width: 50%;}#sk-container-id-1 div.sk-parallel-item:last-child::after {align-self: flex-start;width: 50%;}#sk-container-id-1 div.sk-parallel-item:only-child::after {width: 0;}#sk-container-id-1 div.sk-dashed-wrapped {border: 1px dashed gray;margin: 0 0.4em 0.5em 0.4em;box-sizing: border-box;padding-bottom: 0.4em;background-color: white;}#sk-container-id-1 div.sk-label label {font-family: monospace;font-weight: bold;display: inline-block;line-height: 1.2em;}#sk-container-id-1 div.sk-label-container {text-align: center;}#sk-container-id-1 div.sk-container {/* jupyter's `normalize.less` sets `[hidden] { display: none; }` but bootstrap.min.css set `[hidden] { display: none !important; }` so we also need the `!important` here to be able to override the default hidden behavior on the sphinx rendered scikit-learn.org. See: https://github.com/scikit-learn/scikit-learn/issues/21755 */display: inline-block !important;position: relative;}#sk-container-id-1 div.sk-text-repr-fallback {display: none;}</style><div id=\"sk-container-id-1\" class=\"sk-top-container\"><div class=\"sk-text-repr-fallback\"><pre>Pipeline(steps=[(&#x27;tfidf&#x27;, TfidfVectorizer()), (&#x27;clf&#x27;, LogisticRegression())])</pre><b>In a Jupyter environment, please rerun this cell to show the HTML representation or trust the notebook. <br />On GitHub, the HTML representation is unable to render, please try loading this page with nbviewer.org.</b></div><div class=\"sk-container\" hidden><div class=\"sk-item sk-dashed-wrapped\"><div class=\"sk-label-container\"><div class=\"sk-label sk-toggleable\"><input class=\"sk-toggleable__control sk-hidden--visually\" id=\"sk-estimator-id-1\" type=\"checkbox\" ><label for=\"sk-estimator-id-1\" class=\"sk-toggleable__label sk-toggleable__label-arrow\">Pipeline</label><div class=\"sk-toggleable__content\"><pre>Pipeline(steps=[(&#x27;tfidf&#x27;, TfidfVectorizer()), (&#x27;clf&#x27;, LogisticRegression())])</pre></div></div></div><div class=\"sk-serial\"><div class=\"sk-item\"><div class=\"sk-estimator sk-toggleable\"><input class=\"sk-toggleable__control sk-hidden--visually\" id=\"sk-estimator-id-2\" type=\"checkbox\" ><label for=\"sk-estimator-id-2\" class=\"sk-toggleable__label sk-toggleable__label-arrow\">TfidfVectorizer</label><div class=\"sk-toggleable__content\"><pre>TfidfVectorizer()</pre></div></div></div><div class=\"sk-item\"><div class=\"sk-estimator sk-toggleable\"><input class=\"sk-toggleable__control sk-hidden--visually\" id=\"sk-estimator-id-3\" type=\"checkbox\" ><label for=\"sk-estimator-id-3\" class=\"sk-toggleable__label sk-toggleable__label-arrow\">LogisticRegression</label><div class=\"sk-toggleable__content\"><pre>LogisticRegression()</pre></div></div></div></div></div></div></div>"
      ],
      "text/plain": [
       "Pipeline(steps=[('tfidf', TfidfVectorizer()), ('clf', LogisticRegression())])"
      ]
     },
     "execution_count": 9,
     "metadata": {},
     "output_type": "execute_result"
    }
   ],
   "source": [
    "# Fit the pipeline to the training data\n",
    "pipe.fit(X_train, y_train)"
   ]
  },
  {
   "cell_type": "code",
   "execution_count": 10,
   "id": "5b85a94d-c652-49a3-8bf9-cbd9ed5c74cd",
   "metadata": {},
   "outputs": [
    {
     "name": "stdout",
     "output_type": "stream",
     "text": [
      "The accuracy of this inference is: 0.8962868117797695\n",
      "The precision of this inference is: 0.9184210526315789\n",
      "The specificty of this inference is: 0.918848167539267\n",
      "The recall of this inference is: 0.87468671679198\n",
      "The f1 score for this inference is: 0.8960205391527599\n"
     ]
    },
    {
     "data": {
      "image/png": "[encoded data removed]",
      "text/plain": [
       "<Figure size 640x480 with 2 Axes>"
      ]
     },
     "metadata": {},
     "output_type": "display_data"
    }
   ],
   "source": [
    "# Make predictions on the testing data\n",
    "y_pred_sp = pipe.predict(X_test)\n",
    "print_confusion_matrix(y_test, y_pred_sp)\n",
    "metrics_for_model(y_test, y_pred_sp);"
   ]
  },
  {
   "cell_type": "markdown",
   "id": "0ebc53b0-5941-4a03-9c27-7a00b1410034",
   "metadata": {},
   "source": [
    "SpaCy tokeniser generated a smaller portion of `false negative` and more `true postive`.  \n",
    "This means that some titles previously wrongly classified as negative are now correctly classified.  \n",
    "SpaCy's tokenizer is designed to handle a wide range of text types, including informal language, typos, and variations in spelling and punctuation.   \n",
    "It's also very good at handling compound words, contractions, and other complex expressions.  \n",
    "This is indeed very useful and does a much better job at tokenizing my documents.  \n",
    "Let me take a look at the errors!  "
   ]
  },
  {
   "cell_type": "code",
   "execution_count": 11,
   "id": "de5834c3-7793-4787-b3ae-6ac24f04e04d",
   "metadata": {},
   "outputs": [
    {
     "data": {
      "text/html": [
       "<div>\n",
       "<style scoped>\n",
       "    .dataframe tbody tr th:only-of-type {\n",
       "        vertical-align: middle;\n",
       "    }\n",
       "\n",
       "    .dataframe tbody tr th {\n",
       "        vertical-align: top;\n",
       "    }\n",
       "\n",
       "    .dataframe thead th {\n",
       "        text-align: right;\n",
       "    }\n",
       "</style>\n",
       "<table border=\"1\" class=\"dataframe\">\n",
       "  <thead>\n",
       "    <tr style=\"text-align: right;\">\n",
       "      <th></th>\n",
       "      <th>title</th>\n",
       "      <th>label</th>\n",
       "      <th>y_pred_nb</th>\n",
       "      <th>y_prelim_nb</th>\n",
       "      <th>y_pred_nb_2</th>\n",
       "      <th>y_pred_log</th>\n",
       "      <th>y_pred_RF</th>\n",
       "      <th>y_RF_final</th>\n",
       "      <th>y_XGB</th>\n",
       "      <th>y_sp</th>\n",
       "    </tr>\n",
       "  </thead>\n",
       "  <tbody>\n",
       "    <tr>\n",
       "      <th>7</th>\n",
       "      <td>Spider Man trailer with 90s theme</td>\n",
       "      <td>0</td>\n",
       "      <td>0</td>\n",
       "      <td>1</td>\n",
       "      <td>0</td>\n",
       "      <td>0</td>\n",
       "      <td>1</td>\n",
       "      <td>1</td>\n",
       "      <td>1</td>\n",
       "      <td>1</td>\n",
       "    </tr>\n",
       "    <tr>\n",
       "      <th>41</th>\n",
       "      <td>WARNING DON'T Upload photos on nintendo live chat</td>\n",
       "      <td>1</td>\n",
       "      <td>0</td>\n",
       "      <td>1</td>\n",
       "      <td>1</td>\n",
       "      <td>1</td>\n",
       "      <td>0</td>\n",
       "      <td>0</td>\n",
       "      <td>0</td>\n",
       "      <td>0</td>\n",
       "    </tr>\n",
       "    <tr>\n",
       "      <th>54</th>\n",
       "      <td>PSA for those looking at the legend of dragoon...</td>\n",
       "      <td>0</td>\n",
       "      <td>0</td>\n",
       "      <td>1</td>\n",
       "      <td>0</td>\n",
       "      <td>1</td>\n",
       "      <td>1</td>\n",
       "      <td>1</td>\n",
       "      <td>1</td>\n",
       "      <td>1</td>\n",
       "    </tr>\n",
       "    <tr>\n",
       "      <th>69</th>\n",
       "      <td>You can buy a brand new sealed copy of LarryBo...</td>\n",
       "      <td>1</td>\n",
       "      <td>0</td>\n",
       "      <td>0</td>\n",
       "      <td>0</td>\n",
       "      <td>0</td>\n",
       "      <td>1</td>\n",
       "      <td>1</td>\n",
       "      <td>1</td>\n",
       "      <td>0</td>\n",
       "    </tr>\n",
       "    <tr>\n",
       "      <th>77</th>\n",
       "      <td>How simple texture compression can start a 20-...</td>\n",
       "      <td>1</td>\n",
       "      <td>0</td>\n",
       "      <td>0</td>\n",
       "      <td>0</td>\n",
       "      <td>0</td>\n",
       "      <td>0</td>\n",
       "      <td>0</td>\n",
       "      <td>0</td>\n",
       "      <td>0</td>\n",
       "    </tr>\n",
       "    <tr>\n",
       "      <th>...</th>\n",
       "      <td>...</td>\n",
       "      <td>...</td>\n",
       "      <td>...</td>\n",
       "      <td>...</td>\n",
       "      <td>...</td>\n",
       "      <td>...</td>\n",
       "      <td>...</td>\n",
       "      <td>...</td>\n",
       "      <td>...</td>\n",
       "      <td>...</td>\n",
       "    </tr>\n",
       "    <tr>\n",
       "      <th>747</th>\n",
       "      <td>Tis the season on the Starfall Islands. You ca...</td>\n",
       "      <td>1</td>\n",
       "      <td>0</td>\n",
       "      <td>0</td>\n",
       "      <td>0</td>\n",
       "      <td>0</td>\n",
       "      <td>0</td>\n",
       "      <td>0</td>\n",
       "      <td>0</td>\n",
       "      <td>0</td>\n",
       "    </tr>\n",
       "    <tr>\n",
       "      <th>749</th>\n",
       "      <td>As a kid, Nintendo helped me earn my Bear Badge.</td>\n",
       "      <td>1</td>\n",
       "      <td>0</td>\n",
       "      <td>0</td>\n",
       "      <td>0</td>\n",
       "      <td>0</td>\n",
       "      <td>0</td>\n",
       "      <td>0</td>\n",
       "      <td>0</td>\n",
       "      <td>0</td>\n",
       "    </tr>\n",
       "    <tr>\n",
       "      <th>762</th>\n",
       "      <td>You can't convert replays to video unless you ...</td>\n",
       "      <td>1</td>\n",
       "      <td>1</td>\n",
       "      <td>0</td>\n",
       "      <td>0</td>\n",
       "      <td>0</td>\n",
       "      <td>1</td>\n",
       "      <td>1</td>\n",
       "      <td>1</td>\n",
       "      <td>0</td>\n",
       "    </tr>\n",
       "    <tr>\n",
       "      <th>766</th>\n",
       "      <td>Galar Region is based off the UK. Victorian-es...</td>\n",
       "      <td>1</td>\n",
       "      <td>0</td>\n",
       "      <td>1</td>\n",
       "      <td>1</td>\n",
       "      <td>0</td>\n",
       "      <td>0</td>\n",
       "      <td>0</td>\n",
       "      <td>0</td>\n",
       "      <td>0</td>\n",
       "    </tr>\n",
       "    <tr>\n",
       "      <th>769</th>\n",
       "      <td>Japan Is More Excited About Nintendo Labo Than...</td>\n",
       "      <td>1</td>\n",
       "      <td>0</td>\n",
       "      <td>0</td>\n",
       "      <td>0</td>\n",
       "      <td>0</td>\n",
       "      <td>0</td>\n",
       "      <td>0</td>\n",
       "      <td>0</td>\n",
       "      <td>0</td>\n",
       "    </tr>\n",
       "  </tbody>\n",
       "</table>\n",
       "<p>81 rows × 10 columns</p>\n",
       "</div>"
      ],
      "text/plain": [
       "                                                 title  label  y_pred_nb  \\\n",
       "7                    Spider Man trailer with 90s theme      0          0   \n",
       "41   WARNING DON'T Upload photos on nintendo live chat      1          0   \n",
       "54   PSA for those looking at the legend of dragoon...      0          0   \n",
       "69   You can buy a brand new sealed copy of LarryBo...      1          0   \n",
       "77   How simple texture compression can start a 20-...      1          0   \n",
       "..                                                 ...    ...        ...   \n",
       "747  Tis the season on the Starfall Islands. You ca...      1          0   \n",
       "749   As a kid, Nintendo helped me earn my Bear Badge.      1          0   \n",
       "762  You can't convert replays to video unless you ...      1          1   \n",
       "766  Galar Region is based off the UK. Victorian-es...      1          0   \n",
       "769  Japan Is More Excited About Nintendo Labo Than...      1          0   \n",
       "\n",
       "     y_prelim_nb  y_pred_nb_2  y_pred_log  y_pred_RF  y_RF_final  y_XGB  y_sp  \n",
       "7              1            0           0          1           1      1     1  \n",
       "41             1            1           1          0           0      0     0  \n",
       "54             1            0           1          1           1      1     1  \n",
       "69             0            0           0          1           1      1     0  \n",
       "77             0            0           0          0           0      0     0  \n",
       "..           ...          ...         ...        ...         ...    ...   ...  \n",
       "747            0            0           0          0           0      0     0  \n",
       "749            0            0           0          0           0      0     0  \n",
       "762            0            0           0          1           1      1     0  \n",
       "766            1            1           0          0           0      0     0  \n",
       "769            0            0           0          0           0      0     0  \n",
       "\n",
       "[81 rows x 10 columns]"
      ]
     },
     "execution_count": 11,
     "metadata": {},
     "output_type": "execute_result"
    }
   ],
   "source": [
    "df_comb = pd.read_csv('../data/test_results.csv')\n",
    "df_comb = pd.concat([df_comb, pd.DataFrame(y_pred_sp, columns=['y_sp'])], axis=1)\n",
    "df_comb.loc[df_comb['label'] != df_comb['y_sp']]"
   ]
  },
  {
   "cell_type": "code",
   "execution_count": 18,
   "id": "66ac3375-b769-42ab-b995-c8056f07542c",
   "metadata": {},
   "outputs": [
    {
     "name": "stdout",
     "output_type": "stream",
     "text": [
      "The accuracy of this inference is: 0.9647774575728466\n",
      "The precision of this inference is: 0.9835051546391752\n",
      "The specificty of this inference is: 0.9850560398505604\n",
      "The recall of this inference is: 0.9433091628213579\n",
      "The f1 score for this inference is: 0.9629878869448182\n"
     ]
    },
    {
     "data": {
      "image/png": "[encoded data removed]",
      "text/plain": [
       "<Figure size 640x480 with 2 Axes>"
      ]
     },
     "metadata": {},
     "output_type": "display_data"
    }
   ],
   "source": [
    "y_pred_log_sp = pipe.predict(X_train)\n",
    "print_confusion_matrix(y_train, y_pred_log_sp)\n",
    "metrics_for_model(y_train, y_pred_log_sp);"
   ]
  },
  {
   "cell_type": "markdown",
   "id": "d364ba53-7398-46eb-b1f1-545079b8aa1f",
   "metadata": {},
   "source": [
    "It is clear that there are over fitting.  \n",
    "Even so, the test is better.  \n",
    "This means that the tokeniser is better.  \n",
    "This part is just an add on part.  \n",
    "I am evaluating the performance of the spaCy lemmatizer and and stop words.  "
   ]
  }
 ],
 "metadata": {
  "kernelspec": {
   "display_name": "Python [conda env:dsi-sg]",
   "language": "python",
   "name": "conda-env-dsi-sg-py"
  },
  "language_info": {
   "codemirror_mode": {
    "name": "ipython",
    "version": 3
   },
   "file_extension": ".py",
   "mimetype": "text/x-python",
   "name": "python",
   "nbconvert_exporter": "python",
   "pygments_lexer": "ipython3",
   "version": "3.9.13"
  }
 },
 "nbformat": 4,
 "nbformat_minor": 5
}

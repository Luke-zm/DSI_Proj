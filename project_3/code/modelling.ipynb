{
 "cells": [
  {
   "cell_type": "markdown",
   "id": "bd34ba96-8f6d-4e5a-9547-ada1ac7319fa",
   "metadata": {},
   "source": [
    "# Modelling"
   ]
  },
  {
   "cell_type": "markdown",
   "id": "26ee9b64-20c4-49e3-8e7d-eba0f2a4b623",
   "metadata": {},
   "source": [
    "## Introduction"
   ]
  },
  {
   "cell_type": "markdown",
   "id": "8a1cd75a-5df9-42c6-a1e3-0fb9837744a3",
   "metadata": {},
   "source": [
    "In this notebook, I will explore the models and techniques in detail, and try to evaluate thier performances.  \n",
    "I will also try to explain what each model is trying to do, and is it working for this case.  \n",
    "The contents covered are:\n",
    "1. [Baseline](#Baseline)\n",
    "2. [Naive Bayes](#Naive-Bayes)\n",
    "3. [Ensemble Methods](#Ensemble-Methods)\n",
    "4. XGB\n",
    "5. Word Embedding?\n",
    "6. spaCy?"
   ]
  },
  {
   "cell_type": "code",
   "execution_count": 1,
   "id": "55f8e3f7-6b00-4787-a830-9688c84d05af",
   "metadata": {},
   "outputs": [],
   "source": [
    "import joblib\n",
    "import pickle\n",
    "import matplotlib.pyplot as plt\n",
    "import numpy as np\n",
    "import pandas as pd\n",
    "import seaborn as sns\n",
    "import xgboost as xgb\n",
    "from sklearn.feature_extraction.text import CountVectorizer, TfidfVectorizer\n",
    "\n",
    "import re\n",
    "\n",
    "from nltk.stem import WordNetLemmatizer\n",
    "from nltk.tokenize import sent_tokenize, word_tokenize, RegexpTokenizer\n",
    "from nltk.stem.porter import PorterStemmer\n",
    "from nltk.stem.snowball import SnowballStemmer\n",
    "from nltk.corpus import stopwords\n",
    "\n",
    "from sklearn.feature_extraction import text \n",
    "from sklearn.model_selection import train_test_split, GridSearchCV, cross_val_score, cross_validate\n",
    "from sklearn.pipeline import Pipeline\n",
    "from sklearn.naive_bayes import MultinomialNB\n",
    "from sklearn.decomposition import LatentDirichletAllocation\n",
    "from sklearn.metrics import confusion_matrix, plot_confusion_matrix, accuracy_score\n",
    "from sklearn.ensemble import RandomForestClassifier\n",
    "from sklearn.base import BaseEstimator, TransformerMixin\n",
    "\n",
    "from scipy.stats import shapiro\n",
    "\n",
    "from wordcloud import WordCloud, STOPWORDS, ImageColorGenerator"
   ]
  },
  {
   "cell_type": "code",
   "execution_count": 2,
   "id": "db947bc6-9e85-4be5-ad02-f4d24acefd5f",
   "metadata": {},
   "outputs": [],
   "source": [
    "df = pd.read_csv('../data/combined_df.csv')"
   ]
  },
  {
   "cell_type": "code",
   "execution_count": 3,
   "id": "15147322-fbf3-42f3-b628-cf72d11610d8",
   "metadata": {},
   "outputs": [
    {
     "data": {
      "text/html": [
       "<div>\n",
       "<style scoped>\n",
       "    .dataframe tbody tr th:only-of-type {\n",
       "        vertical-align: middle;\n",
       "    }\n",
       "\n",
       "    .dataframe tbody tr th {\n",
       "        vertical-align: top;\n",
       "    }\n",
       "\n",
       "    .dataframe thead th {\n",
       "        text-align: right;\n",
       "    }\n",
       "</style>\n",
       "<table border=\"1\" class=\"dataframe\">\n",
       "  <thead>\n",
       "    <tr style=\"text-align: right;\">\n",
       "      <th></th>\n",
       "      <th>id</th>\n",
       "      <th>title</th>\n",
       "      <th>post_content</th>\n",
       "      <th>user</th>\n",
       "      <th>label</th>\n",
       "      <th>title_word_count</th>\n",
       "      <th>title_len</th>\n",
       "      <th>post_word_count</th>\n",
       "      <th>post_len</th>\n",
       "      <th>emoji_num</th>\n",
       "      <th>emoji_post</th>\n",
       "    </tr>\n",
       "  </thead>\n",
       "  <tbody>\n",
       "    <tr>\n",
       "      <th>0</th>\n",
       "      <td>119r7rg</td>\n",
       "      <td>THROWDOWN THURSDAY: LEAKS CONFIRM LINK IS IN T...</td>\n",
       "      <td>WELCOME TO THROWDOWN THURSDAY, TURN YOUR CAPS ...</td>\n",
       "      <td>1338h4x</td>\n",
       "      <td>1</td>\n",
       "      <td>11</td>\n",
       "      <td>65</td>\n",
       "      <td>114</td>\n",
       "      <td>674</td>\n",
       "      <td>0</td>\n",
       "      <td>0</td>\n",
       "    </tr>\n",
       "    <tr>\n",
       "      <th>1</th>\n",
       "      <td>11c6ol7</td>\n",
       "      <td>smile sunday - happy 30th anniversary, star fox!</td>\n",
       "      <td>turn your caps lock off and rave about whateve...</td>\n",
       "      <td>tale-wind</td>\n",
       "      <td>1</td>\n",
       "      <td>8</td>\n",
       "      <td>48</td>\n",
       "      <td>231</td>\n",
       "      <td>1515</td>\n",
       "      <td>0</td>\n",
       "      <td>0</td>\n",
       "    </tr>\n",
       "    <tr>\n",
       "      <th>2</th>\n",
       "      <td>11cai3l</td>\n",
       "      <td>Never played a Pokémon game- where do I start?</td>\n",
       "      <td>I’ve been a gamer since early Gameboy days but...</td>\n",
       "      <td>Focusboy50</td>\n",
       "      <td>1</td>\n",
       "      <td>9</td>\n",
       "      <td>46</td>\n",
       "      <td>60</td>\n",
       "      <td>320</td>\n",
       "      <td>0</td>\n",
       "      <td>0</td>\n",
       "    </tr>\n",
       "    <tr>\n",
       "      <th>3</th>\n",
       "      <td>11bipdi</td>\n",
       "      <td>Universal Brazil posted a video of a Mario mov...</td>\n",
       "      <td>NaN</td>\n",
       "      <td>Nas160</td>\n",
       "      <td>1</td>\n",
       "      <td>21</td>\n",
       "      <td>114</td>\n",
       "      <td>0</td>\n",
       "      <td>0</td>\n",
       "      <td>0</td>\n",
       "      <td>0</td>\n",
       "    </tr>\n",
       "    <tr>\n",
       "      <th>4</th>\n",
       "      <td>11bkknf</td>\n",
       "      <td>MyNintendo offering eight exclusive reversible...</td>\n",
       "      <td>NaN</td>\n",
       "      <td>blubberpuppers</td>\n",
       "      <td>1</td>\n",
       "      <td>20</td>\n",
       "      <td>139</td>\n",
       "      <td>0</td>\n",
       "      <td>0</td>\n",
       "      <td>0</td>\n",
       "      <td>0</td>\n",
       "    </tr>\n",
       "  </tbody>\n",
       "</table>\n",
       "</div>"
      ],
      "text/plain": [
       "        id                                              title  \\\n",
       "0  119r7rg  THROWDOWN THURSDAY: LEAKS CONFIRM LINK IS IN T...   \n",
       "1  11c6ol7   smile sunday - happy 30th anniversary, star fox!   \n",
       "2  11cai3l     Never played a Pokémon game- where do I start?   \n",
       "3  11bipdi  Universal Brazil posted a video of a Mario mov...   \n",
       "4  11bkknf  MyNintendo offering eight exclusive reversible...   \n",
       "\n",
       "                                        post_content            user  label  \\\n",
       "0  WELCOME TO THROWDOWN THURSDAY, TURN YOUR CAPS ...         1338h4x      1   \n",
       "1  turn your caps lock off and rave about whateve...       tale-wind      1   \n",
       "2  I’ve been a gamer since early Gameboy days but...      Focusboy50      1   \n",
       "3                                                NaN          Nas160      1   \n",
       "4                                                NaN  blubberpuppers      1   \n",
       "\n",
       "   title_word_count  title_len  post_word_count  post_len  emoji_num  \\\n",
       "0                11         65              114       674          0   \n",
       "1                 8         48              231      1515          0   \n",
       "2                 9         46               60       320          0   \n",
       "3                21        114                0         0          0   \n",
       "4                20        139                0         0          0   \n",
       "\n",
       "   emoji_post  \n",
       "0           0  \n",
       "1           0  \n",
       "2           0  \n",
       "3           0  \n",
       "4           0  "
      ]
     },
     "execution_count": 3,
     "metadata": {},
     "output_type": "execute_result"
    }
   ],
   "source": [
    "df.head()"
   ]
  },
  {
   "cell_type": "code",
   "execution_count": 4,
   "id": "026e79e1-0679-4052-8756-f8ada1cee587",
   "metadata": {},
   "outputs": [
    {
     "data": {
      "text/html": [
       "<div>\n",
       "<style scoped>\n",
       "    .dataframe tbody tr th:only-of-type {\n",
       "        vertical-align: middle;\n",
       "    }\n",
       "\n",
       "    .dataframe tbody tr th {\n",
       "        vertical-align: top;\n",
       "    }\n",
       "\n",
       "    .dataframe thead th {\n",
       "        text-align: right;\n",
       "    }\n",
       "</style>\n",
       "<table border=\"1\" class=\"dataframe\">\n",
       "  <thead>\n",
       "    <tr style=\"text-align: right;\">\n",
       "      <th></th>\n",
       "      <th>id</th>\n",
       "      <th>title</th>\n",
       "      <th>post_content</th>\n",
       "      <th>user</th>\n",
       "      <th>title_word_count</th>\n",
       "      <th>title_len</th>\n",
       "      <th>post_word_count</th>\n",
       "      <th>post_len</th>\n",
       "      <th>emoji_num</th>\n",
       "      <th>emoji_post</th>\n",
       "    </tr>\n",
       "    <tr>\n",
       "      <th>label</th>\n",
       "      <th></th>\n",
       "      <th></th>\n",
       "      <th></th>\n",
       "      <th></th>\n",
       "      <th></th>\n",
       "      <th></th>\n",
       "      <th></th>\n",
       "      <th></th>\n",
       "      <th></th>\n",
       "      <th></th>\n",
       "    </tr>\n",
       "  </thead>\n",
       "  <tbody>\n",
       "    <tr>\n",
       "      <th>0</th>\n",
       "      <td>1988</td>\n",
       "      <td>1988</td>\n",
       "      <td>679</td>\n",
       "      <td>1926</td>\n",
       "      <td>1988</td>\n",
       "      <td>1988</td>\n",
       "      <td>1988</td>\n",
       "      <td>1988</td>\n",
       "      <td>1988</td>\n",
       "      <td>1988</td>\n",
       "    </tr>\n",
       "    <tr>\n",
       "      <th>1</th>\n",
       "      <td>1916</td>\n",
       "      <td>1916</td>\n",
       "      <td>645</td>\n",
       "      <td>1799</td>\n",
       "      <td>1916</td>\n",
       "      <td>1916</td>\n",
       "      <td>1916</td>\n",
       "      <td>1916</td>\n",
       "      <td>1916</td>\n",
       "      <td>1916</td>\n",
       "    </tr>\n",
       "  </tbody>\n",
       "</table>\n",
       "</div>"
      ],
      "text/plain": [
       "         id  title  post_content  user  title_word_count  title_len  \\\n",
       "label                                                                 \n",
       "0      1988   1988           679  1926              1988       1988   \n",
       "1      1916   1916           645  1799              1916       1916   \n",
       "\n",
       "       post_word_count  post_len  emoji_num  emoji_post  \n",
       "label                                                    \n",
       "0                 1988      1988       1988        1988  \n",
       "1                 1916      1916       1916        1916  "
      ]
     },
     "execution_count": 4,
     "metadata": {},
     "output_type": "execute_result"
    }
   ],
   "source": [
    "df.groupby('label').count()"
   ]
  },
  {
   "cell_type": "markdown",
   "id": "d5690657-f87b-4109-8f0f-79329e801139",
   "metadata": {},
   "source": [
    "## Baseline"
   ]
  },
  {
   "cell_type": "markdown",
   "id": "e99951c9-b2ab-4ab4-99a7-201523aa189b",
   "metadata": {},
   "source": [
    "The most base case prediction should be as follows:  \n",
    "1. I look at the entire dataset and see how it is split into ninetendo and playstation.  \n",
    "2. I make a guess everytime based on how many posts are from nintendo and how many posts are from play station."
   ]
  },
  {
   "cell_type": "markdown",
   "id": "b586f5f4-4577-4d17-8910-a0a9cceb620f",
   "metadata": {},
   "source": [
    "I have 1988 posts from playstation.  \n",
    "I have 1916 posts from ninetendo.  \n",
    "I make a random number selector that simply selects 1 or 0, based on occurance of playstation and nintendo.  \n",
    "(If I am to fit the entire data set to training.)"
   ]
  },
  {
   "cell_type": "code",
   "execution_count": 5,
   "id": "9bff6f4d-b8f0-423b-9a1d-ef6c2108b82e",
   "metadata": {},
   "outputs": [],
   "source": [
    "class BaseLineModel(object):\n",
    "    '''base line model\n",
    "    '''\n",
    "    def __init__(self, X, y):\n",
    "        self.X = X\n",
    "        self.y = y\n",
    "        self.rand_train()\n",
    "    def rand_train(self):\n",
    "        # becasue true = 1, so sum(true)/len(total) == occurance probability\n",
    "        self.prob = sum(self.y)/len(self.y)\n",
    "    def predict(self, X_pred,random_state = 42):\n",
    "        # predict based on probability\n",
    "        if random_state:\n",
    "            np.random.seed(42)\n",
    "        prob_0 = 1-self.prob\n",
    "        prob_1 = self.prob\n",
    "        pred = []\n",
    "        for i in range(len(X_pred)):\n",
    "            pred.append(np.random.choice([0, 1], p=[prob_0, prob_1]))\n",
    "        return pred"
   ]
  },
  {
   "cell_type": "code",
   "execution_count": 6,
   "id": "4938b9c9-0190-42b4-8cda-b219c438f410",
   "metadata": {},
   "outputs": [],
   "source": [
    "def print_confusion_matrix(y_actual, y_pred):\n",
    "    cf_matrix = confusion_matrix(y_actual, y_pred)\n",
    "    group_names = ['True Neg','False Pos','False Neg','True Pos']\n",
    "    group_counts = [\"{0:0.0f}\".format(value) for value in\n",
    "                    cf_matrix.flatten()]\n",
    "    group_percentages = [\"{0:.2%}\".format(value) for value in\n",
    "                         cf_matrix.flatten()/np.sum(cf_matrix)]\n",
    "    labels = [f'{v1}\\n{v2}\\n{v3}' for v1, v2, v3 in\n",
    "              zip(group_names,group_counts,group_percentages)]\n",
    "    labels = np.asarray(labels).reshape(2,2)\n",
    "    sns.heatmap(cf_matrix, annot=labels, fmt='', cmap='Blues')"
   ]
  },
  {
   "cell_type": "code",
   "execution_count": 7,
   "id": "2404d506-0fb6-4574-984f-04414d37ed1a",
   "metadata": {},
   "outputs": [],
   "source": [
    "def metrics_for_model(y_true, y_pred):\n",
    "    '''find the relavent metrics from confusion metrics\n",
    "    arg:\n",
    "        y_true: true value for y\n",
    "        y_pred: predicted value for y\n",
    "    out:\n",
    "        pre: precison score\n",
    "        rec: recall score\n",
    "        f1: f1 socre\n",
    "    '''\n",
    "    tn, fp, fn, tp =confusion_matrix(y_true, y_pred).ravel()\n",
    "    acc = (tp+tn)/(tp+fp+tn+fn)\n",
    "    pre = tp/(tp+fp)\n",
    "    sp = tn/(tn+fp)\n",
    "    rec = tp/(tp+fn)\n",
    "    f1 = 2*(pre*rec)/(pre+rec)\n",
    "    print(f\"The accuracy of this inference is: {acc}\")\n",
    "    print(f\"The precision of this inference is: {pre}\")\n",
    "    print(f\"The specificty of this inference is: {sp}\")\n",
    "    print(f\"The recall of this inference is: {rec}\")\n",
    "    print(f\"The f1 score for this inference is: {f1}\")\n",
    "    return pre, rec, f1"
   ]
  },
  {
   "cell_type": "code",
   "execution_count": 8,
   "id": "bf7b9aed-80a1-42c5-bcf4-78a940e1c445",
   "metadata": {},
   "outputs": [],
   "source": [
    "# Split the data \n",
    "X_train, X_test, y_train, y_test = train_test_split(df['title'], df['label'], test_size=0.2, random_state=42)"
   ]
  },
  {
   "cell_type": "code",
   "execution_count": 9,
   "id": "2210eb52-f4c9-4175-80ef-e1a3f5deb40e",
   "metadata": {},
   "outputs": [],
   "source": [
    "X_test.reset_index(drop=True, inplace=True)\n",
    "y_test.reset_index(drop=True, inplace=True)"
   ]
  },
  {
   "cell_type": "code",
   "execution_count": 10,
   "id": "179597ad-b665-4ed8-ba3e-b7c6e5dc46a0",
   "metadata": {},
   "outputs": [],
   "source": [
    "base_line = BaseLineModel(X_train, y_train)\n",
    "y_pred_base = base_line.predict(X_test)"
   ]
  },
  {
   "cell_type": "code",
   "execution_count": 11,
   "id": "4a5e63bf-be5b-45cf-9f04-4ebfe9bd1892",
   "metadata": {},
   "outputs": [
    {
     "name": "stdout",
     "output_type": "stream",
     "text": [
      "The accuracy of this inference is: 0.528809218950064\n",
      "The precision of this inference is: 0.5406824146981627\n",
      "The specificty of this inference is: 0.5418848167539267\n",
      "The recall of this inference is: 0.5162907268170426\n",
      "The f1 score for this inference is: 0.5282051282051281\n"
     ]
    },
    {
     "data": {
      "text/plain": [
       "(0.5406824146981627, 0.5162907268170426, 0.5282051282051281)"
      ]
     },
     "execution_count": 11,
     "metadata": {},
     "output_type": "execute_result"
    },
    {
     "data": {
      "image/png": "[encoded data removed]",
      "text/plain": [
       "<Figure size 640x480 with 2 Axes>"
      ]
     },
     "metadata": {},
     "output_type": "display_data"
    }
   ],
   "source": [
    "print_confusion_matrix(y_test, y_pred_base);\n",
    "metrics_for_model(y_test, y_pred_base)"
   ]
  },
  {
   "cell_type": "markdown",
   "id": "19fac5d3-d148-433b-94d5-cf17a26b6251",
   "metadata": {},
   "source": [
    "This is the my baseline model.  \n",
    "It is equally bad at predicting both, and have a very even mixture for errors too!  \n",
    "The main evalution metric is my coonfusion matrix.  \n",
    "This is becasue confusion matrix provide the most complete information to my classification model.  \n",
    "From it, my accuracy, recall, precision, specificty, f1 all can be calculated.  \n",
    "What I am focusing on, is the f1 score.  \n",
    "I want my model to be good for both predicting precisely (tp/tp+fp) and with good recall (tp/tp+fn).  \n",
    "F1 score can also be described as the harmonic mean or weighted average of precision and recall.  \n",
    "With my baseline model established, I will go on to investigate with other methods!"
   ]
  },
  {
   "cell_type": "markdown",
   "id": "760ea0cb-f462-4ab4-a8d9-fe6017945a92",
   "metadata": {},
   "source": [
    "## Naive Bayes"
   ]
  },
  {
   "cell_type": "markdown",
   "id": "ed71645b-3b41-47e5-b3d6-14b2972895a9",
   "metadata": {},
   "source": [
    "I am using multinominal NB as explained in the EDA notebook.  \n",
    "It is a simple classification model and commonly used in NLP tasks like that one at hand.  \n",
    "I will examine some techniques and how they affect the model.  \n",
    "1. Extracting words from web links.\n",
    "2. Stemming\n",
    "3. Lemmatization  \n",
    "\n",
    "Then the preprocessed tokens will be sent to TF-IDF.  \n",
    "After which, it will be fitted using NB.\n",
    "I will then examine the model and decide which variant of the model to use, should I want a NB model for production."
   ]
  },
  {
   "cell_type": "code",
   "execution_count": 12,
   "id": "44707f88-d2bd-4761-ab01-c9ad00593dca",
   "metadata": {},
   "outputs": [],
   "source": [
    "# Import my stop words\n",
    "with open('../data/stopwords.pkl', 'rb') as f:\n",
    "    my_stop_words = pickle.load(f)"
   ]
  },
  {
   "cell_type": "code",
   "execution_count": 13,
   "id": "44d4051d-d196-4490-82ed-a750a32d01b1",
   "metadata": {},
   "outputs": [],
   "source": [
    "class StemLemmatizeTransformer(BaseEstimator, TransformerMixin):\n",
    "    '''Class that \n",
    "    1. extract words from url\n",
    "    2. stem words\n",
    "    3. lemmatize words\n",
    "    '''\n",
    "    def __init__(self):\n",
    "        self.stemmer = PorterStemmer()\n",
    "        self.lemmatizer = WordNetLemmatizer()\n",
    "    \n",
    "    def fit(self, X, y=None):\n",
    "        return self\n",
    "    \n",
    "    def transform(self, X, y=None):\n",
    "        stemmed_lemmatized_text = []\n",
    "        replace_list = ['apps.', 'http://', 'https://', 'www.', '.net', '.com', '/', '.', '-']\n",
    "        for i, text in enumerate(X):\n",
    "            for part in replace_list:\n",
    "                text = text.replace(part, ' ')\n",
    "            # X[i] = text\n",
    "            stemmed_words = [self.stemmer.stem(word) for word in text.split()]\n",
    "            stemmed_lemmatized_text.append(' '.join([self.lemmatizer.lemmatize(word) for word in stemmed_words]))\n",
    "        return stemmed_lemmatized_text"
   ]
  },
  {
   "cell_type": "code",
   "execution_count": 14,
   "id": "f577d731-31dc-4c11-a160-4d0ce8fbe401",
   "metadata": {},
   "outputs": [],
   "source": [
    "final_nb_pipeline = Pipeline([\n",
    "    ('stem_lemmatize', StemLemmatizeTransformer()),\n",
    "    ('tfidf', TfidfVectorizer(min_df=5, ngram_range=(1,3), stop_words=my_stop_words)),\n",
    "    ('clf', MultinomialNB()),\n",
    "])\n"
   ]
  },
  {
   "cell_type": "code",
   "execution_count": 15,
   "id": "7fc38365-d647-448f-bb7d-da63f06852b8",
   "metadata": {},
   "outputs": [],
   "source": [
    "final_nb_model = final_nb_pipeline.fit(X_train, y_train)"
   ]
  },
  {
   "cell_type": "code",
   "execution_count": 16,
   "id": "3df1625a-2eb8-456f-8b82-74fb09faf3dc",
   "metadata": {},
   "outputs": [],
   "source": [
    "y_pred_nb = final_nb_model.predict(X_test)"
   ]
  },
  {
   "cell_type": "code",
   "execution_count": 17,
   "id": "5dff63de-a187-486b-bb3c-addf67efe05b",
   "metadata": {},
   "outputs": [
    {
     "name": "stdout",
     "output_type": "stream",
     "text": [
      "The accuracy of this inference is: 0.8796414852752881\n",
      "The precision of this inference is: 0.9066666666666666\n",
      "The specificty of this inference is: 0.9083769633507853\n",
      "The recall of this inference is: 0.8521303258145363\n",
      "The f1 score for this inference is: 0.8785529715762274\n"
     ]
    },
    {
     "data": {
      "image/png": "[encoded data removed]",
      "text/plain": [
       "<Figure size 640x480 with 2 Axes>"
      ]
     },
     "metadata": {},
     "output_type": "display_data"
    }
   ],
   "source": [
    "print_confusion_matrix(y_test, y_pred_nb)\n",
    "metrics_for_model(y_test, y_pred_nb);"
   ]
  },
  {
   "cell_type": "code",
   "execution_count": 18,
   "id": "f1a5f2e0-3c55-4924-bffd-d47addef6e64",
   "metadata": {},
   "outputs": [
    {
     "data": {
      "text/html": [
       "<div>\n",
       "<style scoped>\n",
       "    .dataframe tbody tr th:only-of-type {\n",
       "        vertical-align: middle;\n",
       "    }\n",
       "\n",
       "    .dataframe tbody tr th {\n",
       "        vertical-align: top;\n",
       "    }\n",
       "\n",
       "    .dataframe thead th {\n",
       "        text-align: right;\n",
       "    }\n",
       "</style>\n",
       "<table border=\"1\" class=\"dataframe\">\n",
       "  <thead>\n",
       "    <tr style=\"text-align: right;\">\n",
       "      <th></th>\n",
       "      <th>title</th>\n",
       "      <th>label</th>\n",
       "      <th>y_pred_nb</th>\n",
       "    </tr>\n",
       "  </thead>\n",
       "  <tbody>\n",
       "    <tr>\n",
       "      <th>4</th>\n",
       "      <td>It’s weird how Sakurai is the only “employee” ...</td>\n",
       "      <td>1</td>\n",
       "      <td>0</td>\n",
       "    </tr>\n",
       "    <tr>\n",
       "      <th>34</th>\n",
       "      <td>PSA: If you're having issues with your Switch ...</td>\n",
       "      <td>1</td>\n",
       "      <td>0</td>\n",
       "    </tr>\n",
       "    <tr>\n",
       "      <th>41</th>\n",
       "      <td>WARNING DON'T Upload photos on nintendo live chat</td>\n",
       "      <td>1</td>\n",
       "      <td>0</td>\n",
       "    </tr>\n",
       "    <tr>\n",
       "      <th>53</th>\n",
       "      <td>Every Issue of Nintendo Power uploaded to arch...</td>\n",
       "      <td>1</td>\n",
       "      <td>0</td>\n",
       "    </tr>\n",
       "    <tr>\n",
       "      <th>60</th>\n",
       "      <td>Theogony of Hyrule: The Tale of the Goddess Hy...</td>\n",
       "      <td>1</td>\n",
       "      <td>0</td>\n",
       "    </tr>\n",
       "    <tr>\n",
       "      <th>...</th>\n",
       "      <td>...</td>\n",
       "      <td>...</td>\n",
       "      <td>...</td>\n",
       "    </tr>\n",
       "    <tr>\n",
       "      <th>746</th>\n",
       "      <td>Next EU Splatfest: Should the toilet roll hang...</td>\n",
       "      <td>1</td>\n",
       "      <td>0</td>\n",
       "    </tr>\n",
       "    <tr>\n",
       "      <th>747</th>\n",
       "      <td>Tis the season on the Starfall Islands. You ca...</td>\n",
       "      <td>1</td>\n",
       "      <td>0</td>\n",
       "    </tr>\n",
       "    <tr>\n",
       "      <th>749</th>\n",
       "      <td>As a kid, Nintendo helped me earn my Bear Badge.</td>\n",
       "      <td>1</td>\n",
       "      <td>0</td>\n",
       "    </tr>\n",
       "    <tr>\n",
       "      <th>766</th>\n",
       "      <td>Galar Region is based off the UK. Victorian-es...</td>\n",
       "      <td>1</td>\n",
       "      <td>0</td>\n",
       "    </tr>\n",
       "    <tr>\n",
       "      <th>769</th>\n",
       "      <td>Japan Is More Excited About Nintendo Labo Than...</td>\n",
       "      <td>1</td>\n",
       "      <td>0</td>\n",
       "    </tr>\n",
       "  </tbody>\n",
       "</table>\n",
       "<p>94 rows × 3 columns</p>\n",
       "</div>"
      ],
      "text/plain": [
       "                                                 title  label  y_pred_nb\n",
       "4    It’s weird how Sakurai is the only “employee” ...      1          0\n",
       "34   PSA: If you're having issues with your Switch ...      1          0\n",
       "41   WARNING DON'T Upload photos on nintendo live chat      1          0\n",
       "53   Every Issue of Nintendo Power uploaded to arch...      1          0\n",
       "60   Theogony of Hyrule: The Tale of the Goddess Hy...      1          0\n",
       "..                                                 ...    ...        ...\n",
       "746  Next EU Splatfest: Should the toilet roll hang...      1          0\n",
       "747  Tis the season on the Starfall Islands. You ca...      1          0\n",
       "749   As a kid, Nintendo helped me earn my Bear Badge.      1          0\n",
       "766  Galar Region is based off the UK. Victorian-es...      1          0\n",
       "769  Japan Is More Excited About Nintendo Labo Than...      1          0\n",
       "\n",
       "[94 rows x 3 columns]"
      ]
     },
     "execution_count": 18,
     "metadata": {},
     "output_type": "execute_result"
    }
   ],
   "source": [
    "df_comb = pd.concat([X_test, y_test, pd.DataFrame(y_pred_nb, columns=['y_pred_nb'])], axis=1)\n",
    "df_comb.loc[df_comb['label'] != df_comb['y_pred_nb']]"
   ]
  },
  {
   "cell_type": "code",
   "execution_count": 19,
   "id": "ddf59af0-a98c-4ec1-98e0-35cd25823ed2",
   "metadata": {},
   "outputs": [
    {
     "name": "stdout",
     "output_type": "stream",
     "text": [
      "The accuracy of this inference is: 0.8860435339308579\n",
      "The precision of this inference is: 0.9078947368421053\n",
      "The specificty of this inference is: 0.9083769633507853\n",
      "The recall of this inference is: 0.8646616541353384\n",
      "The f1 score for this inference is: 0.8857509627727858\n"
     ]
    },
    {
     "data": {
      "image/png": "[encoded data removed]",
      "text/plain": [
       "<Figure size 640x480 with 2 Axes>"
      ]
     },
     "metadata": {},
     "output_type": "display_data"
    }
   ],
   "source": [
    "# compare it with my prelim model without the removal of key words\n",
    "prelim_nb_model = joblib.load('../model/prelim_model.joblib')\n",
    "y_pred_prelim_nb = prelim_nb_model.predict(X_test)\n",
    "print_confusion_matrix(y_test, y_pred_prelim_nb)\n",
    "metrics_for_model(y_test, y_pred_prelim_nb);"
   ]
  },
  {
   "cell_type": "code",
   "execution_count": 20,
   "id": "1ed38b65-5b6b-4463-8511-d4ce4c50a74f",
   "metadata": {},
   "outputs": [
    {
     "data": {
      "text/html": [
       "<div>\n",
       "<style scoped>\n",
       "    .dataframe tbody tr th:only-of-type {\n",
       "        vertical-align: middle;\n",
       "    }\n",
       "\n",
       "    .dataframe tbody tr th {\n",
       "        vertical-align: top;\n",
       "    }\n",
       "\n",
       "    .dataframe thead th {\n",
       "        text-align: right;\n",
       "    }\n",
       "</style>\n",
       "<table border=\"1\" class=\"dataframe\">\n",
       "  <thead>\n",
       "    <tr style=\"text-align: right;\">\n",
       "      <th></th>\n",
       "      <th>title</th>\n",
       "      <th>label</th>\n",
       "      <th>y_pred_nb</th>\n",
       "      <th>y_prelim_nb</th>\n",
       "    </tr>\n",
       "  </thead>\n",
       "  <tbody>\n",
       "    <tr>\n",
       "      <th>4</th>\n",
       "      <td>It’s weird how Sakurai is the only “employee” ...</td>\n",
       "      <td>1</td>\n",
       "      <td>0</td>\n",
       "      <td>0</td>\n",
       "    </tr>\n",
       "    <tr>\n",
       "      <th>7</th>\n",
       "      <td>Spider Man trailer with 90s theme</td>\n",
       "      <td>0</td>\n",
       "      <td>0</td>\n",
       "      <td>1</td>\n",
       "    </tr>\n",
       "    <tr>\n",
       "      <th>52</th>\n",
       "      <td>If Nintendo could give you one \"gift,\" as in a...</td>\n",
       "      <td>1</td>\n",
       "      <td>1</td>\n",
       "      <td>0</td>\n",
       "    </tr>\n",
       "    <tr>\n",
       "      <th>53</th>\n",
       "      <td>Every Issue of Nintendo Power uploaded to arch...</td>\n",
       "      <td>1</td>\n",
       "      <td>0</td>\n",
       "      <td>0</td>\n",
       "    </tr>\n",
       "    <tr>\n",
       "      <th>54</th>\n",
       "      <td>PSA for those looking at the legend of dragoon...</td>\n",
       "      <td>0</td>\n",
       "      <td>0</td>\n",
       "      <td>1</td>\n",
       "    </tr>\n",
       "    <tr>\n",
       "      <th>...</th>\n",
       "      <td>...</td>\n",
       "      <td>...</td>\n",
       "      <td>...</td>\n",
       "      <td>...</td>\n",
       "    </tr>\n",
       "    <tr>\n",
       "      <th>747</th>\n",
       "      <td>Tis the season on the Starfall Islands. You ca...</td>\n",
       "      <td>1</td>\n",
       "      <td>0</td>\n",
       "      <td>0</td>\n",
       "    </tr>\n",
       "    <tr>\n",
       "      <th>748</th>\n",
       "      <td>Nintendo's next console will lean towards stre...</td>\n",
       "      <td>1</td>\n",
       "      <td>1</td>\n",
       "      <td>0</td>\n",
       "    </tr>\n",
       "    <tr>\n",
       "      <th>749</th>\n",
       "      <td>As a kid, Nintendo helped me earn my Bear Badge.</td>\n",
       "      <td>1</td>\n",
       "      <td>0</td>\n",
       "      <td>0</td>\n",
       "    </tr>\n",
       "    <tr>\n",
       "      <th>762</th>\n",
       "      <td>You can't convert replays to video unless you ...</td>\n",
       "      <td>1</td>\n",
       "      <td>1</td>\n",
       "      <td>0</td>\n",
       "    </tr>\n",
       "    <tr>\n",
       "      <th>769</th>\n",
       "      <td>Japan Is More Excited About Nintendo Labo Than...</td>\n",
       "      <td>1</td>\n",
       "      <td>0</td>\n",
       "      <td>0</td>\n",
       "    </tr>\n",
       "  </tbody>\n",
       "</table>\n",
       "<p>89 rows × 4 columns</p>\n",
       "</div>"
      ],
      "text/plain": [
       "                                                 title  label  y_pred_nb  \\\n",
       "4    It’s weird how Sakurai is the only “employee” ...      1          0   \n",
       "7                    Spider Man trailer with 90s theme      0          0   \n",
       "52   If Nintendo could give you one \"gift,\" as in a...      1          1   \n",
       "53   Every Issue of Nintendo Power uploaded to arch...      1          0   \n",
       "54   PSA for those looking at the legend of dragoon...      0          0   \n",
       "..                                                 ...    ...        ...   \n",
       "747  Tis the season on the Starfall Islands. You ca...      1          0   \n",
       "748  Nintendo's next console will lean towards stre...      1          1   \n",
       "749   As a kid, Nintendo helped me earn my Bear Badge.      1          0   \n",
       "762  You can't convert replays to video unless you ...      1          1   \n",
       "769  Japan Is More Excited About Nintendo Labo Than...      1          0   \n",
       "\n",
       "     y_prelim_nb  \n",
       "4              0  \n",
       "7              1  \n",
       "52             0  \n",
       "53             0  \n",
       "54             1  \n",
       "..           ...  \n",
       "747            0  \n",
       "748            0  \n",
       "749            0  \n",
       "762            0  \n",
       "769            0  \n",
       "\n",
       "[89 rows x 4 columns]"
      ]
     },
     "execution_count": 20,
     "metadata": {},
     "output_type": "execute_result"
    }
   ],
   "source": [
    "df_comb = pd.concat([df_comb, pd.DataFrame(y_pred_prelim_nb, columns=['y_prelim_nb'])], axis=1)\n",
    "df_comb.loc[df_comb['label'] != df_comb['y_prelim_nb']]"
   ]
  },
  {
   "cell_type": "markdown",
   "id": "fc86302f-3c23-464e-9f79-a14f2bff428d",
   "metadata": {},
   "source": [
    "Unfortunately, the performance is very slightly worse than my preliminary model with key give away words removed.    \n",
    "Comparing my model in EDA notebook with removal of the stop words, this current 'final' model have a slightly lower `true positive` count, and a slightly `higher flase negative`.  \n",
    "\n",
    "---\n",
    "What this means is that my combination of stemming and lemmatization and N-grams makes no major improvement to the model.  \n",
    "If fact, they might have tightened the 'bound' the model used to determine a post title as `true positive`.  \n",
    "It is more difficult to be passsed as a title from `ninetendo` post.   \n",
    "This is very likely due to the inclusion of stemming and lemmatization.  \n",
    "Stemming is a more aggressive technique where words are truncated to their root form, whereas lemmatization is a more precise technique that considers the context of the word and reduces it to its base form.\n",
    "Combining both techniques, I am reducing the size of the vocabulary, and hoping it will increase the accuracy of the model.   \n",
    "However, in this case it did not achieve what I hope it can achieve.  \n",
    "This could be due to stemming removing too much of a word.  \n",
    "Let me do an experiment to confirm a few things:\n",
    "1. it is becasue of stemming and lemmatization.\n",
    "2. it is mainly due to stemming. \n",
    "3. TFIDF using N-grams does not impact this use case much."
   ]
  },
  {
   "cell_type": "code",
   "execution_count": 21,
   "id": "626c0cc9-910f-44b5-90ff-534f0b4af9b9",
   "metadata": {},
   "outputs": [],
   "source": [
    "# Build a pipeline without the stemming and lemmatization.\n",
    "final_nb_pipeline_2 = Pipeline([\n",
    "    # ('stem_lemmatize', StemLemmatizeTransformer()),\n",
    "    ('tfidf', TfidfVectorizer(min_df=5, ngram_range=(1,3), stop_words=my_stop_words)),\n",
    "    ('clf', MultinomialNB()),\n",
    "])"
   ]
  },
  {
   "cell_type": "code",
   "execution_count": 22,
   "id": "f62f31d1-5c09-4913-8c33-be7210e4ac19",
   "metadata": {},
   "outputs": [
    {
     "name": "stdout",
     "output_type": "stream",
     "text": [
      "The accuracy of this inference is: 0.8886043533930857\n",
      "The precision of this inference is: 0.9216216216216216\n",
      "The specificty of this inference is: 0.9240837696335078\n",
      "The recall of this inference is: 0.8546365914786967\n",
      "The f1 score for this inference is: 0.8868660598179453\n"
     ]
    },
    {
     "data": {
      "image/png": "[encoded data removed]",
      "text/plain": [
       "<Figure size 640x480 with 2 Axes>"
      ]
     },
     "metadata": {},
     "output_type": "display_data"
    }
   ],
   "source": [
    "final_nb_pipeline_2.fit(X_train, y_train)\n",
    "y_pred_nb_2 = final_nb_pipeline_2.predict(X_test)\n",
    "print_confusion_matrix(y_test, y_pred_nb_2)\n",
    "metrics_for_model(y_test, y_pred_nb_2);"
   ]
  },
  {
   "cell_type": "markdown",
   "id": "b9322b3f-7885-4f77-abe2-d46e4453a891",
   "metadata": {},
   "source": [
    "Yes! As I have hypothesised, the stemming and lemmatization actually decreased the performance of the model.  \n",
    "How the above model is different from my EDA model is that, this model uses n-grams.  \n",
    "N-grams takes N words/ tokens in a document and use them as feature.   \n",
    "N-grams during the tokenisation process helps to retain some information on the context of the words.  \n",
    "Indeed, with n-grams the `true nrgatives` have a better performance as the `false positive` decreases.   \n",
    "However, the performance improvement is not too much. \n",
    "This also serve as a proof to my third hypothesis, inclusion of n-grams, or at least up to trigram, doesn't drastically the performance of the model in this case.   \n",
    "Also, if I decrease the minimum document frequency `min_df`, it will result in a better performance in this case.  \n",
    "However, since I still want to keep my model more generalised, I feel that a small drop in performance is reasonable.  \n",
    "Therefore, I am still keeping `min_df = 5`."
   ]
  },
  {
   "cell_type": "code",
   "execution_count": 23,
   "id": "f53c1eee-9ac6-46a3-9e0b-2557ad505659",
   "metadata": {},
   "outputs": [
    {
     "data": {
      "text/html": [
       "<div>\n",
       "<style scoped>\n",
       "    .dataframe tbody tr th:only-of-type {\n",
       "        vertical-align: middle;\n",
       "    }\n",
       "\n",
       "    .dataframe tbody tr th {\n",
       "        vertical-align: top;\n",
       "    }\n",
       "\n",
       "    .dataframe thead th {\n",
       "        text-align: right;\n",
       "    }\n",
       "</style>\n",
       "<table border=\"1\" class=\"dataframe\">\n",
       "  <thead>\n",
       "    <tr style=\"text-align: right;\">\n",
       "      <th></th>\n",
       "      <th>title</th>\n",
       "      <th>label</th>\n",
       "      <th>y_pred_nb</th>\n",
       "      <th>y_prelim_nb</th>\n",
       "      <th>y_pred_nb_2</th>\n",
       "    </tr>\n",
       "  </thead>\n",
       "  <tbody>\n",
       "    <tr>\n",
       "      <th>4</th>\n",
       "      <td>It’s weird how Sakurai is the only “employee” ...</td>\n",
       "      <td>1</td>\n",
       "      <td>0</td>\n",
       "      <td>0</td>\n",
       "      <td>0</td>\n",
       "    </tr>\n",
       "    <tr>\n",
       "      <th>53</th>\n",
       "      <td>Every Issue of Nintendo Power uploaded to arch...</td>\n",
       "      <td>1</td>\n",
       "      <td>0</td>\n",
       "      <td>0</td>\n",
       "      <td>0</td>\n",
       "    </tr>\n",
       "    <tr>\n",
       "      <th>69</th>\n",
       "      <td>You can buy a brand new sealed copy of LarryBo...</td>\n",
       "      <td>1</td>\n",
       "      <td>0</td>\n",
       "      <td>0</td>\n",
       "      <td>0</td>\n",
       "    </tr>\n",
       "    <tr>\n",
       "      <th>77</th>\n",
       "      <td>How simple texture compression can start a 20-...</td>\n",
       "      <td>1</td>\n",
       "      <td>0</td>\n",
       "      <td>0</td>\n",
       "      <td>0</td>\n",
       "    </tr>\n",
       "    <tr>\n",
       "      <th>79</th>\n",
       "      <td>Been online friends since Destiny launch in 20...</td>\n",
       "      <td>0</td>\n",
       "      <td>1</td>\n",
       "      <td>1</td>\n",
       "      <td>1</td>\n",
       "    </tr>\n",
       "    <tr>\n",
       "      <th>...</th>\n",
       "      <td>...</td>\n",
       "      <td>...</td>\n",
       "      <td>...</td>\n",
       "      <td>...</td>\n",
       "      <td>...</td>\n",
       "    </tr>\n",
       "    <tr>\n",
       "      <th>747</th>\n",
       "      <td>Tis the season on the Starfall Islands. You ca...</td>\n",
       "      <td>1</td>\n",
       "      <td>0</td>\n",
       "      <td>0</td>\n",
       "      <td>0</td>\n",
       "    </tr>\n",
       "    <tr>\n",
       "      <th>748</th>\n",
       "      <td>Nintendo's next console will lean towards stre...</td>\n",
       "      <td>1</td>\n",
       "      <td>1</td>\n",
       "      <td>0</td>\n",
       "      <td>0</td>\n",
       "    </tr>\n",
       "    <tr>\n",
       "      <th>749</th>\n",
       "      <td>As a kid, Nintendo helped me earn my Bear Badge.</td>\n",
       "      <td>1</td>\n",
       "      <td>0</td>\n",
       "      <td>0</td>\n",
       "      <td>0</td>\n",
       "    </tr>\n",
       "    <tr>\n",
       "      <th>762</th>\n",
       "      <td>You can't convert replays to video unless you ...</td>\n",
       "      <td>1</td>\n",
       "      <td>1</td>\n",
       "      <td>0</td>\n",
       "      <td>0</td>\n",
       "    </tr>\n",
       "    <tr>\n",
       "      <th>769</th>\n",
       "      <td>Japan Is More Excited About Nintendo Labo Than...</td>\n",
       "      <td>1</td>\n",
       "      <td>0</td>\n",
       "      <td>0</td>\n",
       "      <td>0</td>\n",
       "    </tr>\n",
       "  </tbody>\n",
       "</table>\n",
       "<p>87 rows × 5 columns</p>\n",
       "</div>"
      ],
      "text/plain": [
       "                                                 title  label  y_pred_nb  \\\n",
       "4    It’s weird how Sakurai is the only “employee” ...      1          0   \n",
       "53   Every Issue of Nintendo Power uploaded to arch...      1          0   \n",
       "69   You can buy a brand new sealed copy of LarryBo...      1          0   \n",
       "77   How simple texture compression can start a 20-...      1          0   \n",
       "79   Been online friends since Destiny launch in 20...      0          1   \n",
       "..                                                 ...    ...        ...   \n",
       "747  Tis the season on the Starfall Islands. You ca...      1          0   \n",
       "748  Nintendo's next console will lean towards stre...      1          1   \n",
       "749   As a kid, Nintendo helped me earn my Bear Badge.      1          0   \n",
       "762  You can't convert replays to video unless you ...      1          1   \n",
       "769  Japan Is More Excited About Nintendo Labo Than...      1          0   \n",
       "\n",
       "     y_prelim_nb  y_pred_nb_2  \n",
       "4              0            0  \n",
       "53             0            0  \n",
       "69             0            0  \n",
       "77             0            0  \n",
       "79             1            1  \n",
       "..           ...          ...  \n",
       "747            0            0  \n",
       "748            0            0  \n",
       "749            0            0  \n",
       "762            0            0  \n",
       "769            0            0  \n",
       "\n",
       "[87 rows x 5 columns]"
      ]
     },
     "execution_count": 23,
     "metadata": {},
     "output_type": "execute_result"
    }
   ],
   "source": [
    "df_comb = pd.concat([df_comb, pd.DataFrame(y_pred_nb_2, columns=['y_pred_nb_2'])], axis=1)\n",
    "df_comb.loc[df_comb['label'] != df_comb['y_pred_nb_2']]"
   ]
  },
  {
   "cell_type": "markdown",
   "id": "1dbd72e8-8397-4054-9f65-26573b2a8f3a",
   "metadata": {},
   "source": [
    "Just by looking at the results of what went wrong, some very consistent mistakes can be found here.  \n",
    "Like theese lines:   \n",
    "`It’s weird how Sakurai is the only “employee” ...`,   \n",
    "`Adding a search by publisher/maker`,   \n",
    "`Do you think the Xenoblade Chronicles games wo...`\n",
    "These are the sentences that may not be covered by the traning set.  \n",
    "I can try to keep updating my dataset.  \n"
   ]
  },
  {
   "cell_type": "markdown",
   "id": "c0cd0c4d-1286-4a54-906c-083b91b5640a",
   "metadata": {},
   "source": [
    "---\n",
    "Now, time to check my 2nd hypothesis.   \n",
    "Check is the problem due to stemming or lemmatization.  \n",
    "That process is a bit mundane (edititng the 3 parts that forms my StemLemmatizeTransformer class) and I shall skip the process here.   \n",
    "Let me just get stright to the results.  \n",
    "I have tried 4 things in total for this part.  \n",
    "1. No breaking down weblink.\n",
    "2. No stemming.\n",
    "3. No lemmatization.\n",
    "4. No stemming and lemmatization.  \n",
    "Here are the results.   \n",
    "\n",
    "### No breaking web links\n",
    "<img src='../img/remove_link_stripe.png' width=\"400\" height=\"400\"></img>\n",
    "### No stemming\n",
    "<img src='../img/no_stem.png' width=\"400\" height=\"400\"></img>\n",
    "### No lemmatization\n",
    "<img src='../img/no_lemma.png' width=\"400\" height=\"400\"></img>\n",
    "### No stemming & lemmatization\n",
    "<img src='../img/no_stem_n_lemma.png' width=\"400\" height=\"400\"></img>"
   ]
  },
  {
   "cell_type": "markdown",
   "id": "dd94c6ac-7395-4ff5-ac5b-ea1d057d1408",
   "metadata": {},
   "source": [
    "Now, it should be obvious that both stemming and lemmatizition helpped to generalise the model...  \n",
    "At the cost of a few `True Negatives`.  \n",
    "Breaking the weblink or not, doesn't really matter.  \n",
    "This could be because I dont have weblink in my test data?  \n",
    "Anyways, via the experiments I have done, it doesn't really matter.  \n",
    "Therefore, the final Multinominal Naive Bayes model/ pipeline I will use is my `final_nb_pipeline_2`.  \n",
    "By having minmum document frequency of 5, and using n-grams from 1 to 3, I am able to achieve a relatively light weight, yet accurate model with good performance.  \n",
    "\n",
    "---\n",
    "Since my goal is to accurately predict the origin of my post title, the selected pipeline, offering a f1-score of 0.8868, is suitable for this job.  "
   ]
  },
  {
   "cell_type": "markdown",
   "id": "4963e28e-2fb0-4317-bee3-bbb21235c9a5",
   "metadata": {},
   "source": [
    "## Ensemble Methods"
   ]
  },
  {
   "cell_type": "markdown",
   "id": "8549f18b-5b45-4a8f-804f-a38ecd705201",
   "metadata": {},
   "source": [
    "Ensemble methods are ML techniques that helps to improve accuracy by combining multiple models, instead of just using a single model.  \n",
    "The three most common methods under ensemble are:  \n",
    "1. Bagging (Bootstrap aggregating)\n",
    "2. Boosting (Converting multiple weak learners into a single strong learning model)\n",
    "3. Stacking (Combining different models to best answer the question)  \n",
    "\n",
    "Bagging is random sampling with replacement from the available training data and make an estimator with each bootstrapped dataset, same model trained on the same dataset.  \n",
    "Boosting is making a series of weak learners that learns to avoid the mistake made by the previous one, or sequence of models that correct the predictions of prior models.\n",
    "Stacking is having a model that combines 2 or more models that each have thier individual strengths, different level 0 models trained on same dataset combined by a level 1 model.   \n",
    "\n",
    "I will explore:\n",
    "1. [RF](#RF)\n",
    "2. [XGB](#XGB)\n",
    "\n",
    "Stacking will not be explored here."
   ]
  },
  {
   "cell_type": "markdown",
   "id": "9fc19530-2a2e-4055-8796-821c28998ee6",
   "metadata": {},
   "source": [
    "### RF"
   ]
  },
  {
   "cell_type": "markdown",
   "id": "46b23a34-8f47-4f96-b435-39a5aa89c63b",
   "metadata": {},
   "source": [
    "Random Forest is a famous bagging method!  \n",
    "In this notebook, I will try to use the Random Forest Classifier.  "
   ]
  },
  {
   "cell_type": "code",
   "execution_count": 37,
   "id": "d0de4b27-711a-419c-b5e8-58867fa765df",
   "metadata": {},
   "outputs": [],
   "source": [
    "RF_pipeline = Pipeline([\n",
    "    ('tfidf', TfidfVectorizer(min_df=5, ngram_range=(1,3), stop_words=my_stop_words)),\n",
    "    # ('cvec', CountVectorizer(min_df=5, ngram_range=(1,3), stop_words=my_stop_words)),\n",
    "    ('RF', RandomForestClassifier(\n",
    "        n_estimators=500, \n",
    "        max_depth=250, \n",
    "        min_samples_split=2, \n",
    "        min_samples_leaf=1,\n",
    "    )),\n",
    "])"
   ]
  },
  {
   "cell_type": "code",
   "execution_count": 38,
   "id": "4f489e1e-d6ad-448b-b56c-d411548dcf94",
   "metadata": {},
   "outputs": [
    {
     "data": {
      "text/html": [
       "<style>#sk-container-id-5 {color: black;background-color: white;}#sk-container-id-5 pre{padding: 0;}#sk-container-id-5 div.sk-toggleable {background-color: white;}#sk-container-id-5 label.sk-toggleable__label {cursor: pointer;display: block;width: 100%;margin-bottom: 0;padding: 0.3em;box-sizing: border-box;text-align: center;}#sk-container-id-5 label.sk-toggleable__label-arrow:before {content: \"▸\";float: left;margin-right: 0.25em;color: #696969;}#sk-container-id-5 label.sk-toggleable__label-arrow:hover:before {color: black;}#sk-container-id-5 div.sk-estimator:hover label.sk-toggleable__label-arrow:before {color: black;}#sk-container-id-5 div.sk-toggleable__content {max-height: 0;max-width: 0;overflow: hidden;text-align: left;background-color: #f0f8ff;}#sk-container-id-5 div.sk-toggleable__content pre {margin: 0.2em;color: black;border-radius: 0.25em;background-color: #f0f8ff;}#sk-container-id-5 input.sk-toggleable__control:checked~div.sk-toggleable__content {max-height: 200px;max-width: 100%;overflow: auto;}#sk-container-id-5 input.sk-toggleable__control:checked~label.sk-toggleable__label-arrow:before {content: \"▾\";}#sk-container-id-5 div.sk-estimator input.sk-toggleable__control:checked~label.sk-toggleable__label {background-color: #d4ebff;}#sk-container-id-5 div.sk-label input.sk-toggleable__control:checked~label.sk-toggleable__label {background-color: #d4ebff;}#sk-container-id-5 input.sk-hidden--visually {border: 0;clip: rect(1px 1px 1px 1px);clip: rect(1px, 1px, 1px, 1px);height: 1px;margin: -1px;overflow: hidden;padding: 0;position: absolute;width: 1px;}#sk-container-id-5 div.sk-estimator {font-family: monospace;background-color: #f0f8ff;border: 1px dotted black;border-radius: 0.25em;box-sizing: border-box;margin-bottom: 0.5em;}#sk-container-id-5 div.sk-estimator:hover {background-color: #d4ebff;}#sk-container-id-5 div.sk-parallel-item::after {content: \"\";width: 100%;border-bottom: 1px solid gray;flex-grow: 1;}#sk-container-id-5 div.sk-label:hover label.sk-toggleable__label {background-color: #d4ebff;}#sk-container-id-5 div.sk-serial::before {content: \"\";position: absolute;border-left: 1px solid gray;box-sizing: border-box;top: 0;bottom: 0;left: 50%;z-index: 0;}#sk-container-id-5 div.sk-serial {display: flex;flex-direction: column;align-items: center;background-color: white;padding-right: 0.2em;padding-left: 0.2em;position: relative;}#sk-container-id-5 div.sk-item {position: relative;z-index: 1;}#sk-container-id-5 div.sk-parallel {display: flex;align-items: stretch;justify-content: center;background-color: white;position: relative;}#sk-container-id-5 div.sk-item::before, #sk-container-id-5 div.sk-parallel-item::before {content: \"\";position: absolute;border-left: 1px solid gray;box-sizing: border-box;top: 0;bottom: 0;left: 50%;z-index: -1;}#sk-container-id-5 div.sk-parallel-item {display: flex;flex-direction: column;z-index: 1;position: relative;background-color: white;}#sk-container-id-5 div.sk-parallel-item:first-child::after {align-self: flex-end;width: 50%;}#sk-container-id-5 div.sk-parallel-item:last-child::after {align-self: flex-start;width: 50%;}#sk-container-id-5 div.sk-parallel-item:only-child::after {width: 0;}#sk-container-id-5 div.sk-dashed-wrapped {border: 1px dashed gray;margin: 0 0.4em 0.5em 0.4em;box-sizing: border-box;padding-bottom: 0.4em;background-color: white;}#sk-container-id-5 div.sk-label label {font-family: monospace;font-weight: bold;display: inline-block;line-height: 1.2em;}#sk-container-id-5 div.sk-label-container {text-align: center;}#sk-container-id-5 div.sk-container {/* jupyter's `normalize.less` sets `[hidden] { display: none; }` but bootstrap.min.css set `[hidden] { display: none !important; }` so we also need the `!important` here to be able to override the default hidden behavior on the sphinx rendered scikit-learn.org. See: https://github.com/scikit-learn/scikit-learn/issues/21755 */display: inline-block !important;position: relative;}#sk-container-id-5 div.sk-text-repr-fallback {display: none;}</style><div id=\"sk-container-id-5\" class=\"sk-top-container\"><div class=\"sk-text-repr-fallback\"><pre>Pipeline(steps=[(&#x27;tfidf&#x27;,\n",
       "                 TfidfVectorizer(min_df=5, ngram_range=(1, 3),\n",
       "                                 stop_words={&#x27;a&#x27;, &#x27;about&#x27;, &#x27;above&#x27;, &#x27;across&#x27;,\n",
       "                                             &#x27;after&#x27;, &#x27;afterwards&#x27;, &#x27;again&#x27;,\n",
       "                                             &#x27;against&#x27;, &#x27;ain&#x27;, &#x27;all&#x27;, &#x27;almost&#x27;,\n",
       "                                             &#x27;alone&#x27;, &#x27;along&#x27;, &#x27;already&#x27;,\n",
       "                                             &#x27;also&#x27;, &#x27;although&#x27;, &#x27;always&#x27;, &#x27;am&#x27;,\n",
       "                                             &#x27;among&#x27;, &#x27;amongst&#x27;, &#x27;amoungst&#x27;,\n",
       "                                             &#x27;amount&#x27;, &#x27;an&#x27;, &#x27;and&#x27;, &#x27;another&#x27;,\n",
       "                                             &#x27;any&#x27;, &#x27;anyhow&#x27;, &#x27;anyone&#x27;,\n",
       "                                             &#x27;anything&#x27;, &#x27;anyway&#x27;, ...})),\n",
       "                (&#x27;RF&#x27;,\n",
       "                 RandomForestClassifier(max_depth=250, n_estimators=500))])</pre><b>In a Jupyter environment, please rerun this cell to show the HTML representation or trust the notebook. <br />On GitHub, the HTML representation is unable to render, please try loading this page with nbviewer.org.</b></div><div class=\"sk-container\" hidden><div class=\"sk-item sk-dashed-wrapped\"><div class=\"sk-label-container\"><div class=\"sk-label sk-toggleable\"><input class=\"sk-toggleable__control sk-hidden--visually\" id=\"sk-estimator-id-14\" type=\"checkbox\" ><label for=\"sk-estimator-id-14\" class=\"sk-toggleable__label sk-toggleable__label-arrow\">Pipeline</label><div class=\"sk-toggleable__content\"><pre>Pipeline(steps=[(&#x27;tfidf&#x27;,\n",
       "                 TfidfVectorizer(min_df=5, ngram_range=(1, 3),\n",
       "                                 stop_words={&#x27;a&#x27;, &#x27;about&#x27;, &#x27;above&#x27;, &#x27;across&#x27;,\n",
       "                                             &#x27;after&#x27;, &#x27;afterwards&#x27;, &#x27;again&#x27;,\n",
       "                                             &#x27;against&#x27;, &#x27;ain&#x27;, &#x27;all&#x27;, &#x27;almost&#x27;,\n",
       "                                             &#x27;alone&#x27;, &#x27;along&#x27;, &#x27;already&#x27;,\n",
       "                                             &#x27;also&#x27;, &#x27;although&#x27;, &#x27;always&#x27;, &#x27;am&#x27;,\n",
       "                                             &#x27;among&#x27;, &#x27;amongst&#x27;, &#x27;amoungst&#x27;,\n",
       "                                             &#x27;amount&#x27;, &#x27;an&#x27;, &#x27;and&#x27;, &#x27;another&#x27;,\n",
       "                                             &#x27;any&#x27;, &#x27;anyhow&#x27;, &#x27;anyone&#x27;,\n",
       "                                             &#x27;anything&#x27;, &#x27;anyway&#x27;, ...})),\n",
       "                (&#x27;RF&#x27;,\n",
       "                 RandomForestClassifier(max_depth=250, n_estimators=500))])</pre></div></div></div><div class=\"sk-serial\"><div class=\"sk-item\"><div class=\"sk-estimator sk-toggleable\"><input class=\"sk-toggleable__control sk-hidden--visually\" id=\"sk-estimator-id-15\" type=\"checkbox\" ><label for=\"sk-estimator-id-15\" class=\"sk-toggleable__label sk-toggleable__label-arrow\">TfidfVectorizer</label><div class=\"sk-toggleable__content\"><pre>TfidfVectorizer(min_df=5, ngram_range=(1, 3),\n",
       "                stop_words={&#x27;a&#x27;, &#x27;about&#x27;, &#x27;above&#x27;, &#x27;across&#x27;, &#x27;after&#x27;,\n",
       "                            &#x27;afterwards&#x27;, &#x27;again&#x27;, &#x27;against&#x27;, &#x27;ain&#x27;, &#x27;all&#x27;,\n",
       "                            &#x27;almost&#x27;, &#x27;alone&#x27;, &#x27;along&#x27;, &#x27;already&#x27;, &#x27;also&#x27;,\n",
       "                            &#x27;although&#x27;, &#x27;always&#x27;, &#x27;am&#x27;, &#x27;among&#x27;, &#x27;amongst&#x27;,\n",
       "                            &#x27;amoungst&#x27;, &#x27;amount&#x27;, &#x27;an&#x27;, &#x27;and&#x27;, &#x27;another&#x27;, &#x27;any&#x27;,\n",
       "                            &#x27;anyhow&#x27;, &#x27;anyone&#x27;, &#x27;anything&#x27;, &#x27;anyway&#x27;, ...})</pre></div></div></div><div class=\"sk-item\"><div class=\"sk-estimator sk-toggleable\"><input class=\"sk-toggleable__control sk-hidden--visually\" id=\"sk-estimator-id-16\" type=\"checkbox\" ><label for=\"sk-estimator-id-16\" class=\"sk-toggleable__label sk-toggleable__label-arrow\">RandomForestClassifier</label><div class=\"sk-toggleable__content\"><pre>RandomForestClassifier(max_depth=250, n_estimators=500)</pre></div></div></div></div></div></div></div>"
      ],
      "text/plain": [
       "Pipeline(steps=[('tfidf',\n",
       "                 TfidfVectorizer(min_df=5, ngram_range=(1, 3),\n",
       "                                 stop_words={'a', 'about', 'above', 'across',\n",
       "                                             'after', 'afterwards', 'again',\n",
       "                                             'against', 'ain', 'all', 'almost',\n",
       "                                             'alone', 'along', 'already',\n",
       "                                             'also', 'although', 'always', 'am',\n",
       "                                             'among', 'amongst', 'amoungst',\n",
       "                                             'amount', 'an', 'and', 'another',\n",
       "                                             'any', 'anyhow', 'anyone',\n",
       "                                             'anything', 'anyway', ...})),\n",
       "                ('RF',\n",
       "                 RandomForestClassifier(max_depth=250, n_estimators=500))])"
      ]
     },
     "execution_count": 38,
     "metadata": {},
     "output_type": "execute_result"
    }
   ],
   "source": [
    "RF_pipeline.fit(X_train, y_train)"
   ]
  },
  {
   "cell_type": "code",
   "execution_count": 39,
   "id": "c7d088a8-00e6-41a8-beeb-908d9b281d8c",
   "metadata": {},
   "outputs": [
    {
     "name": "stdout",
     "output_type": "stream",
     "text": [
      "The accuracy of this inference is: 0.882202304737516\n",
      "The precision of this inference is: 0.9137466307277629\n",
      "The specificty of this inference is: 0.9162303664921466\n",
      "The recall of this inference is: 0.849624060150376\n",
      "The f1 score for this inference is: 0.8805194805194806\n"
     ]
    },
    {
     "data": {
      "image/png": "[encoded data removed]",
      "text/plain": [
       "<Figure size 640x480 with 2 Axes>"
      ]
     },
     "metadata": {},
     "output_type": "display_data"
    }
   ],
   "source": [
    "y_pred_RF = RF_pipeline.predict(X_test)\n",
    "print_confusion_matrix(y_test, y_pred_RF)\n",
    "metrics_for_model(y_test, y_pred_RF);"
   ]
  },
  {
   "cell_type": "code",
   "execution_count": 27,
   "id": "60569a49-c3e0-4918-ad29-7a80ff9a23b9",
   "metadata": {},
   "outputs": [
    {
     "data": {
      "text/html": [
       "<div>\n",
       "<style scoped>\n",
       "    .dataframe tbody tr th:only-of-type {\n",
       "        vertical-align: middle;\n",
       "    }\n",
       "\n",
       "    .dataframe tbody tr th {\n",
       "        vertical-align: top;\n",
       "    }\n",
       "\n",
       "    .dataframe thead th {\n",
       "        text-align: right;\n",
       "    }\n",
       "</style>\n",
       "<table border=\"1\" class=\"dataframe\">\n",
       "  <thead>\n",
       "    <tr style=\"text-align: right;\">\n",
       "      <th></th>\n",
       "      <th>title</th>\n",
       "      <th>label</th>\n",
       "      <th>y_pred_nb</th>\n",
       "      <th>y_prelim_nb</th>\n",
       "      <th>y_pred_nb_2</th>\n",
       "      <th>y_pred_RF</th>\n",
       "    </tr>\n",
       "  </thead>\n",
       "  <tbody>\n",
       "    <tr>\n",
       "      <th>7</th>\n",
       "      <td>Spider Man trailer with 90s theme</td>\n",
       "      <td>0</td>\n",
       "      <td>0</td>\n",
       "      <td>1</td>\n",
       "      <td>0</td>\n",
       "      <td>1</td>\n",
       "    </tr>\n",
       "    <tr>\n",
       "      <th>41</th>\n",
       "      <td>WARNING DON'T Upload photos on nintendo live chat</td>\n",
       "      <td>1</td>\n",
       "      <td>0</td>\n",
       "      <td>1</td>\n",
       "      <td>1</td>\n",
       "      <td>0</td>\n",
       "    </tr>\n",
       "    <tr>\n",
       "      <th>54</th>\n",
       "      <td>PSA for those looking at the legend of dragoon...</td>\n",
       "      <td>0</td>\n",
       "      <td>0</td>\n",
       "      <td>1</td>\n",
       "      <td>0</td>\n",
       "      <td>1</td>\n",
       "    </tr>\n",
       "    <tr>\n",
       "      <th>77</th>\n",
       "      <td>How simple texture compression can start a 20-...</td>\n",
       "      <td>1</td>\n",
       "      <td>0</td>\n",
       "      <td>0</td>\n",
       "      <td>0</td>\n",
       "      <td>0</td>\n",
       "    </tr>\n",
       "    <tr>\n",
       "      <th>79</th>\n",
       "      <td>Been online friends since Destiny launch in 20...</td>\n",
       "      <td>0</td>\n",
       "      <td>1</td>\n",
       "      <td>1</td>\n",
       "      <td>1</td>\n",
       "      <td>1</td>\n",
       "    </tr>\n",
       "    <tr>\n",
       "      <th>...</th>\n",
       "      <td>...</td>\n",
       "      <td>...</td>\n",
       "      <td>...</td>\n",
       "      <td>...</td>\n",
       "      <td>...</td>\n",
       "      <td>...</td>\n",
       "    </tr>\n",
       "    <tr>\n",
       "      <th>747</th>\n",
       "      <td>Tis the season on the Starfall Islands. You ca...</td>\n",
       "      <td>1</td>\n",
       "      <td>0</td>\n",
       "      <td>0</td>\n",
       "      <td>0</td>\n",
       "      <td>0</td>\n",
       "    </tr>\n",
       "    <tr>\n",
       "      <th>748</th>\n",
       "      <td>Nintendo's next console will lean towards stre...</td>\n",
       "      <td>1</td>\n",
       "      <td>1</td>\n",
       "      <td>0</td>\n",
       "      <td>0</td>\n",
       "      <td>0</td>\n",
       "    </tr>\n",
       "    <tr>\n",
       "      <th>749</th>\n",
       "      <td>As a kid, Nintendo helped me earn my Bear Badge.</td>\n",
       "      <td>1</td>\n",
       "      <td>0</td>\n",
       "      <td>0</td>\n",
       "      <td>0</td>\n",
       "      <td>0</td>\n",
       "    </tr>\n",
       "    <tr>\n",
       "      <th>766</th>\n",
       "      <td>Galar Region is based off the UK. Victorian-es...</td>\n",
       "      <td>1</td>\n",
       "      <td>0</td>\n",
       "      <td>1</td>\n",
       "      <td>1</td>\n",
       "      <td>0</td>\n",
       "    </tr>\n",
       "    <tr>\n",
       "      <th>769</th>\n",
       "      <td>Japan Is More Excited About Nintendo Labo Than...</td>\n",
       "      <td>1</td>\n",
       "      <td>0</td>\n",
       "      <td>0</td>\n",
       "      <td>0</td>\n",
       "      <td>0</td>\n",
       "    </tr>\n",
       "  </tbody>\n",
       "</table>\n",
       "<p>88 rows × 6 columns</p>\n",
       "</div>"
      ],
      "text/plain": [
       "                                                 title  label  y_pred_nb  \\\n",
       "7                    Spider Man trailer with 90s theme      0          0   \n",
       "41   WARNING DON'T Upload photos on nintendo live chat      1          0   \n",
       "54   PSA for those looking at the legend of dragoon...      0          0   \n",
       "77   How simple texture compression can start a 20-...      1          0   \n",
       "79   Been online friends since Destiny launch in 20...      0          1   \n",
       "..                                                 ...    ...        ...   \n",
       "747  Tis the season on the Starfall Islands. You ca...      1          0   \n",
       "748  Nintendo's next console will lean towards stre...      1          1   \n",
       "749   As a kid, Nintendo helped me earn my Bear Badge.      1          0   \n",
       "766  Galar Region is based off the UK. Victorian-es...      1          0   \n",
       "769  Japan Is More Excited About Nintendo Labo Than...      1          0   \n",
       "\n",
       "     y_prelim_nb  y_pred_nb_2  y_pred_RF  \n",
       "7              1            0          1  \n",
       "41             1            1          0  \n",
       "54             1            0          1  \n",
       "77             0            0          0  \n",
       "79             1            1          1  \n",
       "..           ...          ...        ...  \n",
       "747            0            0          0  \n",
       "748            0            0          0  \n",
       "749            0            0          0  \n",
       "766            1            1          0  \n",
       "769            0            0          0  \n",
       "\n",
       "[88 rows x 6 columns]"
      ]
     },
     "execution_count": 27,
     "metadata": {},
     "output_type": "execute_result"
    }
   ],
   "source": [
    "df_comb = pd.concat([df_comb, pd.DataFrame(y_pred_RF, columns=['y_pred_RF'])], axis=1)\n",
    "df_comb.loc[df_comb['label'] != df_comb['y_pred_RF']]"
   ]
  },
  {
   "cell_type": "markdown",
   "id": "adfaf603-40e0-4c72-9de6-1bc84236c72e",
   "metadata": {},
   "source": [
    "Machine learning is not magic.   \n",
    "It is math and statistics, based on data.  \n",
    "Some problem that can't be solved using simpler models, can't be solved by RF as well.  \n",
    "For example:   \n",
    "line 77: `How simple texture compression can start a 20-...`  \n",
    "line 79: `Been online friends since Destiny launch in 20...`  \n",
    "line 747: `Tis the season on the Starfall Islands. You ca...`  \n",
    "line 769: `Japan Is More Excited About Nintendo Labo Than...`  \n",
    "Some of thses problems can be solved by allowing `nintendo` and `playstation` in the document.  \n",
    "Also, lowering the minimum document frequency always helps.  "
   ]
  },
  {
   "cell_type": "code",
   "execution_count": 40,
   "id": "f6fb0b28-1f4d-4058-b54d-a69146dedaa0",
   "metadata": {},
   "outputs": [],
   "source": [
    "RF_params = {'n_estimators':[100, 200, 300, 400, 500], \n",
    "             'max_depth':[100, 150, 200, 250], \n",
    "             'min_samples_split':[6, 4 ,2], \n",
    "             'min_samples_leaf':[3,2,1],\n",
    "            }"
   ]
  },
  {
   "cell_type": "code",
   "execution_count": 44,
   "id": "c2963e90-b0c1-4020-ba82-c5733469c341",
   "metadata": {},
   "outputs": [],
   "source": [
    "grid_search = GridSearchCV(RandomForestClassifier(),\n",
    "                           param_grid=RF_params,\n",
    "                           cv=5,\n",
    "                           )\n",
    "\n",
    "rf_grid_search_CV = Pipeline(\n",
    "    steps=[('tfidf', TfidfVectorizer(min_df=5, ngram_range=(1,3), stop_words=my_stop_words)), \n",
    "           (\"RF Grid Search\", grid_search)]\n",
    ") "
   ]
  },
  {
   "cell_type": "markdown",
   "id": "75ccbe52-4078-462b-9c31-0945b131d17f",
   "metadata": {},
   "source": [
    "In this case, the X_train is further split into 5 sets and used to train and fit the model.  \n",
    "The line below examines a total of 900 fits.  \n",
    "It can take a long time."
   ]
  },
  {
   "cell_type": "code",
   "execution_count": 45,
   "id": "2e65ad05-4196-40d9-bd9f-030c224a3c98",
   "metadata": {},
   "outputs": [
    {
     "data": {
      "text/html": [
       "<style>#sk-container-id-6 {color: black;background-color: white;}#sk-container-id-6 pre{padding: 0;}#sk-container-id-6 div.sk-toggleable {background-color: white;}#sk-container-id-6 label.sk-toggleable__label {cursor: pointer;display: block;width: 100%;margin-bottom: 0;padding: 0.3em;box-sizing: border-box;text-align: center;}#sk-container-id-6 label.sk-toggleable__label-arrow:before {content: \"▸\";float: left;margin-right: 0.25em;color: #696969;}#sk-container-id-6 label.sk-toggleable__label-arrow:hover:before {color: black;}#sk-container-id-6 div.sk-estimator:hover label.sk-toggleable__label-arrow:before {color: black;}#sk-container-id-6 div.sk-toggleable__content {max-height: 0;max-width: 0;overflow: hidden;text-align: left;background-color: #f0f8ff;}#sk-container-id-6 div.sk-toggleable__content pre {margin: 0.2em;color: black;border-radius: 0.25em;background-color: #f0f8ff;}#sk-container-id-6 input.sk-toggleable__control:checked~div.sk-toggleable__content {max-height: 200px;max-width: 100%;overflow: auto;}#sk-container-id-6 input.sk-toggleable__control:checked~label.sk-toggleable__label-arrow:before {content: \"▾\";}#sk-container-id-6 div.sk-estimator input.sk-toggleable__control:checked~label.sk-toggleable__label {background-color: #d4ebff;}#sk-container-id-6 div.sk-label input.sk-toggleable__control:checked~label.sk-toggleable__label {background-color: #d4ebff;}#sk-container-id-6 input.sk-hidden--visually {border: 0;clip: rect(1px 1px 1px 1px);clip: rect(1px, 1px, 1px, 1px);height: 1px;margin: -1px;overflow: hidden;padding: 0;position: absolute;width: 1px;}#sk-container-id-6 div.sk-estimator {font-family: monospace;background-color: #f0f8ff;border: 1px dotted black;border-radius: 0.25em;box-sizing: border-box;margin-bottom: 0.5em;}#sk-container-id-6 div.sk-estimator:hover {background-color: #d4ebff;}#sk-container-id-6 div.sk-parallel-item::after {content: \"\";width: 100%;border-bottom: 1px solid gray;flex-grow: 1;}#sk-container-id-6 div.sk-label:hover label.sk-toggleable__label {background-color: #d4ebff;}#sk-container-id-6 div.sk-serial::before {content: \"\";position: absolute;border-left: 1px solid gray;box-sizing: border-box;top: 0;bottom: 0;left: 50%;z-index: 0;}#sk-container-id-6 div.sk-serial {display: flex;flex-direction: column;align-items: center;background-color: white;padding-right: 0.2em;padding-left: 0.2em;position: relative;}#sk-container-id-6 div.sk-item {position: relative;z-index: 1;}#sk-container-id-6 div.sk-parallel {display: flex;align-items: stretch;justify-content: center;background-color: white;position: relative;}#sk-container-id-6 div.sk-item::before, #sk-container-id-6 div.sk-parallel-item::before {content: \"\";position: absolute;border-left: 1px solid gray;box-sizing: border-box;top: 0;bottom: 0;left: 50%;z-index: -1;}#sk-container-id-6 div.sk-parallel-item {display: flex;flex-direction: column;z-index: 1;position: relative;background-color: white;}#sk-container-id-6 div.sk-parallel-item:first-child::after {align-self: flex-end;width: 50%;}#sk-container-id-6 div.sk-parallel-item:last-child::after {align-self: flex-start;width: 50%;}#sk-container-id-6 div.sk-parallel-item:only-child::after {width: 0;}#sk-container-id-6 div.sk-dashed-wrapped {border: 1px dashed gray;margin: 0 0.4em 0.5em 0.4em;box-sizing: border-box;padding-bottom: 0.4em;background-color: white;}#sk-container-id-6 div.sk-label label {font-family: monospace;font-weight: bold;display: inline-block;line-height: 1.2em;}#sk-container-id-6 div.sk-label-container {text-align: center;}#sk-container-id-6 div.sk-container {/* jupyter's `normalize.less` sets `[hidden] { display: none; }` but bootstrap.min.css set `[hidden] { display: none !important; }` so we also need the `!important` here to be able to override the default hidden behavior on the sphinx rendered scikit-learn.org. See: https://github.com/scikit-learn/scikit-learn/issues/21755 */display: inline-block !important;position: relative;}#sk-container-id-6 div.sk-text-repr-fallback {display: none;}</style><div id=\"sk-container-id-6\" class=\"sk-top-container\"><div class=\"sk-text-repr-fallback\"><pre>Pipeline(steps=[(&#x27;tfidf&#x27;,\n",
       "                 TfidfVectorizer(min_df=5, ngram_range=(1, 3),\n",
       "                                 stop_words={&#x27;a&#x27;, &#x27;about&#x27;, &#x27;above&#x27;, &#x27;across&#x27;,\n",
       "                                             &#x27;after&#x27;, &#x27;afterwards&#x27;, &#x27;again&#x27;,\n",
       "                                             &#x27;against&#x27;, &#x27;ain&#x27;, &#x27;all&#x27;, &#x27;almost&#x27;,\n",
       "                                             &#x27;alone&#x27;, &#x27;along&#x27;, &#x27;already&#x27;,\n",
       "                                             &#x27;also&#x27;, &#x27;although&#x27;, &#x27;always&#x27;, &#x27;am&#x27;,\n",
       "                                             &#x27;among&#x27;, &#x27;amongst&#x27;, &#x27;amoungst&#x27;,\n",
       "                                             &#x27;amount&#x27;, &#x27;an&#x27;, &#x27;and&#x27;, &#x27;another&#x27;,\n",
       "                                             &#x27;any&#x27;, &#x27;anyhow&#x27;, &#x27;anyone&#x27;,\n",
       "                                             &#x27;anything&#x27;, &#x27;anyway&#x27;, ...})),\n",
       "                (&#x27;RF Grid Search&#x27;,\n",
       "                 GridSearchCV(cv=5, estimator=RandomForestClassifier(),\n",
       "                              param_grid={&#x27;max_depth&#x27;: [100, 150, 200, 250],\n",
       "                                          &#x27;min_samples_leaf&#x27;: [3, 2, 1],\n",
       "                                          &#x27;min_samples_split&#x27;: [6, 4, 2],\n",
       "                                          &#x27;n_estimators&#x27;: [100, 200, 300, 400,\n",
       "                                                           500]}))])</pre><b>In a Jupyter environment, please rerun this cell to show the HTML representation or trust the notebook. <br />On GitHub, the HTML representation is unable to render, please try loading this page with nbviewer.org.</b></div><div class=\"sk-container\" hidden><div class=\"sk-item sk-dashed-wrapped\"><div class=\"sk-label-container\"><div class=\"sk-label sk-toggleable\"><input class=\"sk-toggleable__control sk-hidden--visually\" id=\"sk-estimator-id-17\" type=\"checkbox\" ><label for=\"sk-estimator-id-17\" class=\"sk-toggleable__label sk-toggleable__label-arrow\">Pipeline</label><div class=\"sk-toggleable__content\"><pre>Pipeline(steps=[(&#x27;tfidf&#x27;,\n",
       "                 TfidfVectorizer(min_df=5, ngram_range=(1, 3),\n",
       "                                 stop_words={&#x27;a&#x27;, &#x27;about&#x27;, &#x27;above&#x27;, &#x27;across&#x27;,\n",
       "                                             &#x27;after&#x27;, &#x27;afterwards&#x27;, &#x27;again&#x27;,\n",
       "                                             &#x27;against&#x27;, &#x27;ain&#x27;, &#x27;all&#x27;, &#x27;almost&#x27;,\n",
       "                                             &#x27;alone&#x27;, &#x27;along&#x27;, &#x27;already&#x27;,\n",
       "                                             &#x27;also&#x27;, &#x27;although&#x27;, &#x27;always&#x27;, &#x27;am&#x27;,\n",
       "                                             &#x27;among&#x27;, &#x27;amongst&#x27;, &#x27;amoungst&#x27;,\n",
       "                                             &#x27;amount&#x27;, &#x27;an&#x27;, &#x27;and&#x27;, &#x27;another&#x27;,\n",
       "                                             &#x27;any&#x27;, &#x27;anyhow&#x27;, &#x27;anyone&#x27;,\n",
       "                                             &#x27;anything&#x27;, &#x27;anyway&#x27;, ...})),\n",
       "                (&#x27;RF Grid Search&#x27;,\n",
       "                 GridSearchCV(cv=5, estimator=RandomForestClassifier(),\n",
       "                              param_grid={&#x27;max_depth&#x27;: [100, 150, 200, 250],\n",
       "                                          &#x27;min_samples_leaf&#x27;: [3, 2, 1],\n",
       "                                          &#x27;min_samples_split&#x27;: [6, 4, 2],\n",
       "                                          &#x27;n_estimators&#x27;: [100, 200, 300, 400,\n",
       "                                                           500]}))])</pre></div></div></div><div class=\"sk-serial\"><div class=\"sk-item\"><div class=\"sk-estimator sk-toggleable\"><input class=\"sk-toggleable__control sk-hidden--visually\" id=\"sk-estimator-id-18\" type=\"checkbox\" ><label for=\"sk-estimator-id-18\" class=\"sk-toggleable__label sk-toggleable__label-arrow\">TfidfVectorizer</label><div class=\"sk-toggleable__content\"><pre>TfidfVectorizer(min_df=5, ngram_range=(1, 3),\n",
       "                stop_words={&#x27;a&#x27;, &#x27;about&#x27;, &#x27;above&#x27;, &#x27;across&#x27;, &#x27;after&#x27;,\n",
       "                            &#x27;afterwards&#x27;, &#x27;again&#x27;, &#x27;against&#x27;, &#x27;ain&#x27;, &#x27;all&#x27;,\n",
       "                            &#x27;almost&#x27;, &#x27;alone&#x27;, &#x27;along&#x27;, &#x27;already&#x27;, &#x27;also&#x27;,\n",
       "                            &#x27;although&#x27;, &#x27;always&#x27;, &#x27;am&#x27;, &#x27;among&#x27;, &#x27;amongst&#x27;,\n",
       "                            &#x27;amoungst&#x27;, &#x27;amount&#x27;, &#x27;an&#x27;, &#x27;and&#x27;, &#x27;another&#x27;, &#x27;any&#x27;,\n",
       "                            &#x27;anyhow&#x27;, &#x27;anyone&#x27;, &#x27;anything&#x27;, &#x27;anyway&#x27;, ...})</pre></div></div></div><div class=\"sk-item sk-dashed-wrapped\"><div class=\"sk-label-container\"><div class=\"sk-label sk-toggleable\"><input class=\"sk-toggleable__control sk-hidden--visually\" id=\"sk-estimator-id-19\" type=\"checkbox\" ><label for=\"sk-estimator-id-19\" class=\"sk-toggleable__label sk-toggleable__label-arrow\">RF Grid Search: GridSearchCV</label><div class=\"sk-toggleable__content\"><pre>GridSearchCV(cv=5, estimator=RandomForestClassifier(),\n",
       "             param_grid={&#x27;max_depth&#x27;: [100, 150, 200, 250],\n",
       "                         &#x27;min_samples_leaf&#x27;: [3, 2, 1],\n",
       "                         &#x27;min_samples_split&#x27;: [6, 4, 2],\n",
       "                         &#x27;n_estimators&#x27;: [100, 200, 300, 400, 500]})</pre></div></div></div><div class=\"sk-parallel\"><div class=\"sk-parallel-item\"><div class=\"sk-item\"><div class=\"sk-label-container\"><div class=\"sk-label sk-toggleable\"><input class=\"sk-toggleable__control sk-hidden--visually\" id=\"sk-estimator-id-20\" type=\"checkbox\" ><label for=\"sk-estimator-id-20\" class=\"sk-toggleable__label sk-toggleable__label-arrow\">estimator: RandomForestClassifier</label><div class=\"sk-toggleable__content\"><pre>RandomForestClassifier()</pre></div></div></div><div class=\"sk-serial\"><div class=\"sk-item\"><div class=\"sk-estimator sk-toggleable\"><input class=\"sk-toggleable__control sk-hidden--visually\" id=\"sk-estimator-id-21\" type=\"checkbox\" ><label for=\"sk-estimator-id-21\" class=\"sk-toggleable__label sk-toggleable__label-arrow\">RandomForestClassifier</label><div class=\"sk-toggleable__content\"><pre>RandomForestClassifier()</pre></div></div></div></div></div></div></div></div></div></div></div></div>"
      ],
      "text/plain": [
       "Pipeline(steps=[('tfidf',\n",
       "                 TfidfVectorizer(min_df=5, ngram_range=(1, 3),\n",
       "                                 stop_words={'a', 'about', 'above', 'across',\n",
       "                                             'after', 'afterwards', 'again',\n",
       "                                             'against', 'ain', 'all', 'almost',\n",
       "                                             'alone', 'along', 'already',\n",
       "                                             'also', 'although', 'always', 'am',\n",
       "                                             'among', 'amongst', 'amoungst',\n",
       "                                             'amount', 'an', 'and', 'another',\n",
       "                                             'any', 'anyhow', 'anyone',\n",
       "                                             'anything', 'anyway', ...})),\n",
       "                ('RF Grid Search',\n",
       "                 GridSearchCV(cv=5, estimator=RandomForestClassifier(),\n",
       "                              param_grid={'max_depth': [100, 150, 200, 250],\n",
       "                                          'min_samples_leaf': [3, 2, 1],\n",
       "                                          'min_samples_split': [6, 4, 2],\n",
       "                                          'n_estimators': [100, 200, 300, 400,\n",
       "                                                           500]}))])"
      ]
     },
     "execution_count": 45,
     "metadata": {},
     "output_type": "execute_result"
    }
   ],
   "source": [
    "rf_grid_search_CV.fit(X_train, y_train)"
   ]
  },
  {
   "cell_type": "code",
   "execution_count": 47,
   "id": "7908325d-d5df-4d3a-95cf-70ec69ca0bba",
   "metadata": {},
   "outputs": [
    {
     "name": "stdout",
     "output_type": "stream",
     "text": [
      "Best parameters:  0.8888882051282051\n"
     ]
    }
   ],
   "source": [
    "print(\"Best parameters: \", rf_grid_search_CV[1].best_score_)"
   ]
  },
  {
   "cell_type": "code",
   "execution_count": 48,
   "id": "f4938838-73b8-4145-9d36-88554e5ba896",
   "metadata": {},
   "outputs": [
    {
     "name": "stdout",
     "output_type": "stream",
     "text": [
      "Best parameters:  {'max_depth': 250, 'min_samples_leaf': 1, 'min_samples_split': 4, 'n_estimators': 300}\n"
     ]
    }
   ],
   "source": [
    "print(\"Best parameters: \", rf_grid_search_CV[1].best_params_)"
   ]
  },
  {
   "cell_type": "code",
   "execution_count": 49,
   "id": "db98af19-d542-44a2-8382-98451319a1f9",
   "metadata": {},
   "outputs": [],
   "source": [
    "# Train a model using the parameters above.\n",
    "RF_pipeline = Pipeline([\n",
    "    ('tfidf', TfidfVectorizer(min_df=5, ngram_range=(1,3), stop_words=my_stop_words)),\n",
    "    # ('cvec', CountVectorizer(min_df=5, ngram_range=(1,3), stop_words=my_stop_words)),\n",
    "    ('RF', RandomForestClassifier(\n",
    "        n_estimators=300, \n",
    "        max_depth=250, \n",
    "        min_samples_split=4, \n",
    "        min_samples_leaf=1,\n",
    "    )),\n",
    "])"
   ]
  },
  {
   "cell_type": "code",
   "execution_count": 50,
   "id": "d13a2b0a-0332-44e2-8867-8cba571d2462",
   "metadata": {},
   "outputs": [
    {
     "name": "stdout",
     "output_type": "stream",
     "text": [
      "The accuracy of this inference is: 0.8834827144686299\n",
      "The precision of this inference is: 0.9184782608695652\n",
      "The specificty of this inference is: 0.9214659685863874\n",
      "The recall of this inference is: 0.8471177944862155\n",
      "The f1 score for this inference is: 0.8813559322033897\n"
     ]
    },
    {
     "data": {
      "image/png": "[encoded data removed]",
      "text/plain": [
       "<Figure size 640x480 with 2 Axes>"
      ]
     },
     "metadata": {},
     "output_type": "display_data"
    }
   ],
   "source": [
    "RF_pipeline.fit(X_train, y_train)\n",
    "y_final_RF_pred = RF_pipeline.predict(X_test)\n",
    "print_confusion_matrix(y_test, y_final_RF_pred)\n",
    "metrics_for_model(y_test, y_final_RF_pred);"
   ]
  },
  {
   "cell_type": "code",
   "execution_count": null,
   "id": "cb4d74ad-b188-4890-831c-a12981f5eb5c",
   "metadata": {},
   "outputs": [],
   "source": []
  },
  {
   "cell_type": "code",
   "execution_count": null,
   "id": "0159621a-5052-4681-96e6-889d0efc01cd",
   "metadata": {},
   "outputs": [],
   "source": []
  },
  {
   "cell_type": "code",
   "execution_count": null,
   "id": "85d193b2-fb51-4336-a1f6-c34aa7c58f10",
   "metadata": {},
   "outputs": [],
   "source": []
  },
  {
   "cell_type": "markdown",
   "id": "efbd50e2-9c7d-4521-b7a3-b2a108027e17",
   "metadata": {},
   "source": [
    "### XGB"
   ]
  },
  {
   "cell_type": "markdown",
   "id": "1692d49f-8d68-4e4f-ab3d-7ee7330587e3",
   "metadata": {},
   "source": [
    "Extreme Gradient Boost, a state of the art boosting method!"
   ]
  },
  {
   "cell_type": "code",
   "execution_count": null,
   "id": "708abaf7-7bc9-4297-b38b-3297b0c661c4",
   "metadata": {},
   "outputs": [],
   "source": []
  },
  {
   "cell_type": "code",
   "execution_count": null,
   "id": "b0d33f73-9b84-440e-a010-a9c38c3765b9",
   "metadata": {},
   "outputs": [],
   "source": []
  },
  {
   "cell_type": "code",
   "execution_count": 6,
   "id": "c4d0c242-6625-4847-baac-35cc627a1bf2",
   "metadata": {},
   "outputs": [],
   "source": [
    "\n",
    "class StemLemmaTfidfLDA(BaseEstimator, TransformerMixin):\n",
    "    def __init__(self, stop_words='english', max_features=5000, n_components=10, max_df=0.95, min_df=2):\n",
    "        self.stemmer = SnowballStemmer('english')\n",
    "        self.lemmatizer = WordNetLemmatizer()\n",
    "        self.tfidf_vectorizer = TfidfVectorizer(stop_words=stop_words, max_features=max_features)\n",
    "        self.lda_model = LatentDirichletAllocation(n_components=n_components, max_iter=5, learning_method='online', learning_offset=50.,random_state=0)\n",
    "        self.max_df = max_df\n",
    "        self.min_df = min_df\n",
    "    \n",
    "    def stem_and_lemmatize(self, document):\n",
    "        return [self.stemmer.stem(self.lemmatizer.lemmatize(token)) for token in document.split()]\n",
    "\n",
    "    def fit(self, X, y=None):\n",
    "        X_stemmed_lemmatized = [' '.join(self.stem_and_lemmatize(document)) for document in X]\n",
    "        X_tfidf = self.tfidf_vectorizer.fit_transform(X_stemmed_lemmatized)\n",
    "        self.lda_model.fit(X_tfidf)\n",
    "        return self\n",
    "\n",
    "    def transform(self, X):\n",
    "        X_stemmed_lemmatized = [' '.join(self.stem_and_lemmatize(document)) for document in X]\n",
    "        X_tfidf = self.tfidf_vectorizer.transform(X_stemmed_lemmatized)\n",
    "        X_lda = self.lda_model.transform(X_tfidf)\n",
    "        return X_lda\n"
   ]
  },
  {
   "cell_type": "code",
   "execution_count": null,
   "id": "2ef0b74c-cca8-4679-bb2b-5df1b86248eb",
   "metadata": {},
   "outputs": [],
   "source": []
  },
  {
   "cell_type": "code",
   "execution_count": 23,
   "id": "9c8483da-1eda-4fa0-9604-870d203a1c09",
   "metadata": {},
   "outputs": [],
   "source": [
    "def metrics_for_model(y_true, y_pred):\n",
    "    '''find the relavent metrics from confusion metrics\n",
    "    arg:\n",
    "        y_true: true value for y\n",
    "        y_pred: predicted value for y\n",
    "    out:\n",
    "        pre: precison score\n",
    "        rec: recall score\n",
    "        f1: f1 socre\n",
    "    '''\n",
    "    tn, fp, fn, tp =confusion_matrix(y_true, y_pred).ravel()\n",
    "    pre = tp/(tp+fp)\n",
    "    rec = tp/(tp+fn)\n",
    "    f1 = 2*(pre*rec)/(pre+rec)\n",
    "    print(f\"The recall of this inference is: {rec}\")\n",
    "    print(f\"The precision of this inference is: {pre}\")\n",
    "    print(f\"The f1 score for this inference is: {f1}\")\n",
    "    return pre, rec, f1"
   ]
  },
  {
   "cell_type": "code",
   "execution_count": 24,
   "id": "3eb38d46-911d-483f-87a0-e1c9f1e58599",
   "metadata": {},
   "outputs": [
    {
     "name": "stdout",
     "output_type": "stream",
     "text": [
      "The recall of this inference is: 0.9525052192066806\n",
      "The precision of this inference is: 0.9769807280513919\n",
      "The f1 score for this inference is: 0.9645877378435519\n"
     ]
    }
   ],
   "source": [
    "metrics_for_model(df['label'], df['pred']);"
   ]
  },
  {
   "cell_type": "code",
   "execution_count": null,
   "id": "6fac1751-0091-40ed-abfa-04d79f76789f",
   "metadata": {},
   "outputs": [],
   "source": [
    "# dnn based idea generator that make weak links.\n",
    "# then use GAN to determine if the idea is feasible."
   ]
  },
  {
   "cell_type": "code",
   "execution_count": null,
   "id": "87abac82-6269-433f-9fb7-2b2be583a8e2",
   "metadata": {},
   "outputs": [],
   "source": [
    "import numpy as np\n",
    "import spacy\n",
    "from sklearn.base import BaseEstimator, TransformerMixin\n",
    "from sklearn.feature_extraction.text import TfidfVectorizer\n",
    "from sklearn.pipeline import Pipeline\n",
    "from gensim.models import KeyedVectors\n",
    "\n",
    "\n",
    "class StemLemmatizeTransformer(BaseEstimator, TransformerMixin):\n",
    "    def __init__(self):\n",
    "        self.nlp = spacy.load('en_core_web_sm', disable=['parser', 'ner'])\n",
    "    \n",
    "    def stem(self, word):\n",
    "        stemmer = SnowballStemmer(\"english\")\n",
    "        return stemmer.stem(word)\n",
    "\n",
    "    def lemmatize(self, doc):\n",
    "        doc = self.nlp(doc)\n",
    "        return [token.lemma_ for token in doc]\n",
    "\n",
    "    def fit(self, X, y=None):\n",
    "        return self\n",
    "\n",
    "    def transform(self, X):\n",
    "        X = X.apply(lambda x: \" \".join([self.stem(w) for w in x.split()]))\n",
    "        X = X.apply(lambda x: \" \".join(self.lemmatize(x)))\n",
    "        return X\n",
    "\n",
    "\n",
    "class WordEmbeddingsTransformer(BaseEstimator, TransformerMixin):\n",
    "    def __init__(self, embeddings_file):\n",
    "        self.embeddings_file = embeddings_file\n",
    "\n",
    "    def fit(self, X, y=None):\n",
    "        self.word_vectors = KeyedVectors.load_word2vec_format(self.embeddings_file, binary=False)\n",
    "        return self\n",
    "\n",
    "    def transform(self, X):\n",
    "        X_embedded = []\n",
    "        for sentence in X:\n",
    "            embedded_sentence = []\n",
    "            for word in sentence.split():\n",
    "                if word in self.word_vectors:\n",
    "                    embedded_sentence.append(self.word_vectors[word])\n",
    "            if len(embedded_sentence) > 0:\n",
    "                X_embedded.append(np.mean(embedded_sentence, axis=0))\n",
    "            else:\n",
    "                X_embedded.append(np.zeros(100))\n",
    "        return np.array(X_embedded)\n",
    "\n",
    "pipeline = Pipeline([\n",
    "    ('stem_lemmatize', StemLemmatizeTransformer()),\n",
    "    ('tfidf', TfidfVectorizer()),\n",
    "    ('embeddings', WordEmbeddingsTransformer(embeddings_file='/path/to/glove.6B.100d.txt'))\n",
    "])\n"
   ]
  },
  {
   "cell_type": "code",
   "execution_count": null,
   "id": "80d868a9-28d1-42c1-aaad-c259923c9f35",
   "metadata": {},
   "outputs": [],
   "source": []
  },
  {
   "cell_type": "code",
   "execution_count": null,
   "id": "b323650d-b982-4757-a403-3d3eeab0064e",
   "metadata": {},
   "outputs": [],
   "source": []
  }
 ],
 "metadata": {
  "kernelspec": {
   "display_name": "Python [conda env:dsi-sg]",
   "language": "python",
   "name": "conda-env-dsi-sg-py"
  },
  "language_info": {
   "codemirror_mode": {
    "name": "ipython",
    "version": 3
   },
   "file_extension": ".py",
   "mimetype": "text/x-python",
   "name": "python",
   "nbconvert_exporter": "python",
   "pygments_lexer": "ipython3",
   "version": "3.9.13"
  }
 },
 "nbformat": 4,
 "nbformat_minor": 5
}

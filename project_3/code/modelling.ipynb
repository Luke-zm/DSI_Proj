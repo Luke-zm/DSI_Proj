{
 "cells": [
  {
   "cell_type": "code",
   "execution_count": null,
   "id": "b5ed15c5-6f18-4494-8f0e-4b351c22be79",
   "metadata": {},
   "outputs": [],
   "source": [
    "# model\n",
    "# spaCy\n",
    "# recommender!"
   ]
  },
  {
   "cell_type": "code",
   "execution_count": null,
   "id": "6fac1751-0091-40ed-abfa-04d79f76789f",
   "metadata": {},
   "outputs": [],
   "source": [
    "# dnn based idea generator that make weak links.\n",
    "# then use GAN to determine if the idea is feasible."
   ]
  }
 ],
 "metadata": {
  "kernelspec": {
   "display_name": "Python [conda env:dsi-sg]",
   "language": "python",
   "name": "conda-env-dsi-sg-py"
  },
  "language_info": {
   "codemirror_mode": {
    "name": "ipython",
    "version": 3
   },
   "file_extension": ".py",
   "mimetype": "text/x-python",
   "name": "python",
   "nbconvert_exporter": "python",
   "pygments_lexer": "ipython3",
   "version": "3.9.13"
  }
 },
 "nbformat": 4,
 "nbformat_minor": 5
}

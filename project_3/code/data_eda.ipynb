{
 "cells": [
  {
   "cell_type": "markdown",
   "id": "d42c71a8-0121-4a4a-aa32-84006e685fb7",
   "metadata": {},
   "source": [
    "# Data EDA"
   ]
  },
  {
   "cell_type": "markdown",
   "id": "ef276cfb-d55f-4620-b47b-462197c2cc34",
   "metadata": {},
   "source": [
    "Now, imagine that I am working for reddit and now reddit want to simplify the content posting process, so I employ an automated forum control tool, for users from r/nintendo and r/playstation.  \n",
    "For example, I want to post some random thoughts, I really just want to make a quick post and I don't want to go to the individual forum.  \n",
    "All I want to do is simply post, and as if by magic, this post will appear in the correct subreddit.  \n",
    "This makes life so much simpler! \n",
    "\n",
    "Before I can enjoy this simple life, I need to first build a classifier to to the classification for me.  \n",
    "Since I have the data now, I should analyse these data.  \n",
    "\n",
    "---\n",
    "\n",
    "This notebook is for EDA and preliminary model on `r/nintendo` and `r/playstation` data collected from reddit.  \n",
    "There are about 1900 posts from each subreddit.  "
   ]
  },
  {
   "cell_type": "markdown",
   "id": "dd3348f7-3a83-4419-b9e6-ed550543e585",
   "metadata": {},
   "source": [
    "Contents:\n",
    "1. [EDA](#EDA)\n",
    "2. [Prelim model](#Prelim-model)\n",
    "3. [Further EDA](#Further-EDA)\n",
    "4. [Conclusion](#Conclusion)"
   ]
  },
  {
   "cell_type": "markdown",
   "id": "e7127b6f-a785-4809-b56f-1f841e9cb952",
   "metadata": {},
   "source": [
    "## EDA"
   ]
  },
  {
   "cell_type": "markdown",
   "id": "fe135b1e-5078-48ff-ab60-6bbe5bae1d0e",
   "metadata": {},
   "source": [
    "In this section, data cleaning, EDA etc will be performed."
   ]
  },
  {
   "cell_type": "code",
   "execution_count": 1,
   "id": "7460b886-839d-434e-b893-0f24500e6fe5",
   "metadata": {},
   "outputs": [],
   "source": [
    "import joblib\n",
    "import pickle\n",
    "import re\n",
    "import matplotlib.pyplot as plt\n",
    "import numpy as np\n",
    "import pandas as pd\n",
    "import seaborn as sns\n",
    "import scipy.stats as stats\n",
    "\n",
    "from scipy.stats import shapiro\n",
    "\n",
    "from nltk.tokenize import sent_tokenize, word_tokenize, RegexpTokenizer\n",
    "from nltk.stem import WordNetLemmatizer\n",
    "from nltk.stem.porter import PorterStemmer\n",
    "from nltk.corpus import stopwords\n",
    "\n",
    "from sklearn.feature_extraction.text import CountVectorizer, TfidfVectorizer\n",
    "from sklearn.feature_extraction import text \n",
    "from sklearn.model_selection import train_test_split, GridSearchCV, cross_val_score, cross_validate\n",
    "from sklearn.pipeline import Pipeline\n",
    "from sklearn.naive_bayes import MultinomialNB\n",
    "from sklearn.metrics import confusion_matrix, plot_confusion_matrix, accuracy_score\n",
    "\n",
    "from PIL import Image\n",
    "\n",
    "from wordcloud import WordCloud, STOPWORDS, ImageColorGenerator"
   ]
  },
  {
   "cell_type": "code",
   "execution_count": 2,
   "id": "6d42d456-095e-4baa-ba37-23bae8bae346",
   "metadata": {},
   "outputs": [
    {
     "data": {
      "text/html": [
       "<div>\n",
       "<style scoped>\n",
       "    .dataframe tbody tr th:only-of-type {\n",
       "        vertical-align: middle;\n",
       "    }\n",
       "\n",
       "    .dataframe tbody tr th {\n",
       "        vertical-align: top;\n",
       "    }\n",
       "\n",
       "    .dataframe thead th {\n",
       "        text-align: right;\n",
       "    }\n",
       "</style>\n",
       "<table border=\"1\" class=\"dataframe\">\n",
       "  <thead>\n",
       "    <tr style=\"text-align: right;\">\n",
       "      <th></th>\n",
       "      <th>id</th>\n",
       "      <th>title</th>\n",
       "      <th>post_content</th>\n",
       "      <th>user</th>\n",
       "    </tr>\n",
       "  </thead>\n",
       "  <tbody>\n",
       "    <tr>\n",
       "      <th>0</th>\n",
       "      <td>119r7rg</td>\n",
       "      <td>THROWDOWN THURSDAY: LEAKS CONFIRM LINK IS IN T...</td>\n",
       "      <td>WELCOME TO THROWDOWN THURSDAY, TURN YOUR CAPS ...</td>\n",
       "      <td>1338h4x</td>\n",
       "    </tr>\n",
       "    <tr>\n",
       "      <th>1</th>\n",
       "      <td>11c6ol7</td>\n",
       "      <td>smile sunday - happy 30th anniversary, star fox!</td>\n",
       "      <td>turn your caps lock off and rave about whateve...</td>\n",
       "      <td>tale-wind</td>\n",
       "    </tr>\n",
       "    <tr>\n",
       "      <th>2</th>\n",
       "      <td>11cai3l</td>\n",
       "      <td>Never played a Pokémon game- where do I start?</td>\n",
       "      <td>I’ve been a gamer since early Gameboy days but...</td>\n",
       "      <td>Focusboy50</td>\n",
       "    </tr>\n",
       "    <tr>\n",
       "      <th>3</th>\n",
       "      <td>11bipdi</td>\n",
       "      <td>Universal Brazil posted a video of a Mario mov...</td>\n",
       "      <td>NaN</td>\n",
       "      <td>Nas160</td>\n",
       "    </tr>\n",
       "    <tr>\n",
       "      <th>4</th>\n",
       "      <td>11bkknf</td>\n",
       "      <td>MyNintendo offering eight exclusive reversible...</td>\n",
       "      <td>NaN</td>\n",
       "      <td>blubberpuppers</td>\n",
       "    </tr>\n",
       "  </tbody>\n",
       "</table>\n",
       "</div>"
      ],
      "text/plain": [
       "        id                                              title  \\\n",
       "0  119r7rg  THROWDOWN THURSDAY: LEAKS CONFIRM LINK IS IN T...   \n",
       "1  11c6ol7   smile sunday - happy 30th anniversary, star fox!   \n",
       "2  11cai3l     Never played a Pokémon game- where do I start?   \n",
       "3  11bipdi  Universal Brazil posted a video of a Mario mov...   \n",
       "4  11bkknf  MyNintendo offering eight exclusive reversible...   \n",
       "\n",
       "                                        post_content            user  \n",
       "0  WELCOME TO THROWDOWN THURSDAY, TURN YOUR CAPS ...         1338h4x  \n",
       "1  turn your caps lock off and rave about whateve...       tale-wind  \n",
       "2  I’ve been a gamer since early Gameboy days but...      Focusboy50  \n",
       "3                                                NaN          Nas160  \n",
       "4                                                NaN  blubberpuppers  "
      ]
     },
     "metadata": {},
     "output_type": "display_data"
    },
    {
     "data": {
      "text/plain": [
       "(1916, 4)"
      ]
     },
     "metadata": {},
     "output_type": "display_data"
    }
   ],
   "source": [
    "# Load data\n",
    "ns_df = pd.read_csv('../data/nintendo_posts.csv')\n",
    "display(ns_df.head())\n",
    "display(ns_df.shape)"
   ]
  },
  {
   "cell_type": "code",
   "execution_count": 3,
   "id": "6dbf566c-9725-496f-baf1-27aa074a4c4d",
   "metadata": {},
   "outputs": [
    {
     "data": {
      "text/html": [
       "<div>\n",
       "<style scoped>\n",
       "    .dataframe tbody tr th:only-of-type {\n",
       "        vertical-align: middle;\n",
       "    }\n",
       "\n",
       "    .dataframe tbody tr th {\n",
       "        vertical-align: top;\n",
       "    }\n",
       "\n",
       "    .dataframe thead th {\n",
       "        text-align: right;\n",
       "    }\n",
       "</style>\n",
       "<table border=\"1\" class=\"dataframe\">\n",
       "  <thead>\n",
       "    <tr style=\"text-align: right;\">\n",
       "      <th></th>\n",
       "      <th>id</th>\n",
       "      <th>title</th>\n",
       "      <th>post_content</th>\n",
       "      <th>user</th>\n",
       "    </tr>\n",
       "  </thead>\n",
       "  <tbody>\n",
       "    <tr>\n",
       "      <th>0</th>\n",
       "      <td>11c5v5o</td>\n",
       "      <td>Recommendation Central</td>\n",
       "      <td>Looking for recommendations on what game to pl...</td>\n",
       "      <td>AutoModerator</td>\n",
       "    </tr>\n",
       "    <tr>\n",
       "      <th>1</th>\n",
       "      <td>11cgh82</td>\n",
       "      <td>My wife just got into a new crafting project a...</td>\n",
       "      <td>NaN</td>\n",
       "      <td>stanrandom</td>\n",
       "    </tr>\n",
       "    <tr>\n",
       "      <th>2</th>\n",
       "      <td>11bt09c</td>\n",
       "      <td>When just saying \"I designs muscles and beards...</td>\n",
       "      <td>NaN</td>\n",
       "      <td>Mistah-S</td>\n",
       "    </tr>\n",
       "    <tr>\n",
       "      <th>3</th>\n",
       "      <td>11bl8dm</td>\n",
       "      <td>Just spotted a mouse cursor in one of forbidde...</td>\n",
       "      <td>NaN</td>\n",
       "      <td>Add1215</td>\n",
       "    </tr>\n",
       "    <tr>\n",
       "      <th>4</th>\n",
       "      <td>11bppbw</td>\n",
       "      <td>God of War Ragnarök PS5 Voucher/Code</td>\n",
       "      <td>NaN</td>\n",
       "      <td>eugenekk</td>\n",
       "    </tr>\n",
       "  </tbody>\n",
       "</table>\n",
       "</div>"
      ],
      "text/plain": [
       "        id                                              title  \\\n",
       "0  11c5v5o                             Recommendation Central   \n",
       "1  11cgh82  My wife just got into a new crafting project a...   \n",
       "2  11bt09c  When just saying \"I designs muscles and beards...   \n",
       "3  11bl8dm  Just spotted a mouse cursor in one of forbidde...   \n",
       "4  11bppbw               God of War Ragnarök PS5 Voucher/Code   \n",
       "\n",
       "                                        post_content           user  \n",
       "0  Looking for recommendations on what game to pl...  AutoModerator  \n",
       "1                                                NaN     stanrandom  \n",
       "2                                                NaN       Mistah-S  \n",
       "3                                                NaN        Add1215  \n",
       "4                                                NaN       eugenekk  "
      ]
     },
     "metadata": {},
     "output_type": "display_data"
    },
    {
     "data": {
      "text/plain": [
       "(1988, 4)"
      ]
     },
     "metadata": {},
     "output_type": "display_data"
    }
   ],
   "source": [
    "ps_df = pd.read_csv('../data/playstation_posts.csv')\n",
    "display(ps_df.head())\n",
    "display(ps_df.shape)"
   ]
  },
  {
   "cell_type": "markdown",
   "id": "bc9f8776-b06f-4a9e-91eb-1bd72c3e31a5",
   "metadata": {},
   "source": [
    "There are 1916 posts from `r/nintendo` and 1988 posts from `r/playstation`.  \n",
    "Let data from `r/nintendo` be labelled as 1, and `r/playstation` be labelled as 0."
   ]
  },
  {
   "cell_type": "code",
   "execution_count": 4,
   "id": "383bb103-e324-4ac0-aeff-27fc8fca496c",
   "metadata": {},
   "outputs": [
    {
     "data": {
      "text/html": [
       "<div>\n",
       "<style scoped>\n",
       "    .dataframe tbody tr th:only-of-type {\n",
       "        vertical-align: middle;\n",
       "    }\n",
       "\n",
       "    .dataframe tbody tr th {\n",
       "        vertical-align: top;\n",
       "    }\n",
       "\n",
       "    .dataframe thead th {\n",
       "        text-align: right;\n",
       "    }\n",
       "</style>\n",
       "<table border=\"1\" class=\"dataframe\">\n",
       "  <thead>\n",
       "    <tr style=\"text-align: right;\">\n",
       "      <th></th>\n",
       "      <th>id</th>\n",
       "      <th>title</th>\n",
       "      <th>post_content</th>\n",
       "      <th>user</th>\n",
       "      <th>label</th>\n",
       "    </tr>\n",
       "  </thead>\n",
       "  <tbody>\n",
       "    <tr>\n",
       "      <th>0</th>\n",
       "      <td>119r7rg</td>\n",
       "      <td>THROWDOWN THURSDAY: LEAKS CONFIRM LINK IS IN T...</td>\n",
       "      <td>WELCOME TO THROWDOWN THURSDAY, TURN YOUR CAPS ...</td>\n",
       "      <td>1338h4x</td>\n",
       "      <td>1</td>\n",
       "    </tr>\n",
       "    <tr>\n",
       "      <th>1</th>\n",
       "      <td>11c6ol7</td>\n",
       "      <td>smile sunday - happy 30th anniversary, star fox!</td>\n",
       "      <td>turn your caps lock off and rave about whateve...</td>\n",
       "      <td>tale-wind</td>\n",
       "      <td>1</td>\n",
       "    </tr>\n",
       "    <tr>\n",
       "      <th>2</th>\n",
       "      <td>11cai3l</td>\n",
       "      <td>Never played a Pokémon game- where do I start?</td>\n",
       "      <td>I’ve been a gamer since early Gameboy days but...</td>\n",
       "      <td>Focusboy50</td>\n",
       "      <td>1</td>\n",
       "    </tr>\n",
       "    <tr>\n",
       "      <th>3</th>\n",
       "      <td>11bipdi</td>\n",
       "      <td>Universal Brazil posted a video of a Mario mov...</td>\n",
       "      <td>NaN</td>\n",
       "      <td>Nas160</td>\n",
       "      <td>1</td>\n",
       "    </tr>\n",
       "    <tr>\n",
       "      <th>4</th>\n",
       "      <td>11bkknf</td>\n",
       "      <td>MyNintendo offering eight exclusive reversible...</td>\n",
       "      <td>NaN</td>\n",
       "      <td>blubberpuppers</td>\n",
       "      <td>1</td>\n",
       "    </tr>\n",
       "  </tbody>\n",
       "</table>\n",
       "</div>"
      ],
      "text/plain": [
       "        id                                              title  \\\n",
       "0  119r7rg  THROWDOWN THURSDAY: LEAKS CONFIRM LINK IS IN T...   \n",
       "1  11c6ol7   smile sunday - happy 30th anniversary, star fox!   \n",
       "2  11cai3l     Never played a Pokémon game- where do I start?   \n",
       "3  11bipdi  Universal Brazil posted a video of a Mario mov...   \n",
       "4  11bkknf  MyNintendo offering eight exclusive reversible...   \n",
       "\n",
       "                                        post_content            user  label  \n",
       "0  WELCOME TO THROWDOWN THURSDAY, TURN YOUR CAPS ...         1338h4x      1  \n",
       "1  turn your caps lock off and rave about whateve...       tale-wind      1  \n",
       "2  I’ve been a gamer since early Gameboy days but...      Focusboy50      1  \n",
       "3                                                NaN          Nas160      1  \n",
       "4                                                NaN  blubberpuppers      1  "
      ]
     },
     "execution_count": 4,
     "metadata": {},
     "output_type": "execute_result"
    }
   ],
   "source": [
    "# label the datas\n",
    "ns_df['label'] = int(ns_df.shape[0])*[1]\n",
    "ps_df['label'] = int(ps_df.shape[0])*[0]\n",
    "\n",
    "# Concate the dataframes\n",
    "df = pd.concat([ns_df, ps_df], axis=False, sort=False)\n",
    "df.reset_index(drop=True, inplace=True)\n",
    "df.head()"
   ]
  },
  {
   "cell_type": "code",
   "execution_count": 5,
   "id": "b55b4ded-2115-48c3-8e97-324ed3504516",
   "metadata": {},
   "outputs": [
    {
     "data": {
      "text/plain": [
       "id               0.000000\n",
       "title            0.000000\n",
       "post_content    66.086066\n",
       "user             4.585041\n",
       "label            0.000000\n",
       "dtype: float64"
      ]
     },
     "execution_count": 5,
     "metadata": {},
     "output_type": "execute_result"
    }
   ],
   "source": [
    "(df.isna().sum()/df.shape[0])*100"
   ]
  },
  {
   "cell_type": "code",
   "execution_count": 6,
   "id": "7c753aa1-d9ab-4db4-a3c1-bc1d5d45dd8b",
   "metadata": {},
   "outputs": [
    {
     "data": {
      "text/plain": [
       "id                 0\n",
       "title              0\n",
       "post_content    2580\n",
       "user             179\n",
       "label              0\n",
       "dtype: int64"
      ]
     },
     "execution_count": 6,
     "metadata": {},
     "output_type": "execute_result"
    }
   ],
   "source": [
    "df.isna().sum()"
   ]
  },
  {
   "cell_type": "markdown",
   "id": "ec4d4807-c93b-40e7-9dbc-90dbbf1c2b5f",
   "metadata": {},
   "source": [
    "66.08% of the posts, or 2580, of the posts collected are not word posts.   \n",
    "They are either video or picture posts.  \n",
    "4.59% or 179 users doesn't have a user name.  \n",
    "Maybe they are banned?  \n",
    "It doesn't really matter now, as user name will not be used."
   ]
  },
  {
   "cell_type": "code",
   "execution_count": 7,
   "id": "ababa55a-ea50-4555-b013-c5b962f3deb6",
   "metadata": {},
   "outputs": [
    {
     "data": {
      "text/plain": [
       "float"
      ]
     },
     "execution_count": 7,
     "metadata": {},
     "output_type": "execute_result"
    }
   ],
   "source": [
    "type(df['post_content'][8])"
   ]
  },
  {
   "cell_type": "markdown",
   "id": "8bafcd56-135e-4ad3-bb85-bc4e862166e2",
   "metadata": {},
   "source": [
    "A key point that I should really remeber is that in pandas, `NaN` is represented using float...  \n",
    "Also, `str(NaN)` will be `'nan'`...   "
   ]
  },
  {
   "cell_type": "code",
   "execution_count": 8,
   "id": "13566898-4913-4532-9907-49a05d6e08fd",
   "metadata": {},
   "outputs": [],
   "source": [
    "df['title_word_count'] = [len(title.split()) for title in df['title']]\n",
    "df['title_len'] = [len(title) for title in df['title']]\n",
    "df['post_word_count'] = [len(str(post).split()) if str(post) != 'nan' else 0 for post in df['post_content'] ]\n",
    "df['post_len'] = [len(str(post)) if str(post) != 'nan' else 0 for post in df['post_content']]"
   ]
  },
  {
   "cell_type": "code",
   "execution_count": 9,
   "id": "58597443-58d2-4516-99c9-94802e7d22a5",
   "metadata": {},
   "outputs": [
    {
     "data": {
      "text/html": [
       "<div>\n",
       "<style scoped>\n",
       "    .dataframe tbody tr th:only-of-type {\n",
       "        vertical-align: middle;\n",
       "    }\n",
       "\n",
       "    .dataframe tbody tr th {\n",
       "        vertical-align: top;\n",
       "    }\n",
       "\n",
       "    .dataframe thead th {\n",
       "        text-align: right;\n",
       "    }\n",
       "</style>\n",
       "<table border=\"1\" class=\"dataframe\">\n",
       "  <thead>\n",
       "    <tr style=\"text-align: right;\">\n",
       "      <th></th>\n",
       "      <th>id</th>\n",
       "      <th>title</th>\n",
       "      <th>post_content</th>\n",
       "      <th>user</th>\n",
       "      <th>label</th>\n",
       "      <th>title_word_count</th>\n",
       "      <th>title_len</th>\n",
       "      <th>post_word_count</th>\n",
       "      <th>post_len</th>\n",
       "    </tr>\n",
       "  </thead>\n",
       "  <tbody>\n",
       "    <tr>\n",
       "      <th>0</th>\n",
       "      <td>119r7rg</td>\n",
       "      <td>THROWDOWN THURSDAY: LEAKS CONFIRM LINK IS IN T...</td>\n",
       "      <td>WELCOME TO THROWDOWN THURSDAY, TURN YOUR CAPS ...</td>\n",
       "      <td>1338h4x</td>\n",
       "      <td>1</td>\n",
       "      <td>11</td>\n",
       "      <td>65</td>\n",
       "      <td>114</td>\n",
       "      <td>674</td>\n",
       "    </tr>\n",
       "    <tr>\n",
       "      <th>1</th>\n",
       "      <td>11c6ol7</td>\n",
       "      <td>smile sunday - happy 30th anniversary, star fox!</td>\n",
       "      <td>turn your caps lock off and rave about whateve...</td>\n",
       "      <td>tale-wind</td>\n",
       "      <td>1</td>\n",
       "      <td>8</td>\n",
       "      <td>48</td>\n",
       "      <td>231</td>\n",
       "      <td>1515</td>\n",
       "    </tr>\n",
       "    <tr>\n",
       "      <th>2</th>\n",
       "      <td>11cai3l</td>\n",
       "      <td>Never played a Pokémon game- where do I start?</td>\n",
       "      <td>I’ve been a gamer since early Gameboy days but...</td>\n",
       "      <td>Focusboy50</td>\n",
       "      <td>1</td>\n",
       "      <td>9</td>\n",
       "      <td>46</td>\n",
       "      <td>60</td>\n",
       "      <td>320</td>\n",
       "    </tr>\n",
       "    <tr>\n",
       "      <th>3</th>\n",
       "      <td>11bipdi</td>\n",
       "      <td>Universal Brazil posted a video of a Mario mov...</td>\n",
       "      <td>NaN</td>\n",
       "      <td>Nas160</td>\n",
       "      <td>1</td>\n",
       "      <td>21</td>\n",
       "      <td>114</td>\n",
       "      <td>0</td>\n",
       "      <td>0</td>\n",
       "    </tr>\n",
       "    <tr>\n",
       "      <th>4</th>\n",
       "      <td>11bkknf</td>\n",
       "      <td>MyNintendo offering eight exclusive reversible...</td>\n",
       "      <td>NaN</td>\n",
       "      <td>blubberpuppers</td>\n",
       "      <td>1</td>\n",
       "      <td>20</td>\n",
       "      <td>139</td>\n",
       "      <td>0</td>\n",
       "      <td>0</td>\n",
       "    </tr>\n",
       "    <tr>\n",
       "      <th>5</th>\n",
       "      <td>11bjztq</td>\n",
       "      <td>Nintendo Confirms It Won't Be at E3 2023</td>\n",
       "      <td>NaN</td>\n",
       "      <td>The_Norsican</td>\n",
       "      <td>1</td>\n",
       "      <td>8</td>\n",
       "      <td>40</td>\n",
       "      <td>0</td>\n",
       "      <td>0</td>\n",
       "    </tr>\n",
       "    <tr>\n",
       "      <th>6</th>\n",
       "      <td>11cfl9m</td>\n",
       "      <td>Darkside Detective Plushies!</td>\n",
       "      <td>I cant seem to find a dedicated Darkside Detec...</td>\n",
       "      <td>sweetypaw</td>\n",
       "      <td>1</td>\n",
       "      <td>3</td>\n",
       "      <td>28</td>\n",
       "      <td>72</td>\n",
       "      <td>997</td>\n",
       "    </tr>\n",
       "    <tr>\n",
       "      <th>7</th>\n",
       "      <td>11ckhq9</td>\n",
       "      <td>Live Factory - Launch Trailer - Nintendo Switch</td>\n",
       "      <td>NaN</td>\n",
       "      <td>Toxa17</td>\n",
       "      <td>1</td>\n",
       "      <td>8</td>\n",
       "      <td>47</td>\n",
       "      <td>0</td>\n",
       "      <td>0</td>\n",
       "    </tr>\n",
       "    <tr>\n",
       "      <th>8</th>\n",
       "      <td>11c4yp9</td>\n",
       "      <td>[Video Tutorial] Joycon Grip Mod, with Magnets!</td>\n",
       "      <td>NaN</td>\n",
       "      <td>Onlyhereforthelaughs</td>\n",
       "      <td>1</td>\n",
       "      <td>7</td>\n",
       "      <td>47</td>\n",
       "      <td>0</td>\n",
       "      <td>0</td>\n",
       "    </tr>\n",
       "    <tr>\n",
       "      <th>9</th>\n",
       "      <td>11c8u5q</td>\n",
       "      <td>On This Day in Nintendo History: Dance Aerobic...</td>\n",
       "      <td>#On this day (February 21) in Nintendo history...</td>\n",
       "      <td>RoboticOperatingBudd</td>\n",
       "      <td>1</td>\n",
       "      <td>11</td>\n",
       "      <td>71</td>\n",
       "      <td>235</td>\n",
       "      <td>1386</td>\n",
       "    </tr>\n",
       "  </tbody>\n",
       "</table>\n",
       "</div>"
      ],
      "text/plain": [
       "        id                                              title  \\\n",
       "0  119r7rg  THROWDOWN THURSDAY: LEAKS CONFIRM LINK IS IN T...   \n",
       "1  11c6ol7   smile sunday - happy 30th anniversary, star fox!   \n",
       "2  11cai3l     Never played a Pokémon game- where do I start?   \n",
       "3  11bipdi  Universal Brazil posted a video of a Mario mov...   \n",
       "4  11bkknf  MyNintendo offering eight exclusive reversible...   \n",
       "5  11bjztq           Nintendo Confirms It Won't Be at E3 2023   \n",
       "6  11cfl9m                       Darkside Detective Plushies!   \n",
       "7  11ckhq9    Live Factory - Launch Trailer - Nintendo Switch   \n",
       "8  11c4yp9    [Video Tutorial] Joycon Grip Mod, with Magnets!   \n",
       "9  11c8u5q  On This Day in Nintendo History: Dance Aerobic...   \n",
       "\n",
       "                                        post_content                  user  \\\n",
       "0  WELCOME TO THROWDOWN THURSDAY, TURN YOUR CAPS ...               1338h4x   \n",
       "1  turn your caps lock off and rave about whateve...             tale-wind   \n",
       "2  I’ve been a gamer since early Gameboy days but...            Focusboy50   \n",
       "3                                                NaN                Nas160   \n",
       "4                                                NaN        blubberpuppers   \n",
       "5                                                NaN          The_Norsican   \n",
       "6  I cant seem to find a dedicated Darkside Detec...             sweetypaw   \n",
       "7                                                NaN                Toxa17   \n",
       "8                                                NaN  Onlyhereforthelaughs   \n",
       "9  #On this day (February 21) in Nintendo history...  RoboticOperatingBudd   \n",
       "\n",
       "   label  title_word_count  title_len  post_word_count  post_len  \n",
       "0      1                11         65              114       674  \n",
       "1      1                 8         48              231      1515  \n",
       "2      1                 9         46               60       320  \n",
       "3      1                21        114                0         0  \n",
       "4      1                20        139                0         0  \n",
       "5      1                 8         40                0         0  \n",
       "6      1                 3         28               72       997  \n",
       "7      1                 8         47                0         0  \n",
       "8      1                 7         47                0         0  \n",
       "9      1                11         71              235      1386  "
      ]
     },
     "execution_count": 9,
     "metadata": {},
     "output_type": "execute_result"
    }
   ],
   "source": [
    "df.head(10)"
   ]
  },
  {
   "cell_type": "code",
   "execution_count": 10,
   "id": "26506c05-0c29-4544-aaf6-50c76cc4804b",
   "metadata": {},
   "outputs": [
    {
     "data": {
      "text/html": [
       "<div>\n",
       "<style scoped>\n",
       "    .dataframe tbody tr th:only-of-type {\n",
       "        vertical-align: middle;\n",
       "    }\n",
       "\n",
       "    .dataframe tbody tr th {\n",
       "        vertical-align: top;\n",
       "    }\n",
       "\n",
       "    .dataframe thead th {\n",
       "        text-align: right;\n",
       "    }\n",
       "</style>\n",
       "<table border=\"1\" class=\"dataframe\">\n",
       "  <thead>\n",
       "    <tr style=\"text-align: right;\">\n",
       "      <th></th>\n",
       "      <th>id</th>\n",
       "      <th>title</th>\n",
       "      <th>post_content</th>\n",
       "      <th>user</th>\n",
       "      <th>label</th>\n",
       "      <th>title_word_count</th>\n",
       "      <th>title_len</th>\n",
       "      <th>post_word_count</th>\n",
       "      <th>post_len</th>\n",
       "    </tr>\n",
       "  </thead>\n",
       "  <tbody>\n",
       "    <tr>\n",
       "      <th>3106</th>\n",
       "      <td>pyfsvh</td>\n",
       "      <td>GOW voice actor Christopher Judge clarifies on...</td>\n",
       "      <td>NaN</td>\n",
       "      <td>CptnCASx</td>\n",
       "      <td>0</td>\n",
       "      <td>53</td>\n",
       "      <td>299</td>\n",
       "      <td>0</td>\n",
       "      <td>0</td>\n",
       "    </tr>\n",
       "    <tr>\n",
       "      <th>295</th>\n",
       "      <td>10s4cfj</td>\n",
       "      <td>To celebrate Star Fox's 30th anniversary, I'm ...</td>\n",
       "      <td>NaN</td>\n",
       "      <td>AlphaSSB</td>\n",
       "      <td>1</td>\n",
       "      <td>54</td>\n",
       "      <td>298</td>\n",
       "      <td>0</td>\n",
       "      <td>0</td>\n",
       "    </tr>\n",
       "    <tr>\n",
       "      <th>1013</th>\n",
       "      <td>ai5d7n</td>\n",
       "      <td>Sakurai: \"Smash Bros. is 20 years old today! O...</td>\n",
       "      <td>NaN</td>\n",
       "      <td>Lugia2453</td>\n",
       "      <td>1</td>\n",
       "      <td>52</td>\n",
       "      <td>287</td>\n",
       "      <td>0</td>\n",
       "      <td>0</td>\n",
       "    </tr>\n",
       "    <tr>\n",
       "      <th>1119</th>\n",
       "      <td>ni55it</td>\n",
       "      <td>I am Giles Goddard, I made Star Fox with Shige...</td>\n",
       "      <td>I’m Giles Goddard, a game dev who programmed S...</td>\n",
       "      <td>CurrentCEOGiles</td>\n",
       "      <td>1</td>\n",
       "      <td>52</td>\n",
       "      <td>286</td>\n",
       "      <td>297</td>\n",
       "      <td>1740</td>\n",
       "    </tr>\n",
       "    <tr>\n",
       "      <th>1115</th>\n",
       "      <td>boebjd</td>\n",
       "      <td>In Super Mario Odyssey, Mario is able to fall ...</td>\n",
       "      <td>NaN</td>\n",
       "      <td>NaN</td>\n",
       "      <td>1</td>\n",
       "      <td>48</td>\n",
       "      <td>280</td>\n",
       "      <td>0</td>\n",
       "      <td>0</td>\n",
       "    </tr>\n",
       "    <tr>\n",
       "      <th>1518</th>\n",
       "      <td>ic4nmi</td>\n",
       "      <td>4 years, 2 months and 17 days ago I was in a d...</td>\n",
       "      <td>NaN</td>\n",
       "      <td>Biuzer</td>\n",
       "      <td>1</td>\n",
       "      <td>55</td>\n",
       "      <td>271</td>\n",
       "      <td>0</td>\n",
       "      <td>0</td>\n",
       "    </tr>\n",
       "    <tr>\n",
       "      <th>534</th>\n",
       "      <td>100f9a2</td>\n",
       "      <td>YSK - While Nintendo is well-known for sending...</td>\n",
       "      <td>While Nintendo has a reputation for taking dow...</td>\n",
       "      <td>razorbeamz</td>\n",
       "      <td>1</td>\n",
       "      <td>47</td>\n",
       "      <td>268</td>\n",
       "      <td>176</td>\n",
       "      <td>1001</td>\n",
       "    </tr>\n",
       "    <tr>\n",
       "      <th>1188</th>\n",
       "      <td>k58be5</td>\n",
       "      <td>As of 2020, we are now in the longest drought ...</td>\n",
       "      <td>I honestly feel like this has been a much long...</td>\n",
       "      <td>TheJohnny346</td>\n",
       "      <td>1</td>\n",
       "      <td>52</td>\n",
       "      <td>266</td>\n",
       "      <td>45</td>\n",
       "      <td>236</td>\n",
       "    </tr>\n",
       "    <tr>\n",
       "      <th>3697</th>\n",
       "      <td>l6a3rb</td>\n",
       "      <td>This year marks 2 years since my really good f...</td>\n",
       "      <td>NaN</td>\n",
       "      <td>AlienJose</td>\n",
       "      <td>0</td>\n",
       "      <td>52</td>\n",
       "      <td>266</td>\n",
       "      <td>0</td>\n",
       "      <td>0</td>\n",
       "    </tr>\n",
       "    <tr>\n",
       "      <th>1650</th>\n",
       "      <td>8ytjyt</td>\n",
       "      <td>Confused by the difficulty of English in Octop...</td>\n",
       "      <td>NaN</td>\n",
       "      <td>NaN</td>\n",
       "      <td>1</td>\n",
       "      <td>40</td>\n",
       "      <td>265</td>\n",
       "      <td>0</td>\n",
       "      <td>0</td>\n",
       "    </tr>\n",
       "  </tbody>\n",
       "</table>\n",
       "</div>"
      ],
      "text/plain": [
       "           id                                              title  \\\n",
       "3106   pyfsvh  GOW voice actor Christopher Judge clarifies on...   \n",
       "295   10s4cfj  To celebrate Star Fox's 30th anniversary, I'm ...   \n",
       "1013   ai5d7n  Sakurai: \"Smash Bros. is 20 years old today! O...   \n",
       "1119   ni55it  I am Giles Goddard, I made Star Fox with Shige...   \n",
       "1115   boebjd  In Super Mario Odyssey, Mario is able to fall ...   \n",
       "1518   ic4nmi  4 years, 2 months and 17 days ago I was in a d...   \n",
       "534   100f9a2  YSK - While Nintendo is well-known for sending...   \n",
       "1188   k58be5  As of 2020, we are now in the longest drought ...   \n",
       "3697   l6a3rb  This year marks 2 years since my really good f...   \n",
       "1650   8ytjyt  Confused by the difficulty of English in Octop...   \n",
       "\n",
       "                                           post_content             user  \\\n",
       "3106                                                NaN         CptnCASx   \n",
       "295                                                 NaN         AlphaSSB   \n",
       "1013                                                NaN        Lugia2453   \n",
       "1119  I’m Giles Goddard, a game dev who programmed S...  CurrentCEOGiles   \n",
       "1115                                                NaN              NaN   \n",
       "1518                                                NaN           Biuzer   \n",
       "534   While Nintendo has a reputation for taking dow...       razorbeamz   \n",
       "1188  I honestly feel like this has been a much long...     TheJohnny346   \n",
       "3697                                                NaN        AlienJose   \n",
       "1650                                                NaN              NaN   \n",
       "\n",
       "      label  title_word_count  title_len  post_word_count  post_len  \n",
       "3106      0                53        299                0         0  \n",
       "295       1                54        298                0         0  \n",
       "1013      1                52        287                0         0  \n",
       "1119      1                52        286              297      1740  \n",
       "1115      1                48        280                0         0  \n",
       "1518      1                55        271                0         0  \n",
       "534       1                47        268              176      1001  \n",
       "1188      1                52        266               45       236  \n",
       "3697      0                52        266                0         0  \n",
       "1650      1                40        265                0         0  "
      ]
     },
     "metadata": {},
     "output_type": "display_data"
    },
    {
     "data": {
      "text/html": [
       "<div>\n",
       "<style scoped>\n",
       "    .dataframe tbody tr th:only-of-type {\n",
       "        vertical-align: middle;\n",
       "    }\n",
       "\n",
       "    .dataframe tbody tr th {\n",
       "        vertical-align: top;\n",
       "    }\n",
       "\n",
       "    .dataframe thead th {\n",
       "        text-align: right;\n",
       "    }\n",
       "</style>\n",
       "<table border=\"1\" class=\"dataframe\">\n",
       "  <thead>\n",
       "    <tr style=\"text-align: right;\">\n",
       "      <th></th>\n",
       "      <th>id</th>\n",
       "      <th>title</th>\n",
       "      <th>post_content</th>\n",
       "      <th>user</th>\n",
       "      <th>label</th>\n",
       "      <th>title_word_count</th>\n",
       "      <th>title_len</th>\n",
       "      <th>post_word_count</th>\n",
       "      <th>post_len</th>\n",
       "    </tr>\n",
       "  </thead>\n",
       "  <tbody>\n",
       "    <tr>\n",
       "      <th>3529</th>\n",
       "      <td>hqxhu2</td>\n",
       "      <td>Adios.</td>\n",
       "      <td>NaN</td>\n",
       "      <td>George05YT</td>\n",
       "      <td>0</td>\n",
       "      <td>1</td>\n",
       "      <td>6</td>\n",
       "      <td>0</td>\n",
       "      <td>0</td>\n",
       "    </tr>\n",
       "    <tr>\n",
       "      <th>3463</th>\n",
       "      <td>ecvaw4</td>\n",
       "      <td>Always</td>\n",
       "      <td>NaN</td>\n",
       "      <td>muffin-with-a-sword</td>\n",
       "      <td>0</td>\n",
       "      <td>1</td>\n",
       "      <td>6</td>\n",
       "      <td>0</td>\n",
       "      <td>0</td>\n",
       "    </tr>\n",
       "    <tr>\n",
       "      <th>2982</th>\n",
       "      <td>nrb7ro</td>\n",
       "      <td>welp..</td>\n",
       "      <td>NaN</td>\n",
       "      <td>hellserver02</td>\n",
       "      <td>0</td>\n",
       "      <td>1</td>\n",
       "      <td>6</td>\n",
       "      <td>0</td>\n",
       "      <td>0</td>\n",
       "    </tr>\n",
       "    <tr>\n",
       "      <th>3559</th>\n",
       "      <td>fwkmji</td>\n",
       "      <td>Me rn</td>\n",
       "      <td>NaN</td>\n",
       "      <td>REBELSHOCKER123</td>\n",
       "      <td>0</td>\n",
       "      <td>2</td>\n",
       "      <td>5</td>\n",
       "      <td>0</td>\n",
       "      <td>0</td>\n",
       "    </tr>\n",
       "    <tr>\n",
       "      <th>3621</th>\n",
       "      <td>kitbih</td>\n",
       "      <td>👏 👏 👏</td>\n",
       "      <td>NaN</td>\n",
       "      <td>NaN</td>\n",
       "      <td>0</td>\n",
       "      <td>3</td>\n",
       "      <td>5</td>\n",
       "      <td>0</td>\n",
       "      <td>0</td>\n",
       "    </tr>\n",
       "    <tr>\n",
       "      <th>3051</th>\n",
       "      <td>j9cjl7</td>\n",
       "      <td>Ooops</td>\n",
       "      <td>NaN</td>\n",
       "      <td>jas0ndrag0n</td>\n",
       "      <td>0</td>\n",
       "      <td>1</td>\n",
       "      <td>5</td>\n",
       "      <td>0</td>\n",
       "      <td>0</td>\n",
       "    </tr>\n",
       "    <tr>\n",
       "      <th>3053</th>\n",
       "      <td>dk8oc7</td>\n",
       "      <td>Facts</td>\n",
       "      <td>NaN</td>\n",
       "      <td>Robertcc99</td>\n",
       "      <td>0</td>\n",
       "      <td>1</td>\n",
       "      <td>5</td>\n",
       "      <td>0</td>\n",
       "      <td>0</td>\n",
       "    </tr>\n",
       "    <tr>\n",
       "      <th>3834</th>\n",
       "      <td>8tjwmc</td>\n",
       "      <td>Title</td>\n",
       "      <td>NaN</td>\n",
       "      <td>NaN</td>\n",
       "      <td>0</td>\n",
       "      <td>1</td>\n",
       "      <td>5</td>\n",
       "      <td>0</td>\n",
       "      <td>0</td>\n",
       "    </tr>\n",
       "    <tr>\n",
       "      <th>3101</th>\n",
       "      <td>hphb6m</td>\n",
       "      <td>Memes</td>\n",
       "      <td>NaN</td>\n",
       "      <td>emirology</td>\n",
       "      <td>0</td>\n",
       "      <td>1</td>\n",
       "      <td>5</td>\n",
       "      <td>0</td>\n",
       "      <td>0</td>\n",
       "    </tr>\n",
       "    <tr>\n",
       "      <th>3450</th>\n",
       "      <td>fdk9x6</td>\n",
       "      <td>💙💚</td>\n",
       "      <td>NaN</td>\n",
       "      <td>realdahdah</td>\n",
       "      <td>0</td>\n",
       "      <td>1</td>\n",
       "      <td>2</td>\n",
       "      <td>0</td>\n",
       "      <td>0</td>\n",
       "    </tr>\n",
       "  </tbody>\n",
       "</table>\n",
       "</div>"
      ],
      "text/plain": [
       "          id   title post_content                 user  label  \\\n",
       "3529  hqxhu2  Adios.          NaN           George05YT      0   \n",
       "3463  ecvaw4  Always          NaN  muffin-with-a-sword      0   \n",
       "2982  nrb7ro  welp..          NaN         hellserver02      0   \n",
       "3559  fwkmji   Me rn          NaN      REBELSHOCKER123      0   \n",
       "3621  kitbih   👏 👏 👏          NaN                  NaN      0   \n",
       "3051  j9cjl7   Ooops          NaN          jas0ndrag0n      0   \n",
       "3053  dk8oc7   Facts          NaN           Robertcc99      0   \n",
       "3834  8tjwmc   Title          NaN                  NaN      0   \n",
       "3101  hphb6m   Memes          NaN            emirology      0   \n",
       "3450  fdk9x6      💙💚          NaN           realdahdah      0   \n",
       "\n",
       "      title_word_count  title_len  post_word_count  post_len  \n",
       "3529                 1          6                0         0  \n",
       "3463                 1          6                0         0  \n",
       "2982                 1          6                0         0  \n",
       "3559                 2          5                0         0  \n",
       "3621                 3          5                0         0  \n",
       "3051                 1          5                0         0  \n",
       "3053                 1          5                0         0  \n",
       "3834                 1          5                0         0  \n",
       "3101                 1          5                0         0  \n",
       "3450                 1          2                0         0  "
      ]
     },
     "metadata": {},
     "output_type": "display_data"
    }
   ],
   "source": [
    "# find the longest and shortest title len\n",
    "display(df.sort_values(by='title_len', ascending=False).head(10))\n",
    "display(df.sort_values(by='title_len', ascending=False).tail(10))"
   ]
  },
  {
   "cell_type": "code",
   "execution_count": 11,
   "id": "2de42908-bec2-40c3-b5f5-f8422306fee2",
   "metadata": {},
   "outputs": [],
   "source": [
    "# Make a function to do the sorting as I have 4 colmuns to look at\n",
    "def arrange_by(df, col_name, rows_shown = 5):\n",
    "    '''Function that shows the sorted df\n",
    "    Args:\n",
    "        df: dataframe to sort\n",
    "        col_name: colmun name to sort by\n",
    "        rows_shown: number of rows to display for head and tail, default = 5\n",
    "    '''\n",
    "    if ((col_name == 'post_word_count') | (col_name == 'post_len')):\n",
    "        df = df.dropna()\n",
    "    display(df.sort_values(by=col_name, ascending=False).head(rows_shown))\n",
    "    display(df.sort_values(by=col_name, ascending=False).tail(rows_shown))"
   ]
  },
  {
   "cell_type": "code",
   "execution_count": 12,
   "id": "c88a8de2-5dbc-441a-9cb0-42bbb6c976cc",
   "metadata": {},
   "outputs": [
    {
     "data": {
      "text/html": [
       "<div>\n",
       "<style scoped>\n",
       "    .dataframe tbody tr th:only-of-type {\n",
       "        vertical-align: middle;\n",
       "    }\n",
       "\n",
       "    .dataframe tbody tr th {\n",
       "        vertical-align: top;\n",
       "    }\n",
       "\n",
       "    .dataframe thead th {\n",
       "        text-align: right;\n",
       "    }\n",
       "</style>\n",
       "<table border=\"1\" class=\"dataframe\">\n",
       "  <thead>\n",
       "    <tr style=\"text-align: right;\">\n",
       "      <th></th>\n",
       "      <th>id</th>\n",
       "      <th>title</th>\n",
       "      <th>post_content</th>\n",
       "      <th>user</th>\n",
       "      <th>label</th>\n",
       "      <th>title_word_count</th>\n",
       "      <th>title_len</th>\n",
       "      <th>post_word_count</th>\n",
       "      <th>post_len</th>\n",
       "    </tr>\n",
       "  </thead>\n",
       "  <tbody>\n",
       "    <tr>\n",
       "      <th>1518</th>\n",
       "      <td>ic4nmi</td>\n",
       "      <td>4 years, 2 months and 17 days ago I was in a d...</td>\n",
       "      <td>NaN</td>\n",
       "      <td>Biuzer</td>\n",
       "      <td>1</td>\n",
       "      <td>55</td>\n",
       "      <td>271</td>\n",
       "      <td>0</td>\n",
       "      <td>0</td>\n",
       "    </tr>\n",
       "    <tr>\n",
       "      <th>295</th>\n",
       "      <td>10s4cfj</td>\n",
       "      <td>To celebrate Star Fox's 30th anniversary, I'm ...</td>\n",
       "      <td>NaN</td>\n",
       "      <td>AlphaSSB</td>\n",
       "      <td>1</td>\n",
       "      <td>54</td>\n",
       "      <td>298</td>\n",
       "      <td>0</td>\n",
       "      <td>0</td>\n",
       "    </tr>\n",
       "    <tr>\n",
       "      <th>3106</th>\n",
       "      <td>pyfsvh</td>\n",
       "      <td>GOW voice actor Christopher Judge clarifies on...</td>\n",
       "      <td>NaN</td>\n",
       "      <td>CptnCASx</td>\n",
       "      <td>0</td>\n",
       "      <td>53</td>\n",
       "      <td>299</td>\n",
       "      <td>0</td>\n",
       "      <td>0</td>\n",
       "    </tr>\n",
       "    <tr>\n",
       "      <th>3266</th>\n",
       "      <td>oc5fad</td>\n",
       "      <td>So I fked up my order (after trying since laun...</td>\n",
       "      <td>NaN</td>\n",
       "      <td>PanJan97</td>\n",
       "      <td>0</td>\n",
       "      <td>53</td>\n",
       "      <td>262</td>\n",
       "      <td>0</td>\n",
       "      <td>0</td>\n",
       "    </tr>\n",
       "    <tr>\n",
       "      <th>3801</th>\n",
       "      <td>pv9ary</td>\n",
       "      <td>Who else still likes to buy their games physic...</td>\n",
       "      <td>NaN</td>\n",
       "      <td>Ultimate_President</td>\n",
       "      <td>0</td>\n",
       "      <td>52</td>\n",
       "      <td>261</td>\n",
       "      <td>0</td>\n",
       "      <td>0</td>\n",
       "    </tr>\n",
       "    <tr>\n",
       "      <th>1119</th>\n",
       "      <td>ni55it</td>\n",
       "      <td>I am Giles Goddard, I made Star Fox with Shige...</td>\n",
       "      <td>I’m Giles Goddard, a game dev who programmed S...</td>\n",
       "      <td>CurrentCEOGiles</td>\n",
       "      <td>1</td>\n",
       "      <td>52</td>\n",
       "      <td>286</td>\n",
       "      <td>297</td>\n",
       "      <td>1740</td>\n",
       "    </tr>\n",
       "    <tr>\n",
       "      <th>1188</th>\n",
       "      <td>k58be5</td>\n",
       "      <td>As of 2020, we are now in the longest drought ...</td>\n",
       "      <td>I honestly feel like this has been a much long...</td>\n",
       "      <td>TheJohnny346</td>\n",
       "      <td>1</td>\n",
       "      <td>52</td>\n",
       "      <td>266</td>\n",
       "      <td>45</td>\n",
       "      <td>236</td>\n",
       "    </tr>\n",
       "    <tr>\n",
       "      <th>1013</th>\n",
       "      <td>ai5d7n</td>\n",
       "      <td>Sakurai: \"Smash Bros. is 20 years old today! O...</td>\n",
       "      <td>NaN</td>\n",
       "      <td>Lugia2453</td>\n",
       "      <td>1</td>\n",
       "      <td>52</td>\n",
       "      <td>287</td>\n",
       "      <td>0</td>\n",
       "      <td>0</td>\n",
       "    </tr>\n",
       "    <tr>\n",
       "      <th>3697</th>\n",
       "      <td>l6a3rb</td>\n",
       "      <td>This year marks 2 years since my really good f...</td>\n",
       "      <td>NaN</td>\n",
       "      <td>AlienJose</td>\n",
       "      <td>0</td>\n",
       "      <td>52</td>\n",
       "      <td>266</td>\n",
       "      <td>0</td>\n",
       "      <td>0</td>\n",
       "    </tr>\n",
       "    <tr>\n",
       "      <th>1115</th>\n",
       "      <td>boebjd</td>\n",
       "      <td>In Super Mario Odyssey, Mario is able to fall ...</td>\n",
       "      <td>NaN</td>\n",
       "      <td>NaN</td>\n",
       "      <td>1</td>\n",
       "      <td>48</td>\n",
       "      <td>280</td>\n",
       "      <td>0</td>\n",
       "      <td>0</td>\n",
       "    </tr>\n",
       "  </tbody>\n",
       "</table>\n",
       "</div>"
      ],
      "text/plain": [
       "           id                                              title  \\\n",
       "1518   ic4nmi  4 years, 2 months and 17 days ago I was in a d...   \n",
       "295   10s4cfj  To celebrate Star Fox's 30th anniversary, I'm ...   \n",
       "3106   pyfsvh  GOW voice actor Christopher Judge clarifies on...   \n",
       "3266   oc5fad  So I fked up my order (after trying since laun...   \n",
       "3801   pv9ary  Who else still likes to buy their games physic...   \n",
       "1119   ni55it  I am Giles Goddard, I made Star Fox with Shige...   \n",
       "1188   k58be5  As of 2020, we are now in the longest drought ...   \n",
       "1013   ai5d7n  Sakurai: \"Smash Bros. is 20 years old today! O...   \n",
       "3697   l6a3rb  This year marks 2 years since my really good f...   \n",
       "1115   boebjd  In Super Mario Odyssey, Mario is able to fall ...   \n",
       "\n",
       "                                           post_content                user  \\\n",
       "1518                                                NaN              Biuzer   \n",
       "295                                                 NaN            AlphaSSB   \n",
       "3106                                                NaN            CptnCASx   \n",
       "3266                                                NaN            PanJan97   \n",
       "3801                                                NaN  Ultimate_President   \n",
       "1119  I’m Giles Goddard, a game dev who programmed S...     CurrentCEOGiles   \n",
       "1188  I honestly feel like this has been a much long...        TheJohnny346   \n",
       "1013                                                NaN           Lugia2453   \n",
       "3697                                                NaN           AlienJose   \n",
       "1115                                                NaN                 NaN   \n",
       "\n",
       "      label  title_word_count  title_len  post_word_count  post_len  \n",
       "1518      1                55        271                0         0  \n",
       "295       1                54        298                0         0  \n",
       "3106      0                53        299                0         0  \n",
       "3266      0                53        262                0         0  \n",
       "3801      0                52        261                0         0  \n",
       "1119      1                52        286              297      1740  \n",
       "1188      1                52        266               45       236  \n",
       "1013      1                52        287                0         0  \n",
       "3697      0                52        266                0         0  \n",
       "1115      1                48        280                0         0  "
      ]
     },
     "metadata": {},
     "output_type": "display_data"
    },
    {
     "data": {
      "text/html": [
       "<div>\n",
       "<style scoped>\n",
       "    .dataframe tbody tr th:only-of-type {\n",
       "        vertical-align: middle;\n",
       "    }\n",
       "\n",
       "    .dataframe tbody tr th {\n",
       "        vertical-align: top;\n",
       "    }\n",
       "\n",
       "    .dataframe thead th {\n",
       "        text-align: right;\n",
       "    }\n",
       "</style>\n",
       "<table border=\"1\" class=\"dataframe\">\n",
       "  <thead>\n",
       "    <tr style=\"text-align: right;\">\n",
       "      <th></th>\n",
       "      <th>id</th>\n",
       "      <th>title</th>\n",
       "      <th>post_content</th>\n",
       "      <th>user</th>\n",
       "      <th>label</th>\n",
       "      <th>title_word_count</th>\n",
       "      <th>title_len</th>\n",
       "      <th>post_word_count</th>\n",
       "      <th>post_len</th>\n",
       "    </tr>\n",
       "  </thead>\n",
       "  <tbody>\n",
       "    <tr>\n",
       "      <th>3878</th>\n",
       "      <td>pjsuob</td>\n",
       "      <td>Evolution</td>\n",
       "      <td>NaN</td>\n",
       "      <td>NaN</td>\n",
       "      <td>0</td>\n",
       "      <td>1</td>\n",
       "      <td>9</td>\n",
       "      <td>0</td>\n",
       "      <td>0</td>\n",
       "    </tr>\n",
       "    <tr>\n",
       "      <th>3051</th>\n",
       "      <td>j9cjl7</td>\n",
       "      <td>Ooops</td>\n",
       "      <td>NaN</td>\n",
       "      <td>jas0ndrag0n</td>\n",
       "      <td>0</td>\n",
       "      <td>1</td>\n",
       "      <td>5</td>\n",
       "      <td>0</td>\n",
       "      <td>0</td>\n",
       "    </tr>\n",
       "    <tr>\n",
       "      <th>3369</th>\n",
       "      <td>nohzbt</td>\n",
       "      <td>Thanks🥺👍.</td>\n",
       "      <td>NaN</td>\n",
       "      <td>acetrainer03</td>\n",
       "      <td>0</td>\n",
       "      <td>1</td>\n",
       "      <td>9</td>\n",
       "      <td>0</td>\n",
       "      <td>0</td>\n",
       "    </tr>\n",
       "    <tr>\n",
       "      <th>3191</th>\n",
       "      <td>jeonfw</td>\n",
       "      <td>Sheeeeeeeeshhh</td>\n",
       "      <td>NaN</td>\n",
       "      <td>HayseedHere</td>\n",
       "      <td>0</td>\n",
       "      <td>1</td>\n",
       "      <td>14</td>\n",
       "      <td>0</td>\n",
       "      <td>0</td>\n",
       "    </tr>\n",
       "    <tr>\n",
       "      <th>2960</th>\n",
       "      <td>in2aja</td>\n",
       "      <td>Awwwwwwwww</td>\n",
       "      <td>NaN</td>\n",
       "      <td>drunk-spirit</td>\n",
       "      <td>0</td>\n",
       "      <td>1</td>\n",
       "      <td>10</td>\n",
       "      <td>0</td>\n",
       "      <td>0</td>\n",
       "    </tr>\n",
       "    <tr>\n",
       "      <th>3066</th>\n",
       "      <td>iq46me</td>\n",
       "      <td>NOOOOOOOO!</td>\n",
       "      <td>NaN</td>\n",
       "      <td>BL4Z32018</td>\n",
       "      <td>0</td>\n",
       "      <td>1</td>\n",
       "      <td>10</td>\n",
       "      <td>0</td>\n",
       "      <td>0</td>\n",
       "    </tr>\n",
       "    <tr>\n",
       "      <th>3319</th>\n",
       "      <td>w3js0k</td>\n",
       "      <td>PSPSPSPSPPSPSPSPSP</td>\n",
       "      <td>NaN</td>\n",
       "      <td>masterminddrv3</td>\n",
       "      <td>0</td>\n",
       "      <td>1</td>\n",
       "      <td>18</td>\n",
       "      <td>0</td>\n",
       "      <td>0</td>\n",
       "    </tr>\n",
       "    <tr>\n",
       "      <th>3851</th>\n",
       "      <td>ro7ojd</td>\n",
       "      <td>LOOOOOOOOOOOOOOOL</td>\n",
       "      <td>NaN</td>\n",
       "      <td>iambirane</td>\n",
       "      <td>0</td>\n",
       "      <td>1</td>\n",
       "      <td>17</td>\n",
       "      <td>0</td>\n",
       "      <td>0</td>\n",
       "    </tr>\n",
       "    <tr>\n",
       "      <th>2982</th>\n",
       "      <td>nrb7ro</td>\n",
       "      <td>welp..</td>\n",
       "      <td>NaN</td>\n",
       "      <td>hellserver02</td>\n",
       "      <td>0</td>\n",
       "      <td>1</td>\n",
       "      <td>6</td>\n",
       "      <td>0</td>\n",
       "      <td>0</td>\n",
       "    </tr>\n",
       "    <tr>\n",
       "      <th>3101</th>\n",
       "      <td>hphb6m</td>\n",
       "      <td>Memes</td>\n",
       "      <td>NaN</td>\n",
       "      <td>emirology</td>\n",
       "      <td>0</td>\n",
       "      <td>1</td>\n",
       "      <td>5</td>\n",
       "      <td>0</td>\n",
       "      <td>0</td>\n",
       "    </tr>\n",
       "  </tbody>\n",
       "</table>\n",
       "</div>"
      ],
      "text/plain": [
       "          id               title post_content            user  label  \\\n",
       "3878  pjsuob           Evolution          NaN             NaN      0   \n",
       "3051  j9cjl7               Ooops          NaN     jas0ndrag0n      0   \n",
       "3369  nohzbt           Thanks🥺👍.          NaN    acetrainer03      0   \n",
       "3191  jeonfw      Sheeeeeeeeshhh          NaN     HayseedHere      0   \n",
       "2960  in2aja          Awwwwwwwww          NaN    drunk-spirit      0   \n",
       "3066  iq46me          NOOOOOOOO!          NaN       BL4Z32018      0   \n",
       "3319  w3js0k  PSPSPSPSPPSPSPSPSP          NaN  masterminddrv3      0   \n",
       "3851  ro7ojd   LOOOOOOOOOOOOOOOL          NaN       iambirane      0   \n",
       "2982  nrb7ro              welp..          NaN    hellserver02      0   \n",
       "3101  hphb6m               Memes          NaN       emirology      0   \n",
       "\n",
       "      title_word_count  title_len  post_word_count  post_len  \n",
       "3878                 1          9                0         0  \n",
       "3051                 1          5                0         0  \n",
       "3369                 1          9                0         0  \n",
       "3191                 1         14                0         0  \n",
       "2960                 1         10                0         0  \n",
       "3066                 1         10                0         0  \n",
       "3319                 1         18                0         0  \n",
       "3851                 1         17                0         0  \n",
       "2982                 1          6                0         0  \n",
       "3101                 1          5                0         0  "
      ]
     },
     "metadata": {},
     "output_type": "display_data"
    }
   ],
   "source": [
    "arrange_by(df, 'title_word_count', 10)"
   ]
  },
  {
   "cell_type": "code",
   "execution_count": 13,
   "id": "1f756275-231a-4051-aedd-d9d796ce99ba",
   "metadata": {},
   "outputs": [
    {
     "data": {
      "text/html": [
       "<div>\n",
       "<style scoped>\n",
       "    .dataframe tbody tr th:only-of-type {\n",
       "        vertical-align: middle;\n",
       "    }\n",
       "\n",
       "    .dataframe tbody tr th {\n",
       "        vertical-align: top;\n",
       "    }\n",
       "\n",
       "    .dataframe thead th {\n",
       "        text-align: right;\n",
       "    }\n",
       "</style>\n",
       "<table border=\"1\" class=\"dataframe\">\n",
       "  <thead>\n",
       "    <tr style=\"text-align: right;\">\n",
       "      <th></th>\n",
       "      <th>id</th>\n",
       "      <th>title</th>\n",
       "      <th>post_content</th>\n",
       "      <th>user</th>\n",
       "      <th>label</th>\n",
       "      <th>title_word_count</th>\n",
       "      <th>title_len</th>\n",
       "      <th>post_word_count</th>\n",
       "      <th>post_len</th>\n",
       "    </tr>\n",
       "  </thead>\n",
       "  <tbody>\n",
       "    <tr>\n",
       "      <th>555</th>\n",
       "      <td>zwybid</td>\n",
       "      <td>Untangling the Mario and Donkey Kong Timelines...</td>\n",
       "      <td>The Super Mario and Donkey Kong series have a ...</td>\n",
       "      <td>Cydrius</td>\n",
       "      <td>1</td>\n",
       "      <td>12</td>\n",
       "      <td>70</td>\n",
       "      <td>2003</td>\n",
       "      <td>14044</td>\n",
       "    </tr>\n",
       "    <tr>\n",
       "      <th>1298</th>\n",
       "      <td>a8vev8</td>\n",
       "      <td>Masahiro Sakurai did not leave HAL after \"gett...</td>\n",
       "      <td>Hello everyone. This is something I wanted to ...</td>\n",
       "      <td>EvanD0</td>\n",
       "      <td>1</td>\n",
       "      <td>19</td>\n",
       "      <td>105</td>\n",
       "      <td>2400</td>\n",
       "      <td>13715</td>\n",
       "    </tr>\n",
       "    <tr>\n",
       "      <th>242</th>\n",
       "      <td>10wx8ud</td>\n",
       "      <td>Fifty OUTLANDISH predictions for the Feb '23 N...</td>\n",
       "      <td>Hi r/Nintendo!\\n\\nI've put together a list of ...</td>\n",
       "      <td>redlord990</td>\n",
       "      <td>1</td>\n",
       "      <td>9</td>\n",
       "      <td>60</td>\n",
       "      <td>1966</td>\n",
       "      <td>11083</td>\n",
       "    </tr>\n",
       "    <tr>\n",
       "      <th>883</th>\n",
       "      <td>z0t9z8</td>\n",
       "      <td>On This Day in Nintendo History: Super Nintend...</td>\n",
       "      <td>#On this day (November 21) in Nintendo history...</td>\n",
       "      <td>RoboticOperatingBudd</td>\n",
       "      <td>1</td>\n",
       "      <td>27</td>\n",
       "      <td>158</td>\n",
       "      <td>1275</td>\n",
       "      <td>8028</td>\n",
       "    </tr>\n",
       "    <tr>\n",
       "      <th>605</th>\n",
       "      <td>zs4jkd</td>\n",
       "      <td>Nintendo’s Many Video Game References to Hanaf...</td>\n",
       "      <td>I made a list of all the times I could find th...</td>\n",
       "      <td>skyevlyn</td>\n",
       "      <td>1</td>\n",
       "      <td>9</td>\n",
       "      <td>62</td>\n",
       "      <td>950</td>\n",
       "      <td>7858</td>\n",
       "    </tr>\n",
       "    <tr>\n",
       "      <th>579</th>\n",
       "      <td>zu56vx</td>\n",
       "      <td>On This Day in Nintendo History: Bird &amp; Beans;...</td>\n",
       "      <td>#On this day (December 24) in Nintendo history...</td>\n",
       "      <td>RoboticOperatingBudd</td>\n",
       "      <td>1</td>\n",
       "      <td>20</td>\n",
       "      <td>124</td>\n",
       "      <td>1320</td>\n",
       "      <td>7811</td>\n",
       "    </tr>\n",
       "    <tr>\n",
       "      <th>1698</th>\n",
       "      <td>ag87oe</td>\n",
       "      <td>NINTENDO UK: The most appalling customer servi...</td>\n",
       "      <td>&amp;#x200B;\\n\\nhttps://preview.redd.it/3suwr2v04l...</td>\n",
       "      <td>doubledanker</td>\n",
       "      <td>1</td>\n",
       "      <td>10</td>\n",
       "      <td>68</td>\n",
       "      <td>1165</td>\n",
       "      <td>7723</td>\n",
       "    </tr>\n",
       "    <tr>\n",
       "      <th>71</th>\n",
       "      <td>117y3rq</td>\n",
       "      <td>On This Day in Nintendo History: Helmet; Famil...</td>\n",
       "      <td>#On this day (February 21) in Nintendo history...</td>\n",
       "      <td>RoboticOperatingBudd</td>\n",
       "      <td>1</td>\n",
       "      <td>22</td>\n",
       "      <td>125</td>\n",
       "      <td>1254</td>\n",
       "      <td>7367</td>\n",
       "    </tr>\n",
       "    <tr>\n",
       "      <th>872</th>\n",
       "      <td>z1p43g</td>\n",
       "      <td>Completed the game - A balanced review from a ...</td>\n",
       "      <td>Pokémon Violet  \\n\\n\\nContext: I am a AAA game...</td>\n",
       "      <td>J-3D1</td>\n",
       "      <td>1</td>\n",
       "      <td>11</td>\n",
       "      <td>60</td>\n",
       "      <td>1197</td>\n",
       "      <td>6657</td>\n",
       "    </tr>\n",
       "    <tr>\n",
       "      <th>310</th>\n",
       "      <td>10q16e8</td>\n",
       "      <td>Hot take: I’m not really excited for any more ...</td>\n",
       "      <td>With rumors of a [new Mario Baseball game](htt...</td>\n",
       "      <td>Asad_Farooqui</td>\n",
       "      <td>1</td>\n",
       "      <td>13</td>\n",
       "      <td>74</td>\n",
       "      <td>985</td>\n",
       "      <td>5833</td>\n",
       "    </tr>\n",
       "  </tbody>\n",
       "</table>\n",
       "</div>"
      ],
      "text/plain": [
       "           id                                              title  \\\n",
       "555    zwybid  Untangling the Mario and Donkey Kong Timelines...   \n",
       "1298   a8vev8  Masahiro Sakurai did not leave HAL after \"gett...   \n",
       "242   10wx8ud  Fifty OUTLANDISH predictions for the Feb '23 N...   \n",
       "883    z0t9z8  On This Day in Nintendo History: Super Nintend...   \n",
       "605    zs4jkd  Nintendo’s Many Video Game References to Hanaf...   \n",
       "579    zu56vx  On This Day in Nintendo History: Bird & Beans;...   \n",
       "1698   ag87oe  NINTENDO UK: The most appalling customer servi...   \n",
       "71    117y3rq  On This Day in Nintendo History: Helmet; Famil...   \n",
       "872    z1p43g  Completed the game - A balanced review from a ...   \n",
       "310   10q16e8  Hot take: I’m not really excited for any more ...   \n",
       "\n",
       "                                           post_content                  user  \\\n",
       "555   The Super Mario and Donkey Kong series have a ...               Cydrius   \n",
       "1298  Hello everyone. This is something I wanted to ...                EvanD0   \n",
       "242   Hi r/Nintendo!\\n\\nI've put together a list of ...            redlord990   \n",
       "883   #On this day (November 21) in Nintendo history...  RoboticOperatingBudd   \n",
       "605   I made a list of all the times I could find th...              skyevlyn   \n",
       "579   #On this day (December 24) in Nintendo history...  RoboticOperatingBudd   \n",
       "1698  &#x200B;\\n\\nhttps://preview.redd.it/3suwr2v04l...          doubledanker   \n",
       "71    #On this day (February 21) in Nintendo history...  RoboticOperatingBudd   \n",
       "872   Pokémon Violet  \\n\\n\\nContext: I am a AAA game...                 J-3D1   \n",
       "310   With rumors of a [new Mario Baseball game](htt...         Asad_Farooqui   \n",
       "\n",
       "      label  title_word_count  title_len  post_word_count  post_len  \n",
       "555       1                12         70             2003     14044  \n",
       "1298      1                19        105             2400     13715  \n",
       "242       1                 9         60             1966     11083  \n",
       "883       1                27        158             1275      8028  \n",
       "605       1                 9         62              950      7858  \n",
       "579       1                20        124             1320      7811  \n",
       "1698      1                10         68             1165      7723  \n",
       "71        1                22        125             1254      7367  \n",
       "872       1                11         60             1197      6657  \n",
       "310       1                13         74              985      5833  "
      ]
     },
     "metadata": {},
     "output_type": "display_data"
    },
    {
     "data": {
      "text/html": [
       "<div>\n",
       "<style scoped>\n",
       "    .dataframe tbody tr th:only-of-type {\n",
       "        vertical-align: middle;\n",
       "    }\n",
       "\n",
       "    .dataframe tbody tr th {\n",
       "        vertical-align: top;\n",
       "    }\n",
       "\n",
       "    .dataframe thead th {\n",
       "        text-align: right;\n",
       "    }\n",
       "</style>\n",
       "<table border=\"1\" class=\"dataframe\">\n",
       "  <thead>\n",
       "    <tr style=\"text-align: right;\">\n",
       "      <th></th>\n",
       "      <th>id</th>\n",
       "      <th>title</th>\n",
       "      <th>post_content</th>\n",
       "      <th>user</th>\n",
       "      <th>label</th>\n",
       "      <th>title_word_count</th>\n",
       "      <th>title_len</th>\n",
       "      <th>post_word_count</th>\n",
       "      <th>post_len</th>\n",
       "    </tr>\n",
       "  </thead>\n",
       "  <tbody>\n",
       "    <tr>\n",
       "      <th>2884</th>\n",
       "      <td>118dbac</td>\n",
       "      <td>How is the spider Man game on Ps5 thinking of ...</td>\n",
       "      <td>Thanks</td>\n",
       "      <td>Ryvick2</td>\n",
       "      <td>0</td>\n",
       "      <td>22</td>\n",
       "      <td>101</td>\n",
       "      <td>1</td>\n",
       "      <td>6</td>\n",
       "    </tr>\n",
       "    <tr>\n",
       "      <th>2307</th>\n",
       "      <td>11aqcua</td>\n",
       "      <td>How is the the quarry love until dawn but it w...</td>\n",
       "      <td>Thanks</td>\n",
       "      <td>Ryvick2</td>\n",
       "      <td>0</td>\n",
       "      <td>25</td>\n",
       "      <td>110</td>\n",
       "      <td>1</td>\n",
       "      <td>6</td>\n",
       "    </tr>\n",
       "    <tr>\n",
       "      <th>2408</th>\n",
       "      <td>11ajlem</td>\n",
       "      <td>if i get a ps5 with ps plus but already have p...</td>\n",
       "      <td>Title.</td>\n",
       "      <td>Jdubusher1011</td>\n",
       "      <td>0</td>\n",
       "      <td>23</td>\n",
       "      <td>89</td>\n",
       "      <td>1</td>\n",
       "      <td>6</td>\n",
       "    </tr>\n",
       "    <tr>\n",
       "      <th>2561</th>\n",
       "      <td>119i8vz</td>\n",
       "      <td>Add a search bar to the game library</td>\n",
       "      <td>Title</td>\n",
       "      <td>Awge1629</td>\n",
       "      <td>0</td>\n",
       "      <td>8</td>\n",
       "      <td>36</td>\n",
       "      <td>1</td>\n",
       "      <td>5</td>\n",
       "    </tr>\n",
       "    <tr>\n",
       "      <th>2329</th>\n",
       "      <td>11aoahb</td>\n",
       "      <td>Why is black ops coldwar stuck at 2.26 gigabytes</td>\n",
       "      <td>Help</td>\n",
       "      <td>AndreiTdm</td>\n",
       "      <td>0</td>\n",
       "      <td>9</td>\n",
       "      <td>48</td>\n",
       "      <td>1</td>\n",
       "      <td>4</td>\n",
       "    </tr>\n",
       "    <tr>\n",
       "      <th>2163</th>\n",
       "      <td>11bit1e</td>\n",
       "      <td>I tried to talk to sony live chat the past few...</td>\n",
       "      <td>Help</td>\n",
       "      <td>doomxx275</td>\n",
       "      <td>0</td>\n",
       "      <td>25</td>\n",
       "      <td>122</td>\n",
       "      <td>1</td>\n",
       "      <td>4</td>\n",
       "    </tr>\n",
       "    <tr>\n",
       "      <th>2041</th>\n",
       "      <td>11c5o7q</td>\n",
       "      <td>Hey guys i want to know where is the profile p...</td>\n",
       "      <td>Help</td>\n",
       "      <td>Common_Act6598</td>\n",
       "      <td>0</td>\n",
       "      <td>26</td>\n",
       "      <td>121</td>\n",
       "      <td>1</td>\n",
       "      <td>4</td>\n",
       "    </tr>\n",
       "    <tr>\n",
       "      <th>2596</th>\n",
       "      <td>119ensg</td>\n",
       "      <td>Hi so my freinds can’t hear my voice in their ...</td>\n",
       "      <td>Ps5</td>\n",
       "      <td>SeparateKnowledge292</td>\n",
       "      <td>0</td>\n",
       "      <td>22</td>\n",
       "      <td>99</td>\n",
       "      <td>1</td>\n",
       "      <td>3</td>\n",
       "    </tr>\n",
       "    <tr>\n",
       "      <th>2632</th>\n",
       "      <td>119f8n7</td>\n",
       "      <td>Can't connect to Playstation Network, however ...</td>\n",
       "      <td>.</td>\n",
       "      <td>IDontKnoWhoBobRossIs</td>\n",
       "      <td>0</td>\n",
       "      <td>11</td>\n",
       "      <td>73</td>\n",
       "      <td>1</td>\n",
       "      <td>1</td>\n",
       "    </tr>\n",
       "    <tr>\n",
       "      <th>2016</th>\n",
       "      <td>11c5om1</td>\n",
       "      <td>Do all PS4 exclusive titles have some sort of ...</td>\n",
       "      <td>^</td>\n",
       "      <td>KneePP</td>\n",
       "      <td>0</td>\n",
       "      <td>15</td>\n",
       "      <td>77</td>\n",
       "      <td>1</td>\n",
       "      <td>1</td>\n",
       "    </tr>\n",
       "  </tbody>\n",
       "</table>\n",
       "</div>"
      ],
      "text/plain": [
       "           id                                              title post_content  \\\n",
       "2884  118dbac  How is the spider Man game on Ps5 thinking of ...       Thanks   \n",
       "2307  11aqcua  How is the the quarry love until dawn but it w...       Thanks   \n",
       "2408  11ajlem  if i get a ps5 with ps plus but already have p...       Title.   \n",
       "2561  119i8vz               Add a search bar to the game library        Title   \n",
       "2329  11aoahb   Why is black ops coldwar stuck at 2.26 gigabytes         Help   \n",
       "2163  11bit1e  I tried to talk to sony live chat the past few...         Help   \n",
       "2041  11c5o7q  Hey guys i want to know where is the profile p...         Help   \n",
       "2596  119ensg  Hi so my freinds can’t hear my voice in their ...          Ps5   \n",
       "2632  119f8n7  Can't connect to Playstation Network, however ...            .   \n",
       "2016  11c5om1  Do all PS4 exclusive titles have some sort of ...            ^   \n",
       "\n",
       "                      user  label  title_word_count  title_len  \\\n",
       "2884               Ryvick2      0                22        101   \n",
       "2307               Ryvick2      0                25        110   \n",
       "2408         Jdubusher1011      0                23         89   \n",
       "2561              Awge1629      0                 8         36   \n",
       "2329             AndreiTdm      0                 9         48   \n",
       "2163             doomxx275      0                25        122   \n",
       "2041        Common_Act6598      0                26        121   \n",
       "2596  SeparateKnowledge292      0                22         99   \n",
       "2632  IDontKnoWhoBobRossIs      0                11         73   \n",
       "2016                KneePP      0                15         77   \n",
       "\n",
       "      post_word_count  post_len  \n",
       "2884                1         6  \n",
       "2307                1         6  \n",
       "2408                1         6  \n",
       "2561                1         5  \n",
       "2329                1         4  \n",
       "2163                1         4  \n",
       "2041                1         4  \n",
       "2596                1         3  \n",
       "2632                1         1  \n",
       "2016                1         1  "
      ]
     },
     "metadata": {},
     "output_type": "display_data"
    }
   ],
   "source": [
    "arrange_by(df, 'post_len', rows_shown=10)"
   ]
  },
  {
   "cell_type": "code",
   "execution_count": 14,
   "id": "24072396-7e58-4c3a-b934-93c596639bf2",
   "metadata": {},
   "outputs": [
    {
     "data": {
      "text/html": [
       "<div>\n",
       "<style scoped>\n",
       "    .dataframe tbody tr th:only-of-type {\n",
       "        vertical-align: middle;\n",
       "    }\n",
       "\n",
       "    .dataframe tbody tr th {\n",
       "        vertical-align: top;\n",
       "    }\n",
       "\n",
       "    .dataframe thead th {\n",
       "        text-align: right;\n",
       "    }\n",
       "</style>\n",
       "<table border=\"1\" class=\"dataframe\">\n",
       "  <thead>\n",
       "    <tr style=\"text-align: right;\">\n",
       "      <th></th>\n",
       "      <th>id</th>\n",
       "      <th>title</th>\n",
       "      <th>post_content</th>\n",
       "      <th>user</th>\n",
       "      <th>label</th>\n",
       "      <th>title_word_count</th>\n",
       "      <th>title_len</th>\n",
       "      <th>post_word_count</th>\n",
       "      <th>post_len</th>\n",
       "    </tr>\n",
       "  </thead>\n",
       "  <tbody>\n",
       "    <tr>\n",
       "      <th>1298</th>\n",
       "      <td>a8vev8</td>\n",
       "      <td>Masahiro Sakurai did not leave HAL after \"gett...</td>\n",
       "      <td>Hello everyone. This is something I wanted to ...</td>\n",
       "      <td>EvanD0</td>\n",
       "      <td>1</td>\n",
       "      <td>19</td>\n",
       "      <td>105</td>\n",
       "      <td>2400</td>\n",
       "      <td>13715</td>\n",
       "    </tr>\n",
       "    <tr>\n",
       "      <th>555</th>\n",
       "      <td>zwybid</td>\n",
       "      <td>Untangling the Mario and Donkey Kong Timelines...</td>\n",
       "      <td>The Super Mario and Donkey Kong series have a ...</td>\n",
       "      <td>Cydrius</td>\n",
       "      <td>1</td>\n",
       "      <td>12</td>\n",
       "      <td>70</td>\n",
       "      <td>2003</td>\n",
       "      <td>14044</td>\n",
       "    </tr>\n",
       "    <tr>\n",
       "      <th>242</th>\n",
       "      <td>10wx8ud</td>\n",
       "      <td>Fifty OUTLANDISH predictions for the Feb '23 N...</td>\n",
       "      <td>Hi r/Nintendo!\\n\\nI've put together a list of ...</td>\n",
       "      <td>redlord990</td>\n",
       "      <td>1</td>\n",
       "      <td>9</td>\n",
       "      <td>60</td>\n",
       "      <td>1966</td>\n",
       "      <td>11083</td>\n",
       "    </tr>\n",
       "    <tr>\n",
       "      <th>579</th>\n",
       "      <td>zu56vx</td>\n",
       "      <td>On This Day in Nintendo History: Bird &amp; Beans;...</td>\n",
       "      <td>#On this day (December 24) in Nintendo history...</td>\n",
       "      <td>RoboticOperatingBudd</td>\n",
       "      <td>1</td>\n",
       "      <td>20</td>\n",
       "      <td>124</td>\n",
       "      <td>1320</td>\n",
       "      <td>7811</td>\n",
       "    </tr>\n",
       "    <tr>\n",
       "      <th>883</th>\n",
       "      <td>z0t9z8</td>\n",
       "      <td>On This Day in Nintendo History: Super Nintend...</td>\n",
       "      <td>#On this day (November 21) in Nintendo history...</td>\n",
       "      <td>RoboticOperatingBudd</td>\n",
       "      <td>1</td>\n",
       "      <td>27</td>\n",
       "      <td>158</td>\n",
       "      <td>1275</td>\n",
       "      <td>8028</td>\n",
       "    </tr>\n",
       "    <tr>\n",
       "      <th>71</th>\n",
       "      <td>117y3rq</td>\n",
       "      <td>On This Day in Nintendo History: Helmet; Famil...</td>\n",
       "      <td>#On this day (February 21) in Nintendo history...</td>\n",
       "      <td>RoboticOperatingBudd</td>\n",
       "      <td>1</td>\n",
       "      <td>22</td>\n",
       "      <td>125</td>\n",
       "      <td>1254</td>\n",
       "      <td>7367</td>\n",
       "    </tr>\n",
       "    <tr>\n",
       "      <th>872</th>\n",
       "      <td>z1p43g</td>\n",
       "      <td>Completed the game - A balanced review from a ...</td>\n",
       "      <td>Pokémon Violet  \\n\\n\\nContext: I am a AAA game...</td>\n",
       "      <td>J-3D1</td>\n",
       "      <td>1</td>\n",
       "      <td>11</td>\n",
       "      <td>60</td>\n",
       "      <td>1197</td>\n",
       "      <td>6657</td>\n",
       "    </tr>\n",
       "    <tr>\n",
       "      <th>1698</th>\n",
       "      <td>ag87oe</td>\n",
       "      <td>NINTENDO UK: The most appalling customer servi...</td>\n",
       "      <td>&amp;#x200B;\\n\\nhttps://preview.redd.it/3suwr2v04l...</td>\n",
       "      <td>doubledanker</td>\n",
       "      <td>1</td>\n",
       "      <td>10</td>\n",
       "      <td>68</td>\n",
       "      <td>1165</td>\n",
       "      <td>7723</td>\n",
       "    </tr>\n",
       "    <tr>\n",
       "      <th>1131</th>\n",
       "      <td>7ahneb</td>\n",
       "      <td>I have Parkinson's disease and I need to vent ...</td>\n",
       "      <td>#Final Edit: So many of you have been amazing....</td>\n",
       "      <td>Thopterthallid</td>\n",
       "      <td>1</td>\n",
       "      <td>17</td>\n",
       "      <td>94</td>\n",
       "      <td>1075</td>\n",
       "      <td>5790</td>\n",
       "    </tr>\n",
       "    <tr>\n",
       "      <th>1635</th>\n",
       "      <td>58bidw</td>\n",
       "      <td>Trying to get in touch with Nintendo for my br...</td>\n",
       "      <td>Hey everybody,\\n\\nI hope this is the best plac...</td>\n",
       "      <td>jaimage</td>\n",
       "      <td>1</td>\n",
       "      <td>26</td>\n",
       "      <td>124</td>\n",
       "      <td>1016</td>\n",
       "      <td>5639</td>\n",
       "    </tr>\n",
       "  </tbody>\n",
       "</table>\n",
       "</div>"
      ],
      "text/plain": [
       "           id                                              title  \\\n",
       "1298   a8vev8  Masahiro Sakurai did not leave HAL after \"gett...   \n",
       "555    zwybid  Untangling the Mario and Donkey Kong Timelines...   \n",
       "242   10wx8ud  Fifty OUTLANDISH predictions for the Feb '23 N...   \n",
       "579    zu56vx  On This Day in Nintendo History: Bird & Beans;...   \n",
       "883    z0t9z8  On This Day in Nintendo History: Super Nintend...   \n",
       "71    117y3rq  On This Day in Nintendo History: Helmet; Famil...   \n",
       "872    z1p43g  Completed the game - A balanced review from a ...   \n",
       "1698   ag87oe  NINTENDO UK: The most appalling customer servi...   \n",
       "1131   7ahneb  I have Parkinson's disease and I need to vent ...   \n",
       "1635   58bidw  Trying to get in touch with Nintendo for my br...   \n",
       "\n",
       "                                           post_content                  user  \\\n",
       "1298  Hello everyone. This is something I wanted to ...                EvanD0   \n",
       "555   The Super Mario and Donkey Kong series have a ...               Cydrius   \n",
       "242   Hi r/Nintendo!\\n\\nI've put together a list of ...            redlord990   \n",
       "579   #On this day (December 24) in Nintendo history...  RoboticOperatingBudd   \n",
       "883   #On this day (November 21) in Nintendo history...  RoboticOperatingBudd   \n",
       "71    #On this day (February 21) in Nintendo history...  RoboticOperatingBudd   \n",
       "872   Pokémon Violet  \\n\\n\\nContext: I am a AAA game...                 J-3D1   \n",
       "1698  &#x200B;\\n\\nhttps://preview.redd.it/3suwr2v04l...          doubledanker   \n",
       "1131  #Final Edit: So many of you have been amazing....        Thopterthallid   \n",
       "1635  Hey everybody,\\n\\nI hope this is the best plac...               jaimage   \n",
       "\n",
       "      label  title_word_count  title_len  post_word_count  post_len  \n",
       "1298      1                19        105             2400     13715  \n",
       "555       1                12         70             2003     14044  \n",
       "242       1                 9         60             1966     11083  \n",
       "579       1                20        124             1320      7811  \n",
       "883       1                27        158             1275      8028  \n",
       "71        1                22        125             1254      7367  \n",
       "872       1                11         60             1197      6657  \n",
       "1698      1                10         68             1165      7723  \n",
       "1131      1                17         94             1075      5790  \n",
       "1635      1                26        124             1016      5639  "
      ]
     },
     "metadata": {},
     "output_type": "display_data"
    },
    {
     "data": {
      "text/html": [
       "<div>\n",
       "<style scoped>\n",
       "    .dataframe tbody tr th:only-of-type {\n",
       "        vertical-align: middle;\n",
       "    }\n",
       "\n",
       "    .dataframe tbody tr th {\n",
       "        vertical-align: top;\n",
       "    }\n",
       "\n",
       "    .dataframe thead th {\n",
       "        text-align: right;\n",
       "    }\n",
       "</style>\n",
       "<table border=\"1\" class=\"dataframe\">\n",
       "  <thead>\n",
       "    <tr style=\"text-align: right;\">\n",
       "      <th></th>\n",
       "      <th>id</th>\n",
       "      <th>title</th>\n",
       "      <th>post_content</th>\n",
       "      <th>user</th>\n",
       "      <th>label</th>\n",
       "      <th>title_word_count</th>\n",
       "      <th>title_len</th>\n",
       "      <th>post_word_count</th>\n",
       "      <th>post_len</th>\n",
       "    </tr>\n",
       "  </thead>\n",
       "  <tbody>\n",
       "    <tr>\n",
       "      <th>862</th>\n",
       "      <td>z26s4o</td>\n",
       "      <td>Black Friday eShop sale is live through 12/4 (US)</td>\n",
       "      <td>https://www.nintendo.com/store/sales-and-deals...</td>\n",
       "      <td>DreamLimbo</td>\n",
       "      <td>1</td>\n",
       "      <td>9</td>\n",
       "      <td>49</td>\n",
       "      <td>1</td>\n",
       "      <td>59</td>\n",
       "    </tr>\n",
       "    <tr>\n",
       "      <th>2041</th>\n",
       "      <td>11c5o7q</td>\n",
       "      <td>Hey guys i want to know where is the profile p...</td>\n",
       "      <td>Help</td>\n",
       "      <td>Common_Act6598</td>\n",
       "      <td>0</td>\n",
       "      <td>26</td>\n",
       "      <td>121</td>\n",
       "      <td>1</td>\n",
       "      <td>4</td>\n",
       "    </tr>\n",
       "    <tr>\n",
       "      <th>2307</th>\n",
       "      <td>11aqcua</td>\n",
       "      <td>How is the the quarry love until dawn but it w...</td>\n",
       "      <td>Thanks</td>\n",
       "      <td>Ryvick2</td>\n",
       "      <td>0</td>\n",
       "      <td>25</td>\n",
       "      <td>110</td>\n",
       "      <td>1</td>\n",
       "      <td>6</td>\n",
       "    </tr>\n",
       "    <tr>\n",
       "      <th>258</th>\n",
       "      <td>10vv7gz</td>\n",
       "      <td>Mario Kart 8 has sold 52 million copies, ANCH ...</td>\n",
       "      <td>[https://www.nintendo.co.jp/ir/en/finance/soft...</td>\n",
       "      <td>mzachi</td>\n",
       "      <td>1</td>\n",
       "      <td>28</td>\n",
       "      <td>169</td>\n",
       "      <td>1</td>\n",
       "      <td>124</td>\n",
       "    </tr>\n",
       "    <tr>\n",
       "      <th>2561</th>\n",
       "      <td>119i8vz</td>\n",
       "      <td>Add a search bar to the game library</td>\n",
       "      <td>Title</td>\n",
       "      <td>Awge1629</td>\n",
       "      <td>0</td>\n",
       "      <td>8</td>\n",
       "      <td>36</td>\n",
       "      <td>1</td>\n",
       "      <td>5</td>\n",
       "    </tr>\n",
       "    <tr>\n",
       "      <th>782</th>\n",
       "      <td>zab20q</td>\n",
       "      <td>Nintendo uploaded the full Animal Crossing + S...</td>\n",
       "      <td>🧑‍🎤👩‍🎤👨‍🎤</td>\n",
       "      <td>SirNintendo28</td>\n",
       "      <td>1</td>\n",
       "      <td>13</td>\n",
       "      <td>83</td>\n",
       "      <td>1</td>\n",
       "      <td>9</td>\n",
       "    </tr>\n",
       "    <tr>\n",
       "      <th>1450</th>\n",
       "      <td>5wvkir</td>\n",
       "      <td>The Legend of Zelda: Breath of the Wild awarde...</td>\n",
       "      <td>http://gematsu.com/2017/03/famitsu-review-scor...</td>\n",
       "      <td>Space__Explorer</td>\n",
       "      <td>1</td>\n",
       "      <td>13</td>\n",
       "      <td>73</td>\n",
       "      <td>1</td>\n",
       "      <td>59</td>\n",
       "    </tr>\n",
       "    <tr>\n",
       "      <th>2884</th>\n",
       "      <td>118dbac</td>\n",
       "      <td>How is the spider Man game on Ps5 thinking of ...</td>\n",
       "      <td>Thanks</td>\n",
       "      <td>Ryvick2</td>\n",
       "      <td>0</td>\n",
       "      <td>22</td>\n",
       "      <td>101</td>\n",
       "      <td>1</td>\n",
       "      <td>6</td>\n",
       "    </tr>\n",
       "    <tr>\n",
       "      <th>2669</th>\n",
       "      <td>119iqoq</td>\n",
       "      <td>days gone 2 petition</td>\n",
       "      <td>https://chng.it/dJDKmDXjT9</td>\n",
       "      <td>Awakebarlow99</td>\n",
       "      <td>0</td>\n",
       "      <td>4</td>\n",
       "      <td>20</td>\n",
       "      <td>1</td>\n",
       "      <td>26</td>\n",
       "    </tr>\n",
       "    <tr>\n",
       "      <th>2596</th>\n",
       "      <td>119ensg</td>\n",
       "      <td>Hi so my freinds can’t hear my voice in their ...</td>\n",
       "      <td>Ps5</td>\n",
       "      <td>SeparateKnowledge292</td>\n",
       "      <td>0</td>\n",
       "      <td>22</td>\n",
       "      <td>99</td>\n",
       "      <td>1</td>\n",
       "      <td>3</td>\n",
       "    </tr>\n",
       "  </tbody>\n",
       "</table>\n",
       "</div>"
      ],
      "text/plain": [
       "           id                                              title  \\\n",
       "862    z26s4o  Black Friday eShop sale is live through 12/4 (US)   \n",
       "2041  11c5o7q  Hey guys i want to know where is the profile p...   \n",
       "2307  11aqcua  How is the the quarry love until dawn but it w...   \n",
       "258   10vv7gz  Mario Kart 8 has sold 52 million copies, ANCH ...   \n",
       "2561  119i8vz               Add a search bar to the game library   \n",
       "782    zab20q  Nintendo uploaded the full Animal Crossing + S...   \n",
       "1450   5wvkir  The Legend of Zelda: Breath of the Wild awarde...   \n",
       "2884  118dbac  How is the spider Man game on Ps5 thinking of ...   \n",
       "2669  119iqoq                               days gone 2 petition   \n",
       "2596  119ensg  Hi so my freinds can’t hear my voice in their ...   \n",
       "\n",
       "                                           post_content                  user  \\\n",
       "862   https://www.nintendo.com/store/sales-and-deals...            DreamLimbo   \n",
       "2041                                               Help        Common_Act6598   \n",
       "2307                                             Thanks               Ryvick2   \n",
       "258   [https://www.nintendo.co.jp/ir/en/finance/soft...                mzachi   \n",
       "2561                                              Title              Awge1629   \n",
       "782                                           🧑‍🎤👩‍🎤👨‍🎤         SirNintendo28   \n",
       "1450  http://gematsu.com/2017/03/famitsu-review-scor...       Space__Explorer   \n",
       "2884                                             Thanks               Ryvick2   \n",
       "2669                         https://chng.it/dJDKmDXjT9         Awakebarlow99   \n",
       "2596                                                Ps5  SeparateKnowledge292   \n",
       "\n",
       "      label  title_word_count  title_len  post_word_count  post_len  \n",
       "862       1                 9         49                1        59  \n",
       "2041      0                26        121                1         4  \n",
       "2307      0                25        110                1         6  \n",
       "258       1                28        169                1       124  \n",
       "2561      0                 8         36                1         5  \n",
       "782       1                13         83                1         9  \n",
       "1450      1                13         73                1        59  \n",
       "2884      0                22        101                1         6  \n",
       "2669      0                 4         20                1        26  \n",
       "2596      0                22         99                1         3  "
      ]
     },
     "metadata": {},
     "output_type": "display_data"
    }
   ],
   "source": [
    "arrange_by(df, 'post_word_count', rows_shown=10)"
   ]
  },
  {
   "cell_type": "markdown",
   "id": "84a954dd-fa6a-4d30-b1d2-1d311cf3a676",
   "metadata": {},
   "source": [
    "Look back the the 2 seperate df and check for the type of post.  \n",
    "E.g, posts with links, posts with pics."
   ]
  },
  {
   "cell_type": "code",
   "execution_count": 15,
   "id": "eb6c5f89-c129-4d41-bb48-e78b0fda7f2a",
   "metadata": {},
   "outputs": [
    {
     "data": {
      "text/plain": [
       "id                 0\n",
       "title              0\n",
       "post_content    1271\n",
       "user             117\n",
       "label              0\n",
       "dtype: int64"
      ]
     },
     "execution_count": 15,
     "metadata": {},
     "output_type": "execute_result"
    }
   ],
   "source": [
    "ns_df.isnull().sum()"
   ]
  },
  {
   "cell_type": "code",
   "execution_count": 16,
   "id": "af3b3c16-545f-4193-9e35-6a463f580b9a",
   "metadata": {},
   "outputs": [
    {
     "data": {
      "text/plain": [
       "id                 0\n",
       "title              0\n",
       "post_content    1309\n",
       "user              62\n",
       "label              0\n",
       "dtype: int64"
      ]
     },
     "execution_count": 16,
     "metadata": {},
     "output_type": "execute_result"
    }
   ],
   "source": [
    "ps_df.isnull().sum()"
   ]
  },
  {
   "cell_type": "markdown",
   "id": "6778caef-f9eb-4ee4-8135-a1c859ac2bc7",
   "metadata": {},
   "source": [
    "As can be seen, its is difficult to tell which post come fro where by using information like post_content, since both contains a lot of missing contents, which is probably images.  \n",
    "As for using the author to predict the source, although possible, as shown later, is kind of cheating.  \n",
    "So this method will also not be used.  "
   ]
  },
  {
   "cell_type": "code",
   "execution_count": 17,
   "id": "c6cdb325-cb25-40fd-89fa-eae999b84725",
   "metadata": {},
   "outputs": [],
   "source": [
    "def count_emoji(dataframe, texts):\n",
    "    '''Find number of emoji in title\n",
    "    '''\n",
    "    emoji_pattern = re.compile(\"[\"\n",
    "                           u\"\\U0001F600-\\U0001F64F\"  # emoticons\n",
    "                           u\"\\U0001F300-\\U0001F5FF\"  # symbols & pictographs\n",
    "                           u\"\\U0001F680-\\U0001F6FF\"  # transport & map symbols\n",
    "                           u\"\\U0001F1E0-\\U0001F1FF\"  # flags (iOS)\n",
    "                           \"]+\", flags=re.UNICODE)\n",
    "    emojis_num = [len(emoji_pattern.findall(text)) for text in texts]\n",
    "    emoji_posts = [1 if (len(emoji_pattern.findall(text)) >= 1) else 0 for text in texts]\n",
    "    dataframe['emoji_num'] = emojis_num\n",
    "    dataframe['emoji_post'] = emoji_posts"
   ]
  },
  {
   "cell_type": "code",
   "execution_count": 18,
   "id": "8b0131a1-3cd4-4b5e-982b-76d8d2e25799",
   "metadata": {},
   "outputs": [],
   "source": [
    "count_emoji(df, df['title'])"
   ]
  },
  {
   "cell_type": "code",
   "execution_count": 19,
   "id": "1957767c-8971-4058-97ea-1eedfc2f05f5",
   "metadata": {},
   "outputs": [
    {
     "data": {
      "text/plain": [
       "label                 1916\n",
       "title_word_count     43220\n",
       "title_len           243755\n",
       "post_word_count     173435\n",
       "post_len            994318\n",
       "emoji_num               86\n",
       "emoji_post              76\n",
       "dtype: int64"
      ]
     },
     "execution_count": 19,
     "metadata": {},
     "output_type": "execute_result"
    }
   ],
   "source": [
    "df.sum(numeric_only=True)"
   ]
  },
  {
   "cell_type": "code",
   "execution_count": 20,
   "id": "b3425c86-8c63-4feb-88f9-d9bd98189af3",
   "metadata": {},
   "outputs": [
    {
     "data": {
      "text/plain": [
       "label         1916\n",
       "emoji_num        6\n",
       "emoji_post       6\n",
       "dtype: int64"
      ]
     },
     "execution_count": 20,
     "metadata": {},
     "output_type": "execute_result"
    }
   ],
   "source": [
    "count_emoji(ns_df, ns_df['title'])\n",
    "ns_df.sum(numeric_only=True)"
   ]
  },
  {
   "cell_type": "code",
   "execution_count": 21,
   "id": "d499ffda-0ba7-408b-9f06-120b4af98b16",
   "metadata": {},
   "outputs": [
    {
     "data": {
      "text/plain": [
       "label          0\n",
       "emoji_num     80\n",
       "emoji_post    70\n",
       "dtype: int64"
      ]
     },
     "execution_count": 21,
     "metadata": {},
     "output_type": "execute_result"
    }
   ],
   "source": [
    "count_emoji(ps_df, ps_df['title'])\n",
    "ps_df.sum(numeric_only=True)"
   ]
  },
  {
   "cell_type": "markdown",
   "id": "8c790110-b1bf-461b-92ac-edb596abb8b9",
   "metadata": {},
   "source": [
    "Wow! Okay, the playstaion users are actually using more emojis than the nintendo users!  \n",
    "Kudos to playstation users!  \n",
    "Don't think I can use them though...  \n",
    "This is because they only makes up a very very very small part of the posts."
   ]
  },
  {
   "cell_type": "code",
   "execution_count": 22,
   "id": "41c37118-19fe-4cf4-bbcf-9d97a49a406b",
   "metadata": {},
   "outputs": [],
   "source": [
    "df.to_csv('../data/combined_df.csv', index_label=False, index=None)"
   ]
  },
  {
   "cell_type": "markdown",
   "id": "c9353a7d-8965-4a67-b43b-ab5d95e7b89c",
   "metadata": {},
   "source": [
    "With all the above information in mind, I now have a rough idea of what makes a long title/ post and what makes a short title/ post, emojis and also picture posts.  \n",
    "\n",
    "---\n",
    "For the longer titles, they are most about 250 to 300 characters in length.  \n",
    "They are also about 50 words in terms of word count.  \n",
    "The long titles have a high chance of having no post associated with it.  \n",
    "Maybe the title is being used to describe the image content.  \n",
    "The short titles, usually doesn't contain much information at all.  \n",
    "They do not have word posts too.  \n",
    "I guess a picture speaks a thousand words, huh.  \n",
    "\n",
    "---\n",
    "For posts, I have excluded those posts with no worded contents.  \n",
    "For the longer posts, they are short essays of thousand or even 2k words...  \n",
    "However, it seems that the title is a very breif summary of these long essays.  \n",
    "For the short posts, they contain links or single words like `thanks`, `help` etc.  \n",
    "The contents are already covered by the title.  \n",
    "\n",
    "---\n",
    "With all these considerations in mind, I might just want to look at the titles of posts alone.  "
   ]
  },
  {
   "cell_type": "code",
   "execution_count": 23,
   "id": "3350d113-3333-4abd-bc17-b5e07888e53c",
   "metadata": {},
   "outputs": [
    {
     "data": {
      "text/html": [
       "<div>\n",
       "<style scoped>\n",
       "    .dataframe tbody tr th:only-of-type {\n",
       "        vertical-align: middle;\n",
       "    }\n",
       "\n",
       "    .dataframe tbody tr th {\n",
       "        vertical-align: top;\n",
       "    }\n",
       "\n",
       "    .dataframe thead th {\n",
       "        text-align: right;\n",
       "    }\n",
       "</style>\n",
       "<table border=\"1\" class=\"dataframe\">\n",
       "  <thead>\n",
       "    <tr style=\"text-align: right;\">\n",
       "      <th></th>\n",
       "      <th>title_word_count</th>\n",
       "      <th>title_len</th>\n",
       "      <th>post_word_count</th>\n",
       "      <th>post_len</th>\n",
       "      <th>emoji_num</th>\n",
       "      <th>emoji_post</th>\n",
       "    </tr>\n",
       "    <tr>\n",
       "      <th>label</th>\n",
       "      <th></th>\n",
       "      <th></th>\n",
       "      <th></th>\n",
       "      <th></th>\n",
       "      <th></th>\n",
       "      <th></th>\n",
       "    </tr>\n",
       "  </thead>\n",
       "  <tbody>\n",
       "    <tr>\n",
       "      <th>0</th>\n",
       "      <td>9.091549</td>\n",
       "      <td>47.738934</td>\n",
       "      <td>22.973843</td>\n",
       "      <td>123.292757</td>\n",
       "      <td>0.040241</td>\n",
       "      <td>0.035211</td>\n",
       "    </tr>\n",
       "    <tr>\n",
       "      <th>1</th>\n",
       "      <td>13.124217</td>\n",
       "      <td>77.687891</td>\n",
       "      <td>66.682150</td>\n",
       "      <td>391.029228</td>\n",
       "      <td>0.003132</td>\n",
       "      <td>0.003132</td>\n",
       "    </tr>\n",
       "  </tbody>\n",
       "</table>\n",
       "</div>"
      ],
      "text/plain": [
       "       title_word_count  title_len  post_word_count    post_len  emoji_num  \\\n",
       "label                                                                        \n",
       "0              9.091549  47.738934        22.973843  123.292757   0.040241   \n",
       "1             13.124217  77.687891        66.682150  391.029228   0.003132   \n",
       "\n",
       "       emoji_post  \n",
       "label              \n",
       "0        0.035211  \n",
       "1        0.003132  "
      ]
     },
     "execution_count": 23,
     "metadata": {},
     "output_type": "execute_result"
    }
   ],
   "source": [
    "df.groupby(\"label\").mean(numeric_only=True)"
   ]
  },
  {
   "cell_type": "code",
   "execution_count": 24,
   "id": "a2b0edf8-b5ea-490f-ad9c-40d8bb814daf",
   "metadata": {},
   "outputs": [
    {
     "data": {
      "text/html": [
       "<div>\n",
       "<style scoped>\n",
       "    .dataframe tbody tr th:only-of-type {\n",
       "        vertical-align: middle;\n",
       "    }\n",
       "\n",
       "    .dataframe tbody tr th {\n",
       "        vertical-align: top;\n",
       "    }\n",
       "\n",
       "    .dataframe thead th {\n",
       "        text-align: right;\n",
       "    }\n",
       "</style>\n",
       "<table border=\"1\" class=\"dataframe\">\n",
       "  <thead>\n",
       "    <tr style=\"text-align: right;\">\n",
       "      <th></th>\n",
       "      <th>title_word_count</th>\n",
       "      <th>title_len</th>\n",
       "      <th>post_word_count</th>\n",
       "      <th>post_len</th>\n",
       "      <th>emoji_num</th>\n",
       "      <th>emoji_post</th>\n",
       "    </tr>\n",
       "    <tr>\n",
       "      <th>label</th>\n",
       "      <th></th>\n",
       "      <th></th>\n",
       "      <th></th>\n",
       "      <th></th>\n",
       "      <th></th>\n",
       "      <th></th>\n",
       "    </tr>\n",
       "  </thead>\n",
       "  <tbody>\n",
       "    <tr>\n",
       "      <th>0</th>\n",
       "      <td>7.0</td>\n",
       "      <td>38.0</td>\n",
       "      <td>0.0</td>\n",
       "      <td>0.0</td>\n",
       "      <td>0.0</td>\n",
       "      <td>0.0</td>\n",
       "    </tr>\n",
       "    <tr>\n",
       "      <th>1</th>\n",
       "      <td>11.5</td>\n",
       "      <td>68.0</td>\n",
       "      <td>0.0</td>\n",
       "      <td>0.0</td>\n",
       "      <td>0.0</td>\n",
       "      <td>0.0</td>\n",
       "    </tr>\n",
       "  </tbody>\n",
       "</table>\n",
       "</div>"
      ],
      "text/plain": [
       "       title_word_count  title_len  post_word_count  post_len  emoji_num  \\\n",
       "label                                                                      \n",
       "0                   7.0       38.0              0.0       0.0        0.0   \n",
       "1                  11.5       68.0              0.0       0.0        0.0   \n",
       "\n",
       "       emoji_post  \n",
       "label              \n",
       "0             0.0  \n",
       "1             0.0  "
      ]
     },
     "execution_count": 24,
     "metadata": {},
     "output_type": "execute_result"
    }
   ],
   "source": [
    "df.groupby(\"label\").median(numeric_only=True)"
   ]
  },
  {
   "cell_type": "code",
   "execution_count": 25,
   "id": "5c41359f-6748-41e7-aeb3-be6edd3e5290",
   "metadata": {},
   "outputs": [
    {
     "data": {
      "text/html": [
       "<div>\n",
       "<style scoped>\n",
       "    .dataframe tbody tr th:only-of-type {\n",
       "        vertical-align: middle;\n",
       "    }\n",
       "\n",
       "    .dataframe tbody tr th {\n",
       "        vertical-align: top;\n",
       "    }\n",
       "\n",
       "    .dataframe thead th {\n",
       "        text-align: right;\n",
       "    }\n",
       "</style>\n",
       "<table border=\"1\" class=\"dataframe\">\n",
       "  <thead>\n",
       "    <tr style=\"text-align: right;\">\n",
       "      <th></th>\n",
       "      <th>title_word_count</th>\n",
       "      <th>title_len</th>\n",
       "      <th>post_word_count</th>\n",
       "      <th>post_len</th>\n",
       "      <th>emoji_num</th>\n",
       "      <th>emoji_post</th>\n",
       "    </tr>\n",
       "    <tr>\n",
       "      <th>label</th>\n",
       "      <th></th>\n",
       "      <th></th>\n",
       "      <th></th>\n",
       "      <th></th>\n",
       "      <th></th>\n",
       "      <th></th>\n",
       "    </tr>\n",
       "  </thead>\n",
       "  <tbody>\n",
       "    <tr>\n",
       "      <th>0</th>\n",
       "      <td>41.499415</td>\n",
       "      <td>1079.858836</td>\n",
       "      <td>2670.515672</td>\n",
       "      <td>8.077304e+04</td>\n",
       "      <td>0.050720</td>\n",
       "      <td>0.033989</td>\n",
       "    </tr>\n",
       "    <tr>\n",
       "      <th>1</th>\n",
       "      <td>53.296311</td>\n",
       "      <td>1769.206976</td>\n",
       "      <td>29193.262365</td>\n",
       "      <td>1.044045e+06</td>\n",
       "      <td>0.003123</td>\n",
       "      <td>0.003123</td>\n",
       "    </tr>\n",
       "  </tbody>\n",
       "</table>\n",
       "</div>"
      ],
      "text/plain": [
       "       title_word_count    title_len  post_word_count      post_len  \\\n",
       "label                                                                 \n",
       "0             41.499415  1079.858836      2670.515672  8.077304e+04   \n",
       "1             53.296311  1769.206976     29193.262365  1.044045e+06   \n",
       "\n",
       "       emoji_num  emoji_post  \n",
       "label                         \n",
       "0       0.050720    0.033989  \n",
       "1       0.003123    0.003123  "
      ]
     },
     "execution_count": 25,
     "metadata": {},
     "output_type": "execute_result"
    }
   ],
   "source": [
    "df.groupby(\"label\").var(numeric_only=True)"
   ]
  },
  {
   "cell_type": "code",
   "execution_count": 26,
   "id": "87e3a464-4a2a-42bc-8d57-f5fd0887b71c",
   "metadata": {},
   "outputs": [
    {
     "data": {
      "text/plain": [
       "Ttest_indResult(statistic=18.275375209473534, pvalue=1.385410249727548e-71)"
      ]
     },
     "execution_count": 26,
     "metadata": {},
     "output_type": "execute_result"
    }
   ],
   "source": [
    "df_ns = df.loc[df['label'] == 1]\n",
    "df_ps = df.loc[df['label'] == 0]\n",
    "# Test on the word count to see if the difference in mean is by chance\n",
    "stats.ttest_ind(df_ns['title_word_count'], df_ps['title_word_count'], equal_var=False)"
   ]
  },
  {
   "cell_type": "code",
   "execution_count": 27,
   "id": "ef75ab36-653a-4dd0-9e8f-222f54db8af0",
   "metadata": {},
   "outputs": [
    {
     "data": {
      "text/plain": [
       "Ttest_indResult(statistic=24.730317313716046, pvalue=6.709955042677285e-125)"
      ]
     },
     "execution_count": 27,
     "metadata": {},
     "output_type": "execute_result"
    }
   ],
   "source": [
    "# Test on the title len to see if the difference in mean is by chance\n",
    "stats.ttest_ind(df_ns['title_len'], df_ps['title_len'], equal_var=False)"
   ]
  },
  {
   "cell_type": "code",
   "execution_count": 28,
   "id": "f3ac6c33-9987-4604-bdf2-ac9e4b73c33a",
   "metadata": {},
   "outputs": [
    {
     "data": {
      "text/plain": [
       "Ttest_indResult(statistic=11.064444145870384, pvalue=9.911458477343652e-28)"
      ]
     },
     "execution_count": 28,
     "metadata": {},
     "output_type": "execute_result"
    }
   ],
   "source": [
    "# Test on the post len to see if the difference in mean is by chance\n",
    "stats.ttest_ind(df_ns['post_len'], df_ps['post_len'], equal_var=False)"
   ]
  },
  {
   "cell_type": "markdown",
   "id": "aa6d25a0-31fd-44e5-9758-2b9aaaa7e901",
   "metadata": {},
   "source": [
    "There is actually a slight difference in the number of words contained in the title for nintendo posts and playstation posts!  \n",
    "This can potentially become a feature.  \n",
    "However, I decided to not include it...  \n",
    "This is because of the large variance.  \n",
    "The large vaariance probably means that this feature is not very conclusive.  \n",
    "I can surely standard scaler this value, but I still feel that there's no clear distinction between this 2 class.  \n",
    "\n",
    "I conducted statistical test to see if the sample means are different by pure chance.  \n",
    "Obviously it rejected the null hypothesis that sample means are different by pure chance.  \n",
    "However, even so, it doesn't say much about how each individual length of title or word count of title can be used to make a prediction.  \n",
    "From a technical/ domain knowledge perspective, this simply doesn't make sense to include them as predictors.  \n",
    "Hence, I am exluding them from this project, but I am still highlighting that there are such features other than word tokens that can be used in the analysis.  "
   ]
  },
  {
   "cell_type": "code",
   "execution_count": 29,
   "id": "4e7c0646-3e68-4932-9280-aa6268beefaa",
   "metadata": {},
   "outputs": [
    {
     "data": {
      "image/png": "[encoded data removed]",
      "text/plain": [
       "<Figure size 640x480 with 1 Axes>"
      ]
     },
     "metadata": {},
     "output_type": "display_data"
    }
   ],
   "source": [
    "sns.histplot(data=df, x=\"title_len\", kde=True);"
   ]
  },
  {
   "cell_type": "code",
   "execution_count": 30,
   "id": "2500fbd4-f544-4c50-b13b-f0f036ea70fc",
   "metadata": {},
   "outputs": [
    {
     "data": {
      "image/png": "[encoded data removed]",
      "text/plain": [
       "<Figure size 640x480 with 1 Axes>"
      ]
     },
     "metadata": {},
     "output_type": "display_data"
    }
   ],
   "source": [
    "sns.histplot(data=df, x=\"title_word_count\", kde=True);"
   ]
  },
  {
   "cell_type": "code",
   "execution_count": 31,
   "id": "95578424-d618-4465-a54e-560645ba0ff5",
   "metadata": {},
   "outputs": [
    {
     "data": {
      "text/html": [
       "<div>\n",
       "<style scoped>\n",
       "    .dataframe tbody tr th:only-of-type {\n",
       "        vertical-align: middle;\n",
       "    }\n",
       "\n",
       "    .dataframe tbody tr th {\n",
       "        vertical-align: top;\n",
       "    }\n",
       "\n",
       "    .dataframe thead th {\n",
       "        text-align: right;\n",
       "    }\n",
       "</style>\n",
       "<table border=\"1\" class=\"dataframe\">\n",
       "  <thead>\n",
       "    <tr style=\"text-align: right;\">\n",
       "      <th></th>\n",
       "      <th>label</th>\n",
       "      <th>title_word_count</th>\n",
       "      <th>title_len</th>\n",
       "      <th>post_word_count</th>\n",
       "      <th>post_len</th>\n",
       "      <th>emoji_num</th>\n",
       "      <th>emoji_post</th>\n",
       "    </tr>\n",
       "  </thead>\n",
       "  <tbody>\n",
       "    <tr>\n",
       "      <th>count</th>\n",
       "      <td>3904.000000</td>\n",
       "      <td>3904.000000</td>\n",
       "      <td>3904.000000</td>\n",
       "      <td>3904.000000</td>\n",
       "      <td>3904.000000</td>\n",
       "      <td>3904.000000</td>\n",
       "      <td>3904.000000</td>\n",
       "    </tr>\n",
       "    <tr>\n",
       "      <th>mean</th>\n",
       "      <td>0.490779</td>\n",
       "      <td>11.070697</td>\n",
       "      <td>62.437244</td>\n",
       "      <td>44.424949</td>\n",
       "      <td>254.692111</td>\n",
       "      <td>0.022029</td>\n",
       "      <td>0.019467</td>\n",
       "    </tr>\n",
       "    <tr>\n",
       "      <th>std</th>\n",
       "      <td>0.499979</td>\n",
       "      <td>7.165345</td>\n",
       "      <td>40.521917</td>\n",
       "      <td>127.124875</td>\n",
       "      <td>755.843437</td>\n",
       "      <td>0.166427</td>\n",
       "      <td>0.138178</td>\n",
       "    </tr>\n",
       "    <tr>\n",
       "      <th>min</th>\n",
       "      <td>0.000000</td>\n",
       "      <td>1.000000</td>\n",
       "      <td>2.000000</td>\n",
       "      <td>0.000000</td>\n",
       "      <td>0.000000</td>\n",
       "      <td>0.000000</td>\n",
       "      <td>0.000000</td>\n",
       "    </tr>\n",
       "    <tr>\n",
       "      <th>25%</th>\n",
       "      <td>0.000000</td>\n",
       "      <td>6.000000</td>\n",
       "      <td>33.000000</td>\n",
       "      <td>0.000000</td>\n",
       "      <td>0.000000</td>\n",
       "      <td>0.000000</td>\n",
       "      <td>0.000000</td>\n",
       "    </tr>\n",
       "    <tr>\n",
       "      <th>50%</th>\n",
       "      <td>0.000000</td>\n",
       "      <td>10.000000</td>\n",
       "      <td>54.000000</td>\n",
       "      <td>0.000000</td>\n",
       "      <td>0.000000</td>\n",
       "      <td>0.000000</td>\n",
       "      <td>0.000000</td>\n",
       "    </tr>\n",
       "    <tr>\n",
       "      <th>75%</th>\n",
       "      <td>1.000000</td>\n",
       "      <td>14.000000</td>\n",
       "      <td>81.000000</td>\n",
       "      <td>37.000000</td>\n",
       "      <td>191.000000</td>\n",
       "      <td>0.000000</td>\n",
       "      <td>0.000000</td>\n",
       "    </tr>\n",
       "    <tr>\n",
       "      <th>max</th>\n",
       "      <td>1.000000</td>\n",
       "      <td>55.000000</td>\n",
       "      <td>299.000000</td>\n",
       "      <td>2400.000000</td>\n",
       "      <td>14044.000000</td>\n",
       "      <td>3.000000</td>\n",
       "      <td>1.000000</td>\n",
       "    </tr>\n",
       "  </tbody>\n",
       "</table>\n",
       "</div>"
      ],
      "text/plain": [
       "             label  title_word_count    title_len  post_word_count  \\\n",
       "count  3904.000000       3904.000000  3904.000000      3904.000000   \n",
       "mean      0.490779         11.070697    62.437244        44.424949   \n",
       "std       0.499979          7.165345    40.521917       127.124875   \n",
       "min       0.000000          1.000000     2.000000         0.000000   \n",
       "25%       0.000000          6.000000    33.000000         0.000000   \n",
       "50%       0.000000         10.000000    54.000000         0.000000   \n",
       "75%       1.000000         14.000000    81.000000        37.000000   \n",
       "max       1.000000         55.000000   299.000000      2400.000000   \n",
       "\n",
       "           post_len    emoji_num   emoji_post  \n",
       "count   3904.000000  3904.000000  3904.000000  \n",
       "mean     254.692111     0.022029     0.019467  \n",
       "std      755.843437     0.166427     0.138178  \n",
       "min        0.000000     0.000000     0.000000  \n",
       "25%        0.000000     0.000000     0.000000  \n",
       "50%        0.000000     0.000000     0.000000  \n",
       "75%      191.000000     0.000000     0.000000  \n",
       "max    14044.000000     3.000000     1.000000  "
      ]
     },
     "execution_count": 31,
     "metadata": {},
     "output_type": "execute_result"
    }
   ],
   "source": [
    "df.describe(exclude=[object])  "
   ]
  },
  {
   "cell_type": "code",
   "execution_count": 32,
   "id": "621cf781-ef95-4e1f-a893-0ec9e2ff6c38",
   "metadata": {},
   "outputs": [
    {
     "data": {
      "text/plain": [
       "1.6930677133748218"
      ]
     },
     "execution_count": 32,
     "metadata": {},
     "output_type": "execute_result"
    }
   ],
   "source": [
    "df['title_len'].skew()"
   ]
  },
  {
   "cell_type": "code",
   "execution_count": 33,
   "id": "be102619-6009-46c2-8606-3c8d140c6165",
   "metadata": {},
   "outputs": [
    {
     "data": {
      "text/plain": [
       "1.7314477227455667"
      ]
     },
     "execution_count": 33,
     "metadata": {},
     "output_type": "execute_result"
    }
   ],
   "source": [
    "df['title_word_count'].skew()"
   ]
  },
  {
   "cell_type": "markdown",
   "id": "21b7089a-7c06-4e27-be0e-156945f801be",
   "metadata": {},
   "source": [
    "The skew of `title_len` and `title_word_count` is very similar.  \n",
    "This is to be expected as they are describing the different aspects of the same feature."
   ]
  },
  {
   "cell_type": "code",
   "execution_count": 34,
   "id": "061c7007-37b2-4196-a4e3-4e99246843f8",
   "metadata": {},
   "outputs": [
    {
     "data": {
      "text/plain": [
       "2750"
      ]
     },
     "execution_count": 34,
     "metadata": {},
     "output_type": "execute_result"
    }
   ],
   "source": [
    "user_list = list(df['user'].unique())\n",
    "len(df['user'].unique())"
   ]
  },
  {
   "cell_type": "code",
   "execution_count": 35,
   "id": "52acb40c-d2f2-4c3e-a304-bdcd7154dd2b",
   "metadata": {},
   "outputs": [],
   "source": [
    "# This is not being used anywhere.\n",
    "# This is just to gather and store all information \n",
    "# into a dictionary, with user as the key.\n",
    "# information includes number of post for\n",
    "# ns, ps and total\n",
    "user_behave_dict = {}\n",
    "label_list = ['ns', 'ps']\n",
    "for user in user_list:\n",
    "    user_post_list = []\n",
    "    counter = 0\n",
    "    for idx, label in enumerate(label_list):\n",
    "        df_temp = df.loc[(df['user']==user) & (df['label'] == idx)]\n",
    "        post_num = len(df_temp)\n",
    "        counter = counter+post_num\n",
    "        user_post_list.append({label+'_post_num':post_num})\n",
    "    user_post_list.append({'total_post_num':counter})\n",
    "    user_behave_dict[user] = user_post_list"
   ]
  },
  {
   "cell_type": "code",
   "execution_count": 36,
   "id": "c55d893b-e9bc-4318-abdc-66e5d2db2530",
   "metadata": {},
   "outputs": [],
   "source": [
    "# this is a slightly better way of building what I want\n",
    "ns_post_list = []    \n",
    "for user in user_list:\n",
    "    df_temp = df.loc[(df['user']==user) & (df['label'] == 1)]\n",
    "    post_num = df_temp.shape[0]\n",
    "    ns_post_list.append(post_num)"
   ]
  },
  {
   "cell_type": "code",
   "execution_count": 37,
   "id": "6dda4a3e-23a8-4884-a6f4-643eb5f4747d",
   "metadata": {},
   "outputs": [],
   "source": [
    "ps_post_list = []    \n",
    "for user in user_list:\n",
    "    df_temp = df.loc[(df['user']==user) & (df['label'] == 0)]\n",
    "    post_num = df_temp.shape[0]\n",
    "    ps_post_list.append(post_num)"
   ]
  },
  {
   "cell_type": "code",
   "execution_count": 38,
   "id": "d98b3024-8026-4276-a4a8-420742e333c0",
   "metadata": {},
   "outputs": [],
   "source": [
    "user_dict = {'user_name':user_list,\n",
    "             'ns_posts':ns_post_list,\n",
    "             'ps_posts':ps_post_list}\n",
    "user_posts_df = pd.DataFrame(user_dict)\n",
    "user_posts_df['total_posts'] = user_posts_df['ns_posts']+user_posts_df['ps_posts']"
   ]
  },
  {
   "cell_type": "code",
   "execution_count": 39,
   "id": "704a94eb-b76d-4ed9-8624-0088b2786879",
   "metadata": {},
   "outputs": [
    {
     "data": {
      "text/html": [
       "<div>\n",
       "<style scoped>\n",
       "    .dataframe tbody tr th:only-of-type {\n",
       "        vertical-align: middle;\n",
       "    }\n",
       "\n",
       "    .dataframe tbody tr th {\n",
       "        vertical-align: top;\n",
       "    }\n",
       "\n",
       "    .dataframe thead th {\n",
       "        text-align: right;\n",
       "    }\n",
       "</style>\n",
       "<table border=\"1\" class=\"dataframe\">\n",
       "  <thead>\n",
       "    <tr style=\"text-align: right;\">\n",
       "      <th></th>\n",
       "      <th>user_name</th>\n",
       "      <th>ns_posts</th>\n",
       "      <th>ps_posts</th>\n",
       "      <th>total_posts</th>\n",
       "    </tr>\n",
       "  </thead>\n",
       "  <tbody>\n",
       "    <tr>\n",
       "      <th>0</th>\n",
       "      <td>1338h4x</td>\n",
       "      <td>17</td>\n",
       "      <td>0</td>\n",
       "      <td>17</td>\n",
       "    </tr>\n",
       "    <tr>\n",
       "      <th>1</th>\n",
       "      <td>tale-wind</td>\n",
       "      <td>24</td>\n",
       "      <td>0</td>\n",
       "      <td>24</td>\n",
       "    </tr>\n",
       "    <tr>\n",
       "      <th>2</th>\n",
       "      <td>Focusboy50</td>\n",
       "      <td>1</td>\n",
       "      <td>0</td>\n",
       "      <td>1</td>\n",
       "    </tr>\n",
       "    <tr>\n",
       "      <th>3</th>\n",
       "      <td>Nas160</td>\n",
       "      <td>3</td>\n",
       "      <td>0</td>\n",
       "      <td>3</td>\n",
       "    </tr>\n",
       "    <tr>\n",
       "      <th>4</th>\n",
       "      <td>blubberpuppers</td>\n",
       "      <td>13</td>\n",
       "      <td>0</td>\n",
       "      <td>13</td>\n",
       "    </tr>\n",
       "  </tbody>\n",
       "</table>\n",
       "</div>"
      ],
      "text/plain": [
       "        user_name  ns_posts  ps_posts  total_posts\n",
       "0         1338h4x        17         0           17\n",
       "1       tale-wind        24         0           24\n",
       "2      Focusboy50         1         0            1\n",
       "3          Nas160         3         0            3\n",
       "4  blubberpuppers        13         0           13"
      ]
     },
     "execution_count": 39,
     "metadata": {},
     "output_type": "execute_result"
    }
   ],
   "source": [
    "user_posts_df.head()"
   ]
  },
  {
   "cell_type": "code",
   "execution_count": 40,
   "id": "663ec2f1-25e0-42a7-88cf-0b07d1f625e2",
   "metadata": {},
   "outputs": [],
   "source": [
    "# Make everything into a function\n",
    "def make_user_posts_df(df, lablel_list, search='user', on='label'):\n",
    "    '''This function makes a dataframe counting appearence of search item based on label\n",
    "    args:\n",
    "        df: the dataframe to search through\n",
    "        label_list: name of the labels in a list\n",
    "        search: colmun of unique entires for the original dataframe to search on\n",
    "        on: colmun of original data frame which labels the entires as 0, 1, 2...\n",
    "    out:\n",
    "        final_df: dataframe that contains the occurance of each unique entry based on label\n",
    "    '''\n",
    "    # make unique list of search object\n",
    "    unique_list = list(df[search].unique())\n",
    "    unique_dict = {search:unique_list}\n",
    "    # run through each label\n",
    "    for i, label in enumerate(label_list):\n",
    "        temp_list = []\n",
    "        # run through unique list of search object\n",
    "        for unique_val in unique_list:\n",
    "            df_temp = df.loc[(df[search]==unique_val) & (df[on] == i)]\n",
    "            post_num = df_temp.shape[0]\n",
    "            temp_list.append(post_num)\n",
    "        # store the unique list to the dictionary\n",
    "        unique_dict[label] = temp_list\n",
    "    # convert the dictionary to dataframe\n",
    "    final_df = pd.DataFrame(unique_dict)\n",
    "    # sum it all up\n",
    "    final_df['sum'] = final_df[label_list[0]]\n",
    "    for label in label_list[1:]:\n",
    "        final_df['sum'] = final_df['sum'] + final_df[label]\n",
    "    return final_df"
   ]
  },
  {
   "cell_type": "code",
   "execution_count": 41,
   "id": "5adcc845-82a1-4859-ba5b-61c5eec52202",
   "metadata": {},
   "outputs": [
    {
     "data": {
      "text/html": [
       "<div>\n",
       "<style scoped>\n",
       "    .dataframe tbody tr th:only-of-type {\n",
       "        vertical-align: middle;\n",
       "    }\n",
       "\n",
       "    .dataframe tbody tr th {\n",
       "        vertical-align: top;\n",
       "    }\n",
       "\n",
       "    .dataframe thead th {\n",
       "        text-align: right;\n",
       "    }\n",
       "</style>\n",
       "<table border=\"1\" class=\"dataframe\">\n",
       "  <thead>\n",
       "    <tr style=\"text-align: right;\">\n",
       "      <th></th>\n",
       "      <th>user</th>\n",
       "      <th>ns</th>\n",
       "      <th>ps</th>\n",
       "      <th>sum</th>\n",
       "    </tr>\n",
       "  </thead>\n",
       "  <tbody>\n",
       "    <tr>\n",
       "      <th>0</th>\n",
       "      <td>1338h4x</td>\n",
       "      <td>0</td>\n",
       "      <td>17</td>\n",
       "      <td>17</td>\n",
       "    </tr>\n",
       "    <tr>\n",
       "      <th>1</th>\n",
       "      <td>tale-wind</td>\n",
       "      <td>0</td>\n",
       "      <td>24</td>\n",
       "      <td>24</td>\n",
       "    </tr>\n",
       "    <tr>\n",
       "      <th>2</th>\n",
       "      <td>Focusboy50</td>\n",
       "      <td>0</td>\n",
       "      <td>1</td>\n",
       "      <td>1</td>\n",
       "    </tr>\n",
       "    <tr>\n",
       "      <th>3</th>\n",
       "      <td>Nas160</td>\n",
       "      <td>0</td>\n",
       "      <td>3</td>\n",
       "      <td>3</td>\n",
       "    </tr>\n",
       "    <tr>\n",
       "      <th>4</th>\n",
       "      <td>blubberpuppers</td>\n",
       "      <td>0</td>\n",
       "      <td>13</td>\n",
       "      <td>13</td>\n",
       "    </tr>\n",
       "    <tr>\n",
       "      <th>...</th>\n",
       "      <td>...</td>\n",
       "      <td>...</td>\n",
       "      <td>...</td>\n",
       "      <td>...</td>\n",
       "    </tr>\n",
       "    <tr>\n",
       "      <th>2745</th>\n",
       "      <td>b151</td>\n",
       "      <td>1</td>\n",
       "      <td>0</td>\n",
       "      <td>1</td>\n",
       "    </tr>\n",
       "    <tr>\n",
       "      <th>2746</th>\n",
       "      <td>ipoopup</td>\n",
       "      <td>1</td>\n",
       "      <td>0</td>\n",
       "      <td>1</td>\n",
       "    </tr>\n",
       "    <tr>\n",
       "      <th>2747</th>\n",
       "      <td>gracekk24PL</td>\n",
       "      <td>1</td>\n",
       "      <td>0</td>\n",
       "      <td>1</td>\n",
       "    </tr>\n",
       "    <tr>\n",
       "      <th>2748</th>\n",
       "      <td>MrRoboto12345</td>\n",
       "      <td>1</td>\n",
       "      <td>0</td>\n",
       "      <td>1</td>\n",
       "    </tr>\n",
       "    <tr>\n",
       "      <th>2749</th>\n",
       "      <td>cereal-bus</td>\n",
       "      <td>1</td>\n",
       "      <td>0</td>\n",
       "      <td>1</td>\n",
       "    </tr>\n",
       "  </tbody>\n",
       "</table>\n",
       "<p>2750 rows × 4 columns</p>\n",
       "</div>"
      ],
      "text/plain": [
       "                user  ns  ps  sum\n",
       "0            1338h4x   0  17   17\n",
       "1          tale-wind   0  24   24\n",
       "2         Focusboy50   0   1    1\n",
       "3             Nas160   0   3    3\n",
       "4     blubberpuppers   0  13   13\n",
       "...              ...  ..  ..  ...\n",
       "2745            b151   1   0    1\n",
       "2746         ipoopup   1   0    1\n",
       "2747     gracekk24PL   1   0    1\n",
       "2748   MrRoboto12345   1   0    1\n",
       "2749      cereal-bus   1   0    1\n",
       "\n",
       "[2750 rows x 4 columns]"
      ]
     },
     "execution_count": 41,
     "metadata": {},
     "output_type": "execute_result"
    }
   ],
   "source": [
    "make_user_posts_df(df, ['ns, ps'])"
   ]
  },
  {
   "cell_type": "code",
   "execution_count": 42,
   "id": "1517c18a-7532-4041-883b-443a6c402a04",
   "metadata": {},
   "outputs": [
    {
     "data": {
      "text/html": [
       "<div>\n",
       "<style scoped>\n",
       "    .dataframe tbody tr th:only-of-type {\n",
       "        vertical-align: middle;\n",
       "    }\n",
       "\n",
       "    .dataframe tbody tr th {\n",
       "        vertical-align: top;\n",
       "    }\n",
       "\n",
       "    .dataframe thead th {\n",
       "        text-align: right;\n",
       "    }\n",
       "</style>\n",
       "<table border=\"1\" class=\"dataframe\">\n",
       "  <thead>\n",
       "    <tr style=\"text-align: right;\">\n",
       "      <th></th>\n",
       "      <th>user_name</th>\n",
       "      <th>ns_posts</th>\n",
       "      <th>ps_posts</th>\n",
       "      <th>total_posts</th>\n",
       "    </tr>\n",
       "  </thead>\n",
       "  <tbody>\n",
       "    <tr>\n",
       "      <th>120</th>\n",
       "      <td>MoonieSarito</td>\n",
       "      <td>2</td>\n",
       "      <td>1</td>\n",
       "      <td>3</td>\n",
       "    </tr>\n",
       "    <tr>\n",
       "      <th>284</th>\n",
       "      <td>Tail_sb</td>\n",
       "      <td>1</td>\n",
       "      <td>1</td>\n",
       "      <td>2</td>\n",
       "    </tr>\n",
       "    <tr>\n",
       "      <th>453</th>\n",
       "      <td>aperson7780</td>\n",
       "      <td>1</td>\n",
       "      <td>1</td>\n",
       "      <td>2</td>\n",
       "    </tr>\n",
       "    <tr>\n",
       "      <th>507</th>\n",
       "      <td>Frocharocha</td>\n",
       "      <td>42</td>\n",
       "      <td>1</td>\n",
       "      <td>43</td>\n",
       "    </tr>\n",
       "    <tr>\n",
       "      <th>561</th>\n",
       "      <td>ddudegames</td>\n",
       "      <td>1</td>\n",
       "      <td>1</td>\n",
       "      <td>2</td>\n",
       "    </tr>\n",
       "    <tr>\n",
       "      <th>593</th>\n",
       "      <td>MarineKingPrime_</td>\n",
       "      <td>1</td>\n",
       "      <td>1</td>\n",
       "      <td>2</td>\n",
       "    </tr>\n",
       "    <tr>\n",
       "      <th>596</th>\n",
       "      <td>Ragnara92</td>\n",
       "      <td>1</td>\n",
       "      <td>1</td>\n",
       "      <td>2</td>\n",
       "    </tr>\n",
       "    <tr>\n",
       "      <th>795</th>\n",
       "      <td>schuey_08</td>\n",
       "      <td>2</td>\n",
       "      <td>1</td>\n",
       "      <td>3</td>\n",
       "    </tr>\n",
       "    <tr>\n",
       "      <th>835</th>\n",
       "      <td>Filmfan345</td>\n",
       "      <td>1</td>\n",
       "      <td>1</td>\n",
       "      <td>2</td>\n",
       "    </tr>\n",
       "  </tbody>\n",
       "</table>\n",
       "</div>"
      ],
      "text/plain": [
       "            user_name  ns_posts  ps_posts  total_posts\n",
       "120      MoonieSarito         2         1            3\n",
       "284           Tail_sb         1         1            2\n",
       "453       aperson7780         1         1            2\n",
       "507       Frocharocha        42         1           43\n",
       "561        ddudegames         1         1            2\n",
       "593  MarineKingPrime_         1         1            2\n",
       "596         Ragnara92         1         1            2\n",
       "795         schuey_08         2         1            3\n",
       "835        Filmfan345         1         1            2"
      ]
     },
     "execution_count": 42,
     "metadata": {},
     "output_type": "execute_result"
    }
   ],
   "source": [
    "user_posts_df.loc[(user_posts_df['ps_posts'] != 0) & (user_posts_df['ns_posts'] != 0)]"
   ]
  },
  {
   "cell_type": "markdown",
   "id": "65898592-2b6e-4cb1-b0dc-9a4b4439384d",
   "metadata": {},
   "source": [
    "Out of the 3904 posts collected, only 2750 users are unique.  \n",
    "This means that there are many users who posted more than 1 post.  \n",
    "They are probably the very active users.  \n",
    "To my surprise, the number of users who posts on both `r/nintendo` and `r/playstation` is very few...  \n",
    "There are only 9 users out of 2750 unique users in total...  \n",
    "Does this mean that the users who use `r/nintendo` usually will not use `r/playstation`?  \n",
    "Anyways, this should be a good news for me, as this means that the wordings should be rather far apart in the vector space.  "
   ]
  },
  {
   "cell_type": "code",
   "execution_count": 43,
   "id": "223d7f16-5374-4503-a7cb-88024a76c724",
   "metadata": {},
   "outputs": [
    {
     "data": {
      "image/png": "[encoded data removed]",
      "text/plain": [
       "<Figure size 640x480 with 1 Axes>"
      ]
     },
     "metadata": {},
     "output_type": "display_data"
    }
   ],
   "source": [
    "sns.histplot(data=user_posts_df, x=\"total_posts\", kde=True, bins=80);"
   ]
  },
  {
   "cell_type": "markdown",
   "id": "e9d2b335-6384-4f21-bc8d-9a352bcb645e",
   "metadata": {},
   "source": [
    "Majority of the users only post 1 single post in the data collected."
   ]
  },
  {
   "cell_type": "code",
   "execution_count": 44,
   "id": "6ed3dce1-e915-4e42-bef3-3fcd748cd16d",
   "metadata": {},
   "outputs": [
    {
     "data": {
      "text/html": [
       "<div>\n",
       "<style scoped>\n",
       "    .dataframe tbody tr th:only-of-type {\n",
       "        vertical-align: middle;\n",
       "    }\n",
       "\n",
       "    .dataframe tbody tr th {\n",
       "        vertical-align: top;\n",
       "    }\n",
       "\n",
       "    .dataframe thead th {\n",
       "        text-align: right;\n",
       "    }\n",
       "</style>\n",
       "<table border=\"1\" class=\"dataframe\">\n",
       "  <thead>\n",
       "    <tr style=\"text-align: right;\">\n",
       "      <th></th>\n",
       "      <th>user_name</th>\n",
       "      <th>ns_posts</th>\n",
       "      <th>ps_posts</th>\n",
       "      <th>total_posts</th>\n",
       "    </tr>\n",
       "  </thead>\n",
       "  <tbody>\n",
       "    <tr>\n",
       "      <th>31</th>\n",
       "      <td>Riomegon</td>\n",
       "      <td>87</td>\n",
       "      <td>0</td>\n",
       "      <td>87</td>\n",
       "    </tr>\n",
       "    <tr>\n",
       "      <th>9</th>\n",
       "      <td>RoboticOperatingBudd</td>\n",
       "      <td>82</td>\n",
       "      <td>0</td>\n",
       "      <td>82</td>\n",
       "    </tr>\n",
       "    <tr>\n",
       "      <th>46</th>\n",
       "      <td>razorbeamz</td>\n",
       "      <td>55</td>\n",
       "      <td>0</td>\n",
       "      <td>55</td>\n",
       "    </tr>\n",
       "    <tr>\n",
       "      <th>507</th>\n",
       "      <td>Frocharocha</td>\n",
       "      <td>42</td>\n",
       "      <td>1</td>\n",
       "      <td>43</td>\n",
       "    </tr>\n",
       "    <tr>\n",
       "      <th>131</th>\n",
       "      <td>Amiibofan101</td>\n",
       "      <td>35</td>\n",
       "      <td>0</td>\n",
       "      <td>35</td>\n",
       "    </tr>\n",
       "    <tr>\n",
       "      <th>1</th>\n",
       "      <td>tale-wind</td>\n",
       "      <td>24</td>\n",
       "      <td>0</td>\n",
       "      <td>24</td>\n",
       "    </tr>\n",
       "    <tr>\n",
       "      <th>18</th>\n",
       "      <td>Asad_Farooqui</td>\n",
       "      <td>24</td>\n",
       "      <td>0</td>\n",
       "      <td>24</td>\n",
       "    </tr>\n",
       "    <tr>\n",
       "      <th>58</th>\n",
       "      <td>LinkWink</td>\n",
       "      <td>20</td>\n",
       "      <td>0</td>\n",
       "      <td>20</td>\n",
       "    </tr>\n",
       "    <tr>\n",
       "      <th>537</th>\n",
       "      <td>harushiga</td>\n",
       "      <td>20</td>\n",
       "      <td>0</td>\n",
       "      <td>20</td>\n",
       "    </tr>\n",
       "    <tr>\n",
       "      <th>0</th>\n",
       "      <td>1338h4x</td>\n",
       "      <td>17</td>\n",
       "      <td>0</td>\n",
       "      <td>17</td>\n",
       "    </tr>\n",
       "  </tbody>\n",
       "</table>\n",
       "</div>"
      ],
      "text/plain": [
       "                user_name  ns_posts  ps_posts  total_posts\n",
       "31               Riomegon        87         0           87\n",
       "9    RoboticOperatingBudd        82         0           82\n",
       "46             razorbeamz        55         0           55\n",
       "507           Frocharocha        42         1           43\n",
       "131          Amiibofan101        35         0           35\n",
       "1               tale-wind        24         0           24\n",
       "18          Asad_Farooqui        24         0           24\n",
       "58               LinkWink        20         0           20\n",
       "537             harushiga        20         0           20\n",
       "0                 1338h4x        17         0           17"
      ]
     },
     "execution_count": 44,
     "metadata": {},
     "output_type": "execute_result"
    }
   ],
   "source": [
    "user_posts_df.sort_values(by='total_posts', ascending=False).head(10)"
   ]
  },
  {
   "cell_type": "markdown",
   "id": "346c4431-5f1a-435c-a94a-bf3b438c1889",
   "metadata": {},
   "source": [
    "Seems that `r/nintendo` users topped the chart for posting the most posts?  \n",
    "Maybe the playstation users are restricted in the number of posts they can make, or simply because playstation have no activity, since Nintendo have the largest number of exclusive games."
   ]
  },
  {
   "cell_type": "markdown",
   "id": "ff726f6c-ec1c-4d1f-ab61-e70675a41ba6",
   "metadata": {},
   "source": [
    "## Prelim model"
   ]
  },
  {
   "cell_type": "markdown",
   "id": "364107f3-9083-4bb6-b9f4-45635c0a45e1",
   "metadata": {},
   "source": [
    "This section, a very basic model will be built to facilitate further EDA.  \n",
    "Model will not use stemming and lemmatization.  \n",
    "It will first filter the stop words.  \n",
    "Word cloud is generated for asthetic purpose.  \n",
    "Then data is fitted into the model pipeline, with minimum document frequency set at 5.  \n",
    "TF-IDF is used for the basic model.  \n",
    "Model also uses Multinominal Naive Bayes.  "
   ]
  },
  {
   "cell_type": "code",
   "execution_count": 45,
   "id": "7d1bbf19-aac1-4eaf-9ff3-4c051544a3d8",
   "metadata": {},
   "outputs": [],
   "source": [
    "nltk_stop_words = set(stopwords.words('english'))"
   ]
  },
  {
   "cell_type": "code",
   "execution_count": 46,
   "id": "272968a0-8b60-4303-af80-0a32683d61e0",
   "metadata": {},
   "outputs": [],
   "source": [
    "my_stop_words = set(text.ENGLISH_STOP_WORDS.union(nltk_stop_words))"
   ]
  },
  {
   "cell_type": "code",
   "execution_count": 47,
   "id": "d7dc5753-3967-4b3b-b03a-445d8160a1dc",
   "metadata": {},
   "outputs": [],
   "source": [
    "list_of_stop_words = [my_stop_words, STOPWORDS, {'let'}] # {'let'} is included as stop_words inconsistent warning is showing up'"
   ]
  },
  {
   "cell_type": "code",
   "execution_count": 48,
   "id": "a251b5d7-eb63-4740-93ef-8c62e1d91ccb",
   "metadata": {},
   "outputs": [],
   "source": [
    "my_stop_words = set().union(*list_of_stop_words)"
   ]
  },
  {
   "cell_type": "code",
   "execution_count": 49,
   "id": "88b6a74b-9c4e-493a-bde8-dc282a0841d8",
   "metadata": {},
   "outputs": [],
   "source": [
    "cvec = CountVectorizer(stop_words=my_stop_words, min_df=5)"
   ]
  },
  {
   "cell_type": "code",
   "execution_count": 50,
   "id": "ecca2f9a-5a1a-4b5f-a66b-90e17c4218da",
   "metadata": {},
   "outputs": [
    {
     "data": {
      "text/html": [
       "<style>#sk-container-id-1 {color: black;background-color: white;}#sk-container-id-1 pre{padding: 0;}#sk-container-id-1 div.sk-toggleable {background-color: white;}#sk-container-id-1 label.sk-toggleable__label {cursor: pointer;display: block;width: 100%;margin-bottom: 0;padding: 0.3em;box-sizing: border-box;text-align: center;}#sk-container-id-1 label.sk-toggleable__label-arrow:before {content: \"▸\";float: left;margin-right: 0.25em;color: #696969;}#sk-container-id-1 label.sk-toggleable__label-arrow:hover:before {color: black;}#sk-container-id-1 div.sk-estimator:hover label.sk-toggleable__label-arrow:before {color: black;}#sk-container-id-1 div.sk-toggleable__content {max-height: 0;max-width: 0;overflow: hidden;text-align: left;background-color: #f0f8ff;}#sk-container-id-1 div.sk-toggleable__content pre {margin: 0.2em;color: black;border-radius: 0.25em;background-color: #f0f8ff;}#sk-container-id-1 input.sk-toggleable__control:checked~div.sk-toggleable__content {max-height: 200px;max-width: 100%;overflow: auto;}#sk-container-id-1 input.sk-toggleable__control:checked~label.sk-toggleable__label-arrow:before {content: \"▾\";}#sk-container-id-1 div.sk-estimator input.sk-toggleable__control:checked~label.sk-toggleable__label {background-color: #d4ebff;}#sk-container-id-1 div.sk-label input.sk-toggleable__control:checked~label.sk-toggleable__label {background-color: #d4ebff;}#sk-container-id-1 input.sk-hidden--visually {border: 0;clip: rect(1px 1px 1px 1px);clip: rect(1px, 1px, 1px, 1px);height: 1px;margin: -1px;overflow: hidden;padding: 0;position: absolute;width: 1px;}#sk-container-id-1 div.sk-estimator {font-family: monospace;background-color: #f0f8ff;border: 1px dotted black;border-radius: 0.25em;box-sizing: border-box;margin-bottom: 0.5em;}#sk-container-id-1 div.sk-estimator:hover {background-color: #d4ebff;}#sk-container-id-1 div.sk-parallel-item::after {content: \"\";width: 100%;border-bottom: 1px solid gray;flex-grow: 1;}#sk-container-id-1 div.sk-label:hover label.sk-toggleable__label {background-color: #d4ebff;}#sk-container-id-1 div.sk-serial::before {content: \"\";position: absolute;border-left: 1px solid gray;box-sizing: border-box;top: 0;bottom: 0;left: 50%;z-index: 0;}#sk-container-id-1 div.sk-serial {display: flex;flex-direction: column;align-items: center;background-color: white;padding-right: 0.2em;padding-left: 0.2em;position: relative;}#sk-container-id-1 div.sk-item {position: relative;z-index: 1;}#sk-container-id-1 div.sk-parallel {display: flex;align-items: stretch;justify-content: center;background-color: white;position: relative;}#sk-container-id-1 div.sk-item::before, #sk-container-id-1 div.sk-parallel-item::before {content: \"\";position: absolute;border-left: 1px solid gray;box-sizing: border-box;top: 0;bottom: 0;left: 50%;z-index: -1;}#sk-container-id-1 div.sk-parallel-item {display: flex;flex-direction: column;z-index: 1;position: relative;background-color: white;}#sk-container-id-1 div.sk-parallel-item:first-child::after {align-self: flex-end;width: 50%;}#sk-container-id-1 div.sk-parallel-item:last-child::after {align-self: flex-start;width: 50%;}#sk-container-id-1 div.sk-parallel-item:only-child::after {width: 0;}#sk-container-id-1 div.sk-dashed-wrapped {border: 1px dashed gray;margin: 0 0.4em 0.5em 0.4em;box-sizing: border-box;padding-bottom: 0.4em;background-color: white;}#sk-container-id-1 div.sk-label label {font-family: monospace;font-weight: bold;display: inline-block;line-height: 1.2em;}#sk-container-id-1 div.sk-label-container {text-align: center;}#sk-container-id-1 div.sk-container {/* jupyter's `normalize.less` sets `[hidden] { display: none; }` but bootstrap.min.css set `[hidden] { display: none !important; }` so we also need the `!important` here to be able to override the default hidden behavior on the sphinx rendered scikit-learn.org. See: https://github.com/scikit-learn/scikit-learn/issues/21755 */display: inline-block !important;position: relative;}#sk-container-id-1 div.sk-text-repr-fallback {display: none;}</style><div id=\"sk-container-id-1\" class=\"sk-top-container\"><div class=\"sk-text-repr-fallback\"><pre>CountVectorizer(min_df=5,\n",
       "                stop_words={&#x27;a&#x27;, &#x27;about&#x27;, &#x27;above&#x27;, &#x27;across&#x27;, &#x27;after&#x27;,\n",
       "                            &#x27;afterwards&#x27;, &#x27;again&#x27;, &#x27;against&#x27;, &#x27;ain&#x27;, &#x27;all&#x27;,\n",
       "                            &#x27;almost&#x27;, &#x27;alone&#x27;, &#x27;along&#x27;, &#x27;already&#x27;, &#x27;also&#x27;,\n",
       "                            &#x27;although&#x27;, &#x27;always&#x27;, &#x27;am&#x27;, &#x27;among&#x27;, &#x27;amongst&#x27;,\n",
       "                            &#x27;amoungst&#x27;, &#x27;amount&#x27;, &#x27;an&#x27;, &#x27;and&#x27;, &#x27;another&#x27;, &#x27;any&#x27;,\n",
       "                            &#x27;anyhow&#x27;, &#x27;anyone&#x27;, &#x27;anything&#x27;, &#x27;anyway&#x27;, ...})</pre><b>In a Jupyter environment, please rerun this cell to show the HTML representation or trust the notebook. <br />On GitHub, the HTML representation is unable to render, please try loading this page with nbviewer.org.</b></div><div class=\"sk-container\" hidden><div class=\"sk-item\"><div class=\"sk-estimator sk-toggleable\"><input class=\"sk-toggleable__control sk-hidden--visually\" id=\"sk-estimator-id-1\" type=\"checkbox\" checked><label for=\"sk-estimator-id-1\" class=\"sk-toggleable__label sk-toggleable__label-arrow\">CountVectorizer</label><div class=\"sk-toggleable__content\"><pre>CountVectorizer(min_df=5,\n",
       "                stop_words={&#x27;a&#x27;, &#x27;about&#x27;, &#x27;above&#x27;, &#x27;across&#x27;, &#x27;after&#x27;,\n",
       "                            &#x27;afterwards&#x27;, &#x27;again&#x27;, &#x27;against&#x27;, &#x27;ain&#x27;, &#x27;all&#x27;,\n",
       "                            &#x27;almost&#x27;, &#x27;alone&#x27;, &#x27;along&#x27;, &#x27;already&#x27;, &#x27;also&#x27;,\n",
       "                            &#x27;although&#x27;, &#x27;always&#x27;, &#x27;am&#x27;, &#x27;among&#x27;, &#x27;amongst&#x27;,\n",
       "                            &#x27;amoungst&#x27;, &#x27;amount&#x27;, &#x27;an&#x27;, &#x27;and&#x27;, &#x27;another&#x27;, &#x27;any&#x27;,\n",
       "                            &#x27;anyhow&#x27;, &#x27;anyone&#x27;, &#x27;anything&#x27;, &#x27;anyway&#x27;, ...})</pre></div></div></div></div></div>"
      ],
      "text/plain": [
       "CountVectorizer(min_df=5,\n",
       "                stop_words={'a', 'about', 'above', 'across', 'after',\n",
       "                            'afterwards', 'again', 'against', 'ain', 'all',\n",
       "                            'almost', 'alone', 'along', 'already', 'also',\n",
       "                            'although', 'always', 'am', 'among', 'amongst',\n",
       "                            'amoungst', 'amount', 'an', 'and', 'another', 'any',\n",
       "                            'anyhow', 'anyone', 'anything', 'anyway', ...})"
      ]
     },
     "execution_count": 50,
     "metadata": {},
     "output_type": "execute_result"
    }
   ],
   "source": [
    "cvec.fit(df['title'])"
   ]
  },
  {
   "cell_type": "code",
   "execution_count": 51,
   "id": "4ee6828e-1738-483d-b696-7b50a084947b",
   "metadata": {},
   "outputs": [],
   "source": [
    "X_train = cvec.transform(df['title'])"
   ]
  },
  {
   "cell_type": "code",
   "execution_count": 52,
   "id": "a0ba4ebe-ab9a-49b6-b6d5-745e9ece37d3",
   "metadata": {},
   "outputs": [
    {
     "data": {
      "text/plain": [
       "(3904, 998)"
      ]
     },
     "execution_count": 52,
     "metadata": {},
     "output_type": "execute_result"
    }
   ],
   "source": [
    "X_train.shape"
   ]
  },
  {
   "cell_type": "code",
   "execution_count": 53,
   "id": "48798117-8526-4372-aedb-0e5eb1a96c24",
   "metadata": {},
   "outputs": [],
   "source": [
    "word_vector = X_train.toarray()"
   ]
  },
  {
   "cell_type": "code",
   "execution_count": 54,
   "id": "46df8046-fd27-4c63-8879-03b0eafe6e07",
   "metadata": {},
   "outputs": [],
   "source": [
    "feature_name = cvec.get_feature_names_out()"
   ]
  },
  {
   "cell_type": "code",
   "execution_count": 55,
   "id": "e2e4ff50-912a-47ee-bc88-0d549ac40f6b",
   "metadata": {},
   "outputs": [],
   "source": [
    "count_vectorised_df = pd.DataFrame(data=word_vector, columns=feature_name)"
   ]
  },
  {
   "cell_type": "code",
   "execution_count": 56,
   "id": "caaf85cf-ead5-41da-b254-13dd899f9266",
   "metadata": {},
   "outputs": [
    {
     "data": {
      "text/plain": [
       "(3904, 998)"
      ]
     },
     "execution_count": 56,
     "metadata": {},
     "output_type": "execute_result"
    }
   ],
   "source": [
    "count_vectorised_df.shape"
   ]
  },
  {
   "cell_type": "code",
   "execution_count": 57,
   "id": "35d8c81f-732f-4acf-92e2-fd974807e770",
   "metadata": {},
   "outputs": [],
   "source": [
    "count_list = count_vectorised_df.sum()"
   ]
  },
  {
   "cell_type": "code",
   "execution_count": 58,
   "id": "74338c43-986d-475d-9c17-d4e1f6f67ca0",
   "metadata": {},
   "outputs": [],
   "source": [
    "count_df = pd.DataFrame(data=count_list, columns=['count'])"
   ]
  },
  {
   "cell_type": "code",
   "execution_count": 59,
   "id": "0b092021-9aa1-4ab7-bd9d-7f52626185f2",
   "metadata": {},
   "outputs": [
    {
     "data": {
      "text/html": [
       "<div>\n",
       "<style scoped>\n",
       "    .dataframe tbody tr th:only-of-type {\n",
       "        vertical-align: middle;\n",
       "    }\n",
       "\n",
       "    .dataframe tbody tr th {\n",
       "        vertical-align: top;\n",
       "    }\n",
       "\n",
       "    .dataframe thead th {\n",
       "        text-align: right;\n",
       "    }\n",
       "</style>\n",
       "<table border=\"1\" class=\"dataframe\">\n",
       "  <thead>\n",
       "    <tr style=\"text-align: right;\">\n",
       "      <th></th>\n",
       "      <th>count</th>\n",
       "    </tr>\n",
       "  </thead>\n",
       "  <tbody>\n",
       "    <tr>\n",
       "      <th>play</th>\n",
       "      <td>95</td>\n",
       "    </tr>\n",
       "    <tr>\n",
       "      <th>history</th>\n",
       "      <td>100</td>\n",
       "    </tr>\n",
       "    <tr>\n",
       "      <th>years</th>\n",
       "      <td>103</td>\n",
       "    </tr>\n",
       "    <tr>\n",
       "      <th>got</th>\n",
       "      <td>111</td>\n",
       "    </tr>\n",
       "    <tr>\n",
       "      <th>ps4</th>\n",
       "      <td>124</td>\n",
       "    </tr>\n",
       "    <tr>\n",
       "      <th>day</th>\n",
       "      <td>148</td>\n",
       "    </tr>\n",
       "    <tr>\n",
       "      <th>playstation</th>\n",
       "      <td>166</td>\n",
       "    </tr>\n",
       "    <tr>\n",
       "      <th>super</th>\n",
       "      <td>196</td>\n",
       "    </tr>\n",
       "    <tr>\n",
       "      <th>new</th>\n",
       "      <td>235</td>\n",
       "    </tr>\n",
       "    <tr>\n",
       "      <th>games</th>\n",
       "      <td>276</td>\n",
       "    </tr>\n",
       "    <tr>\n",
       "      <th>mario</th>\n",
       "      <td>309</td>\n",
       "    </tr>\n",
       "    <tr>\n",
       "      <th>switch</th>\n",
       "      <td>366</td>\n",
       "    </tr>\n",
       "    <tr>\n",
       "      <th>game</th>\n",
       "      <td>367</td>\n",
       "    </tr>\n",
       "    <tr>\n",
       "      <th>ps5</th>\n",
       "      <td>403</td>\n",
       "    </tr>\n",
       "    <tr>\n",
       "      <th>nintendo</th>\n",
       "      <td>882</td>\n",
       "    </tr>\n",
       "  </tbody>\n",
       "</table>\n",
       "</div>"
      ],
      "text/plain": [
       "             count\n",
       "play            95\n",
       "history        100\n",
       "years          103\n",
       "got            111\n",
       "ps4            124\n",
       "day            148\n",
       "playstation    166\n",
       "super          196\n",
       "new            235\n",
       "games          276\n",
       "mario          309\n",
       "switch         366\n",
       "game           367\n",
       "ps5            403\n",
       "nintendo       882"
      ]
     },
     "execution_count": 59,
     "metadata": {},
     "output_type": "execute_result"
    }
   ],
   "source": [
    "count_df.sort_values('count', ascending = True).tail(15)"
   ]
  },
  {
   "cell_type": "markdown",
   "id": "0d674c67-e164-4ef4-9cff-01c862259e0d",
   "metadata": {},
   "source": [
    "Key give away words present here are as follows:  \n",
    "nintendo: nintendo, switch, mario, super (commonly associated with mario)  \n",
    "playstation: ps5, playstation, ps4  "
   ]
  },
  {
   "cell_type": "code",
   "execution_count": 60,
   "id": "74ddc61d-e2ce-4c37-8999-7aec3fd08b29",
   "metadata": {},
   "outputs": [
    {
     "data": {
      "text/plain": [
       "<AxesSubplot: >"
      ]
     },
     "execution_count": 60,
     "metadata": {},
     "output_type": "execute_result"
    },
    {
     "data": {
      "image/png": "[encoded data removed]",
      "text/plain": [
       "<Figure size 640x480 with 1 Axes>"
      ]
     },
     "metadata": {},
     "output_type": "display_data"
    }
   ],
   "source": [
    "count_df.sort_values('count', ascending = True).tail(15).plot(kind='bar')"
   ]
  },
  {
   "cell_type": "code",
   "execution_count": 61,
   "id": "09898282-2ad2-4411-bee2-7262e8f7febf",
   "metadata": {},
   "outputs": [
    {
     "data": {
      "image/png": "[encoded data removed]",
      "text/plain": [
       "<Figure size 640x480 with 1 Axes>"
      ]
     },
     "metadata": {},
     "output_type": "display_data"
    }
   ],
   "source": [
    "# Start with one review:\n",
    "text = \" \".join(title for title in df['title'])\n",
    "\n",
    "# Create and generate a word cloud image:\n",
    "wordcloud = WordCloud(stopwords=my_stop_words, background_color=\"white\", max_words=50).generate(text)\n",
    "\n",
    "# Display the generated image:\n",
    "# Display the generated image:\n",
    "plt.imshow(wordcloud, interpolation='bilinear')\n",
    "plt.axis(\"off\")\n",
    "plt.show()"
   ]
  },
  {
   "cell_type": "code",
   "execution_count": 73,
   "id": "448a4d37-e28e-4c7d-8ce6-d09c33e6c971",
   "metadata": {},
   "outputs": [
    {
     "data": {
      "image/png": "[encoded data removed]",
      "text/plain": [
       "<Figure size 1000x1500 with 1 Axes>"
      ]
     },
     "metadata": {},
     "output_type": "display_data"
    }
   ],
   "source": [
    "#load mask image from a file\n",
    "mask = np.array(Image.open('../img/nintendo.png'))\n",
    "\n",
    "#create a word cloud object with some parameters\n",
    "wc = WordCloud(stopwords=my_stop_words, background_color='white', max_words=1000, mask=mask)\n",
    "\n",
    "text = pd.Series(text)\n",
    "\n",
    "#generate the word cloud from text data\n",
    "wc.generate(text.str.cat(sep=' '))\n",
    "\n",
    "#plot the word cloud using matplotlib.pyplot module\n",
    "plt.figure(figsize=(10,15))\n",
    "plt.imshow(wc)\n",
    "plt.axis('off')\n",
    "plt.show()"
   ]
  },
  {
   "cell_type": "code",
   "execution_count": 75,
   "id": "b3c4d561-126c-44da-b804-f5d09456b653",
   "metadata": {},
   "outputs": [],
   "source": [
    "# Save the image in the img folder:\n",
    "wordcloud.to_file(\"../img/ntd_ps_1st.png\");\n",
    "wc.to_file('../img/ntd.png');"
   ]
  },
  {
   "cell_type": "code",
   "execution_count": 63,
   "id": "43b8d763-4880-4fcf-b633-21c980c1c255",
   "metadata": {},
   "outputs": [
    {
     "data": {
      "image/png": "[encoded data removed]",
      "text/plain": [
       "<Figure size 640x480 with 1 Axes>"
      ]
     },
     "metadata": {},
     "output_type": "display_data"
    }
   ],
   "source": [
    "sns.histplot(data=count_df, x='count', kde=True);"
   ]
  },
  {
   "cell_type": "markdown",
   "id": "ef5c44b2-28d5-4c07-9600-3009e4c7b4cc",
   "metadata": {},
   "source": [
    "The post data is obviously skewed.   \n",
    "This means that if Navive bayes were to be used, the Guassian Naive Bayes can not be used.  \n",
    "The correct model to use here should be the `Multinomial Naive Bayes`.  \n",
    "Also, a check with scikit-learn documentation confirms my theory.  "
   ]
  },
  {
   "cell_type": "code",
   "execution_count": 64,
   "id": "d7a8ed80-2da9-427e-90a0-1c76e2d61e10",
   "metadata": {},
   "outputs": [],
   "source": [
    "word_count_sum = X_train.sum(axis=0)\n",
    "word_counts_array = word_count_sum.ravel()"
   ]
  },
  {
   "cell_type": "code",
   "execution_count": 65,
   "id": "493f01b0-7ae9-49e3-817d-59141133446a",
   "metadata": {},
   "outputs": [
    {
     "name": "stdout",
     "output_type": "stream",
     "text": [
      "Shapiro-Wilk test statistic: 0.24066483974456787\n",
      "p-value: 0.0\n"
     ]
    }
   ],
   "source": [
    "# test for normality\n",
    "stat, p = shapiro(word_counts_array)\n",
    "print('Shapiro-Wilk test statistic:', stat)\n",
    "print('p-value:', p)"
   ]
  },
  {
   "cell_type": "markdown",
   "id": "94ce25f1-826b-40bd-a1c2-f7eda4ead330",
   "metadata": {},
   "source": [
    "Previously, the entire `df['title']` is used in count vectoriser.  \n",
    "It was done for the purpose of analysis.  \n",
    "Now I will split my data set into train and test, then vectorise them using TFIDF.  \n",
    "After which, a preliminary model will be developed for the purpose of further analysis.  "
   ]
  },
  {
   "cell_type": "code",
   "execution_count": 66,
   "id": "fe622b0d-1a1b-49fc-bc5e-1bf4d7d54bf8",
   "metadata": {},
   "outputs": [],
   "source": [
    "# Split the data\n",
    "X_train, X_test, y_train, y_test = train_test_split(df['title'], df['label'], test_size=0.2, random_state=42)"
   ]
  },
  {
   "cell_type": "code",
   "execution_count": 67,
   "id": "5bf76889-9aa5-4463-aef7-0f7abb7daf71",
   "metadata": {},
   "outputs": [],
   "source": [
    "vectorizer = TfidfVectorizer(stop_words=my_stop_words)\n",
    "X_train_tfidf = vectorizer.fit_transform(X_train)"
   ]
  },
  {
   "cell_type": "code",
   "execution_count": 68,
   "id": "2e1c39e3-eff9-4a4b-8422-f4edcaaf51ed",
   "metadata": {},
   "outputs": [
    {
     "data": {
      "text/html": [
       "<style>#sk-container-id-2 {color: black;background-color: white;}#sk-container-id-2 pre{padding: 0;}#sk-container-id-2 div.sk-toggleable {background-color: white;}#sk-container-id-2 label.sk-toggleable__label {cursor: pointer;display: block;width: 100%;margin-bottom: 0;padding: 0.3em;box-sizing: border-box;text-align: center;}#sk-container-id-2 label.sk-toggleable__label-arrow:before {content: \"▸\";float: left;margin-right: 0.25em;color: #696969;}#sk-container-id-2 label.sk-toggleable__label-arrow:hover:before {color: black;}#sk-container-id-2 div.sk-estimator:hover label.sk-toggleable__label-arrow:before {color: black;}#sk-container-id-2 div.sk-toggleable__content {max-height: 0;max-width: 0;overflow: hidden;text-align: left;background-color: #f0f8ff;}#sk-container-id-2 div.sk-toggleable__content pre {margin: 0.2em;color: black;border-radius: 0.25em;background-color: #f0f8ff;}#sk-container-id-2 input.sk-toggleable__control:checked~div.sk-toggleable__content {max-height: 200px;max-width: 100%;overflow: auto;}#sk-container-id-2 input.sk-toggleable__control:checked~label.sk-toggleable__label-arrow:before {content: \"▾\";}#sk-container-id-2 div.sk-estimator input.sk-toggleable__control:checked~label.sk-toggleable__label {background-color: #d4ebff;}#sk-container-id-2 div.sk-label input.sk-toggleable__control:checked~label.sk-toggleable__label {background-color: #d4ebff;}#sk-container-id-2 input.sk-hidden--visually {border: 0;clip: rect(1px 1px 1px 1px);clip: rect(1px, 1px, 1px, 1px);height: 1px;margin: -1px;overflow: hidden;padding: 0;position: absolute;width: 1px;}#sk-container-id-2 div.sk-estimator {font-family: monospace;background-color: #f0f8ff;border: 1px dotted black;border-radius: 0.25em;box-sizing: border-box;margin-bottom: 0.5em;}#sk-container-id-2 div.sk-estimator:hover {background-color: #d4ebff;}#sk-container-id-2 div.sk-parallel-item::after {content: \"\";width: 100%;border-bottom: 1px solid gray;flex-grow: 1;}#sk-container-id-2 div.sk-label:hover label.sk-toggleable__label {background-color: #d4ebff;}#sk-container-id-2 div.sk-serial::before {content: \"\";position: absolute;border-left: 1px solid gray;box-sizing: border-box;top: 0;bottom: 0;left: 50%;z-index: 0;}#sk-container-id-2 div.sk-serial {display: flex;flex-direction: column;align-items: center;background-color: white;padding-right: 0.2em;padding-left: 0.2em;position: relative;}#sk-container-id-2 div.sk-item {position: relative;z-index: 1;}#sk-container-id-2 div.sk-parallel {display: flex;align-items: stretch;justify-content: center;background-color: white;position: relative;}#sk-container-id-2 div.sk-item::before, #sk-container-id-2 div.sk-parallel-item::before {content: \"\";position: absolute;border-left: 1px solid gray;box-sizing: border-box;top: 0;bottom: 0;left: 50%;z-index: -1;}#sk-container-id-2 div.sk-parallel-item {display: flex;flex-direction: column;z-index: 1;position: relative;background-color: white;}#sk-container-id-2 div.sk-parallel-item:first-child::after {align-self: flex-end;width: 50%;}#sk-container-id-2 div.sk-parallel-item:last-child::after {align-self: flex-start;width: 50%;}#sk-container-id-2 div.sk-parallel-item:only-child::after {width: 0;}#sk-container-id-2 div.sk-dashed-wrapped {border: 1px dashed gray;margin: 0 0.4em 0.5em 0.4em;box-sizing: border-box;padding-bottom: 0.4em;background-color: white;}#sk-container-id-2 div.sk-label label {font-family: monospace;font-weight: bold;display: inline-block;line-height: 1.2em;}#sk-container-id-2 div.sk-label-container {text-align: center;}#sk-container-id-2 div.sk-container {/* jupyter's `normalize.less` sets `[hidden] { display: none; }` but bootstrap.min.css set `[hidden] { display: none !important; }` so we also need the `!important` here to be able to override the default hidden behavior on the sphinx rendered scikit-learn.org. See: https://github.com/scikit-learn/scikit-learn/issues/21755 */display: inline-block !important;position: relative;}#sk-container-id-2 div.sk-text-repr-fallback {display: none;}</style><div id=\"sk-container-id-2\" class=\"sk-top-container\"><div class=\"sk-text-repr-fallback\"><pre>MultinomialNB()</pre><b>In a Jupyter environment, please rerun this cell to show the HTML representation or trust the notebook. <br />On GitHub, the HTML representation is unable to render, please try loading this page with nbviewer.org.</b></div><div class=\"sk-container\" hidden><div class=\"sk-item\"><div class=\"sk-estimator sk-toggleable\"><input class=\"sk-toggleable__control sk-hidden--visually\" id=\"sk-estimator-id-2\" type=\"checkbox\" checked><label for=\"sk-estimator-id-2\" class=\"sk-toggleable__label sk-toggleable__label-arrow\">MultinomialNB</label><div class=\"sk-toggleable__content\"><pre>MultinomialNB()</pre></div></div></div></div></div>"
      ],
      "text/plain": [
       "MultinomialNB()"
      ]
     },
     "execution_count": 68,
     "metadata": {},
     "output_type": "execute_result"
    }
   ],
   "source": [
    "clf = MultinomialNB()\n",
    "clf.fit(X_train_tfidf, y_train)"
   ]
  },
  {
   "cell_type": "code",
   "execution_count": 69,
   "id": "9c97450a-4814-4b7b-8d47-ea7785e94f71",
   "metadata": {},
   "outputs": [],
   "source": [
    "X_test_tfidf = vectorizer.transform(X_test)"
   ]
  },
  {
   "cell_type": "code",
   "execution_count": 70,
   "id": "05249a71-f24c-4ae9-aa48-f4a8081f7097",
   "metadata": {},
   "outputs": [],
   "source": [
    "y_pred = clf.predict(X_test_tfidf)"
   ]
  },
  {
   "cell_type": "code",
   "execution_count": 71,
   "id": "c09d3b98-b24c-46f8-aca2-74fbe5876c75",
   "metadata": {},
   "outputs": [
    {
     "name": "stdout",
     "output_type": "stream",
     "text": [
      "Accuracy: 0.9154929577464789\n",
      "Confusion matrix:\n",
      " [[343  39]\n",
      " [ 27 372]]\n"
     ]
    }
   ],
   "source": [
    "print('Accuracy:', accuracy_score(y_test, y_pred))\n",
    "print('Confusion matrix:\\n', confusion_matrix(y_test, y_pred))"
   ]
  },
  {
   "cell_type": "code",
   "execution_count": 72,
   "id": "fb93a3d9-a2d0-4840-872c-a0fc132677c1",
   "metadata": {},
   "outputs": [],
   "source": [
    "y_pred_train = clf.predict(X_train_tfidf)"
   ]
  },
  {
   "cell_type": "code",
   "execution_count": 73,
   "id": "137d9f2e-6b31-4861-ac30-ed9568b2c9be",
   "metadata": {},
   "outputs": [
    {
     "name": "stdout",
     "output_type": "stream",
     "text": [
      "Accuracy: 0.9817483189241114\n",
      "Confusion matrix:\n",
      " [[1582   24]\n",
      " [  33 1484]]\n"
     ]
    }
   ],
   "source": [
    "print('Accuracy:', accuracy_score(y_train, y_pred_train))\n",
    "print('Confusion matrix:\\n', confusion_matrix(y_train, y_pred_train))"
   ]
  },
  {
   "cell_type": "markdown",
   "id": "1215ac02-1749-46da-bc8e-e946755a0677",
   "metadata": {},
   "source": [
    "Make the steps taken above into a pipeline.  \n",
    "This will be more user friendly!  "
   ]
  },
  {
   "cell_type": "code",
   "execution_count": 74,
   "id": "c5a6e06d-b683-40e9-9f0f-0eb4682deeff",
   "metadata": {},
   "outputs": [],
   "source": [
    "# make a pipeline ==> make my own class? \n",
    "steps_taken = [\n",
    "                ('tfid', TfidfVectorizer(stop_words=my_stop_words)),\n",
    "                ('Multinomial_Naive_Bayes', MultinomialNB())\n",
    "                ]\n",
    "tfidf_pipeline = Pipeline(steps_taken)"
   ]
  },
  {
   "cell_type": "code",
   "execution_count": 75,
   "id": "1f2f556c-786c-4528-ba85-c9186521485f",
   "metadata": {},
   "outputs": [
    {
     "data": {
      "text/html": [
       "<style>#sk-container-id-3 {color: black;background-color: white;}#sk-container-id-3 pre{padding: 0;}#sk-container-id-3 div.sk-toggleable {background-color: white;}#sk-container-id-3 label.sk-toggleable__label {cursor: pointer;display: block;width: 100%;margin-bottom: 0;padding: 0.3em;box-sizing: border-box;text-align: center;}#sk-container-id-3 label.sk-toggleable__label-arrow:before {content: \"▸\";float: left;margin-right: 0.25em;color: #696969;}#sk-container-id-3 label.sk-toggleable__label-arrow:hover:before {color: black;}#sk-container-id-3 div.sk-estimator:hover label.sk-toggleable__label-arrow:before {color: black;}#sk-container-id-3 div.sk-toggleable__content {max-height: 0;max-width: 0;overflow: hidden;text-align: left;background-color: #f0f8ff;}#sk-container-id-3 div.sk-toggleable__content pre {margin: 0.2em;color: black;border-radius: 0.25em;background-color: #f0f8ff;}#sk-container-id-3 input.sk-toggleable__control:checked~div.sk-toggleable__content {max-height: 200px;max-width: 100%;overflow: auto;}#sk-container-id-3 input.sk-toggleable__control:checked~label.sk-toggleable__label-arrow:before {content: \"▾\";}#sk-container-id-3 div.sk-estimator input.sk-toggleable__control:checked~label.sk-toggleable__label {background-color: #d4ebff;}#sk-container-id-3 div.sk-label input.sk-toggleable__control:checked~label.sk-toggleable__label {background-color: #d4ebff;}#sk-container-id-3 input.sk-hidden--visually {border: 0;clip: rect(1px 1px 1px 1px);clip: rect(1px, 1px, 1px, 1px);height: 1px;margin: -1px;overflow: hidden;padding: 0;position: absolute;width: 1px;}#sk-container-id-3 div.sk-estimator {font-family: monospace;background-color: #f0f8ff;border: 1px dotted black;border-radius: 0.25em;box-sizing: border-box;margin-bottom: 0.5em;}#sk-container-id-3 div.sk-estimator:hover {background-color: #d4ebff;}#sk-container-id-3 div.sk-parallel-item::after {content: \"\";width: 100%;border-bottom: 1px solid gray;flex-grow: 1;}#sk-container-id-3 div.sk-label:hover label.sk-toggleable__label {background-color: #d4ebff;}#sk-container-id-3 div.sk-serial::before {content: \"\";position: absolute;border-left: 1px solid gray;box-sizing: border-box;top: 0;bottom: 0;left: 50%;z-index: 0;}#sk-container-id-3 div.sk-serial {display: flex;flex-direction: column;align-items: center;background-color: white;padding-right: 0.2em;padding-left: 0.2em;position: relative;}#sk-container-id-3 div.sk-item {position: relative;z-index: 1;}#sk-container-id-3 div.sk-parallel {display: flex;align-items: stretch;justify-content: center;background-color: white;position: relative;}#sk-container-id-3 div.sk-item::before, #sk-container-id-3 div.sk-parallel-item::before {content: \"\";position: absolute;border-left: 1px solid gray;box-sizing: border-box;top: 0;bottom: 0;left: 50%;z-index: -1;}#sk-container-id-3 div.sk-parallel-item {display: flex;flex-direction: column;z-index: 1;position: relative;background-color: white;}#sk-container-id-3 div.sk-parallel-item:first-child::after {align-self: flex-end;width: 50%;}#sk-container-id-3 div.sk-parallel-item:last-child::after {align-self: flex-start;width: 50%;}#sk-container-id-3 div.sk-parallel-item:only-child::after {width: 0;}#sk-container-id-3 div.sk-dashed-wrapped {border: 1px dashed gray;margin: 0 0.4em 0.5em 0.4em;box-sizing: border-box;padding-bottom: 0.4em;background-color: white;}#sk-container-id-3 div.sk-label label {font-family: monospace;font-weight: bold;display: inline-block;line-height: 1.2em;}#sk-container-id-3 div.sk-label-container {text-align: center;}#sk-container-id-3 div.sk-container {/* jupyter's `normalize.less` sets `[hidden] { display: none; }` but bootstrap.min.css set `[hidden] { display: none !important; }` so we also need the `!important` here to be able to override the default hidden behavior on the sphinx rendered scikit-learn.org. See: https://github.com/scikit-learn/scikit-learn/issues/21755 */display: inline-block !important;position: relative;}#sk-container-id-3 div.sk-text-repr-fallback {display: none;}</style><div id=\"sk-container-id-3\" class=\"sk-top-container\"><div class=\"sk-text-repr-fallback\"><pre>Pipeline(steps=[(&#x27;tfid&#x27;,\n",
       "                 TfidfVectorizer(stop_words={&#x27;a&#x27;, &#x27;about&#x27;, &#x27;above&#x27;, &#x27;across&#x27;,\n",
       "                                             &#x27;after&#x27;, &#x27;afterwards&#x27;, &#x27;again&#x27;,\n",
       "                                             &#x27;against&#x27;, &#x27;ain&#x27;, &#x27;all&#x27;, &#x27;almost&#x27;,\n",
       "                                             &#x27;alone&#x27;, &#x27;along&#x27;, &#x27;already&#x27;,\n",
       "                                             &#x27;also&#x27;, &#x27;although&#x27;, &#x27;always&#x27;, &#x27;am&#x27;,\n",
       "                                             &#x27;among&#x27;, &#x27;amongst&#x27;, &#x27;amoungst&#x27;,\n",
       "                                             &#x27;amount&#x27;, &#x27;an&#x27;, &#x27;and&#x27;, &#x27;another&#x27;,\n",
       "                                             &#x27;any&#x27;, &#x27;anyhow&#x27;, &#x27;anyone&#x27;,\n",
       "                                             &#x27;anything&#x27;, &#x27;anyway&#x27;, ...})),\n",
       "                (&#x27;Multinomial_Naive_Bayes&#x27;, MultinomialNB())])</pre><b>In a Jupyter environment, please rerun this cell to show the HTML representation or trust the notebook. <br />On GitHub, the HTML representation is unable to render, please try loading this page with nbviewer.org.</b></div><div class=\"sk-container\" hidden><div class=\"sk-item sk-dashed-wrapped\"><div class=\"sk-label-container\"><div class=\"sk-label sk-toggleable\"><input class=\"sk-toggleable__control sk-hidden--visually\" id=\"sk-estimator-id-3\" type=\"checkbox\" ><label for=\"sk-estimator-id-3\" class=\"sk-toggleable__label sk-toggleable__label-arrow\">Pipeline</label><div class=\"sk-toggleable__content\"><pre>Pipeline(steps=[(&#x27;tfid&#x27;,\n",
       "                 TfidfVectorizer(stop_words={&#x27;a&#x27;, &#x27;about&#x27;, &#x27;above&#x27;, &#x27;across&#x27;,\n",
       "                                             &#x27;after&#x27;, &#x27;afterwards&#x27;, &#x27;again&#x27;,\n",
       "                                             &#x27;against&#x27;, &#x27;ain&#x27;, &#x27;all&#x27;, &#x27;almost&#x27;,\n",
       "                                             &#x27;alone&#x27;, &#x27;along&#x27;, &#x27;already&#x27;,\n",
       "                                             &#x27;also&#x27;, &#x27;although&#x27;, &#x27;always&#x27;, &#x27;am&#x27;,\n",
       "                                             &#x27;among&#x27;, &#x27;amongst&#x27;, &#x27;amoungst&#x27;,\n",
       "                                             &#x27;amount&#x27;, &#x27;an&#x27;, &#x27;and&#x27;, &#x27;another&#x27;,\n",
       "                                             &#x27;any&#x27;, &#x27;anyhow&#x27;, &#x27;anyone&#x27;,\n",
       "                                             &#x27;anything&#x27;, &#x27;anyway&#x27;, ...})),\n",
       "                (&#x27;Multinomial_Naive_Bayes&#x27;, MultinomialNB())])</pre></div></div></div><div class=\"sk-serial\"><div class=\"sk-item\"><div class=\"sk-estimator sk-toggleable\"><input class=\"sk-toggleable__control sk-hidden--visually\" id=\"sk-estimator-id-4\" type=\"checkbox\" ><label for=\"sk-estimator-id-4\" class=\"sk-toggleable__label sk-toggleable__label-arrow\">TfidfVectorizer</label><div class=\"sk-toggleable__content\"><pre>TfidfVectorizer(stop_words={&#x27;a&#x27;, &#x27;about&#x27;, &#x27;above&#x27;, &#x27;across&#x27;, &#x27;after&#x27;,\n",
       "                            &#x27;afterwards&#x27;, &#x27;again&#x27;, &#x27;against&#x27;, &#x27;ain&#x27;, &#x27;all&#x27;,\n",
       "                            &#x27;almost&#x27;, &#x27;alone&#x27;, &#x27;along&#x27;, &#x27;already&#x27;, &#x27;also&#x27;,\n",
       "                            &#x27;although&#x27;, &#x27;always&#x27;, &#x27;am&#x27;, &#x27;among&#x27;, &#x27;amongst&#x27;,\n",
       "                            &#x27;amoungst&#x27;, &#x27;amount&#x27;, &#x27;an&#x27;, &#x27;and&#x27;, &#x27;another&#x27;, &#x27;any&#x27;,\n",
       "                            &#x27;anyhow&#x27;, &#x27;anyone&#x27;, &#x27;anything&#x27;, &#x27;anyway&#x27;, ...})</pre></div></div></div><div class=\"sk-item\"><div class=\"sk-estimator sk-toggleable\"><input class=\"sk-toggleable__control sk-hidden--visually\" id=\"sk-estimator-id-5\" type=\"checkbox\" ><label for=\"sk-estimator-id-5\" class=\"sk-toggleable__label sk-toggleable__label-arrow\">MultinomialNB</label><div class=\"sk-toggleable__content\"><pre>MultinomialNB()</pre></div></div></div></div></div></div></div>"
      ],
      "text/plain": [
       "Pipeline(steps=[('tfid',\n",
       "                 TfidfVectorizer(stop_words={'a', 'about', 'above', 'across',\n",
       "                                             'after', 'afterwards', 'again',\n",
       "                                             'against', 'ain', 'all', 'almost',\n",
       "                                             'alone', 'along', 'already',\n",
       "                                             'also', 'although', 'always', 'am',\n",
       "                                             'among', 'amongst', 'amoungst',\n",
       "                                             'amount', 'an', 'and', 'another',\n",
       "                                             'any', 'anyhow', 'anyone',\n",
       "                                             'anything', 'anyway', ...})),\n",
       "                ('Multinomial_Naive_Bayes', MultinomialNB())])"
      ]
     },
     "execution_count": 75,
     "metadata": {},
     "output_type": "execute_result"
    }
   ],
   "source": [
    "tfidf_pipeline.fit(X_train, y_train)"
   ]
  },
  {
   "cell_type": "code",
   "execution_count": 76,
   "id": "2fe70b7e-72f5-41a3-8deb-2eaa5a0db258",
   "metadata": {},
   "outputs": [],
   "source": [
    "y_pred_pipe = tfidf_pipeline.predict(X_test)"
   ]
  },
  {
   "cell_type": "code",
   "execution_count": 77,
   "id": "8733d46c-8688-436c-8d64-5a29c8e95550",
   "metadata": {},
   "outputs": [
    {
     "name": "stdout",
     "output_type": "stream",
     "text": [
      "Accuracy: 0.9154929577464789\n",
      "Confusion matrix:\n",
      " [[343  39]\n",
      " [ 27 372]]\n"
     ]
    }
   ],
   "source": [
    "print('Accuracy:', accuracy_score(y_test, y_pred_pipe))\n",
    "print('Confusion matrix:\\n', confusion_matrix(y_test, y_pred_pipe))"
   ]
  },
  {
   "cell_type": "markdown",
   "id": "c5545b48-03cd-4a7f-b94e-d0caf1439c8e",
   "metadata": {},
   "source": [
    "Write a `print_confusion_matrix()` function.  "
   ]
  },
  {
   "cell_type": "code",
   "execution_count": 78,
   "id": "8035f581-cb64-4362-b8cf-daf99ba8ba8a",
   "metadata": {},
   "outputs": [],
   "source": [
    "def print_confusion_matrix(y_actual, y_pred):\n",
    "    cf_matrix = confusion_matrix(y_actual, y_pred)\n",
    "    group_names = ['True Neg','False Pos','False Neg','True Pos']\n",
    "    group_counts = [\"{0:0.0f}\".format(value) for value in\n",
    "                    cf_matrix.flatten()]\n",
    "    group_percentages = [\"{0:.2%}\".format(value) for value in\n",
    "                         cf_matrix.flatten()/np.sum(cf_matrix)]\n",
    "    labels = [f'{v1}\\n{v2}\\n{v3}' for v1, v2, v3 in\n",
    "              zip(group_names,group_counts,group_percentages)]\n",
    "    labels = np.asarray(labels).reshape(2,2)\n",
    "    sns.heatmap(cf_matrix, annot=labels, fmt='', cmap='Blues')"
   ]
  },
  {
   "cell_type": "code",
   "execution_count": 79,
   "id": "2f18c90a-7e6a-4c67-a0fd-26592cd97102",
   "metadata": {},
   "outputs": [
    {
     "data": {
      "image/png": "[encoded data removed]",
      "text/plain": [
       "<Figure size 640x480 with 2 Axes>"
      ]
     },
     "metadata": {},
     "output_type": "display_data"
    }
   ],
   "source": [
    "print_confusion_matrix(y_test, y_pred_pipe)"
   ]
  },
  {
   "cell_type": "code",
   "execution_count": 80,
   "id": "36e14b73-161e-4b98-8677-10a7f1bd21c6",
   "metadata": {},
   "outputs": [
    {
     "data": {
      "image/png": "[encoded data removed]",
      "text/plain": [
       "<Figure size 640x480 with 2 Axes>"
      ]
     },
     "metadata": {},
     "output_type": "display_data"
    }
   ],
   "source": [
    "print_confusion_matrix(y_actual=y_train, y_pred=y_pred_train) # showing the training set results for comparison"
   ]
  },
  {
   "cell_type": "markdown",
   "id": "2f06385b-d93c-424b-8ab3-88622362b60d",
   "metadata": {},
   "source": [
    "Looking at the percentages, the traning of the model is slightly over fitted.  \n",
    "It have a slightly higher True Negative and True Positive rate, which was not achieved when making classifications using the test set.  \n",
    "This is still acceptable, given this is a investigative preliminary model.  \n",
    "It should be generalised however.  \n",
    "So I will employ methods like having a minimum document frequency, removing some words etc.  "
   ]
  },
  {
   "cell_type": "code",
   "execution_count": 81,
   "id": "43799502-0acd-441e-b963-0b57bc8d18bd",
   "metadata": {},
   "outputs": [],
   "source": [
    "def metrics_for_model(y_true, y_pred):\n",
    "    '''find the relavent metrics from confusion metrics\n",
    "    arg:\n",
    "        y_true: true value for y\n",
    "        y_pred: predicted value for y\n",
    "    out:\n",
    "        pre: precison score\n",
    "        rec: recall score\n",
    "        f1: f1 socre\n",
    "    '''\n",
    "    tn, fp, fn, tp =confusion_matrix(y_true, y_pred).ravel()\n",
    "    pre = tp/(tp+fp)\n",
    "    rec = tp/(tp+fn)\n",
    "    f1 = 2*(pre*rec)/(pre+rec)\n",
    "    print(f\"The recall of this inference is: {rec}\")\n",
    "    print(f\"The precision of this inference is: {pre}\")\n",
    "    print(f\"The f1 score for this inference is: {f1}\")\n",
    "    return pre, rec, f1"
   ]
  },
  {
   "cell_type": "code",
   "execution_count": 82,
   "id": "f8052f1d-b2e8-467d-a074-f596c64b95a5",
   "metadata": {},
   "outputs": [
    {
     "name": "stdout",
     "output_type": "stream",
     "text": [
      "The recall of this inference is: 0.9323308270676691\n",
      "The precision of this inference is: 0.9051094890510949\n",
      "The f1 score for this inference is: 0.9185185185185184\n"
     ]
    }
   ],
   "source": [
    "metrics_for_model(y_test, y_pred);"
   ]
  },
  {
   "cell_type": "markdown",
   "id": "b42c0e3c-5d71-4574-a5b4-f351cfbbe40b",
   "metadata": {},
   "source": [
    "The four common metrics for classifiers are:\n",
    "\n",
    "1. Accuracy: This is the proportion of correct predictions made by the model, i.e., the number of true positives and true negatives divided by the total number of samples. However, accuracy may not be the best metric to use when the classes are imbalanced.\n",
    "\n",
    "2. Precision: This is the proportion of true positives among the predicted positives, i.e., the number of true positives divided by the sum of true positives and false positives. Precision is a good metric to use when the cost of false positives is high.\n",
    "\n",
    "3. Recall: This is the proportion of true positives among the actual positives, i.e., the number of true positives divided by the sum of true positives and false negatives. Recall is a good metric to use when the cost of false negatives is high.\n",
    "\n",
    "4. F1 score: This is the harmonic mean of precision and recall, i.e., 2 * precision * recall / (precision + recall). The F1 score is a good metric to use when both precision and recall are important.\n",
    "\n",
    "---\n",
    "With all the components ready, I can make this into a class object with various mathods to simple uses!"
   ]
  },
  {
   "cell_type": "code",
   "execution_count": 83,
   "id": "45c334f1-f314-49c0-ba72-a63fd268a4ff",
   "metadata": {},
   "outputs": [],
   "source": [
    "class NBModel(object):\n",
    "    '''A class to create a quick and dirty preliminary Multinomial NB Model\n",
    "    '''\n",
    "    def __init__(self, df, stop_words):\n",
    "        self.df = df\n",
    "        self.stop_words = stop_words\n",
    "    \n",
    "    def split_data(self, test_size=0.2, random_state=42):\n",
    "        '''splits the data in df\n",
    "        args:\n",
    "            test_size: percentage of data used for testing. They are not fed into training. default=0.2\n",
    "            random_state: random_state to ensure same anser. default = 42, cus 42 is the answer to everything. I just dunno the question Xp\n",
    "        '''\n",
    "        X_train, X_test, y_train, y_test = train_test_split(self.df['title'], self.df['label'], test_size=test_size, random_state=random_state)\n",
    "        self.X_train = X_train\n",
    "        self.X_test = X_test\n",
    "        self.y_test = y_test\n",
    "        self.y_train = y_train\n",
    "    \n",
    "    def training(self, vectorizer='tfidf', n_gram_range = (1,1), min_doc_f = 5 ):\n",
    "        '''train model with portion of data used for training\n",
    "        args:\n",
    "            vectorizer: what method to use to vectorise the words. \n",
    "                        availabe methods {'tfidf','cvec'}\n",
    "                        default = 'tfidf'\n",
    "        '''\n",
    "        if vectorizer == 'tfidf':\n",
    "            steps_taken = [\n",
    "                    ('tfid', TfidfVectorizer(stop_words=self.stop_words, \n",
    "                                             ngram_range = n_gram_range,\n",
    "                                             min_df=min_doc_f,)),\n",
    "                    ('Multinomial_Naive_Bayes', MultinomialNB())\n",
    "                    ]\n",
    "        elif vectorizer == 'cvec':\n",
    "            steps_taken = [\n",
    "                    ('tfid', CountVectorizer(stop_words=self.stop_words,\n",
    "                                             ngram_range = n_gram_range, \n",
    "                                             min_df=min_doc_f,)),\n",
    "                    ('Multinomial_Naive_Bayes', MultinomialNB())\n",
    "                    ]\n",
    "        else:\n",
    "            print('No such vectoriser included! Defaulting to TFIDF.')\n",
    "            steps_taken = [\n",
    "                    ('tfid', TfidfVectorizer(stop_words=self.stop_words, \n",
    "                                             ngram_range=n_gram_range, \n",
    "                                             min_df = min_doc_f,)),\n",
    "                    ('Multinomial_Naive_Bayes', MultinomialNB())\n",
    "                    ]            \n",
    "        self.nb_pipeline = Pipeline(steps_taken)\n",
    "        \n",
    "    def fitting(self):\n",
    "        '''Fit the model and create a trained/ fitted model\n",
    "        '''\n",
    "        self.fitted_model = self.nb_pipeline.fit(self.X_train, self.y_train)\n",
    "    \n",
    "    def make_prediction(self, X=None):\n",
    "        '''Make prediction using datas\n",
    "        args:\n",
    "            X: df colmun of data to be predicted, in same format as df\n",
    "        '''\n",
    "        if X == None:\n",
    "            y_pred = self.fitted_model.predict(self.X_test)\n",
    "        else:\n",
    "            y_pred = self.fitted_model.predict(X)\n",
    "        self.y_pred = y_pred\n",
    "    \n",
    "    def confusion_matric(self):\n",
    "        '''Make a confusion matrics with self.y_test and self.y_pred\n",
    "        args:\n",
    "            y_actual: actual label of y\n",
    "            y_pred: predicted lable of y\n",
    "        '''\n",
    "        self.cf_matrix = confusion_matrix(self.y_test, self.y_pred)\n",
    "        group_names = ['True Neg','False Pos','False Neg','True Pos']\n",
    "        group_counts = [\"{0:0.0f}\".format(value) for value in\n",
    "                        self.cf_matrix.flatten()]\n",
    "        group_percentages = [\"{0:.2%}\".format(value) for value in\n",
    "                             self.cf_matrix.flatten()/np.sum(self.cf_matrix)]\n",
    "        labels = [f'{v1}\\n{v2}\\n{v3}' for v1, v2, v3 in\n",
    "                  zip(group_names,group_counts,group_percentages)]\n",
    "        labels = np.asarray(labels).reshape(2,2)\n",
    "        sns.heatmap(self.cf_matrix, annot=labels, fmt='', cmap='Blues')\n",
    "        \n",
    "    def other_scores(self):\n",
    "        '''Find other socres like recall, precision and f1\n",
    "        '''\n",
    "        try: \n",
    "            tn, fp, fn, tp = self.cf_matrix.ravel()\n",
    "        except Exception as e:\n",
    "            print(e)\n",
    "            print(\"create cf_matrix now...\")\n",
    "            self.confusion_matric()\n",
    "            print(\"done, retry...\")\n",
    "            tn, fp, fn, tp = self.cf_matrix.ravel()\n",
    "        pre = tp/(tp+fp)\n",
    "        rec = tp/(tp+fn)\n",
    "        f1 = 2*(pre*rec)/(pre+rec)\n",
    "        print(f\"The recall of this inference is: {rec}\")\n",
    "        print(f\"The precision of this inference is: {pre}\")\n",
    "        print(f\"The f1 score for this inference is: {f1}\")\n",
    "        return pre, rec, f1\n",
    "    \n",
    "    def save_fitted(self, name):\n",
    "        '''save fitted model as joblib file\n",
    "        '''\n",
    "        joblib.dump(self.fitted_model, '../model/'+name+'.joblib')\n",
    "        \n",
    "    def load_fitted(self, path):\n",
    "        '''load saved joblib model\n",
    "        '''\n",
    "        self.fitted_model = joblib.load(path)\n",
    "        return self.fitted_model\n",
    "    \n",
    "    def check_existance(self, word):\n",
    "        '''Check if a word exists in the corpus\n",
    "        '''\n",
    "        if word in self.nb_pipeline[0].vocabulary_:\n",
    "            print(f\"{word} exists in the corpus\")\n",
    "        else:\n",
    "            print(f\"{word} does not exist in the corpus\")\n",
    "            \n",
    "    def i_lazy(self):\n",
    "        '''1 command to run it all for a lazy person like me =)\n",
    "        '''\n",
    "        self.split_data()\n",
    "        self.training()\n",
    "        self.fitting()\n",
    "        self.make_prediction()\n",
    "        self.confusion_matric()\n",
    "        self.other_scores();"
   ]
  },
  {
   "cell_type": "code",
   "execution_count": 84,
   "id": "150df0ad-ac77-4463-b1dc-1ca95b75cc29",
   "metadata": {},
   "outputs": [
    {
     "name": "stdout",
     "output_type": "stream",
     "text": [
      "'NBModel' object has no attribute 'cf_matrix'\n",
      "create cf_matrix now...\n",
      "done, retry...\n",
      "The recall of this inference is: 0.9122807017543859\n",
      "The precision of this inference is: 0.914572864321608\n",
      "The f1 score for this inference is: 0.9134253450439146\n"
     ]
    },
    {
     "data": {
      "image/png": "[encoded data removed]",
      "text/plain": [
       "<Figure size 640x480 with 2 Axes>"
      ]
     },
     "metadata": {},
     "output_type": "display_data"
    }
   ],
   "source": [
    "nb_model = NBModel(df, my_stop_words)\n",
    "nb_model.split_data()\n",
    "nb_model.training()\n",
    "nb_model.fitting()\n",
    "nb_model.make_prediction()\n",
    "nb_model.other_scores();"
   ]
  },
  {
   "cell_type": "code",
   "execution_count": 85,
   "id": "ef2725a4-4164-4f84-a81b-ab30b830342e",
   "metadata": {},
   "outputs": [
    {
     "name": "stdout",
     "output_type": "stream",
     "text": [
      "asdsfhsnjkfdvb does not exist in the corpus\n"
     ]
    }
   ],
   "source": [
    "nb_model.check_existance('asdsfhsnjkfdvb')"
   ]
  },
  {
   "cell_type": "markdown",
   "id": "28924397-a591-4193-a664-9f8e9cbda245",
   "metadata": {},
   "source": [
    "From above, I see that the model is slightly overfitted with the training data.  \n",
    "The percentage of false nagtive and flase postives are higher in the test set compared to the training set.  \n",
    "However, simply by looking at the small test sample, the difference doesn't seem to be much.\n",
    "\n",
    "---\n",
    "In this very basic model, the model performance of the model is rather good.  \n",
    "This is because the gave away words are not being removed.  \n",
    "In this case, 0 represents `PlayStation` and 1 represents `Nintendo`.  \n",
    "There are 38 posts that are actually from `Nintendo` being classified as from `PlayStstion`.  \n",
    "There are 29 posts from `PlayStation` that are being classified as from `Nintendo`.  \n",
    "The recall, precision and f1 scores are all listed above, and they show pretty good results.  "
   ]
  },
  {
   "cell_type": "code",
   "execution_count": 86,
   "id": "5f059729-9b1c-443e-b7ea-21d5dea2ffa3",
   "metadata": {},
   "outputs": [],
   "source": [
    "nb_model.save_fitted('prelim_model')"
   ]
  },
  {
   "cell_type": "code",
   "execution_count": 87,
   "id": "1c1f76e9-fe3d-4b64-971f-53f401d12fbd",
   "metadata": {},
   "outputs": [],
   "source": [
    "loaded_model = nb_model.load_fitted('../model/prelim_model.joblib')"
   ]
  },
  {
   "cell_type": "markdown",
   "id": "f4b58ebf-0148-4ca2-9761-4b3523b9c5f1",
   "metadata": {},
   "source": [
    "From this model, there are a few problems that can be seen.  \n",
    "1st is that weblinks will be considered as a single word.  \n",
    "This will make me unable to extract out the useful information that may appear in the link.  \n",
    "Also, only a single word is tokenised.  \n",
    "Stemming and Lematiziation was not used.  \n",
    "I can also include n-grams as feature engineering.    "
   ]
  },
  {
   "cell_type": "markdown",
   "id": "5b0a65ab-f40d-431b-ab1b-e1e2689ff52f",
   "metadata": {
    "tags": []
   },
   "source": [
    "## Further EDA"
   ]
  },
  {
   "cell_type": "markdown",
   "id": "9191f321-7c19-441b-8597-797e08688007",
   "metadata": {},
   "source": [
    "Now, let us test the model by throwing in some random words."
   ]
  },
  {
   "cell_type": "code",
   "execution_count": 88,
   "id": "74e47f67-8ec4-4a3f-8a69-02610cda317e",
   "metadata": {},
   "outputs": [],
   "source": [
    "whatever = pd.DataFrame({'title': ['game', 'nintendo', 'playstaion', 'haha', 'fun', 'graphics', 'mario', 'spiderman', \n",
    "                                   'meh', 'what', 'new', 'a', 'horizons', 'try', 'ajdisajsbjacvbsjdf', '🧑‍🎤👩‍🎤👨‍🎤', 'got', 'day']})"
   ]
  },
  {
   "cell_type": "code",
   "execution_count": 89,
   "id": "e1e91c08-7e59-451c-9162-de0fc3c0c188",
   "metadata": {},
   "outputs": [
    {
     "data": {
      "text/html": [
       "<div>\n",
       "<style scoped>\n",
       "    .dataframe tbody tr th:only-of-type {\n",
       "        vertical-align: middle;\n",
       "    }\n",
       "\n",
       "    .dataframe tbody tr th {\n",
       "        vertical-align: top;\n",
       "    }\n",
       "\n",
       "    .dataframe thead th {\n",
       "        text-align: right;\n",
       "    }\n",
       "</style>\n",
       "<table border=\"1\" class=\"dataframe\">\n",
       "  <thead>\n",
       "    <tr style=\"text-align: right;\">\n",
       "      <th></th>\n",
       "      <th>0</th>\n",
       "      <th>1</th>\n",
       "      <th>2</th>\n",
       "      <th>3</th>\n",
       "      <th>4</th>\n",
       "      <th>5</th>\n",
       "      <th>6</th>\n",
       "      <th>7</th>\n",
       "      <th>8</th>\n",
       "      <th>9</th>\n",
       "      <th>10</th>\n",
       "      <th>11</th>\n",
       "      <th>12</th>\n",
       "      <th>13</th>\n",
       "      <th>14</th>\n",
       "      <th>15</th>\n",
       "      <th>16</th>\n",
       "      <th>17</th>\n",
       "    </tr>\n",
       "  </thead>\n",
       "  <tbody>\n",
       "    <tr>\n",
       "      <th>title</th>\n",
       "      <td>game</td>\n",
       "      <td>nintendo</td>\n",
       "      <td>playstaion</td>\n",
       "      <td>haha</td>\n",
       "      <td>fun</td>\n",
       "      <td>graphics</td>\n",
       "      <td>mario</td>\n",
       "      <td>spiderman</td>\n",
       "      <td>meh</td>\n",
       "      <td>what</td>\n",
       "      <td>new</td>\n",
       "      <td>a</td>\n",
       "      <td>horizons</td>\n",
       "      <td>try</td>\n",
       "      <td>ajdisajsbjacvbsjdf</td>\n",
       "      <td>🧑‍🎤👩‍🎤👨‍🎤</td>\n",
       "      <td>got</td>\n",
       "      <td>day</td>\n",
       "    </tr>\n",
       "  </tbody>\n",
       "</table>\n",
       "</div>"
      ],
      "text/plain": [
       "         0         1           2     3    4         5      6          7    8   \\\n",
       "title  game  nintendo  playstaion  haha  fun  graphics  mario  spiderman  meh   \n",
       "\n",
       "         9    10 11        12   13                  14         15   16   17  \n",
       "title  what  new  a  horizons  try  ajdisajsbjacvbsjdf  🧑‍🎤👩‍🎤👨‍🎤  got  day  "
      ]
     },
     "execution_count": 89,
     "metadata": {},
     "output_type": "execute_result"
    }
   ],
   "source": [
    "whatever.T # Transposed for easier viewing"
   ]
  },
  {
   "cell_type": "code",
   "execution_count": 90,
   "id": "ca5e4cce-7d27-4fd3-828b-960f7aff8f26",
   "metadata": {},
   "outputs": [],
   "source": [
    "y_eda_pred = loaded_model.predict(whatever['title'])"
   ]
  },
  {
   "cell_type": "code",
   "execution_count": 91,
   "id": "69238050-bd2f-43ac-9d6a-9aecafdf0138",
   "metadata": {},
   "outputs": [
    {
     "data": {
      "text/html": [
       "<div>\n",
       "<style scoped>\n",
       "    .dataframe tbody tr th:only-of-type {\n",
       "        vertical-align: middle;\n",
       "    }\n",
       "\n",
       "    .dataframe tbody tr th {\n",
       "        vertical-align: top;\n",
       "    }\n",
       "\n",
       "    .dataframe thead th {\n",
       "        text-align: right;\n",
       "    }\n",
       "</style>\n",
       "<table border=\"1\" class=\"dataframe\">\n",
       "  <thead>\n",
       "    <tr style=\"text-align: right;\">\n",
       "      <th></th>\n",
       "      <th>0</th>\n",
       "      <th>1</th>\n",
       "      <th>2</th>\n",
       "      <th>3</th>\n",
       "      <th>4</th>\n",
       "      <th>5</th>\n",
       "      <th>6</th>\n",
       "      <th>7</th>\n",
       "      <th>8</th>\n",
       "      <th>9</th>\n",
       "      <th>10</th>\n",
       "      <th>11</th>\n",
       "      <th>12</th>\n",
       "      <th>13</th>\n",
       "      <th>14</th>\n",
       "      <th>15</th>\n",
       "      <th>16</th>\n",
       "      <th>17</th>\n",
       "    </tr>\n",
       "  </thead>\n",
       "  <tbody>\n",
       "    <tr>\n",
       "      <th>title</th>\n",
       "      <td>game</td>\n",
       "      <td>nintendo</td>\n",
       "      <td>playstaion</td>\n",
       "      <td>haha</td>\n",
       "      <td>fun</td>\n",
       "      <td>graphics</td>\n",
       "      <td>mario</td>\n",
       "      <td>spiderman</td>\n",
       "      <td>meh</td>\n",
       "      <td>what</td>\n",
       "      <td>new</td>\n",
       "      <td>a</td>\n",
       "      <td>horizons</td>\n",
       "      <td>try</td>\n",
       "      <td>ajdisajsbjacvbsjdf</td>\n",
       "      <td>🧑‍🎤👩‍🎤👨‍🎤</td>\n",
       "      <td>got</td>\n",
       "      <td>day</td>\n",
       "    </tr>\n",
       "    <tr>\n",
       "      <th>pred</th>\n",
       "      <td>1</td>\n",
       "      <td>1</td>\n",
       "      <td>0</td>\n",
       "      <td>0</td>\n",
       "      <td>1</td>\n",
       "      <td>0</td>\n",
       "      <td>1</td>\n",
       "      <td>0</td>\n",
       "      <td>0</td>\n",
       "      <td>0</td>\n",
       "      <td>1</td>\n",
       "      <td>0</td>\n",
       "      <td>1</td>\n",
       "      <td>0</td>\n",
       "      <td>0</td>\n",
       "      <td>0</td>\n",
       "      <td>0</td>\n",
       "      <td>1</td>\n",
       "    </tr>\n",
       "  </tbody>\n",
       "</table>\n",
       "</div>"
      ],
      "text/plain": [
       "         0         1           2     3    4         5      6          7    8   \\\n",
       "title  game  nintendo  playstaion  haha  fun  graphics  mario  spiderman  meh   \n",
       "pred      1         1           0     0    1         0      1          0    0   \n",
       "\n",
       "         9    10 11        12   13                  14         15   16   17  \n",
       "title  what  new  a  horizons  try  ajdisajsbjacvbsjdf  🧑‍🎤👩‍🎤👨‍🎤  got  day  \n",
       "pred      0    1  0         1    0                   0          0    0    1  "
      ]
     },
     "execution_count": 91,
     "metadata": {},
     "output_type": "execute_result"
    }
   ],
   "source": [
    "whatever['pred'] = y_eda_pred\n",
    "whatever.T"
   ]
  },
  {
   "cell_type": "markdown",
   "id": "a60d19e8-c988-43d4-8c9c-3071df215d40",
   "metadata": {},
   "source": [
    "both `game` and `fun` are from nintendo.   \n",
    "but nintendo lacks `graphics` =(  \n",
    "`mario` is correctly identified from nintendo as well.  \n",
    "`spiderman` is correctly identified to be from playstation.  \n",
    "for some reason `new` is from nintendo.  \n",
    "I hypothesised that it is because of animal crossing new horizons, and upon checking, this seems to be the case.   \n",
    "However, this model have a major flaw.  \n",
    "As long as the model doesn't recognise the word, it will decide that it is from playstation.  \n",
    "Or rather, this the Out-Of-Vocabulary problem.  \n",
    "When a classifier encounters a new or unseen word that is not present in the training data, it may not know how to classify it and may assign it to the negative group by default.   \n",
    "What I can do, is to scrape for more data.   \n",
    "If not add the new data into training, if it is above the set treshold for count appearance.  \n",
    "One example is the emojicons that showed up in a nintendo post.  \n",
    "It is not being entered into the TFIDF matrix since it is only 1 ocurrance.  \n",
    "Because it is not seen by the model before, the simple model predicts that it comes from playstation.  \n",
    "This can lead to errors in the classification results.\n",
    "To solve this problem, or at least give a warning, I added method `.check_existance()` to my `NBModel` class.  \n",
    "A function is also implemented below for this check."
   ]
  },
  {
   "cell_type": "code",
   "execution_count": 92,
   "id": "23c9bb20-c85c-4026-adc4-2d5c016e2e0f",
   "metadata": {},
   "outputs": [],
   "source": [
    "def check_corpus(model, word):\n",
    "    if word in model[0].vocabulary_:\n",
    "        print(f\"{word} in corpus\")\n",
    "    else:\n",
    "        print(f\"{word} not in corpus\")"
   ]
  },
  {
   "cell_type": "code",
   "execution_count": 93,
   "id": "36acbfe9-75de-472c-a6c8-3a8d3c9954c9",
   "metadata": {},
   "outputs": [
    {
     "name": "stdout",
     "output_type": "stream",
     "text": [
      "asdsfhsnjkfdvb not in corpus\n"
     ]
    }
   ],
   "source": [
    "check_corpus(loaded_model, 'asdsfhsnjkfdvb')"
   ]
  },
  {
   "cell_type": "code",
   "execution_count": 94,
   "id": "02a5ee1e-d626-4fcb-b09b-2bf602605c36",
   "metadata": {},
   "outputs": [
    {
     "name": "stdout",
     "output_type": "stream",
     "text": [
      "🧑‍🎤👩‍🎤👨‍🎤 not in corpus\n"
     ]
    }
   ],
   "source": [
    "check_corpus(loaded_model, '🧑‍🎤👩‍🎤👨‍🎤')"
   ]
  },
  {
   "cell_type": "markdown",
   "id": "cd8c9070-2911-4755-a669-918fbd7ccede",
   "metadata": {},
   "source": [
    "These emojis are not in corpus because they are being filtred out.  "
   ]
  },
  {
   "cell_type": "code",
   "execution_count": 95,
   "id": "a0323772-0573-438b-9c91-271cc6b5347e",
   "metadata": {},
   "outputs": [
    {
     "name": "stdout",
     "output_type": "stream",
     "text": [
      "nintendo in corpus\n"
     ]
    }
   ],
   "source": [
    "check_corpus(loaded_model, 'nintendo')"
   ]
  },
  {
   "cell_type": "markdown",
   "id": "762a9a46-cf59-4947-9aaf-159d2d6900fa",
   "metadata": {},
   "source": [
    "Also, the model included some common words, such as `got` and `day`, probably doesn't hurt to have them removed?  \n",
    "At least for the single word cases like this... \n",
    "Just give it a try."
   ]
  },
  {
   "cell_type": "code",
   "execution_count": 96,
   "id": "7a4f1a5e-414d-4aaa-8eac-c1d846ba03cd",
   "metadata": {},
   "outputs": [],
   "source": [
    "list_of_stop_words = [my_stop_words, {'got', 'day'}]\n",
    "my_stop_words = set().union(*list_of_stop_words)"
   ]
  },
  {
   "cell_type": "code",
   "execution_count": 97,
   "id": "6bf1c171-6a98-4d6b-8780-2daf0811e59b",
   "metadata": {},
   "outputs": [
    {
     "name": "stdout",
     "output_type": "stream",
     "text": [
      "The recall of this inference is: 0.9122807017543859\n",
      "The precision of this inference is: 0.9168765743073047\n",
      "The f1 score for this inference is: 0.9145728643216079\n"
     ]
    },
    {
     "data": {
      "image/png": "[encoded data removed]",
      "text/plain": [
       "<Figure size 640x480 with 2 Axes>"
      ]
     },
     "metadata": {},
     "output_type": "display_data"
    }
   ],
   "source": [
    "nb_model_2 = NBModel(df, my_stop_words)\n",
    "nb_model_2.i_lazy()"
   ]
  },
  {
   "cell_type": "markdown",
   "id": "bdcbbf06-fc56-4f0f-8f91-d450277086e9",
   "metadata": {},
   "source": [
    "From the result, it can be seen that both true negative and true positive in the test set have not changed much.  \n",
    "True negative increased by 1.  \n",
    "This means, for the test set I am using, removing the words `got` and `day` did not affect it much.  \n",
    "Either, the words themselves didn't appear in the test set too frequently.  \n",
    "Or, it really doesn't affect much, becasue the TF-IDF score is low.  \n",
    "\n",
    "---\n",
    "now  try the same with `nintendo` and `playstation`."
   ]
  },
  {
   "cell_type": "code",
   "execution_count": 98,
   "id": "ae57c59e-4af6-43f3-bde3-4fda5d8d8d1a",
   "metadata": {},
   "outputs": [
    {
     "name": "stdout",
     "output_type": "stream",
     "text": [
      "The recall of this inference is: 0.8646616541353384\n",
      "The precision of this inference is: 0.9078947368421053\n",
      "The f1 score for this inference is: 0.8857509627727858\n"
     ]
    },
    {
     "data": {
      "image/png": "[encoded data removed]",
      "text/plain": [
       "<Figure size 640x480 with 2 Axes>"
      ]
     },
     "metadata": {},
     "output_type": "display_data"
    }
   ],
   "source": [
    "list_of_stop_words = [my_stop_words, {'nintendo', 'playstation'}]\n",
    "my_stop_words = set().union(*list_of_stop_words)\n",
    "nb_model_3 = NBModel(df, my_stop_words)\n",
    "nb_model_3.i_lazy()"
   ]
  },
  {
   "cell_type": "code",
   "execution_count": 99,
   "id": "de9d0b35-a2dd-4c20-8fa8-2f425c55c84c",
   "metadata": {},
   "outputs": [],
   "source": [
    "nb_model_3.save_fitted('prelim_model')"
   ]
  },
  {
   "cell_type": "markdown",
   "id": "3899bcef-efeb-4291-8f9f-ba7856560419",
   "metadata": {},
   "source": [
    "Removing both `nintendo` and `playstation` actually have a significant impact!  \n",
    "`nintendo` heavily impacts the ammount of true positive.  \n",
    "By removing `nintendo`, it is now harder for the algorithm to realise that the post title actually comes from `nintendo`.  \n",
    "This resulted in an increase in Flase Negatives and decrease in True Positives.   \n",
    "This means that `nintendo` is a key label for the model.  \n",
    "\n",
    "All 3 scores, recall, precision and f1 dropped a little.   \n",
    "It is still not too bad.  \n",
    "These experiments show that:\n",
    "1. Frequency of word appearing does not have a direct relationship to performance of model, as can be seen from removing 'got' and 'day'. This maybe thanks to TF-IDF?\n",
    "2. give away words or maybe 'leakage' words like 'nintendo' and 'playstation' are indeed very important. However, maybe becasue the test size is small, plus the document length is short, it doesn't matter as much?  \n",
    "\n",
    "---\n",
    "Additional things I can try are using n-grams on my tfidf.  \n",
    "Lowering the number of words needed to be included in tfidf.\n",
    "Stemming, lemmatizing and many more.  \n",
    "Some og them will be covered in my modelling notebook.  \n",
    "However, it should be noted that if the treshold for tfid to accept words are lowered, then a problem can be that over fits.  "
   ]
  },
  {
   "cell_type": "code",
   "execution_count": 100,
   "id": "865b5d6b-5be9-4e2a-a69f-813d4df223cb",
   "metadata": {},
   "outputs": [],
   "source": [
    "# Before I move on, I like the current list of stopwords. Save them as a file\n",
    "with open('../data/stopwords.pkl', 'wb') as f:\n",
    "    pickle.dump(my_stop_words, f)"
   ]
  },
  {
   "cell_type": "markdown",
   "id": "3261df28-a77a-4f3e-86e5-5e78a7466679",
   "metadata": {},
   "source": [
    "## Conclusion"
   ]
  },
  {
   "cell_type": "markdown",
   "id": "3c3beffc-ef89-46b6-a89e-62d1678a9bb1",
   "metadata": {},
   "source": [
    "To conclude off, I have examined the data I collected using PRAW.   \n",
    "Features like user, posting habbits like use of emojis and use of pictures were examined.\n",
    "The number of occurance of words are counted, length of titles are also examined.\n",
    "Distribution of number of words used to form title are presented graphically.  \n",
    "Occurance of each words are for the top words are also examined.  \n",
    "\n",
    "A word cloud is generated:  \n",
    "<img src='../img/ntd_ps_1st.png'></img>\n",
    "\n",
    "Then, a simple basic and most naive model that may not even worth 1 point in GA is built.  \n",
    "It uses TFIDF and Multinominal Naive Bayes.   \n",
    "Multinominal Naive Bayes is used becuase the text data is not normally distributed.  \n",
    "TFIDF is used because the number of occurance of the term is not as important as the term itself.   \n",
    "Hence I also look at the number of appearance of a term in a single document (1 title).  \n",
    "The results are good, simply because the give away words are not removed.  \n",
    "\n",
    "Results for the most basic NB model are:  \n",
    "\n",
    "- The recall of this inference is: 0.93\n",
    "- The precision of this inference is: 0.91\n",
    "- The f1 score for this inference is: 0.92\n",
    "\n",
    "The condusion matrix is:  \n",
    "<img src='../img/basic_nb.png'></img>\n",
    "\n",
    "Removing the key give away words like `nintendo` and `playstation` decreases the model performance slightly, but not too much.  \n",
    "Removing words like `got` and `day` had no impact on the test set.  \n",
    "This result is very likely due to the use of TF-IDF in the tokeninsation process.  "
   ]
  },
  {
   "cell_type": "code",
   "execution_count": null,
   "id": "2b485fa0-1c00-4488-8fb7-97fdbe22b4a6",
   "metadata": {},
   "outputs": [],
   "source": []
  }
 ],
 "metadata": {
  "kernelspec": {
   "display_name": "Python [conda env:dsi-sg]",
   "language": "python",
   "name": "conda-env-dsi-sg-py"
  },
  "language_info": {
   "codemirror_mode": {
    "name": "ipython",
    "version": 3
   },
   "file_extension": ".py",
   "mimetype": "text/x-python",
   "name": "python",
   "nbconvert_exporter": "python",
   "pygments_lexer": "ipython3",
   "version": "3.9.13"
  }
 },
 "nbformat": 4,
 "nbformat_minor": 5
}

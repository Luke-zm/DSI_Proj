{
 "cells": [
  {
   "cell_type": "code",
   "execution_count": 1,
   "id": "689f24d2-ae1e-42ad-8002-b76609162b3d",
   "metadata": {},
   "outputs": [],
   "source": [
    "import requests\n",
    "import re\n",
    "import praw\n",
    "import random\n",
    "import pandas as pd\n",
    "from os.path import isfile\n",
    "from time import sleep\n",
    "from bs4 import BeautifulSoup\n"
   ]
  },
  {
   "cell_type": "code",
   "execution_count": 48,
   "id": "f41c1d3d-13ac-43ba-95f2-6cf2fb6cde66",
   "metadata": {},
   "outputs": [],
   "source": [
    "class ScrapeAndMakeCSV(object):\n",
    "    '''This class is to scrape reddit and make a CSV at the end of it\n",
    "    Args:\n",
    "        sub: name of subreddit to scrape\n",
    "        sort_by: how to sort subreddit, default = hot\n",
    "        num: number of post to gather\n",
    "    '''\n",
    "    def __init__(self, sub, sort_by='hot', num=1000):\n",
    "        self.sub = sub\n",
    "        self.sort_by = sort_by\n",
    "        self.num = num\n",
    "        self.bot = praw.Reddit('Bot1') # Initialise bot using praw.ini\n",
    "        print(f'Initilised API call for\\n scrapping: {self.sub},\\n sorted by: {self.sort_by},\\n for: {self.num} posts.')\n",
    "        \n",
    "    def set_sort(self):\n",
    "        '''Set how to sort subreddit posts. Default = hot\n",
    "        '''\n",
    "        reddit = self.bot\n",
    "        if self.sort_by == 'hot':\n",
    "            posts =  reddit.subreddit(self.sub).hot(limit=self.num)\n",
    "        if self.sort_by == 'new':\n",
    "            posts =  reddit.subreddit(self.sub).new(limit=self.num)\n",
    "        elif self.sort_by == 'top':\n",
    "            posts =  reddit.subreddit(self.sub).top(limit=self.num)\n",
    "        else:\n",
    "            self.sort_by = 'hot'\n",
    "            print('Sort method was not recognized, defaulting to hot.')\n",
    "            posts =  reddit.subreddit(self.sub).hot(limit=self.num)\n",
    "        print(f'Calling to: {self.sub}, with posts sorted by: {self.sort_by}, gathering {self.num} posts.')\n",
    "        return posts\n",
    "    \n",
    "    def make_df(self):\n",
    "        '''Makes a DataFrame with posts gathered\n",
    "        '''\n",
    "        posts = self.set_sort()\n",
    "        \n",
    "        for post in posts:\n",
    "            print(post.title)"
   ]
  },
  {
   "cell_type": "code",
   "execution_count": 51,
   "id": "f84aa367-8ffc-4885-8084-c87fb5e0c030",
   "metadata": {},
   "outputs": [
    {
     "name": "stdout",
     "output_type": "stream",
     "text": [
      "Initilised API call for\n",
      " scrapping: nintendo,\n",
      " sorted by: new,\n",
      " for: 10 posts.\n"
     ]
    }
   ],
   "source": [
    "posts = ScrapeAndMakeCSV('nintendo','new', num=10)"
   ]
  },
  {
   "cell_type": "code",
   "execution_count": 52,
   "id": "f8222ee0-44c4-469a-a434-e02e204436a3",
   "metadata": {},
   "outputs": [
    {
     "name": "stdout",
     "output_type": "stream",
     "text": [
      "Calling to: nintendo, with posts sorted by: new, gathering 10 posts.\n",
      "missing funds\n",
      "What do folks here think of Mario Strikers Battle League, almost 1 year after its initial reveal?\n",
      "Switch Lite, OG or Oled?\n",
      "Official artwork celebrating Octopath 2's release!\n",
      "Octopath II's Live-Action Web Commercial\n",
      "An analysis of the 3 games on Mario 3D all stars\n",
      "Fans bid farewell to Ash Ketchum after 25 years as Pokemon hero\n",
      "On This Day in Nintendo History: Lufia II: Rise of the Sinistrals; Another Code: Two Memories; Pocket Rurubu Izuhakone; Pocket Rurubu Shinshuu\n",
      "Mega Man Battle Network Legacy Collection - Switch\n",
      "NARUTO X BORUTO Ultimate Ninja STORM CONNECTIONS – Announcement Trailer\n"
     ]
    }
   ],
   "source": [
    "posts.make_df()"
   ]
  },
  {
   "cell_type": "code",
   "execution_count": 20,
   "id": "ee527de7-1121-4e7f-8b83-4e5e95956fc1",
   "metadata": {},
   "outputs": [],
   "source": [
    "class Person:\n",
    "      def __init__(self, name, age):\n",
    "        self.name = name\n",
    "        self.age = age"
   ]
  },
  {
   "cell_type": "code",
   "execution_count": 23,
   "id": "42094ce6-adce-4d77-aaec-293f99579d21",
   "metadata": {},
   "outputs": [],
   "source": [
    "p1 = Person(36, 24)"
   ]
  },
  {
   "cell_type": "code",
   "execution_count": null,
   "id": "522cdde1-9e8d-4f64-86c1-9f3753c89b87",
   "metadata": {},
   "outputs": [],
   "source": []
  },
  {
   "cell_type": "code",
   "execution_count": 2,
   "id": "cccba344-fa49-44ba-ae5a-3aed14d092a6",
   "metadata": {},
   "outputs": [],
   "source": [
    "base_url_list = ['https://www.reddit.com/r/nintendo/', 'https://www.reddit.com/r/playstation/']"
   ]
  },
  {
   "cell_type": "code",
   "execution_count": 3,
   "id": "f220c8e4-a118-46a3-b805-84a970170b8e",
   "metadata": {},
   "outputs": [],
   "source": [
    "# Create reddit instance\n",
    "reddit = praw.Reddit('Bot1')\n",
    "    # client_id='QAwJ3WapX0BOpc9Br9V1HA', \n",
    "    #                  client_secret='xXL35nlmDIsQunN5ywcwLiukqBoTdA', \n",
    "    #                  user_agent='scraper')"
   ]
  },
  {
   "cell_type": "code",
   "execution_count": 4,
   "id": "4278d88e-2ab8-418a-b83d-5f917e79d5a7",
   "metadata": {},
   "outputs": [],
   "source": [
    "reddits_to_scrape = ['Nintendo', 'PlayStation']"
   ]
  },
  {
   "cell_type": "code",
   "execution_count": 6,
   "id": "702d4315-c202-43dd-8a70-e18e8e2a153d",
   "metadata": {},
   "outputs": [
    {
     "name": "stdout",
     "output_type": "stream",
     "text": [
      "Recommendation Central\n",
      "If this hits hard I hope your back is ok\n",
      "PS Plus games for March revealed during SoP! Thoughts?\n",
      "Finally broke down and decided to buy GoT. went to walmart expecting full price, to my delight was on sale for 22 USD\n",
      "R.I.P Tohru Okada\n",
      "Got All These Sick Games As Bday Presents\n",
      "PS Plus Games for March 👀\n",
      "Gaming room coming together nicely!\n",
      "Finally made the jump 🥹\n",
      "Amazing OG PlayStation hooded sweatshirt! My wife found this at a thrift store, says ‘Japan 1994’.\n",
      "Hogwarts Legacy Is Biggest Global Launch Ever for Warner Bros. Games - businesswire.com\n",
      "When you take your VR headset off and you're back in the real world\n",
      "Got a new TV for my PS5. 55 inch C735 from TCL. Has all bells and whistles, HDR isn't top notch but the rest is pretty nice.\n",
      "Just got my psvr 2. Then this happened. 🐱\n",
      "Is this a resealed game or not?\n",
      "Have this charging dock for a while and love how clean it is\n",
      "First time playing this, I’m excited\n",
      "Yo I’m doing a little give away\n",
      "What to do if you’re a sweaty person and are using the PSVR2\n",
      "Vr2 is FIRE Totally worth it\n",
      "Resident Evil 4 - 3rd Trailer | PS5 & PS4 Games\n",
      "There are many PS5’s, but this one is mine.\n",
      "Arkham Knight really deserves a 60 fps patch.\n",
      "What is wrong with searching for usernames on the ps5?\n",
      "Do the PS Plus versions of games include DLC?\n",
      "PS5 collection after 24 months of ownership. Any suggestions?\n",
      "PS Plus - March Monthly Games\n",
      "Love digital PS5 but infuriating\n",
      "Don’t even try to deny it.\n",
      "Playstation State of play begins in 5 hours. Feb 23, 2023\n",
      "Any charging docks out there that fit the DualSense Edge? Preferably one that is a single charger?\n",
      "March Monthly Games Announced (State of PLay)\n",
      "I've got the upper edge now\n",
      "PSVR2 Problems Shutting down PS5\n",
      "PSVR OG vs PSVR 2 Talk about a generational leap!\n",
      "Is there a way to use an Xbox Series controller on PS5?\n",
      "Is Battlefield 2042 worth playing now?\n",
      "PS5 Beta Audio sync issues in videos?\n",
      "Any recommendations for getting rid of shimmer in games? Tv sharpness is already set to 0\n",
      "PS4 Cloud Streaming\n",
      "I need assistance\n",
      "Psn plus question\n",
      "Una duda sobre mi play 4 !\n",
      "PSVR2: how's everyone's motion sickness going?\n",
      "Pick a game that doesn’t have VR and give it VR. What game would you choose?\n",
      "My war thunder won’t Update, start or delete, does someone know what’s going on? Other games work fine\n",
      "Upcoming Playstation Games (2023 and beyond) (announced and rumors)\n",
      "ps5 games crashing\n",
      "PS or Zenimax/Bethesda Issue??\n",
      "Omno is worth playing\n",
      "I get \"can't install\" error when trying to download this game on PS5. I also get an error when I try to delete it.please help\n",
      "how can u fix this on my ps5 it works just fine on other bluray players\n",
      "Accidentally scraped off a small piece of insulation around a ps5 fan wire\n",
      "Ps5 Randomly shutting off while playing games.\n",
      "Which game is the best?\n",
      "does anyone know who this is?\n",
      "Can we all agree Playstation is amazing?\n",
      "Know anything about this? I suspect it's some sort of Demo Disc.\n",
      "PS VR2 motion sickness\n",
      "Do not buy the PSVR 2 if you have semi-larger than \"normal\" hands.\n",
      "So my PSVR got lost or stolen, UPS driver just left it next to my garage door\n",
      "Help 2 step verification\n",
      "Gundam PS5 @GBO2EN [16yotype] GM Custom Silver Haze Kai One of the Best 450 Raid Type!\n",
      "Wish they had this for the PS4. Grew up playing this\n",
      "I need VR2 help\n",
      "Does Hogwarts Legacy have good combat?\n",
      "Graphical issues on my newly acquired PS5 console\n",
      "Absolute State of Play\n",
      "Did I lose my save data?!\n",
      "PS5 Latency Issues\n",
      "hey guys should I get a ps5?\n",
      "It’s about to get real\n",
      "Primary confusion?\n",
      "Please help PS5 not work correctly\n",
      "It’s finally arrived!\n",
      "I can’t sign in, please help :(\n",
      "I have the trophies but lost my save?\n",
      "how are these advanced technology transforming the gaming experience?\n",
      "My PS5 controller will NOT turn on whatsoever. How do I fix this?\n",
      "ps5 unloaded icons , happens very often in games and some other icons on the psn store, is that normal ?\n",
      "Link YouTube to PS5 with 2-step verification & Google advanced protection program\n",
      "PSVR2 First day launch games review\n",
      "When the platinum trophy is unobtainable\n",
      "(STATE OF PLAY) The Suicide Squad game is giving me Sunset Overdrive vibes, but not in the good way.\n",
      "is it normal to not pass level 4 in the PS Star status?\n",
      "New thermal paste and cleaning.\n",
      "PSVR2: Why do my stupid eyes need glasses\n",
      "Tech help in my dorm\n",
      "Someone's downloading free DLC on my account\n",
      "Digital or disk\n",
      "Dropped the PS5 and it’s chewing up discs.\n",
      "How do you guys feel about the 'Last of Us' show so far? I'm new to the series.\n",
      "Can I buy dlc for Ps plus games?\n",
      "ps5 has flashing/glitching lights\n",
      "Borderlands 3 downloaded in PlayStation Plus, but no DLC?\n",
      "is it possible: tomb raider 3 on android 12 ?\n",
      "If Suicide Squad is set in the Arkhamverse, why is Batman in the trailer?\n",
      "PS4 still super loud even after deep clean and new paste\n",
      "Any decent/good boxing games for current gen?\n",
      "Ps5 media trying to get media\n"
     ]
    }
   ],
   "source": [
    "# get 10 hot posts from the MachineLearning subreddit\n",
    "hot_posts = reddit.subreddit(reddits_to_scrape[1]).hot(limit=100)\n",
    "for post in hot_posts:\n",
    "    sleep(random.randint(0,5))\n",
    "    print(post.title)"
   ]
  },
  {
   "cell_type": "code",
   "execution_count": 14,
   "id": "b5536a7a-0c94-4fc5-99aa-591f98478f3b",
   "metadata": {},
   "outputs": [
    {
     "name": "stdout",
     "output_type": "stream",
     "text": [
      "Looking for recommendations on what game to play next? What console, headset, or display to get? Or, do you want to make some recommendations of your own for other community members?\n",
      "\n",
      "This is the place for those submissions!\n",
      "\n",
      "All recommendation-related submissions should be posted in this megathread. Any recommendation posts made outside of this thread are subject to being removed. Thank you for your cooperation!\n",
      "\n",
      "*NOTE: The Recommendation Central post gets refreshed every Sunday at 12:00 ET.*\n",
      "\n",
      "\n",
      "\n",
      "\n",
      "\n",
      "\n",
      "\n",
      "\n",
      "\n"
     ]
    }
   ],
   "source": [
    "hot_posts = reddit.subreddit(reddits_to_scrape[1]).hot(limit=10)\n",
    "for post in hot_posts:\n",
    "    time.sleep(random.randint(0,5))\n",
    "    print(post.selftext)"
   ]
  },
  {
   "cell_type": "code",
   "execution_count": null,
   "id": "db5de0f9-0f27-49cb-b568-fbfe17745952",
   "metadata": {},
   "outputs": [],
   "source": []
  },
  {
   "cell_type": "code",
   "execution_count": 8,
   "id": "694af3d7-a39d-4710-9d3f-3b6aa79a0128",
   "metadata": {},
   "outputs": [],
   "source": [
    "class SubredditScraper:\n",
    "\n",
    "    def __init__(self, sub, sort='hot', lim=1000, mode='w'):\n",
    "        self.sub = sub\n",
    "        self.sort = sort\n",
    "        self.lim = lim\n",
    "        self.mode = mode\n",
    "        print(\n",
    "            f'SubredditScraper instance created with values '\n",
    "            f'sub = {sub}, sort = {sort}, lim = {lim}, mode = {mode}')\n",
    "        \n",
    "    def set_sort(self):\n",
    "        if self.sort == 'new':\n",
    "            return self.sort, reddit.subreddit(sort_by.sub).new(limit=self.lim)\n",
    "        elif self.sort == 'top':\n",
    "            return self.sort, reddit.subreddit(self.sub).top(limit=self.lim)\n",
    "        elif self.sort == 'hot':\n",
    "            return self.sort, reddit.subreddit(self.sub).hot(limit=self.lim)\n",
    "        else:\n",
    "            self.sort = 'hot'\n",
    "            print('Sort method was not recognized, defaulting to hot.')\n",
    "            return self.sort, reddit.subreddit(self.sub).hot(limit=self.lim)\n",
    "    \n",
    "    def get_posts(self):\n",
    "        \"\"\"Get unique posts from a specified subreddit.\"\"\"\n",
    "\n",
    "        sub_dict = {\n",
    "            'selftext': [], 'title': [], 'id': []}#, 'sorted_by': [],\n",
    "            # 'num_comments': [], 'score': [], 'ups': [], 'downs': []}\n",
    "        csv = f'{self.sub}_posts.csv'\n",
    "\n",
    "        # Attempt to specify a sorting method.\n",
    "        sort, subreddit = self.set_sort()\n",
    "\n",
    "        # Set csv_loaded to True if csv exists since you can't \n",
    "        # evaluate the truth value of a DataFrame.\n",
    "        df, csv_loaded = (pd.read_csv(csv), 1) if isfile(csv) else ('', 0)\n",
    "\n",
    "        print(f'csv = {csv}')\n",
    "        print(f'After set_sort(), sort = {sort} and sub = {self.sub}')\n",
    "        print(f'csv_loaded = {csv_loaded}')\n",
    "\n",
    "        print(f'Collecting information from r/{self.sub}.')\n",
    "\n",
    "        for post in subreddit:\n",
    "\n",
    "            # Check if post.id is in df and set to True if df is empty.\n",
    "            # This way new posts are still added to dictionary when df = ''\n",
    "            unique_id = post.id not in tuple(df.id) if csv_loaded else True\n",
    "\n",
    "            # Save any unique posts to sub_dict.\n",
    "            if unique_id:\n",
    "                sub_dict['selftext'].append(post.selftext)\n",
    "                sub_dict['title'].append(post.title)\n",
    "                sub_dict['id'].append(post.id)\n",
    "                # sub_dict['sorted_by'].append(sort)\n",
    "                # sub_dict['num_comments'].append(post.num_comments)\n",
    "                # sub_dict['score'].append(post.score)\n",
    "                # sub_dict['ups'].append(post.ups)\n",
    "                # sub_dict['downs'].append(post.downs)\n",
    "            sleep(random.randint(1,3))\n",
    "\n",
    "        new_df = pd.DataFrame(sub_dict)\n",
    "\n",
    "        # Add new_df to df if df exists then save it to a csv.\n",
    "        if 'DataFrame' in str(type(df)) and self.mode == 'w':\n",
    "            pd.concat([df, new_df], axis=0, sort=0).to_csv(csv, index=False)\n",
    "            print(\n",
    "                f'{len(new_df)} new posts collected and added to {csv}')\n",
    "        elif self.mode == 'w':\n",
    "            new_df.to_csv(csv, index=False)\n",
    "            print(f'{len(new_df)} posts collected and saved to {csv}')\n",
    "        else:\n",
    "            print(\n",
    "                f'{len(new_df)} posts were collected but they were not '\n",
    "                f'added to {csv} because mode was set to \"{self.mode}\"')"
   ]
  },
  {
   "cell_type": "code",
   "execution_count": 9,
   "id": "a16edf92-e360-4ea3-ac78-09f940e92be8",
   "metadata": {},
   "outputs": [
    {
     "name": "stdout",
     "output_type": "stream",
     "text": [
      "SubredditScraper instance created with values sub = nintendo, sort = hot, lim = 1000, mode = w\n",
      "csv = nintendo_posts.csv\n",
      "After set_sort(), sort = hot and sub = nintendo\n",
      "csv_loaded = 0\n",
      "Collecting information from r/nintendo.\n",
      "889 posts collected and saved to nintendo_posts.csv\n"
     ]
    }
   ],
   "source": [
    "SubredditScraper('nintendo', lim=1000, mode='w', sort='hot').get_posts()"
   ]
  },
  {
   "cell_type": "code",
   "execution_count": null,
   "id": "4df9a140-fd08-42bd-a260-26ad3f3ae8e7",
   "metadata": {},
   "outputs": [],
   "source": []
  },
  {
   "cell_type": "code",
   "execution_count": null,
   "id": "de4dc9b1-a3c7-42da-b0bb-fa81e479f29c",
   "metadata": {},
   "outputs": [],
   "source": []
  },
  {
   "cell_type": "code",
   "execution_count": null,
   "id": "fce1c57e-55aa-4d16-9064-cc6d78c35095",
   "metadata": {},
   "outputs": [],
   "source": []
  },
  {
   "cell_type": "code",
   "execution_count": null,
   "id": "c3b680e2-8495-4b15-b806-62abc9fbfcef",
   "metadata": {},
   "outputs": [],
   "source": []
  },
  {
   "cell_type": "code",
   "execution_count": 6,
   "id": "807c6a5d-431c-4343-b186-095f235210ee",
   "metadata": {},
   "outputs": [
    {
     "name": "stdout",
     "output_type": "stream",
     "text": [
      "200\n"
     ]
    }
   ],
   "source": [
    "response = requests.get(base_url_list[0])\n",
    "print(response.status_code)\n",
    "html = response.text"
   ]
  },
  {
   "cell_type": "code",
   "execution_count": 7,
   "id": "e3587062-8d58-4998-94da-7173908b79d6",
   "metadata": {},
   "outputs": [],
   "source": [
    "# Create BeautifulSoup Object\n",
    "soup = BeautifulSoup(html, 'lxml')"
   ]
  },
  {
   "cell_type": "code",
   "execution_count": 9,
   "id": "57b0498e-c2ff-4c87-8074-79a9b9a55743",
   "metadata": {},
   "outputs": [
    {
     "data": {
      "text/plain": [
       "103"
      ]
     },
     "execution_count": 9,
     "metadata": {},
     "output_type": "execute_result"
    }
   ],
   "source": [
    "len(main_pg_td)"
   ]
  },
  {
   "cell_type": "code",
   "execution_count": 8,
   "id": "e526580b-33c5-4539-bac7-a218ddf0c60e",
   "metadata": {},
   "outputs": [
    {
     "ename": "NameError",
     "evalue": "name 'a_href' is not defined",
     "output_type": "error",
     "traceback": [
      "\u001b[0;31m---------------------------------------------------------------------------\u001b[0m",
      "\u001b[0;31mNameError\u001b[0m                                 Traceback (most recent call last)",
      "Cell \u001b[0;32mIn [8], line 10\u001b[0m\n\u001b[1;32m      8\u001b[0m     result \u001b[38;5;241m=\u001b[39m {}\n\u001b[1;32m      9\u001b[0m     result[\u001b[38;5;124m'\u001b[39m\u001b[38;5;124mrestaurant\u001b[39m\u001b[38;5;124m'\u001b[39m] \u001b[38;5;241m=\u001b[39m element\u001b[38;5;241m.\u001b[39mtext   \u001b[38;5;66;03m# element text\u001b[39;00m\n\u001b[0;32m---> 10\u001b[0m     result[\u001b[38;5;124m'\u001b[39m\u001b[38;5;124mlink\u001b[39m\u001b[38;5;124m'\u001b[39m] \u001b[38;5;241m=\u001b[39m \u001b[43ma_href\u001b[49m[\u001b[38;5;124m'\u001b[39m\u001b[38;5;124mhref\u001b[39m\u001b[38;5;124m'\u001b[39m] \u001b[38;5;66;03m# href link\u001b[39;00m\n\u001b[1;32m     11\u001b[0m     results_list\u001b[38;5;241m.\u001b[39mappend(result)\n\u001b[1;32m     12\u001b[0m \u001b[38;5;66;03m# results_list is the data with resturant name and link to it\u001b[39;00m\n",
      "\u001b[0;31mNameError\u001b[0m: name 'a_href' is not defined"
     ]
    }
   ],
   "source": [
    "# Define result list\n",
    "results_list = []\n",
    "# Gather table data from main page\n",
    "main_pg_td = soup.find_all(\"a\") #href=re.compile('nintendo'))\n",
    "# Gather title of restaurant and link\n",
    "for element in main_pg_td:\n",
    "    # start a dictionary to store this item's data\n",
    "    result = {}\n",
    "    result['restaurant'] = element.text   # element text\n",
    "    result['link'] = a_href['href'] # href link\n",
    "    results_list.append(result)\n",
    "# results_list is the data with resturant name and link to it\n",
    "len(results_list)"
   ]
  },
  {
   "cell_type": "code",
   "execution_count": 18,
   "id": "58427fd0-b9b1-4f2e-adf3-a595e0401b39",
   "metadata": {},
   "outputs": [
    {
     "data": {
      "text/plain": [
       "[<a class=\"_3Wg53T10KuuPmyWOMWsY2F Z_HUY3BUsGOBOtdmH94ZS _2iuoyPiKHN3kfOoeIQalDT _10BQ7pjWbeYP63SAPNS8Ts HNozj_dKjQZ59ZsfEegz8 _2nelDm85zKKmuD94NequP0\" href=\"https://www.reddit.com/login/?dest=https%3A%2F%2Fwww.reddit.com%2Fr%2Fnintendo%2F\" role=\"button\" tabindex=\"0\">Log In</a>,\n",
       " <a class=\"_36MHhLdcmnzdWt0OMdNlwd\" href=\"/r/nintendo/\"><div class=\"_2RkQc9Gtsq3cPQNZLYv4zc\" style=\"max-width:1200px\"><div class=\"_26j3FxU4jTfjqi8m96HMmI _26j3FxU4jTfjqi8m96HMmI\" style=\"left:-8px;height:48px\"></div></div></a>,\n",
       " <a class=\"_39Glgtoolpdt4PIzcnjPSW _3LwUIE7yX7CZQKmD2L87vf _3LjUrsRA9MkUFLGB6ZCWaX _1yVJwSS9tASrkJ6R6wvXpT _1oYEKCssGFjqxQ9jJMNj5G _1IKtbRloF_LV1hPqMzP3MC\" href=\"/r/nintendo/hot/\" role=\"menuitem\"><span class=\"pthKOcceozMuXLYrLlbL1\"><i class=\"_3HQa2czyzeTD5qteZcHyI2 icon icon-hot\"></i></span><span class=\"_2-cXnP74241WI7fpcpfPmg\">Hot</span></a>,\n",
       " <a class=\"_39Glgtoolpdt4PIzcnjPSW _3LwUIE7yX7CZQKmD2L87vf _3LjUrsRA9MkUFLGB6ZCWaX _1oYEKCssGFjqxQ9jJMNj5G\" href=\"/r/nintendo/new/\" role=\"menuitem\"><span class=\"pthKOcceozMuXLYrLlbL1\"><i class=\"_3HQa2czyzeTD5qteZcHyI2 icon icon-new\"></i></span><span class=\"_2-cXnP74241WI7fpcpfPmg\">New</span></a>,\n",
       " <a class=\"_39Glgtoolpdt4PIzcnjPSW _3LwUIE7yX7CZQKmD2L87vf _3LjUrsRA9MkUFLGB6ZCWaX _1oYEKCssGFjqxQ9jJMNj5G\" href=\"/r/nintendo/top/\" role=\"menuitem\"><span class=\"pthKOcceozMuXLYrLlbL1\"><i class=\"_3HQa2czyzeTD5qteZcHyI2 icon icon-top\"></i></span><span class=\"_2-cXnP74241WI7fpcpfPmg\">Top</span></a>,\n",
       " <a class=\"_39Glgtoolpdt4PIzcnjPSW _3LwUIE7yX7CZQKmD2L87vf _3LjUrsRA9MkUFLGB6ZCWaX _1oYEKCssGFjqxQ9jJMNj5G\" href=\"/r/nintendo/rising/\" role=\"menuitem\"><span class=\"pthKOcceozMuXLYrLlbL1\"><i class=\"_3HQa2czyzeTD5qteZcHyI2 icon icon-rising\"></i></span><span class=\"_2-cXnP74241WI7fpcpfPmg\">Rising</span></a>,\n",
       " <a class=\"M2Hk_S2yvXpsNPfZMBMur _1s79QnBguPbckxiiPvFXGP _2iuoyPiKHN3kfOoeIQalDT _3zbhtNO0bdck0oYbYRhjMC HNozj_dKjQZ59ZsfEegz8\" href=\"/r/nintendo/hot/\" role=\"button\" tabindex=\"0\"><i class=\"_2bDYspp_i6ETGHhD6zIa94 _1mvTX6krm3Q2d1CSyUm28s icon icon-hot_fill\"></i><span class=\"\">Hot</span></a>,\n",
       " <a class=\"M2Hk_S2yvXpsNPfZMBMur _2iuoyPiKHN3kfOoeIQalDT _3zbhtNO0bdck0oYbYRhjMC HNozj_dKjQZ59ZsfEegz8\" href=\"/r/nintendo/new/\" role=\"button\" tabindex=\"0\"><i class=\"_2bDYspp_i6ETGHhD6zIa94 _1mvTX6krm3Q2d1CSyUm28s icon icon-new\"></i><span class=\"\">New</span></a>,\n",
       " <a class=\"M2Hk_S2yvXpsNPfZMBMur _2iuoyPiKHN3kfOoeIQalDT _3zbhtNO0bdck0oYbYRhjMC HNozj_dKjQZ59ZsfEegz8\" href=\"/r/nintendo/top/\" role=\"button\" tabindex=\"0\"><i class=\"_2bDYspp_i6ETGHhD6zIa94 _1mvTX6krm3Q2d1CSyUm28s icon icon-top\"></i><span class=\"\">Top</span></a>,\n",
       " <a class=\"_39Glgtoolpdt4PIzcnjPSW _3LwUIE7yX7CZQKmD2L87vf _3LjUrsRA9MkUFLGB6ZCWaX _1oYEKCssGFjqxQ9jJMNj5G\" href=\"/r/nintendo/rising/\" role=\"menuitem\"><span class=\"pthKOcceozMuXLYrLlbL1\"><i class=\"_3HQa2czyzeTD5qteZcHyI2 icon icon-rising\"></i></span><span class=\"_2-cXnP74241WI7fpcpfPmg\">Rising</span></a>]"
      ]
     },
     "execution_count": 18,
     "metadata": {},
     "output_type": "execute_result"
    }
   ],
   "source": [
    "main_pg_td"
   ]
  },
  {
   "cell_type": "code",
   "execution_count": null,
   "id": "610d95fa-8307-454f-adac-f4f1137d5a40",
   "metadata": {},
   "outputs": [],
   "source": [
    "<a data-click-id=\"body\" class=\"SQnoC3ObvgnGjWt90zD9Z _2INHSNB8V5eaWp4P0rY_mE\" href=\"/r/nintendo/comments/113kldu/throwdown_thursday_chocolate/\"><div class=\"_2SdHzo12ISmrC8H86TgSCp _3wqmjmv3tb_k-PROt7qFZe \" style=\"--posttitletextcolor:#222222\"><h3 class=\"_eYtD2XCVieq6emjKBH3m\">THROWDOWN THURSDAY: CHOCOLATE</h3></div></a>"
   ]
  },
  {
   "cell_type": "code",
   "execution_count": null,
   "id": "a67c3be5-37b7-42d2-b8cc-a615f7ba3362",
   "metadata": {},
   "outputs": [],
   "source": [
    "//*[@id=\"t3_113kldu\"]/div[3]/div[3]/div[2]/a"
   ]
  },
  {
   "cell_type": "code",
   "execution_count": null,
   "id": "2031730c-e9f0-4886-9380-1fca1882de6a",
   "metadata": {},
   "outputs": [],
   "source": [
    "//*[@id=\"t3_117xmsz\"]/div[3]/div[2]/div[1]/a"
   ]
  },
  {
   "cell_type": "code",
   "execution_count": null,
   "id": "55741c3a-e916-4162-9928-1e0871772f35",
   "metadata": {},
   "outputs": [],
   "source": [
    "#t3_117xmsz > div._1poyrkZ7g36PawDueRza-J._11R7M_VOgKO1RJyRSRErT3 > div._2FCtq-QzlfuN-SwVMUZMM3._3wiKjmhpIpoTE2r5KCm2o6.t3_117xmsz > div.y8HYJ-y_lTUHkQIc1mdCq._2INHSNB8V5eaWp4P0rY_mE > a"
   ]
  }
 ],
 "metadata": {
  "kernelspec": {
   "display_name": "Python [conda env:dsi-sg]",
   "language": "python",
   "name": "conda-env-dsi-sg-py"
  },
  "language_info": {
   "codemirror_mode": {
    "name": "ipython",
    "version": 3
   },
   "file_extension": ".py",
   "mimetype": "text/x-python",
   "name": "python",
   "nbconvert_exporter": "python",
   "pygments_lexer": "ipython3",
   "version": "3.9.13"
  }
 },
 "nbformat": 4,
 "nbformat_minor": 5
}

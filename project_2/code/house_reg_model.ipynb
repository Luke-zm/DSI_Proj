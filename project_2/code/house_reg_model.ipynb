{
 "cells": [
  {
   "cell_type": "markdown",
   "id": "27759bf9-581c-4d56-bd60-0a734f7a9ade",
   "metadata": {},
   "source": [
    "# Prediction of Singapore's housing price using simple regression based models\n",
    "## Regression Modelling notebook\n",
    "\n",
    "This project is about the prediction of resale price of a house located in singapore, using simple regression model.   \n",
    "This notebook is only for the purpose of building Regression Model.  \n",
    "Analytical solution to least squares regression is given by:  \n",
    "<img src=\"../img/least_square_sol.png\"></img>  \n",
    "Which I will not go into details here.  \n",
    "\n",
    "This note book will show the process of building regression model(s) to predict the housing price in Singapore.  \n",
    "Which is in the area of Machine Learning.  "
   ]
  },
  {
   "cell_type": "markdown",
   "id": "cba611b7-1559-49f7-b550-ec4dc60671ce",
   "metadata": {},
   "source": [
    "# Problem Statement"
   ]
  },
  {
   "cell_type": "markdown",
   "id": "10303c6a-5150-4eb3-b995-d97f4deb249f",
   "metadata": {},
   "source": [
    "The goal of this project is to build a regression model, using data contained in the [datasets](../datasets) folder. The model should be able to make an accurate prediction of the resale price (`resale_price`) of the house, for every house id (`Id`) that appeared in the [test set](../datasets/test.csv).  \n",
    "Success will be evaluated based on common evaluation metrics such as Mean Absolute Error (MAE) and Mean Square Error (MSE), apart from scores.\n",
    "\n",
    "Motivation:  \n",
    "While this is a toy project for the purpose of learning, it shows the importance of prediction models.  \n",
    "House owners who are looking to sale their property, property agents, those seeking to purchase a house, all stand to benefit from this model.  "
   ]
  },
  {
   "cell_type": "markdown",
   "id": "c6f662cf-aca7-4999-926c-6ea7c72bf695",
   "metadata": {},
   "source": [
    "Contents:  \n",
    "1. [Single Model](#Single-Model)   \n",
    "    1.1 [Preprocessing](#Preprocessing)  \n",
    "    1.2 [Linear Regression](#Linear-Regression)  \n",
    "    1.3 [Lasso Regression](#Lasso-Regression)  \n",
    "    1.4 [Ridge Regression](#Ridge-Regression)  \n",
    "    1.5 [Elastic Net](#Elastic-Net-Regression)   \n",
    "    1.6 [Model Evaluation](#Model-Evaluation)  \n",
    "2. [Combined Model](#Combined-Model)  \n",
    "    2.1 [Split Data by features](#Split-Data-by-features)  \n",
    "    2.2 [Make 4 Models](#Make-4-Models)  \n",
    "    2.3 [Combine the model](#Combine-the-model)   \n",
    "    2.4 [Prediction and Analysis](#Prediction-and-Analysis)\n",
    "3. [Conclusion](#Conclusion)"
   ]
  },
  {
   "cell_type": "code",
   "execution_count": 1,
   "id": "0e703b9f-4351-4c17-8532-c51765a96bd2",
   "metadata": {},
   "outputs": [],
   "source": [
    "import warnings\n",
    "import sklearn\n",
    "import numpy as np\n",
    "import pandas as pd\n",
    "import matplotlib.pyplot as plt\n",
    "from sklearn.metrics import r2_score\n",
    "from sklearn.preprocessing import OneHotEncoder, StandardScaler\n",
    "from sklearn.impute import SimpleImputer\n",
    "from sklearn.compose import ColumnTransformer\n",
    "from sklearn.linear_model import LinearRegression, ElasticNet, ElasticNetCV, LassoCV, Lasso, Ridge, RidgeCV\n",
    "from sklearn.pipeline import Pipeline\n",
    "from sklearn.feature_selection import RFE\n",
    "from sklearn.model_selection import train_test_split\n",
    "from sklearn.model_selection import GridSearchCV\n",
    "from sklearn.model_selection import cross_val_score\n",
    "from sklearn.model_selection import KFold\n",
    "from sklearn import metrics"
   ]
  },
  {
   "cell_type": "markdown",
   "id": "7aefde5e-3a87-4329-b34d-e1a0d1b9242c",
   "metadata": {},
   "source": [
    "## Single Model"
   ]
  },
  {
   "cell_type": "markdown",
   "id": "8ff5a4ef-66d3-44d9-9ac0-9a2470388001",
   "metadata": {},
   "source": [
    "This section is the most basic model created.   \n",
    "I will start with simple preprocessing, then build simple models as well as perform Grid Search Cross Validation.  \n",
    "Then, these models with tunned paprameters will be examined and evaluated."
   ]
  },
  {
   "cell_type": "code",
   "execution_count": 2,
   "id": "2ed56d2c-364d-4024-b1d1-c2d5c4d175a5",
   "metadata": {},
   "outputs": [
    {
     "data": {
      "text/html": [
       "<div>\n",
       "<style scoped>\n",
       "    .dataframe tbody tr th:only-of-type {\n",
       "        vertical-align: middle;\n",
       "    }\n",
       "\n",
       "    .dataframe tbody tr th {\n",
       "        vertical-align: top;\n",
       "    }\n",
       "\n",
       "    .dataframe thead th {\n",
       "        text-align: right;\n",
       "    }\n",
       "</style>\n",
       "<table border=\"1\" class=\"dataframe\">\n",
       "  <thead>\n",
       "    <tr style=\"text-align: right;\">\n",
       "      <th></th>\n",
       "      <th>id</th>\n",
       "      <th>flat_type</th>\n",
       "      <th>floor_area_sqm</th>\n",
       "      <th>flat_model</th>\n",
       "      <th>resale_price</th>\n",
       "      <th>Tranc_Year</th>\n",
       "      <th>mid</th>\n",
       "      <th>hdb_age</th>\n",
       "      <th>max_floor_lvl</th>\n",
       "      <th>planning_area</th>\n",
       "      <th>Mall_Nearest_Distance</th>\n",
       "      <th>Hawker_Nearest_Distance</th>\n",
       "      <th>mrt_nearest_distance</th>\n",
       "      <th>bus_interchange</th>\n",
       "      <th>mrt_interchange</th>\n",
       "      <th>cutoff_point</th>\n",
       "    </tr>\n",
       "  </thead>\n",
       "  <tbody>\n",
       "    <tr>\n",
       "      <th>0</th>\n",
       "      <td>88471</td>\n",
       "      <td>4 ROOM</td>\n",
       "      <td>90.0</td>\n",
       "      <td>Model A</td>\n",
       "      <td>680000.0</td>\n",
       "      <td>2016</td>\n",
       "      <td>11</td>\n",
       "      <td>15</td>\n",
       "      <td>25</td>\n",
       "      <td>Kallang</td>\n",
       "      <td>1094.090418</td>\n",
       "      <td>154.753357</td>\n",
       "      <td>330.083069</td>\n",
       "      <td>0</td>\n",
       "      <td>0</td>\n",
       "      <td>224</td>\n",
       "    </tr>\n",
       "    <tr>\n",
       "      <th>1</th>\n",
       "      <td>122598</td>\n",
       "      <td>5 ROOM</td>\n",
       "      <td>130.0</td>\n",
       "      <td>Improved</td>\n",
       "      <td>665000.0</td>\n",
       "      <td>2012</td>\n",
       "      <td>8</td>\n",
       "      <td>34</td>\n",
       "      <td>9</td>\n",
       "      <td>Bishan</td>\n",
       "      <td>866.941448</td>\n",
       "      <td>640.151925</td>\n",
       "      <td>903.659703</td>\n",
       "      <td>1</td>\n",
       "      <td>1</td>\n",
       "      <td>232</td>\n",
       "    </tr>\n",
       "    <tr>\n",
       "      <th>2</th>\n",
       "      <td>170897</td>\n",
       "      <td>EXECUTIVE</td>\n",
       "      <td>144.0</td>\n",
       "      <td>Apartment</td>\n",
       "      <td>838000.0</td>\n",
       "      <td>2013</td>\n",
       "      <td>14</td>\n",
       "      <td>24</td>\n",
       "      <td>16</td>\n",
       "      <td>Bukit Batok</td>\n",
       "      <td>1459.579948</td>\n",
       "      <td>1762.082341</td>\n",
       "      <td>1334.251197</td>\n",
       "      <td>1</td>\n",
       "      <td>0</td>\n",
       "      <td>188</td>\n",
       "    </tr>\n",
       "    <tr>\n",
       "      <th>3</th>\n",
       "      <td>86070</td>\n",
       "      <td>4 ROOM</td>\n",
       "      <td>103.0</td>\n",
       "      <td>Model A</td>\n",
       "      <td>550000.0</td>\n",
       "      <td>2012</td>\n",
       "      <td>3</td>\n",
       "      <td>29</td>\n",
       "      <td>11</td>\n",
       "      <td>Bishan</td>\n",
       "      <td>950.175199</td>\n",
       "      <td>726.215262</td>\n",
       "      <td>907.453484</td>\n",
       "      <td>1</td>\n",
       "      <td>1</td>\n",
       "      <td>253</td>\n",
       "    </tr>\n",
       "    <tr>\n",
       "      <th>4</th>\n",
       "      <td>153632</td>\n",
       "      <td>4 ROOM</td>\n",
       "      <td>83.0</td>\n",
       "      <td>Simplified</td>\n",
       "      <td>298000.0</td>\n",
       "      <td>2017</td>\n",
       "      <td>2</td>\n",
       "      <td>34</td>\n",
       "      <td>4</td>\n",
       "      <td>Yishun</td>\n",
       "      <td>729.771895</td>\n",
       "      <td>1540.151439</td>\n",
       "      <td>412.343032</td>\n",
       "      <td>0</td>\n",
       "      <td>0</td>\n",
       "      <td>208</td>\n",
       "    </tr>\n",
       "  </tbody>\n",
       "</table>\n",
       "</div>"
      ],
      "text/plain": [
       "       id  flat_type  floor_area_sqm  flat_model  resale_price  Tranc_Year  \\\n",
       "0   88471     4 ROOM            90.0     Model A      680000.0        2016   \n",
       "1  122598     5 ROOM           130.0    Improved      665000.0        2012   \n",
       "2  170897  EXECUTIVE           144.0   Apartment      838000.0        2013   \n",
       "3   86070     4 ROOM           103.0     Model A      550000.0        2012   \n",
       "4  153632     4 ROOM            83.0  Simplified      298000.0        2017   \n",
       "\n",
       "   mid  hdb_age  max_floor_lvl planning_area  Mall_Nearest_Distance  \\\n",
       "0   11       15             25       Kallang            1094.090418   \n",
       "1    8       34              9        Bishan             866.941448   \n",
       "2   14       24             16   Bukit Batok            1459.579948   \n",
       "3    3       29             11        Bishan             950.175199   \n",
       "4    2       34              4        Yishun             729.771895   \n",
       "\n",
       "   Hawker_Nearest_Distance  mrt_nearest_distance  bus_interchange  \\\n",
       "0               154.753357            330.083069                0   \n",
       "1               640.151925            903.659703                1   \n",
       "2              1762.082341           1334.251197                1   \n",
       "3               726.215262            907.453484                1   \n",
       "4              1540.151439            412.343032                0   \n",
       "\n",
       "   mrt_interchange  cutoff_point  \n",
       "0                0           224  \n",
       "1                1           232  \n",
       "2                0           188  \n",
       "3                1           253  \n",
       "4                0           208  "
      ]
     },
     "execution_count": 2,
     "metadata": {},
     "output_type": "execute_result"
    }
   ],
   "source": [
    "# read in the cleaned data used in model creation\n",
    "df = pd.read_csv('../datasets/reduced_train.csv')\n",
    "df.head()"
   ]
  },
  {
   "cell_type": "code",
   "execution_count": 3,
   "id": "a78ba07c-60a1-4f49-8ea5-d956dd17d496",
   "metadata": {},
   "outputs": [
    {
     "data": {
      "text/plain": [
       "(149772, 16)"
      ]
     },
     "execution_count": 3,
     "metadata": {},
     "output_type": "execute_result"
    }
   ],
   "source": [
    "df.shape"
   ]
  },
  {
   "cell_type": "code",
   "execution_count": 4,
   "id": "3fe5f26b-a7d0-4ba3-9017-41dfe16a6b08",
   "metadata": {},
   "outputs": [
    {
     "data": {
      "text/plain": [
       "id                         0\n",
       "flat_type                  0\n",
       "floor_area_sqm             0\n",
       "flat_model                 0\n",
       "resale_price               0\n",
       "Tranc_Year                 0\n",
       "mid                        0\n",
       "hdb_age                    0\n",
       "max_floor_lvl              0\n",
       "planning_area              0\n",
       "Mall_Nearest_Distance      0\n",
       "Hawker_Nearest_Distance    0\n",
       "mrt_nearest_distance       0\n",
       "bus_interchange            0\n",
       "mrt_interchange            0\n",
       "cutoff_point               0\n",
       "dtype: int64"
      ]
     },
     "execution_count": 4,
     "metadata": {},
     "output_type": "execute_result"
    }
   ],
   "source": [
    "df.isnull().sum()"
   ]
  },
  {
   "cell_type": "markdown",
   "id": "dd7690de-0c21-4877-9398-c7a9dcdf2e90",
   "metadata": {},
   "source": [
    "## Preprocessing"
   ]
  },
  {
   "cell_type": "markdown",
   "id": "40ceecab-eab0-4d38-b833-e913acc02efb",
   "metadata": {},
   "source": [
    "Split the dataset as categorical and numerical sets.  \n",
    "This is a very basic and simple preprocessing, where the categorical features will go through One Hot Encoding, numerical features will go through Standard Scaler."
   ]
  },
  {
   "cell_type": "code",
   "execution_count": 5,
   "id": "86fa8d0f-ba32-45c0-b0d4-646412aaa3be",
   "metadata": {},
   "outputs": [],
   "source": [
    "categorical_col = ['flat_type', 'flat_model', 'Tranc_Year', 'planning_area', 'bus_interchange', 'mrt_interchange']\n",
    "numerical_col = ['floor_area_sqm', 'mid', 'hdb_age', 'max_floor_lvl', 'Mall_Nearest_Distance', 'Hawker_Nearest_Distance', 'mrt_nearest_distance', 'cutoff_point']"
   ]
  },
  {
   "cell_type": "code",
   "execution_count": 6,
   "id": "c818f565-282c-4056-97d3-5f0f2a42c0c7",
   "metadata": {},
   "outputs": [],
   "source": [
    "# This is the target of the prediction\n",
    "y = df.resale_price"
   ]
  },
  {
   "cell_type": "code",
   "execution_count": 7,
   "id": "2b6b92b0-ad24-4765-b210-0cc34126a08a",
   "metadata": {},
   "outputs": [],
   "source": [
    "# These are the predictors used to predict the resale price\n",
    "X = df.drop(columns=['id', 'resale_price'])"
   ]
  },
  {
   "cell_type": "code",
   "execution_count": 8,
   "id": "c4eef382-8cee-49e6-a100-b99f24b7ede2",
   "metadata": {},
   "outputs": [],
   "source": [
    "# make a pipeline to apply standard scaler on selected features\n",
    "numeric_transformer = Pipeline(\n",
    "    steps=[(\"simple impute\", SimpleImputer(missing_values=np.nan, strategy='mean')),\n",
    "           (\"scaler\", StandardScaler())\n",
    "            ]\n",
    ")"
   ]
  },
  {
   "cell_type": "code",
   "execution_count": 9,
   "id": "1c198263-0d10-45ed-9744-6404b9ca84c7",
   "metadata": {
    "tags": []
   },
   "outputs": [],
   "source": [
    "# make a pipeline to apply one hot encoding on selected features\n",
    "categorical_transformer = Pipeline(\n",
    "    steps=[\n",
    "        (\"encoder\", OneHotEncoder(handle_unknown=\"ignore\", drop='first')),\n",
    "    ]\n",
    ")"
   ]
  },
  {
   "cell_type": "code",
   "execution_count": 10,
   "id": "d84f7fac-5d70-4ccf-86ad-e7fd83bbd468",
   "metadata": {},
   "outputs": [],
   "source": [
    "# the above 2 steps forms the colmun transformer, which is used for the preprocessing step.\n",
    "\n",
    "preprocessor = ColumnTransformer(\n",
    "    transformers=[\n",
    "        (\"num\", numeric_transformer, numerical_col),\n",
    "        (\"cat\", categorical_transformer, categorical_col),\n",
    "    ]\n",
    ")"
   ]
  },
  {
   "cell_type": "markdown",
   "id": "12775646-2171-481f-b18f-d3ee1c25e334",
   "metadata": {},
   "source": [
    "Then, prepare the data used for training and testing of model.  \n",
    "As this model is a linear regression based model, the `train_test_split` can't split up the training data using y.   \n",
    "This is because y value, the housing price is numerical and continuous.   \n",
    "There's no way both training set and testing set can contain the number when ther's only 1 y in the entire sample.  "
   ]
  },
  {
   "cell_type": "code",
   "execution_count": 11,
   "id": "a9c2bbf5-d76e-4a06-884b-3a1681bb3a98",
   "metadata": {},
   "outputs": [],
   "source": [
    "# Split the data using train test split.\n",
    "X_train, X_test, y_train, y_test = train_test_split(X, y, test_size=0.2, random_state=0)"
   ]
  },
  {
   "cell_type": "markdown",
   "id": "b80cd7de-0b32-4e53-b6e8-56c658681238",
   "metadata": {},
   "source": [
    "With this, the data is prepared and ready to be used for traning of the models.  "
   ]
  },
  {
   "cell_type": "code",
   "execution_count": 12,
   "id": "f8e0aeb2-94c9-4a8b-839a-b517fa87dcd6",
   "metadata": {},
   "outputs": [
    {
     "data": {
      "text/html": [
       "<div>\n",
       "<style scoped>\n",
       "    .dataframe tbody tr th:only-of-type {\n",
       "        vertical-align: middle;\n",
       "    }\n",
       "\n",
       "    .dataframe tbody tr th {\n",
       "        vertical-align: top;\n",
       "    }\n",
       "\n",
       "    .dataframe thead th {\n",
       "        text-align: right;\n",
       "    }\n",
       "</style>\n",
       "<table border=\"1\" class=\"dataframe\">\n",
       "  <thead>\n",
       "    <tr style=\"text-align: right;\">\n",
       "      <th></th>\n",
       "      <th>flat_type</th>\n",
       "      <th>floor_area_sqm</th>\n",
       "      <th>flat_model</th>\n",
       "      <th>Tranc_Year</th>\n",
       "      <th>mid</th>\n",
       "      <th>hdb_age</th>\n",
       "      <th>max_floor_lvl</th>\n",
       "      <th>planning_area</th>\n",
       "      <th>Mall_Nearest_Distance</th>\n",
       "      <th>Hawker_Nearest_Distance</th>\n",
       "      <th>mrt_nearest_distance</th>\n",
       "      <th>bus_interchange</th>\n",
       "      <th>mrt_interchange</th>\n",
       "      <th>cutoff_point</th>\n",
       "    </tr>\n",
       "  </thead>\n",
       "  <tbody>\n",
       "    <tr>\n",
       "      <th>88970</th>\n",
       "      <td>4 ROOM</td>\n",
       "      <td>104.0</td>\n",
       "      <td>Model A</td>\n",
       "      <td>2020</td>\n",
       "      <td>11</td>\n",
       "      <td>32</td>\n",
       "      <td>12</td>\n",
       "      <td>Yishun</td>\n",
       "      <td>578.640160</td>\n",
       "      <td>480.057997</td>\n",
       "      <td>1156.371509</td>\n",
       "      <td>1</td>\n",
       "      <td>0</td>\n",
       "      <td>235</td>\n",
       "    </tr>\n",
       "    <tr>\n",
       "      <th>129062</th>\n",
       "      <td>3 ROOM</td>\n",
       "      <td>81.0</td>\n",
       "      <td>New Generation</td>\n",
       "      <td>2019</td>\n",
       "      <td>2</td>\n",
       "      <td>43</td>\n",
       "      <td>13</td>\n",
       "      <td>Clementi</td>\n",
       "      <td>346.376514</td>\n",
       "      <td>315.873061</td>\n",
       "      <td>383.278479</td>\n",
       "      <td>1</td>\n",
       "      <td>0</td>\n",
       "      <td>231</td>\n",
       "    </tr>\n",
       "    <tr>\n",
       "      <th>41882</th>\n",
       "      <td>4 ROOM</td>\n",
       "      <td>101.0</td>\n",
       "      <td>Model A</td>\n",
       "      <td>2018</td>\n",
       "      <td>2</td>\n",
       "      <td>23</td>\n",
       "      <td>10</td>\n",
       "      <td>Woodlands</td>\n",
       "      <td>535.174902</td>\n",
       "      <td>1272.548649</td>\n",
       "      <td>619.800951</td>\n",
       "      <td>1</td>\n",
       "      <td>1</td>\n",
       "      <td>204</td>\n",
       "    </tr>\n",
       "    <tr>\n",
       "      <th>139675</th>\n",
       "      <td>4 ROOM</td>\n",
       "      <td>99.0</td>\n",
       "      <td>New Generation</td>\n",
       "      <td>2020</td>\n",
       "      <td>14</td>\n",
       "      <td>38</td>\n",
       "      <td>13</td>\n",
       "      <td>Jurong East</td>\n",
       "      <td>1449.158899</td>\n",
       "      <td>353.355740</td>\n",
       "      <td>411.382755</td>\n",
       "      <td>0</td>\n",
       "      <td>0</td>\n",
       "      <td>223</td>\n",
       "    </tr>\n",
       "    <tr>\n",
       "      <th>140141</th>\n",
       "      <td>5 ROOM</td>\n",
       "      <td>110.0</td>\n",
       "      <td>Improved</td>\n",
       "      <td>2018</td>\n",
       "      <td>8</td>\n",
       "      <td>20</td>\n",
       "      <td>14</td>\n",
       "      <td>Sembawang</td>\n",
       "      <td>442.246864</td>\n",
       "      <td>2414.752074</td>\n",
       "      <td>401.245937</td>\n",
       "      <td>1</td>\n",
       "      <td>0</td>\n",
       "      <td>188</td>\n",
       "    </tr>\n",
       "  </tbody>\n",
       "</table>\n",
       "</div>"
      ],
      "text/plain": [
       "       flat_type  floor_area_sqm      flat_model  Tranc_Year  mid  hdb_age  \\\n",
       "88970     4 ROOM           104.0         Model A        2020   11       32   \n",
       "129062    3 ROOM            81.0  New Generation        2019    2       43   \n",
       "41882     4 ROOM           101.0         Model A        2018    2       23   \n",
       "139675    4 ROOM            99.0  New Generation        2020   14       38   \n",
       "140141    5 ROOM           110.0        Improved        2018    8       20   \n",
       "\n",
       "        max_floor_lvl planning_area  Mall_Nearest_Distance  \\\n",
       "88970              12        Yishun             578.640160   \n",
       "129062             13      Clementi             346.376514   \n",
       "41882              10     Woodlands             535.174902   \n",
       "139675             13   Jurong East            1449.158899   \n",
       "140141             14     Sembawang             442.246864   \n",
       "\n",
       "        Hawker_Nearest_Distance  mrt_nearest_distance  bus_interchange  \\\n",
       "88970                480.057997           1156.371509                1   \n",
       "129062               315.873061            383.278479                1   \n",
       "41882               1272.548649            619.800951                1   \n",
       "139675               353.355740            411.382755                0   \n",
       "140141              2414.752074            401.245937                1   \n",
       "\n",
       "        mrt_interchange  cutoff_point  \n",
       "88970                 0           235  \n",
       "129062                0           231  \n",
       "41882                 1           204  \n",
       "139675                0           223  \n",
       "140141                0           188  "
      ]
     },
     "execution_count": 12,
     "metadata": {},
     "output_type": "execute_result"
    }
   ],
   "source": [
    "X_train.head()"
   ]
  },
  {
   "cell_type": "markdown",
   "id": "2ccbb498-c318-49c4-9f4e-eb4d5f387a41",
   "metadata": {},
   "source": [
    "## Linear Regression"
   ]
  },
  {
   "cell_type": "markdown",
   "id": "f48a61a7-bc8a-49cf-a457-191903dcf10f",
   "metadata": {},
   "source": [
    "This section covers the building of a simple linear regression model.  "
   ]
  },
  {
   "cell_type": "code",
   "execution_count": 13,
   "id": "127258c6-7da3-44c7-8b25-2826e2a7a398",
   "metadata": {},
   "outputs": [],
   "source": [
    "# Build a pipeline for regression model\n",
    "lin_reg = Pipeline(\n",
    "    steps=[(\"preprocessor\", preprocessor), (\"regressor\", LinearRegression())]\n",
    ")"
   ]
  },
  {
   "cell_type": "code",
   "execution_count": 14,
   "id": "489ae314-9cfd-4af6-92bf-bc06c538fae7",
   "metadata": {},
   "outputs": [
    {
     "data": {
      "text/html": [
       "<style>#sk-container-id-1 {color: black;background-color: white;}#sk-container-id-1 pre{padding: 0;}#sk-container-id-1 div.sk-toggleable {background-color: white;}#sk-container-id-1 label.sk-toggleable__label {cursor: pointer;display: block;width: 100%;margin-bottom: 0;padding: 0.3em;box-sizing: border-box;text-align: center;}#sk-container-id-1 label.sk-toggleable__label-arrow:before {content: \"▸\";float: left;margin-right: 0.25em;color: #696969;}#sk-container-id-1 label.sk-toggleable__label-arrow:hover:before {color: black;}#sk-container-id-1 div.sk-estimator:hover label.sk-toggleable__label-arrow:before {color: black;}#sk-container-id-1 div.sk-toggleable__content {max-height: 0;max-width: 0;overflow: hidden;text-align: left;background-color: #f0f8ff;}#sk-container-id-1 div.sk-toggleable__content pre {margin: 0.2em;color: black;border-radius: 0.25em;background-color: #f0f8ff;}#sk-container-id-1 input.sk-toggleable__control:checked~div.sk-toggleable__content {max-height: 200px;max-width: 100%;overflow: auto;}#sk-container-id-1 input.sk-toggleable__control:checked~label.sk-toggleable__label-arrow:before {content: \"▾\";}#sk-container-id-1 div.sk-estimator input.sk-toggleable__control:checked~label.sk-toggleable__label {background-color: #d4ebff;}#sk-container-id-1 div.sk-label input.sk-toggleable__control:checked~label.sk-toggleable__label {background-color: #d4ebff;}#sk-container-id-1 input.sk-hidden--visually {border: 0;clip: rect(1px 1px 1px 1px);clip: rect(1px, 1px, 1px, 1px);height: 1px;margin: -1px;overflow: hidden;padding: 0;position: absolute;width: 1px;}#sk-container-id-1 div.sk-estimator {font-family: monospace;background-color: #f0f8ff;border: 1px dotted black;border-radius: 0.25em;box-sizing: border-box;margin-bottom: 0.5em;}#sk-container-id-1 div.sk-estimator:hover {background-color: #d4ebff;}#sk-container-id-1 div.sk-parallel-item::after {content: \"\";width: 100%;border-bottom: 1px solid gray;flex-grow: 1;}#sk-container-id-1 div.sk-label:hover label.sk-toggleable__label {background-color: #d4ebff;}#sk-container-id-1 div.sk-serial::before {content: \"\";position: absolute;border-left: 1px solid gray;box-sizing: border-box;top: 0;bottom: 0;left: 50%;z-index: 0;}#sk-container-id-1 div.sk-serial {display: flex;flex-direction: column;align-items: center;background-color: white;padding-right: 0.2em;padding-left: 0.2em;position: relative;}#sk-container-id-1 div.sk-item {position: relative;z-index: 1;}#sk-container-id-1 div.sk-parallel {display: flex;align-items: stretch;justify-content: center;background-color: white;position: relative;}#sk-container-id-1 div.sk-item::before, #sk-container-id-1 div.sk-parallel-item::before {content: \"\";position: absolute;border-left: 1px solid gray;box-sizing: border-box;top: 0;bottom: 0;left: 50%;z-index: -1;}#sk-container-id-1 div.sk-parallel-item {display: flex;flex-direction: column;z-index: 1;position: relative;background-color: white;}#sk-container-id-1 div.sk-parallel-item:first-child::after {align-self: flex-end;width: 50%;}#sk-container-id-1 div.sk-parallel-item:last-child::after {align-self: flex-start;width: 50%;}#sk-container-id-1 div.sk-parallel-item:only-child::after {width: 0;}#sk-container-id-1 div.sk-dashed-wrapped {border: 1px dashed gray;margin: 0 0.4em 0.5em 0.4em;box-sizing: border-box;padding-bottom: 0.4em;background-color: white;}#sk-container-id-1 div.sk-label label {font-family: monospace;font-weight: bold;display: inline-block;line-height: 1.2em;}#sk-container-id-1 div.sk-label-container {text-align: center;}#sk-container-id-1 div.sk-container {/* jupyter's `normalize.less` sets `[hidden] { display: none; }` but bootstrap.min.css set `[hidden] { display: none !important; }` so we also need the `!important` here to be able to override the default hidden behavior on the sphinx rendered scikit-learn.org. See: https://github.com/scikit-learn/scikit-learn/issues/21755 */display: inline-block !important;position: relative;}#sk-container-id-1 div.sk-text-repr-fallback {display: none;}</style><div id=\"sk-container-id-1\" class=\"sk-top-container\"><div class=\"sk-text-repr-fallback\"><pre>Pipeline(steps=[(&#x27;preprocessor&#x27;,\n",
       "                 ColumnTransformer(transformers=[(&#x27;num&#x27;,\n",
       "                                                  Pipeline(steps=[(&#x27;simple &#x27;\n",
       "                                                                   &#x27;impute&#x27;,\n",
       "                                                                   SimpleImputer()),\n",
       "                                                                  (&#x27;scaler&#x27;,\n",
       "                                                                   StandardScaler())]),\n",
       "                                                  [&#x27;floor_area_sqm&#x27;, &#x27;mid&#x27;,\n",
       "                                                   &#x27;hdb_age&#x27;, &#x27;max_floor_lvl&#x27;,\n",
       "                                                   &#x27;Mall_Nearest_Distance&#x27;,\n",
       "                                                   &#x27;Hawker_Nearest_Distance&#x27;,\n",
       "                                                   &#x27;mrt_nearest_distance&#x27;,\n",
       "                                                   &#x27;cutoff_point&#x27;]),\n",
       "                                                 (&#x27;cat&#x27;,\n",
       "                                                  Pipeline(steps=[(&#x27;encoder&#x27;,\n",
       "                                                                   OneHotEncoder(drop=&#x27;first&#x27;,\n",
       "                                                                                 handle_unknown=&#x27;ignore&#x27;))]),\n",
       "                                                  [&#x27;flat_type&#x27;, &#x27;flat_model&#x27;,\n",
       "                                                   &#x27;Tranc_Year&#x27;,\n",
       "                                                   &#x27;planning_area&#x27;,\n",
       "                                                   &#x27;bus_interchange&#x27;,\n",
       "                                                   &#x27;mrt_interchange&#x27;])])),\n",
       "                (&#x27;regressor&#x27;, LinearRegression())])</pre><b>In a Jupyter environment, please rerun this cell to show the HTML representation or trust the notebook. <br />On GitHub, the HTML representation is unable to render, please try loading this page with nbviewer.org.</b></div><div class=\"sk-container\" hidden><div class=\"sk-item sk-dashed-wrapped\"><div class=\"sk-label-container\"><div class=\"sk-label sk-toggleable\"><input class=\"sk-toggleable__control sk-hidden--visually\" id=\"sk-estimator-id-1\" type=\"checkbox\" ><label for=\"sk-estimator-id-1\" class=\"sk-toggleable__label sk-toggleable__label-arrow\">Pipeline</label><div class=\"sk-toggleable__content\"><pre>Pipeline(steps=[(&#x27;preprocessor&#x27;,\n",
       "                 ColumnTransformer(transformers=[(&#x27;num&#x27;,\n",
       "                                                  Pipeline(steps=[(&#x27;simple &#x27;\n",
       "                                                                   &#x27;impute&#x27;,\n",
       "                                                                   SimpleImputer()),\n",
       "                                                                  (&#x27;scaler&#x27;,\n",
       "                                                                   StandardScaler())]),\n",
       "                                                  [&#x27;floor_area_sqm&#x27;, &#x27;mid&#x27;,\n",
       "                                                   &#x27;hdb_age&#x27;, &#x27;max_floor_lvl&#x27;,\n",
       "                                                   &#x27;Mall_Nearest_Distance&#x27;,\n",
       "                                                   &#x27;Hawker_Nearest_Distance&#x27;,\n",
       "                                                   &#x27;mrt_nearest_distance&#x27;,\n",
       "                                                   &#x27;cutoff_point&#x27;]),\n",
       "                                                 (&#x27;cat&#x27;,\n",
       "                                                  Pipeline(steps=[(&#x27;encoder&#x27;,\n",
       "                                                                   OneHotEncoder(drop=&#x27;first&#x27;,\n",
       "                                                                                 handle_unknown=&#x27;ignore&#x27;))]),\n",
       "                                                  [&#x27;flat_type&#x27;, &#x27;flat_model&#x27;,\n",
       "                                                   &#x27;Tranc_Year&#x27;,\n",
       "                                                   &#x27;planning_area&#x27;,\n",
       "                                                   &#x27;bus_interchange&#x27;,\n",
       "                                                   &#x27;mrt_interchange&#x27;])])),\n",
       "                (&#x27;regressor&#x27;, LinearRegression())])</pre></div></div></div><div class=\"sk-serial\"><div class=\"sk-item sk-dashed-wrapped\"><div class=\"sk-label-container\"><div class=\"sk-label sk-toggleable\"><input class=\"sk-toggleable__control sk-hidden--visually\" id=\"sk-estimator-id-2\" type=\"checkbox\" ><label for=\"sk-estimator-id-2\" class=\"sk-toggleable__label sk-toggleable__label-arrow\">preprocessor: ColumnTransformer</label><div class=\"sk-toggleable__content\"><pre>ColumnTransformer(transformers=[(&#x27;num&#x27;,\n",
       "                                 Pipeline(steps=[(&#x27;simple impute&#x27;,\n",
       "                                                  SimpleImputer()),\n",
       "                                                 (&#x27;scaler&#x27;, StandardScaler())]),\n",
       "                                 [&#x27;floor_area_sqm&#x27;, &#x27;mid&#x27;, &#x27;hdb_age&#x27;,\n",
       "                                  &#x27;max_floor_lvl&#x27;, &#x27;Mall_Nearest_Distance&#x27;,\n",
       "                                  &#x27;Hawker_Nearest_Distance&#x27;,\n",
       "                                  &#x27;mrt_nearest_distance&#x27;, &#x27;cutoff_point&#x27;]),\n",
       "                                (&#x27;cat&#x27;,\n",
       "                                 Pipeline(steps=[(&#x27;encoder&#x27;,\n",
       "                                                  OneHotEncoder(drop=&#x27;first&#x27;,\n",
       "                                                                handle_unknown=&#x27;ignore&#x27;))]),\n",
       "                                 [&#x27;flat_type&#x27;, &#x27;flat_model&#x27;, &#x27;Tranc_Year&#x27;,\n",
       "                                  &#x27;planning_area&#x27;, &#x27;bus_interchange&#x27;,\n",
       "                                  &#x27;mrt_interchange&#x27;])])</pre></div></div></div><div class=\"sk-parallel\"><div class=\"sk-parallel-item\"><div class=\"sk-item\"><div class=\"sk-label-container\"><div class=\"sk-label sk-toggleable\"><input class=\"sk-toggleable__control sk-hidden--visually\" id=\"sk-estimator-id-3\" type=\"checkbox\" ><label for=\"sk-estimator-id-3\" class=\"sk-toggleable__label sk-toggleable__label-arrow\">num</label><div class=\"sk-toggleable__content\"><pre>[&#x27;floor_area_sqm&#x27;, &#x27;mid&#x27;, &#x27;hdb_age&#x27;, &#x27;max_floor_lvl&#x27;, &#x27;Mall_Nearest_Distance&#x27;, &#x27;Hawker_Nearest_Distance&#x27;, &#x27;mrt_nearest_distance&#x27;, &#x27;cutoff_point&#x27;]</pre></div></div></div><div class=\"sk-serial\"><div class=\"sk-item\"><div class=\"sk-serial\"><div class=\"sk-item\"><div class=\"sk-estimator sk-toggleable\"><input class=\"sk-toggleable__control sk-hidden--visually\" id=\"sk-estimator-id-4\" type=\"checkbox\" ><label for=\"sk-estimator-id-4\" class=\"sk-toggleable__label sk-toggleable__label-arrow\">SimpleImputer</label><div class=\"sk-toggleable__content\"><pre>SimpleImputer()</pre></div></div></div><div class=\"sk-item\"><div class=\"sk-estimator sk-toggleable\"><input class=\"sk-toggleable__control sk-hidden--visually\" id=\"sk-estimator-id-5\" type=\"checkbox\" ><label for=\"sk-estimator-id-5\" class=\"sk-toggleable__label sk-toggleable__label-arrow\">StandardScaler</label><div class=\"sk-toggleable__content\"><pre>StandardScaler()</pre></div></div></div></div></div></div></div></div><div class=\"sk-parallel-item\"><div class=\"sk-item\"><div class=\"sk-label-container\"><div class=\"sk-label sk-toggleable\"><input class=\"sk-toggleable__control sk-hidden--visually\" id=\"sk-estimator-id-6\" type=\"checkbox\" ><label for=\"sk-estimator-id-6\" class=\"sk-toggleable__label sk-toggleable__label-arrow\">cat</label><div class=\"sk-toggleable__content\"><pre>[&#x27;flat_type&#x27;, &#x27;flat_model&#x27;, &#x27;Tranc_Year&#x27;, &#x27;planning_area&#x27;, &#x27;bus_interchange&#x27;, &#x27;mrt_interchange&#x27;]</pre></div></div></div><div class=\"sk-serial\"><div class=\"sk-item\"><div class=\"sk-serial\"><div class=\"sk-item\"><div class=\"sk-estimator sk-toggleable\"><input class=\"sk-toggleable__control sk-hidden--visually\" id=\"sk-estimator-id-7\" type=\"checkbox\" ><label for=\"sk-estimator-id-7\" class=\"sk-toggleable__label sk-toggleable__label-arrow\">OneHotEncoder</label><div class=\"sk-toggleable__content\"><pre>OneHotEncoder(drop=&#x27;first&#x27;, handle_unknown=&#x27;ignore&#x27;)</pre></div></div></div></div></div></div></div></div></div></div><div class=\"sk-item\"><div class=\"sk-estimator sk-toggleable\"><input class=\"sk-toggleable__control sk-hidden--visually\" id=\"sk-estimator-id-8\" type=\"checkbox\" ><label for=\"sk-estimator-id-8\" class=\"sk-toggleable__label sk-toggleable__label-arrow\">LinearRegression</label><div class=\"sk-toggleable__content\"><pre>LinearRegression()</pre></div></div></div></div></div></div></div>"
      ],
      "text/plain": [
       "Pipeline(steps=[('preprocessor',\n",
       "                 ColumnTransformer(transformers=[('num',\n",
       "                                                  Pipeline(steps=[('simple '\n",
       "                                                                   'impute',\n",
       "                                                                   SimpleImputer()),\n",
       "                                                                  ('scaler',\n",
       "                                                                   StandardScaler())]),\n",
       "                                                  ['floor_area_sqm', 'mid',\n",
       "                                                   'hdb_age', 'max_floor_lvl',\n",
       "                                                   'Mall_Nearest_Distance',\n",
       "                                                   'Hawker_Nearest_Distance',\n",
       "                                                   'mrt_nearest_distance',\n",
       "                                                   'cutoff_point']),\n",
       "                                                 ('cat',\n",
       "                                                  Pipeline(steps=[('encoder',\n",
       "                                                                   OneHotEncoder(drop='first',\n",
       "                                                                                 handle_unknown='ignore'))]),\n",
       "                                                  ['flat_type', 'flat_model',\n",
       "                                                   'Tranc_Year',\n",
       "                                                   'planning_area',\n",
       "                                                   'bus_interchange',\n",
       "                                                   'mrt_interchange'])])),\n",
       "                ('regressor', LinearRegression())])"
      ]
     },
     "execution_count": 14,
     "metadata": {},
     "output_type": "execute_result"
    }
   ],
   "source": [
    "# Fit the model with training data\n",
    "lin_reg.fit(X_train, y_train)"
   ]
  },
  {
   "cell_type": "code",
   "execution_count": 15,
   "id": "09a4d462-600e-4a3b-8e2a-0caaabc95c61",
   "metadata": {},
   "outputs": [
    {
     "name": "stdout",
     "output_type": "stream",
     "text": [
      "The train score is: 0.891913\n",
      "The test score is: 0.891237\n"
     ]
    }
   ],
   "source": [
    "print(f\"The train score is: {round(lin_reg.score(X_train, y_train), 6)}\")\n",
    "print(f\"The test score is: {round(lin_reg.score(X_test, y_test), 6)}\")"
   ]
  },
  {
   "cell_type": "markdown",
   "id": "8772232e-9aa1-4047-897f-7eb1563080f8",
   "metadata": {},
   "source": [
    "Seems that the cross validation score is pretty good and very consistent.  \n",
    "This is indicated by the close match between the different folds.  \n",
    "Below is a simpler way to do it.  \n",
    "```console\n",
    "scores = cross_val_score(lin_reg, X_train, y_train, scoring='r2', cv=5)\n",
    "scores      \n",
    "```\n",
    "Okay, this is acceptable.  \n",
    "Now, time to do some analysis!"
   ]
  },
  {
   "cell_type": "code",
   "execution_count": 16,
   "id": "5976bfc5-ac39-45a7-9f08-862a44b76dc0",
   "metadata": {},
   "outputs": [
    {
     "name": "stdout",
     "output_type": "stream",
     "text": [
      "r-squared = 0.8912\n"
     ]
    },
    {
     "data": {
      "image/png": "[encoded data removed]",
      "text/plain": [
       "<Figure size 900x900 with 1 Axes>"
      ]
     },
     "metadata": {},
     "output_type": "display_data"
    }
   ],
   "source": [
    "# Initialize layout\n",
    "fig, ax = plt.subplots(figsize = (9, 9))\n",
    "\n",
    "# Add scatterplot\n",
    "ax.scatter(y_test, lin_reg.predict(X_test), s=60, alpha=0.7, edgecolors=\"k\")\n",
    "\n",
    "# Fit linear regression via least squares with numpy.polyfit\n",
    "# It returns an slope (b) and intercept (a)\n",
    "# deg=1 means linear fit (i.e. polynomial of degree 1)\n",
    "b, a = np.polyfit(y_test, lin_reg.predict(X_test), deg=1)\n",
    "\n",
    "# Create sequence of 100 numbers from 0 to 100 \n",
    "xseq = np.linspace(200000, 1400000, num=100)\n",
    "\n",
    "# Plot regression line\n",
    "ax.plot(xseq, a + b * xseq, color=\"r\", lw=2.5, linestyle='dashed');\n",
    "\n",
    "plt.xlabel('Actual resale price');\n",
    "plt.ylabel('predicted resale price');\n",
    "plt.title('Predicted resale price vs actual resale price')\n",
    "plt.annotate(\"r-squared = {:.3f}\".format(r2_score(y_test, lin_reg.predict(X_test))), (1, 1));\n",
    "print(\"r-squared = {:.4f}\".format(r2_score(y_test, lin_reg.predict(X_test))))#"
   ]
  },
  {
   "cell_type": "markdown",
   "id": "eb698b53-ad4e-4fc2-80ed-597d7be62d7f",
   "metadata": {},
   "source": [
    "This is a reseasonable model with very close train and test scores.   \n",
    "This means that this is a decent model!  \n",
    "Now, I will further investigate this model using cross validation."
   ]
  },
  {
   "cell_type": "code",
   "execution_count": 17,
   "id": "76ca5c7c-90fe-4187-a83d-2e2374ea938d",
   "metadata": {},
   "outputs": [],
   "source": [
    "# Build a regression model with cross validation\n",
    "folds = KFold(n_splits = 5, shuffle = True, random_state = 0)\n",
    "scores = cross_val_score(lin_reg, X_train, y_train, scoring='r2', cv=folds)"
   ]
  },
  {
   "cell_type": "code",
   "execution_count": 18,
   "id": "c3221d64-2d92-464a-a5b4-51c9667919ac",
   "metadata": {},
   "outputs": [
    {
     "data": {
      "text/plain": [
       "array([0.8913561 , 0.89231941, 0.89244822, 0.8928205 , 0.88969684])"
      ]
     },
     "execution_count": 18,
     "metadata": {},
     "output_type": "execute_result"
    }
   ],
   "source": [
    "scores"
   ]
  },
  {
   "cell_type": "code",
   "execution_count": 19,
   "id": "8e607718-0ab9-4915-9433-69d436177e3d",
   "metadata": {},
   "outputs": [],
   "source": [
    "# This function is obtained from internet source:\n",
    "# https://johaupt.github.io/blog/columnTransformer_feature_names.html\n",
    "def get_feature_names(column_transformer):\n",
    "    \"\"\"Get feature names from all transformers.\n",
    "    Returns\n",
    "    -------\n",
    "    feature_names : list of strings\n",
    "        Names of the features produced by transform.\n",
    "    \"\"\"\n",
    "    # Remove the internal helper function\n",
    "    #check_is_fitted(column_transformer)\n",
    "    \n",
    "    # Turn loopkup into function for better handling with pipeline later\n",
    "    def get_names(trans):\n",
    "        # >> Original get_feature_names() method\n",
    "        if trans == 'drop' or (\n",
    "                hasattr(column, '__len__') and not len(column)):\n",
    "            return []\n",
    "        if trans == 'passthrough':\n",
    "            if hasattr(column_transformer, '_df_columns'):\n",
    "                if ((not isinstance(column, slice))\n",
    "                        and all(isinstance(col, str) for col in column)):\n",
    "                    return column\n",
    "                else:\n",
    "                    return column_transformer._df_columns[column]\n",
    "            else:\n",
    "                indices = np.arange(column_transformer._n_features)\n",
    "                return ['x%d' % i for i in indices[column]]\n",
    "        if not hasattr(trans, 'get_feature_names'):\n",
    "        # >>> Change: Return input column names if no method avaiable\n",
    "            # Turn error into a warning\n",
    "            warnings.warn(\"Transformer %s (type %s) does not \"\n",
    "                                 \"provide get_feature_names. \"\n",
    "                                 \"Will return input column names if available\"\n",
    "                                 % (str(name), type(trans).__name__))\n",
    "            # For transformers without a get_features_names method, use the input\n",
    "            # names to the column transformer\n",
    "            if column is None:\n",
    "                return []\n",
    "            else:\n",
    "                return [name + \"__\" + f for f in column]\n",
    "\n",
    "        return [name + \"__\" + f for f in trans.get_feature_names()]\n",
    "    \n",
    "    ### Start of processing\n",
    "    feature_names = []\n",
    "    \n",
    "    # Allow transformers to be pipelines. Pipeline steps are named differently, so preprocessing is needed\n",
    "    if type(column_transformer) == sklearn.pipeline.Pipeline:\n",
    "        l_transformers = [(name, trans, None, None) for step, name, trans in column_transformer._iter()]\n",
    "    else:\n",
    "        # For column transformers, follow the original method\n",
    "        l_transformers = list(column_transformer._iter(fitted=True))\n",
    "    \n",
    "    \n",
    "    for name, trans, column, _ in l_transformers: \n",
    "        if type(trans) == sklearn.pipeline.Pipeline:\n",
    "            # Recursive call on pipeline\n",
    "            _names = get_feature_names(trans)\n",
    "            # if pipeline has no transformer that returns names\n",
    "            if len(_names)==0:\n",
    "                _names = [name + \"__\" + f for f in column]\n",
    "            feature_names.extend(_names)\n",
    "        else:\n",
    "            feature_names.extend(get_names(trans))\n",
    "    \n",
    "    return feature_names"
   ]
  },
  {
   "cell_type": "code",
   "execution_count": 20,
   "id": "44e4b157-7609-4c2d-bb89-8d55791bfd56",
   "metadata": {},
   "outputs": [],
   "source": [
    "%%capture --no-display\n",
    "feature_name = get_feature_names(preprocessor)"
   ]
  },
  {
   "cell_type": "code",
   "execution_count": 21,
   "id": "272687ce-040b-4261-9b90-7fd09d8d0e3c",
   "metadata": {},
   "outputs": [],
   "source": [
    "lin_reg_features_df = pd.DataFrame(lin_reg[1].coef_.flatten(), index=feature_name)"
   ]
  },
  {
   "cell_type": "code",
   "execution_count": 22,
   "id": "7fe36cdc-5bdb-44ae-a7a7-1d15cc6b5c91",
   "metadata": {},
   "outputs": [
    {
     "name": "stdout",
     "output_type": "stream",
     "text": [
      "                                                 0\n",
      "encoder__x1_Terrace                  353387.445126\n",
      "encoder__x3_Changi                   218555.671808\n",
      "encoder__x3_Tanglin                  215000.213335\n",
      "encoder__x3_Marine Parade            203693.243989\n",
      "encoder__x3_Downtown Core            168070.375062\n",
      "encoder__x3_Bukit Timah              158802.698487\n",
      "encoder__x1_Improved-Maisonette      103311.259530\n",
      "encoder__x3_Bishan                    93888.215852\n",
      "num__floor_area_sqm                   87932.751025\n",
      "encoder__x3_Bukit Merah               83841.628765\n",
      "encoder__x1_Type S2                   80297.159474\n",
      "encoder__x3_Outram                    78554.127834\n",
      "encoder__x3_Queenstown                76375.786087\n",
      "encoder__x0_MULTI-GENERATION          38082.542828\n",
      "encoder__x1_Multi Generation          38082.542828\n",
      "encoder__x0_EXECUTIVE                 37271.264466\n",
      "encoder__x3_Kallang                   36170.708012\n",
      "encoder__x3_Serangoon                 35704.619448\n",
      "encoder__x0_5 ROOM                    31273.180556\n",
      "encoder__x1_Model A-Maisonette        30716.808032\n",
      "encoder__x3_Toa Payoh                 30642.577430\n",
      "encoder__x1_Premium Apartment Loft    30497.982539\n",
      "encoder__x3_Clementi                  29617.795407\n",
      "encoder__x1_DBSS                      27861.541293\n",
      "encoder__x3_Rochor                    20807.680848\n",
      "encoder__x0_4 ROOM                    20493.424572\n",
      "num__mid                              18962.888678\n",
      "encoder__x3_Geylang                   18763.347183\n",
      "encoder__x3_Novena                    18702.068136\n",
      "num__max_floor_lvl                    18699.591371\n",
      "encoder__x1_Type S1                   14815.242064\n",
      "encoder__x2_2013                      13196.997787\n",
      "encoder__x0_3 ROOM                    11241.163679\n",
      "encoder__x4_1                          6864.244618\n",
      "encoder__x1_Premium Maisonette         4936.385906\n",
      "encoder__x5_1                          4929.625552\n",
      "num__cutoff_point                       599.928828\n",
      "num__Mall_Nearest_Distance            -5663.667663\n",
      "encoder__x1_Adjoined flat             -5720.378248\n",
      "encoder__x3_Bedok                    -11523.070347\n",
      "encoder__x0_2 ROOM                   -13679.261033\n",
      "encoder__x2_2014                     -17996.190659\n",
      "encoder__x1_Maisonette               -18930.564106\n",
      "encoder__x2_2021                     -19881.409369\n",
      "num__Hawker_Nearest_Distance         -20509.188363\n",
      "num__mrt_nearest_distance            -24592.971980\n",
      "encoder__x3_Tampines                 -26042.602217\n",
      "encoder__x3_Punggol                  -34671.570675\n",
      "encoder__x2_2015                     -36428.698690\n",
      "encoder__x2_2016                     -38821.136142\n",
      "encoder__x3_Bukit Batok              -42084.202959\n",
      "encoder__x3_Jurong East              -44192.348741\n",
      "encoder__x2_2017                     -44771.630514\n",
      "encoder__x2_2020                     -45069.901503\n",
      "num__hdb_age                         -46995.597103\n",
      "encoder__x2_2018                     -50748.704990\n",
      "encoder__x3_Hougang                  -51060.920280\n",
      "encoder__x1_Apartment                -53416.742486\n",
      "encoder__x2_2019                     -53822.797354\n",
      "encoder__x3_Pasir Ris                -60091.719772\n",
      "encoder__x1_Simplified               -65573.768328\n",
      "encoder__x1_Standard                 -65649.804646\n",
      "encoder__x1_New Generation           -70030.595673\n",
      "encoder__x3_Sengkang                 -76156.017602\n",
      "encoder__x1_Premium Apartment        -77865.851897\n",
      "encoder__x3_Yishun                   -78089.127665\n",
      "encoder__x1_Model A2                 -80528.654407\n",
      "encoder__x1_Model A                  -84370.551642\n",
      "encoder__x1_Improved                 -85969.404664\n",
      "encoder__x3_Western Water Catchment  -90840.726217\n",
      "encoder__x3_Jurong West              -92267.446904\n",
      "encoder__x3_Choa Chu Kang           -106264.425451\n",
      "encoder__x3_Bukit Panjang           -109970.431425\n",
      "encoder__x3_Woodlands               -138622.895322\n",
      "encoder__x3_Sembawang               -142698.793535\n"
     ]
    }
   ],
   "source": [
    "with pd.option_context('display.max_rows', None, 'display.max_columns', None):  # more options can be specified also\n",
    "    print(lin_reg_features_df.sort_values(0, ascending=False))"
   ]
  },
  {
   "cell_type": "code",
   "execution_count": 23,
   "id": "fec61541-83d5-4b23-b80f-e2c167b15ca5",
   "metadata": {},
   "outputs": [
    {
     "data": {
      "text/plain": [
       "567329.5028316149"
      ]
     },
     "execution_count": 23,
     "metadata": {},
     "output_type": "execute_result"
    }
   ],
   "source": [
    "lin_reg[1].intercept_"
   ]
  },
  {
   "cell_type": "markdown",
   "id": "9c8e17af-8398-49a2-9ec8-e2d6e8fc9d92",
   "metadata": {},
   "source": [
    "The above table show the feature name and coefficients.   \n",
    "The coefficients for numerical values can't be used by itself, as the numerical values went under standard scaler.   \n",
    "What this means is that, for the categorical features, as long as your flat ticks the box, then the model will add or deduct the value coefficient from the intercept value.   \n",
    "The numerical features, after standard scaler, will also give you a value on how much should be added or deducted from your flat values.  \n",
    "\n",
    "With this in mind, we can continue to try other models.  "
   ]
  },
  {
   "cell_type": "markdown",
   "id": "681fba41-3e6f-4e1c-ac2e-1b809faffe10",
   "metadata": {},
   "source": [
    "## Lasso Regression"
   ]
  },
  {
   "cell_type": "markdown",
   "id": "155cbeff-d0a7-4f6a-b325-d3494c962f7c",
   "metadata": {},
   "source": [
    "Lasso (least absolute shrinkage and selection operator; also Lasso or LASSO), is a regression analysis method.  \n",
    "It is also termed as L1 regularization.  \n",
    "It is able to shrink some coefficients to 0.  \n",
    "Lasso Regression is given by:  \n",
    "<img src=\"../img/lasso.png\"></img>  \n",
    "Using my own naive understanding, lasso is solving for optimal point.  \n",
    "The solution to these optimal points appear when elliptical contours touch the constraints.   \n",
    "Solutions exists at vertices, just like Linear Programming.  \n",
    "These vertices just so happens to lie on axis.  \n",
    "Which then results in at least 1 coefficent to be shrinked to 0.  \n",
    "Amazing mathematics at work!"
   ]
  },
  {
   "cell_type": "code",
   "execution_count": 24,
   "id": "87dfa3c5-304a-4896-9d68-3dca57f38e36",
   "metadata": {},
   "outputs": [],
   "source": [
    "# Build a pipeline for regression model\n",
    "# default setting did not converge\n",
    "lasso = Pipeline(\n",
    "    steps=[(\"preprocessor\", preprocessor), (\"Lasso\", Lasso(max_iter=10000))]\n",
    ")"
   ]
  },
  {
   "cell_type": "code",
   "execution_count": 25,
   "id": "94c6846c-cefd-46ff-828c-40c466f371ac",
   "metadata": {},
   "outputs": [
    {
     "data": {
      "text/html": [
       "<style>#sk-container-id-2 {color: black;background-color: white;}#sk-container-id-2 pre{padding: 0;}#sk-container-id-2 div.sk-toggleable {background-color: white;}#sk-container-id-2 label.sk-toggleable__label {cursor: pointer;display: block;width: 100%;margin-bottom: 0;padding: 0.3em;box-sizing: border-box;text-align: center;}#sk-container-id-2 label.sk-toggleable__label-arrow:before {content: \"▸\";float: left;margin-right: 0.25em;color: #696969;}#sk-container-id-2 label.sk-toggleable__label-arrow:hover:before {color: black;}#sk-container-id-2 div.sk-estimator:hover label.sk-toggleable__label-arrow:before {color: black;}#sk-container-id-2 div.sk-toggleable__content {max-height: 0;max-width: 0;overflow: hidden;text-align: left;background-color: #f0f8ff;}#sk-container-id-2 div.sk-toggleable__content pre {margin: 0.2em;color: black;border-radius: 0.25em;background-color: #f0f8ff;}#sk-container-id-2 input.sk-toggleable__control:checked~div.sk-toggleable__content {max-height: 200px;max-width: 100%;overflow: auto;}#sk-container-id-2 input.sk-toggleable__control:checked~label.sk-toggleable__label-arrow:before {content: \"▾\";}#sk-container-id-2 div.sk-estimator input.sk-toggleable__control:checked~label.sk-toggleable__label {background-color: #d4ebff;}#sk-container-id-2 div.sk-label input.sk-toggleable__control:checked~label.sk-toggleable__label {background-color: #d4ebff;}#sk-container-id-2 input.sk-hidden--visually {border: 0;clip: rect(1px 1px 1px 1px);clip: rect(1px, 1px, 1px, 1px);height: 1px;margin: -1px;overflow: hidden;padding: 0;position: absolute;width: 1px;}#sk-container-id-2 div.sk-estimator {font-family: monospace;background-color: #f0f8ff;border: 1px dotted black;border-radius: 0.25em;box-sizing: border-box;margin-bottom: 0.5em;}#sk-container-id-2 div.sk-estimator:hover {background-color: #d4ebff;}#sk-container-id-2 div.sk-parallel-item::after {content: \"\";width: 100%;border-bottom: 1px solid gray;flex-grow: 1;}#sk-container-id-2 div.sk-label:hover label.sk-toggleable__label {background-color: #d4ebff;}#sk-container-id-2 div.sk-serial::before {content: \"\";position: absolute;border-left: 1px solid gray;box-sizing: border-box;top: 0;bottom: 0;left: 50%;z-index: 0;}#sk-container-id-2 div.sk-serial {display: flex;flex-direction: column;align-items: center;background-color: white;padding-right: 0.2em;padding-left: 0.2em;position: relative;}#sk-container-id-2 div.sk-item {position: relative;z-index: 1;}#sk-container-id-2 div.sk-parallel {display: flex;align-items: stretch;justify-content: center;background-color: white;position: relative;}#sk-container-id-2 div.sk-item::before, #sk-container-id-2 div.sk-parallel-item::before {content: \"\";position: absolute;border-left: 1px solid gray;box-sizing: border-box;top: 0;bottom: 0;left: 50%;z-index: -1;}#sk-container-id-2 div.sk-parallel-item {display: flex;flex-direction: column;z-index: 1;position: relative;background-color: white;}#sk-container-id-2 div.sk-parallel-item:first-child::after {align-self: flex-end;width: 50%;}#sk-container-id-2 div.sk-parallel-item:last-child::after {align-self: flex-start;width: 50%;}#sk-container-id-2 div.sk-parallel-item:only-child::after {width: 0;}#sk-container-id-2 div.sk-dashed-wrapped {border: 1px dashed gray;margin: 0 0.4em 0.5em 0.4em;box-sizing: border-box;padding-bottom: 0.4em;background-color: white;}#sk-container-id-2 div.sk-label label {font-family: monospace;font-weight: bold;display: inline-block;line-height: 1.2em;}#sk-container-id-2 div.sk-label-container {text-align: center;}#sk-container-id-2 div.sk-container {/* jupyter's `normalize.less` sets `[hidden] { display: none; }` but bootstrap.min.css set `[hidden] { display: none !important; }` so we also need the `!important` here to be able to override the default hidden behavior on the sphinx rendered scikit-learn.org. See: https://github.com/scikit-learn/scikit-learn/issues/21755 */display: inline-block !important;position: relative;}#sk-container-id-2 div.sk-text-repr-fallback {display: none;}</style><div id=\"sk-container-id-2\" class=\"sk-top-container\"><div class=\"sk-text-repr-fallback\"><pre>Pipeline(steps=[(&#x27;preprocessor&#x27;,\n",
       "                 ColumnTransformer(transformers=[(&#x27;num&#x27;,\n",
       "                                                  Pipeline(steps=[(&#x27;simple &#x27;\n",
       "                                                                   &#x27;impute&#x27;,\n",
       "                                                                   SimpleImputer()),\n",
       "                                                                  (&#x27;scaler&#x27;,\n",
       "                                                                   StandardScaler())]),\n",
       "                                                  [&#x27;floor_area_sqm&#x27;, &#x27;mid&#x27;,\n",
       "                                                   &#x27;hdb_age&#x27;, &#x27;max_floor_lvl&#x27;,\n",
       "                                                   &#x27;Mall_Nearest_Distance&#x27;,\n",
       "                                                   &#x27;Hawker_Nearest_Distance&#x27;,\n",
       "                                                   &#x27;mrt_nearest_distance&#x27;,\n",
       "                                                   &#x27;cutoff_point&#x27;]),\n",
       "                                                 (&#x27;cat&#x27;,\n",
       "                                                  Pipeline(steps=[(&#x27;encoder&#x27;,\n",
       "                                                                   OneHotEncoder(drop=&#x27;first&#x27;,\n",
       "                                                                                 handle_unknown=&#x27;ignore&#x27;))]),\n",
       "                                                  [&#x27;flat_type&#x27;, &#x27;flat_model&#x27;,\n",
       "                                                   &#x27;Tranc_Year&#x27;,\n",
       "                                                   &#x27;planning_area&#x27;,\n",
       "                                                   &#x27;bus_interchange&#x27;,\n",
       "                                                   &#x27;mrt_interchange&#x27;])])),\n",
       "                (&#x27;Lasso&#x27;, Lasso(max_iter=10000))])</pre><b>In a Jupyter environment, please rerun this cell to show the HTML representation or trust the notebook. <br />On GitHub, the HTML representation is unable to render, please try loading this page with nbviewer.org.</b></div><div class=\"sk-container\" hidden><div class=\"sk-item sk-dashed-wrapped\"><div class=\"sk-label-container\"><div class=\"sk-label sk-toggleable\"><input class=\"sk-toggleable__control sk-hidden--visually\" id=\"sk-estimator-id-9\" type=\"checkbox\" ><label for=\"sk-estimator-id-9\" class=\"sk-toggleable__label sk-toggleable__label-arrow\">Pipeline</label><div class=\"sk-toggleable__content\"><pre>Pipeline(steps=[(&#x27;preprocessor&#x27;,\n",
       "                 ColumnTransformer(transformers=[(&#x27;num&#x27;,\n",
       "                                                  Pipeline(steps=[(&#x27;simple &#x27;\n",
       "                                                                   &#x27;impute&#x27;,\n",
       "                                                                   SimpleImputer()),\n",
       "                                                                  (&#x27;scaler&#x27;,\n",
       "                                                                   StandardScaler())]),\n",
       "                                                  [&#x27;floor_area_sqm&#x27;, &#x27;mid&#x27;,\n",
       "                                                   &#x27;hdb_age&#x27;, &#x27;max_floor_lvl&#x27;,\n",
       "                                                   &#x27;Mall_Nearest_Distance&#x27;,\n",
       "                                                   &#x27;Hawker_Nearest_Distance&#x27;,\n",
       "                                                   &#x27;mrt_nearest_distance&#x27;,\n",
       "                                                   &#x27;cutoff_point&#x27;]),\n",
       "                                                 (&#x27;cat&#x27;,\n",
       "                                                  Pipeline(steps=[(&#x27;encoder&#x27;,\n",
       "                                                                   OneHotEncoder(drop=&#x27;first&#x27;,\n",
       "                                                                                 handle_unknown=&#x27;ignore&#x27;))]),\n",
       "                                                  [&#x27;flat_type&#x27;, &#x27;flat_model&#x27;,\n",
       "                                                   &#x27;Tranc_Year&#x27;,\n",
       "                                                   &#x27;planning_area&#x27;,\n",
       "                                                   &#x27;bus_interchange&#x27;,\n",
       "                                                   &#x27;mrt_interchange&#x27;])])),\n",
       "                (&#x27;Lasso&#x27;, Lasso(max_iter=10000))])</pre></div></div></div><div class=\"sk-serial\"><div class=\"sk-item sk-dashed-wrapped\"><div class=\"sk-label-container\"><div class=\"sk-label sk-toggleable\"><input class=\"sk-toggleable__control sk-hidden--visually\" id=\"sk-estimator-id-10\" type=\"checkbox\" ><label for=\"sk-estimator-id-10\" class=\"sk-toggleable__label sk-toggleable__label-arrow\">preprocessor: ColumnTransformer</label><div class=\"sk-toggleable__content\"><pre>ColumnTransformer(transformers=[(&#x27;num&#x27;,\n",
       "                                 Pipeline(steps=[(&#x27;simple impute&#x27;,\n",
       "                                                  SimpleImputer()),\n",
       "                                                 (&#x27;scaler&#x27;, StandardScaler())]),\n",
       "                                 [&#x27;floor_area_sqm&#x27;, &#x27;mid&#x27;, &#x27;hdb_age&#x27;,\n",
       "                                  &#x27;max_floor_lvl&#x27;, &#x27;Mall_Nearest_Distance&#x27;,\n",
       "                                  &#x27;Hawker_Nearest_Distance&#x27;,\n",
       "                                  &#x27;mrt_nearest_distance&#x27;, &#x27;cutoff_point&#x27;]),\n",
       "                                (&#x27;cat&#x27;,\n",
       "                                 Pipeline(steps=[(&#x27;encoder&#x27;,\n",
       "                                                  OneHotEncoder(drop=&#x27;first&#x27;,\n",
       "                                                                handle_unknown=&#x27;ignore&#x27;))]),\n",
       "                                 [&#x27;flat_type&#x27;, &#x27;flat_model&#x27;, &#x27;Tranc_Year&#x27;,\n",
       "                                  &#x27;planning_area&#x27;, &#x27;bus_interchange&#x27;,\n",
       "                                  &#x27;mrt_interchange&#x27;])])</pre></div></div></div><div class=\"sk-parallel\"><div class=\"sk-parallel-item\"><div class=\"sk-item\"><div class=\"sk-label-container\"><div class=\"sk-label sk-toggleable\"><input class=\"sk-toggleable__control sk-hidden--visually\" id=\"sk-estimator-id-11\" type=\"checkbox\" ><label for=\"sk-estimator-id-11\" class=\"sk-toggleable__label sk-toggleable__label-arrow\">num</label><div class=\"sk-toggleable__content\"><pre>[&#x27;floor_area_sqm&#x27;, &#x27;mid&#x27;, &#x27;hdb_age&#x27;, &#x27;max_floor_lvl&#x27;, &#x27;Mall_Nearest_Distance&#x27;, &#x27;Hawker_Nearest_Distance&#x27;, &#x27;mrt_nearest_distance&#x27;, &#x27;cutoff_point&#x27;]</pre></div></div></div><div class=\"sk-serial\"><div class=\"sk-item\"><div class=\"sk-serial\"><div class=\"sk-item\"><div class=\"sk-estimator sk-toggleable\"><input class=\"sk-toggleable__control sk-hidden--visually\" id=\"sk-estimator-id-12\" type=\"checkbox\" ><label for=\"sk-estimator-id-12\" class=\"sk-toggleable__label sk-toggleable__label-arrow\">SimpleImputer</label><div class=\"sk-toggleable__content\"><pre>SimpleImputer()</pre></div></div></div><div class=\"sk-item\"><div class=\"sk-estimator sk-toggleable\"><input class=\"sk-toggleable__control sk-hidden--visually\" id=\"sk-estimator-id-13\" type=\"checkbox\" ><label for=\"sk-estimator-id-13\" class=\"sk-toggleable__label sk-toggleable__label-arrow\">StandardScaler</label><div class=\"sk-toggleable__content\"><pre>StandardScaler()</pre></div></div></div></div></div></div></div></div><div class=\"sk-parallel-item\"><div class=\"sk-item\"><div class=\"sk-label-container\"><div class=\"sk-label sk-toggleable\"><input class=\"sk-toggleable__control sk-hidden--visually\" id=\"sk-estimator-id-14\" type=\"checkbox\" ><label for=\"sk-estimator-id-14\" class=\"sk-toggleable__label sk-toggleable__label-arrow\">cat</label><div class=\"sk-toggleable__content\"><pre>[&#x27;flat_type&#x27;, &#x27;flat_model&#x27;, &#x27;Tranc_Year&#x27;, &#x27;planning_area&#x27;, &#x27;bus_interchange&#x27;, &#x27;mrt_interchange&#x27;]</pre></div></div></div><div class=\"sk-serial\"><div class=\"sk-item\"><div class=\"sk-serial\"><div class=\"sk-item\"><div class=\"sk-estimator sk-toggleable\"><input class=\"sk-toggleable__control sk-hidden--visually\" id=\"sk-estimator-id-15\" type=\"checkbox\" ><label for=\"sk-estimator-id-15\" class=\"sk-toggleable__label sk-toggleable__label-arrow\">OneHotEncoder</label><div class=\"sk-toggleable__content\"><pre>OneHotEncoder(drop=&#x27;first&#x27;, handle_unknown=&#x27;ignore&#x27;)</pre></div></div></div></div></div></div></div></div></div></div><div class=\"sk-item\"><div class=\"sk-estimator sk-toggleable\"><input class=\"sk-toggleable__control sk-hidden--visually\" id=\"sk-estimator-id-16\" type=\"checkbox\" ><label for=\"sk-estimator-id-16\" class=\"sk-toggleable__label sk-toggleable__label-arrow\">Lasso</label><div class=\"sk-toggleable__content\"><pre>Lasso(max_iter=10000)</pre></div></div></div></div></div></div></div>"
      ],
      "text/plain": [
       "Pipeline(steps=[('preprocessor',\n",
       "                 ColumnTransformer(transformers=[('num',\n",
       "                                                  Pipeline(steps=[('simple '\n",
       "                                                                   'impute',\n",
       "                                                                   SimpleImputer()),\n",
       "                                                                  ('scaler',\n",
       "                                                                   StandardScaler())]),\n",
       "                                                  ['floor_area_sqm', 'mid',\n",
       "                                                   'hdb_age', 'max_floor_lvl',\n",
       "                                                   'Mall_Nearest_Distance',\n",
       "                                                   'Hawker_Nearest_Distance',\n",
       "                                                   'mrt_nearest_distance',\n",
       "                                                   'cutoff_point']),\n",
       "                                                 ('cat',\n",
       "                                                  Pipeline(steps=[('encoder',\n",
       "                                                                   OneHotEncoder(drop='first',\n",
       "                                                                                 handle_unknown='ignore'))]),\n",
       "                                                  ['flat_type', 'flat_model',\n",
       "                                                   'Tranc_Year',\n",
       "                                                   'planning_area',\n",
       "                                                   'bus_interchange',\n",
       "                                                   'mrt_interchange'])])),\n",
       "                ('Lasso', Lasso(max_iter=10000))])"
      ]
     },
     "execution_count": 25,
     "metadata": {},
     "output_type": "execute_result"
    }
   ],
   "source": [
    "lasso.fit(X_train, y_train)"
   ]
  },
  {
   "cell_type": "raw",
   "id": "5221342e-7d98-4315-9833-e2a96e53b433",
   "metadata": {},
   "source": [
    "Okay, this did not converge on the first try.  \n",
    "I checked the documentation, it says `max_iterint, default=1000`.   \n",
    "Hmmm, maybe this is the problem.  \n",
    "Let me increase it!   \n",
    "And then my laptop fans started spinning so fast that my computer is ready for take off like an airplane!  \n",
    "It better give me good results!  "
   ]
  },
  {
   "cell_type": "code",
   "execution_count": 26,
   "id": "e3952282-cc02-4719-9422-f80024b5bcad",
   "metadata": {},
   "outputs": [
    {
     "name": "stdout",
     "output_type": "stream",
     "text": [
      "The train score is: 0.891912\n",
      "The test score is: 0.891241\n"
     ]
    }
   ],
   "source": [
    "print(f\"The train score is: {round(lasso.score(X_train, y_train), 6)}\")\n",
    "print(f\"The test score is: {round(lasso.score(X_test, y_test), 6)}\")"
   ]
  },
  {
   "cell_type": "markdown",
   "id": "38a7e137-af87-4f5d-97a6-9e25be106264",
   "metadata": {},
   "source": [
    "Hmmmm, this is very close match!  \n",
    "Take a look at cross validation?  "
   ]
  },
  {
   "cell_type": "code",
   "execution_count": 27,
   "id": "b26bdc75-0a4f-413c-a0b9-2bde18a46580",
   "metadata": {},
   "outputs": [],
   "source": [
    "lasso_CV = Pipeline(\n",
    "    steps=[(\"preprocessor\", preprocessor), (\"Lasso CV\", LassoCV(max_iter=10000, cv=5))]\n",
    ")"
   ]
  },
  {
   "cell_type": "code",
   "execution_count": 28,
   "id": "49afe901-8033-424a-98a2-bf34b4df0d12",
   "metadata": {},
   "outputs": [
    {
     "data": {
      "text/html": [
       "<style>#sk-container-id-3 {color: black;background-color: white;}#sk-container-id-3 pre{padding: 0;}#sk-container-id-3 div.sk-toggleable {background-color: white;}#sk-container-id-3 label.sk-toggleable__label {cursor: pointer;display: block;width: 100%;margin-bottom: 0;padding: 0.3em;box-sizing: border-box;text-align: center;}#sk-container-id-3 label.sk-toggleable__label-arrow:before {content: \"▸\";float: left;margin-right: 0.25em;color: #696969;}#sk-container-id-3 label.sk-toggleable__label-arrow:hover:before {color: black;}#sk-container-id-3 div.sk-estimator:hover label.sk-toggleable__label-arrow:before {color: black;}#sk-container-id-3 div.sk-toggleable__content {max-height: 0;max-width: 0;overflow: hidden;text-align: left;background-color: #f0f8ff;}#sk-container-id-3 div.sk-toggleable__content pre {margin: 0.2em;color: black;border-radius: 0.25em;background-color: #f0f8ff;}#sk-container-id-3 input.sk-toggleable__control:checked~div.sk-toggleable__content {max-height: 200px;max-width: 100%;overflow: auto;}#sk-container-id-3 input.sk-toggleable__control:checked~label.sk-toggleable__label-arrow:before {content: \"▾\";}#sk-container-id-3 div.sk-estimator input.sk-toggleable__control:checked~label.sk-toggleable__label {background-color: #d4ebff;}#sk-container-id-3 div.sk-label input.sk-toggleable__control:checked~label.sk-toggleable__label {background-color: #d4ebff;}#sk-container-id-3 input.sk-hidden--visually {border: 0;clip: rect(1px 1px 1px 1px);clip: rect(1px, 1px, 1px, 1px);height: 1px;margin: -1px;overflow: hidden;padding: 0;position: absolute;width: 1px;}#sk-container-id-3 div.sk-estimator {font-family: monospace;background-color: #f0f8ff;border: 1px dotted black;border-radius: 0.25em;box-sizing: border-box;margin-bottom: 0.5em;}#sk-container-id-3 div.sk-estimator:hover {background-color: #d4ebff;}#sk-container-id-3 div.sk-parallel-item::after {content: \"\";width: 100%;border-bottom: 1px solid gray;flex-grow: 1;}#sk-container-id-3 div.sk-label:hover label.sk-toggleable__label {background-color: #d4ebff;}#sk-container-id-3 div.sk-serial::before {content: \"\";position: absolute;border-left: 1px solid gray;box-sizing: border-box;top: 0;bottom: 0;left: 50%;z-index: 0;}#sk-container-id-3 div.sk-serial {display: flex;flex-direction: column;align-items: center;background-color: white;padding-right: 0.2em;padding-left: 0.2em;position: relative;}#sk-container-id-3 div.sk-item {position: relative;z-index: 1;}#sk-container-id-3 div.sk-parallel {display: flex;align-items: stretch;justify-content: center;background-color: white;position: relative;}#sk-container-id-3 div.sk-item::before, #sk-container-id-3 div.sk-parallel-item::before {content: \"\";position: absolute;border-left: 1px solid gray;box-sizing: border-box;top: 0;bottom: 0;left: 50%;z-index: -1;}#sk-container-id-3 div.sk-parallel-item {display: flex;flex-direction: column;z-index: 1;position: relative;background-color: white;}#sk-container-id-3 div.sk-parallel-item:first-child::after {align-self: flex-end;width: 50%;}#sk-container-id-3 div.sk-parallel-item:last-child::after {align-self: flex-start;width: 50%;}#sk-container-id-3 div.sk-parallel-item:only-child::after {width: 0;}#sk-container-id-3 div.sk-dashed-wrapped {border: 1px dashed gray;margin: 0 0.4em 0.5em 0.4em;box-sizing: border-box;padding-bottom: 0.4em;background-color: white;}#sk-container-id-3 div.sk-label label {font-family: monospace;font-weight: bold;display: inline-block;line-height: 1.2em;}#sk-container-id-3 div.sk-label-container {text-align: center;}#sk-container-id-3 div.sk-container {/* jupyter's `normalize.less` sets `[hidden] { display: none; }` but bootstrap.min.css set `[hidden] { display: none !important; }` so we also need the `!important` here to be able to override the default hidden behavior on the sphinx rendered scikit-learn.org. See: https://github.com/scikit-learn/scikit-learn/issues/21755 */display: inline-block !important;position: relative;}#sk-container-id-3 div.sk-text-repr-fallback {display: none;}</style><div id=\"sk-container-id-3\" class=\"sk-top-container\"><div class=\"sk-text-repr-fallback\"><pre>Pipeline(steps=[(&#x27;preprocessor&#x27;,\n",
       "                 ColumnTransformer(transformers=[(&#x27;num&#x27;,\n",
       "                                                  Pipeline(steps=[(&#x27;simple &#x27;\n",
       "                                                                   &#x27;impute&#x27;,\n",
       "                                                                   SimpleImputer()),\n",
       "                                                                  (&#x27;scaler&#x27;,\n",
       "                                                                   StandardScaler())]),\n",
       "                                                  [&#x27;floor_area_sqm&#x27;, &#x27;mid&#x27;,\n",
       "                                                   &#x27;hdb_age&#x27;, &#x27;max_floor_lvl&#x27;,\n",
       "                                                   &#x27;Mall_Nearest_Distance&#x27;,\n",
       "                                                   &#x27;Hawker_Nearest_Distance&#x27;,\n",
       "                                                   &#x27;mrt_nearest_distance&#x27;,\n",
       "                                                   &#x27;cutoff_point&#x27;]),\n",
       "                                                 (&#x27;cat&#x27;,\n",
       "                                                  Pipeline(steps=[(&#x27;encoder&#x27;,\n",
       "                                                                   OneHotEncoder(drop=&#x27;first&#x27;,\n",
       "                                                                                 handle_unknown=&#x27;ignore&#x27;))]),\n",
       "                                                  [&#x27;flat_type&#x27;, &#x27;flat_model&#x27;,\n",
       "                                                   &#x27;Tranc_Year&#x27;,\n",
       "                                                   &#x27;planning_area&#x27;,\n",
       "                                                   &#x27;bus_interchange&#x27;,\n",
       "                                                   &#x27;mrt_interchange&#x27;])])),\n",
       "                (&#x27;Lasso CV&#x27;, LassoCV(cv=5, max_iter=10000))])</pre><b>In a Jupyter environment, please rerun this cell to show the HTML representation or trust the notebook. <br />On GitHub, the HTML representation is unable to render, please try loading this page with nbviewer.org.</b></div><div class=\"sk-container\" hidden><div class=\"sk-item sk-dashed-wrapped\"><div class=\"sk-label-container\"><div class=\"sk-label sk-toggleable\"><input class=\"sk-toggleable__control sk-hidden--visually\" id=\"sk-estimator-id-17\" type=\"checkbox\" ><label for=\"sk-estimator-id-17\" class=\"sk-toggleable__label sk-toggleable__label-arrow\">Pipeline</label><div class=\"sk-toggleable__content\"><pre>Pipeline(steps=[(&#x27;preprocessor&#x27;,\n",
       "                 ColumnTransformer(transformers=[(&#x27;num&#x27;,\n",
       "                                                  Pipeline(steps=[(&#x27;simple &#x27;\n",
       "                                                                   &#x27;impute&#x27;,\n",
       "                                                                   SimpleImputer()),\n",
       "                                                                  (&#x27;scaler&#x27;,\n",
       "                                                                   StandardScaler())]),\n",
       "                                                  [&#x27;floor_area_sqm&#x27;, &#x27;mid&#x27;,\n",
       "                                                   &#x27;hdb_age&#x27;, &#x27;max_floor_lvl&#x27;,\n",
       "                                                   &#x27;Mall_Nearest_Distance&#x27;,\n",
       "                                                   &#x27;Hawker_Nearest_Distance&#x27;,\n",
       "                                                   &#x27;mrt_nearest_distance&#x27;,\n",
       "                                                   &#x27;cutoff_point&#x27;]),\n",
       "                                                 (&#x27;cat&#x27;,\n",
       "                                                  Pipeline(steps=[(&#x27;encoder&#x27;,\n",
       "                                                                   OneHotEncoder(drop=&#x27;first&#x27;,\n",
       "                                                                                 handle_unknown=&#x27;ignore&#x27;))]),\n",
       "                                                  [&#x27;flat_type&#x27;, &#x27;flat_model&#x27;,\n",
       "                                                   &#x27;Tranc_Year&#x27;,\n",
       "                                                   &#x27;planning_area&#x27;,\n",
       "                                                   &#x27;bus_interchange&#x27;,\n",
       "                                                   &#x27;mrt_interchange&#x27;])])),\n",
       "                (&#x27;Lasso CV&#x27;, LassoCV(cv=5, max_iter=10000))])</pre></div></div></div><div class=\"sk-serial\"><div class=\"sk-item sk-dashed-wrapped\"><div class=\"sk-label-container\"><div class=\"sk-label sk-toggleable\"><input class=\"sk-toggleable__control sk-hidden--visually\" id=\"sk-estimator-id-18\" type=\"checkbox\" ><label for=\"sk-estimator-id-18\" class=\"sk-toggleable__label sk-toggleable__label-arrow\">preprocessor: ColumnTransformer</label><div class=\"sk-toggleable__content\"><pre>ColumnTransformer(transformers=[(&#x27;num&#x27;,\n",
       "                                 Pipeline(steps=[(&#x27;simple impute&#x27;,\n",
       "                                                  SimpleImputer()),\n",
       "                                                 (&#x27;scaler&#x27;, StandardScaler())]),\n",
       "                                 [&#x27;floor_area_sqm&#x27;, &#x27;mid&#x27;, &#x27;hdb_age&#x27;,\n",
       "                                  &#x27;max_floor_lvl&#x27;, &#x27;Mall_Nearest_Distance&#x27;,\n",
       "                                  &#x27;Hawker_Nearest_Distance&#x27;,\n",
       "                                  &#x27;mrt_nearest_distance&#x27;, &#x27;cutoff_point&#x27;]),\n",
       "                                (&#x27;cat&#x27;,\n",
       "                                 Pipeline(steps=[(&#x27;encoder&#x27;,\n",
       "                                                  OneHotEncoder(drop=&#x27;first&#x27;,\n",
       "                                                                handle_unknown=&#x27;ignore&#x27;))]),\n",
       "                                 [&#x27;flat_type&#x27;, &#x27;flat_model&#x27;, &#x27;Tranc_Year&#x27;,\n",
       "                                  &#x27;planning_area&#x27;, &#x27;bus_interchange&#x27;,\n",
       "                                  &#x27;mrt_interchange&#x27;])])</pre></div></div></div><div class=\"sk-parallel\"><div class=\"sk-parallel-item\"><div class=\"sk-item\"><div class=\"sk-label-container\"><div class=\"sk-label sk-toggleable\"><input class=\"sk-toggleable__control sk-hidden--visually\" id=\"sk-estimator-id-19\" type=\"checkbox\" ><label for=\"sk-estimator-id-19\" class=\"sk-toggleable__label sk-toggleable__label-arrow\">num</label><div class=\"sk-toggleable__content\"><pre>[&#x27;floor_area_sqm&#x27;, &#x27;mid&#x27;, &#x27;hdb_age&#x27;, &#x27;max_floor_lvl&#x27;, &#x27;Mall_Nearest_Distance&#x27;, &#x27;Hawker_Nearest_Distance&#x27;, &#x27;mrt_nearest_distance&#x27;, &#x27;cutoff_point&#x27;]</pre></div></div></div><div class=\"sk-serial\"><div class=\"sk-item\"><div class=\"sk-serial\"><div class=\"sk-item\"><div class=\"sk-estimator sk-toggleable\"><input class=\"sk-toggleable__control sk-hidden--visually\" id=\"sk-estimator-id-20\" type=\"checkbox\" ><label for=\"sk-estimator-id-20\" class=\"sk-toggleable__label sk-toggleable__label-arrow\">SimpleImputer</label><div class=\"sk-toggleable__content\"><pre>SimpleImputer()</pre></div></div></div><div class=\"sk-item\"><div class=\"sk-estimator sk-toggleable\"><input class=\"sk-toggleable__control sk-hidden--visually\" id=\"sk-estimator-id-21\" type=\"checkbox\" ><label for=\"sk-estimator-id-21\" class=\"sk-toggleable__label sk-toggleable__label-arrow\">StandardScaler</label><div class=\"sk-toggleable__content\"><pre>StandardScaler()</pre></div></div></div></div></div></div></div></div><div class=\"sk-parallel-item\"><div class=\"sk-item\"><div class=\"sk-label-container\"><div class=\"sk-label sk-toggleable\"><input class=\"sk-toggleable__control sk-hidden--visually\" id=\"sk-estimator-id-22\" type=\"checkbox\" ><label for=\"sk-estimator-id-22\" class=\"sk-toggleable__label sk-toggleable__label-arrow\">cat</label><div class=\"sk-toggleable__content\"><pre>[&#x27;flat_type&#x27;, &#x27;flat_model&#x27;, &#x27;Tranc_Year&#x27;, &#x27;planning_area&#x27;, &#x27;bus_interchange&#x27;, &#x27;mrt_interchange&#x27;]</pre></div></div></div><div class=\"sk-serial\"><div class=\"sk-item\"><div class=\"sk-serial\"><div class=\"sk-item\"><div class=\"sk-estimator sk-toggleable\"><input class=\"sk-toggleable__control sk-hidden--visually\" id=\"sk-estimator-id-23\" type=\"checkbox\" ><label for=\"sk-estimator-id-23\" class=\"sk-toggleable__label sk-toggleable__label-arrow\">OneHotEncoder</label><div class=\"sk-toggleable__content\"><pre>OneHotEncoder(drop=&#x27;first&#x27;, handle_unknown=&#x27;ignore&#x27;)</pre></div></div></div></div></div></div></div></div></div></div><div class=\"sk-item\"><div class=\"sk-estimator sk-toggleable\"><input class=\"sk-toggleable__control sk-hidden--visually\" id=\"sk-estimator-id-24\" type=\"checkbox\" ><label for=\"sk-estimator-id-24\" class=\"sk-toggleable__label sk-toggleable__label-arrow\">LassoCV</label><div class=\"sk-toggleable__content\"><pre>LassoCV(cv=5, max_iter=10000)</pre></div></div></div></div></div></div></div>"
      ],
      "text/plain": [
       "Pipeline(steps=[('preprocessor',\n",
       "                 ColumnTransformer(transformers=[('num',\n",
       "                                                  Pipeline(steps=[('simple '\n",
       "                                                                   'impute',\n",
       "                                                                   SimpleImputer()),\n",
       "                                                                  ('scaler',\n",
       "                                                                   StandardScaler())]),\n",
       "                                                  ['floor_area_sqm', 'mid',\n",
       "                                                   'hdb_age', 'max_floor_lvl',\n",
       "                                                   'Mall_Nearest_Distance',\n",
       "                                                   'Hawker_Nearest_Distance',\n",
       "                                                   'mrt_nearest_distance',\n",
       "                                                   'cutoff_point']),\n",
       "                                                 ('cat',\n",
       "                                                  Pipeline(steps=[('encoder',\n",
       "                                                                   OneHotEncoder(drop='first',\n",
       "                                                                                 handle_unknown='ignore'))]),\n",
       "                                                  ['flat_type', 'flat_model',\n",
       "                                                   'Tranc_Year',\n",
       "                                                   'planning_area',\n",
       "                                                   'bus_interchange',\n",
       "                                                   'mrt_interchange'])])),\n",
       "                ('Lasso CV', LassoCV(cv=5, max_iter=10000))])"
      ]
     },
     "execution_count": 28,
     "metadata": {},
     "output_type": "execute_result"
    }
   ],
   "source": [
    "lasso_CV.fit(X_train, y_train)"
   ]
  },
  {
   "cell_type": "code",
   "execution_count": 29,
   "id": "eac8220e-a1db-44d2-8b46-43f169984cfc",
   "metadata": {},
   "outputs": [
    {
     "name": "stdout",
     "output_type": "stream",
     "text": [
      "The train score is: 0.886419\n",
      "The test score is: 0.886501\n"
     ]
    }
   ],
   "source": [
    "print(f\"The train score is: {round(lasso_CV.score(X_train, y_train), 6)}\")\n",
    "print(f\"The test score is: {round(lasso_CV.score(X_test, y_test), 6)}\")"
   ]
  },
  {
   "cell_type": "markdown",
   "id": "c1b08780-adc4-47e5-910d-a09a8b26b134",
   "metadata": {},
   "source": [
    "This is in fact lower than simply fitting using `.Lasso()`.  \n",
    "Hmmm....   \n",
    "This maybe becasue the model is in fact trained with smaller training data size?  \n",
    "Anyways, continue to play with different alpha values."
   ]
  },
  {
   "cell_type": "code",
   "execution_count": 30,
   "id": "903951b6-b3da-44c5-ac25-790f99b2eb3f",
   "metadata": {},
   "outputs": [],
   "source": [
    "# Specify range of hyperparameters to tune\n",
    "lasso_params = {'alpha':[1, 10, 100, 1000]}"
   ]
  },
  {
   "cell_type": "code",
   "execution_count": 31,
   "id": "e205a5b8-9d09-4576-a633-69a0ebc7be56",
   "metadata": {},
   "outputs": [],
   "source": [
    "# Perform grid search using GridSearchCV()\n",
    "grid_search = GridSearchCV(Lasso(max_iter=20000),\n",
    "                           param_grid=lasso_params,\n",
    "                           cv=5,\n",
    "                           verbose = 3,\n",
    "                           return_train_score=True\n",
    "                           )\n",
    "\n",
    "lasso_grid_search_CV = Pipeline(\n",
    "    steps=[(\"preprocessor\", preprocessor), (\"Lasso Grid Search\", grid_search)]\n",
    ") "
   ]
  },
  {
   "cell_type": "markdown",
   "id": "66d9d2c0-2784-4eec-85d3-afec6699007e",
   "metadata": {},
   "source": [
    "Warning, you may not want to run the line below..."
   ]
  },
  {
   "cell_type": "code",
   "execution_count": 32,
   "id": "8f60014d-3e17-4aaa-b892-c6fd4db50501",
   "metadata": {},
   "outputs": [
    {
     "name": "stdout",
     "output_type": "stream",
     "text": [
      "Fitting 5 folds for each of 4 candidates, totalling 20 fits\n",
      "[CV 1/5] END .......alpha=1;, score=(train=0.892, test=0.893) total time= 1.9min\n",
      "[CV 2/5] END .......alpha=1;, score=(train=0.892, test=0.891) total time= 2.3min\n",
      "[CV 3/5] END .......alpha=1;, score=(train=0.892, test=0.892) total time= 2.6min\n",
      "[CV 4/5] END .......alpha=1;, score=(train=0.892, test=0.892) total time= 2.2min\n",
      "[CV 5/5] END .......alpha=1;, score=(train=0.892, test=0.890) total time= 1.5min\n",
      "[CV 1/5] END ......alpha=10;, score=(train=0.891, test=0.893) total time=  22.3s\n",
      "[CV 2/5] END ......alpha=10;, score=(train=0.892, test=0.891) total time=  45.7s\n",
      "[CV 3/5] END ......alpha=10;, score=(train=0.892, test=0.891) total time=   9.9s\n",
      "[CV 4/5] END ......alpha=10;, score=(train=0.892, test=0.892) total time=  40.2s\n",
      "[CV 5/5] END ......alpha=10;, score=(train=0.892, test=0.890) total time=  10.3s\n",
      "[CV 1/5] END .....alpha=100;, score=(train=0.886, test=0.888) total time=   0.7s\n",
      "[CV 2/5] END .....alpha=100;, score=(train=0.886, test=0.886) total time=   1.5s\n",
      "[CV 3/5] END .....alpha=100;, score=(train=0.886, test=0.885) total time=   0.8s\n",
      "[CV 4/5] END .....alpha=100;, score=(train=0.886, test=0.885) total time=   1.4s\n",
      "[CV 5/5] END .....alpha=100;, score=(train=0.886, test=0.886) total time=   0.8s\n",
      "[CV 1/5] END ....alpha=1000;, score=(train=0.817, test=0.817) total time=   0.2s\n",
      "[CV 2/5] END ....alpha=1000;, score=(train=0.817, test=0.819) total time=   0.2s\n",
      "[CV 3/5] END ....alpha=1000;, score=(train=0.818, test=0.818) total time=   0.2s\n",
      "[CV 4/5] END ....alpha=1000;, score=(train=0.818, test=0.812) total time=   0.2s\n",
      "[CV 5/5] END ....alpha=1000;, score=(train=0.817, test=0.820) total time=   0.2s\n"
     ]
    },
    {
     "data": {
      "text/html": [
       "<style>#sk-container-id-4 {color: black;background-color: white;}#sk-container-id-4 pre{padding: 0;}#sk-container-id-4 div.sk-toggleable {background-color: white;}#sk-container-id-4 label.sk-toggleable__label {cursor: pointer;display: block;width: 100%;margin-bottom: 0;padding: 0.3em;box-sizing: border-box;text-align: center;}#sk-container-id-4 label.sk-toggleable__label-arrow:before {content: \"▸\";float: left;margin-right: 0.25em;color: #696969;}#sk-container-id-4 label.sk-toggleable__label-arrow:hover:before {color: black;}#sk-container-id-4 div.sk-estimator:hover label.sk-toggleable__label-arrow:before {color: black;}#sk-container-id-4 div.sk-toggleable__content {max-height: 0;max-width: 0;overflow: hidden;text-align: left;background-color: #f0f8ff;}#sk-container-id-4 div.sk-toggleable__content pre {margin: 0.2em;color: black;border-radius: 0.25em;background-color: #f0f8ff;}#sk-container-id-4 input.sk-toggleable__control:checked~div.sk-toggleable__content {max-height: 200px;max-width: 100%;overflow: auto;}#sk-container-id-4 input.sk-toggleable__control:checked~label.sk-toggleable__label-arrow:before {content: \"▾\";}#sk-container-id-4 div.sk-estimator input.sk-toggleable__control:checked~label.sk-toggleable__label {background-color: #d4ebff;}#sk-container-id-4 div.sk-label input.sk-toggleable__control:checked~label.sk-toggleable__label {background-color: #d4ebff;}#sk-container-id-4 input.sk-hidden--visually {border: 0;clip: rect(1px 1px 1px 1px);clip: rect(1px, 1px, 1px, 1px);height: 1px;margin: -1px;overflow: hidden;padding: 0;position: absolute;width: 1px;}#sk-container-id-4 div.sk-estimator {font-family: monospace;background-color: #f0f8ff;border: 1px dotted black;border-radius: 0.25em;box-sizing: border-box;margin-bottom: 0.5em;}#sk-container-id-4 div.sk-estimator:hover {background-color: #d4ebff;}#sk-container-id-4 div.sk-parallel-item::after {content: \"\";width: 100%;border-bottom: 1px solid gray;flex-grow: 1;}#sk-container-id-4 div.sk-label:hover label.sk-toggleable__label {background-color: #d4ebff;}#sk-container-id-4 div.sk-serial::before {content: \"\";position: absolute;border-left: 1px solid gray;box-sizing: border-box;top: 0;bottom: 0;left: 50%;z-index: 0;}#sk-container-id-4 div.sk-serial {display: flex;flex-direction: column;align-items: center;background-color: white;padding-right: 0.2em;padding-left: 0.2em;position: relative;}#sk-container-id-4 div.sk-item {position: relative;z-index: 1;}#sk-container-id-4 div.sk-parallel {display: flex;align-items: stretch;justify-content: center;background-color: white;position: relative;}#sk-container-id-4 div.sk-item::before, #sk-container-id-4 div.sk-parallel-item::before {content: \"\";position: absolute;border-left: 1px solid gray;box-sizing: border-box;top: 0;bottom: 0;left: 50%;z-index: -1;}#sk-container-id-4 div.sk-parallel-item {display: flex;flex-direction: column;z-index: 1;position: relative;background-color: white;}#sk-container-id-4 div.sk-parallel-item:first-child::after {align-self: flex-end;width: 50%;}#sk-container-id-4 div.sk-parallel-item:last-child::after {align-self: flex-start;width: 50%;}#sk-container-id-4 div.sk-parallel-item:only-child::after {width: 0;}#sk-container-id-4 div.sk-dashed-wrapped {border: 1px dashed gray;margin: 0 0.4em 0.5em 0.4em;box-sizing: border-box;padding-bottom: 0.4em;background-color: white;}#sk-container-id-4 div.sk-label label {font-family: monospace;font-weight: bold;display: inline-block;line-height: 1.2em;}#sk-container-id-4 div.sk-label-container {text-align: center;}#sk-container-id-4 div.sk-container {/* jupyter's `normalize.less` sets `[hidden] { display: none; }` but bootstrap.min.css set `[hidden] { display: none !important; }` so we also need the `!important` here to be able to override the default hidden behavior on the sphinx rendered scikit-learn.org. See: https://github.com/scikit-learn/scikit-learn/issues/21755 */display: inline-block !important;position: relative;}#sk-container-id-4 div.sk-text-repr-fallback {display: none;}</style><div id=\"sk-container-id-4\" class=\"sk-top-container\"><div class=\"sk-text-repr-fallback\"><pre>Pipeline(steps=[(&#x27;preprocessor&#x27;,\n",
       "                 ColumnTransformer(transformers=[(&#x27;num&#x27;,\n",
       "                                                  Pipeline(steps=[(&#x27;simple &#x27;\n",
       "                                                                   &#x27;impute&#x27;,\n",
       "                                                                   SimpleImputer()),\n",
       "                                                                  (&#x27;scaler&#x27;,\n",
       "                                                                   StandardScaler())]),\n",
       "                                                  [&#x27;floor_area_sqm&#x27;, &#x27;mid&#x27;,\n",
       "                                                   &#x27;hdb_age&#x27;, &#x27;max_floor_lvl&#x27;,\n",
       "                                                   &#x27;Mall_Nearest_Distance&#x27;,\n",
       "                                                   &#x27;Hawker_Nearest_Distance&#x27;,\n",
       "                                                   &#x27;mrt_nearest_distance&#x27;,\n",
       "                                                   &#x27;cutoff_point&#x27;]),\n",
       "                                                 (&#x27;cat&#x27;,\n",
       "                                                  Pipeline(steps=[(&#x27;encoder&#x27;,\n",
       "                                                                   OneHotEncoder(drop=&#x27;first&#x27;,\n",
       "                                                                                 handle_unknown=&#x27;ignore&#x27;))]),\n",
       "                                                  [&#x27;flat_type&#x27;, &#x27;flat_model&#x27;,\n",
       "                                                   &#x27;Tranc_Year&#x27;,\n",
       "                                                   &#x27;planning_area&#x27;,\n",
       "                                                   &#x27;bus_interchange&#x27;,\n",
       "                                                   &#x27;mrt_interchange&#x27;])])),\n",
       "                (&#x27;Lasso Grid Search&#x27;,\n",
       "                 GridSearchCV(cv=5, estimator=Lasso(max_iter=20000),\n",
       "                              param_grid={&#x27;alpha&#x27;: [1, 10, 100, 1000]},\n",
       "                              return_train_score=True, verbose=3))])</pre><b>In a Jupyter environment, please rerun this cell to show the HTML representation or trust the notebook. <br />On GitHub, the HTML representation is unable to render, please try loading this page with nbviewer.org.</b></div><div class=\"sk-container\" hidden><div class=\"sk-item sk-dashed-wrapped\"><div class=\"sk-label-container\"><div class=\"sk-label sk-toggleable\"><input class=\"sk-toggleable__control sk-hidden--visually\" id=\"sk-estimator-id-25\" type=\"checkbox\" ><label for=\"sk-estimator-id-25\" class=\"sk-toggleable__label sk-toggleable__label-arrow\">Pipeline</label><div class=\"sk-toggleable__content\"><pre>Pipeline(steps=[(&#x27;preprocessor&#x27;,\n",
       "                 ColumnTransformer(transformers=[(&#x27;num&#x27;,\n",
       "                                                  Pipeline(steps=[(&#x27;simple &#x27;\n",
       "                                                                   &#x27;impute&#x27;,\n",
       "                                                                   SimpleImputer()),\n",
       "                                                                  (&#x27;scaler&#x27;,\n",
       "                                                                   StandardScaler())]),\n",
       "                                                  [&#x27;floor_area_sqm&#x27;, &#x27;mid&#x27;,\n",
       "                                                   &#x27;hdb_age&#x27;, &#x27;max_floor_lvl&#x27;,\n",
       "                                                   &#x27;Mall_Nearest_Distance&#x27;,\n",
       "                                                   &#x27;Hawker_Nearest_Distance&#x27;,\n",
       "                                                   &#x27;mrt_nearest_distance&#x27;,\n",
       "                                                   &#x27;cutoff_point&#x27;]),\n",
       "                                                 (&#x27;cat&#x27;,\n",
       "                                                  Pipeline(steps=[(&#x27;encoder&#x27;,\n",
       "                                                                   OneHotEncoder(drop=&#x27;first&#x27;,\n",
       "                                                                                 handle_unknown=&#x27;ignore&#x27;))]),\n",
       "                                                  [&#x27;flat_type&#x27;, &#x27;flat_model&#x27;,\n",
       "                                                   &#x27;Tranc_Year&#x27;,\n",
       "                                                   &#x27;planning_area&#x27;,\n",
       "                                                   &#x27;bus_interchange&#x27;,\n",
       "                                                   &#x27;mrt_interchange&#x27;])])),\n",
       "                (&#x27;Lasso Grid Search&#x27;,\n",
       "                 GridSearchCV(cv=5, estimator=Lasso(max_iter=20000),\n",
       "                              param_grid={&#x27;alpha&#x27;: [1, 10, 100, 1000]},\n",
       "                              return_train_score=True, verbose=3))])</pre></div></div></div><div class=\"sk-serial\"><div class=\"sk-item sk-dashed-wrapped\"><div class=\"sk-label-container\"><div class=\"sk-label sk-toggleable\"><input class=\"sk-toggleable__control sk-hidden--visually\" id=\"sk-estimator-id-26\" type=\"checkbox\" ><label for=\"sk-estimator-id-26\" class=\"sk-toggleable__label sk-toggleable__label-arrow\">preprocessor: ColumnTransformer</label><div class=\"sk-toggleable__content\"><pre>ColumnTransformer(transformers=[(&#x27;num&#x27;,\n",
       "                                 Pipeline(steps=[(&#x27;simple impute&#x27;,\n",
       "                                                  SimpleImputer()),\n",
       "                                                 (&#x27;scaler&#x27;, StandardScaler())]),\n",
       "                                 [&#x27;floor_area_sqm&#x27;, &#x27;mid&#x27;, &#x27;hdb_age&#x27;,\n",
       "                                  &#x27;max_floor_lvl&#x27;, &#x27;Mall_Nearest_Distance&#x27;,\n",
       "                                  &#x27;Hawker_Nearest_Distance&#x27;,\n",
       "                                  &#x27;mrt_nearest_distance&#x27;, &#x27;cutoff_point&#x27;]),\n",
       "                                (&#x27;cat&#x27;,\n",
       "                                 Pipeline(steps=[(&#x27;encoder&#x27;,\n",
       "                                                  OneHotEncoder(drop=&#x27;first&#x27;,\n",
       "                                                                handle_unknown=&#x27;ignore&#x27;))]),\n",
       "                                 [&#x27;flat_type&#x27;, &#x27;flat_model&#x27;, &#x27;Tranc_Year&#x27;,\n",
       "                                  &#x27;planning_area&#x27;, &#x27;bus_interchange&#x27;,\n",
       "                                  &#x27;mrt_interchange&#x27;])])</pre></div></div></div><div class=\"sk-parallel\"><div class=\"sk-parallel-item\"><div class=\"sk-item\"><div class=\"sk-label-container\"><div class=\"sk-label sk-toggleable\"><input class=\"sk-toggleable__control sk-hidden--visually\" id=\"sk-estimator-id-27\" type=\"checkbox\" ><label for=\"sk-estimator-id-27\" class=\"sk-toggleable__label sk-toggleable__label-arrow\">num</label><div class=\"sk-toggleable__content\"><pre>[&#x27;floor_area_sqm&#x27;, &#x27;mid&#x27;, &#x27;hdb_age&#x27;, &#x27;max_floor_lvl&#x27;, &#x27;Mall_Nearest_Distance&#x27;, &#x27;Hawker_Nearest_Distance&#x27;, &#x27;mrt_nearest_distance&#x27;, &#x27;cutoff_point&#x27;]</pre></div></div></div><div class=\"sk-serial\"><div class=\"sk-item\"><div class=\"sk-serial\"><div class=\"sk-item\"><div class=\"sk-estimator sk-toggleable\"><input class=\"sk-toggleable__control sk-hidden--visually\" id=\"sk-estimator-id-28\" type=\"checkbox\" ><label for=\"sk-estimator-id-28\" class=\"sk-toggleable__label sk-toggleable__label-arrow\">SimpleImputer</label><div class=\"sk-toggleable__content\"><pre>SimpleImputer()</pre></div></div></div><div class=\"sk-item\"><div class=\"sk-estimator sk-toggleable\"><input class=\"sk-toggleable__control sk-hidden--visually\" id=\"sk-estimator-id-29\" type=\"checkbox\" ><label for=\"sk-estimator-id-29\" class=\"sk-toggleable__label sk-toggleable__label-arrow\">StandardScaler</label><div class=\"sk-toggleable__content\"><pre>StandardScaler()</pre></div></div></div></div></div></div></div></div><div class=\"sk-parallel-item\"><div class=\"sk-item\"><div class=\"sk-label-container\"><div class=\"sk-label sk-toggleable\"><input class=\"sk-toggleable__control sk-hidden--visually\" id=\"sk-estimator-id-30\" type=\"checkbox\" ><label for=\"sk-estimator-id-30\" class=\"sk-toggleable__label sk-toggleable__label-arrow\">cat</label><div class=\"sk-toggleable__content\"><pre>[&#x27;flat_type&#x27;, &#x27;flat_model&#x27;, &#x27;Tranc_Year&#x27;, &#x27;planning_area&#x27;, &#x27;bus_interchange&#x27;, &#x27;mrt_interchange&#x27;]</pre></div></div></div><div class=\"sk-serial\"><div class=\"sk-item\"><div class=\"sk-serial\"><div class=\"sk-item\"><div class=\"sk-estimator sk-toggleable\"><input class=\"sk-toggleable__control sk-hidden--visually\" id=\"sk-estimator-id-31\" type=\"checkbox\" ><label for=\"sk-estimator-id-31\" class=\"sk-toggleable__label sk-toggleable__label-arrow\">OneHotEncoder</label><div class=\"sk-toggleable__content\"><pre>OneHotEncoder(drop=&#x27;first&#x27;, handle_unknown=&#x27;ignore&#x27;)</pre></div></div></div></div></div></div></div></div></div></div><div class=\"sk-item sk-dashed-wrapped\"><div class=\"sk-label-container\"><div class=\"sk-label sk-toggleable\"><input class=\"sk-toggleable__control sk-hidden--visually\" id=\"sk-estimator-id-32\" type=\"checkbox\" ><label for=\"sk-estimator-id-32\" class=\"sk-toggleable__label sk-toggleable__label-arrow\">Lasso Grid Search: GridSearchCV</label><div class=\"sk-toggleable__content\"><pre>GridSearchCV(cv=5, estimator=Lasso(max_iter=20000),\n",
       "             param_grid={&#x27;alpha&#x27;: [1, 10, 100, 1000]}, return_train_score=True,\n",
       "             verbose=3)</pre></div></div></div><div class=\"sk-parallel\"><div class=\"sk-parallel-item\"><div class=\"sk-item\"><div class=\"sk-label-container\"><div class=\"sk-label sk-toggleable\"><input class=\"sk-toggleable__control sk-hidden--visually\" id=\"sk-estimator-id-33\" type=\"checkbox\" ><label for=\"sk-estimator-id-33\" class=\"sk-toggleable__label sk-toggleable__label-arrow\">estimator: Lasso</label><div class=\"sk-toggleable__content\"><pre>Lasso(max_iter=20000)</pre></div></div></div><div class=\"sk-serial\"><div class=\"sk-item\"><div class=\"sk-estimator sk-toggleable\"><input class=\"sk-toggleable__control sk-hidden--visually\" id=\"sk-estimator-id-34\" type=\"checkbox\" ><label for=\"sk-estimator-id-34\" class=\"sk-toggleable__label sk-toggleable__label-arrow\">Lasso</label><div class=\"sk-toggleable__content\"><pre>Lasso(max_iter=20000)</pre></div></div></div></div></div></div></div></div></div></div></div></div>"
      ],
      "text/plain": [
       "Pipeline(steps=[('preprocessor',\n",
       "                 ColumnTransformer(transformers=[('num',\n",
       "                                                  Pipeline(steps=[('simple '\n",
       "                                                                   'impute',\n",
       "                                                                   SimpleImputer()),\n",
       "                                                                  ('scaler',\n",
       "                                                                   StandardScaler())]),\n",
       "                                                  ['floor_area_sqm', 'mid',\n",
       "                                                   'hdb_age', 'max_floor_lvl',\n",
       "                                                   'Mall_Nearest_Distance',\n",
       "                                                   'Hawker_Nearest_Distance',\n",
       "                                                   'mrt_nearest_distance',\n",
       "                                                   'cutoff_point']),\n",
       "                                                 ('cat',\n",
       "                                                  Pipeline(steps=[('encoder',\n",
       "                                                                   OneHotEncoder(drop='first',\n",
       "                                                                                 handle_unknown='ignore'))]),\n",
       "                                                  ['flat_type', 'flat_model',\n",
       "                                                   'Tranc_Year',\n",
       "                                                   'planning_area',\n",
       "                                                   'bus_interchange',\n",
       "                                                   'mrt_interchange'])])),\n",
       "                ('Lasso Grid Search',\n",
       "                 GridSearchCV(cv=5, estimator=Lasso(max_iter=20000),\n",
       "                              param_grid={'alpha': [1, 10, 100, 1000]},\n",
       "                              return_train_score=True, verbose=3))])"
      ]
     },
     "execution_count": 32,
     "metadata": {},
     "output_type": "execute_result"
    }
   ],
   "source": [
    "lasso_grid_search_CV.fit(X_train, y_train)"
   ]
  },
  {
   "cell_type": "markdown",
   "id": "049c250e-db51-43ad-969a-aff056cbe2cc",
   "metadata": {},
   "source": [
    "How naive...   \n",
    "I started with    \n",
    "```\n",
    "'lasso_params = {'alpha':[0.01, 0.1, 1, 10, 100]}'\n",
    "```\n",
    "All alpha below 1 runs into convergence issues...  \n",
    "For `alpha = 0.01`, the scores from grid search are around `(train=0.892, test=0.891+/-0.002)`.  \n",
    "They also took a total of 2.6 minutes to run 10000 iterations and then conclude that the solution did not converge.  \n",
    "This is not acceptable, as it takes too long for a simple model.  \n",
    "So the final alphas to search are in the range of 1 to 100.\n",
    "Alpha is the constant that multiplies the L1 term, controlling regularization strength.  \n",
    "So the higher the Alpha, the more aggressive the penalization for complex model.  \n",
    "The higher the penalization, the faster the convergence, as the area bounded by the constraints are larger.  \n",
    "This is evident from the difference in total time used to compute the models."
   ]
  },
  {
   "cell_type": "code",
   "execution_count": 33,
   "id": "2bcaa065-d900-4861-bbd1-78b43fa42c72",
   "metadata": {},
   "outputs": [
    {
     "data": {
      "text/plain": [
       "0.891718599782989"
      ]
     },
     "execution_count": 33,
     "metadata": {},
     "output_type": "execute_result"
    }
   ],
   "source": [
    "lasso_grid_search_CV[1].best_score_"
   ]
  },
  {
   "cell_type": "code",
   "execution_count": 34,
   "id": "8658e193-8d7b-43ac-ac7f-c7f3efd2387f",
   "metadata": {},
   "outputs": [
    {
     "data": {
      "text/html": [
       "<div>\n",
       "<style scoped>\n",
       "    .dataframe tbody tr th:only-of-type {\n",
       "        vertical-align: middle;\n",
       "    }\n",
       "\n",
       "    .dataframe tbody tr th {\n",
       "        vertical-align: top;\n",
       "    }\n",
       "\n",
       "    .dataframe thead th {\n",
       "        text-align: right;\n",
       "    }\n",
       "</style>\n",
       "<table border=\"1\" class=\"dataframe\">\n",
       "  <thead>\n",
       "    <tr style=\"text-align: right;\">\n",
       "      <th></th>\n",
       "      <th>mean_fit_time</th>\n",
       "      <th>param_alpha</th>\n",
       "      <th>mean_test_score</th>\n",
       "      <th>mean_train_score</th>\n",
       "    </tr>\n",
       "  </thead>\n",
       "  <tbody>\n",
       "    <tr>\n",
       "      <th>0</th>\n",
       "      <td>126.809984</td>\n",
       "      <td>1</td>\n",
       "      <td>0.891719</td>\n",
       "      <td>0.891932</td>\n",
       "    </tr>\n",
       "    <tr>\n",
       "      <th>1</th>\n",
       "      <td>25.687193</td>\n",
       "      <td>10</td>\n",
       "      <td>0.891458</td>\n",
       "      <td>0.891685</td>\n",
       "    </tr>\n",
       "    <tr>\n",
       "      <th>2</th>\n",
       "      <td>1.036578</td>\n",
       "      <td>100</td>\n",
       "      <td>0.885856</td>\n",
       "      <td>0.886109</td>\n",
       "    </tr>\n",
       "    <tr>\n",
       "      <th>3</th>\n",
       "      <td>0.175098</td>\n",
       "      <td>1000</td>\n",
       "      <td>0.817216</td>\n",
       "      <td>0.817400</td>\n",
       "    </tr>\n",
       "  </tbody>\n",
       "</table>\n",
       "</div>"
      ],
      "text/plain": [
       "   mean_fit_time param_alpha  mean_test_score  mean_train_score\n",
       "0     126.809984           1         0.891719          0.891932\n",
       "1      25.687193          10         0.891458          0.891685\n",
       "2       1.036578         100         0.885856          0.886109\n",
       "3       0.175098        1000         0.817216          0.817400"
      ]
     },
     "execution_count": 34,
     "metadata": {},
     "output_type": "execute_result"
    }
   ],
   "source": [
    "# cv results\n",
    "cv_results = pd.DataFrame(lasso_grid_search_CV[1].cv_results_)\n",
    "cv_results[['mean_fit_time', 'param_alpha', 'mean_test_score', 'mean_train_score']]"
   ]
  },
  {
   "cell_type": "markdown",
   "id": "d1bd05e3-a21d-453a-8a57-f4db3664cf24",
   "metadata": {},
   "source": [
    "By looking the the results of the cross validation results, alpha = 1 gives the best result. \n",
    "The result becomes worse when alpha increases.  \n",
    "There could be a possibility that a minima exists between 0 and 1.  \n",
    "But I think the difference is minor and it doesn't warrant the time spent on searching for it.  \n",
    "There is also a possibility (very likely in fact) that if alpha = 0 is used, it will give the best result.  \n",
    "Which is simply using linear regression, like the previous section.  \n",
    "If Lasso Regression must be used, I will want to use Alpha >= 100.  \n",
    "This is becasue the model is solved much faster, with very small loss in performace.  "
   ]
  },
  {
   "cell_type": "markdown",
   "id": "0d6ac558-2d2d-4d5b-86b7-30577113d61c",
   "metadata": {},
   "source": [
    "## Ridge Regression"
   ]
  },
  {
   "cell_type": "markdown",
   "id": "21f18c79-e6f0-4a1f-b1e9-37eb613e99be",
   "metadata": {},
   "source": [
    "Ridge regression is a model tuning method that is used to analyse any data that suffers from multicollinearity.   \n",
    "This method performs L2 regularization.  \n",
    "It is UNABLE to shrink coefficients to 0.  \n",
    "Ridge Regression is given by:  \n",
    "<img src=\"../img/ridge.png\"></img>  \n",
    "Using my own naive understanding, Ridge is also solving for optimal point.  \n",
    "The solution to these optimal points appear when elliptical contours touch the constraints, like Lasso.   \n",
    "Unlike lasso, the contraint region from Ridge are cirular.   \n",
    "The coefficients will be unable to shrink to 0.  \n",
    "Amazing mathematics at work again!"
   ]
  },
  {
   "cell_type": "code",
   "execution_count": 35,
   "id": "3c7d6b7f-d31e-4e1e-99e8-0842b4266649",
   "metadata": {},
   "outputs": [],
   "source": [
    "# Build a pipeline for regression model\n",
    "# default setting did not converge\n",
    "ridge = Pipeline(\n",
    "    steps=[(\"preprocessor\", preprocessor), (\"Ridge\", Ridge())]\n",
    ")"
   ]
  },
  {
   "cell_type": "code",
   "execution_count": 36,
   "id": "8152bc4d-ca09-4e71-b49c-35837644a82a",
   "metadata": {},
   "outputs": [
    {
     "data": {
      "text/html": [
       "<style>#sk-container-id-5 {color: black;background-color: white;}#sk-container-id-5 pre{padding: 0;}#sk-container-id-5 div.sk-toggleable {background-color: white;}#sk-container-id-5 label.sk-toggleable__label {cursor: pointer;display: block;width: 100%;margin-bottom: 0;padding: 0.3em;box-sizing: border-box;text-align: center;}#sk-container-id-5 label.sk-toggleable__label-arrow:before {content: \"▸\";float: left;margin-right: 0.25em;color: #696969;}#sk-container-id-5 label.sk-toggleable__label-arrow:hover:before {color: black;}#sk-container-id-5 div.sk-estimator:hover label.sk-toggleable__label-arrow:before {color: black;}#sk-container-id-5 div.sk-toggleable__content {max-height: 0;max-width: 0;overflow: hidden;text-align: left;background-color: #f0f8ff;}#sk-container-id-5 div.sk-toggleable__content pre {margin: 0.2em;color: black;border-radius: 0.25em;background-color: #f0f8ff;}#sk-container-id-5 input.sk-toggleable__control:checked~div.sk-toggleable__content {max-height: 200px;max-width: 100%;overflow: auto;}#sk-container-id-5 input.sk-toggleable__control:checked~label.sk-toggleable__label-arrow:before {content: \"▾\";}#sk-container-id-5 div.sk-estimator input.sk-toggleable__control:checked~label.sk-toggleable__label {background-color: #d4ebff;}#sk-container-id-5 div.sk-label input.sk-toggleable__control:checked~label.sk-toggleable__label {background-color: #d4ebff;}#sk-container-id-5 input.sk-hidden--visually {border: 0;clip: rect(1px 1px 1px 1px);clip: rect(1px, 1px, 1px, 1px);height: 1px;margin: -1px;overflow: hidden;padding: 0;position: absolute;width: 1px;}#sk-container-id-5 div.sk-estimator {font-family: monospace;background-color: #f0f8ff;border: 1px dotted black;border-radius: 0.25em;box-sizing: border-box;margin-bottom: 0.5em;}#sk-container-id-5 div.sk-estimator:hover {background-color: #d4ebff;}#sk-container-id-5 div.sk-parallel-item::after {content: \"\";width: 100%;border-bottom: 1px solid gray;flex-grow: 1;}#sk-container-id-5 div.sk-label:hover label.sk-toggleable__label {background-color: #d4ebff;}#sk-container-id-5 div.sk-serial::before {content: \"\";position: absolute;border-left: 1px solid gray;box-sizing: border-box;top: 0;bottom: 0;left: 50%;z-index: 0;}#sk-container-id-5 div.sk-serial {display: flex;flex-direction: column;align-items: center;background-color: white;padding-right: 0.2em;padding-left: 0.2em;position: relative;}#sk-container-id-5 div.sk-item {position: relative;z-index: 1;}#sk-container-id-5 div.sk-parallel {display: flex;align-items: stretch;justify-content: center;background-color: white;position: relative;}#sk-container-id-5 div.sk-item::before, #sk-container-id-5 div.sk-parallel-item::before {content: \"\";position: absolute;border-left: 1px solid gray;box-sizing: border-box;top: 0;bottom: 0;left: 50%;z-index: -1;}#sk-container-id-5 div.sk-parallel-item {display: flex;flex-direction: column;z-index: 1;position: relative;background-color: white;}#sk-container-id-5 div.sk-parallel-item:first-child::after {align-self: flex-end;width: 50%;}#sk-container-id-5 div.sk-parallel-item:last-child::after {align-self: flex-start;width: 50%;}#sk-container-id-5 div.sk-parallel-item:only-child::after {width: 0;}#sk-container-id-5 div.sk-dashed-wrapped {border: 1px dashed gray;margin: 0 0.4em 0.5em 0.4em;box-sizing: border-box;padding-bottom: 0.4em;background-color: white;}#sk-container-id-5 div.sk-label label {font-family: monospace;font-weight: bold;display: inline-block;line-height: 1.2em;}#sk-container-id-5 div.sk-label-container {text-align: center;}#sk-container-id-5 div.sk-container {/* jupyter's `normalize.less` sets `[hidden] { display: none; }` but bootstrap.min.css set `[hidden] { display: none !important; }` so we also need the `!important` here to be able to override the default hidden behavior on the sphinx rendered scikit-learn.org. See: https://github.com/scikit-learn/scikit-learn/issues/21755 */display: inline-block !important;position: relative;}#sk-container-id-5 div.sk-text-repr-fallback {display: none;}</style><div id=\"sk-container-id-5\" class=\"sk-top-container\"><div class=\"sk-text-repr-fallback\"><pre>Pipeline(steps=[(&#x27;preprocessor&#x27;,\n",
       "                 ColumnTransformer(transformers=[(&#x27;num&#x27;,\n",
       "                                                  Pipeline(steps=[(&#x27;simple &#x27;\n",
       "                                                                   &#x27;impute&#x27;,\n",
       "                                                                   SimpleImputer()),\n",
       "                                                                  (&#x27;scaler&#x27;,\n",
       "                                                                   StandardScaler())]),\n",
       "                                                  [&#x27;floor_area_sqm&#x27;, &#x27;mid&#x27;,\n",
       "                                                   &#x27;hdb_age&#x27;, &#x27;max_floor_lvl&#x27;,\n",
       "                                                   &#x27;Mall_Nearest_Distance&#x27;,\n",
       "                                                   &#x27;Hawker_Nearest_Distance&#x27;,\n",
       "                                                   &#x27;mrt_nearest_distance&#x27;,\n",
       "                                                   &#x27;cutoff_point&#x27;]),\n",
       "                                                 (&#x27;cat&#x27;,\n",
       "                                                  Pipeline(steps=[(&#x27;encoder&#x27;,\n",
       "                                                                   OneHotEncoder(drop=&#x27;first&#x27;,\n",
       "                                                                                 handle_unknown=&#x27;ignore&#x27;))]),\n",
       "                                                  [&#x27;flat_type&#x27;, &#x27;flat_model&#x27;,\n",
       "                                                   &#x27;Tranc_Year&#x27;,\n",
       "                                                   &#x27;planning_area&#x27;,\n",
       "                                                   &#x27;bus_interchange&#x27;,\n",
       "                                                   &#x27;mrt_interchange&#x27;])])),\n",
       "                (&#x27;Ridge&#x27;, Ridge())])</pre><b>In a Jupyter environment, please rerun this cell to show the HTML representation or trust the notebook. <br />On GitHub, the HTML representation is unable to render, please try loading this page with nbviewer.org.</b></div><div class=\"sk-container\" hidden><div class=\"sk-item sk-dashed-wrapped\"><div class=\"sk-label-container\"><div class=\"sk-label sk-toggleable\"><input class=\"sk-toggleable__control sk-hidden--visually\" id=\"sk-estimator-id-35\" type=\"checkbox\" ><label for=\"sk-estimator-id-35\" class=\"sk-toggleable__label sk-toggleable__label-arrow\">Pipeline</label><div class=\"sk-toggleable__content\"><pre>Pipeline(steps=[(&#x27;preprocessor&#x27;,\n",
       "                 ColumnTransformer(transformers=[(&#x27;num&#x27;,\n",
       "                                                  Pipeline(steps=[(&#x27;simple &#x27;\n",
       "                                                                   &#x27;impute&#x27;,\n",
       "                                                                   SimpleImputer()),\n",
       "                                                                  (&#x27;scaler&#x27;,\n",
       "                                                                   StandardScaler())]),\n",
       "                                                  [&#x27;floor_area_sqm&#x27;, &#x27;mid&#x27;,\n",
       "                                                   &#x27;hdb_age&#x27;, &#x27;max_floor_lvl&#x27;,\n",
       "                                                   &#x27;Mall_Nearest_Distance&#x27;,\n",
       "                                                   &#x27;Hawker_Nearest_Distance&#x27;,\n",
       "                                                   &#x27;mrt_nearest_distance&#x27;,\n",
       "                                                   &#x27;cutoff_point&#x27;]),\n",
       "                                                 (&#x27;cat&#x27;,\n",
       "                                                  Pipeline(steps=[(&#x27;encoder&#x27;,\n",
       "                                                                   OneHotEncoder(drop=&#x27;first&#x27;,\n",
       "                                                                                 handle_unknown=&#x27;ignore&#x27;))]),\n",
       "                                                  [&#x27;flat_type&#x27;, &#x27;flat_model&#x27;,\n",
       "                                                   &#x27;Tranc_Year&#x27;,\n",
       "                                                   &#x27;planning_area&#x27;,\n",
       "                                                   &#x27;bus_interchange&#x27;,\n",
       "                                                   &#x27;mrt_interchange&#x27;])])),\n",
       "                (&#x27;Ridge&#x27;, Ridge())])</pre></div></div></div><div class=\"sk-serial\"><div class=\"sk-item sk-dashed-wrapped\"><div class=\"sk-label-container\"><div class=\"sk-label sk-toggleable\"><input class=\"sk-toggleable__control sk-hidden--visually\" id=\"sk-estimator-id-36\" type=\"checkbox\" ><label for=\"sk-estimator-id-36\" class=\"sk-toggleable__label sk-toggleable__label-arrow\">preprocessor: ColumnTransformer</label><div class=\"sk-toggleable__content\"><pre>ColumnTransformer(transformers=[(&#x27;num&#x27;,\n",
       "                                 Pipeline(steps=[(&#x27;simple impute&#x27;,\n",
       "                                                  SimpleImputer()),\n",
       "                                                 (&#x27;scaler&#x27;, StandardScaler())]),\n",
       "                                 [&#x27;floor_area_sqm&#x27;, &#x27;mid&#x27;, &#x27;hdb_age&#x27;,\n",
       "                                  &#x27;max_floor_lvl&#x27;, &#x27;Mall_Nearest_Distance&#x27;,\n",
       "                                  &#x27;Hawker_Nearest_Distance&#x27;,\n",
       "                                  &#x27;mrt_nearest_distance&#x27;, &#x27;cutoff_point&#x27;]),\n",
       "                                (&#x27;cat&#x27;,\n",
       "                                 Pipeline(steps=[(&#x27;encoder&#x27;,\n",
       "                                                  OneHotEncoder(drop=&#x27;first&#x27;,\n",
       "                                                                handle_unknown=&#x27;ignore&#x27;))]),\n",
       "                                 [&#x27;flat_type&#x27;, &#x27;flat_model&#x27;, &#x27;Tranc_Year&#x27;,\n",
       "                                  &#x27;planning_area&#x27;, &#x27;bus_interchange&#x27;,\n",
       "                                  &#x27;mrt_interchange&#x27;])])</pre></div></div></div><div class=\"sk-parallel\"><div class=\"sk-parallel-item\"><div class=\"sk-item\"><div class=\"sk-label-container\"><div class=\"sk-label sk-toggleable\"><input class=\"sk-toggleable__control sk-hidden--visually\" id=\"sk-estimator-id-37\" type=\"checkbox\" ><label for=\"sk-estimator-id-37\" class=\"sk-toggleable__label sk-toggleable__label-arrow\">num</label><div class=\"sk-toggleable__content\"><pre>[&#x27;floor_area_sqm&#x27;, &#x27;mid&#x27;, &#x27;hdb_age&#x27;, &#x27;max_floor_lvl&#x27;, &#x27;Mall_Nearest_Distance&#x27;, &#x27;Hawker_Nearest_Distance&#x27;, &#x27;mrt_nearest_distance&#x27;, &#x27;cutoff_point&#x27;]</pre></div></div></div><div class=\"sk-serial\"><div class=\"sk-item\"><div class=\"sk-serial\"><div class=\"sk-item\"><div class=\"sk-estimator sk-toggleable\"><input class=\"sk-toggleable__control sk-hidden--visually\" id=\"sk-estimator-id-38\" type=\"checkbox\" ><label for=\"sk-estimator-id-38\" class=\"sk-toggleable__label sk-toggleable__label-arrow\">SimpleImputer</label><div class=\"sk-toggleable__content\"><pre>SimpleImputer()</pre></div></div></div><div class=\"sk-item\"><div class=\"sk-estimator sk-toggleable\"><input class=\"sk-toggleable__control sk-hidden--visually\" id=\"sk-estimator-id-39\" type=\"checkbox\" ><label for=\"sk-estimator-id-39\" class=\"sk-toggleable__label sk-toggleable__label-arrow\">StandardScaler</label><div class=\"sk-toggleable__content\"><pre>StandardScaler()</pre></div></div></div></div></div></div></div></div><div class=\"sk-parallel-item\"><div class=\"sk-item\"><div class=\"sk-label-container\"><div class=\"sk-label sk-toggleable\"><input class=\"sk-toggleable__control sk-hidden--visually\" id=\"sk-estimator-id-40\" type=\"checkbox\" ><label for=\"sk-estimator-id-40\" class=\"sk-toggleable__label sk-toggleable__label-arrow\">cat</label><div class=\"sk-toggleable__content\"><pre>[&#x27;flat_type&#x27;, &#x27;flat_model&#x27;, &#x27;Tranc_Year&#x27;, &#x27;planning_area&#x27;, &#x27;bus_interchange&#x27;, &#x27;mrt_interchange&#x27;]</pre></div></div></div><div class=\"sk-serial\"><div class=\"sk-item\"><div class=\"sk-serial\"><div class=\"sk-item\"><div class=\"sk-estimator sk-toggleable\"><input class=\"sk-toggleable__control sk-hidden--visually\" id=\"sk-estimator-id-41\" type=\"checkbox\" ><label for=\"sk-estimator-id-41\" class=\"sk-toggleable__label sk-toggleable__label-arrow\">OneHotEncoder</label><div class=\"sk-toggleable__content\"><pre>OneHotEncoder(drop=&#x27;first&#x27;, handle_unknown=&#x27;ignore&#x27;)</pre></div></div></div></div></div></div></div></div></div></div><div class=\"sk-item\"><div class=\"sk-estimator sk-toggleable\"><input class=\"sk-toggleable__control sk-hidden--visually\" id=\"sk-estimator-id-42\" type=\"checkbox\" ><label for=\"sk-estimator-id-42\" class=\"sk-toggleable__label sk-toggleable__label-arrow\">Ridge</label><div class=\"sk-toggleable__content\"><pre>Ridge()</pre></div></div></div></div></div></div></div>"
      ],
      "text/plain": [
       "Pipeline(steps=[('preprocessor',\n",
       "                 ColumnTransformer(transformers=[('num',\n",
       "                                                  Pipeline(steps=[('simple '\n",
       "                                                                   'impute',\n",
       "                                                                   SimpleImputer()),\n",
       "                                                                  ('scaler',\n",
       "                                                                   StandardScaler())]),\n",
       "                                                  ['floor_area_sqm', 'mid',\n",
       "                                                   'hdb_age', 'max_floor_lvl',\n",
       "                                                   'Mall_Nearest_Distance',\n",
       "                                                   'Hawker_Nearest_Distance',\n",
       "                                                   'mrt_nearest_distance',\n",
       "                                                   'cutoff_point']),\n",
       "                                                 ('cat',\n",
       "                                                  Pipeline(steps=[('encoder',\n",
       "                                                                   OneHotEncoder(drop='first',\n",
       "                                                                                 handle_unknown='ignore'))]),\n",
       "                                                  ['flat_type', 'flat_model',\n",
       "                                                   'Tranc_Year',\n",
       "                                                   'planning_area',\n",
       "                                                   'bus_interchange',\n",
       "                                                   'mrt_interchange'])])),\n",
       "                ('Ridge', Ridge())])"
      ]
     },
     "execution_count": 36,
     "metadata": {},
     "output_type": "execute_result"
    }
   ],
   "source": [
    "ridge.fit(X_train, y_train)"
   ]
  },
  {
   "cell_type": "code",
   "execution_count": 37,
   "id": "5dd3e99c-96b6-4148-801f-5837829be258",
   "metadata": {},
   "outputs": [
    {
     "name": "stdout",
     "output_type": "stream",
     "text": [
      "The train score is: 0.891556\n",
      "The test score is: 0.890854\n"
     ]
    }
   ],
   "source": [
    "print(f\"The train score is: {round(ridge.score(X_train, y_train), 6)}\")\n",
    "print(f\"The test score is: {round(ridge.score(X_test, y_test), 6)}\")"
   ]
  },
  {
   "cell_type": "markdown",
   "id": "c8374134-a384-4a3c-8dbf-8af8ec6e09d7",
   "metadata": {},
   "source": [
    "It have a slightly worse performance compared to both Lasso and Linear Regression.  \n",
    "Now investigate with CV."
   ]
  },
  {
   "cell_type": "code",
   "execution_count": 38,
   "id": "0e8cc718-376f-48dd-8638-e11556341983",
   "metadata": {},
   "outputs": [],
   "source": [
    "ridge_CV = Pipeline(\n",
    "    steps=[(\"preprocessor\", preprocessor), (\"Ridge CV\", RidgeCV(alphas=[0.1, 1, 10, 100, 1000], store_cv_values=True, alpha_per_target=True))]\n",
    ")"
   ]
  },
  {
   "cell_type": "code",
   "execution_count": 39,
   "id": "0d28b042-d8e6-439a-9361-4461545ad462",
   "metadata": {},
   "outputs": [
    {
     "data": {
      "text/html": [
       "<style>#sk-container-id-6 {color: black;background-color: white;}#sk-container-id-6 pre{padding: 0;}#sk-container-id-6 div.sk-toggleable {background-color: white;}#sk-container-id-6 label.sk-toggleable__label {cursor: pointer;display: block;width: 100%;margin-bottom: 0;padding: 0.3em;box-sizing: border-box;text-align: center;}#sk-container-id-6 label.sk-toggleable__label-arrow:before {content: \"▸\";float: left;margin-right: 0.25em;color: #696969;}#sk-container-id-6 label.sk-toggleable__label-arrow:hover:before {color: black;}#sk-container-id-6 div.sk-estimator:hover label.sk-toggleable__label-arrow:before {color: black;}#sk-container-id-6 div.sk-toggleable__content {max-height: 0;max-width: 0;overflow: hidden;text-align: left;background-color: #f0f8ff;}#sk-container-id-6 div.sk-toggleable__content pre {margin: 0.2em;color: black;border-radius: 0.25em;background-color: #f0f8ff;}#sk-container-id-6 input.sk-toggleable__control:checked~div.sk-toggleable__content {max-height: 200px;max-width: 100%;overflow: auto;}#sk-container-id-6 input.sk-toggleable__control:checked~label.sk-toggleable__label-arrow:before {content: \"▾\";}#sk-container-id-6 div.sk-estimator input.sk-toggleable__control:checked~label.sk-toggleable__label {background-color: #d4ebff;}#sk-container-id-6 div.sk-label input.sk-toggleable__control:checked~label.sk-toggleable__label {background-color: #d4ebff;}#sk-container-id-6 input.sk-hidden--visually {border: 0;clip: rect(1px 1px 1px 1px);clip: rect(1px, 1px, 1px, 1px);height: 1px;margin: -1px;overflow: hidden;padding: 0;position: absolute;width: 1px;}#sk-container-id-6 div.sk-estimator {font-family: monospace;background-color: #f0f8ff;border: 1px dotted black;border-radius: 0.25em;box-sizing: border-box;margin-bottom: 0.5em;}#sk-container-id-6 div.sk-estimator:hover {background-color: #d4ebff;}#sk-container-id-6 div.sk-parallel-item::after {content: \"\";width: 100%;border-bottom: 1px solid gray;flex-grow: 1;}#sk-container-id-6 div.sk-label:hover label.sk-toggleable__label {background-color: #d4ebff;}#sk-container-id-6 div.sk-serial::before {content: \"\";position: absolute;border-left: 1px solid gray;box-sizing: border-box;top: 0;bottom: 0;left: 50%;z-index: 0;}#sk-container-id-6 div.sk-serial {display: flex;flex-direction: column;align-items: center;background-color: white;padding-right: 0.2em;padding-left: 0.2em;position: relative;}#sk-container-id-6 div.sk-item {position: relative;z-index: 1;}#sk-container-id-6 div.sk-parallel {display: flex;align-items: stretch;justify-content: center;background-color: white;position: relative;}#sk-container-id-6 div.sk-item::before, #sk-container-id-6 div.sk-parallel-item::before {content: \"\";position: absolute;border-left: 1px solid gray;box-sizing: border-box;top: 0;bottom: 0;left: 50%;z-index: -1;}#sk-container-id-6 div.sk-parallel-item {display: flex;flex-direction: column;z-index: 1;position: relative;background-color: white;}#sk-container-id-6 div.sk-parallel-item:first-child::after {align-self: flex-end;width: 50%;}#sk-container-id-6 div.sk-parallel-item:last-child::after {align-self: flex-start;width: 50%;}#sk-container-id-6 div.sk-parallel-item:only-child::after {width: 0;}#sk-container-id-6 div.sk-dashed-wrapped {border: 1px dashed gray;margin: 0 0.4em 0.5em 0.4em;box-sizing: border-box;padding-bottom: 0.4em;background-color: white;}#sk-container-id-6 div.sk-label label {font-family: monospace;font-weight: bold;display: inline-block;line-height: 1.2em;}#sk-container-id-6 div.sk-label-container {text-align: center;}#sk-container-id-6 div.sk-container {/* jupyter's `normalize.less` sets `[hidden] { display: none; }` but bootstrap.min.css set `[hidden] { display: none !important; }` so we also need the `!important` here to be able to override the default hidden behavior on the sphinx rendered scikit-learn.org. See: https://github.com/scikit-learn/scikit-learn/issues/21755 */display: inline-block !important;position: relative;}#sk-container-id-6 div.sk-text-repr-fallback {display: none;}</style><div id=\"sk-container-id-6\" class=\"sk-top-container\"><div class=\"sk-text-repr-fallback\"><pre>Pipeline(steps=[(&#x27;preprocessor&#x27;,\n",
       "                 ColumnTransformer(transformers=[(&#x27;num&#x27;,\n",
       "                                                  Pipeline(steps=[(&#x27;simple &#x27;\n",
       "                                                                   &#x27;impute&#x27;,\n",
       "                                                                   SimpleImputer()),\n",
       "                                                                  (&#x27;scaler&#x27;,\n",
       "                                                                   StandardScaler())]),\n",
       "                                                  [&#x27;floor_area_sqm&#x27;, &#x27;mid&#x27;,\n",
       "                                                   &#x27;hdb_age&#x27;, &#x27;max_floor_lvl&#x27;,\n",
       "                                                   &#x27;Mall_Nearest_Distance&#x27;,\n",
       "                                                   &#x27;Hawker_Nearest_Distance&#x27;,\n",
       "                                                   &#x27;mrt_nearest_distance&#x27;,\n",
       "                                                   &#x27;cutoff_point&#x27;]),\n",
       "                                                 (&#x27;cat&#x27;,\n",
       "                                                  Pipeline(steps=[(&#x27;encoder&#x27;,\n",
       "                                                                   OneHotEncoder(drop=&#x27;first&#x27;,\n",
       "                                                                                 handle_unknown=&#x27;ignore&#x27;))]),\n",
       "                                                  [&#x27;flat_type&#x27;, &#x27;flat_model&#x27;,\n",
       "                                                   &#x27;Tranc_Year&#x27;,\n",
       "                                                   &#x27;planning_area&#x27;,\n",
       "                                                   &#x27;bus_interchange&#x27;,\n",
       "                                                   &#x27;mrt_interchange&#x27;])])),\n",
       "                (&#x27;Ridge CV&#x27;,\n",
       "                 RidgeCV(alpha_per_target=True, alphas=[0.1, 1, 10, 100, 1000],\n",
       "                         store_cv_values=True))])</pre><b>In a Jupyter environment, please rerun this cell to show the HTML representation or trust the notebook. <br />On GitHub, the HTML representation is unable to render, please try loading this page with nbviewer.org.</b></div><div class=\"sk-container\" hidden><div class=\"sk-item sk-dashed-wrapped\"><div class=\"sk-label-container\"><div class=\"sk-label sk-toggleable\"><input class=\"sk-toggleable__control sk-hidden--visually\" id=\"sk-estimator-id-43\" type=\"checkbox\" ><label for=\"sk-estimator-id-43\" class=\"sk-toggleable__label sk-toggleable__label-arrow\">Pipeline</label><div class=\"sk-toggleable__content\"><pre>Pipeline(steps=[(&#x27;preprocessor&#x27;,\n",
       "                 ColumnTransformer(transformers=[(&#x27;num&#x27;,\n",
       "                                                  Pipeline(steps=[(&#x27;simple &#x27;\n",
       "                                                                   &#x27;impute&#x27;,\n",
       "                                                                   SimpleImputer()),\n",
       "                                                                  (&#x27;scaler&#x27;,\n",
       "                                                                   StandardScaler())]),\n",
       "                                                  [&#x27;floor_area_sqm&#x27;, &#x27;mid&#x27;,\n",
       "                                                   &#x27;hdb_age&#x27;, &#x27;max_floor_lvl&#x27;,\n",
       "                                                   &#x27;Mall_Nearest_Distance&#x27;,\n",
       "                                                   &#x27;Hawker_Nearest_Distance&#x27;,\n",
       "                                                   &#x27;mrt_nearest_distance&#x27;,\n",
       "                                                   &#x27;cutoff_point&#x27;]),\n",
       "                                                 (&#x27;cat&#x27;,\n",
       "                                                  Pipeline(steps=[(&#x27;encoder&#x27;,\n",
       "                                                                   OneHotEncoder(drop=&#x27;first&#x27;,\n",
       "                                                                                 handle_unknown=&#x27;ignore&#x27;))]),\n",
       "                                                  [&#x27;flat_type&#x27;, &#x27;flat_model&#x27;,\n",
       "                                                   &#x27;Tranc_Year&#x27;,\n",
       "                                                   &#x27;planning_area&#x27;,\n",
       "                                                   &#x27;bus_interchange&#x27;,\n",
       "                                                   &#x27;mrt_interchange&#x27;])])),\n",
       "                (&#x27;Ridge CV&#x27;,\n",
       "                 RidgeCV(alpha_per_target=True, alphas=[0.1, 1, 10, 100, 1000],\n",
       "                         store_cv_values=True))])</pre></div></div></div><div class=\"sk-serial\"><div class=\"sk-item sk-dashed-wrapped\"><div class=\"sk-label-container\"><div class=\"sk-label sk-toggleable\"><input class=\"sk-toggleable__control sk-hidden--visually\" id=\"sk-estimator-id-44\" type=\"checkbox\" ><label for=\"sk-estimator-id-44\" class=\"sk-toggleable__label sk-toggleable__label-arrow\">preprocessor: ColumnTransformer</label><div class=\"sk-toggleable__content\"><pre>ColumnTransformer(transformers=[(&#x27;num&#x27;,\n",
       "                                 Pipeline(steps=[(&#x27;simple impute&#x27;,\n",
       "                                                  SimpleImputer()),\n",
       "                                                 (&#x27;scaler&#x27;, StandardScaler())]),\n",
       "                                 [&#x27;floor_area_sqm&#x27;, &#x27;mid&#x27;, &#x27;hdb_age&#x27;,\n",
       "                                  &#x27;max_floor_lvl&#x27;, &#x27;Mall_Nearest_Distance&#x27;,\n",
       "                                  &#x27;Hawker_Nearest_Distance&#x27;,\n",
       "                                  &#x27;mrt_nearest_distance&#x27;, &#x27;cutoff_point&#x27;]),\n",
       "                                (&#x27;cat&#x27;,\n",
       "                                 Pipeline(steps=[(&#x27;encoder&#x27;,\n",
       "                                                  OneHotEncoder(drop=&#x27;first&#x27;,\n",
       "                                                                handle_unknown=&#x27;ignore&#x27;))]),\n",
       "                                 [&#x27;flat_type&#x27;, &#x27;flat_model&#x27;, &#x27;Tranc_Year&#x27;,\n",
       "                                  &#x27;planning_area&#x27;, &#x27;bus_interchange&#x27;,\n",
       "                                  &#x27;mrt_interchange&#x27;])])</pre></div></div></div><div class=\"sk-parallel\"><div class=\"sk-parallel-item\"><div class=\"sk-item\"><div class=\"sk-label-container\"><div class=\"sk-label sk-toggleable\"><input class=\"sk-toggleable__control sk-hidden--visually\" id=\"sk-estimator-id-45\" type=\"checkbox\" ><label for=\"sk-estimator-id-45\" class=\"sk-toggleable__label sk-toggleable__label-arrow\">num</label><div class=\"sk-toggleable__content\"><pre>[&#x27;floor_area_sqm&#x27;, &#x27;mid&#x27;, &#x27;hdb_age&#x27;, &#x27;max_floor_lvl&#x27;, &#x27;Mall_Nearest_Distance&#x27;, &#x27;Hawker_Nearest_Distance&#x27;, &#x27;mrt_nearest_distance&#x27;, &#x27;cutoff_point&#x27;]</pre></div></div></div><div class=\"sk-serial\"><div class=\"sk-item\"><div class=\"sk-serial\"><div class=\"sk-item\"><div class=\"sk-estimator sk-toggleable\"><input class=\"sk-toggleable__control sk-hidden--visually\" id=\"sk-estimator-id-46\" type=\"checkbox\" ><label for=\"sk-estimator-id-46\" class=\"sk-toggleable__label sk-toggleable__label-arrow\">SimpleImputer</label><div class=\"sk-toggleable__content\"><pre>SimpleImputer()</pre></div></div></div><div class=\"sk-item\"><div class=\"sk-estimator sk-toggleable\"><input class=\"sk-toggleable__control sk-hidden--visually\" id=\"sk-estimator-id-47\" type=\"checkbox\" ><label for=\"sk-estimator-id-47\" class=\"sk-toggleable__label sk-toggleable__label-arrow\">StandardScaler</label><div class=\"sk-toggleable__content\"><pre>StandardScaler()</pre></div></div></div></div></div></div></div></div><div class=\"sk-parallel-item\"><div class=\"sk-item\"><div class=\"sk-label-container\"><div class=\"sk-label sk-toggleable\"><input class=\"sk-toggleable__control sk-hidden--visually\" id=\"sk-estimator-id-48\" type=\"checkbox\" ><label for=\"sk-estimator-id-48\" class=\"sk-toggleable__label sk-toggleable__label-arrow\">cat</label><div class=\"sk-toggleable__content\"><pre>[&#x27;flat_type&#x27;, &#x27;flat_model&#x27;, &#x27;Tranc_Year&#x27;, &#x27;planning_area&#x27;, &#x27;bus_interchange&#x27;, &#x27;mrt_interchange&#x27;]</pre></div></div></div><div class=\"sk-serial\"><div class=\"sk-item\"><div class=\"sk-serial\"><div class=\"sk-item\"><div class=\"sk-estimator sk-toggleable\"><input class=\"sk-toggleable__control sk-hidden--visually\" id=\"sk-estimator-id-49\" type=\"checkbox\" ><label for=\"sk-estimator-id-49\" class=\"sk-toggleable__label sk-toggleable__label-arrow\">OneHotEncoder</label><div class=\"sk-toggleable__content\"><pre>OneHotEncoder(drop=&#x27;first&#x27;, handle_unknown=&#x27;ignore&#x27;)</pre></div></div></div></div></div></div></div></div></div></div><div class=\"sk-item\"><div class=\"sk-estimator sk-toggleable\"><input class=\"sk-toggleable__control sk-hidden--visually\" id=\"sk-estimator-id-50\" type=\"checkbox\" ><label for=\"sk-estimator-id-50\" class=\"sk-toggleable__label sk-toggleable__label-arrow\">RidgeCV</label><div class=\"sk-toggleable__content\"><pre>RidgeCV(alpha_per_target=True, alphas=[0.1, 1, 10, 100, 1000],\n",
       "        store_cv_values=True)</pre></div></div></div></div></div></div></div>"
      ],
      "text/plain": [
       "Pipeline(steps=[('preprocessor',\n",
       "                 ColumnTransformer(transformers=[('num',\n",
       "                                                  Pipeline(steps=[('simple '\n",
       "                                                                   'impute',\n",
       "                                                                   SimpleImputer()),\n",
       "                                                                  ('scaler',\n",
       "                                                                   StandardScaler())]),\n",
       "                                                  ['floor_area_sqm', 'mid',\n",
       "                                                   'hdb_age', 'max_floor_lvl',\n",
       "                                                   'Mall_Nearest_Distance',\n",
       "                                                   'Hawker_Nearest_Distance',\n",
       "                                                   'mrt_nearest_distance',\n",
       "                                                   'cutoff_point']),\n",
       "                                                 ('cat',\n",
       "                                                  Pipeline(steps=[('encoder',\n",
       "                                                                   OneHotEncoder(drop='first',\n",
       "                                                                                 handle_unknown='ignore'))]),\n",
       "                                                  ['flat_type', 'flat_model',\n",
       "                                                   'Tranc_Year',\n",
       "                                                   'planning_area',\n",
       "                                                   'bus_interchange',\n",
       "                                                   'mrt_interchange'])])),\n",
       "                ('Ridge CV',\n",
       "                 RidgeCV(alpha_per_target=True, alphas=[0.1, 1, 10, 100, 1000],\n",
       "                         store_cv_values=True))])"
      ]
     },
     "execution_count": 39,
     "metadata": {},
     "output_type": "execute_result"
    }
   ],
   "source": [
    "ridge_CV.fit(X_train, y_train)"
   ]
  },
  {
   "cell_type": "code",
   "execution_count": 40,
   "id": "92b86a21-4a24-43c6-8c6b-1390eb9b5924",
   "metadata": {},
   "outputs": [
    {
     "name": "stdout",
     "output_type": "stream",
     "text": [
      "The train score is: 0.891919\n",
      "The test score is: 0.891239\n"
     ]
    }
   ],
   "source": [
    "print(f\"The train score is: {round(ridge_CV.score(X_train, y_train), 6)}\")\n",
    "print(f\"The test score is: {round(ridge_CV.score(X_test, y_test), 6)}\")"
   ]
  },
  {
   "cell_type": "code",
   "execution_count": 41,
   "id": "d46e9e50-7bce-426e-b0e6-7f305fb690af",
   "metadata": {},
   "outputs": [
    {
     "data": {
      "text/plain": [
       "(119817, 5)"
      ]
     },
     "execution_count": 41,
     "metadata": {},
     "output_type": "execute_result"
    }
   ],
   "source": [
    "cv_results= pd.DataFrame(ridge_CV[1].cv_values_, columns=['alpha=0.1', 'alpha=1', 'alpha=10', 'alpha=100', 'alpha=1000'])\n",
    "cv_results.shape"
   ]
  },
  {
   "cell_type": "code",
   "execution_count": 42,
   "id": "9bc11068-f08e-4756-a589-9ab1ae73cd30",
   "metadata": {},
   "outputs": [
    {
     "data": {
      "text/html": [
       "<div>\n",
       "<style scoped>\n",
       "    .dataframe tbody tr th:only-of-type {\n",
       "        vertical-align: middle;\n",
       "    }\n",
       "\n",
       "    .dataframe tbody tr th {\n",
       "        vertical-align: top;\n",
       "    }\n",
       "\n",
       "    .dataframe thead th {\n",
       "        text-align: right;\n",
       "    }\n",
       "</style>\n",
       "<table border=\"1\" class=\"dataframe\">\n",
       "  <thead>\n",
       "    <tr style=\"text-align: right;\">\n",
       "      <th></th>\n",
       "      <th>alpha=0.1</th>\n",
       "      <th>alpha=1</th>\n",
       "      <th>alpha=10</th>\n",
       "      <th>alpha=100</th>\n",
       "      <th>alpha=1000</th>\n",
       "    </tr>\n",
       "  </thead>\n",
       "  <tbody>\n",
       "    <tr>\n",
       "      <th>0</th>\n",
       "      <td>2.748284e+09</td>\n",
       "      <td>2.755258e+09</td>\n",
       "      <td>2.813214e+09</td>\n",
       "      <td>3.193140e+09</td>\n",
       "      <td>4.817755e+09</td>\n",
       "    </tr>\n",
       "    <tr>\n",
       "      <th>1</th>\n",
       "      <td>1.418368e+09</td>\n",
       "      <td>1.423038e+09</td>\n",
       "      <td>1.457278e+09</td>\n",
       "      <td>1.611593e+09</td>\n",
       "      <td>1.377079e+09</td>\n",
       "    </tr>\n",
       "    <tr>\n",
       "      <th>2</th>\n",
       "      <td>1.991506e+07</td>\n",
       "      <td>1.945613e+07</td>\n",
       "      <td>1.547463e+07</td>\n",
       "      <td>8.832042e+05</td>\n",
       "      <td>1.783817e+03</td>\n",
       "    </tr>\n",
       "    <tr>\n",
       "      <th>3</th>\n",
       "      <td>4.380845e+09</td>\n",
       "      <td>4.388701e+09</td>\n",
       "      <td>4.462062e+09</td>\n",
       "      <td>5.059141e+09</td>\n",
       "      <td>8.126840e+09</td>\n",
       "    </tr>\n",
       "    <tr>\n",
       "      <th>4</th>\n",
       "      <td>1.690679e+09</td>\n",
       "      <td>1.691574e+09</td>\n",
       "      <td>1.703623e+09</td>\n",
       "      <td>1.891572e+09</td>\n",
       "      <td>3.635783e+09</td>\n",
       "    </tr>\n",
       "  </tbody>\n",
       "</table>\n",
       "</div>"
      ],
      "text/plain": [
       "      alpha=0.1       alpha=1      alpha=10     alpha=100    alpha=1000\n",
       "0  2.748284e+09  2.755258e+09  2.813214e+09  3.193140e+09  4.817755e+09\n",
       "1  1.418368e+09  1.423038e+09  1.457278e+09  1.611593e+09  1.377079e+09\n",
       "2  1.991506e+07  1.945613e+07  1.547463e+07  8.832042e+05  1.783817e+03\n",
       "3  4.380845e+09  4.388701e+09  4.462062e+09  5.059141e+09  8.126840e+09\n",
       "4  1.690679e+09  1.691574e+09  1.703623e+09  1.891572e+09  3.635783e+09"
      ]
     },
     "execution_count": 42,
     "metadata": {},
     "output_type": "execute_result"
    }
   ],
   "source": [
    "cv_results.head()"
   ]
  },
  {
   "cell_type": "code",
   "execution_count": 43,
   "id": "ef43a441-aa16-4c59-9480-2407b5efdc81",
   "metadata": {},
   "outputs": [
    {
     "data": {
      "text/plain": [
       "0.1"
      ]
     },
     "execution_count": 43,
     "metadata": {},
     "output_type": "execute_result"
    }
   ],
   "source": [
    "ridge_CV[1].alpha_"
   ]
  },
  {
   "cell_type": "code",
   "execution_count": 44,
   "id": "e908a309-2674-4d81-ae2c-9c69dc84553b",
   "metadata": {},
   "outputs": [
    {
     "data": {
      "text/plain": [
       "-2222773760.7176504"
      ]
     },
     "execution_count": 44,
     "metadata": {},
     "output_type": "execute_result"
    }
   ],
   "source": [
    "ridge_CV[1].best_score_"
   ]
  },
  {
   "cell_type": "code",
   "execution_count": 45,
   "id": "8163d140-446e-4bff-9085-109cfe413baf",
   "metadata": {},
   "outputs": [
    {
     "data": {
      "text/plain": [
       "75"
      ]
     },
     "execution_count": 45,
     "metadata": {},
     "output_type": "execute_result"
    }
   ],
   "source": [
    "ridge_CV[1].n_features_in_"
   ]
  },
  {
   "cell_type": "markdown",
   "id": "b3d93435-564c-4ae1-9205-f144278cf4b0",
   "metadata": {},
   "source": [
    "The best Alpha selected is 0.1.  \n",
    "This means the default Ridge() is good enough.  \n",
    "I will now move on to Elastic Net."
   ]
  },
  {
   "cell_type": "markdown",
   "id": "29e59fae-afc2-4e41-92ff-45134939f934",
   "metadata": {},
   "source": [
    "## Elastic Net Regression"
   ]
  },
  {
   "cell_type": "markdown",
   "id": "e7223cb2-11a6-4bb0-b561-df48ffd43281",
   "metadata": {},
   "source": [
    "Elastic Net Regression is a combination of Lasso (L1) and Ridge (L2).  \n",
    "Maybe that's why it is called elastic net?"
   ]
  },
  {
   "cell_type": "code",
   "execution_count": 46,
   "id": "a09c8f54-70b1-4645-8431-84adc91fb778",
   "metadata": {},
   "outputs": [],
   "source": [
    "# Build a pipeline for regression model\n",
    "# default setting did not converge\n",
    "e_net = Pipeline(\n",
    "    steps=[(\"preprocessor\", preprocessor), (\"ENet\", ElasticNet())]\n",
    ")"
   ]
  },
  {
   "cell_type": "code",
   "execution_count": 47,
   "id": "5a347ca6-fd9f-459d-93c0-7c9e206d4bd5",
   "metadata": {},
   "outputs": [
    {
     "data": {
      "text/html": [
       "<style>#sk-container-id-7 {color: black;background-color: white;}#sk-container-id-7 pre{padding: 0;}#sk-container-id-7 div.sk-toggleable {background-color: white;}#sk-container-id-7 label.sk-toggleable__label {cursor: pointer;display: block;width: 100%;margin-bottom: 0;padding: 0.3em;box-sizing: border-box;text-align: center;}#sk-container-id-7 label.sk-toggleable__label-arrow:before {content: \"▸\";float: left;margin-right: 0.25em;color: #696969;}#sk-container-id-7 label.sk-toggleable__label-arrow:hover:before {color: black;}#sk-container-id-7 div.sk-estimator:hover label.sk-toggleable__label-arrow:before {color: black;}#sk-container-id-7 div.sk-toggleable__content {max-height: 0;max-width: 0;overflow: hidden;text-align: left;background-color: #f0f8ff;}#sk-container-id-7 div.sk-toggleable__content pre {margin: 0.2em;color: black;border-radius: 0.25em;background-color: #f0f8ff;}#sk-container-id-7 input.sk-toggleable__control:checked~div.sk-toggleable__content {max-height: 200px;max-width: 100%;overflow: auto;}#sk-container-id-7 input.sk-toggleable__control:checked~label.sk-toggleable__label-arrow:before {content: \"▾\";}#sk-container-id-7 div.sk-estimator input.sk-toggleable__control:checked~label.sk-toggleable__label {background-color: #d4ebff;}#sk-container-id-7 div.sk-label input.sk-toggleable__control:checked~label.sk-toggleable__label {background-color: #d4ebff;}#sk-container-id-7 input.sk-hidden--visually {border: 0;clip: rect(1px 1px 1px 1px);clip: rect(1px, 1px, 1px, 1px);height: 1px;margin: -1px;overflow: hidden;padding: 0;position: absolute;width: 1px;}#sk-container-id-7 div.sk-estimator {font-family: monospace;background-color: #f0f8ff;border: 1px dotted black;border-radius: 0.25em;box-sizing: border-box;margin-bottom: 0.5em;}#sk-container-id-7 div.sk-estimator:hover {background-color: #d4ebff;}#sk-container-id-7 div.sk-parallel-item::after {content: \"\";width: 100%;border-bottom: 1px solid gray;flex-grow: 1;}#sk-container-id-7 div.sk-label:hover label.sk-toggleable__label {background-color: #d4ebff;}#sk-container-id-7 div.sk-serial::before {content: \"\";position: absolute;border-left: 1px solid gray;box-sizing: border-box;top: 0;bottom: 0;left: 50%;z-index: 0;}#sk-container-id-7 div.sk-serial {display: flex;flex-direction: column;align-items: center;background-color: white;padding-right: 0.2em;padding-left: 0.2em;position: relative;}#sk-container-id-7 div.sk-item {position: relative;z-index: 1;}#sk-container-id-7 div.sk-parallel {display: flex;align-items: stretch;justify-content: center;background-color: white;position: relative;}#sk-container-id-7 div.sk-item::before, #sk-container-id-7 div.sk-parallel-item::before {content: \"\";position: absolute;border-left: 1px solid gray;box-sizing: border-box;top: 0;bottom: 0;left: 50%;z-index: -1;}#sk-container-id-7 div.sk-parallel-item {display: flex;flex-direction: column;z-index: 1;position: relative;background-color: white;}#sk-container-id-7 div.sk-parallel-item:first-child::after {align-self: flex-end;width: 50%;}#sk-container-id-7 div.sk-parallel-item:last-child::after {align-self: flex-start;width: 50%;}#sk-container-id-7 div.sk-parallel-item:only-child::after {width: 0;}#sk-container-id-7 div.sk-dashed-wrapped {border: 1px dashed gray;margin: 0 0.4em 0.5em 0.4em;box-sizing: border-box;padding-bottom: 0.4em;background-color: white;}#sk-container-id-7 div.sk-label label {font-family: monospace;font-weight: bold;display: inline-block;line-height: 1.2em;}#sk-container-id-7 div.sk-label-container {text-align: center;}#sk-container-id-7 div.sk-container {/* jupyter's `normalize.less` sets `[hidden] { display: none; }` but bootstrap.min.css set `[hidden] { display: none !important; }` so we also need the `!important` here to be able to override the default hidden behavior on the sphinx rendered scikit-learn.org. See: https://github.com/scikit-learn/scikit-learn/issues/21755 */display: inline-block !important;position: relative;}#sk-container-id-7 div.sk-text-repr-fallback {display: none;}</style><div id=\"sk-container-id-7\" class=\"sk-top-container\"><div class=\"sk-text-repr-fallback\"><pre>Pipeline(steps=[(&#x27;preprocessor&#x27;,\n",
       "                 ColumnTransformer(transformers=[(&#x27;num&#x27;,\n",
       "                                                  Pipeline(steps=[(&#x27;simple &#x27;\n",
       "                                                                   &#x27;impute&#x27;,\n",
       "                                                                   SimpleImputer()),\n",
       "                                                                  (&#x27;scaler&#x27;,\n",
       "                                                                   StandardScaler())]),\n",
       "                                                  [&#x27;floor_area_sqm&#x27;, &#x27;mid&#x27;,\n",
       "                                                   &#x27;hdb_age&#x27;, &#x27;max_floor_lvl&#x27;,\n",
       "                                                   &#x27;Mall_Nearest_Distance&#x27;,\n",
       "                                                   &#x27;Hawker_Nearest_Distance&#x27;,\n",
       "                                                   &#x27;mrt_nearest_distance&#x27;,\n",
       "                                                   &#x27;cutoff_point&#x27;]),\n",
       "                                                 (&#x27;cat&#x27;,\n",
       "                                                  Pipeline(steps=[(&#x27;encoder&#x27;,\n",
       "                                                                   OneHotEncoder(drop=&#x27;first&#x27;,\n",
       "                                                                                 handle_unknown=&#x27;ignore&#x27;))]),\n",
       "                                                  [&#x27;flat_type&#x27;, &#x27;flat_model&#x27;,\n",
       "                                                   &#x27;Tranc_Year&#x27;,\n",
       "                                                   &#x27;planning_area&#x27;,\n",
       "                                                   &#x27;bus_interchange&#x27;,\n",
       "                                                   &#x27;mrt_interchange&#x27;])])),\n",
       "                (&#x27;ENet&#x27;, ElasticNet())])</pre><b>In a Jupyter environment, please rerun this cell to show the HTML representation or trust the notebook. <br />On GitHub, the HTML representation is unable to render, please try loading this page with nbviewer.org.</b></div><div class=\"sk-container\" hidden><div class=\"sk-item sk-dashed-wrapped\"><div class=\"sk-label-container\"><div class=\"sk-label sk-toggleable\"><input class=\"sk-toggleable__control sk-hidden--visually\" id=\"sk-estimator-id-51\" type=\"checkbox\" ><label for=\"sk-estimator-id-51\" class=\"sk-toggleable__label sk-toggleable__label-arrow\">Pipeline</label><div class=\"sk-toggleable__content\"><pre>Pipeline(steps=[(&#x27;preprocessor&#x27;,\n",
       "                 ColumnTransformer(transformers=[(&#x27;num&#x27;,\n",
       "                                                  Pipeline(steps=[(&#x27;simple &#x27;\n",
       "                                                                   &#x27;impute&#x27;,\n",
       "                                                                   SimpleImputer()),\n",
       "                                                                  (&#x27;scaler&#x27;,\n",
       "                                                                   StandardScaler())]),\n",
       "                                                  [&#x27;floor_area_sqm&#x27;, &#x27;mid&#x27;,\n",
       "                                                   &#x27;hdb_age&#x27;, &#x27;max_floor_lvl&#x27;,\n",
       "                                                   &#x27;Mall_Nearest_Distance&#x27;,\n",
       "                                                   &#x27;Hawker_Nearest_Distance&#x27;,\n",
       "                                                   &#x27;mrt_nearest_distance&#x27;,\n",
       "                                                   &#x27;cutoff_point&#x27;]),\n",
       "                                                 (&#x27;cat&#x27;,\n",
       "                                                  Pipeline(steps=[(&#x27;encoder&#x27;,\n",
       "                                                                   OneHotEncoder(drop=&#x27;first&#x27;,\n",
       "                                                                                 handle_unknown=&#x27;ignore&#x27;))]),\n",
       "                                                  [&#x27;flat_type&#x27;, &#x27;flat_model&#x27;,\n",
       "                                                   &#x27;Tranc_Year&#x27;,\n",
       "                                                   &#x27;planning_area&#x27;,\n",
       "                                                   &#x27;bus_interchange&#x27;,\n",
       "                                                   &#x27;mrt_interchange&#x27;])])),\n",
       "                (&#x27;ENet&#x27;, ElasticNet())])</pre></div></div></div><div class=\"sk-serial\"><div class=\"sk-item sk-dashed-wrapped\"><div class=\"sk-label-container\"><div class=\"sk-label sk-toggleable\"><input class=\"sk-toggleable__control sk-hidden--visually\" id=\"sk-estimator-id-52\" type=\"checkbox\" ><label for=\"sk-estimator-id-52\" class=\"sk-toggleable__label sk-toggleable__label-arrow\">preprocessor: ColumnTransformer</label><div class=\"sk-toggleable__content\"><pre>ColumnTransformer(transformers=[(&#x27;num&#x27;,\n",
       "                                 Pipeline(steps=[(&#x27;simple impute&#x27;,\n",
       "                                                  SimpleImputer()),\n",
       "                                                 (&#x27;scaler&#x27;, StandardScaler())]),\n",
       "                                 [&#x27;floor_area_sqm&#x27;, &#x27;mid&#x27;, &#x27;hdb_age&#x27;,\n",
       "                                  &#x27;max_floor_lvl&#x27;, &#x27;Mall_Nearest_Distance&#x27;,\n",
       "                                  &#x27;Hawker_Nearest_Distance&#x27;,\n",
       "                                  &#x27;mrt_nearest_distance&#x27;, &#x27;cutoff_point&#x27;]),\n",
       "                                (&#x27;cat&#x27;,\n",
       "                                 Pipeline(steps=[(&#x27;encoder&#x27;,\n",
       "                                                  OneHotEncoder(drop=&#x27;first&#x27;,\n",
       "                                                                handle_unknown=&#x27;ignore&#x27;))]),\n",
       "                                 [&#x27;flat_type&#x27;, &#x27;flat_model&#x27;, &#x27;Tranc_Year&#x27;,\n",
       "                                  &#x27;planning_area&#x27;, &#x27;bus_interchange&#x27;,\n",
       "                                  &#x27;mrt_interchange&#x27;])])</pre></div></div></div><div class=\"sk-parallel\"><div class=\"sk-parallel-item\"><div class=\"sk-item\"><div class=\"sk-label-container\"><div class=\"sk-label sk-toggleable\"><input class=\"sk-toggleable__control sk-hidden--visually\" id=\"sk-estimator-id-53\" type=\"checkbox\" ><label for=\"sk-estimator-id-53\" class=\"sk-toggleable__label sk-toggleable__label-arrow\">num</label><div class=\"sk-toggleable__content\"><pre>[&#x27;floor_area_sqm&#x27;, &#x27;mid&#x27;, &#x27;hdb_age&#x27;, &#x27;max_floor_lvl&#x27;, &#x27;Mall_Nearest_Distance&#x27;, &#x27;Hawker_Nearest_Distance&#x27;, &#x27;mrt_nearest_distance&#x27;, &#x27;cutoff_point&#x27;]</pre></div></div></div><div class=\"sk-serial\"><div class=\"sk-item\"><div class=\"sk-serial\"><div class=\"sk-item\"><div class=\"sk-estimator sk-toggleable\"><input class=\"sk-toggleable__control sk-hidden--visually\" id=\"sk-estimator-id-54\" type=\"checkbox\" ><label for=\"sk-estimator-id-54\" class=\"sk-toggleable__label sk-toggleable__label-arrow\">SimpleImputer</label><div class=\"sk-toggleable__content\"><pre>SimpleImputer()</pre></div></div></div><div class=\"sk-item\"><div class=\"sk-estimator sk-toggleable\"><input class=\"sk-toggleable__control sk-hidden--visually\" id=\"sk-estimator-id-55\" type=\"checkbox\" ><label for=\"sk-estimator-id-55\" class=\"sk-toggleable__label sk-toggleable__label-arrow\">StandardScaler</label><div class=\"sk-toggleable__content\"><pre>StandardScaler()</pre></div></div></div></div></div></div></div></div><div class=\"sk-parallel-item\"><div class=\"sk-item\"><div class=\"sk-label-container\"><div class=\"sk-label sk-toggleable\"><input class=\"sk-toggleable__control sk-hidden--visually\" id=\"sk-estimator-id-56\" type=\"checkbox\" ><label for=\"sk-estimator-id-56\" class=\"sk-toggleable__label sk-toggleable__label-arrow\">cat</label><div class=\"sk-toggleable__content\"><pre>[&#x27;flat_type&#x27;, &#x27;flat_model&#x27;, &#x27;Tranc_Year&#x27;, &#x27;planning_area&#x27;, &#x27;bus_interchange&#x27;, &#x27;mrt_interchange&#x27;]</pre></div></div></div><div class=\"sk-serial\"><div class=\"sk-item\"><div class=\"sk-serial\"><div class=\"sk-item\"><div class=\"sk-estimator sk-toggleable\"><input class=\"sk-toggleable__control sk-hidden--visually\" id=\"sk-estimator-id-57\" type=\"checkbox\" ><label for=\"sk-estimator-id-57\" class=\"sk-toggleable__label sk-toggleable__label-arrow\">OneHotEncoder</label><div class=\"sk-toggleable__content\"><pre>OneHotEncoder(drop=&#x27;first&#x27;, handle_unknown=&#x27;ignore&#x27;)</pre></div></div></div></div></div></div></div></div></div></div><div class=\"sk-item\"><div class=\"sk-estimator sk-toggleable\"><input class=\"sk-toggleable__control sk-hidden--visually\" id=\"sk-estimator-id-58\" type=\"checkbox\" ><label for=\"sk-estimator-id-58\" class=\"sk-toggleable__label sk-toggleable__label-arrow\">ElasticNet</label><div class=\"sk-toggleable__content\"><pre>ElasticNet()</pre></div></div></div></div></div></div></div>"
      ],
      "text/plain": [
       "Pipeline(steps=[('preprocessor',\n",
       "                 ColumnTransformer(transformers=[('num',\n",
       "                                                  Pipeline(steps=[('simple '\n",
       "                                                                   'impute',\n",
       "                                                                   SimpleImputer()),\n",
       "                                                                  ('scaler',\n",
       "                                                                   StandardScaler())]),\n",
       "                                                  ['floor_area_sqm', 'mid',\n",
       "                                                   'hdb_age', 'max_floor_lvl',\n",
       "                                                   'Mall_Nearest_Distance',\n",
       "                                                   'Hawker_Nearest_Distance',\n",
       "                                                   'mrt_nearest_distance',\n",
       "                                                   'cutoff_point']),\n",
       "                                                 ('cat',\n",
       "                                                  Pipeline(steps=[('encoder',\n",
       "                                                                   OneHotEncoder(drop='first',\n",
       "                                                                                 handle_unknown='ignore'))]),\n",
       "                                                  ['flat_type', 'flat_model',\n",
       "                                                   'Tranc_Year',\n",
       "                                                   'planning_area',\n",
       "                                                   'bus_interchange',\n",
       "                                                   'mrt_interchange'])])),\n",
       "                ('ENet', ElasticNet())])"
      ]
     },
     "execution_count": 47,
     "metadata": {},
     "output_type": "execute_result"
    }
   ],
   "source": [
    "e_net.fit(X_train, y_train)"
   ]
  },
  {
   "cell_type": "code",
   "execution_count": 48,
   "id": "2fb5250b-4b8d-438e-bf93-a3dd1c2ddd9c",
   "metadata": {},
   "outputs": [
    {
     "name": "stdout",
     "output_type": "stream",
     "text": [
      "The train score is: 0.665517\n",
      "The test score is: 0.665156\n"
     ]
    }
   ],
   "source": [
    "print(f\"The train score is: {round(e_net.score(X_train, y_train), 6)}\")\n",
    "print(f\"The test score is: {round(e_net.score(X_test, y_test), 6)}\")"
   ]
  },
  {
   "cell_type": "markdown",
   "id": "68fae39c-af0c-44d8-a00f-f885662df90e",
   "metadata": {},
   "source": [
    "Wow! That is a huge drop in performance!  \n",
    "Maybe do a grid sreach CV to tune the hyperparameters."
   ]
  },
  {
   "cell_type": "code",
   "execution_count": 49,
   "id": "d091402a-b37c-46ea-ad5f-a9b2352a6ebd",
   "metadata": {},
   "outputs": [],
   "source": [
    "enet_CV = Pipeline(\n",
    "    steps=[(\"preprocessor\", preprocessor), (\"Ridge CV\", ElasticNetCV(l1_ratio=[.1, .3 , .5, .7, .9], \n",
    "                                                                     max_iter=10000, #when l1 ratio is 0.9, it is close to a lasso, which takes a long time to run\n",
    "                                                                     cv=5\n",
    "                                                                    ))]\n",
    ")"
   ]
  },
  {
   "cell_type": "code",
   "execution_count": 50,
   "id": "056d543f-54df-4947-b26b-790c582a2238",
   "metadata": {},
   "outputs": [
    {
     "data": {
      "text/html": [
       "<style>#sk-container-id-8 {color: black;background-color: white;}#sk-container-id-8 pre{padding: 0;}#sk-container-id-8 div.sk-toggleable {background-color: white;}#sk-container-id-8 label.sk-toggleable__label {cursor: pointer;display: block;width: 100%;margin-bottom: 0;padding: 0.3em;box-sizing: border-box;text-align: center;}#sk-container-id-8 label.sk-toggleable__label-arrow:before {content: \"▸\";float: left;margin-right: 0.25em;color: #696969;}#sk-container-id-8 label.sk-toggleable__label-arrow:hover:before {color: black;}#sk-container-id-8 div.sk-estimator:hover label.sk-toggleable__label-arrow:before {color: black;}#sk-container-id-8 div.sk-toggleable__content {max-height: 0;max-width: 0;overflow: hidden;text-align: left;background-color: #f0f8ff;}#sk-container-id-8 div.sk-toggleable__content pre {margin: 0.2em;color: black;border-radius: 0.25em;background-color: #f0f8ff;}#sk-container-id-8 input.sk-toggleable__control:checked~div.sk-toggleable__content {max-height: 200px;max-width: 100%;overflow: auto;}#sk-container-id-8 input.sk-toggleable__control:checked~label.sk-toggleable__label-arrow:before {content: \"▾\";}#sk-container-id-8 div.sk-estimator input.sk-toggleable__control:checked~label.sk-toggleable__label {background-color: #d4ebff;}#sk-container-id-8 div.sk-label input.sk-toggleable__control:checked~label.sk-toggleable__label {background-color: #d4ebff;}#sk-container-id-8 input.sk-hidden--visually {border: 0;clip: rect(1px 1px 1px 1px);clip: rect(1px, 1px, 1px, 1px);height: 1px;margin: -1px;overflow: hidden;padding: 0;position: absolute;width: 1px;}#sk-container-id-8 div.sk-estimator {font-family: monospace;background-color: #f0f8ff;border: 1px dotted black;border-radius: 0.25em;box-sizing: border-box;margin-bottom: 0.5em;}#sk-container-id-8 div.sk-estimator:hover {background-color: #d4ebff;}#sk-container-id-8 div.sk-parallel-item::after {content: \"\";width: 100%;border-bottom: 1px solid gray;flex-grow: 1;}#sk-container-id-8 div.sk-label:hover label.sk-toggleable__label {background-color: #d4ebff;}#sk-container-id-8 div.sk-serial::before {content: \"\";position: absolute;border-left: 1px solid gray;box-sizing: border-box;top: 0;bottom: 0;left: 50%;z-index: 0;}#sk-container-id-8 div.sk-serial {display: flex;flex-direction: column;align-items: center;background-color: white;padding-right: 0.2em;padding-left: 0.2em;position: relative;}#sk-container-id-8 div.sk-item {position: relative;z-index: 1;}#sk-container-id-8 div.sk-parallel {display: flex;align-items: stretch;justify-content: center;background-color: white;position: relative;}#sk-container-id-8 div.sk-item::before, #sk-container-id-8 div.sk-parallel-item::before {content: \"\";position: absolute;border-left: 1px solid gray;box-sizing: border-box;top: 0;bottom: 0;left: 50%;z-index: -1;}#sk-container-id-8 div.sk-parallel-item {display: flex;flex-direction: column;z-index: 1;position: relative;background-color: white;}#sk-container-id-8 div.sk-parallel-item:first-child::after {align-self: flex-end;width: 50%;}#sk-container-id-8 div.sk-parallel-item:last-child::after {align-self: flex-start;width: 50%;}#sk-container-id-8 div.sk-parallel-item:only-child::after {width: 0;}#sk-container-id-8 div.sk-dashed-wrapped {border: 1px dashed gray;margin: 0 0.4em 0.5em 0.4em;box-sizing: border-box;padding-bottom: 0.4em;background-color: white;}#sk-container-id-8 div.sk-label label {font-family: monospace;font-weight: bold;display: inline-block;line-height: 1.2em;}#sk-container-id-8 div.sk-label-container {text-align: center;}#sk-container-id-8 div.sk-container {/* jupyter's `normalize.less` sets `[hidden] { display: none; }` but bootstrap.min.css set `[hidden] { display: none !important; }` so we also need the `!important` here to be able to override the default hidden behavior on the sphinx rendered scikit-learn.org. See: https://github.com/scikit-learn/scikit-learn/issues/21755 */display: inline-block !important;position: relative;}#sk-container-id-8 div.sk-text-repr-fallback {display: none;}</style><div id=\"sk-container-id-8\" class=\"sk-top-container\"><div class=\"sk-text-repr-fallback\"><pre>Pipeline(steps=[(&#x27;preprocessor&#x27;,\n",
       "                 ColumnTransformer(transformers=[(&#x27;num&#x27;,\n",
       "                                                  Pipeline(steps=[(&#x27;simple &#x27;\n",
       "                                                                   &#x27;impute&#x27;,\n",
       "                                                                   SimpleImputer()),\n",
       "                                                                  (&#x27;scaler&#x27;,\n",
       "                                                                   StandardScaler())]),\n",
       "                                                  [&#x27;floor_area_sqm&#x27;, &#x27;mid&#x27;,\n",
       "                                                   &#x27;hdb_age&#x27;, &#x27;max_floor_lvl&#x27;,\n",
       "                                                   &#x27;Mall_Nearest_Distance&#x27;,\n",
       "                                                   &#x27;Hawker_Nearest_Distance&#x27;,\n",
       "                                                   &#x27;mrt_nearest_distance&#x27;,\n",
       "                                                   &#x27;cutoff_point&#x27;]),\n",
       "                                                 (&#x27;cat&#x27;,\n",
       "                                                  Pipeline(steps=[(&#x27;encoder&#x27;,\n",
       "                                                                   OneHotEncoder(drop=&#x27;first&#x27;,\n",
       "                                                                                 handle_unknown=&#x27;ignore&#x27;))]),\n",
       "                                                  [&#x27;flat_type&#x27;, &#x27;flat_model&#x27;,\n",
       "                                                   &#x27;Tranc_Year&#x27;,\n",
       "                                                   &#x27;planning_area&#x27;,\n",
       "                                                   &#x27;bus_interchange&#x27;,\n",
       "                                                   &#x27;mrt_interchange&#x27;])])),\n",
       "                (&#x27;Ridge CV&#x27;,\n",
       "                 ElasticNetCV(cv=5, l1_ratio=[0.1, 0.3, 0.5, 0.7, 0.9],\n",
       "                              max_iter=10000))])</pre><b>In a Jupyter environment, please rerun this cell to show the HTML representation or trust the notebook. <br />On GitHub, the HTML representation is unable to render, please try loading this page with nbviewer.org.</b></div><div class=\"sk-container\" hidden><div class=\"sk-item sk-dashed-wrapped\"><div class=\"sk-label-container\"><div class=\"sk-label sk-toggleable\"><input class=\"sk-toggleable__control sk-hidden--visually\" id=\"sk-estimator-id-59\" type=\"checkbox\" ><label for=\"sk-estimator-id-59\" class=\"sk-toggleable__label sk-toggleable__label-arrow\">Pipeline</label><div class=\"sk-toggleable__content\"><pre>Pipeline(steps=[(&#x27;preprocessor&#x27;,\n",
       "                 ColumnTransformer(transformers=[(&#x27;num&#x27;,\n",
       "                                                  Pipeline(steps=[(&#x27;simple &#x27;\n",
       "                                                                   &#x27;impute&#x27;,\n",
       "                                                                   SimpleImputer()),\n",
       "                                                                  (&#x27;scaler&#x27;,\n",
       "                                                                   StandardScaler())]),\n",
       "                                                  [&#x27;floor_area_sqm&#x27;, &#x27;mid&#x27;,\n",
       "                                                   &#x27;hdb_age&#x27;, &#x27;max_floor_lvl&#x27;,\n",
       "                                                   &#x27;Mall_Nearest_Distance&#x27;,\n",
       "                                                   &#x27;Hawker_Nearest_Distance&#x27;,\n",
       "                                                   &#x27;mrt_nearest_distance&#x27;,\n",
       "                                                   &#x27;cutoff_point&#x27;]),\n",
       "                                                 (&#x27;cat&#x27;,\n",
       "                                                  Pipeline(steps=[(&#x27;encoder&#x27;,\n",
       "                                                                   OneHotEncoder(drop=&#x27;first&#x27;,\n",
       "                                                                                 handle_unknown=&#x27;ignore&#x27;))]),\n",
       "                                                  [&#x27;flat_type&#x27;, &#x27;flat_model&#x27;,\n",
       "                                                   &#x27;Tranc_Year&#x27;,\n",
       "                                                   &#x27;planning_area&#x27;,\n",
       "                                                   &#x27;bus_interchange&#x27;,\n",
       "                                                   &#x27;mrt_interchange&#x27;])])),\n",
       "                (&#x27;Ridge CV&#x27;,\n",
       "                 ElasticNetCV(cv=5, l1_ratio=[0.1, 0.3, 0.5, 0.7, 0.9],\n",
       "                              max_iter=10000))])</pre></div></div></div><div class=\"sk-serial\"><div class=\"sk-item sk-dashed-wrapped\"><div class=\"sk-label-container\"><div class=\"sk-label sk-toggleable\"><input class=\"sk-toggleable__control sk-hidden--visually\" id=\"sk-estimator-id-60\" type=\"checkbox\" ><label for=\"sk-estimator-id-60\" class=\"sk-toggleable__label sk-toggleable__label-arrow\">preprocessor: ColumnTransformer</label><div class=\"sk-toggleable__content\"><pre>ColumnTransformer(transformers=[(&#x27;num&#x27;,\n",
       "                                 Pipeline(steps=[(&#x27;simple impute&#x27;,\n",
       "                                                  SimpleImputer()),\n",
       "                                                 (&#x27;scaler&#x27;, StandardScaler())]),\n",
       "                                 [&#x27;floor_area_sqm&#x27;, &#x27;mid&#x27;, &#x27;hdb_age&#x27;,\n",
       "                                  &#x27;max_floor_lvl&#x27;, &#x27;Mall_Nearest_Distance&#x27;,\n",
       "                                  &#x27;Hawker_Nearest_Distance&#x27;,\n",
       "                                  &#x27;mrt_nearest_distance&#x27;, &#x27;cutoff_point&#x27;]),\n",
       "                                (&#x27;cat&#x27;,\n",
       "                                 Pipeline(steps=[(&#x27;encoder&#x27;,\n",
       "                                                  OneHotEncoder(drop=&#x27;first&#x27;,\n",
       "                                                                handle_unknown=&#x27;ignore&#x27;))]),\n",
       "                                 [&#x27;flat_type&#x27;, &#x27;flat_model&#x27;, &#x27;Tranc_Year&#x27;,\n",
       "                                  &#x27;planning_area&#x27;, &#x27;bus_interchange&#x27;,\n",
       "                                  &#x27;mrt_interchange&#x27;])])</pre></div></div></div><div class=\"sk-parallel\"><div class=\"sk-parallel-item\"><div class=\"sk-item\"><div class=\"sk-label-container\"><div class=\"sk-label sk-toggleable\"><input class=\"sk-toggleable__control sk-hidden--visually\" id=\"sk-estimator-id-61\" type=\"checkbox\" ><label for=\"sk-estimator-id-61\" class=\"sk-toggleable__label sk-toggleable__label-arrow\">num</label><div class=\"sk-toggleable__content\"><pre>[&#x27;floor_area_sqm&#x27;, &#x27;mid&#x27;, &#x27;hdb_age&#x27;, &#x27;max_floor_lvl&#x27;, &#x27;Mall_Nearest_Distance&#x27;, &#x27;Hawker_Nearest_Distance&#x27;, &#x27;mrt_nearest_distance&#x27;, &#x27;cutoff_point&#x27;]</pre></div></div></div><div class=\"sk-serial\"><div class=\"sk-item\"><div class=\"sk-serial\"><div class=\"sk-item\"><div class=\"sk-estimator sk-toggleable\"><input class=\"sk-toggleable__control sk-hidden--visually\" id=\"sk-estimator-id-62\" type=\"checkbox\" ><label for=\"sk-estimator-id-62\" class=\"sk-toggleable__label sk-toggleable__label-arrow\">SimpleImputer</label><div class=\"sk-toggleable__content\"><pre>SimpleImputer()</pre></div></div></div><div class=\"sk-item\"><div class=\"sk-estimator sk-toggleable\"><input class=\"sk-toggleable__control sk-hidden--visually\" id=\"sk-estimator-id-63\" type=\"checkbox\" ><label for=\"sk-estimator-id-63\" class=\"sk-toggleable__label sk-toggleable__label-arrow\">StandardScaler</label><div class=\"sk-toggleable__content\"><pre>StandardScaler()</pre></div></div></div></div></div></div></div></div><div class=\"sk-parallel-item\"><div class=\"sk-item\"><div class=\"sk-label-container\"><div class=\"sk-label sk-toggleable\"><input class=\"sk-toggleable__control sk-hidden--visually\" id=\"sk-estimator-id-64\" type=\"checkbox\" ><label for=\"sk-estimator-id-64\" class=\"sk-toggleable__label sk-toggleable__label-arrow\">cat</label><div class=\"sk-toggleable__content\"><pre>[&#x27;flat_type&#x27;, &#x27;flat_model&#x27;, &#x27;Tranc_Year&#x27;, &#x27;planning_area&#x27;, &#x27;bus_interchange&#x27;, &#x27;mrt_interchange&#x27;]</pre></div></div></div><div class=\"sk-serial\"><div class=\"sk-item\"><div class=\"sk-serial\"><div class=\"sk-item\"><div class=\"sk-estimator sk-toggleable\"><input class=\"sk-toggleable__control sk-hidden--visually\" id=\"sk-estimator-id-65\" type=\"checkbox\" ><label for=\"sk-estimator-id-65\" class=\"sk-toggleable__label sk-toggleable__label-arrow\">OneHotEncoder</label><div class=\"sk-toggleable__content\"><pre>OneHotEncoder(drop=&#x27;first&#x27;, handle_unknown=&#x27;ignore&#x27;)</pre></div></div></div></div></div></div></div></div></div></div><div class=\"sk-item\"><div class=\"sk-estimator sk-toggleable\"><input class=\"sk-toggleable__control sk-hidden--visually\" id=\"sk-estimator-id-66\" type=\"checkbox\" ><label for=\"sk-estimator-id-66\" class=\"sk-toggleable__label sk-toggleable__label-arrow\">ElasticNetCV</label><div class=\"sk-toggleable__content\"><pre>ElasticNetCV(cv=5, l1_ratio=[0.1, 0.3, 0.5, 0.7, 0.9], max_iter=10000)</pre></div></div></div></div></div></div></div>"
      ],
      "text/plain": [
       "Pipeline(steps=[('preprocessor',\n",
       "                 ColumnTransformer(transformers=[('num',\n",
       "                                                  Pipeline(steps=[('simple '\n",
       "                                                                   'impute',\n",
       "                                                                   SimpleImputer()),\n",
       "                                                                  ('scaler',\n",
       "                                                                   StandardScaler())]),\n",
       "                                                  ['floor_area_sqm', 'mid',\n",
       "                                                   'hdb_age', 'max_floor_lvl',\n",
       "                                                   'Mall_Nearest_Distance',\n",
       "                                                   'Hawker_Nearest_Distance',\n",
       "                                                   'mrt_nearest_distance',\n",
       "                                                   'cutoff_point']),\n",
       "                                                 ('cat',\n",
       "                                                  Pipeline(steps=[('encoder',\n",
       "                                                                   OneHotEncoder(drop='first',\n",
       "                                                                                 handle_unknown='ignore'))]),\n",
       "                                                  ['flat_type', 'flat_model',\n",
       "                                                   'Tranc_Year',\n",
       "                                                   'planning_area',\n",
       "                                                   'bus_interchange',\n",
       "                                                   'mrt_interchange'])])),\n",
       "                ('Ridge CV',\n",
       "                 ElasticNetCV(cv=5, l1_ratio=[0.1, 0.3, 0.5, 0.7, 0.9],\n",
       "                              max_iter=10000))])"
      ]
     },
     "execution_count": 50,
     "metadata": {},
     "output_type": "execute_result"
    }
   ],
   "source": [
    "enet_CV.fit(X_train, y_train)"
   ]
  },
  {
   "cell_type": "code",
   "execution_count": 51,
   "id": "8ec01cbf-7700-4905-9c61-e87322a5c7f7",
   "metadata": {},
   "outputs": [
    {
     "name": "stdout",
     "output_type": "stream",
     "text": [
      "The train score is: 0.160196\n",
      "The test score is: 0.160537\n"
     ]
    }
   ],
   "source": [
    "print(f\"The train score is: {round(enet_CV.score(X_train, y_train), 6)}\")\n",
    "print(f\"The test score is: {round(enet_CV.score(X_test, y_test), 6)}\")"
   ]
  },
  {
   "cell_type": "markdown",
   "id": "3aa7711c-f0b9-40ef-8f11-b243205514c6",
   "metadata": {},
   "source": [
    "Wow, this is a surprisingly low socre...  \n",
    "What about grid search CV?"
   ]
  },
  {
   "cell_type": "code",
   "execution_count": 52,
   "id": "e30e88b6-49d1-42d6-a06f-b1ec53d490c0",
   "metadata": {},
   "outputs": [],
   "source": [
    "# Perform grid search using GridSearchCV()\n",
    "enet_grid_search = GridSearchCV(ElasticNet(max_iter=10000),\n",
    "                           param_grid={'alpha': [0.1, 1, 10],\n",
    "                                       'l1_ratio':[0.1, 0.3, 0.5, 0.7, 0.9],\n",
    "                                       'selection': ['cyclic', 'random'],\n",
    "                                      },\n",
    "                           cv=5,\n",
    "                           verbose = 1,\n",
    "                           return_train_score=True\n",
    "                           )\n",
    "\n",
    "enet_grid_search_CV = Pipeline(\n",
    "    steps=[(\"preprocessor\", preprocessor), (\"Lasso Grid Search\", enet_grid_search)]\n",
    ") "
   ]
  },
  {
   "cell_type": "code",
   "execution_count": 53,
   "id": "ab14173c-8075-42a6-822d-c5570ab96494",
   "metadata": {},
   "outputs": [
    {
     "name": "stdout",
     "output_type": "stream",
     "text": [
      "Fitting 5 folds for each of 30 candidates, totalling 150 fits\n"
     ]
    },
    {
     "data": {
      "text/html": [
       "<style>#sk-container-id-9 {color: black;background-color: white;}#sk-container-id-9 pre{padding: 0;}#sk-container-id-9 div.sk-toggleable {background-color: white;}#sk-container-id-9 label.sk-toggleable__label {cursor: pointer;display: block;width: 100%;margin-bottom: 0;padding: 0.3em;box-sizing: border-box;text-align: center;}#sk-container-id-9 label.sk-toggleable__label-arrow:before {content: \"▸\";float: left;margin-right: 0.25em;color: #696969;}#sk-container-id-9 label.sk-toggleable__label-arrow:hover:before {color: black;}#sk-container-id-9 div.sk-estimator:hover label.sk-toggleable__label-arrow:before {color: black;}#sk-container-id-9 div.sk-toggleable__content {max-height: 0;max-width: 0;overflow: hidden;text-align: left;background-color: #f0f8ff;}#sk-container-id-9 div.sk-toggleable__content pre {margin: 0.2em;color: black;border-radius: 0.25em;background-color: #f0f8ff;}#sk-container-id-9 input.sk-toggleable__control:checked~div.sk-toggleable__content {max-height: 200px;max-width: 100%;overflow: auto;}#sk-container-id-9 input.sk-toggleable__control:checked~label.sk-toggleable__label-arrow:before {content: \"▾\";}#sk-container-id-9 div.sk-estimator input.sk-toggleable__control:checked~label.sk-toggleable__label {background-color: #d4ebff;}#sk-container-id-9 div.sk-label input.sk-toggleable__control:checked~label.sk-toggleable__label {background-color: #d4ebff;}#sk-container-id-9 input.sk-hidden--visually {border: 0;clip: rect(1px 1px 1px 1px);clip: rect(1px, 1px, 1px, 1px);height: 1px;margin: -1px;overflow: hidden;padding: 0;position: absolute;width: 1px;}#sk-container-id-9 div.sk-estimator {font-family: monospace;background-color: #f0f8ff;border: 1px dotted black;border-radius: 0.25em;box-sizing: border-box;margin-bottom: 0.5em;}#sk-container-id-9 div.sk-estimator:hover {background-color: #d4ebff;}#sk-container-id-9 div.sk-parallel-item::after {content: \"\";width: 100%;border-bottom: 1px solid gray;flex-grow: 1;}#sk-container-id-9 div.sk-label:hover label.sk-toggleable__label {background-color: #d4ebff;}#sk-container-id-9 div.sk-serial::before {content: \"\";position: absolute;border-left: 1px solid gray;box-sizing: border-box;top: 0;bottom: 0;left: 50%;z-index: 0;}#sk-container-id-9 div.sk-serial {display: flex;flex-direction: column;align-items: center;background-color: white;padding-right: 0.2em;padding-left: 0.2em;position: relative;}#sk-container-id-9 div.sk-item {position: relative;z-index: 1;}#sk-container-id-9 div.sk-parallel {display: flex;align-items: stretch;justify-content: center;background-color: white;position: relative;}#sk-container-id-9 div.sk-item::before, #sk-container-id-9 div.sk-parallel-item::before {content: \"\";position: absolute;border-left: 1px solid gray;box-sizing: border-box;top: 0;bottom: 0;left: 50%;z-index: -1;}#sk-container-id-9 div.sk-parallel-item {display: flex;flex-direction: column;z-index: 1;position: relative;background-color: white;}#sk-container-id-9 div.sk-parallel-item:first-child::after {align-self: flex-end;width: 50%;}#sk-container-id-9 div.sk-parallel-item:last-child::after {align-self: flex-start;width: 50%;}#sk-container-id-9 div.sk-parallel-item:only-child::after {width: 0;}#sk-container-id-9 div.sk-dashed-wrapped {border: 1px dashed gray;margin: 0 0.4em 0.5em 0.4em;box-sizing: border-box;padding-bottom: 0.4em;background-color: white;}#sk-container-id-9 div.sk-label label {font-family: monospace;font-weight: bold;display: inline-block;line-height: 1.2em;}#sk-container-id-9 div.sk-label-container {text-align: center;}#sk-container-id-9 div.sk-container {/* jupyter's `normalize.less` sets `[hidden] { display: none; }` but bootstrap.min.css set `[hidden] { display: none !important; }` so we also need the `!important` here to be able to override the default hidden behavior on the sphinx rendered scikit-learn.org. See: https://github.com/scikit-learn/scikit-learn/issues/21755 */display: inline-block !important;position: relative;}#sk-container-id-9 div.sk-text-repr-fallback {display: none;}</style><div id=\"sk-container-id-9\" class=\"sk-top-container\"><div class=\"sk-text-repr-fallback\"><pre>Pipeline(steps=[(&#x27;preprocessor&#x27;,\n",
       "                 ColumnTransformer(transformers=[(&#x27;num&#x27;,\n",
       "                                                  Pipeline(steps=[(&#x27;simple &#x27;\n",
       "                                                                   &#x27;impute&#x27;,\n",
       "                                                                   SimpleImputer()),\n",
       "                                                                  (&#x27;scaler&#x27;,\n",
       "                                                                   StandardScaler())]),\n",
       "                                                  [&#x27;floor_area_sqm&#x27;, &#x27;mid&#x27;,\n",
       "                                                   &#x27;hdb_age&#x27;, &#x27;max_floor_lvl&#x27;,\n",
       "                                                   &#x27;Mall_Nearest_Distance&#x27;,\n",
       "                                                   &#x27;Hawker_Nearest_Distance&#x27;,\n",
       "                                                   &#x27;mrt_nearest_distance&#x27;,\n",
       "                                                   &#x27;cutoff_point&#x27;]),\n",
       "                                                 (&#x27;cat&#x27;,\n",
       "                                                  Pipeline(steps=[(&#x27;encoder&#x27;,\n",
       "                                                                   OneHotEncoder(drop=&#x27;first&#x27;,\n",
       "                                                                                 handle_unknown=&#x27;ignore&#x27;))]),\n",
       "                                                  [&#x27;flat_type&#x27;, &#x27;flat_model&#x27;,\n",
       "                                                   &#x27;Tranc_Year&#x27;,\n",
       "                                                   &#x27;planning_area&#x27;,\n",
       "                                                   &#x27;bus_interchange&#x27;,\n",
       "                                                   &#x27;mrt_interchange&#x27;])])),\n",
       "                (&#x27;Lasso Grid Search&#x27;,\n",
       "                 GridSearchCV(cv=5, estimator=ElasticNet(max_iter=10000),\n",
       "                              param_grid={&#x27;alpha&#x27;: [0.1, 1, 10],\n",
       "                                          &#x27;l1_ratio&#x27;: [0.1, 0.3, 0.5, 0.7, 0.9],\n",
       "                                          &#x27;selection&#x27;: [&#x27;cyclic&#x27;, &#x27;random&#x27;]},\n",
       "                              return_train_score=True, verbose=1))])</pre><b>In a Jupyter environment, please rerun this cell to show the HTML representation or trust the notebook. <br />On GitHub, the HTML representation is unable to render, please try loading this page with nbviewer.org.</b></div><div class=\"sk-container\" hidden><div class=\"sk-item sk-dashed-wrapped\"><div class=\"sk-label-container\"><div class=\"sk-label sk-toggleable\"><input class=\"sk-toggleable__control sk-hidden--visually\" id=\"sk-estimator-id-67\" type=\"checkbox\" ><label for=\"sk-estimator-id-67\" class=\"sk-toggleable__label sk-toggleable__label-arrow\">Pipeline</label><div class=\"sk-toggleable__content\"><pre>Pipeline(steps=[(&#x27;preprocessor&#x27;,\n",
       "                 ColumnTransformer(transformers=[(&#x27;num&#x27;,\n",
       "                                                  Pipeline(steps=[(&#x27;simple &#x27;\n",
       "                                                                   &#x27;impute&#x27;,\n",
       "                                                                   SimpleImputer()),\n",
       "                                                                  (&#x27;scaler&#x27;,\n",
       "                                                                   StandardScaler())]),\n",
       "                                                  [&#x27;floor_area_sqm&#x27;, &#x27;mid&#x27;,\n",
       "                                                   &#x27;hdb_age&#x27;, &#x27;max_floor_lvl&#x27;,\n",
       "                                                   &#x27;Mall_Nearest_Distance&#x27;,\n",
       "                                                   &#x27;Hawker_Nearest_Distance&#x27;,\n",
       "                                                   &#x27;mrt_nearest_distance&#x27;,\n",
       "                                                   &#x27;cutoff_point&#x27;]),\n",
       "                                                 (&#x27;cat&#x27;,\n",
       "                                                  Pipeline(steps=[(&#x27;encoder&#x27;,\n",
       "                                                                   OneHotEncoder(drop=&#x27;first&#x27;,\n",
       "                                                                                 handle_unknown=&#x27;ignore&#x27;))]),\n",
       "                                                  [&#x27;flat_type&#x27;, &#x27;flat_model&#x27;,\n",
       "                                                   &#x27;Tranc_Year&#x27;,\n",
       "                                                   &#x27;planning_area&#x27;,\n",
       "                                                   &#x27;bus_interchange&#x27;,\n",
       "                                                   &#x27;mrt_interchange&#x27;])])),\n",
       "                (&#x27;Lasso Grid Search&#x27;,\n",
       "                 GridSearchCV(cv=5, estimator=ElasticNet(max_iter=10000),\n",
       "                              param_grid={&#x27;alpha&#x27;: [0.1, 1, 10],\n",
       "                                          &#x27;l1_ratio&#x27;: [0.1, 0.3, 0.5, 0.7, 0.9],\n",
       "                                          &#x27;selection&#x27;: [&#x27;cyclic&#x27;, &#x27;random&#x27;]},\n",
       "                              return_train_score=True, verbose=1))])</pre></div></div></div><div class=\"sk-serial\"><div class=\"sk-item sk-dashed-wrapped\"><div class=\"sk-label-container\"><div class=\"sk-label sk-toggleable\"><input class=\"sk-toggleable__control sk-hidden--visually\" id=\"sk-estimator-id-68\" type=\"checkbox\" ><label for=\"sk-estimator-id-68\" class=\"sk-toggleable__label sk-toggleable__label-arrow\">preprocessor: ColumnTransformer</label><div class=\"sk-toggleable__content\"><pre>ColumnTransformer(transformers=[(&#x27;num&#x27;,\n",
       "                                 Pipeline(steps=[(&#x27;simple impute&#x27;,\n",
       "                                                  SimpleImputer()),\n",
       "                                                 (&#x27;scaler&#x27;, StandardScaler())]),\n",
       "                                 [&#x27;floor_area_sqm&#x27;, &#x27;mid&#x27;, &#x27;hdb_age&#x27;,\n",
       "                                  &#x27;max_floor_lvl&#x27;, &#x27;Mall_Nearest_Distance&#x27;,\n",
       "                                  &#x27;Hawker_Nearest_Distance&#x27;,\n",
       "                                  &#x27;mrt_nearest_distance&#x27;, &#x27;cutoff_point&#x27;]),\n",
       "                                (&#x27;cat&#x27;,\n",
       "                                 Pipeline(steps=[(&#x27;encoder&#x27;,\n",
       "                                                  OneHotEncoder(drop=&#x27;first&#x27;,\n",
       "                                                                handle_unknown=&#x27;ignore&#x27;))]),\n",
       "                                 [&#x27;flat_type&#x27;, &#x27;flat_model&#x27;, &#x27;Tranc_Year&#x27;,\n",
       "                                  &#x27;planning_area&#x27;, &#x27;bus_interchange&#x27;,\n",
       "                                  &#x27;mrt_interchange&#x27;])])</pre></div></div></div><div class=\"sk-parallel\"><div class=\"sk-parallel-item\"><div class=\"sk-item\"><div class=\"sk-label-container\"><div class=\"sk-label sk-toggleable\"><input class=\"sk-toggleable__control sk-hidden--visually\" id=\"sk-estimator-id-69\" type=\"checkbox\" ><label for=\"sk-estimator-id-69\" class=\"sk-toggleable__label sk-toggleable__label-arrow\">num</label><div class=\"sk-toggleable__content\"><pre>[&#x27;floor_area_sqm&#x27;, &#x27;mid&#x27;, &#x27;hdb_age&#x27;, &#x27;max_floor_lvl&#x27;, &#x27;Mall_Nearest_Distance&#x27;, &#x27;Hawker_Nearest_Distance&#x27;, &#x27;mrt_nearest_distance&#x27;, &#x27;cutoff_point&#x27;]</pre></div></div></div><div class=\"sk-serial\"><div class=\"sk-item\"><div class=\"sk-serial\"><div class=\"sk-item\"><div class=\"sk-estimator sk-toggleable\"><input class=\"sk-toggleable__control sk-hidden--visually\" id=\"sk-estimator-id-70\" type=\"checkbox\" ><label for=\"sk-estimator-id-70\" class=\"sk-toggleable__label sk-toggleable__label-arrow\">SimpleImputer</label><div class=\"sk-toggleable__content\"><pre>SimpleImputer()</pre></div></div></div><div class=\"sk-item\"><div class=\"sk-estimator sk-toggleable\"><input class=\"sk-toggleable__control sk-hidden--visually\" id=\"sk-estimator-id-71\" type=\"checkbox\" ><label for=\"sk-estimator-id-71\" class=\"sk-toggleable__label sk-toggleable__label-arrow\">StandardScaler</label><div class=\"sk-toggleable__content\"><pre>StandardScaler()</pre></div></div></div></div></div></div></div></div><div class=\"sk-parallel-item\"><div class=\"sk-item\"><div class=\"sk-label-container\"><div class=\"sk-label sk-toggleable\"><input class=\"sk-toggleable__control sk-hidden--visually\" id=\"sk-estimator-id-72\" type=\"checkbox\" ><label for=\"sk-estimator-id-72\" class=\"sk-toggleable__label sk-toggleable__label-arrow\">cat</label><div class=\"sk-toggleable__content\"><pre>[&#x27;flat_type&#x27;, &#x27;flat_model&#x27;, &#x27;Tranc_Year&#x27;, &#x27;planning_area&#x27;, &#x27;bus_interchange&#x27;, &#x27;mrt_interchange&#x27;]</pre></div></div></div><div class=\"sk-serial\"><div class=\"sk-item\"><div class=\"sk-serial\"><div class=\"sk-item\"><div class=\"sk-estimator sk-toggleable\"><input class=\"sk-toggleable__control sk-hidden--visually\" id=\"sk-estimator-id-73\" type=\"checkbox\" ><label for=\"sk-estimator-id-73\" class=\"sk-toggleable__label sk-toggleable__label-arrow\">OneHotEncoder</label><div class=\"sk-toggleable__content\"><pre>OneHotEncoder(drop=&#x27;first&#x27;, handle_unknown=&#x27;ignore&#x27;)</pre></div></div></div></div></div></div></div></div></div></div><div class=\"sk-item sk-dashed-wrapped\"><div class=\"sk-label-container\"><div class=\"sk-label sk-toggleable\"><input class=\"sk-toggleable__control sk-hidden--visually\" id=\"sk-estimator-id-74\" type=\"checkbox\" ><label for=\"sk-estimator-id-74\" class=\"sk-toggleable__label sk-toggleable__label-arrow\">Lasso Grid Search: GridSearchCV</label><div class=\"sk-toggleable__content\"><pre>GridSearchCV(cv=5, estimator=ElasticNet(max_iter=10000),\n",
       "             param_grid={&#x27;alpha&#x27;: [0.1, 1, 10],\n",
       "                         &#x27;l1_ratio&#x27;: [0.1, 0.3, 0.5, 0.7, 0.9],\n",
       "                         &#x27;selection&#x27;: [&#x27;cyclic&#x27;, &#x27;random&#x27;]},\n",
       "             return_train_score=True, verbose=1)</pre></div></div></div><div class=\"sk-parallel\"><div class=\"sk-parallel-item\"><div class=\"sk-item\"><div class=\"sk-label-container\"><div class=\"sk-label sk-toggleable\"><input class=\"sk-toggleable__control sk-hidden--visually\" id=\"sk-estimator-id-75\" type=\"checkbox\" ><label for=\"sk-estimator-id-75\" class=\"sk-toggleable__label sk-toggleable__label-arrow\">estimator: ElasticNet</label><div class=\"sk-toggleable__content\"><pre>ElasticNet(max_iter=10000)</pre></div></div></div><div class=\"sk-serial\"><div class=\"sk-item\"><div class=\"sk-estimator sk-toggleable\"><input class=\"sk-toggleable__control sk-hidden--visually\" id=\"sk-estimator-id-76\" type=\"checkbox\" ><label for=\"sk-estimator-id-76\" class=\"sk-toggleable__label sk-toggleable__label-arrow\">ElasticNet</label><div class=\"sk-toggleable__content\"><pre>ElasticNet(max_iter=10000)</pre></div></div></div></div></div></div></div></div></div></div></div></div>"
      ],
      "text/plain": [
       "Pipeline(steps=[('preprocessor',\n",
       "                 ColumnTransformer(transformers=[('num',\n",
       "                                                  Pipeline(steps=[('simple '\n",
       "                                                                   'impute',\n",
       "                                                                   SimpleImputer()),\n",
       "                                                                  ('scaler',\n",
       "                                                                   StandardScaler())]),\n",
       "                                                  ['floor_area_sqm', 'mid',\n",
       "                                                   'hdb_age', 'max_floor_lvl',\n",
       "                                                   'Mall_Nearest_Distance',\n",
       "                                                   'Hawker_Nearest_Distance',\n",
       "                                                   'mrt_nearest_distance',\n",
       "                                                   'cutoff_point']),\n",
       "                                                 ('cat',\n",
       "                                                  Pipeline(steps=[('encoder',\n",
       "                                                                   OneHotEncoder(drop='first',\n",
       "                                                                                 handle_unknown='ignore'))]),\n",
       "                                                  ['flat_type', 'flat_model',\n",
       "                                                   'Tranc_Year',\n",
       "                                                   'planning_area',\n",
       "                                                   'bus_interchange',\n",
       "                                                   'mrt_interchange'])])),\n",
       "                ('Lasso Grid Search',\n",
       "                 GridSearchCV(cv=5, estimator=ElasticNet(max_iter=10000),\n",
       "                              param_grid={'alpha': [0.1, 1, 10],\n",
       "                                          'l1_ratio': [0.1, 0.3, 0.5, 0.7, 0.9],\n",
       "                                          'selection': ['cyclic', 'random']},\n",
       "                              return_train_score=True, verbose=1))])"
      ]
     },
     "execution_count": 53,
     "metadata": {},
     "output_type": "execute_result"
    }
   ],
   "source": [
    "enet_grid_search_CV.fit(X_train, y_train)"
   ]
  },
  {
   "cell_type": "code",
   "execution_count": 54,
   "id": "e2e55921-b51b-402d-a291-6aae1bf07c2e",
   "metadata": {},
   "outputs": [
    {
     "data": {
      "text/plain": [
       "0.8630536371629208"
      ]
     },
     "execution_count": 54,
     "metadata": {},
     "output_type": "execute_result"
    }
   ],
   "source": [
    "enet_grid_search_CV[1].best_score_"
   ]
  },
  {
   "cell_type": "code",
   "execution_count": 55,
   "id": "bada391b-4787-4b67-aef2-83cec39cc14d",
   "metadata": {},
   "outputs": [
    {
     "data": {
      "text/html": [
       "<div>\n",
       "<style scoped>\n",
       "    .dataframe tbody tr th:only-of-type {\n",
       "        vertical-align: middle;\n",
       "    }\n",
       "\n",
       "    .dataframe tbody tr th {\n",
       "        vertical-align: top;\n",
       "    }\n",
       "\n",
       "    .dataframe thead th {\n",
       "        text-align: right;\n",
       "    }\n",
       "</style>\n",
       "<table border=\"1\" class=\"dataframe\">\n",
       "  <thead>\n",
       "    <tr style=\"text-align: right;\">\n",
       "      <th></th>\n",
       "      <th>mean_fit_time</th>\n",
       "      <th>param_alpha</th>\n",
       "      <th>param_l1_ratio</th>\n",
       "      <th>mean_test_score</th>\n",
       "      <th>mean_train_score</th>\n",
       "    </tr>\n",
       "  </thead>\n",
       "  <tbody>\n",
       "    <tr>\n",
       "      <th>0</th>\n",
       "      <td>0.462789</td>\n",
       "      <td>0.1</td>\n",
       "      <td>0.1</td>\n",
       "      <td>0.780479</td>\n",
       "      <td>0.780646</td>\n",
       "    </tr>\n",
       "    <tr>\n",
       "      <th>2</th>\n",
       "      <td>0.472705</td>\n",
       "      <td>0.1</td>\n",
       "      <td>0.3</td>\n",
       "      <td>0.792875</td>\n",
       "      <td>0.793047</td>\n",
       "    </tr>\n",
       "    <tr>\n",
       "      <th>4</th>\n",
       "      <td>0.539486</td>\n",
       "      <td>0.1</td>\n",
       "      <td>0.5</td>\n",
       "      <td>0.808604</td>\n",
       "      <td>0.808781</td>\n",
       "    </tr>\n",
       "    <tr>\n",
       "      <th>6</th>\n",
       "      <td>0.725232</td>\n",
       "      <td>0.1</td>\n",
       "      <td>0.7</td>\n",
       "      <td>0.830033</td>\n",
       "      <td>0.830218</td>\n",
       "    </tr>\n",
       "    <tr>\n",
       "      <th>8</th>\n",
       "      <td>1.280072</td>\n",
       "      <td>0.1</td>\n",
       "      <td>0.9</td>\n",
       "      <td>0.863054</td>\n",
       "      <td>0.863257</td>\n",
       "    </tr>\n",
       "    <tr>\n",
       "      <th>10</th>\n",
       "      <td>0.177696</td>\n",
       "      <td>1</td>\n",
       "      <td>0.1</td>\n",
       "      <td>0.592554</td>\n",
       "      <td>0.592667</td>\n",
       "    </tr>\n",
       "    <tr>\n",
       "      <th>12</th>\n",
       "      <td>0.179723</td>\n",
       "      <td>1</td>\n",
       "      <td>0.3</td>\n",
       "      <td>0.626981</td>\n",
       "      <td>0.627100</td>\n",
       "    </tr>\n",
       "    <tr>\n",
       "      <th>14</th>\n",
       "      <td>0.188199</td>\n",
       "      <td>1</td>\n",
       "      <td>0.5</td>\n",
       "      <td>0.665405</td>\n",
       "      <td>0.665532</td>\n",
       "    </tr>\n",
       "    <tr>\n",
       "      <th>16</th>\n",
       "      <td>0.212192</td>\n",
       "      <td>1</td>\n",
       "      <td>0.7</td>\n",
       "      <td>0.709749</td>\n",
       "      <td>0.709888</td>\n",
       "    </tr>\n",
       "    <tr>\n",
       "      <th>18</th>\n",
       "      <td>0.323020</td>\n",
       "      <td>1</td>\n",
       "      <td>0.9</td>\n",
       "      <td>0.775101</td>\n",
       "      <td>0.775266</td>\n",
       "    </tr>\n",
       "    <tr>\n",
       "      <th>20</th>\n",
       "      <td>0.078177</td>\n",
       "      <td>10</td>\n",
       "      <td>0.1</td>\n",
       "      <td>0.180660</td>\n",
       "      <td>0.180715</td>\n",
       "    </tr>\n",
       "    <tr>\n",
       "      <th>22</th>\n",
       "      <td>0.082124</td>\n",
       "      <td>10</td>\n",
       "      <td>0.3</td>\n",
       "      <td>0.218107</td>\n",
       "      <td>0.218168</td>\n",
       "    </tr>\n",
       "    <tr>\n",
       "      <th>24</th>\n",
       "      <td>0.078695</td>\n",
       "      <td>10</td>\n",
       "      <td>0.5</td>\n",
       "      <td>0.275185</td>\n",
       "      <td>0.275254</td>\n",
       "    </tr>\n",
       "    <tr>\n",
       "      <th>26</th>\n",
       "      <td>0.094638</td>\n",
       "      <td>10</td>\n",
       "      <td>0.7</td>\n",
       "      <td>0.372831</td>\n",
       "      <td>0.372913</td>\n",
       "    </tr>\n",
       "    <tr>\n",
       "      <th>28</th>\n",
       "      <td>0.121985</td>\n",
       "      <td>10</td>\n",
       "      <td>0.9</td>\n",
       "      <td>0.576517</td>\n",
       "      <td>0.576627</td>\n",
       "    </tr>\n",
       "  </tbody>\n",
       "</table>\n",
       "</div>"
      ],
      "text/plain": [
       "    mean_fit_time param_alpha param_l1_ratio  mean_test_score  \\\n",
       "0        0.462789         0.1            0.1         0.780479   \n",
       "2        0.472705         0.1            0.3         0.792875   \n",
       "4        0.539486         0.1            0.5         0.808604   \n",
       "6        0.725232         0.1            0.7         0.830033   \n",
       "8        1.280072         0.1            0.9         0.863054   \n",
       "10       0.177696           1            0.1         0.592554   \n",
       "12       0.179723           1            0.3         0.626981   \n",
       "14       0.188199           1            0.5         0.665405   \n",
       "16       0.212192           1            0.7         0.709749   \n",
       "18       0.323020           1            0.9         0.775101   \n",
       "20       0.078177          10            0.1         0.180660   \n",
       "22       0.082124          10            0.3         0.218107   \n",
       "24       0.078695          10            0.5         0.275185   \n",
       "26       0.094638          10            0.7         0.372831   \n",
       "28       0.121985          10            0.9         0.576517   \n",
       "\n",
       "    mean_train_score  \n",
       "0           0.780646  \n",
       "2           0.793047  \n",
       "4           0.808781  \n",
       "6           0.830218  \n",
       "8           0.863257  \n",
       "10          0.592667  \n",
       "12          0.627100  \n",
       "14          0.665532  \n",
       "16          0.709888  \n",
       "18          0.775266  \n",
       "20          0.180715  \n",
       "22          0.218168  \n",
       "24          0.275254  \n",
       "26          0.372913  \n",
       "28          0.576627  "
      ]
     },
     "execution_count": 55,
     "metadata": {},
     "output_type": "execute_result"
    }
   ],
   "source": [
    "# cv results\n",
    "cv_results = pd.DataFrame(enet_grid_search_CV[1].cv_results_)\n",
    "cv_results = cv_results.loc[cv_results['param_selection'] == 'cyclic']\n",
    "cv_results[['mean_fit_time', 'param_alpha', 'param_l1_ratio', 'mean_test_score', 'mean_train_score']]"
   ]
  },
  {
   "cell_type": "code",
   "execution_count": 56,
   "id": "0602a85b-db66-48f0-9950-01481ee7338b",
   "metadata": {},
   "outputs": [
    {
     "data": {
      "text/html": [
       "<style>#sk-container-id-10 {color: black;background-color: white;}#sk-container-id-10 pre{padding: 0;}#sk-container-id-10 div.sk-toggleable {background-color: white;}#sk-container-id-10 label.sk-toggleable__label {cursor: pointer;display: block;width: 100%;margin-bottom: 0;padding: 0.3em;box-sizing: border-box;text-align: center;}#sk-container-id-10 label.sk-toggleable__label-arrow:before {content: \"▸\";float: left;margin-right: 0.25em;color: #696969;}#sk-container-id-10 label.sk-toggleable__label-arrow:hover:before {color: black;}#sk-container-id-10 div.sk-estimator:hover label.sk-toggleable__label-arrow:before {color: black;}#sk-container-id-10 div.sk-toggleable__content {max-height: 0;max-width: 0;overflow: hidden;text-align: left;background-color: #f0f8ff;}#sk-container-id-10 div.sk-toggleable__content pre {margin: 0.2em;color: black;border-radius: 0.25em;background-color: #f0f8ff;}#sk-container-id-10 input.sk-toggleable__control:checked~div.sk-toggleable__content {max-height: 200px;max-width: 100%;overflow: auto;}#sk-container-id-10 input.sk-toggleable__control:checked~label.sk-toggleable__label-arrow:before {content: \"▾\";}#sk-container-id-10 div.sk-estimator input.sk-toggleable__control:checked~label.sk-toggleable__label {background-color: #d4ebff;}#sk-container-id-10 div.sk-label input.sk-toggleable__control:checked~label.sk-toggleable__label {background-color: #d4ebff;}#sk-container-id-10 input.sk-hidden--visually {border: 0;clip: rect(1px 1px 1px 1px);clip: rect(1px, 1px, 1px, 1px);height: 1px;margin: -1px;overflow: hidden;padding: 0;position: absolute;width: 1px;}#sk-container-id-10 div.sk-estimator {font-family: monospace;background-color: #f0f8ff;border: 1px dotted black;border-radius: 0.25em;box-sizing: border-box;margin-bottom: 0.5em;}#sk-container-id-10 div.sk-estimator:hover {background-color: #d4ebff;}#sk-container-id-10 div.sk-parallel-item::after {content: \"\";width: 100%;border-bottom: 1px solid gray;flex-grow: 1;}#sk-container-id-10 div.sk-label:hover label.sk-toggleable__label {background-color: #d4ebff;}#sk-container-id-10 div.sk-serial::before {content: \"\";position: absolute;border-left: 1px solid gray;box-sizing: border-box;top: 0;bottom: 0;left: 50%;z-index: 0;}#sk-container-id-10 div.sk-serial {display: flex;flex-direction: column;align-items: center;background-color: white;padding-right: 0.2em;padding-left: 0.2em;position: relative;}#sk-container-id-10 div.sk-item {position: relative;z-index: 1;}#sk-container-id-10 div.sk-parallel {display: flex;align-items: stretch;justify-content: center;background-color: white;position: relative;}#sk-container-id-10 div.sk-item::before, #sk-container-id-10 div.sk-parallel-item::before {content: \"\";position: absolute;border-left: 1px solid gray;box-sizing: border-box;top: 0;bottom: 0;left: 50%;z-index: -1;}#sk-container-id-10 div.sk-parallel-item {display: flex;flex-direction: column;z-index: 1;position: relative;background-color: white;}#sk-container-id-10 div.sk-parallel-item:first-child::after {align-self: flex-end;width: 50%;}#sk-container-id-10 div.sk-parallel-item:last-child::after {align-self: flex-start;width: 50%;}#sk-container-id-10 div.sk-parallel-item:only-child::after {width: 0;}#sk-container-id-10 div.sk-dashed-wrapped {border: 1px dashed gray;margin: 0 0.4em 0.5em 0.4em;box-sizing: border-box;padding-bottom: 0.4em;background-color: white;}#sk-container-id-10 div.sk-label label {font-family: monospace;font-weight: bold;display: inline-block;line-height: 1.2em;}#sk-container-id-10 div.sk-label-container {text-align: center;}#sk-container-id-10 div.sk-container {/* jupyter's `normalize.less` sets `[hidden] { display: none; }` but bootstrap.min.css set `[hidden] { display: none !important; }` so we also need the `!important` here to be able to override the default hidden behavior on the sphinx rendered scikit-learn.org. See: https://github.com/scikit-learn/scikit-learn/issues/21755 */display: inline-block !important;position: relative;}#sk-container-id-10 div.sk-text-repr-fallback {display: none;}</style><div id=\"sk-container-id-10\" class=\"sk-top-container\"><div class=\"sk-text-repr-fallback\"><pre>Pipeline(steps=[(&#x27;preprocessor&#x27;,\n",
       "                 ColumnTransformer(transformers=[(&#x27;num&#x27;,\n",
       "                                                  Pipeline(steps=[(&#x27;simple &#x27;\n",
       "                                                                   &#x27;impute&#x27;,\n",
       "                                                                   SimpleImputer()),\n",
       "                                                                  (&#x27;scaler&#x27;,\n",
       "                                                                   StandardScaler())]),\n",
       "                                                  [&#x27;floor_area_sqm&#x27;, &#x27;mid&#x27;,\n",
       "                                                   &#x27;hdb_age&#x27;, &#x27;max_floor_lvl&#x27;,\n",
       "                                                   &#x27;Mall_Nearest_Distance&#x27;,\n",
       "                                                   &#x27;Hawker_Nearest_Distance&#x27;,\n",
       "                                                   &#x27;mrt_nearest_distance&#x27;,\n",
       "                                                   &#x27;cutoff_point&#x27;]),\n",
       "                                                 (&#x27;cat&#x27;,\n",
       "                                                  Pipeline(steps=[(&#x27;encoder&#x27;,\n",
       "                                                                   OneHotEncoder(drop=&#x27;first&#x27;,\n",
       "                                                                                 handle_unknown=&#x27;ignore&#x27;))]),\n",
       "                                                  [&#x27;flat_type&#x27;, &#x27;flat_model&#x27;,\n",
       "                                                   &#x27;Tranc_Year&#x27;,\n",
       "                                                   &#x27;planning_area&#x27;,\n",
       "                                                   &#x27;bus_interchange&#x27;,\n",
       "                                                   &#x27;mrt_interchange&#x27;])])),\n",
       "                (&#x27;ENet&#x27;, ElasticNet(alpha=0.1, l1_ratio=0.9))])</pre><b>In a Jupyter environment, please rerun this cell to show the HTML representation or trust the notebook. <br />On GitHub, the HTML representation is unable to render, please try loading this page with nbviewer.org.</b></div><div class=\"sk-container\" hidden><div class=\"sk-item sk-dashed-wrapped\"><div class=\"sk-label-container\"><div class=\"sk-label sk-toggleable\"><input class=\"sk-toggleable__control sk-hidden--visually\" id=\"sk-estimator-id-77\" type=\"checkbox\" ><label for=\"sk-estimator-id-77\" class=\"sk-toggleable__label sk-toggleable__label-arrow\">Pipeline</label><div class=\"sk-toggleable__content\"><pre>Pipeline(steps=[(&#x27;preprocessor&#x27;,\n",
       "                 ColumnTransformer(transformers=[(&#x27;num&#x27;,\n",
       "                                                  Pipeline(steps=[(&#x27;simple &#x27;\n",
       "                                                                   &#x27;impute&#x27;,\n",
       "                                                                   SimpleImputer()),\n",
       "                                                                  (&#x27;scaler&#x27;,\n",
       "                                                                   StandardScaler())]),\n",
       "                                                  [&#x27;floor_area_sqm&#x27;, &#x27;mid&#x27;,\n",
       "                                                   &#x27;hdb_age&#x27;, &#x27;max_floor_lvl&#x27;,\n",
       "                                                   &#x27;Mall_Nearest_Distance&#x27;,\n",
       "                                                   &#x27;Hawker_Nearest_Distance&#x27;,\n",
       "                                                   &#x27;mrt_nearest_distance&#x27;,\n",
       "                                                   &#x27;cutoff_point&#x27;]),\n",
       "                                                 (&#x27;cat&#x27;,\n",
       "                                                  Pipeline(steps=[(&#x27;encoder&#x27;,\n",
       "                                                                   OneHotEncoder(drop=&#x27;first&#x27;,\n",
       "                                                                                 handle_unknown=&#x27;ignore&#x27;))]),\n",
       "                                                  [&#x27;flat_type&#x27;, &#x27;flat_model&#x27;,\n",
       "                                                   &#x27;Tranc_Year&#x27;,\n",
       "                                                   &#x27;planning_area&#x27;,\n",
       "                                                   &#x27;bus_interchange&#x27;,\n",
       "                                                   &#x27;mrt_interchange&#x27;])])),\n",
       "                (&#x27;ENet&#x27;, ElasticNet(alpha=0.1, l1_ratio=0.9))])</pre></div></div></div><div class=\"sk-serial\"><div class=\"sk-item sk-dashed-wrapped\"><div class=\"sk-label-container\"><div class=\"sk-label sk-toggleable\"><input class=\"sk-toggleable__control sk-hidden--visually\" id=\"sk-estimator-id-78\" type=\"checkbox\" ><label for=\"sk-estimator-id-78\" class=\"sk-toggleable__label sk-toggleable__label-arrow\">preprocessor: ColumnTransformer</label><div class=\"sk-toggleable__content\"><pre>ColumnTransformer(transformers=[(&#x27;num&#x27;,\n",
       "                                 Pipeline(steps=[(&#x27;simple impute&#x27;,\n",
       "                                                  SimpleImputer()),\n",
       "                                                 (&#x27;scaler&#x27;, StandardScaler())]),\n",
       "                                 [&#x27;floor_area_sqm&#x27;, &#x27;mid&#x27;, &#x27;hdb_age&#x27;,\n",
       "                                  &#x27;max_floor_lvl&#x27;, &#x27;Mall_Nearest_Distance&#x27;,\n",
       "                                  &#x27;Hawker_Nearest_Distance&#x27;,\n",
       "                                  &#x27;mrt_nearest_distance&#x27;, &#x27;cutoff_point&#x27;]),\n",
       "                                (&#x27;cat&#x27;,\n",
       "                                 Pipeline(steps=[(&#x27;encoder&#x27;,\n",
       "                                                  OneHotEncoder(drop=&#x27;first&#x27;,\n",
       "                                                                handle_unknown=&#x27;ignore&#x27;))]),\n",
       "                                 [&#x27;flat_type&#x27;, &#x27;flat_model&#x27;, &#x27;Tranc_Year&#x27;,\n",
       "                                  &#x27;planning_area&#x27;, &#x27;bus_interchange&#x27;,\n",
       "                                  &#x27;mrt_interchange&#x27;])])</pre></div></div></div><div class=\"sk-parallel\"><div class=\"sk-parallel-item\"><div class=\"sk-item\"><div class=\"sk-label-container\"><div class=\"sk-label sk-toggleable\"><input class=\"sk-toggleable__control sk-hidden--visually\" id=\"sk-estimator-id-79\" type=\"checkbox\" ><label for=\"sk-estimator-id-79\" class=\"sk-toggleable__label sk-toggleable__label-arrow\">num</label><div class=\"sk-toggleable__content\"><pre>[&#x27;floor_area_sqm&#x27;, &#x27;mid&#x27;, &#x27;hdb_age&#x27;, &#x27;max_floor_lvl&#x27;, &#x27;Mall_Nearest_Distance&#x27;, &#x27;Hawker_Nearest_Distance&#x27;, &#x27;mrt_nearest_distance&#x27;, &#x27;cutoff_point&#x27;]</pre></div></div></div><div class=\"sk-serial\"><div class=\"sk-item\"><div class=\"sk-serial\"><div class=\"sk-item\"><div class=\"sk-estimator sk-toggleable\"><input class=\"sk-toggleable__control sk-hidden--visually\" id=\"sk-estimator-id-80\" type=\"checkbox\" ><label for=\"sk-estimator-id-80\" class=\"sk-toggleable__label sk-toggleable__label-arrow\">SimpleImputer</label><div class=\"sk-toggleable__content\"><pre>SimpleImputer()</pre></div></div></div><div class=\"sk-item\"><div class=\"sk-estimator sk-toggleable\"><input class=\"sk-toggleable__control sk-hidden--visually\" id=\"sk-estimator-id-81\" type=\"checkbox\" ><label for=\"sk-estimator-id-81\" class=\"sk-toggleable__label sk-toggleable__label-arrow\">StandardScaler</label><div class=\"sk-toggleable__content\"><pre>StandardScaler()</pre></div></div></div></div></div></div></div></div><div class=\"sk-parallel-item\"><div class=\"sk-item\"><div class=\"sk-label-container\"><div class=\"sk-label sk-toggleable\"><input class=\"sk-toggleable__control sk-hidden--visually\" id=\"sk-estimator-id-82\" type=\"checkbox\" ><label for=\"sk-estimator-id-82\" class=\"sk-toggleable__label sk-toggleable__label-arrow\">cat</label><div class=\"sk-toggleable__content\"><pre>[&#x27;flat_type&#x27;, &#x27;flat_model&#x27;, &#x27;Tranc_Year&#x27;, &#x27;planning_area&#x27;, &#x27;bus_interchange&#x27;, &#x27;mrt_interchange&#x27;]</pre></div></div></div><div class=\"sk-serial\"><div class=\"sk-item\"><div class=\"sk-serial\"><div class=\"sk-item\"><div class=\"sk-estimator sk-toggleable\"><input class=\"sk-toggleable__control sk-hidden--visually\" id=\"sk-estimator-id-83\" type=\"checkbox\" ><label for=\"sk-estimator-id-83\" class=\"sk-toggleable__label sk-toggleable__label-arrow\">OneHotEncoder</label><div class=\"sk-toggleable__content\"><pre>OneHotEncoder(drop=&#x27;first&#x27;, handle_unknown=&#x27;ignore&#x27;)</pre></div></div></div></div></div></div></div></div></div></div><div class=\"sk-item\"><div class=\"sk-estimator sk-toggleable\"><input class=\"sk-toggleable__control sk-hidden--visually\" id=\"sk-estimator-id-84\" type=\"checkbox\" ><label for=\"sk-estimator-id-84\" class=\"sk-toggleable__label sk-toggleable__label-arrow\">ElasticNet</label><div class=\"sk-toggleable__content\"><pre>ElasticNet(alpha=0.1, l1_ratio=0.9)</pre></div></div></div></div></div></div></div>"
      ],
      "text/plain": [
       "Pipeline(steps=[('preprocessor',\n",
       "                 ColumnTransformer(transformers=[('num',\n",
       "                                                  Pipeline(steps=[('simple '\n",
       "                                                                   'impute',\n",
       "                                                                   SimpleImputer()),\n",
       "                                                                  ('scaler',\n",
       "                                                                   StandardScaler())]),\n",
       "                                                  ['floor_area_sqm', 'mid',\n",
       "                                                   'hdb_age', 'max_floor_lvl',\n",
       "                                                   'Mall_Nearest_Distance',\n",
       "                                                   'Hawker_Nearest_Distance',\n",
       "                                                   'mrt_nearest_distance',\n",
       "                                                   'cutoff_point']),\n",
       "                                                 ('cat',\n",
       "                                                  Pipeline(steps=[('encoder',\n",
       "                                                                   OneHotEncoder(drop='first',\n",
       "                                                                                 handle_unknown='ignore'))]),\n",
       "                                                  ['flat_type', 'flat_model',\n",
       "                                                   'Tranc_Year',\n",
       "                                                   'planning_area',\n",
       "                                                   'bus_interchange',\n",
       "                                                   'mrt_interchange'])])),\n",
       "                ('ENet', ElasticNet(alpha=0.1, l1_ratio=0.9))])"
      ]
     },
     "execution_count": 56,
     "metadata": {},
     "output_type": "execute_result"
    }
   ],
   "source": [
    "# New e net with better score\n",
    "e_net_new = Pipeline(\n",
    "    steps=[(\"preprocessor\", preprocessor), (\"ENet\", ElasticNet(alpha=0.1, l1_ratio=0.9))]\n",
    ")\n",
    "e_net_new.fit(X_train, y_train)"
   ]
  },
  {
   "cell_type": "code",
   "execution_count": 57,
   "id": "10df9829-27db-4eb5-9393-9eec8aa7836e",
   "metadata": {},
   "outputs": [
    {
     "name": "stdout",
     "output_type": "stream",
     "text": [
      "The train score is: 0.863234\n",
      "The test score is: 0.863083\n"
     ]
    }
   ],
   "source": [
    "print(f\"The train score is: {round(e_net_new.score(X_train, y_train), 6)}\")\n",
    "print(f\"The test score is: {round(e_net_new.score(X_test, y_test), 6)}\")"
   ]
  },
  {
   "cell_type": "markdown",
   "id": "0163e5e8-c801-46bc-b84c-8271eeb952ee",
   "metadata": {},
   "source": [
    "It is evident that when the model behaves like lasso regressor, the performance is better.  \n",
    "With this, I have completed the investigation on Elastic Net Regression."
   ]
  },
  {
   "cell_type": "markdown",
   "id": "abb20cce-2c10-4e81-85d9-55c248654389",
   "metadata": {},
   "source": [
    "## Model Evaluation"
   ]
  },
  {
   "cell_type": "markdown",
   "id": "387b48ee-afdc-48f3-b42c-51bd000df66b",
   "metadata": {},
   "source": [
    "Here, I will take a (slightly) closer look at the four models used.  \n",
    "I will look at the scores, where the default is the r-squared value, first.  \n",
    "I will peek at the coefficients.  \n",
    "Then I will make inference using the models, and take a look at the MSE, RMSE, AME."
   ]
  },
  {
   "cell_type": "markdown",
   "id": "33642185-af58-47b3-8b79-08b22edee323",
   "metadata": {},
   "source": [
    "Lasso is using 'diamond' shaped constriants.  \n",
    "Ridge is using 'circle' shaped constraints.  \n",
    "Once the elliptical contours hits the constraints, optimality is reached.  \n",
    "But becasue 'diamond' have vertices on axis, it will shrink at least 1 coefficient to 0.\n",
    "\n",
    "<img src=\"../img/lasso_vs_ridge.png\" width=\"500\" height=\"600\"></img>  \n",
    "\n",
    "Ridge, on the other hand will not, as optimal point will not lie on axis, which are representing features.  \n",
    "(Unless the whole B_hat lies on axis, resulting in a trivial solution? This is just my guess)"
   ]
  },
  {
   "cell_type": "markdown",
   "id": "8e558ef5-882c-47a2-8b1a-ada6a4e0c7b5",
   "metadata": {},
   "source": [
    "Based oon the scores alone, which is in fact R squared value.   \n",
    "Lasso regression edges out a little bit, followed closely by Lasso, then Ridge.   \n",
    "Elastic Net have the worst performance.  "
   ]
  },
  {
   "cell_type": "markdown",
   "id": "b33a529f-d235-44ef-952d-6c1b18ccbd70",
   "metadata": {},
   "source": [
    "Now, I will test this with kaggle.  "
   ]
  },
  {
   "cell_type": "code",
   "execution_count": 58,
   "id": "75457e01-0b70-4448-a08c-32f848832748",
   "metadata": {},
   "outputs": [
    {
     "name": "stderr",
     "output_type": "stream",
     "text": [
      "/tmp/ipykernel_1084/575172797.py:2: DtypeWarning: Columns (41) have mixed types. Specify dtype option on import or set low_memory=False.\n",
      "  test = pd.read_csv('../datasets/test.csv')\n"
     ]
    }
   ],
   "source": [
    "# Import test set\n",
    "test = pd.read_csv('../datasets/test.csv')"
   ]
  },
  {
   "cell_type": "code",
   "execution_count": 59,
   "id": "f13723e0-77a7-4aea-bf8a-ac3600f79b0b",
   "metadata": {},
   "outputs": [],
   "source": [
    "pred_res = lin_reg.predict(test)"
   ]
  },
  {
   "cell_type": "code",
   "execution_count": 60,
   "id": "2e6bcf04-f09d-4fbb-9694-794728dd84af",
   "metadata": {},
   "outputs": [],
   "source": [
    "id_col = test['id'].copy(deep=True)\n",
    "res = zip(id_col,pred_res)\n",
    "result = pd.DataFrame(res, columns=['id', 'Predicted'])\n",
    "result.to_csv('../datasets/prediction_linear.csv', index=False)"
   ]
  },
  {
   "cell_type": "markdown",
   "id": "84e34ac0-ea21-4ec6-87ef-0c4d1c32be40",
   "metadata": {},
   "source": [
    "The Root Mean Square Error (RMSE) score from the most basic linear regression model is:  \n",
    "<img src=\"../img/lin_reg_res.png\"></img> \n",
    "Looking at the score alone, it's kind of expected. It is not great, but not too bad."
   ]
  },
  {
   "cell_type": "code",
   "execution_count": 61,
   "id": "eefdf590-994c-4809-91ff-cc2bc00d1f3f",
   "metadata": {},
   "outputs": [],
   "source": [
    "pred_res = lasso.predict(test)"
   ]
  },
  {
   "cell_type": "code",
   "execution_count": 62,
   "id": "4b943157-3a1c-47e9-be58-b11ce7ddd95a",
   "metadata": {},
   "outputs": [],
   "source": [
    "id_col = test['id'].copy(deep=True)\n",
    "res = zip(id_col,pred_res)\n",
    "result_lasso = pd.DataFrame(res, columns=['id', 'Predicted'])\n",
    "result_lasso.to_csv('../datasets/prediction_lasso.csv', index=False)"
   ]
  },
  {
   "cell_type": "markdown",
   "id": "e7038f66-4cf6-4a5d-89d8-8c932aafc4e5",
   "metadata": {},
   "source": [
    "The Root Mean Square Error (RMSE) score from the lasso regression model is:  \n",
    "<img src=\"../img/lasso_res.png\"></img> \n",
    "This is actually (slightly) worse off compared to linear regression.  \n",
    "The difference is rather small, but one thing to keep in mind is the 'bias variance tradeoff'.  \n",
    "In lasso, my bias might be lower and my variance might be higher, the model might have over learned a tiny bit more compared to linear regression.  \n",
    "It doesn't generalise as well."
   ]
  },
  {
   "cell_type": "markdown",
   "id": "6f678445-b984-4b83-9b0e-f49e3f4148be",
   "metadata": {},
   "source": [
    "This also shows that high R sqaured doesn't mean it's good, as the original distribution of the data may not follow a linear distribution completely in the first place!  "
   ]
  },
  {
   "cell_type": "markdown",
   "id": "7c148dcb-8bca-4649-a2e5-67d6306d4b63",
   "metadata": {},
   "source": [
    "With this in mind, the last 'One Size Fit All' model to test will be the Elastic Net model.  \n",
    "This is because Elastic Net have a very different score compared to all other models. "
   ]
  },
  {
   "cell_type": "code",
   "execution_count": 63,
   "id": "18de1ed7-4199-4729-af5b-7aade306bf18",
   "metadata": {},
   "outputs": [],
   "source": [
    "pred_res = e_net.predict(test)"
   ]
  },
  {
   "cell_type": "code",
   "execution_count": 64,
   "id": "f0c0a682-7077-40a2-b48b-bbe973944d02",
   "metadata": {},
   "outputs": [],
   "source": [
    "id_col = test['id'].copy(deep=True)\n",
    "res = zip(id_col,pred_res)\n",
    "result_enet = pd.DataFrame(res, columns=['id', 'Predicted'])\n",
    "result_enet.to_csv('../datasets/prediction_enet.csv', index=False)"
   ]
  },
  {
   "cell_type": "markdown",
   "id": "552cd7d6-b2eb-47bb-9ad9-401c2d3fa718",
   "metadata": {},
   "source": [
    "<img src=\"../img/enet_res.png\"></img> \n",
    "The 2nd submission in the screenshot is using the original elastic net model, where all parameters are default value.  \n",
    "The 1st submission in the screenshot is using the optimised elastic net model from grid search CV.  \n",
    "It can be seen that is a huge improvement on RMSE.  \n",
    "However, they still pales in comparison to simple linear regression.  "
   ]
  },
  {
   "cell_type": "code",
   "execution_count": 65,
   "id": "b43fbdd9-652d-464c-88e4-63e4c894da37",
   "metadata": {},
   "outputs": [
    {
     "data": {
      "text/plain": [
       "143225.55449855106"
      ]
     },
     "execution_count": 65,
     "metadata": {},
     "output_type": "execute_result"
    }
   ],
   "source": [
    "# rough ESTIMATE of baseline benchmark RMSE\n",
    "actual = list(df['resale_price'])\n",
    "mean_price = df['resale_price'].mean()\n",
    "mean_price_list = [mean_price]*149772\n",
    "metrics.mean_squared_error(actual, mean_price_list, squared=False)"
   ]
  },
  {
   "cell_type": "markdown",
   "id": "f083aa42-8d6b-4539-b6bb-e784c67100b0",
   "metadata": {},
   "source": [
    "All models performed better than 'baseline' model.  \n",
    "To conclude off, for this case, it seems that a simple linear regression should be the go to model.  \n",
    "This is becasue it is simple and fast, with good performance in terms of r sqaured score and RSME score.  \n",
    "This concludes the exploration on a single model.  "
   ]
  },
  {
   "cell_type": "markdown",
   "id": "3ee1587f-6ecf-407d-bb11-d04e8dacb16d",
   "metadata": {},
   "source": [
    "## Combined Model"
   ]
  },
  {
   "cell_type": "markdown",
   "id": "684dd287-81d7-4870-8e69-18b2bf5bf004",
   "metadata": {},
   "source": [
    "This section explors the possibility of using a combination of models to find the housing price.  \n",
    "The reason behind this is that, a single model can not capture the unique characteristics of what contributes to the housing price.  \n",
    "Hence, we use more than one model to 'learn' it!  \n",
    "This is makes the model more complex.  \n",
    "The base models will be simple linear regression, as linear regression is proven to work well in the previous section.  \n",
    "It ought to work well here too, as they share the same use case.  \n",
    "The drawback can be that the ammount of data for each model to learn is smaller.  "
   ]
  },
  {
   "cell_type": "code",
   "execution_count": 66,
   "id": "712393d6-54ca-4e2f-b8b8-01b4d51423fc",
   "metadata": {},
   "outputs": [
    {
     "data": {
      "text/html": [
       "<div>\n",
       "<style scoped>\n",
       "    .dataframe tbody tr th:only-of-type {\n",
       "        vertical-align: middle;\n",
       "    }\n",
       "\n",
       "    .dataframe tbody tr th {\n",
       "        vertical-align: top;\n",
       "    }\n",
       "\n",
       "    .dataframe thead th {\n",
       "        text-align: right;\n",
       "    }\n",
       "</style>\n",
       "<table border=\"1\" class=\"dataframe\">\n",
       "  <thead>\n",
       "    <tr style=\"text-align: right;\">\n",
       "      <th></th>\n",
       "      <th>id</th>\n",
       "      <th>flat_type</th>\n",
       "      <th>floor_area_sqm</th>\n",
       "      <th>flat_model</th>\n",
       "      <th>resale_price</th>\n",
       "      <th>Tranc_Year</th>\n",
       "      <th>mid</th>\n",
       "      <th>hdb_age</th>\n",
       "      <th>max_floor_lvl</th>\n",
       "      <th>planning_area</th>\n",
       "      <th>Mall_Nearest_Distance</th>\n",
       "      <th>Hawker_Nearest_Distance</th>\n",
       "      <th>mrt_nearest_distance</th>\n",
       "      <th>bus_interchange</th>\n",
       "      <th>mrt_interchange</th>\n",
       "      <th>cutoff_point</th>\n",
       "    </tr>\n",
       "  </thead>\n",
       "  <tbody>\n",
       "    <tr>\n",
       "      <th>0</th>\n",
       "      <td>88471</td>\n",
       "      <td>4 ROOM</td>\n",
       "      <td>90.0</td>\n",
       "      <td>Model A</td>\n",
       "      <td>680000.0</td>\n",
       "      <td>2016</td>\n",
       "      <td>11</td>\n",
       "      <td>15</td>\n",
       "      <td>25</td>\n",
       "      <td>Kallang</td>\n",
       "      <td>1094.090418</td>\n",
       "      <td>154.753357</td>\n",
       "      <td>330.083069</td>\n",
       "      <td>0</td>\n",
       "      <td>0</td>\n",
       "      <td>224</td>\n",
       "    </tr>\n",
       "    <tr>\n",
       "      <th>1</th>\n",
       "      <td>122598</td>\n",
       "      <td>5 ROOM</td>\n",
       "      <td>130.0</td>\n",
       "      <td>Improved</td>\n",
       "      <td>665000.0</td>\n",
       "      <td>2012</td>\n",
       "      <td>8</td>\n",
       "      <td>34</td>\n",
       "      <td>9</td>\n",
       "      <td>Bishan</td>\n",
       "      <td>866.941448</td>\n",
       "      <td>640.151925</td>\n",
       "      <td>903.659703</td>\n",
       "      <td>1</td>\n",
       "      <td>1</td>\n",
       "      <td>232</td>\n",
       "    </tr>\n",
       "    <tr>\n",
       "      <th>2</th>\n",
       "      <td>170897</td>\n",
       "      <td>EXECUTIVE</td>\n",
       "      <td>144.0</td>\n",
       "      <td>Apartment</td>\n",
       "      <td>838000.0</td>\n",
       "      <td>2013</td>\n",
       "      <td>14</td>\n",
       "      <td>24</td>\n",
       "      <td>16</td>\n",
       "      <td>Bukit Batok</td>\n",
       "      <td>1459.579948</td>\n",
       "      <td>1762.082341</td>\n",
       "      <td>1334.251197</td>\n",
       "      <td>1</td>\n",
       "      <td>0</td>\n",
       "      <td>188</td>\n",
       "    </tr>\n",
       "    <tr>\n",
       "      <th>3</th>\n",
       "      <td>86070</td>\n",
       "      <td>4 ROOM</td>\n",
       "      <td>103.0</td>\n",
       "      <td>Model A</td>\n",
       "      <td>550000.0</td>\n",
       "      <td>2012</td>\n",
       "      <td>3</td>\n",
       "      <td>29</td>\n",
       "      <td>11</td>\n",
       "      <td>Bishan</td>\n",
       "      <td>950.175199</td>\n",
       "      <td>726.215262</td>\n",
       "      <td>907.453484</td>\n",
       "      <td>1</td>\n",
       "      <td>1</td>\n",
       "      <td>253</td>\n",
       "    </tr>\n",
       "    <tr>\n",
       "      <th>4</th>\n",
       "      <td>153632</td>\n",
       "      <td>4 ROOM</td>\n",
       "      <td>83.0</td>\n",
       "      <td>Simplified</td>\n",
       "      <td>298000.0</td>\n",
       "      <td>2017</td>\n",
       "      <td>2</td>\n",
       "      <td>34</td>\n",
       "      <td>4</td>\n",
       "      <td>Yishun</td>\n",
       "      <td>729.771895</td>\n",
       "      <td>1540.151439</td>\n",
       "      <td>412.343032</td>\n",
       "      <td>0</td>\n",
       "      <td>0</td>\n",
       "      <td>208</td>\n",
       "    </tr>\n",
       "  </tbody>\n",
       "</table>\n",
       "</div>"
      ],
      "text/plain": [
       "       id  flat_type  floor_area_sqm  flat_model  resale_price  Tranc_Year  \\\n",
       "0   88471     4 ROOM            90.0     Model A      680000.0        2016   \n",
       "1  122598     5 ROOM           130.0    Improved      665000.0        2012   \n",
       "2  170897  EXECUTIVE           144.0   Apartment      838000.0        2013   \n",
       "3   86070     4 ROOM           103.0     Model A      550000.0        2012   \n",
       "4  153632     4 ROOM            83.0  Simplified      298000.0        2017   \n",
       "\n",
       "   mid  hdb_age  max_floor_lvl planning_area  Mall_Nearest_Distance  \\\n",
       "0   11       15             25       Kallang            1094.090418   \n",
       "1    8       34              9        Bishan             866.941448   \n",
       "2   14       24             16   Bukit Batok            1459.579948   \n",
       "3    3       29             11        Bishan             950.175199   \n",
       "4    2       34              4        Yishun             729.771895   \n",
       "\n",
       "   Hawker_Nearest_Distance  mrt_nearest_distance  bus_interchange  \\\n",
       "0               154.753357            330.083069                0   \n",
       "1               640.151925            903.659703                1   \n",
       "2              1762.082341           1334.251197                1   \n",
       "3               726.215262            907.453484                1   \n",
       "4              1540.151439            412.343032                0   \n",
       "\n",
       "   mrt_interchange  cutoff_point  \n",
       "0                0           224  \n",
       "1                1           232  \n",
       "2                0           188  \n",
       "3                1           253  \n",
       "4                0           208  "
      ]
     },
     "execution_count": 66,
     "metadata": {},
     "output_type": "execute_result"
    }
   ],
   "source": [
    "# Import training data again\n",
    "df = pd.read_csv('../datasets/reduced_train.csv')\n",
    "df.head()"
   ]
  },
  {
   "cell_type": "markdown",
   "id": "bd50756c-1981-48bc-9db5-577ca385431c",
   "metadata": {},
   "source": [
    "The data provided can be split into higher end and lower end flats by using `flat_type` alone.  \n",
    "As shown in the [EDA analysis](./house_EDA.ipynb) for resale price vs flat type, the flat types with 3 room or less is significantly lower than other flat types.  \n",
    "Unfortunately, nothing I do worked...\n",
    "The trained models are not able to generalise.  \n",
    "The error is that the number of features needed is different from what I can pass.   \n",
    "This is probably because of the one hot encoder used...   \n",
    "This problem can't be solved as I am using pipeline.   \n",
    "If I really want to do multiple models, I guess I have to it very manually. "
   ]
  },
  {
   "cell_type": "markdown",
   "id": "5db47a1d-35ab-4e35-8fed-5f21468ed040",
   "metadata": {},
   "source": [
    "Without more time to explore, I decided to give a last desperate attempt at model creation.  \n",
    "The codes were very poorly written.  "
   ]
  },
  {
   "cell_type": "code",
   "execution_count": 67,
   "id": "8828d860-68b2-4c18-ba2e-f08f92827aa7",
   "metadata": {},
   "outputs": [
    {
     "name": "stderr",
     "output_type": "stream",
     "text": [
      "/tmp/ipykernel_1084/1638058713.py:1: DtypeWarning: Columns (41) have mixed types. Specify dtype option on import or set low_memory=False.\n",
      "  test = pd.read_csv('../datasets/test.csv')\n"
     ]
    }
   ],
   "source": [
    "test = pd.read_csv('../datasets/test.csv')"
   ]
  },
  {
   "cell_type": "code",
   "execution_count": 68,
   "id": "0cfc1bf1-c8d6-494f-a5ca-c14e23cffd52",
   "metadata": {},
   "outputs": [
    {
     "data": {
      "text/plain": [
       "RangeIndex(start=0, stop=149772, step=1)"
      ]
     },
     "execution_count": 68,
     "metadata": {},
     "output_type": "execute_result"
    }
   ],
   "source": [
    "df.index"
   ]
  },
  {
   "cell_type": "code",
   "execution_count": 69,
   "id": "22591a62-64e9-4432-a94b-80c0a9d3590c",
   "metadata": {},
   "outputs": [],
   "source": [
    "# find the list of colmuns to drop\n",
    "df.columns\n",
    "test.columns\n",
    "drop_col = [col for col in test.columns if col not in df.columns]"
   ]
  },
  {
   "cell_type": "code",
   "execution_count": 70,
   "id": "99906057-4c71-4147-92b5-79ecde8b52a3",
   "metadata": {},
   "outputs": [],
   "source": [
    "# drop colmuns that should be droped\n",
    "test.drop(columns=drop_col, inplace=True)"
   ]
  },
  {
   "cell_type": "code",
   "execution_count": 71,
   "id": "4e6f9980-b13a-4cd9-be55-fbe7c46af896",
   "metadata": {},
   "outputs": [],
   "source": [
    "# comnbine train and test, only doing this for one hot encoding of data\n",
    "df = pd.concat([df, test])"
   ]
  },
  {
   "cell_type": "code",
   "execution_count": 72,
   "id": "08202aed-f373-410c-8d86-28b5831eb8f4",
   "metadata": {},
   "outputs": [],
   "source": [
    "# drop numerical features\n",
    "df_cat = df.drop(columns=numerical_col)"
   ]
  },
  {
   "cell_type": "code",
   "execution_count": 73,
   "id": "441c347a-d652-4866-ab71-1b6202191d0e",
   "metadata": {},
   "outputs": [],
   "source": [
    "# drop categorical colmuns\n",
    "df_num = df.drop(columns=categorical_col)"
   ]
  },
  {
   "cell_type": "code",
   "execution_count": 74,
   "id": "7d4b43e6-272a-4c46-855a-407714a4b2ac",
   "metadata": {},
   "outputs": [
    {
     "data": {
      "text/html": [
       "<div>\n",
       "<style scoped>\n",
       "    .dataframe tbody tr th:only-of-type {\n",
       "        vertical-align: middle;\n",
       "    }\n",
       "\n",
       "    .dataframe tbody tr th {\n",
       "        vertical-align: top;\n",
       "    }\n",
       "\n",
       "    .dataframe thead th {\n",
       "        text-align: right;\n",
       "    }\n",
       "</style>\n",
       "<table border=\"1\" class=\"dataframe\">\n",
       "  <thead>\n",
       "    <tr style=\"text-align: right;\">\n",
       "      <th></th>\n",
       "      <th>id</th>\n",
       "      <th>flat_type</th>\n",
       "      <th>flat_model</th>\n",
       "      <th>resale_price</th>\n",
       "      <th>Tranc_Year</th>\n",
       "      <th>planning_area</th>\n",
       "      <th>bus_interchange</th>\n",
       "      <th>mrt_interchange</th>\n",
       "    </tr>\n",
       "  </thead>\n",
       "  <tbody>\n",
       "    <tr>\n",
       "      <th>0</th>\n",
       "      <td>88471</td>\n",
       "      <td>4 ROOM</td>\n",
       "      <td>Model A</td>\n",
       "      <td>680000.0</td>\n",
       "      <td>2016</td>\n",
       "      <td>Kallang</td>\n",
       "      <td>0</td>\n",
       "      <td>0</td>\n",
       "    </tr>\n",
       "    <tr>\n",
       "      <th>1</th>\n",
       "      <td>122598</td>\n",
       "      <td>5 ROOM</td>\n",
       "      <td>Improved</td>\n",
       "      <td>665000.0</td>\n",
       "      <td>2012</td>\n",
       "      <td>Bishan</td>\n",
       "      <td>1</td>\n",
       "      <td>1</td>\n",
       "    </tr>\n",
       "    <tr>\n",
       "      <th>2</th>\n",
       "      <td>170897</td>\n",
       "      <td>EXECUTIVE</td>\n",
       "      <td>Apartment</td>\n",
       "      <td>838000.0</td>\n",
       "      <td>2013</td>\n",
       "      <td>Bukit Batok</td>\n",
       "      <td>1</td>\n",
       "      <td>0</td>\n",
       "    </tr>\n",
       "    <tr>\n",
       "      <th>3</th>\n",
       "      <td>86070</td>\n",
       "      <td>4 ROOM</td>\n",
       "      <td>Model A</td>\n",
       "      <td>550000.0</td>\n",
       "      <td>2012</td>\n",
       "      <td>Bishan</td>\n",
       "      <td>1</td>\n",
       "      <td>1</td>\n",
       "    </tr>\n",
       "    <tr>\n",
       "      <th>4</th>\n",
       "      <td>153632</td>\n",
       "      <td>4 ROOM</td>\n",
       "      <td>Simplified</td>\n",
       "      <td>298000.0</td>\n",
       "      <td>2017</td>\n",
       "      <td>Yishun</td>\n",
       "      <td>0</td>\n",
       "      <td>0</td>\n",
       "    </tr>\n",
       "  </tbody>\n",
       "</table>\n",
       "</div>"
      ],
      "text/plain": [
       "       id  flat_type  flat_model  resale_price  Tranc_Year planning_area  \\\n",
       "0   88471     4 ROOM     Model A      680000.0        2016       Kallang   \n",
       "1  122598     5 ROOM    Improved      665000.0        2012        Bishan   \n",
       "2  170897  EXECUTIVE   Apartment      838000.0        2013   Bukit Batok   \n",
       "3   86070     4 ROOM     Model A      550000.0        2012        Bishan   \n",
       "4  153632     4 ROOM  Simplified      298000.0        2017        Yishun   \n",
       "\n",
       "   bus_interchange  mrt_interchange  \n",
       "0                0                0  \n",
       "1                1                1  \n",
       "2                1                0  \n",
       "3                1                1  \n",
       "4                0                0  "
      ]
     },
     "execution_count": 74,
     "metadata": {},
     "output_type": "execute_result"
    }
   ],
   "source": [
    "df_cat.head()"
   ]
  },
  {
   "cell_type": "code",
   "execution_count": 75,
   "id": "a5150132-1a41-4c5d-87f1-4f11f52eb3e5",
   "metadata": {},
   "outputs": [
    {
     "data": {
      "text/plain": [
       "['4 ROOM',\n",
       " '5 ROOM',\n",
       " 'EXECUTIVE',\n",
       " '3 ROOM',\n",
       " '2 ROOM',\n",
       " '1 ROOM',\n",
       " 'MULTI-GENERATION']"
      ]
     },
     "execution_count": 75,
     "metadata": {},
     "output_type": "execute_result"
    }
   ],
   "source": [
    "# find flate models\n",
    "flat_type_present = list(df_cat['flat_type'].unique())\n",
    "flat_type_present"
   ]
  },
  {
   "cell_type": "code",
   "execution_count": 76,
   "id": "c2c6da64-1fc4-4a4c-9f50-cb7bb2c76f10",
   "metadata": {},
   "outputs": [
    {
     "data": {
      "text/plain": [
       "['Kallang',\n",
       " 'Bishan',\n",
       " 'Bukit Batok',\n",
       " 'Yishun',\n",
       " 'Geylang',\n",
       " 'Hougang',\n",
       " 'Bedok',\n",
       " 'Sengkang',\n",
       " 'Tampines',\n",
       " 'Serangoon',\n",
       " 'Bukit Merah',\n",
       " 'Bukit Panjang',\n",
       " 'Woodlands',\n",
       " 'Jurong West',\n",
       " 'Toa Payoh',\n",
       " 'Choa Chu Kang',\n",
       " 'Sembawang',\n",
       " 'Novena',\n",
       " 'Ang Mo Kio',\n",
       " 'Pasir Ris',\n",
       " 'Clementi',\n",
       " 'Punggol',\n",
       " 'Jurong East',\n",
       " 'Rochor',\n",
       " 'Queenstown',\n",
       " 'Bukit Timah',\n",
       " 'Outram',\n",
       " 'Tanglin',\n",
       " 'Marine Parade',\n",
       " 'Western Water Catchment',\n",
       " 'Downtown Core',\n",
       " 'Changi']"
      ]
     },
     "execution_count": 76,
     "metadata": {},
     "output_type": "execute_result"
    }
   ],
   "source": [
    "# find planning area\n",
    "planning_area_present = list(df_cat['planning_area'].unique())\n",
    "planning_area_present"
   ]
  },
  {
   "cell_type": "code",
   "execution_count": 77,
   "id": "f2758560-fece-4edb-8c18-07de66511fde",
   "metadata": {},
   "outputs": [],
   "source": [
    "# Define the types to split by\n",
    "less_rm = ['3 ROOM', '2 ROOM', '1 ROOM']\n",
    "more_rm = ['4 ROOM', '5 ROOM', 'EXECUTIVE', 'MULTI-GENERATION']\n",
    "high_area = ['Bishan', 'Bukit Merah', 'Queenstown', 'Bukit Timah', 'Outram', 'Tanglin', 'Marine Parade', 'Downtown Core']\n",
    "other_area = [loc for loc in planning_area_present if loc not in high_area]"
   ]
  },
  {
   "cell_type": "code",
   "execution_count": 78,
   "id": "b093836d-9866-4f54-933b-28b2242b8875",
   "metadata": {},
   "outputs": [
    {
     "data": {
      "text/plain": [
       "['Kallang',\n",
       " 'Bukit Batok',\n",
       " 'Yishun',\n",
       " 'Geylang',\n",
       " 'Hougang',\n",
       " 'Bedok',\n",
       " 'Sengkang',\n",
       " 'Tampines',\n",
       " 'Serangoon',\n",
       " 'Bukit Panjang',\n",
       " 'Woodlands',\n",
       " 'Jurong West',\n",
       " 'Toa Payoh',\n",
       " 'Choa Chu Kang',\n",
       " 'Sembawang',\n",
       " 'Novena',\n",
       " 'Ang Mo Kio',\n",
       " 'Pasir Ris',\n",
       " 'Clementi',\n",
       " 'Punggol',\n",
       " 'Jurong East',\n",
       " 'Rochor',\n",
       " 'Western Water Catchment',\n",
       " 'Changi']"
      ]
     },
     "execution_count": 78,
     "metadata": {},
     "output_type": "execute_result"
    }
   ],
   "source": [
    "other_area # other areas that doesn't have exceptionally high price"
   ]
  },
  {
   "cell_type": "code",
   "execution_count": 79,
   "id": "c9698682-f93f-47e5-b7b5-e0e71b9ad15d",
   "metadata": {},
   "outputs": [
    {
     "data": {
      "text/html": [
       "<div>\n",
       "<style scoped>\n",
       "    .dataframe tbody tr th:only-of-type {\n",
       "        vertical-align: middle;\n",
       "    }\n",
       "\n",
       "    .dataframe tbody tr th {\n",
       "        vertical-align: top;\n",
       "    }\n",
       "\n",
       "    .dataframe thead th {\n",
       "        text-align: right;\n",
       "    }\n",
       "</style>\n",
       "<table border=\"1\" class=\"dataframe\">\n",
       "  <thead>\n",
       "    <tr style=\"text-align: right;\">\n",
       "      <th></th>\n",
       "      <th>id</th>\n",
       "      <th>floor_area_sqm</th>\n",
       "      <th>resale_price</th>\n",
       "      <th>mid</th>\n",
       "      <th>hdb_age</th>\n",
       "      <th>max_floor_lvl</th>\n",
       "      <th>Mall_Nearest_Distance</th>\n",
       "      <th>Hawker_Nearest_Distance</th>\n",
       "      <th>mrt_nearest_distance</th>\n",
       "      <th>cutoff_point</th>\n",
       "    </tr>\n",
       "  </thead>\n",
       "  <tbody>\n",
       "    <tr>\n",
       "      <th>0</th>\n",
       "      <td>88471</td>\n",
       "      <td>90.0</td>\n",
       "      <td>680000.0</td>\n",
       "      <td>11</td>\n",
       "      <td>15</td>\n",
       "      <td>25</td>\n",
       "      <td>1094.090418</td>\n",
       "      <td>154.753357</td>\n",
       "      <td>330.083069</td>\n",
       "      <td>224</td>\n",
       "    </tr>\n",
       "    <tr>\n",
       "      <th>1</th>\n",
       "      <td>122598</td>\n",
       "      <td>130.0</td>\n",
       "      <td>665000.0</td>\n",
       "      <td>8</td>\n",
       "      <td>34</td>\n",
       "      <td>9</td>\n",
       "      <td>866.941448</td>\n",
       "      <td>640.151925</td>\n",
       "      <td>903.659703</td>\n",
       "      <td>232</td>\n",
       "    </tr>\n",
       "    <tr>\n",
       "      <th>2</th>\n",
       "      <td>170897</td>\n",
       "      <td>144.0</td>\n",
       "      <td>838000.0</td>\n",
       "      <td>14</td>\n",
       "      <td>24</td>\n",
       "      <td>16</td>\n",
       "      <td>1459.579948</td>\n",
       "      <td>1762.082341</td>\n",
       "      <td>1334.251197</td>\n",
       "      <td>188</td>\n",
       "    </tr>\n",
       "    <tr>\n",
       "      <th>3</th>\n",
       "      <td>86070</td>\n",
       "      <td>103.0</td>\n",
       "      <td>550000.0</td>\n",
       "      <td>3</td>\n",
       "      <td>29</td>\n",
       "      <td>11</td>\n",
       "      <td>950.175199</td>\n",
       "      <td>726.215262</td>\n",
       "      <td>907.453484</td>\n",
       "      <td>253</td>\n",
       "    </tr>\n",
       "    <tr>\n",
       "      <th>4</th>\n",
       "      <td>153632</td>\n",
       "      <td>83.0</td>\n",
       "      <td>298000.0</td>\n",
       "      <td>2</td>\n",
       "      <td>34</td>\n",
       "      <td>4</td>\n",
       "      <td>729.771895</td>\n",
       "      <td>1540.151439</td>\n",
       "      <td>412.343032</td>\n",
       "      <td>208</td>\n",
       "    </tr>\n",
       "  </tbody>\n",
       "</table>\n",
       "</div>"
      ],
      "text/plain": [
       "       id  floor_area_sqm  resale_price  mid  hdb_age  max_floor_lvl  \\\n",
       "0   88471            90.0      680000.0   11       15             25   \n",
       "1  122598           130.0      665000.0    8       34              9   \n",
       "2  170897           144.0      838000.0   14       24             16   \n",
       "3   86070           103.0      550000.0    3       29             11   \n",
       "4  153632            83.0      298000.0    2       34              4   \n",
       "\n",
       "   Mall_Nearest_Distance  Hawker_Nearest_Distance  mrt_nearest_distance  \\\n",
       "0            1094.090418               154.753357            330.083069   \n",
       "1             866.941448               640.151925            903.659703   \n",
       "2            1459.579948              1762.082341           1334.251197   \n",
       "3             950.175199               726.215262            907.453484   \n",
       "4             729.771895              1540.151439            412.343032   \n",
       "\n",
       "   cutoff_point  \n",
       "0           224  \n",
       "1           232  \n",
       "2           188  \n",
       "3           253  \n",
       "4           208  "
      ]
     },
     "execution_count": 79,
     "metadata": {},
     "output_type": "execute_result"
    }
   ],
   "source": [
    "df_num.head()"
   ]
  },
  {
   "cell_type": "code",
   "execution_count": 80,
   "id": "722d1ed0-3eef-4dc8-a859-06a14ea960d7",
   "metadata": {},
   "outputs": [],
   "source": [
    "# do not include drop first for sake of analysis of features!\n",
    "df_cat = pd.get_dummies(df_cat)"
   ]
  },
  {
   "cell_type": "code",
   "execution_count": 81,
   "id": "874a909e-810f-4bf4-a9d6-2b89eaca3a23",
   "metadata": {},
   "outputs": [
    {
     "data": {
      "text/html": [
       "<div>\n",
       "<style scoped>\n",
       "    .dataframe tbody tr th:only-of-type {\n",
       "        vertical-align: middle;\n",
       "    }\n",
       "\n",
       "    .dataframe tbody tr th {\n",
       "        vertical-align: top;\n",
       "    }\n",
       "\n",
       "    .dataframe thead th {\n",
       "        text-align: right;\n",
       "    }\n",
       "</style>\n",
       "<table border=\"1\" class=\"dataframe\">\n",
       "  <thead>\n",
       "    <tr style=\"text-align: right;\">\n",
       "      <th></th>\n",
       "      <th>id</th>\n",
       "      <th>resale_price</th>\n",
       "      <th>Tranc_Year</th>\n",
       "      <th>bus_interchange</th>\n",
       "      <th>mrt_interchange</th>\n",
       "      <th>flat_type_1 ROOM</th>\n",
       "      <th>flat_type_2 ROOM</th>\n",
       "      <th>flat_type_3 ROOM</th>\n",
       "      <th>flat_type_4 ROOM</th>\n",
       "      <th>flat_type_5 ROOM</th>\n",
       "      <th>...</th>\n",
       "      <th>planning_area_Rochor</th>\n",
       "      <th>planning_area_Sembawang</th>\n",
       "      <th>planning_area_Sengkang</th>\n",
       "      <th>planning_area_Serangoon</th>\n",
       "      <th>planning_area_Tampines</th>\n",
       "      <th>planning_area_Tanglin</th>\n",
       "      <th>planning_area_Toa Payoh</th>\n",
       "      <th>planning_area_Western Water Catchment</th>\n",
       "      <th>planning_area_Woodlands</th>\n",
       "      <th>planning_area_Yishun</th>\n",
       "    </tr>\n",
       "  </thead>\n",
       "  <tbody>\n",
       "    <tr>\n",
       "      <th>0</th>\n",
       "      <td>88471</td>\n",
       "      <td>680000.0</td>\n",
       "      <td>2016</td>\n",
       "      <td>0</td>\n",
       "      <td>0</td>\n",
       "      <td>0</td>\n",
       "      <td>0</td>\n",
       "      <td>0</td>\n",
       "      <td>1</td>\n",
       "      <td>0</td>\n",
       "      <td>...</td>\n",
       "      <td>0</td>\n",
       "      <td>0</td>\n",
       "      <td>0</td>\n",
       "      <td>0</td>\n",
       "      <td>0</td>\n",
       "      <td>0</td>\n",
       "      <td>0</td>\n",
       "      <td>0</td>\n",
       "      <td>0</td>\n",
       "      <td>0</td>\n",
       "    </tr>\n",
       "    <tr>\n",
       "      <th>1</th>\n",
       "      <td>122598</td>\n",
       "      <td>665000.0</td>\n",
       "      <td>2012</td>\n",
       "      <td>1</td>\n",
       "      <td>1</td>\n",
       "      <td>0</td>\n",
       "      <td>0</td>\n",
       "      <td>0</td>\n",
       "      <td>0</td>\n",
       "      <td>1</td>\n",
       "      <td>...</td>\n",
       "      <td>0</td>\n",
       "      <td>0</td>\n",
       "      <td>0</td>\n",
       "      <td>0</td>\n",
       "      <td>0</td>\n",
       "      <td>0</td>\n",
       "      <td>0</td>\n",
       "      <td>0</td>\n",
       "      <td>0</td>\n",
       "      <td>0</td>\n",
       "    </tr>\n",
       "    <tr>\n",
       "      <th>2</th>\n",
       "      <td>170897</td>\n",
       "      <td>838000.0</td>\n",
       "      <td>2013</td>\n",
       "      <td>1</td>\n",
       "      <td>0</td>\n",
       "      <td>0</td>\n",
       "      <td>0</td>\n",
       "      <td>0</td>\n",
       "      <td>0</td>\n",
       "      <td>0</td>\n",
       "      <td>...</td>\n",
       "      <td>0</td>\n",
       "      <td>0</td>\n",
       "      <td>0</td>\n",
       "      <td>0</td>\n",
       "      <td>0</td>\n",
       "      <td>0</td>\n",
       "      <td>0</td>\n",
       "      <td>0</td>\n",
       "      <td>0</td>\n",
       "      <td>0</td>\n",
       "    </tr>\n",
       "    <tr>\n",
       "      <th>3</th>\n",
       "      <td>86070</td>\n",
       "      <td>550000.0</td>\n",
       "      <td>2012</td>\n",
       "      <td>1</td>\n",
       "      <td>1</td>\n",
       "      <td>0</td>\n",
       "      <td>0</td>\n",
       "      <td>0</td>\n",
       "      <td>1</td>\n",
       "      <td>0</td>\n",
       "      <td>...</td>\n",
       "      <td>0</td>\n",
       "      <td>0</td>\n",
       "      <td>0</td>\n",
       "      <td>0</td>\n",
       "      <td>0</td>\n",
       "      <td>0</td>\n",
       "      <td>0</td>\n",
       "      <td>0</td>\n",
       "      <td>0</td>\n",
       "      <td>0</td>\n",
       "    </tr>\n",
       "    <tr>\n",
       "      <th>4</th>\n",
       "      <td>153632</td>\n",
       "      <td>298000.0</td>\n",
       "      <td>2017</td>\n",
       "      <td>0</td>\n",
       "      <td>0</td>\n",
       "      <td>0</td>\n",
       "      <td>0</td>\n",
       "      <td>0</td>\n",
       "      <td>1</td>\n",
       "      <td>0</td>\n",
       "      <td>...</td>\n",
       "      <td>0</td>\n",
       "      <td>0</td>\n",
       "      <td>0</td>\n",
       "      <td>0</td>\n",
       "      <td>0</td>\n",
       "      <td>0</td>\n",
       "      <td>0</td>\n",
       "      <td>0</td>\n",
       "      <td>0</td>\n",
       "      <td>1</td>\n",
       "    </tr>\n",
       "  </tbody>\n",
       "</table>\n",
       "<p>5 rows × 64 columns</p>\n",
       "</div>"
      ],
      "text/plain": [
       "       id  resale_price  Tranc_Year  bus_interchange  mrt_interchange  \\\n",
       "0   88471      680000.0        2016                0                0   \n",
       "1  122598      665000.0        2012                1                1   \n",
       "2  170897      838000.0        2013                1                0   \n",
       "3   86070      550000.0        2012                1                1   \n",
       "4  153632      298000.0        2017                0                0   \n",
       "\n",
       "   flat_type_1 ROOM  flat_type_2 ROOM  flat_type_3 ROOM  flat_type_4 ROOM  \\\n",
       "0                 0                 0                 0                 1   \n",
       "1                 0                 0                 0                 0   \n",
       "2                 0                 0                 0                 0   \n",
       "3                 0                 0                 0                 1   \n",
       "4                 0                 0                 0                 1   \n",
       "\n",
       "   flat_type_5 ROOM  ...  planning_area_Rochor  planning_area_Sembawang  \\\n",
       "0                 0  ...                     0                        0   \n",
       "1                 1  ...                     0                        0   \n",
       "2                 0  ...                     0                        0   \n",
       "3                 0  ...                     0                        0   \n",
       "4                 0  ...                     0                        0   \n",
       "\n",
       "   planning_area_Sengkang  planning_area_Serangoon  planning_area_Tampines  \\\n",
       "0                       0                        0                       0   \n",
       "1                       0                        0                       0   \n",
       "2                       0                        0                       0   \n",
       "3                       0                        0                       0   \n",
       "4                       0                        0                       0   \n",
       "\n",
       "   planning_area_Tanglin  planning_area_Toa Payoh  \\\n",
       "0                      0                        0   \n",
       "1                      0                        0   \n",
       "2                      0                        0   \n",
       "3                      0                        0   \n",
       "4                      0                        0   \n",
       "\n",
       "   planning_area_Western Water Catchment  planning_area_Woodlands  \\\n",
       "0                                      0                        0   \n",
       "1                                      0                        0   \n",
       "2                                      0                        0   \n",
       "3                                      0                        0   \n",
       "4                                      0                        0   \n",
       "\n",
       "   planning_area_Yishun  \n",
       "0                     0  \n",
       "1                     0  \n",
       "2                     0  \n",
       "3                     0  \n",
       "4                     1  \n",
       "\n",
       "[5 rows x 64 columns]"
      ]
     },
     "execution_count": 81,
     "metadata": {},
     "output_type": "execute_result"
    }
   ],
   "source": [
    "df_cat.head()"
   ]
  },
  {
   "cell_type": "code",
   "execution_count": 82,
   "id": "bc324741-794d-45c4-9604-f950012f7122",
   "metadata": {},
   "outputs": [
    {
     "data": {
      "text/plain": [
       "62"
      ]
     },
     "execution_count": 82,
     "metadata": {},
     "output_type": "execute_result"
    }
   ],
   "source": [
    "ohe_col = list(df_cat.columns)\n",
    "ohe_col.remove('id')\n",
    "ohe_col.remove('resale_price')\n",
    "len(ohe_col)"
   ]
  },
  {
   "cell_type": "code",
   "execution_count": 83,
   "id": "b14645dd-9be8-44c2-afc1-5046a2643950",
   "metadata": {},
   "outputs": [],
   "source": [
    "df = df_num.merge(df_cat)"
   ]
  },
  {
   "cell_type": "code",
   "execution_count": 84,
   "id": "c97ae6eb-cdcb-4c5a-86aa-e6490f746634",
   "metadata": {},
   "outputs": [
    {
     "data": {
      "text/plain": [
       "(166509, 72)"
      ]
     },
     "execution_count": 84,
     "metadata": {},
     "output_type": "execute_result"
    }
   ],
   "source": [
    "df.shape"
   ]
  },
  {
   "cell_type": "code",
   "execution_count": 85,
   "id": "80b86cec-0b65-474a-86ba-cd5fb265cb0c",
   "metadata": {},
   "outputs": [],
   "source": [
    "df = df.iloc[0:149772]"
   ]
  },
  {
   "cell_type": "code",
   "execution_count": 86,
   "id": "744df27c-ce08-4f18-a58b-f87f51f06c00",
   "metadata": {},
   "outputs": [],
   "source": [
    "df.drop(columns=['id'], inplace=True)"
   ]
  },
  {
   "cell_type": "code",
   "execution_count": 87,
   "id": "1b4d340a-1a70-4dc2-a94f-fdc67e46d215",
   "metadata": {},
   "outputs": [
    {
     "data": {
      "text/html": [
       "<div>\n",
       "<style scoped>\n",
       "    .dataframe tbody tr th:only-of-type {\n",
       "        vertical-align: middle;\n",
       "    }\n",
       "\n",
       "    .dataframe tbody tr th {\n",
       "        vertical-align: top;\n",
       "    }\n",
       "\n",
       "    .dataframe thead th {\n",
       "        text-align: right;\n",
       "    }\n",
       "</style>\n",
       "<table border=\"1\" class=\"dataframe\">\n",
       "  <thead>\n",
       "    <tr style=\"text-align: right;\">\n",
       "      <th></th>\n",
       "      <th>floor_area_sqm</th>\n",
       "      <th>resale_price</th>\n",
       "      <th>mid</th>\n",
       "      <th>hdb_age</th>\n",
       "      <th>max_floor_lvl</th>\n",
       "      <th>Mall_Nearest_Distance</th>\n",
       "      <th>Hawker_Nearest_Distance</th>\n",
       "      <th>mrt_nearest_distance</th>\n",
       "      <th>cutoff_point</th>\n",
       "      <th>Tranc_Year</th>\n",
       "      <th>...</th>\n",
       "      <th>planning_area_Rochor</th>\n",
       "      <th>planning_area_Sembawang</th>\n",
       "      <th>planning_area_Sengkang</th>\n",
       "      <th>planning_area_Serangoon</th>\n",
       "      <th>planning_area_Tampines</th>\n",
       "      <th>planning_area_Tanglin</th>\n",
       "      <th>planning_area_Toa Payoh</th>\n",
       "      <th>planning_area_Western Water Catchment</th>\n",
       "      <th>planning_area_Woodlands</th>\n",
       "      <th>planning_area_Yishun</th>\n",
       "    </tr>\n",
       "  </thead>\n",
       "  <tbody>\n",
       "    <tr>\n",
       "      <th>0</th>\n",
       "      <td>90.0</td>\n",
       "      <td>680000.0</td>\n",
       "      <td>11</td>\n",
       "      <td>15</td>\n",
       "      <td>25</td>\n",
       "      <td>1094.090418</td>\n",
       "      <td>154.753357</td>\n",
       "      <td>330.083069</td>\n",
       "      <td>224</td>\n",
       "      <td>2016</td>\n",
       "      <td>...</td>\n",
       "      <td>0</td>\n",
       "      <td>0</td>\n",
       "      <td>0</td>\n",
       "      <td>0</td>\n",
       "      <td>0</td>\n",
       "      <td>0</td>\n",
       "      <td>0</td>\n",
       "      <td>0</td>\n",
       "      <td>0</td>\n",
       "      <td>0</td>\n",
       "    </tr>\n",
       "    <tr>\n",
       "      <th>1</th>\n",
       "      <td>130.0</td>\n",
       "      <td>665000.0</td>\n",
       "      <td>8</td>\n",
       "      <td>34</td>\n",
       "      <td>9</td>\n",
       "      <td>866.941448</td>\n",
       "      <td>640.151925</td>\n",
       "      <td>903.659703</td>\n",
       "      <td>232</td>\n",
       "      <td>2012</td>\n",
       "      <td>...</td>\n",
       "      <td>0</td>\n",
       "      <td>0</td>\n",
       "      <td>0</td>\n",
       "      <td>0</td>\n",
       "      <td>0</td>\n",
       "      <td>0</td>\n",
       "      <td>0</td>\n",
       "      <td>0</td>\n",
       "      <td>0</td>\n",
       "      <td>0</td>\n",
       "    </tr>\n",
       "    <tr>\n",
       "      <th>2</th>\n",
       "      <td>144.0</td>\n",
       "      <td>838000.0</td>\n",
       "      <td>14</td>\n",
       "      <td>24</td>\n",
       "      <td>16</td>\n",
       "      <td>1459.579948</td>\n",
       "      <td>1762.082341</td>\n",
       "      <td>1334.251197</td>\n",
       "      <td>188</td>\n",
       "      <td>2013</td>\n",
       "      <td>...</td>\n",
       "      <td>0</td>\n",
       "      <td>0</td>\n",
       "      <td>0</td>\n",
       "      <td>0</td>\n",
       "      <td>0</td>\n",
       "      <td>0</td>\n",
       "      <td>0</td>\n",
       "      <td>0</td>\n",
       "      <td>0</td>\n",
       "      <td>0</td>\n",
       "    </tr>\n",
       "    <tr>\n",
       "      <th>3</th>\n",
       "      <td>103.0</td>\n",
       "      <td>550000.0</td>\n",
       "      <td>3</td>\n",
       "      <td>29</td>\n",
       "      <td>11</td>\n",
       "      <td>950.175199</td>\n",
       "      <td>726.215262</td>\n",
       "      <td>907.453484</td>\n",
       "      <td>253</td>\n",
       "      <td>2012</td>\n",
       "      <td>...</td>\n",
       "      <td>0</td>\n",
       "      <td>0</td>\n",
       "      <td>0</td>\n",
       "      <td>0</td>\n",
       "      <td>0</td>\n",
       "      <td>0</td>\n",
       "      <td>0</td>\n",
       "      <td>0</td>\n",
       "      <td>0</td>\n",
       "      <td>0</td>\n",
       "    </tr>\n",
       "    <tr>\n",
       "      <th>4</th>\n",
       "      <td>83.0</td>\n",
       "      <td>298000.0</td>\n",
       "      <td>2</td>\n",
       "      <td>34</td>\n",
       "      <td>4</td>\n",
       "      <td>729.771895</td>\n",
       "      <td>1540.151439</td>\n",
       "      <td>412.343032</td>\n",
       "      <td>208</td>\n",
       "      <td>2017</td>\n",
       "      <td>...</td>\n",
       "      <td>0</td>\n",
       "      <td>0</td>\n",
       "      <td>0</td>\n",
       "      <td>0</td>\n",
       "      <td>0</td>\n",
       "      <td>0</td>\n",
       "      <td>0</td>\n",
       "      <td>0</td>\n",
       "      <td>0</td>\n",
       "      <td>1</td>\n",
       "    </tr>\n",
       "  </tbody>\n",
       "</table>\n",
       "<p>5 rows × 71 columns</p>\n",
       "</div>"
      ],
      "text/plain": [
       "   floor_area_sqm  resale_price  mid  hdb_age  max_floor_lvl  \\\n",
       "0            90.0      680000.0   11       15             25   \n",
       "1           130.0      665000.0    8       34              9   \n",
       "2           144.0      838000.0   14       24             16   \n",
       "3           103.0      550000.0    3       29             11   \n",
       "4            83.0      298000.0    2       34              4   \n",
       "\n",
       "   Mall_Nearest_Distance  Hawker_Nearest_Distance  mrt_nearest_distance  \\\n",
       "0            1094.090418               154.753357            330.083069   \n",
       "1             866.941448               640.151925            903.659703   \n",
       "2            1459.579948              1762.082341           1334.251197   \n",
       "3             950.175199               726.215262            907.453484   \n",
       "4             729.771895              1540.151439            412.343032   \n",
       "\n",
       "   cutoff_point  Tranc_Year  ...  planning_area_Rochor  \\\n",
       "0           224        2016  ...                     0   \n",
       "1           232        2012  ...                     0   \n",
       "2           188        2013  ...                     0   \n",
       "3           253        2012  ...                     0   \n",
       "4           208        2017  ...                     0   \n",
       "\n",
       "   planning_area_Sembawang  planning_area_Sengkang  planning_area_Serangoon  \\\n",
       "0                        0                       0                        0   \n",
       "1                        0                       0                        0   \n",
       "2                        0                       0                        0   \n",
       "3                        0                       0                        0   \n",
       "4                        0                       0                        0   \n",
       "\n",
       "   planning_area_Tampines  planning_area_Tanglin  planning_area_Toa Payoh  \\\n",
       "0                       0                      0                        0   \n",
       "1                       0                      0                        0   \n",
       "2                       0                      0                        0   \n",
       "3                       0                      0                        0   \n",
       "4                       0                      0                        0   \n",
       "\n",
       "   planning_area_Western Water Catchment  planning_area_Woodlands  \\\n",
       "0                                      0                        0   \n",
       "1                                      0                        0   \n",
       "2                                      0                        0   \n",
       "3                                      0                        0   \n",
       "4                                      0                        0   \n",
       "\n",
       "   planning_area_Yishun  \n",
       "0                     0  \n",
       "1                     0  \n",
       "2                     0  \n",
       "3                     0  \n",
       "4                     1  \n",
       "\n",
       "[5 rows x 71 columns]"
      ]
     },
     "execution_count": 87,
     "metadata": {},
     "output_type": "execute_result"
    }
   ],
   "source": [
    "df.head()"
   ]
  },
  {
   "cell_type": "markdown",
   "id": "13d0ece5-1e5a-4264-9f16-fd63db606330",
   "metadata": {},
   "source": [
    "## Split Data by features"
   ]
  },
  {
   "cell_type": "markdown",
   "id": "7c802b11-f272-465d-b01d-0a5b29d5f71e",
   "metadata": {},
   "source": [
    "2 type of features are selected to build 4 models.  \n",
    "The first type of feature is the flat type, which roughly translate into the number of rooms.   \n",
    "Another is the location of flat, given by planning area.  "
   ]
  },
  {
   "cell_type": "code",
   "execution_count": 88,
   "id": "c0169373-277f-4bce-9936-e15944c813e4",
   "metadata": {},
   "outputs": [],
   "source": [
    "# One Hot Encoded name\n",
    "less_rm = ['flat_type_'+rm for rm in less_rm]\n",
    "more_rm = ['flat_type_'+rm for rm in more_rm]\n",
    "high_area = ['planning_area_'+area for area in high_area]\n",
    "other_area = ['planning_area_'+area for area in other_area]"
   ]
  },
  {
   "cell_type": "code",
   "execution_count": 89,
   "id": "7b190d6a-3e05-4e23-b322-c75fd40d37fa",
   "metadata": {},
   "outputs": [],
   "source": [
    "# build model based on different datasets\n",
    "# split the df into different datasets\n",
    "def filter_df(df, targets):\n",
    "    '''filter the dataframe input\n",
    "    args: \n",
    "        df: original dataframe to filter\n",
    "        targets: list of targets to filter\n",
    "    out:\n",
    "        df_comb: combined df of filter result\n",
    "    '''\n",
    "    df_comb = df.loc[df[targets[0]]==1]\n",
    "    for tar in targets[1:]:\n",
    "        df_temp = df.loc[df[tar]==1]\n",
    "        df_comb = pd.concat([df_comb, df_temp])\n",
    "    return df_comb"
   ]
  },
  {
   "cell_type": "code",
   "execution_count": 90,
   "id": "b80a5b6f-1225-4cd3-95e5-14e80dd67c5e",
   "metadata": {},
   "outputs": [],
   "source": [
    "df_less_rm = filter_df(df, less_rm).copy(deep=True)"
   ]
  },
  {
   "cell_type": "code",
   "execution_count": 91,
   "id": "9bdbe467-9dd6-4cd9-a915-e117a041a869",
   "metadata": {},
   "outputs": [],
   "source": [
    "df_more_rm = filter_df(df, more_rm).copy(deep=True)"
   ]
  },
  {
   "cell_type": "code",
   "execution_count": 92,
   "id": "bd24b287-2d39-45e1-baff-8a505b64dc5b",
   "metadata": {},
   "outputs": [
    {
     "name": "stdout",
     "output_type": "stream",
     "text": [
      "Smaller flats makes a total of 27.29 % of the original training data.\n"
     ]
    }
   ],
   "source": [
    "print(f\"Smaller flats makes a total of {round((df_less_rm.shape[0]/df.shape[0])*100,2)} % of the original training data.\")"
   ]
  },
  {
   "cell_type": "code",
   "execution_count": 93,
   "id": "8c079dff-b3e9-4994-9248-404fdf707e7b",
   "metadata": {},
   "outputs": [],
   "source": [
    "df_high_area = filter_df(df, high_area).copy(deep=True)"
   ]
  },
  {
   "cell_type": "code",
   "execution_count": 94,
   "id": "65ac44e1-0727-4110-b295-58f6ea27c153",
   "metadata": {},
   "outputs": [],
   "source": [
    "df_other_area = filter_df(df, other_area).copy(deep=True)"
   ]
  },
  {
   "cell_type": "code",
   "execution_count": 95,
   "id": "bd6f9910-ab7a-4e21-91de-5cc366d7fcb0",
   "metadata": {},
   "outputs": [
    {
     "name": "stdout",
     "output_type": "stream",
     "text": [
      "High valued area makes a total of 9.93 % of the original training data.\n"
     ]
    }
   ],
   "source": [
    "print(f\"High valued area makes a total of {round((df_high_area.shape[0]/df.shape[0])*100,2)} % of the original training data.\")"
   ]
  },
  {
   "cell_type": "code",
   "execution_count": 96,
   "id": "40abdeff-a29c-4f92-9d9b-753b7d400374",
   "metadata": {},
   "outputs": [],
   "source": [
    "# Split the data into X and y\n",
    "def split_X_y(df, y_name):\n",
    "    '''This function splits the dataframe and return the X and y\n",
    "    args:\n",
    "        df: original\n",
    "        y_name: target feature name\n",
    "    out:\n",
    "        X: training features\n",
    "        y: target features\n",
    "    '''\n",
    "    y = df[y_name]\n",
    "    X = df.drop(columns=[y_name])\n",
    "    return X, y"
   ]
  },
  {
   "cell_type": "code",
   "execution_count": 97,
   "id": "033ee5c4-3c58-47a4-aaa4-89147f905270",
   "metadata": {},
   "outputs": [],
   "source": [
    "# Split the dataset for X and y\n",
    "X_less_rm, y_less_rm = split_X_y(df_less_rm, 'resale_price')\n",
    "X_more_rm, y_more_rm = split_X_y(df_more_rm, 'resale_price')\n",
    "X_high_area, y_high_area = split_X_y(df_high_area, 'resale_price')\n",
    "X_other_area, y_other_area = split_X_y(df_other_area, 'resale_price')"
   ]
  },
  {
   "cell_type": "code",
   "execution_count": 98,
   "id": "05449488-b74c-48a5-8811-84312d5eae9f",
   "metadata": {},
   "outputs": [],
   "source": [
    "# Split the data using train test split.\n",
    "X_less_rm_train, X_less_rm_test, y_less_rm_train, y_less_rm_test = train_test_split(X_less_rm, y_less_rm, test_size=0.2, random_state=0)\n",
    "X_more_rm_train, X_more_rm_test, y_more_rm_train, y_more_rm_test = train_test_split(X_more_rm, y_more_rm, test_size=0.2, random_state=0)\n",
    "X_high_area_train, X_high_area_test, y_high_area_train, y_high_area_test = train_test_split(X_high_area, y_high_area, test_size=0.2, random_state=0)\n",
    "X_other_area_train, X_other_area_test, y_other_area_train, y_other_area_test = train_test_split(X_other_area, y_other_area, test_size=0.2, random_state=0)"
   ]
  },
  {
   "cell_type": "code",
   "execution_count": 99,
   "id": "d6519b98-634f-4f77-adb1-e51a7e374d93",
   "metadata": {},
   "outputs": [],
   "source": [
    "numeric_transformer = Pipeline(\n",
    "    steps=[(\"simple impute\", SimpleImputer(missing_values=np.nan, strategy='mean')),\n",
    "           (\"scaler\", StandardScaler())\n",
    "            ]\n",
    ")"
   ]
  },
  {
   "cell_type": "code",
   "execution_count": 100,
   "id": "0dc499b4-af68-4896-a42e-e4c78ba7d385",
   "metadata": {},
   "outputs": [],
   "source": [
    "preprocessor = ColumnTransformer(\n",
    "    transformers=[(\"num\", numeric_transformer, numerical_col),('ohe columns', 'passthrough', ohe_col)]\n",
    ")"
   ]
  },
  {
   "cell_type": "markdown",
   "id": "f7886095-a66e-484e-b729-7455d404adb2",
   "metadata": {},
   "source": [
    "As explained earlier on, I will choose `LinearRegression()`, since it is simpler.  \n",
    "I have tested Ridge and Lasso as well as Elastic Net here, without tunning.  \n",
    "Performance wise, `LinearRegression()` is on par or exceeds the rest."
   ]
  },
  {
   "cell_type": "markdown",
   "id": "cc4ffc6f-1074-4548-a572-8d92ab32913d",
   "metadata": {},
   "source": [
    "## Make 4 Models"
   ]
  },
  {
   "cell_type": "markdown",
   "id": "8061a81d-85f9-4dee-9ed7-7f42335ede85",
   "metadata": {},
   "source": [
    "As there are 2 types, and each type is split into 2 sets of data, I need 4 models in total.  "
   ]
  },
  {
   "cell_type": "code",
   "execution_count": 101,
   "id": "467e9679-07a1-4cda-8a6c-ab384570b3f2",
   "metadata": {},
   "outputs": [
    {
     "data": {
      "text/html": [
       "<style>#sk-container-id-11 {color: black;background-color: white;}#sk-container-id-11 pre{padding: 0;}#sk-container-id-11 div.sk-toggleable {background-color: white;}#sk-container-id-11 label.sk-toggleable__label {cursor: pointer;display: block;width: 100%;margin-bottom: 0;padding: 0.3em;box-sizing: border-box;text-align: center;}#sk-container-id-11 label.sk-toggleable__label-arrow:before {content: \"▸\";float: left;margin-right: 0.25em;color: #696969;}#sk-container-id-11 label.sk-toggleable__label-arrow:hover:before {color: black;}#sk-container-id-11 div.sk-estimator:hover label.sk-toggleable__label-arrow:before {color: black;}#sk-container-id-11 div.sk-toggleable__content {max-height: 0;max-width: 0;overflow: hidden;text-align: left;background-color: #f0f8ff;}#sk-container-id-11 div.sk-toggleable__content pre {margin: 0.2em;color: black;border-radius: 0.25em;background-color: #f0f8ff;}#sk-container-id-11 input.sk-toggleable__control:checked~div.sk-toggleable__content {max-height: 200px;max-width: 100%;overflow: auto;}#sk-container-id-11 input.sk-toggleable__control:checked~label.sk-toggleable__label-arrow:before {content: \"▾\";}#sk-container-id-11 div.sk-estimator input.sk-toggleable__control:checked~label.sk-toggleable__label {background-color: #d4ebff;}#sk-container-id-11 div.sk-label input.sk-toggleable__control:checked~label.sk-toggleable__label {background-color: #d4ebff;}#sk-container-id-11 input.sk-hidden--visually {border: 0;clip: rect(1px 1px 1px 1px);clip: rect(1px, 1px, 1px, 1px);height: 1px;margin: -1px;overflow: hidden;padding: 0;position: absolute;width: 1px;}#sk-container-id-11 div.sk-estimator {font-family: monospace;background-color: #f0f8ff;border: 1px dotted black;border-radius: 0.25em;box-sizing: border-box;margin-bottom: 0.5em;}#sk-container-id-11 div.sk-estimator:hover {background-color: #d4ebff;}#sk-container-id-11 div.sk-parallel-item::after {content: \"\";width: 100%;border-bottom: 1px solid gray;flex-grow: 1;}#sk-container-id-11 div.sk-label:hover label.sk-toggleable__label {background-color: #d4ebff;}#sk-container-id-11 div.sk-serial::before {content: \"\";position: absolute;border-left: 1px solid gray;box-sizing: border-box;top: 0;bottom: 0;left: 50%;z-index: 0;}#sk-container-id-11 div.sk-serial {display: flex;flex-direction: column;align-items: center;background-color: white;padding-right: 0.2em;padding-left: 0.2em;position: relative;}#sk-container-id-11 div.sk-item {position: relative;z-index: 1;}#sk-container-id-11 div.sk-parallel {display: flex;align-items: stretch;justify-content: center;background-color: white;position: relative;}#sk-container-id-11 div.sk-item::before, #sk-container-id-11 div.sk-parallel-item::before {content: \"\";position: absolute;border-left: 1px solid gray;box-sizing: border-box;top: 0;bottom: 0;left: 50%;z-index: -1;}#sk-container-id-11 div.sk-parallel-item {display: flex;flex-direction: column;z-index: 1;position: relative;background-color: white;}#sk-container-id-11 div.sk-parallel-item:first-child::after {align-self: flex-end;width: 50%;}#sk-container-id-11 div.sk-parallel-item:last-child::after {align-self: flex-start;width: 50%;}#sk-container-id-11 div.sk-parallel-item:only-child::after {width: 0;}#sk-container-id-11 div.sk-dashed-wrapped {border: 1px dashed gray;margin: 0 0.4em 0.5em 0.4em;box-sizing: border-box;padding-bottom: 0.4em;background-color: white;}#sk-container-id-11 div.sk-label label {font-family: monospace;font-weight: bold;display: inline-block;line-height: 1.2em;}#sk-container-id-11 div.sk-label-container {text-align: center;}#sk-container-id-11 div.sk-container {/* jupyter's `normalize.less` sets `[hidden] { display: none; }` but bootstrap.min.css set `[hidden] { display: none !important; }` so we also need the `!important` here to be able to override the default hidden behavior on the sphinx rendered scikit-learn.org. See: https://github.com/scikit-learn/scikit-learn/issues/21755 */display: inline-block !important;position: relative;}#sk-container-id-11 div.sk-text-repr-fallback {display: none;}</style><div id=\"sk-container-id-11\" class=\"sk-top-container\"><div class=\"sk-text-repr-fallback\"><pre>Pipeline(steps=[(&#x27;preprocessor&#x27;,\n",
       "                 ColumnTransformer(transformers=[(&#x27;num&#x27;,\n",
       "                                                  Pipeline(steps=[(&#x27;simple &#x27;\n",
       "                                                                   &#x27;impute&#x27;,\n",
       "                                                                   SimpleImputer()),\n",
       "                                                                  (&#x27;scaler&#x27;,\n",
       "                                                                   StandardScaler())]),\n",
       "                                                  [&#x27;floor_area_sqm&#x27;, &#x27;mid&#x27;,\n",
       "                                                   &#x27;hdb_age&#x27;, &#x27;max_floor_lvl&#x27;,\n",
       "                                                   &#x27;Mall_Nearest_Distance&#x27;,\n",
       "                                                   &#x27;Hawker_Nearest_Distance&#x27;,\n",
       "                                                   &#x27;mrt_nearest_distance&#x27;,\n",
       "                                                   &#x27;cutoff_point&#x27;]),\n",
       "                                                 (&#x27;ohe columns&#x27;, &#x27;passthrough&#x27;,\n",
       "                                                  [&#x27;Tranc_Year&#x27;,\n",
       "                                                   &#x27;bus_interchange...\n",
       "                                                   &#x27;flat_model_Model &#x27;\n",
       "                                                   &#x27;A-Maisonette&#x27;,\n",
       "                                                   &#x27;flat_model_Model A2&#x27;,\n",
       "                                                   &#x27;flat_model_Multi &#x27;\n",
       "                                                   &#x27;Generation&#x27;,\n",
       "                                                   &#x27;flat_model_New Generation&#x27;,\n",
       "                                                   &#x27;flat_model_Premium &#x27;\n",
       "                                                   &#x27;Apartment&#x27;,\n",
       "                                                   &#x27;flat_model_Premium &#x27;\n",
       "                                                   &#x27;Apartment Loft&#x27;,\n",
       "                                                   &#x27;flat_model_Premium &#x27;\n",
       "                                                   &#x27;Maisonette&#x27;,\n",
       "                                                   &#x27;flat_model_Simplified&#x27;,\n",
       "                                                   &#x27;flat_model_Standard&#x27;,\n",
       "                                                   &#x27;flat_model_Terrace&#x27;,\n",
       "                                                   &#x27;flat_model_Type S1&#x27;,\n",
       "                                                   &#x27;flat_model_Type S2&#x27;, ...])])),\n",
       "                (&#x27;regressor&#x27;, LinearRegression())])</pre><b>In a Jupyter environment, please rerun this cell to show the HTML representation or trust the notebook. <br />On GitHub, the HTML representation is unable to render, please try loading this page with nbviewer.org.</b></div><div class=\"sk-container\" hidden><div class=\"sk-item sk-dashed-wrapped\"><div class=\"sk-label-container\"><div class=\"sk-label sk-toggleable\"><input class=\"sk-toggleable__control sk-hidden--visually\" id=\"sk-estimator-id-85\" type=\"checkbox\" ><label for=\"sk-estimator-id-85\" class=\"sk-toggleable__label sk-toggleable__label-arrow\">Pipeline</label><div class=\"sk-toggleable__content\"><pre>Pipeline(steps=[(&#x27;preprocessor&#x27;,\n",
       "                 ColumnTransformer(transformers=[(&#x27;num&#x27;,\n",
       "                                                  Pipeline(steps=[(&#x27;simple &#x27;\n",
       "                                                                   &#x27;impute&#x27;,\n",
       "                                                                   SimpleImputer()),\n",
       "                                                                  (&#x27;scaler&#x27;,\n",
       "                                                                   StandardScaler())]),\n",
       "                                                  [&#x27;floor_area_sqm&#x27;, &#x27;mid&#x27;,\n",
       "                                                   &#x27;hdb_age&#x27;, &#x27;max_floor_lvl&#x27;,\n",
       "                                                   &#x27;Mall_Nearest_Distance&#x27;,\n",
       "                                                   &#x27;Hawker_Nearest_Distance&#x27;,\n",
       "                                                   &#x27;mrt_nearest_distance&#x27;,\n",
       "                                                   &#x27;cutoff_point&#x27;]),\n",
       "                                                 (&#x27;ohe columns&#x27;, &#x27;passthrough&#x27;,\n",
       "                                                  [&#x27;Tranc_Year&#x27;,\n",
       "                                                   &#x27;bus_interchange...\n",
       "                                                   &#x27;flat_model_Model &#x27;\n",
       "                                                   &#x27;A-Maisonette&#x27;,\n",
       "                                                   &#x27;flat_model_Model A2&#x27;,\n",
       "                                                   &#x27;flat_model_Multi &#x27;\n",
       "                                                   &#x27;Generation&#x27;,\n",
       "                                                   &#x27;flat_model_New Generation&#x27;,\n",
       "                                                   &#x27;flat_model_Premium &#x27;\n",
       "                                                   &#x27;Apartment&#x27;,\n",
       "                                                   &#x27;flat_model_Premium &#x27;\n",
       "                                                   &#x27;Apartment Loft&#x27;,\n",
       "                                                   &#x27;flat_model_Premium &#x27;\n",
       "                                                   &#x27;Maisonette&#x27;,\n",
       "                                                   &#x27;flat_model_Simplified&#x27;,\n",
       "                                                   &#x27;flat_model_Standard&#x27;,\n",
       "                                                   &#x27;flat_model_Terrace&#x27;,\n",
       "                                                   &#x27;flat_model_Type S1&#x27;,\n",
       "                                                   &#x27;flat_model_Type S2&#x27;, ...])])),\n",
       "                (&#x27;regressor&#x27;, LinearRegression())])</pre></div></div></div><div class=\"sk-serial\"><div class=\"sk-item sk-dashed-wrapped\"><div class=\"sk-label-container\"><div class=\"sk-label sk-toggleable\"><input class=\"sk-toggleable__control sk-hidden--visually\" id=\"sk-estimator-id-86\" type=\"checkbox\" ><label for=\"sk-estimator-id-86\" class=\"sk-toggleable__label sk-toggleable__label-arrow\">preprocessor: ColumnTransformer</label><div class=\"sk-toggleable__content\"><pre>ColumnTransformer(transformers=[(&#x27;num&#x27;,\n",
       "                                 Pipeline(steps=[(&#x27;simple impute&#x27;,\n",
       "                                                  SimpleImputer()),\n",
       "                                                 (&#x27;scaler&#x27;, StandardScaler())]),\n",
       "                                 [&#x27;floor_area_sqm&#x27;, &#x27;mid&#x27;, &#x27;hdb_age&#x27;,\n",
       "                                  &#x27;max_floor_lvl&#x27;, &#x27;Mall_Nearest_Distance&#x27;,\n",
       "                                  &#x27;Hawker_Nearest_Distance&#x27;,\n",
       "                                  &#x27;mrt_nearest_distance&#x27;, &#x27;cutoff_point&#x27;]),\n",
       "                                (&#x27;ohe columns&#x27;, &#x27;passthrough&#x27;,\n",
       "                                 [&#x27;Tranc_Year&#x27;, &#x27;bus_interchange&#x27;,\n",
       "                                  &#x27;mrt_interchange&#x27;, &#x27;flat_type_1 RO...\n",
       "                                  &#x27;flat_model_Maisonette&#x27;, &#x27;flat_model_Model A&#x27;,\n",
       "                                  &#x27;flat_model_Model A-Maisonette&#x27;,\n",
       "                                  &#x27;flat_model_Model A2&#x27;,\n",
       "                                  &#x27;flat_model_Multi Generation&#x27;,\n",
       "                                  &#x27;flat_model_New Generation&#x27;,\n",
       "                                  &#x27;flat_model_Premium Apartment&#x27;,\n",
       "                                  &#x27;flat_model_Premium Apartment Loft&#x27;,\n",
       "                                  &#x27;flat_model_Premium Maisonette&#x27;,\n",
       "                                  &#x27;flat_model_Simplified&#x27;,\n",
       "                                  &#x27;flat_model_Standard&#x27;, &#x27;flat_model_Terrace&#x27;,\n",
       "                                  &#x27;flat_model_Type S1&#x27;, &#x27;flat_model_Type S2&#x27;, ...])])</pre></div></div></div><div class=\"sk-parallel\"><div class=\"sk-parallel-item\"><div class=\"sk-item\"><div class=\"sk-label-container\"><div class=\"sk-label sk-toggleable\"><input class=\"sk-toggleable__control sk-hidden--visually\" id=\"sk-estimator-id-87\" type=\"checkbox\" ><label for=\"sk-estimator-id-87\" class=\"sk-toggleable__label sk-toggleable__label-arrow\">num</label><div class=\"sk-toggleable__content\"><pre>[&#x27;floor_area_sqm&#x27;, &#x27;mid&#x27;, &#x27;hdb_age&#x27;, &#x27;max_floor_lvl&#x27;, &#x27;Mall_Nearest_Distance&#x27;, &#x27;Hawker_Nearest_Distance&#x27;, &#x27;mrt_nearest_distance&#x27;, &#x27;cutoff_point&#x27;]</pre></div></div></div><div class=\"sk-serial\"><div class=\"sk-item\"><div class=\"sk-serial\"><div class=\"sk-item\"><div class=\"sk-estimator sk-toggleable\"><input class=\"sk-toggleable__control sk-hidden--visually\" id=\"sk-estimator-id-88\" type=\"checkbox\" ><label for=\"sk-estimator-id-88\" class=\"sk-toggleable__label sk-toggleable__label-arrow\">SimpleImputer</label><div class=\"sk-toggleable__content\"><pre>SimpleImputer()</pre></div></div></div><div class=\"sk-item\"><div class=\"sk-estimator sk-toggleable\"><input class=\"sk-toggleable__control sk-hidden--visually\" id=\"sk-estimator-id-89\" type=\"checkbox\" ><label for=\"sk-estimator-id-89\" class=\"sk-toggleable__label sk-toggleable__label-arrow\">StandardScaler</label><div class=\"sk-toggleable__content\"><pre>StandardScaler()</pre></div></div></div></div></div></div></div></div><div class=\"sk-parallel-item\"><div class=\"sk-item\"><div class=\"sk-label-container\"><div class=\"sk-label sk-toggleable\"><input class=\"sk-toggleable__control sk-hidden--visually\" id=\"sk-estimator-id-90\" type=\"checkbox\" ><label for=\"sk-estimator-id-90\" class=\"sk-toggleable__label sk-toggleable__label-arrow\">ohe columns</label><div class=\"sk-toggleable__content\"><pre>[&#x27;Tranc_Year&#x27;, &#x27;bus_interchange&#x27;, &#x27;mrt_interchange&#x27;, &#x27;flat_type_1 ROOM&#x27;, &#x27;flat_type_2 ROOM&#x27;, &#x27;flat_type_3 ROOM&#x27;, &#x27;flat_type_4 ROOM&#x27;, &#x27;flat_type_5 ROOM&#x27;, &#x27;flat_type_EXECUTIVE&#x27;, &#x27;flat_type_MULTI-GENERATION&#x27;, &#x27;flat_model_2-room&#x27;, &#x27;flat_model_Adjoined flat&#x27;, &#x27;flat_model_Apartment&#x27;, &#x27;flat_model_DBSS&#x27;, &#x27;flat_model_Improved&#x27;, &#x27;flat_model_Improved-Maisonette&#x27;, &#x27;flat_model_Maisonette&#x27;, &#x27;flat_model_Model A&#x27;, &#x27;flat_model_Model A-Maisonette&#x27;, &#x27;flat_model_Model A2&#x27;, &#x27;flat_model_Multi Generation&#x27;, &#x27;flat_model_New Generation&#x27;, &#x27;flat_model_Premium Apartment&#x27;, &#x27;flat_model_Premium Apartment Loft&#x27;, &#x27;flat_model_Premium Maisonette&#x27;, &#x27;flat_model_Simplified&#x27;, &#x27;flat_model_Standard&#x27;, &#x27;flat_model_Terrace&#x27;, &#x27;flat_model_Type S1&#x27;, &#x27;flat_model_Type S2&#x27;, &#x27;planning_area_Ang Mo Kio&#x27;, &#x27;planning_area_Bedok&#x27;, &#x27;planning_area_Bishan&#x27;, &#x27;planning_area_Bukit Batok&#x27;, &#x27;planning_area_Bukit Merah&#x27;, &#x27;planning_area_Bukit Panjang&#x27;, &#x27;planning_area_Bukit Timah&#x27;, &#x27;planning_area_Changi&#x27;, &#x27;planning_area_Choa Chu Kang&#x27;, &#x27;planning_area_Clementi&#x27;, &#x27;planning_area_Downtown Core&#x27;, &#x27;planning_area_Geylang&#x27;, &#x27;planning_area_Hougang&#x27;, &#x27;planning_area_Jurong East&#x27;, &#x27;planning_area_Jurong West&#x27;, &#x27;planning_area_Kallang&#x27;, &#x27;planning_area_Marine Parade&#x27;, &#x27;planning_area_Novena&#x27;, &#x27;planning_area_Outram&#x27;, &#x27;planning_area_Pasir Ris&#x27;, &#x27;planning_area_Punggol&#x27;, &#x27;planning_area_Queenstown&#x27;, &#x27;planning_area_Rochor&#x27;, &#x27;planning_area_Sembawang&#x27;, &#x27;planning_area_Sengkang&#x27;, &#x27;planning_area_Serangoon&#x27;, &#x27;planning_area_Tampines&#x27;, &#x27;planning_area_Tanglin&#x27;, &#x27;planning_area_Toa Payoh&#x27;, &#x27;planning_area_Western Water Catchment&#x27;, &#x27;planning_area_Woodlands&#x27;, &#x27;planning_area_Yishun&#x27;]</pre></div></div></div><div class=\"sk-serial\"><div class=\"sk-item\"><div class=\"sk-estimator sk-toggleable\"><input class=\"sk-toggleable__control sk-hidden--visually\" id=\"sk-estimator-id-91\" type=\"checkbox\" ><label for=\"sk-estimator-id-91\" class=\"sk-toggleable__label sk-toggleable__label-arrow\">passthrough</label><div class=\"sk-toggleable__content\"><pre>passthrough</pre></div></div></div></div></div></div></div></div><div class=\"sk-item\"><div class=\"sk-estimator sk-toggleable\"><input class=\"sk-toggleable__control sk-hidden--visually\" id=\"sk-estimator-id-92\" type=\"checkbox\" ><label for=\"sk-estimator-id-92\" class=\"sk-toggleable__label sk-toggleable__label-arrow\">LinearRegression</label><div class=\"sk-toggleable__content\"><pre>LinearRegression()</pre></div></div></div></div></div></div></div>"
      ],
      "text/plain": [
       "Pipeline(steps=[('preprocessor',\n",
       "                 ColumnTransformer(transformers=[('num',\n",
       "                                                  Pipeline(steps=[('simple '\n",
       "                                                                   'impute',\n",
       "                                                                   SimpleImputer()),\n",
       "                                                                  ('scaler',\n",
       "                                                                   StandardScaler())]),\n",
       "                                                  ['floor_area_sqm', 'mid',\n",
       "                                                   'hdb_age', 'max_floor_lvl',\n",
       "                                                   'Mall_Nearest_Distance',\n",
       "                                                   'Hawker_Nearest_Distance',\n",
       "                                                   'mrt_nearest_distance',\n",
       "                                                   'cutoff_point']),\n",
       "                                                 ('ohe columns', 'passthrough',\n",
       "                                                  ['Tranc_Year',\n",
       "                                                   'bus_interchange...\n",
       "                                                   'flat_model_Model '\n",
       "                                                   'A-Maisonette',\n",
       "                                                   'flat_model_Model A2',\n",
       "                                                   'flat_model_Multi '\n",
       "                                                   'Generation',\n",
       "                                                   'flat_model_New Generation',\n",
       "                                                   'flat_model_Premium '\n",
       "                                                   'Apartment',\n",
       "                                                   'flat_model_Premium '\n",
       "                                                   'Apartment Loft',\n",
       "                                                   'flat_model_Premium '\n",
       "                                                   'Maisonette',\n",
       "                                                   'flat_model_Simplified',\n",
       "                                                   'flat_model_Standard',\n",
       "                                                   'flat_model_Terrace',\n",
       "                                                   'flat_model_Type S1',\n",
       "                                                   'flat_model_Type S2', ...])])),\n",
       "                ('regressor', LinearRegression())])"
      ]
     },
     "execution_count": 101,
     "metadata": {},
     "output_type": "execute_result"
    }
   ],
   "source": [
    "# Build a pipeline for regression model\n",
    "less_rm_reg = Pipeline(\n",
    "    steps=[(\"preprocessor\", preprocessor), (\"regressor\", LinearRegression())]\n",
    ")\n",
    "less_rm_reg.fit(X_less_rm_train, y_less_rm_train)"
   ]
  },
  {
   "cell_type": "code",
   "execution_count": 102,
   "id": "f25cf26c-3469-4654-9e00-2591a10c81ad",
   "metadata": {},
   "outputs": [
    {
     "name": "stdout",
     "output_type": "stream",
     "text": [
      "The train score is: 0.795677\n",
      "The test score is: 0.800111\n"
     ]
    }
   ],
   "source": [
    "print(f\"The train score is: {round(less_rm_reg.score(X_less_rm_train, y_less_rm_train), 6)}\")\n",
    "print(f\"The test score is: {round(less_rm_reg.score(X_less_rm_test, y_less_rm_test), 6)}\")"
   ]
  },
  {
   "cell_type": "code",
   "execution_count": 103,
   "id": "a49d3e3f-16f6-4bb6-952b-e9b604bcc38c",
   "metadata": {},
   "outputs": [
    {
     "data": {
      "text/html": [
       "<style>#sk-container-id-12 {color: black;background-color: white;}#sk-container-id-12 pre{padding: 0;}#sk-container-id-12 div.sk-toggleable {background-color: white;}#sk-container-id-12 label.sk-toggleable__label {cursor: pointer;display: block;width: 100%;margin-bottom: 0;padding: 0.3em;box-sizing: border-box;text-align: center;}#sk-container-id-12 label.sk-toggleable__label-arrow:before {content: \"▸\";float: left;margin-right: 0.25em;color: #696969;}#sk-container-id-12 label.sk-toggleable__label-arrow:hover:before {color: black;}#sk-container-id-12 div.sk-estimator:hover label.sk-toggleable__label-arrow:before {color: black;}#sk-container-id-12 div.sk-toggleable__content {max-height: 0;max-width: 0;overflow: hidden;text-align: left;background-color: #f0f8ff;}#sk-container-id-12 div.sk-toggleable__content pre {margin: 0.2em;color: black;border-radius: 0.25em;background-color: #f0f8ff;}#sk-container-id-12 input.sk-toggleable__control:checked~div.sk-toggleable__content {max-height: 200px;max-width: 100%;overflow: auto;}#sk-container-id-12 input.sk-toggleable__control:checked~label.sk-toggleable__label-arrow:before {content: \"▾\";}#sk-container-id-12 div.sk-estimator input.sk-toggleable__control:checked~label.sk-toggleable__label {background-color: #d4ebff;}#sk-container-id-12 div.sk-label input.sk-toggleable__control:checked~label.sk-toggleable__label {background-color: #d4ebff;}#sk-container-id-12 input.sk-hidden--visually {border: 0;clip: rect(1px 1px 1px 1px);clip: rect(1px, 1px, 1px, 1px);height: 1px;margin: -1px;overflow: hidden;padding: 0;position: absolute;width: 1px;}#sk-container-id-12 div.sk-estimator {font-family: monospace;background-color: #f0f8ff;border: 1px dotted black;border-radius: 0.25em;box-sizing: border-box;margin-bottom: 0.5em;}#sk-container-id-12 div.sk-estimator:hover {background-color: #d4ebff;}#sk-container-id-12 div.sk-parallel-item::after {content: \"\";width: 100%;border-bottom: 1px solid gray;flex-grow: 1;}#sk-container-id-12 div.sk-label:hover label.sk-toggleable__label {background-color: #d4ebff;}#sk-container-id-12 div.sk-serial::before {content: \"\";position: absolute;border-left: 1px solid gray;box-sizing: border-box;top: 0;bottom: 0;left: 50%;z-index: 0;}#sk-container-id-12 div.sk-serial {display: flex;flex-direction: column;align-items: center;background-color: white;padding-right: 0.2em;padding-left: 0.2em;position: relative;}#sk-container-id-12 div.sk-item {position: relative;z-index: 1;}#sk-container-id-12 div.sk-parallel {display: flex;align-items: stretch;justify-content: center;background-color: white;position: relative;}#sk-container-id-12 div.sk-item::before, #sk-container-id-12 div.sk-parallel-item::before {content: \"\";position: absolute;border-left: 1px solid gray;box-sizing: border-box;top: 0;bottom: 0;left: 50%;z-index: -1;}#sk-container-id-12 div.sk-parallel-item {display: flex;flex-direction: column;z-index: 1;position: relative;background-color: white;}#sk-container-id-12 div.sk-parallel-item:first-child::after {align-self: flex-end;width: 50%;}#sk-container-id-12 div.sk-parallel-item:last-child::after {align-self: flex-start;width: 50%;}#sk-container-id-12 div.sk-parallel-item:only-child::after {width: 0;}#sk-container-id-12 div.sk-dashed-wrapped {border: 1px dashed gray;margin: 0 0.4em 0.5em 0.4em;box-sizing: border-box;padding-bottom: 0.4em;background-color: white;}#sk-container-id-12 div.sk-label label {font-family: monospace;font-weight: bold;display: inline-block;line-height: 1.2em;}#sk-container-id-12 div.sk-label-container {text-align: center;}#sk-container-id-12 div.sk-container {/* jupyter's `normalize.less` sets `[hidden] { display: none; }` but bootstrap.min.css set `[hidden] { display: none !important; }` so we also need the `!important` here to be able to override the default hidden behavior on the sphinx rendered scikit-learn.org. See: https://github.com/scikit-learn/scikit-learn/issues/21755 */display: inline-block !important;position: relative;}#sk-container-id-12 div.sk-text-repr-fallback {display: none;}</style><div id=\"sk-container-id-12\" class=\"sk-top-container\"><div class=\"sk-text-repr-fallback\"><pre>Pipeline(steps=[(&#x27;preprocessor&#x27;,\n",
       "                 ColumnTransformer(transformers=[(&#x27;num&#x27;,\n",
       "                                                  Pipeline(steps=[(&#x27;simple &#x27;\n",
       "                                                                   &#x27;impute&#x27;,\n",
       "                                                                   SimpleImputer()),\n",
       "                                                                  (&#x27;scaler&#x27;,\n",
       "                                                                   StandardScaler())]),\n",
       "                                                  [&#x27;floor_area_sqm&#x27;, &#x27;mid&#x27;,\n",
       "                                                   &#x27;hdb_age&#x27;, &#x27;max_floor_lvl&#x27;,\n",
       "                                                   &#x27;Mall_Nearest_Distance&#x27;,\n",
       "                                                   &#x27;Hawker_Nearest_Distance&#x27;,\n",
       "                                                   &#x27;mrt_nearest_distance&#x27;,\n",
       "                                                   &#x27;cutoff_point&#x27;]),\n",
       "                                                 (&#x27;ohe columns&#x27;, &#x27;passthrough&#x27;,\n",
       "                                                  [&#x27;Tranc_Year&#x27;,\n",
       "                                                   &#x27;bus_interchange...\n",
       "                                                   &#x27;flat_model_Model &#x27;\n",
       "                                                   &#x27;A-Maisonette&#x27;,\n",
       "                                                   &#x27;flat_model_Model A2&#x27;,\n",
       "                                                   &#x27;flat_model_Multi &#x27;\n",
       "                                                   &#x27;Generation&#x27;,\n",
       "                                                   &#x27;flat_model_New Generation&#x27;,\n",
       "                                                   &#x27;flat_model_Premium &#x27;\n",
       "                                                   &#x27;Apartment&#x27;,\n",
       "                                                   &#x27;flat_model_Premium &#x27;\n",
       "                                                   &#x27;Apartment Loft&#x27;,\n",
       "                                                   &#x27;flat_model_Premium &#x27;\n",
       "                                                   &#x27;Maisonette&#x27;,\n",
       "                                                   &#x27;flat_model_Simplified&#x27;,\n",
       "                                                   &#x27;flat_model_Standard&#x27;,\n",
       "                                                   &#x27;flat_model_Terrace&#x27;,\n",
       "                                                   &#x27;flat_model_Type S1&#x27;,\n",
       "                                                   &#x27;flat_model_Type S2&#x27;, ...])])),\n",
       "                (&#x27;regressor&#x27;, LinearRegression())])</pre><b>In a Jupyter environment, please rerun this cell to show the HTML representation or trust the notebook. <br />On GitHub, the HTML representation is unable to render, please try loading this page with nbviewer.org.</b></div><div class=\"sk-container\" hidden><div class=\"sk-item sk-dashed-wrapped\"><div class=\"sk-label-container\"><div class=\"sk-label sk-toggleable\"><input class=\"sk-toggleable__control sk-hidden--visually\" id=\"sk-estimator-id-93\" type=\"checkbox\" ><label for=\"sk-estimator-id-93\" class=\"sk-toggleable__label sk-toggleable__label-arrow\">Pipeline</label><div class=\"sk-toggleable__content\"><pre>Pipeline(steps=[(&#x27;preprocessor&#x27;,\n",
       "                 ColumnTransformer(transformers=[(&#x27;num&#x27;,\n",
       "                                                  Pipeline(steps=[(&#x27;simple &#x27;\n",
       "                                                                   &#x27;impute&#x27;,\n",
       "                                                                   SimpleImputer()),\n",
       "                                                                  (&#x27;scaler&#x27;,\n",
       "                                                                   StandardScaler())]),\n",
       "                                                  [&#x27;floor_area_sqm&#x27;, &#x27;mid&#x27;,\n",
       "                                                   &#x27;hdb_age&#x27;, &#x27;max_floor_lvl&#x27;,\n",
       "                                                   &#x27;Mall_Nearest_Distance&#x27;,\n",
       "                                                   &#x27;Hawker_Nearest_Distance&#x27;,\n",
       "                                                   &#x27;mrt_nearest_distance&#x27;,\n",
       "                                                   &#x27;cutoff_point&#x27;]),\n",
       "                                                 (&#x27;ohe columns&#x27;, &#x27;passthrough&#x27;,\n",
       "                                                  [&#x27;Tranc_Year&#x27;,\n",
       "                                                   &#x27;bus_interchange...\n",
       "                                                   &#x27;flat_model_Model &#x27;\n",
       "                                                   &#x27;A-Maisonette&#x27;,\n",
       "                                                   &#x27;flat_model_Model A2&#x27;,\n",
       "                                                   &#x27;flat_model_Multi &#x27;\n",
       "                                                   &#x27;Generation&#x27;,\n",
       "                                                   &#x27;flat_model_New Generation&#x27;,\n",
       "                                                   &#x27;flat_model_Premium &#x27;\n",
       "                                                   &#x27;Apartment&#x27;,\n",
       "                                                   &#x27;flat_model_Premium &#x27;\n",
       "                                                   &#x27;Apartment Loft&#x27;,\n",
       "                                                   &#x27;flat_model_Premium &#x27;\n",
       "                                                   &#x27;Maisonette&#x27;,\n",
       "                                                   &#x27;flat_model_Simplified&#x27;,\n",
       "                                                   &#x27;flat_model_Standard&#x27;,\n",
       "                                                   &#x27;flat_model_Terrace&#x27;,\n",
       "                                                   &#x27;flat_model_Type S1&#x27;,\n",
       "                                                   &#x27;flat_model_Type S2&#x27;, ...])])),\n",
       "                (&#x27;regressor&#x27;, LinearRegression())])</pre></div></div></div><div class=\"sk-serial\"><div class=\"sk-item sk-dashed-wrapped\"><div class=\"sk-label-container\"><div class=\"sk-label sk-toggleable\"><input class=\"sk-toggleable__control sk-hidden--visually\" id=\"sk-estimator-id-94\" type=\"checkbox\" ><label for=\"sk-estimator-id-94\" class=\"sk-toggleable__label sk-toggleable__label-arrow\">preprocessor: ColumnTransformer</label><div class=\"sk-toggleable__content\"><pre>ColumnTransformer(transformers=[(&#x27;num&#x27;,\n",
       "                                 Pipeline(steps=[(&#x27;simple impute&#x27;,\n",
       "                                                  SimpleImputer()),\n",
       "                                                 (&#x27;scaler&#x27;, StandardScaler())]),\n",
       "                                 [&#x27;floor_area_sqm&#x27;, &#x27;mid&#x27;, &#x27;hdb_age&#x27;,\n",
       "                                  &#x27;max_floor_lvl&#x27;, &#x27;Mall_Nearest_Distance&#x27;,\n",
       "                                  &#x27;Hawker_Nearest_Distance&#x27;,\n",
       "                                  &#x27;mrt_nearest_distance&#x27;, &#x27;cutoff_point&#x27;]),\n",
       "                                (&#x27;ohe columns&#x27;, &#x27;passthrough&#x27;,\n",
       "                                 [&#x27;Tranc_Year&#x27;, &#x27;bus_interchange&#x27;,\n",
       "                                  &#x27;mrt_interchange&#x27;, &#x27;flat_type_1 RO...\n",
       "                                  &#x27;flat_model_Maisonette&#x27;, &#x27;flat_model_Model A&#x27;,\n",
       "                                  &#x27;flat_model_Model A-Maisonette&#x27;,\n",
       "                                  &#x27;flat_model_Model A2&#x27;,\n",
       "                                  &#x27;flat_model_Multi Generation&#x27;,\n",
       "                                  &#x27;flat_model_New Generation&#x27;,\n",
       "                                  &#x27;flat_model_Premium Apartment&#x27;,\n",
       "                                  &#x27;flat_model_Premium Apartment Loft&#x27;,\n",
       "                                  &#x27;flat_model_Premium Maisonette&#x27;,\n",
       "                                  &#x27;flat_model_Simplified&#x27;,\n",
       "                                  &#x27;flat_model_Standard&#x27;, &#x27;flat_model_Terrace&#x27;,\n",
       "                                  &#x27;flat_model_Type S1&#x27;, &#x27;flat_model_Type S2&#x27;, ...])])</pre></div></div></div><div class=\"sk-parallel\"><div class=\"sk-parallel-item\"><div class=\"sk-item\"><div class=\"sk-label-container\"><div class=\"sk-label sk-toggleable\"><input class=\"sk-toggleable__control sk-hidden--visually\" id=\"sk-estimator-id-95\" type=\"checkbox\" ><label for=\"sk-estimator-id-95\" class=\"sk-toggleable__label sk-toggleable__label-arrow\">num</label><div class=\"sk-toggleable__content\"><pre>[&#x27;floor_area_sqm&#x27;, &#x27;mid&#x27;, &#x27;hdb_age&#x27;, &#x27;max_floor_lvl&#x27;, &#x27;Mall_Nearest_Distance&#x27;, &#x27;Hawker_Nearest_Distance&#x27;, &#x27;mrt_nearest_distance&#x27;, &#x27;cutoff_point&#x27;]</pre></div></div></div><div class=\"sk-serial\"><div class=\"sk-item\"><div class=\"sk-serial\"><div class=\"sk-item\"><div class=\"sk-estimator sk-toggleable\"><input class=\"sk-toggleable__control sk-hidden--visually\" id=\"sk-estimator-id-96\" type=\"checkbox\" ><label for=\"sk-estimator-id-96\" class=\"sk-toggleable__label sk-toggleable__label-arrow\">SimpleImputer</label><div class=\"sk-toggleable__content\"><pre>SimpleImputer()</pre></div></div></div><div class=\"sk-item\"><div class=\"sk-estimator sk-toggleable\"><input class=\"sk-toggleable__control sk-hidden--visually\" id=\"sk-estimator-id-97\" type=\"checkbox\" ><label for=\"sk-estimator-id-97\" class=\"sk-toggleable__label sk-toggleable__label-arrow\">StandardScaler</label><div class=\"sk-toggleable__content\"><pre>StandardScaler()</pre></div></div></div></div></div></div></div></div><div class=\"sk-parallel-item\"><div class=\"sk-item\"><div class=\"sk-label-container\"><div class=\"sk-label sk-toggleable\"><input class=\"sk-toggleable__control sk-hidden--visually\" id=\"sk-estimator-id-98\" type=\"checkbox\" ><label for=\"sk-estimator-id-98\" class=\"sk-toggleable__label sk-toggleable__label-arrow\">ohe columns</label><div class=\"sk-toggleable__content\"><pre>[&#x27;Tranc_Year&#x27;, &#x27;bus_interchange&#x27;, &#x27;mrt_interchange&#x27;, &#x27;flat_type_1 ROOM&#x27;, &#x27;flat_type_2 ROOM&#x27;, &#x27;flat_type_3 ROOM&#x27;, &#x27;flat_type_4 ROOM&#x27;, &#x27;flat_type_5 ROOM&#x27;, &#x27;flat_type_EXECUTIVE&#x27;, &#x27;flat_type_MULTI-GENERATION&#x27;, &#x27;flat_model_2-room&#x27;, &#x27;flat_model_Adjoined flat&#x27;, &#x27;flat_model_Apartment&#x27;, &#x27;flat_model_DBSS&#x27;, &#x27;flat_model_Improved&#x27;, &#x27;flat_model_Improved-Maisonette&#x27;, &#x27;flat_model_Maisonette&#x27;, &#x27;flat_model_Model A&#x27;, &#x27;flat_model_Model A-Maisonette&#x27;, &#x27;flat_model_Model A2&#x27;, &#x27;flat_model_Multi Generation&#x27;, &#x27;flat_model_New Generation&#x27;, &#x27;flat_model_Premium Apartment&#x27;, &#x27;flat_model_Premium Apartment Loft&#x27;, &#x27;flat_model_Premium Maisonette&#x27;, &#x27;flat_model_Simplified&#x27;, &#x27;flat_model_Standard&#x27;, &#x27;flat_model_Terrace&#x27;, &#x27;flat_model_Type S1&#x27;, &#x27;flat_model_Type S2&#x27;, &#x27;planning_area_Ang Mo Kio&#x27;, &#x27;planning_area_Bedok&#x27;, &#x27;planning_area_Bishan&#x27;, &#x27;planning_area_Bukit Batok&#x27;, &#x27;planning_area_Bukit Merah&#x27;, &#x27;planning_area_Bukit Panjang&#x27;, &#x27;planning_area_Bukit Timah&#x27;, &#x27;planning_area_Changi&#x27;, &#x27;planning_area_Choa Chu Kang&#x27;, &#x27;planning_area_Clementi&#x27;, &#x27;planning_area_Downtown Core&#x27;, &#x27;planning_area_Geylang&#x27;, &#x27;planning_area_Hougang&#x27;, &#x27;planning_area_Jurong East&#x27;, &#x27;planning_area_Jurong West&#x27;, &#x27;planning_area_Kallang&#x27;, &#x27;planning_area_Marine Parade&#x27;, &#x27;planning_area_Novena&#x27;, &#x27;planning_area_Outram&#x27;, &#x27;planning_area_Pasir Ris&#x27;, &#x27;planning_area_Punggol&#x27;, &#x27;planning_area_Queenstown&#x27;, &#x27;planning_area_Rochor&#x27;, &#x27;planning_area_Sembawang&#x27;, &#x27;planning_area_Sengkang&#x27;, &#x27;planning_area_Serangoon&#x27;, &#x27;planning_area_Tampines&#x27;, &#x27;planning_area_Tanglin&#x27;, &#x27;planning_area_Toa Payoh&#x27;, &#x27;planning_area_Western Water Catchment&#x27;, &#x27;planning_area_Woodlands&#x27;, &#x27;planning_area_Yishun&#x27;]</pre></div></div></div><div class=\"sk-serial\"><div class=\"sk-item\"><div class=\"sk-estimator sk-toggleable\"><input class=\"sk-toggleable__control sk-hidden--visually\" id=\"sk-estimator-id-99\" type=\"checkbox\" ><label for=\"sk-estimator-id-99\" class=\"sk-toggleable__label sk-toggleable__label-arrow\">passthrough</label><div class=\"sk-toggleable__content\"><pre>passthrough</pre></div></div></div></div></div></div></div></div><div class=\"sk-item\"><div class=\"sk-estimator sk-toggleable\"><input class=\"sk-toggleable__control sk-hidden--visually\" id=\"sk-estimator-id-100\" type=\"checkbox\" ><label for=\"sk-estimator-id-100\" class=\"sk-toggleable__label sk-toggleable__label-arrow\">LinearRegression</label><div class=\"sk-toggleable__content\"><pre>LinearRegression()</pre></div></div></div></div></div></div></div>"
      ],
      "text/plain": [
       "Pipeline(steps=[('preprocessor',\n",
       "                 ColumnTransformer(transformers=[('num',\n",
       "                                                  Pipeline(steps=[('simple '\n",
       "                                                                   'impute',\n",
       "                                                                   SimpleImputer()),\n",
       "                                                                  ('scaler',\n",
       "                                                                   StandardScaler())]),\n",
       "                                                  ['floor_area_sqm', 'mid',\n",
       "                                                   'hdb_age', 'max_floor_lvl',\n",
       "                                                   'Mall_Nearest_Distance',\n",
       "                                                   'Hawker_Nearest_Distance',\n",
       "                                                   'mrt_nearest_distance',\n",
       "                                                   'cutoff_point']),\n",
       "                                                 ('ohe columns', 'passthrough',\n",
       "                                                  ['Tranc_Year',\n",
       "                                                   'bus_interchange...\n",
       "                                                   'flat_model_Model '\n",
       "                                                   'A-Maisonette',\n",
       "                                                   'flat_model_Model A2',\n",
       "                                                   'flat_model_Multi '\n",
       "                                                   'Generation',\n",
       "                                                   'flat_model_New Generation',\n",
       "                                                   'flat_model_Premium '\n",
       "                                                   'Apartment',\n",
       "                                                   'flat_model_Premium '\n",
       "                                                   'Apartment Loft',\n",
       "                                                   'flat_model_Premium '\n",
       "                                                   'Maisonette',\n",
       "                                                   'flat_model_Simplified',\n",
       "                                                   'flat_model_Standard',\n",
       "                                                   'flat_model_Terrace',\n",
       "                                                   'flat_model_Type S1',\n",
       "                                                   'flat_model_Type S2', ...])])),\n",
       "                ('regressor', LinearRegression())])"
      ]
     },
     "execution_count": 103,
     "metadata": {},
     "output_type": "execute_result"
    }
   ],
   "source": [
    "# Build a pipeline for regression model\n",
    "more_rm_reg = Pipeline(\n",
    "    steps=[(\"preprocessor\", preprocessor), (\"regressor\", LinearRegression())]\n",
    ")\n",
    "more_rm_reg.fit(X_more_rm_train, y_more_rm_train)"
   ]
  },
  {
   "cell_type": "code",
   "execution_count": 104,
   "id": "769cdc50-9685-40ae-a977-f49a0824876c",
   "metadata": {},
   "outputs": [
    {
     "name": "stdout",
     "output_type": "stream",
     "text": [
      "The train score is: 0.874978\n",
      "The test score is: 0.874102\n"
     ]
    }
   ],
   "source": [
    "print(f\"The train score is: {round(more_rm_reg.score(X_more_rm_train, y_more_rm_train), 6)}\")\n",
    "print(f\"The test score is: {round(more_rm_reg.score(X_more_rm_test, y_more_rm_test), 6)}\")"
   ]
  },
  {
   "cell_type": "code",
   "execution_count": 105,
   "id": "318f81a1-8e79-4171-b885-ce446093fc73",
   "metadata": {},
   "outputs": [
    {
     "data": {
      "text/html": [
       "<style>#sk-container-id-13 {color: black;background-color: white;}#sk-container-id-13 pre{padding: 0;}#sk-container-id-13 div.sk-toggleable {background-color: white;}#sk-container-id-13 label.sk-toggleable__label {cursor: pointer;display: block;width: 100%;margin-bottom: 0;padding: 0.3em;box-sizing: border-box;text-align: center;}#sk-container-id-13 label.sk-toggleable__label-arrow:before {content: \"▸\";float: left;margin-right: 0.25em;color: #696969;}#sk-container-id-13 label.sk-toggleable__label-arrow:hover:before {color: black;}#sk-container-id-13 div.sk-estimator:hover label.sk-toggleable__label-arrow:before {color: black;}#sk-container-id-13 div.sk-toggleable__content {max-height: 0;max-width: 0;overflow: hidden;text-align: left;background-color: #f0f8ff;}#sk-container-id-13 div.sk-toggleable__content pre {margin: 0.2em;color: black;border-radius: 0.25em;background-color: #f0f8ff;}#sk-container-id-13 input.sk-toggleable__control:checked~div.sk-toggleable__content {max-height: 200px;max-width: 100%;overflow: auto;}#sk-container-id-13 input.sk-toggleable__control:checked~label.sk-toggleable__label-arrow:before {content: \"▾\";}#sk-container-id-13 div.sk-estimator input.sk-toggleable__control:checked~label.sk-toggleable__label {background-color: #d4ebff;}#sk-container-id-13 div.sk-label input.sk-toggleable__control:checked~label.sk-toggleable__label {background-color: #d4ebff;}#sk-container-id-13 input.sk-hidden--visually {border: 0;clip: rect(1px 1px 1px 1px);clip: rect(1px, 1px, 1px, 1px);height: 1px;margin: -1px;overflow: hidden;padding: 0;position: absolute;width: 1px;}#sk-container-id-13 div.sk-estimator {font-family: monospace;background-color: #f0f8ff;border: 1px dotted black;border-radius: 0.25em;box-sizing: border-box;margin-bottom: 0.5em;}#sk-container-id-13 div.sk-estimator:hover {background-color: #d4ebff;}#sk-container-id-13 div.sk-parallel-item::after {content: \"\";width: 100%;border-bottom: 1px solid gray;flex-grow: 1;}#sk-container-id-13 div.sk-label:hover label.sk-toggleable__label {background-color: #d4ebff;}#sk-container-id-13 div.sk-serial::before {content: \"\";position: absolute;border-left: 1px solid gray;box-sizing: border-box;top: 0;bottom: 0;left: 50%;z-index: 0;}#sk-container-id-13 div.sk-serial {display: flex;flex-direction: column;align-items: center;background-color: white;padding-right: 0.2em;padding-left: 0.2em;position: relative;}#sk-container-id-13 div.sk-item {position: relative;z-index: 1;}#sk-container-id-13 div.sk-parallel {display: flex;align-items: stretch;justify-content: center;background-color: white;position: relative;}#sk-container-id-13 div.sk-item::before, #sk-container-id-13 div.sk-parallel-item::before {content: \"\";position: absolute;border-left: 1px solid gray;box-sizing: border-box;top: 0;bottom: 0;left: 50%;z-index: -1;}#sk-container-id-13 div.sk-parallel-item {display: flex;flex-direction: column;z-index: 1;position: relative;background-color: white;}#sk-container-id-13 div.sk-parallel-item:first-child::after {align-self: flex-end;width: 50%;}#sk-container-id-13 div.sk-parallel-item:last-child::after {align-self: flex-start;width: 50%;}#sk-container-id-13 div.sk-parallel-item:only-child::after {width: 0;}#sk-container-id-13 div.sk-dashed-wrapped {border: 1px dashed gray;margin: 0 0.4em 0.5em 0.4em;box-sizing: border-box;padding-bottom: 0.4em;background-color: white;}#sk-container-id-13 div.sk-label label {font-family: monospace;font-weight: bold;display: inline-block;line-height: 1.2em;}#sk-container-id-13 div.sk-label-container {text-align: center;}#sk-container-id-13 div.sk-container {/* jupyter's `normalize.less` sets `[hidden] { display: none; }` but bootstrap.min.css set `[hidden] { display: none !important; }` so we also need the `!important` here to be able to override the default hidden behavior on the sphinx rendered scikit-learn.org. See: https://github.com/scikit-learn/scikit-learn/issues/21755 */display: inline-block !important;position: relative;}#sk-container-id-13 div.sk-text-repr-fallback {display: none;}</style><div id=\"sk-container-id-13\" class=\"sk-top-container\"><div class=\"sk-text-repr-fallback\"><pre>Pipeline(steps=[(&#x27;preprocessor&#x27;,\n",
       "                 ColumnTransformer(transformers=[(&#x27;num&#x27;,\n",
       "                                                  Pipeline(steps=[(&#x27;simple &#x27;\n",
       "                                                                   &#x27;impute&#x27;,\n",
       "                                                                   SimpleImputer()),\n",
       "                                                                  (&#x27;scaler&#x27;,\n",
       "                                                                   StandardScaler())]),\n",
       "                                                  [&#x27;floor_area_sqm&#x27;, &#x27;mid&#x27;,\n",
       "                                                   &#x27;hdb_age&#x27;, &#x27;max_floor_lvl&#x27;,\n",
       "                                                   &#x27;Mall_Nearest_Distance&#x27;,\n",
       "                                                   &#x27;Hawker_Nearest_Distance&#x27;,\n",
       "                                                   &#x27;mrt_nearest_distance&#x27;,\n",
       "                                                   &#x27;cutoff_point&#x27;]),\n",
       "                                                 (&#x27;ohe columns&#x27;, &#x27;passthrough&#x27;,\n",
       "                                                  [&#x27;Tranc_Year&#x27;,\n",
       "                                                   &#x27;bus_interchange...\n",
       "                                                   &#x27;flat_model_Model &#x27;\n",
       "                                                   &#x27;A-Maisonette&#x27;,\n",
       "                                                   &#x27;flat_model_Model A2&#x27;,\n",
       "                                                   &#x27;flat_model_Multi &#x27;\n",
       "                                                   &#x27;Generation&#x27;,\n",
       "                                                   &#x27;flat_model_New Generation&#x27;,\n",
       "                                                   &#x27;flat_model_Premium &#x27;\n",
       "                                                   &#x27;Apartment&#x27;,\n",
       "                                                   &#x27;flat_model_Premium &#x27;\n",
       "                                                   &#x27;Apartment Loft&#x27;,\n",
       "                                                   &#x27;flat_model_Premium &#x27;\n",
       "                                                   &#x27;Maisonette&#x27;,\n",
       "                                                   &#x27;flat_model_Simplified&#x27;,\n",
       "                                                   &#x27;flat_model_Standard&#x27;,\n",
       "                                                   &#x27;flat_model_Terrace&#x27;,\n",
       "                                                   &#x27;flat_model_Type S1&#x27;,\n",
       "                                                   &#x27;flat_model_Type S2&#x27;, ...])])),\n",
       "                (&#x27;regressor&#x27;, LinearRegression())])</pre><b>In a Jupyter environment, please rerun this cell to show the HTML representation or trust the notebook. <br />On GitHub, the HTML representation is unable to render, please try loading this page with nbviewer.org.</b></div><div class=\"sk-container\" hidden><div class=\"sk-item sk-dashed-wrapped\"><div class=\"sk-label-container\"><div class=\"sk-label sk-toggleable\"><input class=\"sk-toggleable__control sk-hidden--visually\" id=\"sk-estimator-id-101\" type=\"checkbox\" ><label for=\"sk-estimator-id-101\" class=\"sk-toggleable__label sk-toggleable__label-arrow\">Pipeline</label><div class=\"sk-toggleable__content\"><pre>Pipeline(steps=[(&#x27;preprocessor&#x27;,\n",
       "                 ColumnTransformer(transformers=[(&#x27;num&#x27;,\n",
       "                                                  Pipeline(steps=[(&#x27;simple &#x27;\n",
       "                                                                   &#x27;impute&#x27;,\n",
       "                                                                   SimpleImputer()),\n",
       "                                                                  (&#x27;scaler&#x27;,\n",
       "                                                                   StandardScaler())]),\n",
       "                                                  [&#x27;floor_area_sqm&#x27;, &#x27;mid&#x27;,\n",
       "                                                   &#x27;hdb_age&#x27;, &#x27;max_floor_lvl&#x27;,\n",
       "                                                   &#x27;Mall_Nearest_Distance&#x27;,\n",
       "                                                   &#x27;Hawker_Nearest_Distance&#x27;,\n",
       "                                                   &#x27;mrt_nearest_distance&#x27;,\n",
       "                                                   &#x27;cutoff_point&#x27;]),\n",
       "                                                 (&#x27;ohe columns&#x27;, &#x27;passthrough&#x27;,\n",
       "                                                  [&#x27;Tranc_Year&#x27;,\n",
       "                                                   &#x27;bus_interchange...\n",
       "                                                   &#x27;flat_model_Model &#x27;\n",
       "                                                   &#x27;A-Maisonette&#x27;,\n",
       "                                                   &#x27;flat_model_Model A2&#x27;,\n",
       "                                                   &#x27;flat_model_Multi &#x27;\n",
       "                                                   &#x27;Generation&#x27;,\n",
       "                                                   &#x27;flat_model_New Generation&#x27;,\n",
       "                                                   &#x27;flat_model_Premium &#x27;\n",
       "                                                   &#x27;Apartment&#x27;,\n",
       "                                                   &#x27;flat_model_Premium &#x27;\n",
       "                                                   &#x27;Apartment Loft&#x27;,\n",
       "                                                   &#x27;flat_model_Premium &#x27;\n",
       "                                                   &#x27;Maisonette&#x27;,\n",
       "                                                   &#x27;flat_model_Simplified&#x27;,\n",
       "                                                   &#x27;flat_model_Standard&#x27;,\n",
       "                                                   &#x27;flat_model_Terrace&#x27;,\n",
       "                                                   &#x27;flat_model_Type S1&#x27;,\n",
       "                                                   &#x27;flat_model_Type S2&#x27;, ...])])),\n",
       "                (&#x27;regressor&#x27;, LinearRegression())])</pre></div></div></div><div class=\"sk-serial\"><div class=\"sk-item sk-dashed-wrapped\"><div class=\"sk-label-container\"><div class=\"sk-label sk-toggleable\"><input class=\"sk-toggleable__control sk-hidden--visually\" id=\"sk-estimator-id-102\" type=\"checkbox\" ><label for=\"sk-estimator-id-102\" class=\"sk-toggleable__label sk-toggleable__label-arrow\">preprocessor: ColumnTransformer</label><div class=\"sk-toggleable__content\"><pre>ColumnTransformer(transformers=[(&#x27;num&#x27;,\n",
       "                                 Pipeline(steps=[(&#x27;simple impute&#x27;,\n",
       "                                                  SimpleImputer()),\n",
       "                                                 (&#x27;scaler&#x27;, StandardScaler())]),\n",
       "                                 [&#x27;floor_area_sqm&#x27;, &#x27;mid&#x27;, &#x27;hdb_age&#x27;,\n",
       "                                  &#x27;max_floor_lvl&#x27;, &#x27;Mall_Nearest_Distance&#x27;,\n",
       "                                  &#x27;Hawker_Nearest_Distance&#x27;,\n",
       "                                  &#x27;mrt_nearest_distance&#x27;, &#x27;cutoff_point&#x27;]),\n",
       "                                (&#x27;ohe columns&#x27;, &#x27;passthrough&#x27;,\n",
       "                                 [&#x27;Tranc_Year&#x27;, &#x27;bus_interchange&#x27;,\n",
       "                                  &#x27;mrt_interchange&#x27;, &#x27;flat_type_1 RO...\n",
       "                                  &#x27;flat_model_Maisonette&#x27;, &#x27;flat_model_Model A&#x27;,\n",
       "                                  &#x27;flat_model_Model A-Maisonette&#x27;,\n",
       "                                  &#x27;flat_model_Model A2&#x27;,\n",
       "                                  &#x27;flat_model_Multi Generation&#x27;,\n",
       "                                  &#x27;flat_model_New Generation&#x27;,\n",
       "                                  &#x27;flat_model_Premium Apartment&#x27;,\n",
       "                                  &#x27;flat_model_Premium Apartment Loft&#x27;,\n",
       "                                  &#x27;flat_model_Premium Maisonette&#x27;,\n",
       "                                  &#x27;flat_model_Simplified&#x27;,\n",
       "                                  &#x27;flat_model_Standard&#x27;, &#x27;flat_model_Terrace&#x27;,\n",
       "                                  &#x27;flat_model_Type S1&#x27;, &#x27;flat_model_Type S2&#x27;, ...])])</pre></div></div></div><div class=\"sk-parallel\"><div class=\"sk-parallel-item\"><div class=\"sk-item\"><div class=\"sk-label-container\"><div class=\"sk-label sk-toggleable\"><input class=\"sk-toggleable__control sk-hidden--visually\" id=\"sk-estimator-id-103\" type=\"checkbox\" ><label for=\"sk-estimator-id-103\" class=\"sk-toggleable__label sk-toggleable__label-arrow\">num</label><div class=\"sk-toggleable__content\"><pre>[&#x27;floor_area_sqm&#x27;, &#x27;mid&#x27;, &#x27;hdb_age&#x27;, &#x27;max_floor_lvl&#x27;, &#x27;Mall_Nearest_Distance&#x27;, &#x27;Hawker_Nearest_Distance&#x27;, &#x27;mrt_nearest_distance&#x27;, &#x27;cutoff_point&#x27;]</pre></div></div></div><div class=\"sk-serial\"><div class=\"sk-item\"><div class=\"sk-serial\"><div class=\"sk-item\"><div class=\"sk-estimator sk-toggleable\"><input class=\"sk-toggleable__control sk-hidden--visually\" id=\"sk-estimator-id-104\" type=\"checkbox\" ><label for=\"sk-estimator-id-104\" class=\"sk-toggleable__label sk-toggleable__label-arrow\">SimpleImputer</label><div class=\"sk-toggleable__content\"><pre>SimpleImputer()</pre></div></div></div><div class=\"sk-item\"><div class=\"sk-estimator sk-toggleable\"><input class=\"sk-toggleable__control sk-hidden--visually\" id=\"sk-estimator-id-105\" type=\"checkbox\" ><label for=\"sk-estimator-id-105\" class=\"sk-toggleable__label sk-toggleable__label-arrow\">StandardScaler</label><div class=\"sk-toggleable__content\"><pre>StandardScaler()</pre></div></div></div></div></div></div></div></div><div class=\"sk-parallel-item\"><div class=\"sk-item\"><div class=\"sk-label-container\"><div class=\"sk-label sk-toggleable\"><input class=\"sk-toggleable__control sk-hidden--visually\" id=\"sk-estimator-id-106\" type=\"checkbox\" ><label for=\"sk-estimator-id-106\" class=\"sk-toggleable__label sk-toggleable__label-arrow\">ohe columns</label><div class=\"sk-toggleable__content\"><pre>[&#x27;Tranc_Year&#x27;, &#x27;bus_interchange&#x27;, &#x27;mrt_interchange&#x27;, &#x27;flat_type_1 ROOM&#x27;, &#x27;flat_type_2 ROOM&#x27;, &#x27;flat_type_3 ROOM&#x27;, &#x27;flat_type_4 ROOM&#x27;, &#x27;flat_type_5 ROOM&#x27;, &#x27;flat_type_EXECUTIVE&#x27;, &#x27;flat_type_MULTI-GENERATION&#x27;, &#x27;flat_model_2-room&#x27;, &#x27;flat_model_Adjoined flat&#x27;, &#x27;flat_model_Apartment&#x27;, &#x27;flat_model_DBSS&#x27;, &#x27;flat_model_Improved&#x27;, &#x27;flat_model_Improved-Maisonette&#x27;, &#x27;flat_model_Maisonette&#x27;, &#x27;flat_model_Model A&#x27;, &#x27;flat_model_Model A-Maisonette&#x27;, &#x27;flat_model_Model A2&#x27;, &#x27;flat_model_Multi Generation&#x27;, &#x27;flat_model_New Generation&#x27;, &#x27;flat_model_Premium Apartment&#x27;, &#x27;flat_model_Premium Apartment Loft&#x27;, &#x27;flat_model_Premium Maisonette&#x27;, &#x27;flat_model_Simplified&#x27;, &#x27;flat_model_Standard&#x27;, &#x27;flat_model_Terrace&#x27;, &#x27;flat_model_Type S1&#x27;, &#x27;flat_model_Type S2&#x27;, &#x27;planning_area_Ang Mo Kio&#x27;, &#x27;planning_area_Bedok&#x27;, &#x27;planning_area_Bishan&#x27;, &#x27;planning_area_Bukit Batok&#x27;, &#x27;planning_area_Bukit Merah&#x27;, &#x27;planning_area_Bukit Panjang&#x27;, &#x27;planning_area_Bukit Timah&#x27;, &#x27;planning_area_Changi&#x27;, &#x27;planning_area_Choa Chu Kang&#x27;, &#x27;planning_area_Clementi&#x27;, &#x27;planning_area_Downtown Core&#x27;, &#x27;planning_area_Geylang&#x27;, &#x27;planning_area_Hougang&#x27;, &#x27;planning_area_Jurong East&#x27;, &#x27;planning_area_Jurong West&#x27;, &#x27;planning_area_Kallang&#x27;, &#x27;planning_area_Marine Parade&#x27;, &#x27;planning_area_Novena&#x27;, &#x27;planning_area_Outram&#x27;, &#x27;planning_area_Pasir Ris&#x27;, &#x27;planning_area_Punggol&#x27;, &#x27;planning_area_Queenstown&#x27;, &#x27;planning_area_Rochor&#x27;, &#x27;planning_area_Sembawang&#x27;, &#x27;planning_area_Sengkang&#x27;, &#x27;planning_area_Serangoon&#x27;, &#x27;planning_area_Tampines&#x27;, &#x27;planning_area_Tanglin&#x27;, &#x27;planning_area_Toa Payoh&#x27;, &#x27;planning_area_Western Water Catchment&#x27;, &#x27;planning_area_Woodlands&#x27;, &#x27;planning_area_Yishun&#x27;]</pre></div></div></div><div class=\"sk-serial\"><div class=\"sk-item\"><div class=\"sk-estimator sk-toggleable\"><input class=\"sk-toggleable__control sk-hidden--visually\" id=\"sk-estimator-id-107\" type=\"checkbox\" ><label for=\"sk-estimator-id-107\" class=\"sk-toggleable__label sk-toggleable__label-arrow\">passthrough</label><div class=\"sk-toggleable__content\"><pre>passthrough</pre></div></div></div></div></div></div></div></div><div class=\"sk-item\"><div class=\"sk-estimator sk-toggleable\"><input class=\"sk-toggleable__control sk-hidden--visually\" id=\"sk-estimator-id-108\" type=\"checkbox\" ><label for=\"sk-estimator-id-108\" class=\"sk-toggleable__label sk-toggleable__label-arrow\">LinearRegression</label><div class=\"sk-toggleable__content\"><pre>LinearRegression()</pre></div></div></div></div></div></div></div>"
      ],
      "text/plain": [
       "Pipeline(steps=[('preprocessor',\n",
       "                 ColumnTransformer(transformers=[('num',\n",
       "                                                  Pipeline(steps=[('simple '\n",
       "                                                                   'impute',\n",
       "                                                                   SimpleImputer()),\n",
       "                                                                  ('scaler',\n",
       "                                                                   StandardScaler())]),\n",
       "                                                  ['floor_area_sqm', 'mid',\n",
       "                                                   'hdb_age', 'max_floor_lvl',\n",
       "                                                   'Mall_Nearest_Distance',\n",
       "                                                   'Hawker_Nearest_Distance',\n",
       "                                                   'mrt_nearest_distance',\n",
       "                                                   'cutoff_point']),\n",
       "                                                 ('ohe columns', 'passthrough',\n",
       "                                                  ['Tranc_Year',\n",
       "                                                   'bus_interchange...\n",
       "                                                   'flat_model_Model '\n",
       "                                                   'A-Maisonette',\n",
       "                                                   'flat_model_Model A2',\n",
       "                                                   'flat_model_Multi '\n",
       "                                                   'Generation',\n",
       "                                                   'flat_model_New Generation',\n",
       "                                                   'flat_model_Premium '\n",
       "                                                   'Apartment',\n",
       "                                                   'flat_model_Premium '\n",
       "                                                   'Apartment Loft',\n",
       "                                                   'flat_model_Premium '\n",
       "                                                   'Maisonette',\n",
       "                                                   'flat_model_Simplified',\n",
       "                                                   'flat_model_Standard',\n",
       "                                                   'flat_model_Terrace',\n",
       "                                                   'flat_model_Type S1',\n",
       "                                                   'flat_model_Type S2', ...])])),\n",
       "                ('regressor', LinearRegression())])"
      ]
     },
     "execution_count": 105,
     "metadata": {},
     "output_type": "execute_result"
    }
   ],
   "source": [
    "high_area_reg = Pipeline(\n",
    "    steps=[(\"preprocessor\", preprocessor), (\"regressor\", LinearRegression())]\n",
    ")\n",
    "high_area_reg.fit(X_high_area_train, y_high_area_train)"
   ]
  },
  {
   "cell_type": "code",
   "execution_count": 106,
   "id": "b67711bd-0dac-4465-8b51-5aaf5aaec47d",
   "metadata": {},
   "outputs": [
    {
     "name": "stdout",
     "output_type": "stream",
     "text": [
      "The train score is: 0.933377\n",
      "The test score is: 0.933121\n"
     ]
    }
   ],
   "source": [
    "print(f\"The train score is: {round(high_area_reg.score(X_high_area_train, y_high_area_train), 6)}\")\n",
    "print(f\"The test score is: {round(high_area_reg.score(X_high_area_test, y_high_area_test), 6)}\")"
   ]
  },
  {
   "cell_type": "code",
   "execution_count": 107,
   "id": "f22b70b1-7233-4d58-b17d-d96e03e39caf",
   "metadata": {},
   "outputs": [
    {
     "data": {
      "text/html": [
       "<style>#sk-container-id-14 {color: black;background-color: white;}#sk-container-id-14 pre{padding: 0;}#sk-container-id-14 div.sk-toggleable {background-color: white;}#sk-container-id-14 label.sk-toggleable__label {cursor: pointer;display: block;width: 100%;margin-bottom: 0;padding: 0.3em;box-sizing: border-box;text-align: center;}#sk-container-id-14 label.sk-toggleable__label-arrow:before {content: \"▸\";float: left;margin-right: 0.25em;color: #696969;}#sk-container-id-14 label.sk-toggleable__label-arrow:hover:before {color: black;}#sk-container-id-14 div.sk-estimator:hover label.sk-toggleable__label-arrow:before {color: black;}#sk-container-id-14 div.sk-toggleable__content {max-height: 0;max-width: 0;overflow: hidden;text-align: left;background-color: #f0f8ff;}#sk-container-id-14 div.sk-toggleable__content pre {margin: 0.2em;color: black;border-radius: 0.25em;background-color: #f0f8ff;}#sk-container-id-14 input.sk-toggleable__control:checked~div.sk-toggleable__content {max-height: 200px;max-width: 100%;overflow: auto;}#sk-container-id-14 input.sk-toggleable__control:checked~label.sk-toggleable__label-arrow:before {content: \"▾\";}#sk-container-id-14 div.sk-estimator input.sk-toggleable__control:checked~label.sk-toggleable__label {background-color: #d4ebff;}#sk-container-id-14 div.sk-label input.sk-toggleable__control:checked~label.sk-toggleable__label {background-color: #d4ebff;}#sk-container-id-14 input.sk-hidden--visually {border: 0;clip: rect(1px 1px 1px 1px);clip: rect(1px, 1px, 1px, 1px);height: 1px;margin: -1px;overflow: hidden;padding: 0;position: absolute;width: 1px;}#sk-container-id-14 div.sk-estimator {font-family: monospace;background-color: #f0f8ff;border: 1px dotted black;border-radius: 0.25em;box-sizing: border-box;margin-bottom: 0.5em;}#sk-container-id-14 div.sk-estimator:hover {background-color: #d4ebff;}#sk-container-id-14 div.sk-parallel-item::after {content: \"\";width: 100%;border-bottom: 1px solid gray;flex-grow: 1;}#sk-container-id-14 div.sk-label:hover label.sk-toggleable__label {background-color: #d4ebff;}#sk-container-id-14 div.sk-serial::before {content: \"\";position: absolute;border-left: 1px solid gray;box-sizing: border-box;top: 0;bottom: 0;left: 50%;z-index: 0;}#sk-container-id-14 div.sk-serial {display: flex;flex-direction: column;align-items: center;background-color: white;padding-right: 0.2em;padding-left: 0.2em;position: relative;}#sk-container-id-14 div.sk-item {position: relative;z-index: 1;}#sk-container-id-14 div.sk-parallel {display: flex;align-items: stretch;justify-content: center;background-color: white;position: relative;}#sk-container-id-14 div.sk-item::before, #sk-container-id-14 div.sk-parallel-item::before {content: \"\";position: absolute;border-left: 1px solid gray;box-sizing: border-box;top: 0;bottom: 0;left: 50%;z-index: -1;}#sk-container-id-14 div.sk-parallel-item {display: flex;flex-direction: column;z-index: 1;position: relative;background-color: white;}#sk-container-id-14 div.sk-parallel-item:first-child::after {align-self: flex-end;width: 50%;}#sk-container-id-14 div.sk-parallel-item:last-child::after {align-self: flex-start;width: 50%;}#sk-container-id-14 div.sk-parallel-item:only-child::after {width: 0;}#sk-container-id-14 div.sk-dashed-wrapped {border: 1px dashed gray;margin: 0 0.4em 0.5em 0.4em;box-sizing: border-box;padding-bottom: 0.4em;background-color: white;}#sk-container-id-14 div.sk-label label {font-family: monospace;font-weight: bold;display: inline-block;line-height: 1.2em;}#sk-container-id-14 div.sk-label-container {text-align: center;}#sk-container-id-14 div.sk-container {/* jupyter's `normalize.less` sets `[hidden] { display: none; }` but bootstrap.min.css set `[hidden] { display: none !important; }` so we also need the `!important` here to be able to override the default hidden behavior on the sphinx rendered scikit-learn.org. See: https://github.com/scikit-learn/scikit-learn/issues/21755 */display: inline-block !important;position: relative;}#sk-container-id-14 div.sk-text-repr-fallback {display: none;}</style><div id=\"sk-container-id-14\" class=\"sk-top-container\"><div class=\"sk-text-repr-fallback\"><pre>Pipeline(steps=[(&#x27;preprocessor&#x27;,\n",
       "                 ColumnTransformer(transformers=[(&#x27;num&#x27;,\n",
       "                                                  Pipeline(steps=[(&#x27;simple &#x27;\n",
       "                                                                   &#x27;impute&#x27;,\n",
       "                                                                   SimpleImputer()),\n",
       "                                                                  (&#x27;scaler&#x27;,\n",
       "                                                                   StandardScaler())]),\n",
       "                                                  [&#x27;floor_area_sqm&#x27;, &#x27;mid&#x27;,\n",
       "                                                   &#x27;hdb_age&#x27;, &#x27;max_floor_lvl&#x27;,\n",
       "                                                   &#x27;Mall_Nearest_Distance&#x27;,\n",
       "                                                   &#x27;Hawker_Nearest_Distance&#x27;,\n",
       "                                                   &#x27;mrt_nearest_distance&#x27;,\n",
       "                                                   &#x27;cutoff_point&#x27;]),\n",
       "                                                 (&#x27;ohe columns&#x27;, &#x27;passthrough&#x27;,\n",
       "                                                  [&#x27;Tranc_Year&#x27;,\n",
       "                                                   &#x27;bus_interchange...\n",
       "                                                   &#x27;flat_model_Model &#x27;\n",
       "                                                   &#x27;A-Maisonette&#x27;,\n",
       "                                                   &#x27;flat_model_Model A2&#x27;,\n",
       "                                                   &#x27;flat_model_Multi &#x27;\n",
       "                                                   &#x27;Generation&#x27;,\n",
       "                                                   &#x27;flat_model_New Generation&#x27;,\n",
       "                                                   &#x27;flat_model_Premium &#x27;\n",
       "                                                   &#x27;Apartment&#x27;,\n",
       "                                                   &#x27;flat_model_Premium &#x27;\n",
       "                                                   &#x27;Apartment Loft&#x27;,\n",
       "                                                   &#x27;flat_model_Premium &#x27;\n",
       "                                                   &#x27;Maisonette&#x27;,\n",
       "                                                   &#x27;flat_model_Simplified&#x27;,\n",
       "                                                   &#x27;flat_model_Standard&#x27;,\n",
       "                                                   &#x27;flat_model_Terrace&#x27;,\n",
       "                                                   &#x27;flat_model_Type S1&#x27;,\n",
       "                                                   &#x27;flat_model_Type S2&#x27;, ...])])),\n",
       "                (&#x27;regressor&#x27;, Ridge())])</pre><b>In a Jupyter environment, please rerun this cell to show the HTML representation or trust the notebook. <br />On GitHub, the HTML representation is unable to render, please try loading this page with nbviewer.org.</b></div><div class=\"sk-container\" hidden><div class=\"sk-item sk-dashed-wrapped\"><div class=\"sk-label-container\"><div class=\"sk-label sk-toggleable\"><input class=\"sk-toggleable__control sk-hidden--visually\" id=\"sk-estimator-id-109\" type=\"checkbox\" ><label for=\"sk-estimator-id-109\" class=\"sk-toggleable__label sk-toggleable__label-arrow\">Pipeline</label><div class=\"sk-toggleable__content\"><pre>Pipeline(steps=[(&#x27;preprocessor&#x27;,\n",
       "                 ColumnTransformer(transformers=[(&#x27;num&#x27;,\n",
       "                                                  Pipeline(steps=[(&#x27;simple &#x27;\n",
       "                                                                   &#x27;impute&#x27;,\n",
       "                                                                   SimpleImputer()),\n",
       "                                                                  (&#x27;scaler&#x27;,\n",
       "                                                                   StandardScaler())]),\n",
       "                                                  [&#x27;floor_area_sqm&#x27;, &#x27;mid&#x27;,\n",
       "                                                   &#x27;hdb_age&#x27;, &#x27;max_floor_lvl&#x27;,\n",
       "                                                   &#x27;Mall_Nearest_Distance&#x27;,\n",
       "                                                   &#x27;Hawker_Nearest_Distance&#x27;,\n",
       "                                                   &#x27;mrt_nearest_distance&#x27;,\n",
       "                                                   &#x27;cutoff_point&#x27;]),\n",
       "                                                 (&#x27;ohe columns&#x27;, &#x27;passthrough&#x27;,\n",
       "                                                  [&#x27;Tranc_Year&#x27;,\n",
       "                                                   &#x27;bus_interchange...\n",
       "                                                   &#x27;flat_model_Model &#x27;\n",
       "                                                   &#x27;A-Maisonette&#x27;,\n",
       "                                                   &#x27;flat_model_Model A2&#x27;,\n",
       "                                                   &#x27;flat_model_Multi &#x27;\n",
       "                                                   &#x27;Generation&#x27;,\n",
       "                                                   &#x27;flat_model_New Generation&#x27;,\n",
       "                                                   &#x27;flat_model_Premium &#x27;\n",
       "                                                   &#x27;Apartment&#x27;,\n",
       "                                                   &#x27;flat_model_Premium &#x27;\n",
       "                                                   &#x27;Apartment Loft&#x27;,\n",
       "                                                   &#x27;flat_model_Premium &#x27;\n",
       "                                                   &#x27;Maisonette&#x27;,\n",
       "                                                   &#x27;flat_model_Simplified&#x27;,\n",
       "                                                   &#x27;flat_model_Standard&#x27;,\n",
       "                                                   &#x27;flat_model_Terrace&#x27;,\n",
       "                                                   &#x27;flat_model_Type S1&#x27;,\n",
       "                                                   &#x27;flat_model_Type S2&#x27;, ...])])),\n",
       "                (&#x27;regressor&#x27;, Ridge())])</pre></div></div></div><div class=\"sk-serial\"><div class=\"sk-item sk-dashed-wrapped\"><div class=\"sk-label-container\"><div class=\"sk-label sk-toggleable\"><input class=\"sk-toggleable__control sk-hidden--visually\" id=\"sk-estimator-id-110\" type=\"checkbox\" ><label for=\"sk-estimator-id-110\" class=\"sk-toggleable__label sk-toggleable__label-arrow\">preprocessor: ColumnTransformer</label><div class=\"sk-toggleable__content\"><pre>ColumnTransformer(transformers=[(&#x27;num&#x27;,\n",
       "                                 Pipeline(steps=[(&#x27;simple impute&#x27;,\n",
       "                                                  SimpleImputer()),\n",
       "                                                 (&#x27;scaler&#x27;, StandardScaler())]),\n",
       "                                 [&#x27;floor_area_sqm&#x27;, &#x27;mid&#x27;, &#x27;hdb_age&#x27;,\n",
       "                                  &#x27;max_floor_lvl&#x27;, &#x27;Mall_Nearest_Distance&#x27;,\n",
       "                                  &#x27;Hawker_Nearest_Distance&#x27;,\n",
       "                                  &#x27;mrt_nearest_distance&#x27;, &#x27;cutoff_point&#x27;]),\n",
       "                                (&#x27;ohe columns&#x27;, &#x27;passthrough&#x27;,\n",
       "                                 [&#x27;Tranc_Year&#x27;, &#x27;bus_interchange&#x27;,\n",
       "                                  &#x27;mrt_interchange&#x27;, &#x27;flat_type_1 RO...\n",
       "                                  &#x27;flat_model_Maisonette&#x27;, &#x27;flat_model_Model A&#x27;,\n",
       "                                  &#x27;flat_model_Model A-Maisonette&#x27;,\n",
       "                                  &#x27;flat_model_Model A2&#x27;,\n",
       "                                  &#x27;flat_model_Multi Generation&#x27;,\n",
       "                                  &#x27;flat_model_New Generation&#x27;,\n",
       "                                  &#x27;flat_model_Premium Apartment&#x27;,\n",
       "                                  &#x27;flat_model_Premium Apartment Loft&#x27;,\n",
       "                                  &#x27;flat_model_Premium Maisonette&#x27;,\n",
       "                                  &#x27;flat_model_Simplified&#x27;,\n",
       "                                  &#x27;flat_model_Standard&#x27;, &#x27;flat_model_Terrace&#x27;,\n",
       "                                  &#x27;flat_model_Type S1&#x27;, &#x27;flat_model_Type S2&#x27;, ...])])</pre></div></div></div><div class=\"sk-parallel\"><div class=\"sk-parallel-item\"><div class=\"sk-item\"><div class=\"sk-label-container\"><div class=\"sk-label sk-toggleable\"><input class=\"sk-toggleable__control sk-hidden--visually\" id=\"sk-estimator-id-111\" type=\"checkbox\" ><label for=\"sk-estimator-id-111\" class=\"sk-toggleable__label sk-toggleable__label-arrow\">num</label><div class=\"sk-toggleable__content\"><pre>[&#x27;floor_area_sqm&#x27;, &#x27;mid&#x27;, &#x27;hdb_age&#x27;, &#x27;max_floor_lvl&#x27;, &#x27;Mall_Nearest_Distance&#x27;, &#x27;Hawker_Nearest_Distance&#x27;, &#x27;mrt_nearest_distance&#x27;, &#x27;cutoff_point&#x27;]</pre></div></div></div><div class=\"sk-serial\"><div class=\"sk-item\"><div class=\"sk-serial\"><div class=\"sk-item\"><div class=\"sk-estimator sk-toggleable\"><input class=\"sk-toggleable__control sk-hidden--visually\" id=\"sk-estimator-id-112\" type=\"checkbox\" ><label for=\"sk-estimator-id-112\" class=\"sk-toggleable__label sk-toggleable__label-arrow\">SimpleImputer</label><div class=\"sk-toggleable__content\"><pre>SimpleImputer()</pre></div></div></div><div class=\"sk-item\"><div class=\"sk-estimator sk-toggleable\"><input class=\"sk-toggleable__control sk-hidden--visually\" id=\"sk-estimator-id-113\" type=\"checkbox\" ><label for=\"sk-estimator-id-113\" class=\"sk-toggleable__label sk-toggleable__label-arrow\">StandardScaler</label><div class=\"sk-toggleable__content\"><pre>StandardScaler()</pre></div></div></div></div></div></div></div></div><div class=\"sk-parallel-item\"><div class=\"sk-item\"><div class=\"sk-label-container\"><div class=\"sk-label sk-toggleable\"><input class=\"sk-toggleable__control sk-hidden--visually\" id=\"sk-estimator-id-114\" type=\"checkbox\" ><label for=\"sk-estimator-id-114\" class=\"sk-toggleable__label sk-toggleable__label-arrow\">ohe columns</label><div class=\"sk-toggleable__content\"><pre>[&#x27;Tranc_Year&#x27;, &#x27;bus_interchange&#x27;, &#x27;mrt_interchange&#x27;, &#x27;flat_type_1 ROOM&#x27;, &#x27;flat_type_2 ROOM&#x27;, &#x27;flat_type_3 ROOM&#x27;, &#x27;flat_type_4 ROOM&#x27;, &#x27;flat_type_5 ROOM&#x27;, &#x27;flat_type_EXECUTIVE&#x27;, &#x27;flat_type_MULTI-GENERATION&#x27;, &#x27;flat_model_2-room&#x27;, &#x27;flat_model_Adjoined flat&#x27;, &#x27;flat_model_Apartment&#x27;, &#x27;flat_model_DBSS&#x27;, &#x27;flat_model_Improved&#x27;, &#x27;flat_model_Improved-Maisonette&#x27;, &#x27;flat_model_Maisonette&#x27;, &#x27;flat_model_Model A&#x27;, &#x27;flat_model_Model A-Maisonette&#x27;, &#x27;flat_model_Model A2&#x27;, &#x27;flat_model_Multi Generation&#x27;, &#x27;flat_model_New Generation&#x27;, &#x27;flat_model_Premium Apartment&#x27;, &#x27;flat_model_Premium Apartment Loft&#x27;, &#x27;flat_model_Premium Maisonette&#x27;, &#x27;flat_model_Simplified&#x27;, &#x27;flat_model_Standard&#x27;, &#x27;flat_model_Terrace&#x27;, &#x27;flat_model_Type S1&#x27;, &#x27;flat_model_Type S2&#x27;, &#x27;planning_area_Ang Mo Kio&#x27;, &#x27;planning_area_Bedok&#x27;, &#x27;planning_area_Bishan&#x27;, &#x27;planning_area_Bukit Batok&#x27;, &#x27;planning_area_Bukit Merah&#x27;, &#x27;planning_area_Bukit Panjang&#x27;, &#x27;planning_area_Bukit Timah&#x27;, &#x27;planning_area_Changi&#x27;, &#x27;planning_area_Choa Chu Kang&#x27;, &#x27;planning_area_Clementi&#x27;, &#x27;planning_area_Downtown Core&#x27;, &#x27;planning_area_Geylang&#x27;, &#x27;planning_area_Hougang&#x27;, &#x27;planning_area_Jurong East&#x27;, &#x27;planning_area_Jurong West&#x27;, &#x27;planning_area_Kallang&#x27;, &#x27;planning_area_Marine Parade&#x27;, &#x27;planning_area_Novena&#x27;, &#x27;planning_area_Outram&#x27;, &#x27;planning_area_Pasir Ris&#x27;, &#x27;planning_area_Punggol&#x27;, &#x27;planning_area_Queenstown&#x27;, &#x27;planning_area_Rochor&#x27;, &#x27;planning_area_Sembawang&#x27;, &#x27;planning_area_Sengkang&#x27;, &#x27;planning_area_Serangoon&#x27;, &#x27;planning_area_Tampines&#x27;, &#x27;planning_area_Tanglin&#x27;, &#x27;planning_area_Toa Payoh&#x27;, &#x27;planning_area_Western Water Catchment&#x27;, &#x27;planning_area_Woodlands&#x27;, &#x27;planning_area_Yishun&#x27;]</pre></div></div></div><div class=\"sk-serial\"><div class=\"sk-item\"><div class=\"sk-estimator sk-toggleable\"><input class=\"sk-toggleable__control sk-hidden--visually\" id=\"sk-estimator-id-115\" type=\"checkbox\" ><label for=\"sk-estimator-id-115\" class=\"sk-toggleable__label sk-toggleable__label-arrow\">passthrough</label><div class=\"sk-toggleable__content\"><pre>passthrough</pre></div></div></div></div></div></div></div></div><div class=\"sk-item\"><div class=\"sk-estimator sk-toggleable\"><input class=\"sk-toggleable__control sk-hidden--visually\" id=\"sk-estimator-id-116\" type=\"checkbox\" ><label for=\"sk-estimator-id-116\" class=\"sk-toggleable__label sk-toggleable__label-arrow\">Ridge</label><div class=\"sk-toggleable__content\"><pre>Ridge()</pre></div></div></div></div></div></div></div>"
      ],
      "text/plain": [
       "Pipeline(steps=[('preprocessor',\n",
       "                 ColumnTransformer(transformers=[('num',\n",
       "                                                  Pipeline(steps=[('simple '\n",
       "                                                                   'impute',\n",
       "                                                                   SimpleImputer()),\n",
       "                                                                  ('scaler',\n",
       "                                                                   StandardScaler())]),\n",
       "                                                  ['floor_area_sqm', 'mid',\n",
       "                                                   'hdb_age', 'max_floor_lvl',\n",
       "                                                   'Mall_Nearest_Distance',\n",
       "                                                   'Hawker_Nearest_Distance',\n",
       "                                                   'mrt_nearest_distance',\n",
       "                                                   'cutoff_point']),\n",
       "                                                 ('ohe columns', 'passthrough',\n",
       "                                                  ['Tranc_Year',\n",
       "                                                   'bus_interchange...\n",
       "                                                   'flat_model_Model '\n",
       "                                                   'A-Maisonette',\n",
       "                                                   'flat_model_Model A2',\n",
       "                                                   'flat_model_Multi '\n",
       "                                                   'Generation',\n",
       "                                                   'flat_model_New Generation',\n",
       "                                                   'flat_model_Premium '\n",
       "                                                   'Apartment',\n",
       "                                                   'flat_model_Premium '\n",
       "                                                   'Apartment Loft',\n",
       "                                                   'flat_model_Premium '\n",
       "                                                   'Maisonette',\n",
       "                                                   'flat_model_Simplified',\n",
       "                                                   'flat_model_Standard',\n",
       "                                                   'flat_model_Terrace',\n",
       "                                                   'flat_model_Type S1',\n",
       "                                                   'flat_model_Type S2', ...])])),\n",
       "                ('regressor', Ridge())])"
      ]
     },
     "execution_count": 107,
     "metadata": {},
     "output_type": "execute_result"
    }
   ],
   "source": [
    "other_area_reg = Pipeline(\n",
    "    steps=[(\"preprocessor\", preprocessor), (\"regressor\", Ridge())]\n",
    ")\n",
    "other_area_reg.fit(X_other_area_train, y_other_area_train)"
   ]
  },
  {
   "cell_type": "code",
   "execution_count": 108,
   "id": "667cc13e-20c2-45b9-be7b-40535f2d0b85",
   "metadata": {},
   "outputs": [
    {
     "name": "stdout",
     "output_type": "stream",
     "text": [
      "The train score is: 0.869091\n",
      "The test score is: 0.867971\n"
     ]
    }
   ],
   "source": [
    "print(f\"The train score is: {round(other_area_reg.score(X_other_area_train, y_other_area_train), 6)}\")\n",
    "print(f\"The test score is: {round(other_area_reg.score(X_other_area_test, y_other_area_test), 6)}\")"
   ]
  },
  {
   "cell_type": "markdown",
   "id": "64522340-421b-462f-98f4-36cb808ed683",
   "metadata": {},
   "source": [
    "## Combine the model"
   ]
  },
  {
   "cell_type": "markdown",
   "id": "cb054179-e550-4fed-9a33-a493dde1849a",
   "metadata": {},
   "source": [
    "Combine the four models made earlier into a single model.   \n",
    "This single model should give a prediction with the proper input features."
   ]
  },
  {
   "cell_type": "code",
   "execution_count": 109,
   "id": "1ba2355d-32c9-482f-a31f-9eb0b098296d",
   "metadata": {},
   "outputs": [],
   "source": [
    "def find_tag(df, target):\n",
    "    '''Find the tag for that 1 single row of dataframe\n",
    "    '''\n",
    "    for tar in target:\n",
    "        if len(df.loc[df[tar]==1]):\n",
    "            return True\n",
    "    "
   ]
  },
  {
   "cell_type": "code",
   "execution_count": 110,
   "id": "c90349e3-76ad-4b31-9109-7e76bd929851",
   "metadata": {},
   "outputs": [],
   "source": [
    "def predict_one(i, df, less_rm, high_area, w_type, w_area):\n",
    "    '''predict price for 1 flat\n",
    "    args:\n",
    "        i: index of dataframe\n",
    "        df: dataframe to predict on\n",
    "        more_rm: more\n",
    "    '''\n",
    "    # Check flat classification\n",
    "    less_rm_flat = find_tag(df.iloc[[i]], less_rm)\n",
    "    high_area_flat = find_tag(df.iloc[[i]], high_area)\n",
    "    \n",
    "    # Predict flat price\n",
    "    if less_rm_flat:\n",
    "        res_f_type = less_rm_reg.predict(df.iloc[[i]])\n",
    "    else:\n",
    "        res_f_type = more_rm_reg.predict(df.iloc[[i]])\n",
    "\n",
    "    if high_area_flat:\n",
    "        res_p_area = high_area_reg.predict(df.iloc[[i]])\n",
    "    else:\n",
    "        res_p_area = other_area_reg.predict(df.iloc[[i]])\n",
    "\n",
    "    w_res = float(w_type*res_f_type + w_area*res_p_area)    \n",
    "    return w_res"
   ]
  },
  {
   "cell_type": "code",
   "execution_count": 111,
   "id": "7e0a54d1-48da-4901-a174-b72c7b4a944c",
   "metadata": {},
   "outputs": [],
   "source": [
    "def predict_price(df, less_rm, high_area, w_type=0.4, w_area=0.6):\n",
    "    res_list = []\n",
    "    for i in range(df.shape[0]):\n",
    "        res_one = predict_one(i, df, less_rm, high_area, w_type, w_area)\n",
    "        res_list.append(res_one)\n",
    "    return res_list"
   ]
  },
  {
   "cell_type": "markdown",
   "id": "f6496557-04dd-437b-a0bf-2fbded84287b",
   "metadata": {},
   "source": [
    "The long chunk below should be a function/ class.  \n",
    "Which I can write but don't have time for :<"
   ]
  },
  {
   "cell_type": "markdown",
   "id": "626320ea-36a8-459b-9b39-0e02bc2806c9",
   "metadata": {},
   "source": [
    "## Prediction and Analysis"
   ]
  },
  {
   "cell_type": "markdown",
   "id": "42bcb2e6-6861-4333-8b5c-d910fad3a663",
   "metadata": {},
   "source": [
    "Here, the price is predicted using the combined model.   \n",
    "Then, analyse the results.  "
   ]
  },
  {
   "cell_type": "code",
   "execution_count": 112,
   "id": "e6012d05-8929-45b8-af10-4ec09be518a8",
   "metadata": {},
   "outputs": [
    {
     "name": "stderr",
     "output_type": "stream",
     "text": [
      "/tmp/ipykernel_1084/3848060463.py:3: DtypeWarning: Columns (41) have mixed types. Specify dtype option on import or set low_memory=False.\n",
      "  test = pd.read_csv('../datasets/test.csv')\n"
     ]
    }
   ],
   "source": [
    "# Repeat preparing of data...\n",
    "df = pd.read_csv('../datasets/reduced_train.csv')\n",
    "test = pd.read_csv('../datasets/test.csv')\n",
    "df.index\n",
    "# find the list of colmuns to drop\n",
    "df.columns\n",
    "test.columns\n",
    "drop_col = [col for col in test.columns if col not in df.columns]\n",
    "# drop colmuns that should be droped\n",
    "test.drop(columns=drop_col, inplace=True)\n",
    "# comnbine train and test, only doing this for one hot encoding of data\n",
    "df = pd.concat([df, test])\n",
    "# drop numerical features\n",
    "df_cat = df.drop(columns=numerical_col)\n",
    "# drop categorical colmuns\n",
    "df_num = df.drop(columns=categorical_col)\n",
    "\n",
    "\n",
    "flat_type_present = list(df_cat['flat_type'].unique())\n",
    "planning_area_present = list(df_cat['planning_area'].unique())\n",
    "\n",
    "# do not include drop first for sake of analysis of features!\n",
    "df_cat = pd.get_dummies(df_cat)\n",
    "\n",
    "ohe_col = list(df_cat.columns)\n",
    "ohe_col.remove('id')\n",
    "ohe_col.remove('resale_price')\n",
    "\n",
    "df = df_num.merge(df_cat)"
   ]
  },
  {
   "cell_type": "code",
   "execution_count": 113,
   "id": "5aedda61-5d6c-4ef2-b79c-36765f2dbc5d",
   "metadata": {},
   "outputs": [],
   "source": [
    "df = df.iloc[149772:]"
   ]
  },
  {
   "cell_type": "code",
   "execution_count": 114,
   "id": "1517a4c0-52fa-4627-bf61-e6925bebc47a",
   "metadata": {},
   "outputs": [],
   "source": [
    "df_id_dict = {'id': list(df['id'])}"
   ]
  },
  {
   "cell_type": "code",
   "execution_count": 115,
   "id": "96f6d3b3-31b5-4441-8ed3-6044faf7479d",
   "metadata": {},
   "outputs": [],
   "source": [
    "df.drop(columns=['id', 'resale_price'], inplace=True)"
   ]
  },
  {
   "cell_type": "code",
   "execution_count": 116,
   "id": "cc75371d-709c-447a-9fa4-aebfe5c412ee",
   "metadata": {},
   "outputs": [],
   "source": [
    "df.reset_index(drop=True, inplace=True)"
   ]
  },
  {
   "cell_type": "code",
   "execution_count": 117,
   "id": "5ced9b3a-636a-40be-b865-8b1628e7adb3",
   "metadata": {},
   "outputs": [
    {
     "data": {
      "text/html": [
       "<div>\n",
       "<style scoped>\n",
       "    .dataframe tbody tr th:only-of-type {\n",
       "        vertical-align: middle;\n",
       "    }\n",
       "\n",
       "    .dataframe tbody tr th {\n",
       "        vertical-align: top;\n",
       "    }\n",
       "\n",
       "    .dataframe thead th {\n",
       "        text-align: right;\n",
       "    }\n",
       "</style>\n",
       "<table border=\"1\" class=\"dataframe\">\n",
       "  <thead>\n",
       "    <tr style=\"text-align: right;\">\n",
       "      <th></th>\n",
       "      <th>floor_area_sqm</th>\n",
       "      <th>mid</th>\n",
       "      <th>hdb_age</th>\n",
       "      <th>max_floor_lvl</th>\n",
       "      <th>Mall_Nearest_Distance</th>\n",
       "      <th>Hawker_Nearest_Distance</th>\n",
       "      <th>mrt_nearest_distance</th>\n",
       "      <th>cutoff_point</th>\n",
       "      <th>Tranc_Year</th>\n",
       "      <th>bus_interchange</th>\n",
       "      <th>...</th>\n",
       "      <th>planning_area_Rochor</th>\n",
       "      <th>planning_area_Sembawang</th>\n",
       "      <th>planning_area_Sengkang</th>\n",
       "      <th>planning_area_Serangoon</th>\n",
       "      <th>planning_area_Tampines</th>\n",
       "      <th>planning_area_Tanglin</th>\n",
       "      <th>planning_area_Toa Payoh</th>\n",
       "      <th>planning_area_Western Water Catchment</th>\n",
       "      <th>planning_area_Woodlands</th>\n",
       "      <th>planning_area_Yishun</th>\n",
       "    </tr>\n",
       "  </thead>\n",
       "  <tbody>\n",
       "    <tr>\n",
       "      <th>0</th>\n",
       "      <td>84.0</td>\n",
       "      <td>8</td>\n",
       "      <td>34</td>\n",
       "      <td>12</td>\n",
       "      <td>877.431572</td>\n",
       "      <td>687.576779</td>\n",
       "      <td>686.660434</td>\n",
       "      <td>218</td>\n",
       "      <td>2012</td>\n",
       "      <td>0</td>\n",
       "      <td>...</td>\n",
       "      <td>0</td>\n",
       "      <td>0</td>\n",
       "      <td>0</td>\n",
       "      <td>0</td>\n",
       "      <td>0</td>\n",
       "      <td>0</td>\n",
       "      <td>0</td>\n",
       "      <td>0</td>\n",
       "      <td>0</td>\n",
       "      <td>1</td>\n",
       "    </tr>\n",
       "    <tr>\n",
       "      <th>1</th>\n",
       "      <td>112.0</td>\n",
       "      <td>5</td>\n",
       "      <td>13</td>\n",
       "      <td>14</td>\n",
       "      <td>534.037705</td>\n",
       "      <td>2122.346226</td>\n",
       "      <td>169.478175</td>\n",
       "      <td>199</td>\n",
       "      <td>2019</td>\n",
       "      <td>0</td>\n",
       "      <td>...</td>\n",
       "      <td>0</td>\n",
       "      <td>0</td>\n",
       "      <td>0</td>\n",
       "      <td>0</td>\n",
       "      <td>0</td>\n",
       "      <td>0</td>\n",
       "      <td>0</td>\n",
       "      <td>0</td>\n",
       "      <td>0</td>\n",
       "      <td>0</td>\n",
       "    </tr>\n",
       "    <tr>\n",
       "      <th>2</th>\n",
       "      <td>68.0</td>\n",
       "      <td>8</td>\n",
       "      <td>41</td>\n",
       "      <td>12</td>\n",
       "      <td>817.050453</td>\n",
       "      <td>152.287621</td>\n",
       "      <td>694.220448</td>\n",
       "      <td>245</td>\n",
       "      <td>2013</td>\n",
       "      <td>1</td>\n",
       "      <td>...</td>\n",
       "      <td>0</td>\n",
       "      <td>0</td>\n",
       "      <td>0</td>\n",
       "      <td>0</td>\n",
       "      <td>0</td>\n",
       "      <td>0</td>\n",
       "      <td>0</td>\n",
       "      <td>0</td>\n",
       "      <td>0</td>\n",
       "      <td>0</td>\n",
       "    </tr>\n",
       "    <tr>\n",
       "      <th>3</th>\n",
       "      <td>97.0</td>\n",
       "      <td>2</td>\n",
       "      <td>42</td>\n",
       "      <td>14</td>\n",
       "      <td>1272.737194</td>\n",
       "      <td>501.892158</td>\n",
       "      <td>1117.203587</td>\n",
       "      <td>188</td>\n",
       "      <td>2017</td>\n",
       "      <td>0</td>\n",
       "      <td>...</td>\n",
       "      <td>0</td>\n",
       "      <td>0</td>\n",
       "      <td>0</td>\n",
       "      <td>0</td>\n",
       "      <td>0</td>\n",
       "      <td>0</td>\n",
       "      <td>0</td>\n",
       "      <td>0</td>\n",
       "      <td>1</td>\n",
       "      <td>0</td>\n",
       "    </tr>\n",
       "    <tr>\n",
       "      <th>4</th>\n",
       "      <td>103.0</td>\n",
       "      <td>17</td>\n",
       "      <td>36</td>\n",
       "      <td>25</td>\n",
       "      <td>1070.963675</td>\n",
       "      <td>437.593564</td>\n",
       "      <td>987.976010</td>\n",
       "      <td>223</td>\n",
       "      <td>2016</td>\n",
       "      <td>0</td>\n",
       "      <td>...</td>\n",
       "      <td>0</td>\n",
       "      <td>0</td>\n",
       "      <td>0</td>\n",
       "      <td>0</td>\n",
       "      <td>0</td>\n",
       "      <td>0</td>\n",
       "      <td>0</td>\n",
       "      <td>0</td>\n",
       "      <td>0</td>\n",
       "      <td>0</td>\n",
       "    </tr>\n",
       "  </tbody>\n",
       "</table>\n",
       "<p>5 rows × 70 columns</p>\n",
       "</div>"
      ],
      "text/plain": [
       "   floor_area_sqm  mid  hdb_age  max_floor_lvl  Mall_Nearest_Distance  \\\n",
       "0            84.0    8       34             12             877.431572   \n",
       "1           112.0    5       13             14             534.037705   \n",
       "2            68.0    8       41             12             817.050453   \n",
       "3            97.0    2       42             14            1272.737194   \n",
       "4           103.0   17       36             25            1070.963675   \n",
       "\n",
       "   Hawker_Nearest_Distance  mrt_nearest_distance  cutoff_point  Tranc_Year  \\\n",
       "0               687.576779            686.660434           218        2012   \n",
       "1              2122.346226            169.478175           199        2019   \n",
       "2               152.287621            694.220448           245        2013   \n",
       "3               501.892158           1117.203587           188        2017   \n",
       "4               437.593564            987.976010           223        2016   \n",
       "\n",
       "   bus_interchange  ...  planning_area_Rochor  planning_area_Sembawang  \\\n",
       "0                0  ...                     0                        0   \n",
       "1                0  ...                     0                        0   \n",
       "2                1  ...                     0                        0   \n",
       "3                0  ...                     0                        0   \n",
       "4                0  ...                     0                        0   \n",
       "\n",
       "   planning_area_Sengkang  planning_area_Serangoon  planning_area_Tampines  \\\n",
       "0                       0                        0                       0   \n",
       "1                       0                        0                       0   \n",
       "2                       0                        0                       0   \n",
       "3                       0                        0                       0   \n",
       "4                       0                        0                       0   \n",
       "\n",
       "   planning_area_Tanglin  planning_area_Toa Payoh  \\\n",
       "0                      0                        0   \n",
       "1                      0                        0   \n",
       "2                      0                        0   \n",
       "3                      0                        0   \n",
       "4                      0                        0   \n",
       "\n",
       "   planning_area_Western Water Catchment  planning_area_Woodlands  \\\n",
       "0                                      0                        0   \n",
       "1                                      0                        0   \n",
       "2                                      0                        0   \n",
       "3                                      0                        1   \n",
       "4                                      0                        0   \n",
       "\n",
       "   planning_area_Yishun  \n",
       "0                     1  \n",
       "1                     0  \n",
       "2                     0  \n",
       "3                     0  \n",
       "4                     0  \n",
       "\n",
       "[5 rows x 70 columns]"
      ]
     },
     "execution_count": 117,
     "metadata": {},
     "output_type": "execute_result"
    }
   ],
   "source": [
    "df.head()"
   ]
  },
  {
   "cell_type": "code",
   "execution_count": 118,
   "id": "da9d411b-55d6-457d-bb69-ea245cb19087",
   "metadata": {},
   "outputs": [],
   "source": [
    "res_list = predict_price(df, less_rm, high_area)"
   ]
  },
  {
   "cell_type": "code",
   "execution_count": 119,
   "id": "06f23a13-7868-4cc8-a014-0ba5bfa7d1eb",
   "metadata": {},
   "outputs": [],
   "source": [
    "df_id_dict['Predicted'] = res_list\n",
    "result_combi = pd.DataFrame(df_id_dict)\n",
    "result_combi.to_csv('../datasets/prediction_combi.csv', index=False)"
   ]
  },
  {
   "cell_type": "markdown",
   "id": "1d9c0fb3-62bc-472c-9639-2ffd026b520f",
   "metadata": {},
   "source": [
    "<img src=\"../img/mixed_res.png\"></img> \n",
    "This is the RSME score for mixed model.  \n",
    "However, the scores may increase further if I have enouch time to tune the hyper parameters.   \n",
    "Which is the weight on these models.  \n",
    "This model performed worse than simple linear regression.  \n",
    "This is likely because how crude the model is.   "
   ]
  },
  {
   "cell_type": "markdown",
   "id": "551a611b-0eb9-44ee-a4b8-405f9b738c1b",
   "metadata": {},
   "source": [
    "# Conclusion"
   ]
  },
  {
   "cell_type": "markdown",
   "id": "564fd9b2-e755-46a3-87b8-f24650b40cfc",
   "metadata": {},
   "source": [
    "Out of all the models, the simple linear regression model have the best performance.  \n",
    "The combination of models do have a lot of potential, and can probably be improved by tuning the hyper parameters, such as the weightage on different models.  \n",
    "Also, the classification of models can be made better.   \n",
    "For exmample, I can exclude the three room flats and shift it to the more room category.  \n",
    "Otherwise, I can also try to further refine the model by flat type and location.  \n",
    "\n",
    "The simple linear regression model is able to explain both the train and test data well.   \n",
    "However, the unfortunate thing is that some factors can't be taken into account.  \n",
    "Such as the direction the flat is facing, government policies and interventions.  \n",
    "\n",
    "In conclusion, a simple linear model is able to explain most of the resale flats, by selecting the proper features.  \n",
    "The R sqaured is 0.8912.  \n",
    "This means that 89.12% of the variation in resale price to test set, which is not seen by model, can be explianed by the model.  \n",
    "The RMSE is around $47,000.  \n",
    "This means that the actual price is very likely around predicted price +/- RMSE, on average.  "
   ]
  }
 ],
 "metadata": {
  "kernelspec": {
   "display_name": "Python [conda env:dsi-sg]",
   "language": "python",
   "name": "conda-env-dsi-sg-py"
  },
  "language_info": {
   "codemirror_mode": {
    "name": "ipython",
    "version": 3
   },
   "file_extension": ".py",
   "mimetype": "text/x-python",
   "name": "python",
   "nbconvert_exporter": "python",
   "pygments_lexer": "ipython3",
   "version": "3.9.13"
  }
 },
 "nbformat": 4,
 "nbformat_minor": 5
}

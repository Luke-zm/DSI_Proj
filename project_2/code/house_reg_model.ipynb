{
 "cells": [
  {
   "cell_type": "markdown",
   "id": "27759bf9-581c-4d56-bd60-0a734f7a9ade",
   "metadata": {},
   "source": [
    "# Prediction of Singapore's housing price using simple regression based models\n",
    "## Regression Modelling notebook\n",
    "\n",
    "This project is about the prediction of resale price of a house located in singapore, using simple regression model.   \n",
    "This notebook is only for the purpose of building Regression Model.  \n",
    "Analytical solution to least squares regression is given by:  \n",
    "<img src=\"../img/least_square_sol.png\"></img>  \n",
    "Which I will not go into details here.  \n",
    "\n",
    "This note book will show the process of building regression model(s) to predict the housing price in Singapore.  \n",
    "Which is in the area of Machine Learning.  "
   ]
  },
  {
   "cell_type": "markdown",
   "id": "cba611b7-1559-49f7-b550-ec4dc60671ce",
   "metadata": {},
   "source": [
    "# Problem Statement"
   ]
  },
  {
   "cell_type": "markdown",
   "id": "10303c6a-5150-4eb3-b995-d97f4deb249f",
   "metadata": {},
   "source": [
    "The goal of this project is to build a regression model, using data contained in the [datasets](../datasets) folder. The model should be able to make an accurate prediction of the resale price (`resale_price`) of the house, for every house id (`Id`) that appeared in the [test set](../datasets/test.csv).  \n",
    "Success will be evaluated based on common evaluation metrics such as Mean Absolute Error (MAE) and Mean Square Error (MSE), apart from scores.\n",
    "\n",
    "Motivation:  \n",
    "While this is a toy project for the purpose of learning, it shows the importance of prediction models.  \n",
    "House owners who are looking to sale their property, property agents, those seeking to purchase a house, all stand to benefit from this model.  "
   ]
  },
  {
   "cell_type": "markdown",
   "id": "c6f662cf-aca7-4999-926c-6ea7c72bf695",
   "metadata": {},
   "source": [
    "Contents:  \n",
    "1. [Single Model](#Single-Model)   \n",
    "    1.1 [Preprocessing](#Preprocessing)  \n",
    "    1.2 [Linear Regression](#Linear-Regression)  \n",
    "    1.3 [Lasso Regression](#Lasso-Regression)  \n",
    "    1.4 [Ridge Regression](#Ridge-Regression)  \n",
    "    1.5 [Elastic Net](#Elastic-Net-Regression)   \n",
    "    1.6 [Model Evaluation](#Model-Evaluation)  \n",
    "2. [Combined Model](#Combined-Model)  \n",
    "    2.1 [Data Selection]  \n",
    "    2.2 [Preprocessing]   \n",
    "    2.3 [Regression Model]  \n",
    "    2.4 [Grid Search Cross Validation]  \n",
    "    2.5 [Model Evaluation]  "
   ]
  },
  {
   "cell_type": "code",
   "execution_count": 1,
   "id": "0e703b9f-4351-4c17-8532-c51765a96bd2",
   "metadata": {},
   "outputs": [],
   "source": [
    "import functools\n",
    "import numpy as np\n",
    "import pandas as pd\n",
    "from sklearn.compose import make_column_selector as selector\n",
    "from sklearn.preprocessing import OneHotEncoder, StandardScaler\n",
    "from sklearn.impute import SimpleImputer\n",
    "from sklearn.compose import ColumnTransformer\n",
    "from sklearn.linear_model import LinearRegression, ElasticNet, ElasticNetCV, LassoCV, Lasso, Ridge, RidgeCV\n",
    "from sklearn.pipeline import Pipeline\n",
    "from sklearn.feature_selection import RFE\n",
    "from sklearn.model_selection import train_test_split\n",
    "from sklearn.model_selection import cross_validate\n",
    "from sklearn.model_selection import GridSearchCV\n",
    "from sklearn.model_selection import cross_val_score\n",
    "from sklearn.model_selection import KFold\n",
    "from sklearn import metrics"
   ]
  },
  {
   "cell_type": "markdown",
   "id": "7aefde5e-3a87-4329-b34d-e1a0d1b9242c",
   "metadata": {},
   "source": [
    "## Single Model"
   ]
  },
  {
   "cell_type": "markdown",
   "id": "8ff5a4ef-66d3-44d9-9ac0-9a2470388001",
   "metadata": {},
   "source": [
    "This section is the most basic model created.   \n",
    "I will start with simple preprocessing, then build simple models as well as perform Grid Search Cross Validation.  \n",
    "Then, these models with tunned paprameters will be examined and evaluated."
   ]
  },
  {
   "cell_type": "code",
   "execution_count": 2,
   "id": "2ed56d2c-364d-4024-b1d1-c2d5c4d175a5",
   "metadata": {},
   "outputs": [
    {
     "data": {
      "text/html": [
       "<div>\n",
       "<style scoped>\n",
       "    .dataframe tbody tr th:only-of-type {\n",
       "        vertical-align: middle;\n",
       "    }\n",
       "\n",
       "    .dataframe tbody tr th {\n",
       "        vertical-align: top;\n",
       "    }\n",
       "\n",
       "    .dataframe thead th {\n",
       "        text-align: right;\n",
       "    }\n",
       "</style>\n",
       "<table border=\"1\" class=\"dataframe\">\n",
       "  <thead>\n",
       "    <tr style=\"text-align: right;\">\n",
       "      <th></th>\n",
       "      <th>id</th>\n",
       "      <th>flat_type</th>\n",
       "      <th>floor_area_sqm</th>\n",
       "      <th>flat_model</th>\n",
       "      <th>resale_price</th>\n",
       "      <th>Tranc_Year</th>\n",
       "      <th>mid</th>\n",
       "      <th>hdb_age</th>\n",
       "      <th>max_floor_lvl</th>\n",
       "      <th>planning_area</th>\n",
       "      <th>Mall_Nearest_Distance</th>\n",
       "      <th>Hawker_Nearest_Distance</th>\n",
       "      <th>mrt_nearest_distance</th>\n",
       "      <th>bus_interchange</th>\n",
       "      <th>mrt_interchange</th>\n",
       "      <th>cutoff_point</th>\n",
       "    </tr>\n",
       "  </thead>\n",
       "  <tbody>\n",
       "    <tr>\n",
       "      <th>0</th>\n",
       "      <td>88471</td>\n",
       "      <td>4 ROOM</td>\n",
       "      <td>90.0</td>\n",
       "      <td>Model A</td>\n",
       "      <td>680000.0</td>\n",
       "      <td>2016</td>\n",
       "      <td>11</td>\n",
       "      <td>15</td>\n",
       "      <td>25</td>\n",
       "      <td>Kallang</td>\n",
       "      <td>1094.090418</td>\n",
       "      <td>154.753357</td>\n",
       "      <td>330.083069</td>\n",
       "      <td>0</td>\n",
       "      <td>0</td>\n",
       "      <td>224</td>\n",
       "    </tr>\n",
       "    <tr>\n",
       "      <th>1</th>\n",
       "      <td>122598</td>\n",
       "      <td>5 ROOM</td>\n",
       "      <td>130.0</td>\n",
       "      <td>Improved</td>\n",
       "      <td>665000.0</td>\n",
       "      <td>2012</td>\n",
       "      <td>8</td>\n",
       "      <td>34</td>\n",
       "      <td>9</td>\n",
       "      <td>Bishan</td>\n",
       "      <td>866.941448</td>\n",
       "      <td>640.151925</td>\n",
       "      <td>903.659703</td>\n",
       "      <td>1</td>\n",
       "      <td>1</td>\n",
       "      <td>232</td>\n",
       "    </tr>\n",
       "    <tr>\n",
       "      <th>2</th>\n",
       "      <td>170897</td>\n",
       "      <td>EXECUTIVE</td>\n",
       "      <td>144.0</td>\n",
       "      <td>Apartment</td>\n",
       "      <td>838000.0</td>\n",
       "      <td>2013</td>\n",
       "      <td>14</td>\n",
       "      <td>24</td>\n",
       "      <td>16</td>\n",
       "      <td>Bukit Batok</td>\n",
       "      <td>1459.579948</td>\n",
       "      <td>1762.082341</td>\n",
       "      <td>1334.251197</td>\n",
       "      <td>1</td>\n",
       "      <td>0</td>\n",
       "      <td>188</td>\n",
       "    </tr>\n",
       "    <tr>\n",
       "      <th>3</th>\n",
       "      <td>86070</td>\n",
       "      <td>4 ROOM</td>\n",
       "      <td>103.0</td>\n",
       "      <td>Model A</td>\n",
       "      <td>550000.0</td>\n",
       "      <td>2012</td>\n",
       "      <td>3</td>\n",
       "      <td>29</td>\n",
       "      <td>11</td>\n",
       "      <td>Bishan</td>\n",
       "      <td>950.175199</td>\n",
       "      <td>726.215262</td>\n",
       "      <td>907.453484</td>\n",
       "      <td>1</td>\n",
       "      <td>1</td>\n",
       "      <td>253</td>\n",
       "    </tr>\n",
       "    <tr>\n",
       "      <th>4</th>\n",
       "      <td>153632</td>\n",
       "      <td>4 ROOM</td>\n",
       "      <td>83.0</td>\n",
       "      <td>Simplified</td>\n",
       "      <td>298000.0</td>\n",
       "      <td>2017</td>\n",
       "      <td>2</td>\n",
       "      <td>34</td>\n",
       "      <td>4</td>\n",
       "      <td>Yishun</td>\n",
       "      <td>729.771895</td>\n",
       "      <td>1540.151439</td>\n",
       "      <td>412.343032</td>\n",
       "      <td>0</td>\n",
       "      <td>0</td>\n",
       "      <td>208</td>\n",
       "    </tr>\n",
       "  </tbody>\n",
       "</table>\n",
       "</div>"
      ],
      "text/plain": [
       "       id  flat_type  floor_area_sqm  flat_model  resale_price  Tranc_Year  \\\n",
       "0   88471     4 ROOM            90.0     Model A      680000.0        2016   \n",
       "1  122598     5 ROOM           130.0    Improved      665000.0        2012   \n",
       "2  170897  EXECUTIVE           144.0   Apartment      838000.0        2013   \n",
       "3   86070     4 ROOM           103.0     Model A      550000.0        2012   \n",
       "4  153632     4 ROOM            83.0  Simplified      298000.0        2017   \n",
       "\n",
       "   mid  hdb_age  max_floor_lvl planning_area  Mall_Nearest_Distance  \\\n",
       "0   11       15             25       Kallang            1094.090418   \n",
       "1    8       34              9        Bishan             866.941448   \n",
       "2   14       24             16   Bukit Batok            1459.579948   \n",
       "3    3       29             11        Bishan             950.175199   \n",
       "4    2       34              4        Yishun             729.771895   \n",
       "\n",
       "   Hawker_Nearest_Distance  mrt_nearest_distance  bus_interchange  \\\n",
       "0               154.753357            330.083069                0   \n",
       "1               640.151925            903.659703                1   \n",
       "2              1762.082341           1334.251197                1   \n",
       "3               726.215262            907.453484                1   \n",
       "4              1540.151439            412.343032                0   \n",
       "\n",
       "   mrt_interchange  cutoff_point  \n",
       "0                0           224  \n",
       "1                1           232  \n",
       "2                0           188  \n",
       "3                1           253  \n",
       "4                0           208  "
      ]
     },
     "execution_count": 2,
     "metadata": {},
     "output_type": "execute_result"
    }
   ],
   "source": [
    "# read in the cleaned data used in model creation\n",
    "df = pd.read_csv('../datasets/reduced_train.csv')\n",
    "df.head()"
   ]
  },
  {
   "cell_type": "code",
   "execution_count": 3,
   "id": "a78ba07c-60a1-4f49-8ea5-d956dd17d496",
   "metadata": {},
   "outputs": [
    {
     "data": {
      "text/plain": [
       "(149772, 16)"
      ]
     },
     "execution_count": 3,
     "metadata": {},
     "output_type": "execute_result"
    }
   ],
   "source": [
    "df.shape"
   ]
  },
  {
   "cell_type": "code",
   "execution_count": 4,
   "id": "3fe5f26b-a7d0-4ba3-9017-41dfe16a6b08",
   "metadata": {},
   "outputs": [
    {
     "data": {
      "text/plain": [
       "id                         0\n",
       "flat_type                  0\n",
       "floor_area_sqm             0\n",
       "flat_model                 0\n",
       "resale_price               0\n",
       "Tranc_Year                 0\n",
       "mid                        0\n",
       "hdb_age                    0\n",
       "max_floor_lvl              0\n",
       "planning_area              0\n",
       "Mall_Nearest_Distance      0\n",
       "Hawker_Nearest_Distance    0\n",
       "mrt_nearest_distance       0\n",
       "bus_interchange            0\n",
       "mrt_interchange            0\n",
       "cutoff_point               0\n",
       "dtype: int64"
      ]
     },
     "execution_count": 4,
     "metadata": {},
     "output_type": "execute_result"
    }
   ],
   "source": [
    "df.isnull().sum()"
   ]
  },
  {
   "cell_type": "markdown",
   "id": "dd7690de-0c21-4877-9398-c7a9dcdf2e90",
   "metadata": {},
   "source": [
    "## Preprocessing"
   ]
  },
  {
   "cell_type": "markdown",
   "id": "40ceecab-eab0-4d38-b833-e913acc02efb",
   "metadata": {},
   "source": [
    "Split the dataset as categorical and numerical sets.  \n",
    "This is a very basic and simple preprocessing, where the categorical features will go through One Hot Encoding, numerical features will go through Standard Scaler."
   ]
  },
  {
   "cell_type": "code",
   "execution_count": 5,
   "id": "86fa8d0f-ba32-45c0-b0d4-646412aaa3be",
   "metadata": {},
   "outputs": [],
   "source": [
    "categorical_col = ['flat_type', 'flat_model', 'Tranc_Year', 'planning_area', 'bus_interchange', 'mrt_interchange']\n",
    "numerical_col = ['floor_area_sqm', 'mid', 'hdb_age', 'max_floor_lvl', 'Mall_Nearest_Distance', 'Hawker_Nearest_Distance', 'mrt_nearest_distance', 'cutoff_point']"
   ]
  },
  {
   "cell_type": "code",
   "execution_count": 6,
   "id": "c818f565-282c-4056-97d3-5f0f2a42c0c7",
   "metadata": {},
   "outputs": [],
   "source": [
    "# This is the target of the prediction\n",
    "y = df.resale_price"
   ]
  },
  {
   "cell_type": "code",
   "execution_count": 7,
   "id": "2b6b92b0-ad24-4765-b210-0cc34126a08a",
   "metadata": {},
   "outputs": [],
   "source": [
    "# These are the predictors used to predict the resale price\n",
    "X = df.drop(columns=['id', 'resale_price'])"
   ]
  },
  {
   "cell_type": "code",
   "execution_count": 8,
   "id": "c4eef382-8cee-49e6-a100-b99f24b7ede2",
   "metadata": {},
   "outputs": [],
   "source": [
    "# make a pipeline to apply standard scaler on selected features\n",
    "numeric_transformer = Pipeline(\n",
    "    steps=[(\"simple impute\", SimpleImputer(missing_values=np.nan, strategy='mean')),\n",
    "           (\"scaler\", StandardScaler())\n",
    "            ]\n",
    ")"
   ]
  },
  {
   "cell_type": "code",
   "execution_count": 9,
   "id": "1c198263-0d10-45ed-9744-6404b9ca84c7",
   "metadata": {
    "tags": []
   },
   "outputs": [],
   "source": [
    "# make a pipeline to apply one hot encoding on selected features\n",
    "categorical_transformer = Pipeline(\n",
    "    steps=[\n",
    "        (\"encoder\", OneHotEncoder(handle_unknown=\"ignore\", drop='first')),\n",
    "    ]\n",
    ")"
   ]
  },
  {
   "cell_type": "code",
   "execution_count": 10,
   "id": "d84f7fac-5d70-4ccf-86ad-e7fd83bbd468",
   "metadata": {},
   "outputs": [],
   "source": [
    "# the above 2 steps forms the colmun transformer, which is used for the preprocessing step.\n",
    "\n",
    "preprocessor = ColumnTransformer(\n",
    "    transformers=[\n",
    "        (\"num\", numeric_transformer, numerical_col),\n",
    "        (\"cat\", categorical_transformer, categorical_col),\n",
    "    ]\n",
    ")"
   ]
  },
  {
   "cell_type": "markdown",
   "id": "12775646-2171-481f-b18f-d3ee1c25e334",
   "metadata": {},
   "source": [
    "Then, prepare the data used for training and testing of model.  \n",
    "As this model is a linear regression based model, the `train_test_split` can't split up the training data using y.   \n",
    "This is because y value, the housing price is numerical and continuous.   \n",
    "There's no way both training set and testing set can contain the number when ther's only 1 y in the entire sample.  "
   ]
  },
  {
   "cell_type": "code",
   "execution_count": 11,
   "id": "a9c2bbf5-d76e-4a06-884b-3a1681bb3a98",
   "metadata": {},
   "outputs": [],
   "source": [
    "# Split the data using train test split.\n",
    "X_train, X_test, y_train, y_test = train_test_split(X, y, test_size=0.2, random_state=0)"
   ]
  },
  {
   "cell_type": "markdown",
   "id": "b80cd7de-0b32-4e53-b6e8-56c658681238",
   "metadata": {},
   "source": [
    "With this, the data is prepared and ready to be used for traning of the models.  "
   ]
  },
  {
   "cell_type": "code",
   "execution_count": 12,
   "id": "f8e0aeb2-94c9-4a8b-839a-b517fa87dcd6",
   "metadata": {},
   "outputs": [
    {
     "data": {
      "text/html": [
       "<div>\n",
       "<style scoped>\n",
       "    .dataframe tbody tr th:only-of-type {\n",
       "        vertical-align: middle;\n",
       "    }\n",
       "\n",
       "    .dataframe tbody tr th {\n",
       "        vertical-align: top;\n",
       "    }\n",
       "\n",
       "    .dataframe thead th {\n",
       "        text-align: right;\n",
       "    }\n",
       "</style>\n",
       "<table border=\"1\" class=\"dataframe\">\n",
       "  <thead>\n",
       "    <tr style=\"text-align: right;\">\n",
       "      <th></th>\n",
       "      <th>flat_type</th>\n",
       "      <th>floor_area_sqm</th>\n",
       "      <th>flat_model</th>\n",
       "      <th>Tranc_Year</th>\n",
       "      <th>mid</th>\n",
       "      <th>hdb_age</th>\n",
       "      <th>max_floor_lvl</th>\n",
       "      <th>planning_area</th>\n",
       "      <th>Mall_Nearest_Distance</th>\n",
       "      <th>Hawker_Nearest_Distance</th>\n",
       "      <th>mrt_nearest_distance</th>\n",
       "      <th>bus_interchange</th>\n",
       "      <th>mrt_interchange</th>\n",
       "      <th>cutoff_point</th>\n",
       "    </tr>\n",
       "  </thead>\n",
       "  <tbody>\n",
       "    <tr>\n",
       "      <th>88970</th>\n",
       "      <td>4 ROOM</td>\n",
       "      <td>104.0</td>\n",
       "      <td>Model A</td>\n",
       "      <td>2020</td>\n",
       "      <td>11</td>\n",
       "      <td>32</td>\n",
       "      <td>12</td>\n",
       "      <td>Yishun</td>\n",
       "      <td>578.640160</td>\n",
       "      <td>480.057997</td>\n",
       "      <td>1156.371509</td>\n",
       "      <td>1</td>\n",
       "      <td>0</td>\n",
       "      <td>235</td>\n",
       "    </tr>\n",
       "    <tr>\n",
       "      <th>129062</th>\n",
       "      <td>3 ROOM</td>\n",
       "      <td>81.0</td>\n",
       "      <td>New Generation</td>\n",
       "      <td>2019</td>\n",
       "      <td>2</td>\n",
       "      <td>43</td>\n",
       "      <td>13</td>\n",
       "      <td>Clementi</td>\n",
       "      <td>346.376514</td>\n",
       "      <td>315.873061</td>\n",
       "      <td>383.278479</td>\n",
       "      <td>1</td>\n",
       "      <td>0</td>\n",
       "      <td>231</td>\n",
       "    </tr>\n",
       "    <tr>\n",
       "      <th>41882</th>\n",
       "      <td>4 ROOM</td>\n",
       "      <td>101.0</td>\n",
       "      <td>Model A</td>\n",
       "      <td>2018</td>\n",
       "      <td>2</td>\n",
       "      <td>23</td>\n",
       "      <td>10</td>\n",
       "      <td>Woodlands</td>\n",
       "      <td>535.174902</td>\n",
       "      <td>1272.548649</td>\n",
       "      <td>619.800951</td>\n",
       "      <td>1</td>\n",
       "      <td>1</td>\n",
       "      <td>204</td>\n",
       "    </tr>\n",
       "    <tr>\n",
       "      <th>139675</th>\n",
       "      <td>4 ROOM</td>\n",
       "      <td>99.0</td>\n",
       "      <td>New Generation</td>\n",
       "      <td>2020</td>\n",
       "      <td>14</td>\n",
       "      <td>38</td>\n",
       "      <td>13</td>\n",
       "      <td>Jurong East</td>\n",
       "      <td>1449.158899</td>\n",
       "      <td>353.355740</td>\n",
       "      <td>411.382755</td>\n",
       "      <td>0</td>\n",
       "      <td>0</td>\n",
       "      <td>223</td>\n",
       "    </tr>\n",
       "    <tr>\n",
       "      <th>140141</th>\n",
       "      <td>5 ROOM</td>\n",
       "      <td>110.0</td>\n",
       "      <td>Improved</td>\n",
       "      <td>2018</td>\n",
       "      <td>8</td>\n",
       "      <td>20</td>\n",
       "      <td>14</td>\n",
       "      <td>Sembawang</td>\n",
       "      <td>442.246864</td>\n",
       "      <td>2414.752074</td>\n",
       "      <td>401.245937</td>\n",
       "      <td>1</td>\n",
       "      <td>0</td>\n",
       "      <td>188</td>\n",
       "    </tr>\n",
       "  </tbody>\n",
       "</table>\n",
       "</div>"
      ],
      "text/plain": [
       "       flat_type  floor_area_sqm      flat_model  Tranc_Year  mid  hdb_age  \\\n",
       "88970     4 ROOM           104.0         Model A        2020   11       32   \n",
       "129062    3 ROOM            81.0  New Generation        2019    2       43   \n",
       "41882     4 ROOM           101.0         Model A        2018    2       23   \n",
       "139675    4 ROOM            99.0  New Generation        2020   14       38   \n",
       "140141    5 ROOM           110.0        Improved        2018    8       20   \n",
       "\n",
       "        max_floor_lvl planning_area  Mall_Nearest_Distance  \\\n",
       "88970              12        Yishun             578.640160   \n",
       "129062             13      Clementi             346.376514   \n",
       "41882              10     Woodlands             535.174902   \n",
       "139675             13   Jurong East            1449.158899   \n",
       "140141             14     Sembawang             442.246864   \n",
       "\n",
       "        Hawker_Nearest_Distance  mrt_nearest_distance  bus_interchange  \\\n",
       "88970                480.057997           1156.371509                1   \n",
       "129062               315.873061            383.278479                1   \n",
       "41882               1272.548649            619.800951                1   \n",
       "139675               353.355740            411.382755                0   \n",
       "140141              2414.752074            401.245937                1   \n",
       "\n",
       "        mrt_interchange  cutoff_point  \n",
       "88970                 0           235  \n",
       "129062                0           231  \n",
       "41882                 1           204  \n",
       "139675                0           223  \n",
       "140141                0           188  "
      ]
     },
     "execution_count": 12,
     "metadata": {},
     "output_type": "execute_result"
    }
   ],
   "source": [
    "X_train.head()"
   ]
  },
  {
   "cell_type": "markdown",
   "id": "2ccbb498-c318-49c4-9f4e-eb4d5f387a41",
   "metadata": {},
   "source": [
    "## Linear Regression"
   ]
  },
  {
   "cell_type": "markdown",
   "id": "f48a61a7-bc8a-49cf-a457-191903dcf10f",
   "metadata": {},
   "source": [
    "This section covers the building of a simple linear regression model.  "
   ]
  },
  {
   "cell_type": "code",
   "execution_count": 13,
   "id": "127258c6-7da3-44c7-8b25-2826e2a7a398",
   "metadata": {},
   "outputs": [],
   "source": [
    "# Build a pipeline for regression model\n",
    "lin_reg = Pipeline(\n",
    "    steps=[(\"preprocessor\", preprocessor), (\"regressor\", LinearRegression())]\n",
    ")"
   ]
  },
  {
   "cell_type": "code",
   "execution_count": 14,
   "id": "489ae314-9cfd-4af6-92bf-bc06c538fae7",
   "metadata": {},
   "outputs": [
    {
     "data": {
      "text/html": [
       "<style>#sk-container-id-1 {color: black;background-color: white;}#sk-container-id-1 pre{padding: 0;}#sk-container-id-1 div.sk-toggleable {background-color: white;}#sk-container-id-1 label.sk-toggleable__label {cursor: pointer;display: block;width: 100%;margin-bottom: 0;padding: 0.3em;box-sizing: border-box;text-align: center;}#sk-container-id-1 label.sk-toggleable__label-arrow:before {content: \"▸\";float: left;margin-right: 0.25em;color: #696969;}#sk-container-id-1 label.sk-toggleable__label-arrow:hover:before {color: black;}#sk-container-id-1 div.sk-estimator:hover label.sk-toggleable__label-arrow:before {color: black;}#sk-container-id-1 div.sk-toggleable__content {max-height: 0;max-width: 0;overflow: hidden;text-align: left;background-color: #f0f8ff;}#sk-container-id-1 div.sk-toggleable__content pre {margin: 0.2em;color: black;border-radius: 0.25em;background-color: #f0f8ff;}#sk-container-id-1 input.sk-toggleable__control:checked~div.sk-toggleable__content {max-height: 200px;max-width: 100%;overflow: auto;}#sk-container-id-1 input.sk-toggleable__control:checked~label.sk-toggleable__label-arrow:before {content: \"▾\";}#sk-container-id-1 div.sk-estimator input.sk-toggleable__control:checked~label.sk-toggleable__label {background-color: #d4ebff;}#sk-container-id-1 div.sk-label input.sk-toggleable__control:checked~label.sk-toggleable__label {background-color: #d4ebff;}#sk-container-id-1 input.sk-hidden--visually {border: 0;clip: rect(1px 1px 1px 1px);clip: rect(1px, 1px, 1px, 1px);height: 1px;margin: -1px;overflow: hidden;padding: 0;position: absolute;width: 1px;}#sk-container-id-1 div.sk-estimator {font-family: monospace;background-color: #f0f8ff;border: 1px dotted black;border-radius: 0.25em;box-sizing: border-box;margin-bottom: 0.5em;}#sk-container-id-1 div.sk-estimator:hover {background-color: #d4ebff;}#sk-container-id-1 div.sk-parallel-item::after {content: \"\";width: 100%;border-bottom: 1px solid gray;flex-grow: 1;}#sk-container-id-1 div.sk-label:hover label.sk-toggleable__label {background-color: #d4ebff;}#sk-container-id-1 div.sk-serial::before {content: \"\";position: absolute;border-left: 1px solid gray;box-sizing: border-box;top: 0;bottom: 0;left: 50%;z-index: 0;}#sk-container-id-1 div.sk-serial {display: flex;flex-direction: column;align-items: center;background-color: white;padding-right: 0.2em;padding-left: 0.2em;position: relative;}#sk-container-id-1 div.sk-item {position: relative;z-index: 1;}#sk-container-id-1 div.sk-parallel {display: flex;align-items: stretch;justify-content: center;background-color: white;position: relative;}#sk-container-id-1 div.sk-item::before, #sk-container-id-1 div.sk-parallel-item::before {content: \"\";position: absolute;border-left: 1px solid gray;box-sizing: border-box;top: 0;bottom: 0;left: 50%;z-index: -1;}#sk-container-id-1 div.sk-parallel-item {display: flex;flex-direction: column;z-index: 1;position: relative;background-color: white;}#sk-container-id-1 div.sk-parallel-item:first-child::after {align-self: flex-end;width: 50%;}#sk-container-id-1 div.sk-parallel-item:last-child::after {align-self: flex-start;width: 50%;}#sk-container-id-1 div.sk-parallel-item:only-child::after {width: 0;}#sk-container-id-1 div.sk-dashed-wrapped {border: 1px dashed gray;margin: 0 0.4em 0.5em 0.4em;box-sizing: border-box;padding-bottom: 0.4em;background-color: white;}#sk-container-id-1 div.sk-label label {font-family: monospace;font-weight: bold;display: inline-block;line-height: 1.2em;}#sk-container-id-1 div.sk-label-container {text-align: center;}#sk-container-id-1 div.sk-container {/* jupyter's `normalize.less` sets `[hidden] { display: none; }` but bootstrap.min.css set `[hidden] { display: none !important; }` so we also need the `!important` here to be able to override the default hidden behavior on the sphinx rendered scikit-learn.org. See: https://github.com/scikit-learn/scikit-learn/issues/21755 */display: inline-block !important;position: relative;}#sk-container-id-1 div.sk-text-repr-fallback {display: none;}</style><div id=\"sk-container-id-1\" class=\"sk-top-container\"><div class=\"sk-text-repr-fallback\"><pre>Pipeline(steps=[(&#x27;preprocessor&#x27;,\n",
       "                 ColumnTransformer(transformers=[(&#x27;num&#x27;,\n",
       "                                                  Pipeline(steps=[(&#x27;simple &#x27;\n",
       "                                                                   &#x27;impute&#x27;,\n",
       "                                                                   SimpleImputer()),\n",
       "                                                                  (&#x27;scaler&#x27;,\n",
       "                                                                   StandardScaler())]),\n",
       "                                                  [&#x27;floor_area_sqm&#x27;, &#x27;mid&#x27;,\n",
       "                                                   &#x27;hdb_age&#x27;, &#x27;max_floor_lvl&#x27;,\n",
       "                                                   &#x27;Mall_Nearest_Distance&#x27;,\n",
       "                                                   &#x27;Hawker_Nearest_Distance&#x27;,\n",
       "                                                   &#x27;mrt_nearest_distance&#x27;,\n",
       "                                                   &#x27;cutoff_point&#x27;]),\n",
       "                                                 (&#x27;cat&#x27;,\n",
       "                                                  Pipeline(steps=[(&#x27;encoder&#x27;,\n",
       "                                                                   OneHotEncoder(drop=&#x27;first&#x27;,\n",
       "                                                                                 handle_unknown=&#x27;ignore&#x27;))]),\n",
       "                                                  [&#x27;flat_type&#x27;, &#x27;flat_model&#x27;,\n",
       "                                                   &#x27;Tranc_Year&#x27;,\n",
       "                                                   &#x27;planning_area&#x27;,\n",
       "                                                   &#x27;bus_interchange&#x27;,\n",
       "                                                   &#x27;mrt_interchange&#x27;])])),\n",
       "                (&#x27;regressor&#x27;, LinearRegression())])</pre><b>In a Jupyter environment, please rerun this cell to show the HTML representation or trust the notebook. <br />On GitHub, the HTML representation is unable to render, please try loading this page with nbviewer.org.</b></div><div class=\"sk-container\" hidden><div class=\"sk-item sk-dashed-wrapped\"><div class=\"sk-label-container\"><div class=\"sk-label sk-toggleable\"><input class=\"sk-toggleable__control sk-hidden--visually\" id=\"sk-estimator-id-1\" type=\"checkbox\" ><label for=\"sk-estimator-id-1\" class=\"sk-toggleable__label sk-toggleable__label-arrow\">Pipeline</label><div class=\"sk-toggleable__content\"><pre>Pipeline(steps=[(&#x27;preprocessor&#x27;,\n",
       "                 ColumnTransformer(transformers=[(&#x27;num&#x27;,\n",
       "                                                  Pipeline(steps=[(&#x27;simple &#x27;\n",
       "                                                                   &#x27;impute&#x27;,\n",
       "                                                                   SimpleImputer()),\n",
       "                                                                  (&#x27;scaler&#x27;,\n",
       "                                                                   StandardScaler())]),\n",
       "                                                  [&#x27;floor_area_sqm&#x27;, &#x27;mid&#x27;,\n",
       "                                                   &#x27;hdb_age&#x27;, &#x27;max_floor_lvl&#x27;,\n",
       "                                                   &#x27;Mall_Nearest_Distance&#x27;,\n",
       "                                                   &#x27;Hawker_Nearest_Distance&#x27;,\n",
       "                                                   &#x27;mrt_nearest_distance&#x27;,\n",
       "                                                   &#x27;cutoff_point&#x27;]),\n",
       "                                                 (&#x27;cat&#x27;,\n",
       "                                                  Pipeline(steps=[(&#x27;encoder&#x27;,\n",
       "                                                                   OneHotEncoder(drop=&#x27;first&#x27;,\n",
       "                                                                                 handle_unknown=&#x27;ignore&#x27;))]),\n",
       "                                                  [&#x27;flat_type&#x27;, &#x27;flat_model&#x27;,\n",
       "                                                   &#x27;Tranc_Year&#x27;,\n",
       "                                                   &#x27;planning_area&#x27;,\n",
       "                                                   &#x27;bus_interchange&#x27;,\n",
       "                                                   &#x27;mrt_interchange&#x27;])])),\n",
       "                (&#x27;regressor&#x27;, LinearRegression())])</pre></div></div></div><div class=\"sk-serial\"><div class=\"sk-item sk-dashed-wrapped\"><div class=\"sk-label-container\"><div class=\"sk-label sk-toggleable\"><input class=\"sk-toggleable__control sk-hidden--visually\" id=\"sk-estimator-id-2\" type=\"checkbox\" ><label for=\"sk-estimator-id-2\" class=\"sk-toggleable__label sk-toggleable__label-arrow\">preprocessor: ColumnTransformer</label><div class=\"sk-toggleable__content\"><pre>ColumnTransformer(transformers=[(&#x27;num&#x27;,\n",
       "                                 Pipeline(steps=[(&#x27;simple impute&#x27;,\n",
       "                                                  SimpleImputer()),\n",
       "                                                 (&#x27;scaler&#x27;, StandardScaler())]),\n",
       "                                 [&#x27;floor_area_sqm&#x27;, &#x27;mid&#x27;, &#x27;hdb_age&#x27;,\n",
       "                                  &#x27;max_floor_lvl&#x27;, &#x27;Mall_Nearest_Distance&#x27;,\n",
       "                                  &#x27;Hawker_Nearest_Distance&#x27;,\n",
       "                                  &#x27;mrt_nearest_distance&#x27;, &#x27;cutoff_point&#x27;]),\n",
       "                                (&#x27;cat&#x27;,\n",
       "                                 Pipeline(steps=[(&#x27;encoder&#x27;,\n",
       "                                                  OneHotEncoder(drop=&#x27;first&#x27;,\n",
       "                                                                handle_unknown=&#x27;ignore&#x27;))]),\n",
       "                                 [&#x27;flat_type&#x27;, &#x27;flat_model&#x27;, &#x27;Tranc_Year&#x27;,\n",
       "                                  &#x27;planning_area&#x27;, &#x27;bus_interchange&#x27;,\n",
       "                                  &#x27;mrt_interchange&#x27;])])</pre></div></div></div><div class=\"sk-parallel\"><div class=\"sk-parallel-item\"><div class=\"sk-item\"><div class=\"sk-label-container\"><div class=\"sk-label sk-toggleable\"><input class=\"sk-toggleable__control sk-hidden--visually\" id=\"sk-estimator-id-3\" type=\"checkbox\" ><label for=\"sk-estimator-id-3\" class=\"sk-toggleable__label sk-toggleable__label-arrow\">num</label><div class=\"sk-toggleable__content\"><pre>[&#x27;floor_area_sqm&#x27;, &#x27;mid&#x27;, &#x27;hdb_age&#x27;, &#x27;max_floor_lvl&#x27;, &#x27;Mall_Nearest_Distance&#x27;, &#x27;Hawker_Nearest_Distance&#x27;, &#x27;mrt_nearest_distance&#x27;, &#x27;cutoff_point&#x27;]</pre></div></div></div><div class=\"sk-serial\"><div class=\"sk-item\"><div class=\"sk-serial\"><div class=\"sk-item\"><div class=\"sk-estimator sk-toggleable\"><input class=\"sk-toggleable__control sk-hidden--visually\" id=\"sk-estimator-id-4\" type=\"checkbox\" ><label for=\"sk-estimator-id-4\" class=\"sk-toggleable__label sk-toggleable__label-arrow\">SimpleImputer</label><div class=\"sk-toggleable__content\"><pre>SimpleImputer()</pre></div></div></div><div class=\"sk-item\"><div class=\"sk-estimator sk-toggleable\"><input class=\"sk-toggleable__control sk-hidden--visually\" id=\"sk-estimator-id-5\" type=\"checkbox\" ><label for=\"sk-estimator-id-5\" class=\"sk-toggleable__label sk-toggleable__label-arrow\">StandardScaler</label><div class=\"sk-toggleable__content\"><pre>StandardScaler()</pre></div></div></div></div></div></div></div></div><div class=\"sk-parallel-item\"><div class=\"sk-item\"><div class=\"sk-label-container\"><div class=\"sk-label sk-toggleable\"><input class=\"sk-toggleable__control sk-hidden--visually\" id=\"sk-estimator-id-6\" type=\"checkbox\" ><label for=\"sk-estimator-id-6\" class=\"sk-toggleable__label sk-toggleable__label-arrow\">cat</label><div class=\"sk-toggleable__content\"><pre>[&#x27;flat_type&#x27;, &#x27;flat_model&#x27;, &#x27;Tranc_Year&#x27;, &#x27;planning_area&#x27;, &#x27;bus_interchange&#x27;, &#x27;mrt_interchange&#x27;]</pre></div></div></div><div class=\"sk-serial\"><div class=\"sk-item\"><div class=\"sk-serial\"><div class=\"sk-item\"><div class=\"sk-estimator sk-toggleable\"><input class=\"sk-toggleable__control sk-hidden--visually\" id=\"sk-estimator-id-7\" type=\"checkbox\" ><label for=\"sk-estimator-id-7\" class=\"sk-toggleable__label sk-toggleable__label-arrow\">OneHotEncoder</label><div class=\"sk-toggleable__content\"><pre>OneHotEncoder(drop=&#x27;first&#x27;, handle_unknown=&#x27;ignore&#x27;)</pre></div></div></div></div></div></div></div></div></div></div><div class=\"sk-item\"><div class=\"sk-estimator sk-toggleable\"><input class=\"sk-toggleable__control sk-hidden--visually\" id=\"sk-estimator-id-8\" type=\"checkbox\" ><label for=\"sk-estimator-id-8\" class=\"sk-toggleable__label sk-toggleable__label-arrow\">LinearRegression</label><div class=\"sk-toggleable__content\"><pre>LinearRegression()</pre></div></div></div></div></div></div></div>"
      ],
      "text/plain": [
       "Pipeline(steps=[('preprocessor',\n",
       "                 ColumnTransformer(transformers=[('num',\n",
       "                                                  Pipeline(steps=[('simple '\n",
       "                                                                   'impute',\n",
       "                                                                   SimpleImputer()),\n",
       "                                                                  ('scaler',\n",
       "                                                                   StandardScaler())]),\n",
       "                                                  ['floor_area_sqm', 'mid',\n",
       "                                                   'hdb_age', 'max_floor_lvl',\n",
       "                                                   'Mall_Nearest_Distance',\n",
       "                                                   'Hawker_Nearest_Distance',\n",
       "                                                   'mrt_nearest_distance',\n",
       "                                                   'cutoff_point']),\n",
       "                                                 ('cat',\n",
       "                                                  Pipeline(steps=[('encoder',\n",
       "                                                                   OneHotEncoder(drop='first',\n",
       "                                                                                 handle_unknown='ignore'))]),\n",
       "                                                  ['flat_type', 'flat_model',\n",
       "                                                   'Tranc_Year',\n",
       "                                                   'planning_area',\n",
       "                                                   'bus_interchange',\n",
       "                                                   'mrt_interchange'])])),\n",
       "                ('regressor', LinearRegression())])"
      ]
     },
     "execution_count": 14,
     "metadata": {},
     "output_type": "execute_result"
    }
   ],
   "source": [
    "# Fit the model with training data\n",
    "lin_reg.fit(X_train, y_train)"
   ]
  },
  {
   "cell_type": "code",
   "execution_count": 15,
   "id": "09a4d462-600e-4a3b-8e2a-0caaabc95c61",
   "metadata": {},
   "outputs": [
    {
     "name": "stdout",
     "output_type": "stream",
     "text": [
      "The train score is: 0.891913\n",
      "The test score is: 0.891237\n"
     ]
    }
   ],
   "source": [
    "print(f\"The train score is: {round(lin_reg.score(X_train, y_train), 6)}\")\n",
    "print(f\"The test score is: {round(lin_reg.score(X_test, y_test), 6)}\")"
   ]
  },
  {
   "cell_type": "markdown",
   "id": "eb698b53-ad4e-4fc2-80ed-597d7be62d7f",
   "metadata": {},
   "source": [
    "This is a reseasonable model with very close train and test scores.   \n",
    "This means that this is a decent model!  \n",
    "Now, I will further investigate this model using cross validation."
   ]
  },
  {
   "cell_type": "code",
   "execution_count": 16,
   "id": "76ca5c7c-90fe-4187-a83d-2e2374ea938d",
   "metadata": {},
   "outputs": [],
   "source": [
    "# Build a regression model with cross validation\n",
    "folds = KFold(n_splits = 5, shuffle = True, random_state = 0)\n",
    "scores = cross_val_score(lin_reg, X_train, y_train, scoring='r2', cv=folds)"
   ]
  },
  {
   "cell_type": "code",
   "execution_count": 17,
   "id": "c3221d64-2d92-464a-a5b4-51c9667919ac",
   "metadata": {},
   "outputs": [
    {
     "data": {
      "text/plain": [
       "array([0.8913561 , 0.89231941, 0.89244822, 0.8928205 , 0.88969684])"
      ]
     },
     "execution_count": 17,
     "metadata": {},
     "output_type": "execute_result"
    }
   ],
   "source": [
    "scores"
   ]
  },
  {
   "cell_type": "markdown",
   "id": "8772232e-9aa1-4047-897f-7eb1563080f8",
   "metadata": {},
   "source": [
    "Seems that the cross validation score is pretty good and very consistent.  \n",
    "This is indicated by the close match between the different folds.  \n",
    "Below is a simpler way to do it.  \n",
    "```console\n",
    "scores = cross_val_score(lin_reg, X_train, y_train, scoring='r2', cv=5)\n",
    "scores      \n",
    "```\n",
    "Okay, this is acceptable.  \n",
    "Now, time to try the other methods!"
   ]
  },
  {
   "cell_type": "markdown",
   "id": "681fba41-3e6f-4e1c-ac2e-1b809faffe10",
   "metadata": {},
   "source": [
    "## Lasso Regression"
   ]
  },
  {
   "cell_type": "markdown",
   "id": "155cbeff-d0a7-4f6a-b325-d3494c962f7c",
   "metadata": {},
   "source": [
    "Lasso (least absolute shrinkage and selection operator; also Lasso or LASSO), is a regression analysis method.  \n",
    "It is also termed as L1 regularization.  \n",
    "It is able to shrink some coefficients to 0.  \n",
    "Lasso Regression is given by:  \n",
    "<img src=\"../img/lasso.png\"></img>  \n",
    "Using my own naive understanding, lasso is solving for optimal point.  \n",
    "The solution to these optimal points appear when elliptical contours touch the constraints.   \n",
    "Solutions exists at vertices, just like Linear Programming.  \n",
    "These vertices just so happens to lie on axis.  \n",
    "Which then results in at least 1 coefficent to be shrinked to 0.  \n",
    "Amazing mathematics at work!"
   ]
  },
  {
   "cell_type": "code",
   "execution_count": 18,
   "id": "87dfa3c5-304a-4896-9d68-3dca57f38e36",
   "metadata": {},
   "outputs": [],
   "source": [
    "# Build a pipeline for regression model\n",
    "# default setting did not converge\n",
    "lasso = Pipeline(\n",
    "    steps=[(\"preprocessor\", preprocessor), (\"Lasso\", Lasso(max_iter=10000))]\n",
    ")"
   ]
  },
  {
   "cell_type": "code",
   "execution_count": 19,
   "id": "94c6846c-cefd-46ff-828c-40c466f371ac",
   "metadata": {},
   "outputs": [
    {
     "data": {
      "text/html": [
       "<style>#sk-container-id-2 {color: black;background-color: white;}#sk-container-id-2 pre{padding: 0;}#sk-container-id-2 div.sk-toggleable {background-color: white;}#sk-container-id-2 label.sk-toggleable__label {cursor: pointer;display: block;width: 100%;margin-bottom: 0;padding: 0.3em;box-sizing: border-box;text-align: center;}#sk-container-id-2 label.sk-toggleable__label-arrow:before {content: \"▸\";float: left;margin-right: 0.25em;color: #696969;}#sk-container-id-2 label.sk-toggleable__label-arrow:hover:before {color: black;}#sk-container-id-2 div.sk-estimator:hover label.sk-toggleable__label-arrow:before {color: black;}#sk-container-id-2 div.sk-toggleable__content {max-height: 0;max-width: 0;overflow: hidden;text-align: left;background-color: #f0f8ff;}#sk-container-id-2 div.sk-toggleable__content pre {margin: 0.2em;color: black;border-radius: 0.25em;background-color: #f0f8ff;}#sk-container-id-2 input.sk-toggleable__control:checked~div.sk-toggleable__content {max-height: 200px;max-width: 100%;overflow: auto;}#sk-container-id-2 input.sk-toggleable__control:checked~label.sk-toggleable__label-arrow:before {content: \"▾\";}#sk-container-id-2 div.sk-estimator input.sk-toggleable__control:checked~label.sk-toggleable__label {background-color: #d4ebff;}#sk-container-id-2 div.sk-label input.sk-toggleable__control:checked~label.sk-toggleable__label {background-color: #d4ebff;}#sk-container-id-2 input.sk-hidden--visually {border: 0;clip: rect(1px 1px 1px 1px);clip: rect(1px, 1px, 1px, 1px);height: 1px;margin: -1px;overflow: hidden;padding: 0;position: absolute;width: 1px;}#sk-container-id-2 div.sk-estimator {font-family: monospace;background-color: #f0f8ff;border: 1px dotted black;border-radius: 0.25em;box-sizing: border-box;margin-bottom: 0.5em;}#sk-container-id-2 div.sk-estimator:hover {background-color: #d4ebff;}#sk-container-id-2 div.sk-parallel-item::after {content: \"\";width: 100%;border-bottom: 1px solid gray;flex-grow: 1;}#sk-container-id-2 div.sk-label:hover label.sk-toggleable__label {background-color: #d4ebff;}#sk-container-id-2 div.sk-serial::before {content: \"\";position: absolute;border-left: 1px solid gray;box-sizing: border-box;top: 0;bottom: 0;left: 50%;z-index: 0;}#sk-container-id-2 div.sk-serial {display: flex;flex-direction: column;align-items: center;background-color: white;padding-right: 0.2em;padding-left: 0.2em;position: relative;}#sk-container-id-2 div.sk-item {position: relative;z-index: 1;}#sk-container-id-2 div.sk-parallel {display: flex;align-items: stretch;justify-content: center;background-color: white;position: relative;}#sk-container-id-2 div.sk-item::before, #sk-container-id-2 div.sk-parallel-item::before {content: \"\";position: absolute;border-left: 1px solid gray;box-sizing: border-box;top: 0;bottom: 0;left: 50%;z-index: -1;}#sk-container-id-2 div.sk-parallel-item {display: flex;flex-direction: column;z-index: 1;position: relative;background-color: white;}#sk-container-id-2 div.sk-parallel-item:first-child::after {align-self: flex-end;width: 50%;}#sk-container-id-2 div.sk-parallel-item:last-child::after {align-self: flex-start;width: 50%;}#sk-container-id-2 div.sk-parallel-item:only-child::after {width: 0;}#sk-container-id-2 div.sk-dashed-wrapped {border: 1px dashed gray;margin: 0 0.4em 0.5em 0.4em;box-sizing: border-box;padding-bottom: 0.4em;background-color: white;}#sk-container-id-2 div.sk-label label {font-family: monospace;font-weight: bold;display: inline-block;line-height: 1.2em;}#sk-container-id-2 div.sk-label-container {text-align: center;}#sk-container-id-2 div.sk-container {/* jupyter's `normalize.less` sets `[hidden] { display: none; }` but bootstrap.min.css set `[hidden] { display: none !important; }` so we also need the `!important` here to be able to override the default hidden behavior on the sphinx rendered scikit-learn.org. See: https://github.com/scikit-learn/scikit-learn/issues/21755 */display: inline-block !important;position: relative;}#sk-container-id-2 div.sk-text-repr-fallback {display: none;}</style><div id=\"sk-container-id-2\" class=\"sk-top-container\"><div class=\"sk-text-repr-fallback\"><pre>Pipeline(steps=[(&#x27;preprocessor&#x27;,\n",
       "                 ColumnTransformer(transformers=[(&#x27;num&#x27;,\n",
       "                                                  Pipeline(steps=[(&#x27;simple &#x27;\n",
       "                                                                   &#x27;impute&#x27;,\n",
       "                                                                   SimpleImputer()),\n",
       "                                                                  (&#x27;scaler&#x27;,\n",
       "                                                                   StandardScaler())]),\n",
       "                                                  [&#x27;floor_area_sqm&#x27;, &#x27;mid&#x27;,\n",
       "                                                   &#x27;hdb_age&#x27;, &#x27;max_floor_lvl&#x27;,\n",
       "                                                   &#x27;Mall_Nearest_Distance&#x27;,\n",
       "                                                   &#x27;Hawker_Nearest_Distance&#x27;,\n",
       "                                                   &#x27;mrt_nearest_distance&#x27;,\n",
       "                                                   &#x27;cutoff_point&#x27;]),\n",
       "                                                 (&#x27;cat&#x27;,\n",
       "                                                  Pipeline(steps=[(&#x27;encoder&#x27;,\n",
       "                                                                   OneHotEncoder(drop=&#x27;first&#x27;,\n",
       "                                                                                 handle_unknown=&#x27;ignore&#x27;))]),\n",
       "                                                  [&#x27;flat_type&#x27;, &#x27;flat_model&#x27;,\n",
       "                                                   &#x27;Tranc_Year&#x27;,\n",
       "                                                   &#x27;planning_area&#x27;,\n",
       "                                                   &#x27;bus_interchange&#x27;,\n",
       "                                                   &#x27;mrt_interchange&#x27;])])),\n",
       "                (&#x27;Lasso&#x27;, Lasso(max_iter=10000))])</pre><b>In a Jupyter environment, please rerun this cell to show the HTML representation or trust the notebook. <br />On GitHub, the HTML representation is unable to render, please try loading this page with nbviewer.org.</b></div><div class=\"sk-container\" hidden><div class=\"sk-item sk-dashed-wrapped\"><div class=\"sk-label-container\"><div class=\"sk-label sk-toggleable\"><input class=\"sk-toggleable__control sk-hidden--visually\" id=\"sk-estimator-id-9\" type=\"checkbox\" ><label for=\"sk-estimator-id-9\" class=\"sk-toggleable__label sk-toggleable__label-arrow\">Pipeline</label><div class=\"sk-toggleable__content\"><pre>Pipeline(steps=[(&#x27;preprocessor&#x27;,\n",
       "                 ColumnTransformer(transformers=[(&#x27;num&#x27;,\n",
       "                                                  Pipeline(steps=[(&#x27;simple &#x27;\n",
       "                                                                   &#x27;impute&#x27;,\n",
       "                                                                   SimpleImputer()),\n",
       "                                                                  (&#x27;scaler&#x27;,\n",
       "                                                                   StandardScaler())]),\n",
       "                                                  [&#x27;floor_area_sqm&#x27;, &#x27;mid&#x27;,\n",
       "                                                   &#x27;hdb_age&#x27;, &#x27;max_floor_lvl&#x27;,\n",
       "                                                   &#x27;Mall_Nearest_Distance&#x27;,\n",
       "                                                   &#x27;Hawker_Nearest_Distance&#x27;,\n",
       "                                                   &#x27;mrt_nearest_distance&#x27;,\n",
       "                                                   &#x27;cutoff_point&#x27;]),\n",
       "                                                 (&#x27;cat&#x27;,\n",
       "                                                  Pipeline(steps=[(&#x27;encoder&#x27;,\n",
       "                                                                   OneHotEncoder(drop=&#x27;first&#x27;,\n",
       "                                                                                 handle_unknown=&#x27;ignore&#x27;))]),\n",
       "                                                  [&#x27;flat_type&#x27;, &#x27;flat_model&#x27;,\n",
       "                                                   &#x27;Tranc_Year&#x27;,\n",
       "                                                   &#x27;planning_area&#x27;,\n",
       "                                                   &#x27;bus_interchange&#x27;,\n",
       "                                                   &#x27;mrt_interchange&#x27;])])),\n",
       "                (&#x27;Lasso&#x27;, Lasso(max_iter=10000))])</pre></div></div></div><div class=\"sk-serial\"><div class=\"sk-item sk-dashed-wrapped\"><div class=\"sk-label-container\"><div class=\"sk-label sk-toggleable\"><input class=\"sk-toggleable__control sk-hidden--visually\" id=\"sk-estimator-id-10\" type=\"checkbox\" ><label for=\"sk-estimator-id-10\" class=\"sk-toggleable__label sk-toggleable__label-arrow\">preprocessor: ColumnTransformer</label><div class=\"sk-toggleable__content\"><pre>ColumnTransformer(transformers=[(&#x27;num&#x27;,\n",
       "                                 Pipeline(steps=[(&#x27;simple impute&#x27;,\n",
       "                                                  SimpleImputer()),\n",
       "                                                 (&#x27;scaler&#x27;, StandardScaler())]),\n",
       "                                 [&#x27;floor_area_sqm&#x27;, &#x27;mid&#x27;, &#x27;hdb_age&#x27;,\n",
       "                                  &#x27;max_floor_lvl&#x27;, &#x27;Mall_Nearest_Distance&#x27;,\n",
       "                                  &#x27;Hawker_Nearest_Distance&#x27;,\n",
       "                                  &#x27;mrt_nearest_distance&#x27;, &#x27;cutoff_point&#x27;]),\n",
       "                                (&#x27;cat&#x27;,\n",
       "                                 Pipeline(steps=[(&#x27;encoder&#x27;,\n",
       "                                                  OneHotEncoder(drop=&#x27;first&#x27;,\n",
       "                                                                handle_unknown=&#x27;ignore&#x27;))]),\n",
       "                                 [&#x27;flat_type&#x27;, &#x27;flat_model&#x27;, &#x27;Tranc_Year&#x27;,\n",
       "                                  &#x27;planning_area&#x27;, &#x27;bus_interchange&#x27;,\n",
       "                                  &#x27;mrt_interchange&#x27;])])</pre></div></div></div><div class=\"sk-parallel\"><div class=\"sk-parallel-item\"><div class=\"sk-item\"><div class=\"sk-label-container\"><div class=\"sk-label sk-toggleable\"><input class=\"sk-toggleable__control sk-hidden--visually\" id=\"sk-estimator-id-11\" type=\"checkbox\" ><label for=\"sk-estimator-id-11\" class=\"sk-toggleable__label sk-toggleable__label-arrow\">num</label><div class=\"sk-toggleable__content\"><pre>[&#x27;floor_area_sqm&#x27;, &#x27;mid&#x27;, &#x27;hdb_age&#x27;, &#x27;max_floor_lvl&#x27;, &#x27;Mall_Nearest_Distance&#x27;, &#x27;Hawker_Nearest_Distance&#x27;, &#x27;mrt_nearest_distance&#x27;, &#x27;cutoff_point&#x27;]</pre></div></div></div><div class=\"sk-serial\"><div class=\"sk-item\"><div class=\"sk-serial\"><div class=\"sk-item\"><div class=\"sk-estimator sk-toggleable\"><input class=\"sk-toggleable__control sk-hidden--visually\" id=\"sk-estimator-id-12\" type=\"checkbox\" ><label for=\"sk-estimator-id-12\" class=\"sk-toggleable__label sk-toggleable__label-arrow\">SimpleImputer</label><div class=\"sk-toggleable__content\"><pre>SimpleImputer()</pre></div></div></div><div class=\"sk-item\"><div class=\"sk-estimator sk-toggleable\"><input class=\"sk-toggleable__control sk-hidden--visually\" id=\"sk-estimator-id-13\" type=\"checkbox\" ><label for=\"sk-estimator-id-13\" class=\"sk-toggleable__label sk-toggleable__label-arrow\">StandardScaler</label><div class=\"sk-toggleable__content\"><pre>StandardScaler()</pre></div></div></div></div></div></div></div></div><div class=\"sk-parallel-item\"><div class=\"sk-item\"><div class=\"sk-label-container\"><div class=\"sk-label sk-toggleable\"><input class=\"sk-toggleable__control sk-hidden--visually\" id=\"sk-estimator-id-14\" type=\"checkbox\" ><label for=\"sk-estimator-id-14\" class=\"sk-toggleable__label sk-toggleable__label-arrow\">cat</label><div class=\"sk-toggleable__content\"><pre>[&#x27;flat_type&#x27;, &#x27;flat_model&#x27;, &#x27;Tranc_Year&#x27;, &#x27;planning_area&#x27;, &#x27;bus_interchange&#x27;, &#x27;mrt_interchange&#x27;]</pre></div></div></div><div class=\"sk-serial\"><div class=\"sk-item\"><div class=\"sk-serial\"><div class=\"sk-item\"><div class=\"sk-estimator sk-toggleable\"><input class=\"sk-toggleable__control sk-hidden--visually\" id=\"sk-estimator-id-15\" type=\"checkbox\" ><label for=\"sk-estimator-id-15\" class=\"sk-toggleable__label sk-toggleable__label-arrow\">OneHotEncoder</label><div class=\"sk-toggleable__content\"><pre>OneHotEncoder(drop=&#x27;first&#x27;, handle_unknown=&#x27;ignore&#x27;)</pre></div></div></div></div></div></div></div></div></div></div><div class=\"sk-item\"><div class=\"sk-estimator sk-toggleable\"><input class=\"sk-toggleable__control sk-hidden--visually\" id=\"sk-estimator-id-16\" type=\"checkbox\" ><label for=\"sk-estimator-id-16\" class=\"sk-toggleable__label sk-toggleable__label-arrow\">Lasso</label><div class=\"sk-toggleable__content\"><pre>Lasso(max_iter=10000)</pre></div></div></div></div></div></div></div>"
      ],
      "text/plain": [
       "Pipeline(steps=[('preprocessor',\n",
       "                 ColumnTransformer(transformers=[('num',\n",
       "                                                  Pipeline(steps=[('simple '\n",
       "                                                                   'impute',\n",
       "                                                                   SimpleImputer()),\n",
       "                                                                  ('scaler',\n",
       "                                                                   StandardScaler())]),\n",
       "                                                  ['floor_area_sqm', 'mid',\n",
       "                                                   'hdb_age', 'max_floor_lvl',\n",
       "                                                   'Mall_Nearest_Distance',\n",
       "                                                   'Hawker_Nearest_Distance',\n",
       "                                                   'mrt_nearest_distance',\n",
       "                                                   'cutoff_point']),\n",
       "                                                 ('cat',\n",
       "                                                  Pipeline(steps=[('encoder',\n",
       "                                                                   OneHotEncoder(drop='first',\n",
       "                                                                                 handle_unknown='ignore'))]),\n",
       "                                                  ['flat_type', 'flat_model',\n",
       "                                                   'Tranc_Year',\n",
       "                                                   'planning_area',\n",
       "                                                   'bus_interchange',\n",
       "                                                   'mrt_interchange'])])),\n",
       "                ('Lasso', Lasso(max_iter=10000))])"
      ]
     },
     "execution_count": 19,
     "metadata": {},
     "output_type": "execute_result"
    }
   ],
   "source": [
    "lasso.fit(X_train, y_train)"
   ]
  },
  {
   "cell_type": "raw",
   "id": "5221342e-7d98-4315-9833-e2a96e53b433",
   "metadata": {},
   "source": [
    "Okay, this did not converge on the first try.  \n",
    "I checked the documentation, it says `max_iterint, default=1000`.   \n",
    "Hmmm, maybe this is the problem.  \n",
    "Let me increase it!   \n",
    "And then my laptop fans started spinning so fast that my computer is ready for take off like an airplane!  \n",
    "It better give me good results!  "
   ]
  },
  {
   "cell_type": "code",
   "execution_count": 20,
   "id": "e3952282-cc02-4719-9422-f80024b5bcad",
   "metadata": {},
   "outputs": [
    {
     "name": "stdout",
     "output_type": "stream",
     "text": [
      "The train score is: 0.891912\n",
      "The test score is: 0.891241\n"
     ]
    }
   ],
   "source": [
    "print(f\"The train score is: {round(lasso.score(X_train, y_train), 6)}\")\n",
    "print(f\"The test score is: {round(lasso.score(X_test, y_test), 6)}\")"
   ]
  },
  {
   "cell_type": "markdown",
   "id": "38a7e137-af87-4f5d-97a6-9e25be106264",
   "metadata": {},
   "source": [
    "Hmmmm, this is very close match!  \n",
    "Take a look at cross validation?  "
   ]
  },
  {
   "cell_type": "code",
   "execution_count": 32,
   "id": "b26bdc75-0a4f-413c-a0b9-2bde18a46580",
   "metadata": {},
   "outputs": [],
   "source": [
    "lasso_CV = Pipeline(\n",
    "    steps=[(\"preprocessor\", preprocessor), (\"Lasso CV\", LassoCV(max_iter=10000, cv=5))]\n",
    ")"
   ]
  },
  {
   "cell_type": "code",
   "execution_count": 33,
   "id": "49afe901-8033-424a-98a2-bf34b4df0d12",
   "metadata": {},
   "outputs": [
    {
     "data": {
      "text/html": [
       "<style>#sk-container-id-3 {color: black;background-color: white;}#sk-container-id-3 pre{padding: 0;}#sk-container-id-3 div.sk-toggleable {background-color: white;}#sk-container-id-3 label.sk-toggleable__label {cursor: pointer;display: block;width: 100%;margin-bottom: 0;padding: 0.3em;box-sizing: border-box;text-align: center;}#sk-container-id-3 label.sk-toggleable__label-arrow:before {content: \"▸\";float: left;margin-right: 0.25em;color: #696969;}#sk-container-id-3 label.sk-toggleable__label-arrow:hover:before {color: black;}#sk-container-id-3 div.sk-estimator:hover label.sk-toggleable__label-arrow:before {color: black;}#sk-container-id-3 div.sk-toggleable__content {max-height: 0;max-width: 0;overflow: hidden;text-align: left;background-color: #f0f8ff;}#sk-container-id-3 div.sk-toggleable__content pre {margin: 0.2em;color: black;border-radius: 0.25em;background-color: #f0f8ff;}#sk-container-id-3 input.sk-toggleable__control:checked~div.sk-toggleable__content {max-height: 200px;max-width: 100%;overflow: auto;}#sk-container-id-3 input.sk-toggleable__control:checked~label.sk-toggleable__label-arrow:before {content: \"▾\";}#sk-container-id-3 div.sk-estimator input.sk-toggleable__control:checked~label.sk-toggleable__label {background-color: #d4ebff;}#sk-container-id-3 div.sk-label input.sk-toggleable__control:checked~label.sk-toggleable__label {background-color: #d4ebff;}#sk-container-id-3 input.sk-hidden--visually {border: 0;clip: rect(1px 1px 1px 1px);clip: rect(1px, 1px, 1px, 1px);height: 1px;margin: -1px;overflow: hidden;padding: 0;position: absolute;width: 1px;}#sk-container-id-3 div.sk-estimator {font-family: monospace;background-color: #f0f8ff;border: 1px dotted black;border-radius: 0.25em;box-sizing: border-box;margin-bottom: 0.5em;}#sk-container-id-3 div.sk-estimator:hover {background-color: #d4ebff;}#sk-container-id-3 div.sk-parallel-item::after {content: \"\";width: 100%;border-bottom: 1px solid gray;flex-grow: 1;}#sk-container-id-3 div.sk-label:hover label.sk-toggleable__label {background-color: #d4ebff;}#sk-container-id-3 div.sk-serial::before {content: \"\";position: absolute;border-left: 1px solid gray;box-sizing: border-box;top: 0;bottom: 0;left: 50%;z-index: 0;}#sk-container-id-3 div.sk-serial {display: flex;flex-direction: column;align-items: center;background-color: white;padding-right: 0.2em;padding-left: 0.2em;position: relative;}#sk-container-id-3 div.sk-item {position: relative;z-index: 1;}#sk-container-id-3 div.sk-parallel {display: flex;align-items: stretch;justify-content: center;background-color: white;position: relative;}#sk-container-id-3 div.sk-item::before, #sk-container-id-3 div.sk-parallel-item::before {content: \"\";position: absolute;border-left: 1px solid gray;box-sizing: border-box;top: 0;bottom: 0;left: 50%;z-index: -1;}#sk-container-id-3 div.sk-parallel-item {display: flex;flex-direction: column;z-index: 1;position: relative;background-color: white;}#sk-container-id-3 div.sk-parallel-item:first-child::after {align-self: flex-end;width: 50%;}#sk-container-id-3 div.sk-parallel-item:last-child::after {align-self: flex-start;width: 50%;}#sk-container-id-3 div.sk-parallel-item:only-child::after {width: 0;}#sk-container-id-3 div.sk-dashed-wrapped {border: 1px dashed gray;margin: 0 0.4em 0.5em 0.4em;box-sizing: border-box;padding-bottom: 0.4em;background-color: white;}#sk-container-id-3 div.sk-label label {font-family: monospace;font-weight: bold;display: inline-block;line-height: 1.2em;}#sk-container-id-3 div.sk-label-container {text-align: center;}#sk-container-id-3 div.sk-container {/* jupyter's `normalize.less` sets `[hidden] { display: none; }` but bootstrap.min.css set `[hidden] { display: none !important; }` so we also need the `!important` here to be able to override the default hidden behavior on the sphinx rendered scikit-learn.org. See: https://github.com/scikit-learn/scikit-learn/issues/21755 */display: inline-block !important;position: relative;}#sk-container-id-3 div.sk-text-repr-fallback {display: none;}</style><div id=\"sk-container-id-3\" class=\"sk-top-container\"><div class=\"sk-text-repr-fallback\"><pre>Pipeline(steps=[(&#x27;preprocessor&#x27;,\n",
       "                 ColumnTransformer(transformers=[(&#x27;num&#x27;,\n",
       "                                                  Pipeline(steps=[(&#x27;simple &#x27;\n",
       "                                                                   &#x27;impute&#x27;,\n",
       "                                                                   SimpleImputer()),\n",
       "                                                                  (&#x27;scaler&#x27;,\n",
       "                                                                   StandardScaler())]),\n",
       "                                                  [&#x27;floor_area_sqm&#x27;, &#x27;mid&#x27;,\n",
       "                                                   &#x27;hdb_age&#x27;, &#x27;max_floor_lvl&#x27;,\n",
       "                                                   &#x27;Mall_Nearest_Distance&#x27;,\n",
       "                                                   &#x27;Hawker_Nearest_Distance&#x27;,\n",
       "                                                   &#x27;mrt_nearest_distance&#x27;,\n",
       "                                                   &#x27;cutoff_point&#x27;]),\n",
       "                                                 (&#x27;cat&#x27;,\n",
       "                                                  Pipeline(steps=[(&#x27;encoder&#x27;,\n",
       "                                                                   OneHotEncoder(drop=&#x27;first&#x27;,\n",
       "                                                                                 handle_unknown=&#x27;ignore&#x27;))]),\n",
       "                                                  [&#x27;flat_type&#x27;, &#x27;flat_model&#x27;,\n",
       "                                                   &#x27;Tranc_Year&#x27;,\n",
       "                                                   &#x27;planning_area&#x27;,\n",
       "                                                   &#x27;bus_interchange&#x27;,\n",
       "                                                   &#x27;mrt_interchange&#x27;])])),\n",
       "                (&#x27;Lasso CV&#x27;, LassoCV(cv=5, max_iter=10000))])</pre><b>In a Jupyter environment, please rerun this cell to show the HTML representation or trust the notebook. <br />On GitHub, the HTML representation is unable to render, please try loading this page with nbviewer.org.</b></div><div class=\"sk-container\" hidden><div class=\"sk-item sk-dashed-wrapped\"><div class=\"sk-label-container\"><div class=\"sk-label sk-toggleable\"><input class=\"sk-toggleable__control sk-hidden--visually\" id=\"sk-estimator-id-17\" type=\"checkbox\" ><label for=\"sk-estimator-id-17\" class=\"sk-toggleable__label sk-toggleable__label-arrow\">Pipeline</label><div class=\"sk-toggleable__content\"><pre>Pipeline(steps=[(&#x27;preprocessor&#x27;,\n",
       "                 ColumnTransformer(transformers=[(&#x27;num&#x27;,\n",
       "                                                  Pipeline(steps=[(&#x27;simple &#x27;\n",
       "                                                                   &#x27;impute&#x27;,\n",
       "                                                                   SimpleImputer()),\n",
       "                                                                  (&#x27;scaler&#x27;,\n",
       "                                                                   StandardScaler())]),\n",
       "                                                  [&#x27;floor_area_sqm&#x27;, &#x27;mid&#x27;,\n",
       "                                                   &#x27;hdb_age&#x27;, &#x27;max_floor_lvl&#x27;,\n",
       "                                                   &#x27;Mall_Nearest_Distance&#x27;,\n",
       "                                                   &#x27;Hawker_Nearest_Distance&#x27;,\n",
       "                                                   &#x27;mrt_nearest_distance&#x27;,\n",
       "                                                   &#x27;cutoff_point&#x27;]),\n",
       "                                                 (&#x27;cat&#x27;,\n",
       "                                                  Pipeline(steps=[(&#x27;encoder&#x27;,\n",
       "                                                                   OneHotEncoder(drop=&#x27;first&#x27;,\n",
       "                                                                                 handle_unknown=&#x27;ignore&#x27;))]),\n",
       "                                                  [&#x27;flat_type&#x27;, &#x27;flat_model&#x27;,\n",
       "                                                   &#x27;Tranc_Year&#x27;,\n",
       "                                                   &#x27;planning_area&#x27;,\n",
       "                                                   &#x27;bus_interchange&#x27;,\n",
       "                                                   &#x27;mrt_interchange&#x27;])])),\n",
       "                (&#x27;Lasso CV&#x27;, LassoCV(cv=5, max_iter=10000))])</pre></div></div></div><div class=\"sk-serial\"><div class=\"sk-item sk-dashed-wrapped\"><div class=\"sk-label-container\"><div class=\"sk-label sk-toggleable\"><input class=\"sk-toggleable__control sk-hidden--visually\" id=\"sk-estimator-id-18\" type=\"checkbox\" ><label for=\"sk-estimator-id-18\" class=\"sk-toggleable__label sk-toggleable__label-arrow\">preprocessor: ColumnTransformer</label><div class=\"sk-toggleable__content\"><pre>ColumnTransformer(transformers=[(&#x27;num&#x27;,\n",
       "                                 Pipeline(steps=[(&#x27;simple impute&#x27;,\n",
       "                                                  SimpleImputer()),\n",
       "                                                 (&#x27;scaler&#x27;, StandardScaler())]),\n",
       "                                 [&#x27;floor_area_sqm&#x27;, &#x27;mid&#x27;, &#x27;hdb_age&#x27;,\n",
       "                                  &#x27;max_floor_lvl&#x27;, &#x27;Mall_Nearest_Distance&#x27;,\n",
       "                                  &#x27;Hawker_Nearest_Distance&#x27;,\n",
       "                                  &#x27;mrt_nearest_distance&#x27;, &#x27;cutoff_point&#x27;]),\n",
       "                                (&#x27;cat&#x27;,\n",
       "                                 Pipeline(steps=[(&#x27;encoder&#x27;,\n",
       "                                                  OneHotEncoder(drop=&#x27;first&#x27;,\n",
       "                                                                handle_unknown=&#x27;ignore&#x27;))]),\n",
       "                                 [&#x27;flat_type&#x27;, &#x27;flat_model&#x27;, &#x27;Tranc_Year&#x27;,\n",
       "                                  &#x27;planning_area&#x27;, &#x27;bus_interchange&#x27;,\n",
       "                                  &#x27;mrt_interchange&#x27;])])</pre></div></div></div><div class=\"sk-parallel\"><div class=\"sk-parallel-item\"><div class=\"sk-item\"><div class=\"sk-label-container\"><div class=\"sk-label sk-toggleable\"><input class=\"sk-toggleable__control sk-hidden--visually\" id=\"sk-estimator-id-19\" type=\"checkbox\" ><label for=\"sk-estimator-id-19\" class=\"sk-toggleable__label sk-toggleable__label-arrow\">num</label><div class=\"sk-toggleable__content\"><pre>[&#x27;floor_area_sqm&#x27;, &#x27;mid&#x27;, &#x27;hdb_age&#x27;, &#x27;max_floor_lvl&#x27;, &#x27;Mall_Nearest_Distance&#x27;, &#x27;Hawker_Nearest_Distance&#x27;, &#x27;mrt_nearest_distance&#x27;, &#x27;cutoff_point&#x27;]</pre></div></div></div><div class=\"sk-serial\"><div class=\"sk-item\"><div class=\"sk-serial\"><div class=\"sk-item\"><div class=\"sk-estimator sk-toggleable\"><input class=\"sk-toggleable__control sk-hidden--visually\" id=\"sk-estimator-id-20\" type=\"checkbox\" ><label for=\"sk-estimator-id-20\" class=\"sk-toggleable__label sk-toggleable__label-arrow\">SimpleImputer</label><div class=\"sk-toggleable__content\"><pre>SimpleImputer()</pre></div></div></div><div class=\"sk-item\"><div class=\"sk-estimator sk-toggleable\"><input class=\"sk-toggleable__control sk-hidden--visually\" id=\"sk-estimator-id-21\" type=\"checkbox\" ><label for=\"sk-estimator-id-21\" class=\"sk-toggleable__label sk-toggleable__label-arrow\">StandardScaler</label><div class=\"sk-toggleable__content\"><pre>StandardScaler()</pre></div></div></div></div></div></div></div></div><div class=\"sk-parallel-item\"><div class=\"sk-item\"><div class=\"sk-label-container\"><div class=\"sk-label sk-toggleable\"><input class=\"sk-toggleable__control sk-hidden--visually\" id=\"sk-estimator-id-22\" type=\"checkbox\" ><label for=\"sk-estimator-id-22\" class=\"sk-toggleable__label sk-toggleable__label-arrow\">cat</label><div class=\"sk-toggleable__content\"><pre>[&#x27;flat_type&#x27;, &#x27;flat_model&#x27;, &#x27;Tranc_Year&#x27;, &#x27;planning_area&#x27;, &#x27;bus_interchange&#x27;, &#x27;mrt_interchange&#x27;]</pre></div></div></div><div class=\"sk-serial\"><div class=\"sk-item\"><div class=\"sk-serial\"><div class=\"sk-item\"><div class=\"sk-estimator sk-toggleable\"><input class=\"sk-toggleable__control sk-hidden--visually\" id=\"sk-estimator-id-23\" type=\"checkbox\" ><label for=\"sk-estimator-id-23\" class=\"sk-toggleable__label sk-toggleable__label-arrow\">OneHotEncoder</label><div class=\"sk-toggleable__content\"><pre>OneHotEncoder(drop=&#x27;first&#x27;, handle_unknown=&#x27;ignore&#x27;)</pre></div></div></div></div></div></div></div></div></div></div><div class=\"sk-item\"><div class=\"sk-estimator sk-toggleable\"><input class=\"sk-toggleable__control sk-hidden--visually\" id=\"sk-estimator-id-24\" type=\"checkbox\" ><label for=\"sk-estimator-id-24\" class=\"sk-toggleable__label sk-toggleable__label-arrow\">LassoCV</label><div class=\"sk-toggleable__content\"><pre>LassoCV(cv=5, max_iter=10000)</pre></div></div></div></div></div></div></div>"
      ],
      "text/plain": [
       "Pipeline(steps=[('preprocessor',\n",
       "                 ColumnTransformer(transformers=[('num',\n",
       "                                                  Pipeline(steps=[('simple '\n",
       "                                                                   'impute',\n",
       "                                                                   SimpleImputer()),\n",
       "                                                                  ('scaler',\n",
       "                                                                   StandardScaler())]),\n",
       "                                                  ['floor_area_sqm', 'mid',\n",
       "                                                   'hdb_age', 'max_floor_lvl',\n",
       "                                                   'Mall_Nearest_Distance',\n",
       "                                                   'Hawker_Nearest_Distance',\n",
       "                                                   'mrt_nearest_distance',\n",
       "                                                   'cutoff_point']),\n",
       "                                                 ('cat',\n",
       "                                                  Pipeline(steps=[('encoder',\n",
       "                                                                   OneHotEncoder(drop='first',\n",
       "                                                                                 handle_unknown='ignore'))]),\n",
       "                                                  ['flat_type', 'flat_model',\n",
       "                                                   'Tranc_Year',\n",
       "                                                   'planning_area',\n",
       "                                                   'bus_interchange',\n",
       "                                                   'mrt_interchange'])])),\n",
       "                ('Lasso CV', LassoCV(cv=5, max_iter=10000))])"
      ]
     },
     "execution_count": 33,
     "metadata": {},
     "output_type": "execute_result"
    }
   ],
   "source": [
    "lasso_CV.fit(X_train, y_train)"
   ]
  },
  {
   "cell_type": "code",
   "execution_count": 34,
   "id": "eac8220e-a1db-44d2-8b46-43f169984cfc",
   "metadata": {},
   "outputs": [
    {
     "name": "stdout",
     "output_type": "stream",
     "text": [
      "The train score is: 0.886419\n",
      "The test score is: 0.886501\n"
     ]
    }
   ],
   "source": [
    "print(f\"The train score is: {round(lasso_CV.score(X_train, y_train), 6)}\")\n",
    "print(f\"The test score is: {round(lasso_CV.score(X_test, y_test), 6)}\")"
   ]
  },
  {
   "cell_type": "markdown",
   "id": "c1b08780-adc4-47e5-910d-a09a8b26b134",
   "metadata": {},
   "source": [
    "This is in fact lower than simply fitting using `.Lasso()`.  \n",
    "Hmmm....   \n",
    "This maybe becasue the model is in fact trained with smaller training data size?  \n",
    "Anyways, continue to play with different alpha values."
   ]
  },
  {
   "cell_type": "code",
   "execution_count": 35,
   "id": "903951b6-b3da-44c5-ac25-790f99b2eb3f",
   "metadata": {},
   "outputs": [],
   "source": [
    "# Specify range of hyperparameters to tune\n",
    "lasso_params = {'alpha':[1, 10, 100, 1000]}"
   ]
  },
  {
   "cell_type": "code",
   "execution_count": 36,
   "id": "e205a5b8-9d09-4576-a633-69a0ebc7be56",
   "metadata": {},
   "outputs": [],
   "source": [
    "# Perform grid search using GridSearchCV()\n",
    "grid_search = GridSearchCV(Lasso(max_iter=20000),\n",
    "                           param_grid=lasso_params,\n",
    "                           cv=5,\n",
    "                           verbose = 3,\n",
    "                           return_train_score=True\n",
    "                           )\n",
    "\n",
    "lasso_grid_search_CV = Pipeline(\n",
    "    steps=[(\"preprocessor\", preprocessor), (\"Lasso Grid Search\", grid_search)]\n",
    ") "
   ]
  },
  {
   "cell_type": "markdown",
   "id": "66d9d2c0-2784-4eec-85d3-afec6699007e",
   "metadata": {},
   "source": [
    "Warning, you may not want to run the line below..."
   ]
  },
  {
   "cell_type": "code",
   "execution_count": 37,
   "id": "8f60014d-3e17-4aaa-b892-c6fd4db50501",
   "metadata": {},
   "outputs": [
    {
     "name": "stdout",
     "output_type": "stream",
     "text": [
      "Fitting 5 folds for each of 4 candidates, totalling 20 fits\n",
      "[CV 1/5] END .......alpha=1;, score=(train=0.892, test=0.893) total time= 1.9min\n",
      "[CV 2/5] END .......alpha=1;, score=(train=0.892, test=0.891) total time= 2.2min\n",
      "[CV 3/5] END .......alpha=1;, score=(train=0.892, test=0.892) total time= 2.6min\n",
      "[CV 4/5] END .......alpha=1;, score=(train=0.892, test=0.892) total time= 2.2min\n",
      "[CV 5/5] END .......alpha=1;, score=(train=0.892, test=0.890) total time= 1.5min\n",
      "[CV 1/5] END ......alpha=10;, score=(train=0.891, test=0.893) total time=  22.6s\n",
      "[CV 2/5] END ......alpha=10;, score=(train=0.892, test=0.891) total time=  45.2s\n",
      "[CV 3/5] END ......alpha=10;, score=(train=0.892, test=0.891) total time=  10.2s\n",
      "[CV 4/5] END ......alpha=10;, score=(train=0.892, test=0.892) total time=  38.3s\n",
      "[CV 5/5] END ......alpha=10;, score=(train=0.892, test=0.890) total time=  10.1s\n",
      "[CV 1/5] END .....alpha=100;, score=(train=0.886, test=0.888) total time=   0.7s\n",
      "[CV 2/5] END .....alpha=100;, score=(train=0.886, test=0.886) total time=   1.4s\n",
      "[CV 3/5] END .....alpha=100;, score=(train=0.886, test=0.885) total time=   0.7s\n",
      "[CV 4/5] END .....alpha=100;, score=(train=0.886, test=0.885) total time=   1.3s\n",
      "[CV 5/5] END .....alpha=100;, score=(train=0.886, test=0.886) total time=   0.8s\n",
      "[CV 1/5] END ....alpha=1000;, score=(train=0.817, test=0.817) total time=   0.2s\n",
      "[CV 2/5] END ....alpha=1000;, score=(train=0.817, test=0.819) total time=   0.2s\n",
      "[CV 3/5] END ....alpha=1000;, score=(train=0.818, test=0.818) total time=   0.2s\n",
      "[CV 4/5] END ....alpha=1000;, score=(train=0.818, test=0.812) total time=   0.2s\n",
      "[CV 5/5] END ....alpha=1000;, score=(train=0.817, test=0.820) total time=   0.2s\n"
     ]
    },
    {
     "data": {
      "text/html": [
       "<style>#sk-container-id-4 {color: black;background-color: white;}#sk-container-id-4 pre{padding: 0;}#sk-container-id-4 div.sk-toggleable {background-color: white;}#sk-container-id-4 label.sk-toggleable__label {cursor: pointer;display: block;width: 100%;margin-bottom: 0;padding: 0.3em;box-sizing: border-box;text-align: center;}#sk-container-id-4 label.sk-toggleable__label-arrow:before {content: \"▸\";float: left;margin-right: 0.25em;color: #696969;}#sk-container-id-4 label.sk-toggleable__label-arrow:hover:before {color: black;}#sk-container-id-4 div.sk-estimator:hover label.sk-toggleable__label-arrow:before {color: black;}#sk-container-id-4 div.sk-toggleable__content {max-height: 0;max-width: 0;overflow: hidden;text-align: left;background-color: #f0f8ff;}#sk-container-id-4 div.sk-toggleable__content pre {margin: 0.2em;color: black;border-radius: 0.25em;background-color: #f0f8ff;}#sk-container-id-4 input.sk-toggleable__control:checked~div.sk-toggleable__content {max-height: 200px;max-width: 100%;overflow: auto;}#sk-container-id-4 input.sk-toggleable__control:checked~label.sk-toggleable__label-arrow:before {content: \"▾\";}#sk-container-id-4 div.sk-estimator input.sk-toggleable__control:checked~label.sk-toggleable__label {background-color: #d4ebff;}#sk-container-id-4 div.sk-label input.sk-toggleable__control:checked~label.sk-toggleable__label {background-color: #d4ebff;}#sk-container-id-4 input.sk-hidden--visually {border: 0;clip: rect(1px 1px 1px 1px);clip: rect(1px, 1px, 1px, 1px);height: 1px;margin: -1px;overflow: hidden;padding: 0;position: absolute;width: 1px;}#sk-container-id-4 div.sk-estimator {font-family: monospace;background-color: #f0f8ff;border: 1px dotted black;border-radius: 0.25em;box-sizing: border-box;margin-bottom: 0.5em;}#sk-container-id-4 div.sk-estimator:hover {background-color: #d4ebff;}#sk-container-id-4 div.sk-parallel-item::after {content: \"\";width: 100%;border-bottom: 1px solid gray;flex-grow: 1;}#sk-container-id-4 div.sk-label:hover label.sk-toggleable__label {background-color: #d4ebff;}#sk-container-id-4 div.sk-serial::before {content: \"\";position: absolute;border-left: 1px solid gray;box-sizing: border-box;top: 0;bottom: 0;left: 50%;z-index: 0;}#sk-container-id-4 div.sk-serial {display: flex;flex-direction: column;align-items: center;background-color: white;padding-right: 0.2em;padding-left: 0.2em;position: relative;}#sk-container-id-4 div.sk-item {position: relative;z-index: 1;}#sk-container-id-4 div.sk-parallel {display: flex;align-items: stretch;justify-content: center;background-color: white;position: relative;}#sk-container-id-4 div.sk-item::before, #sk-container-id-4 div.sk-parallel-item::before {content: \"\";position: absolute;border-left: 1px solid gray;box-sizing: border-box;top: 0;bottom: 0;left: 50%;z-index: -1;}#sk-container-id-4 div.sk-parallel-item {display: flex;flex-direction: column;z-index: 1;position: relative;background-color: white;}#sk-container-id-4 div.sk-parallel-item:first-child::after {align-self: flex-end;width: 50%;}#sk-container-id-4 div.sk-parallel-item:last-child::after {align-self: flex-start;width: 50%;}#sk-container-id-4 div.sk-parallel-item:only-child::after {width: 0;}#sk-container-id-4 div.sk-dashed-wrapped {border: 1px dashed gray;margin: 0 0.4em 0.5em 0.4em;box-sizing: border-box;padding-bottom: 0.4em;background-color: white;}#sk-container-id-4 div.sk-label label {font-family: monospace;font-weight: bold;display: inline-block;line-height: 1.2em;}#sk-container-id-4 div.sk-label-container {text-align: center;}#sk-container-id-4 div.sk-container {/* jupyter's `normalize.less` sets `[hidden] { display: none; }` but bootstrap.min.css set `[hidden] { display: none !important; }` so we also need the `!important` here to be able to override the default hidden behavior on the sphinx rendered scikit-learn.org. See: https://github.com/scikit-learn/scikit-learn/issues/21755 */display: inline-block !important;position: relative;}#sk-container-id-4 div.sk-text-repr-fallback {display: none;}</style><div id=\"sk-container-id-4\" class=\"sk-top-container\"><div class=\"sk-text-repr-fallback\"><pre>Pipeline(steps=[(&#x27;preprocessor&#x27;,\n",
       "                 ColumnTransformer(transformers=[(&#x27;num&#x27;,\n",
       "                                                  Pipeline(steps=[(&#x27;simple &#x27;\n",
       "                                                                   &#x27;impute&#x27;,\n",
       "                                                                   SimpleImputer()),\n",
       "                                                                  (&#x27;scaler&#x27;,\n",
       "                                                                   StandardScaler())]),\n",
       "                                                  [&#x27;floor_area_sqm&#x27;, &#x27;mid&#x27;,\n",
       "                                                   &#x27;hdb_age&#x27;, &#x27;max_floor_lvl&#x27;,\n",
       "                                                   &#x27;Mall_Nearest_Distance&#x27;,\n",
       "                                                   &#x27;Hawker_Nearest_Distance&#x27;,\n",
       "                                                   &#x27;mrt_nearest_distance&#x27;,\n",
       "                                                   &#x27;cutoff_point&#x27;]),\n",
       "                                                 (&#x27;cat&#x27;,\n",
       "                                                  Pipeline(steps=[(&#x27;encoder&#x27;,\n",
       "                                                                   OneHotEncoder(drop=&#x27;first&#x27;,\n",
       "                                                                                 handle_unknown=&#x27;ignore&#x27;))]),\n",
       "                                                  [&#x27;flat_type&#x27;, &#x27;flat_model&#x27;,\n",
       "                                                   &#x27;Tranc_Year&#x27;,\n",
       "                                                   &#x27;planning_area&#x27;,\n",
       "                                                   &#x27;bus_interchange&#x27;,\n",
       "                                                   &#x27;mrt_interchange&#x27;])])),\n",
       "                (&#x27;Lasso Grid Search&#x27;,\n",
       "                 GridSearchCV(cv=5, estimator=Lasso(max_iter=20000),\n",
       "                              param_grid={&#x27;alpha&#x27;: [1, 10, 100, 1000]},\n",
       "                              return_train_score=True, verbose=3))])</pre><b>In a Jupyter environment, please rerun this cell to show the HTML representation or trust the notebook. <br />On GitHub, the HTML representation is unable to render, please try loading this page with nbviewer.org.</b></div><div class=\"sk-container\" hidden><div class=\"sk-item sk-dashed-wrapped\"><div class=\"sk-label-container\"><div class=\"sk-label sk-toggleable\"><input class=\"sk-toggleable__control sk-hidden--visually\" id=\"sk-estimator-id-25\" type=\"checkbox\" ><label for=\"sk-estimator-id-25\" class=\"sk-toggleable__label sk-toggleable__label-arrow\">Pipeline</label><div class=\"sk-toggleable__content\"><pre>Pipeline(steps=[(&#x27;preprocessor&#x27;,\n",
       "                 ColumnTransformer(transformers=[(&#x27;num&#x27;,\n",
       "                                                  Pipeline(steps=[(&#x27;simple &#x27;\n",
       "                                                                   &#x27;impute&#x27;,\n",
       "                                                                   SimpleImputer()),\n",
       "                                                                  (&#x27;scaler&#x27;,\n",
       "                                                                   StandardScaler())]),\n",
       "                                                  [&#x27;floor_area_sqm&#x27;, &#x27;mid&#x27;,\n",
       "                                                   &#x27;hdb_age&#x27;, &#x27;max_floor_lvl&#x27;,\n",
       "                                                   &#x27;Mall_Nearest_Distance&#x27;,\n",
       "                                                   &#x27;Hawker_Nearest_Distance&#x27;,\n",
       "                                                   &#x27;mrt_nearest_distance&#x27;,\n",
       "                                                   &#x27;cutoff_point&#x27;]),\n",
       "                                                 (&#x27;cat&#x27;,\n",
       "                                                  Pipeline(steps=[(&#x27;encoder&#x27;,\n",
       "                                                                   OneHotEncoder(drop=&#x27;first&#x27;,\n",
       "                                                                                 handle_unknown=&#x27;ignore&#x27;))]),\n",
       "                                                  [&#x27;flat_type&#x27;, &#x27;flat_model&#x27;,\n",
       "                                                   &#x27;Tranc_Year&#x27;,\n",
       "                                                   &#x27;planning_area&#x27;,\n",
       "                                                   &#x27;bus_interchange&#x27;,\n",
       "                                                   &#x27;mrt_interchange&#x27;])])),\n",
       "                (&#x27;Lasso Grid Search&#x27;,\n",
       "                 GridSearchCV(cv=5, estimator=Lasso(max_iter=20000),\n",
       "                              param_grid={&#x27;alpha&#x27;: [1, 10, 100, 1000]},\n",
       "                              return_train_score=True, verbose=3))])</pre></div></div></div><div class=\"sk-serial\"><div class=\"sk-item sk-dashed-wrapped\"><div class=\"sk-label-container\"><div class=\"sk-label sk-toggleable\"><input class=\"sk-toggleable__control sk-hidden--visually\" id=\"sk-estimator-id-26\" type=\"checkbox\" ><label for=\"sk-estimator-id-26\" class=\"sk-toggleable__label sk-toggleable__label-arrow\">preprocessor: ColumnTransformer</label><div class=\"sk-toggleable__content\"><pre>ColumnTransformer(transformers=[(&#x27;num&#x27;,\n",
       "                                 Pipeline(steps=[(&#x27;simple impute&#x27;,\n",
       "                                                  SimpleImputer()),\n",
       "                                                 (&#x27;scaler&#x27;, StandardScaler())]),\n",
       "                                 [&#x27;floor_area_sqm&#x27;, &#x27;mid&#x27;, &#x27;hdb_age&#x27;,\n",
       "                                  &#x27;max_floor_lvl&#x27;, &#x27;Mall_Nearest_Distance&#x27;,\n",
       "                                  &#x27;Hawker_Nearest_Distance&#x27;,\n",
       "                                  &#x27;mrt_nearest_distance&#x27;, &#x27;cutoff_point&#x27;]),\n",
       "                                (&#x27;cat&#x27;,\n",
       "                                 Pipeline(steps=[(&#x27;encoder&#x27;,\n",
       "                                                  OneHotEncoder(drop=&#x27;first&#x27;,\n",
       "                                                                handle_unknown=&#x27;ignore&#x27;))]),\n",
       "                                 [&#x27;flat_type&#x27;, &#x27;flat_model&#x27;, &#x27;Tranc_Year&#x27;,\n",
       "                                  &#x27;planning_area&#x27;, &#x27;bus_interchange&#x27;,\n",
       "                                  &#x27;mrt_interchange&#x27;])])</pre></div></div></div><div class=\"sk-parallel\"><div class=\"sk-parallel-item\"><div class=\"sk-item\"><div class=\"sk-label-container\"><div class=\"sk-label sk-toggleable\"><input class=\"sk-toggleable__control sk-hidden--visually\" id=\"sk-estimator-id-27\" type=\"checkbox\" ><label for=\"sk-estimator-id-27\" class=\"sk-toggleable__label sk-toggleable__label-arrow\">num</label><div class=\"sk-toggleable__content\"><pre>[&#x27;floor_area_sqm&#x27;, &#x27;mid&#x27;, &#x27;hdb_age&#x27;, &#x27;max_floor_lvl&#x27;, &#x27;Mall_Nearest_Distance&#x27;, &#x27;Hawker_Nearest_Distance&#x27;, &#x27;mrt_nearest_distance&#x27;, &#x27;cutoff_point&#x27;]</pre></div></div></div><div class=\"sk-serial\"><div class=\"sk-item\"><div class=\"sk-serial\"><div class=\"sk-item\"><div class=\"sk-estimator sk-toggleable\"><input class=\"sk-toggleable__control sk-hidden--visually\" id=\"sk-estimator-id-28\" type=\"checkbox\" ><label for=\"sk-estimator-id-28\" class=\"sk-toggleable__label sk-toggleable__label-arrow\">SimpleImputer</label><div class=\"sk-toggleable__content\"><pre>SimpleImputer()</pre></div></div></div><div class=\"sk-item\"><div class=\"sk-estimator sk-toggleable\"><input class=\"sk-toggleable__control sk-hidden--visually\" id=\"sk-estimator-id-29\" type=\"checkbox\" ><label for=\"sk-estimator-id-29\" class=\"sk-toggleable__label sk-toggleable__label-arrow\">StandardScaler</label><div class=\"sk-toggleable__content\"><pre>StandardScaler()</pre></div></div></div></div></div></div></div></div><div class=\"sk-parallel-item\"><div class=\"sk-item\"><div class=\"sk-label-container\"><div class=\"sk-label sk-toggleable\"><input class=\"sk-toggleable__control sk-hidden--visually\" id=\"sk-estimator-id-30\" type=\"checkbox\" ><label for=\"sk-estimator-id-30\" class=\"sk-toggleable__label sk-toggleable__label-arrow\">cat</label><div class=\"sk-toggleable__content\"><pre>[&#x27;flat_type&#x27;, &#x27;flat_model&#x27;, &#x27;Tranc_Year&#x27;, &#x27;planning_area&#x27;, &#x27;bus_interchange&#x27;, &#x27;mrt_interchange&#x27;]</pre></div></div></div><div class=\"sk-serial\"><div class=\"sk-item\"><div class=\"sk-serial\"><div class=\"sk-item\"><div class=\"sk-estimator sk-toggleable\"><input class=\"sk-toggleable__control sk-hidden--visually\" id=\"sk-estimator-id-31\" type=\"checkbox\" ><label for=\"sk-estimator-id-31\" class=\"sk-toggleable__label sk-toggleable__label-arrow\">OneHotEncoder</label><div class=\"sk-toggleable__content\"><pre>OneHotEncoder(drop=&#x27;first&#x27;, handle_unknown=&#x27;ignore&#x27;)</pre></div></div></div></div></div></div></div></div></div></div><div class=\"sk-item sk-dashed-wrapped\"><div class=\"sk-label-container\"><div class=\"sk-label sk-toggleable\"><input class=\"sk-toggleable__control sk-hidden--visually\" id=\"sk-estimator-id-32\" type=\"checkbox\" ><label for=\"sk-estimator-id-32\" class=\"sk-toggleable__label sk-toggleable__label-arrow\">Lasso Grid Search: GridSearchCV</label><div class=\"sk-toggleable__content\"><pre>GridSearchCV(cv=5, estimator=Lasso(max_iter=20000),\n",
       "             param_grid={&#x27;alpha&#x27;: [1, 10, 100, 1000]}, return_train_score=True,\n",
       "             verbose=3)</pre></div></div></div><div class=\"sk-parallel\"><div class=\"sk-parallel-item\"><div class=\"sk-item\"><div class=\"sk-label-container\"><div class=\"sk-label sk-toggleable\"><input class=\"sk-toggleable__control sk-hidden--visually\" id=\"sk-estimator-id-33\" type=\"checkbox\" ><label for=\"sk-estimator-id-33\" class=\"sk-toggleable__label sk-toggleable__label-arrow\">estimator: Lasso</label><div class=\"sk-toggleable__content\"><pre>Lasso(max_iter=20000)</pre></div></div></div><div class=\"sk-serial\"><div class=\"sk-item\"><div class=\"sk-estimator sk-toggleable\"><input class=\"sk-toggleable__control sk-hidden--visually\" id=\"sk-estimator-id-34\" type=\"checkbox\" ><label for=\"sk-estimator-id-34\" class=\"sk-toggleable__label sk-toggleable__label-arrow\">Lasso</label><div class=\"sk-toggleable__content\"><pre>Lasso(max_iter=20000)</pre></div></div></div></div></div></div></div></div></div></div></div></div>"
      ],
      "text/plain": [
       "Pipeline(steps=[('preprocessor',\n",
       "                 ColumnTransformer(transformers=[('num',\n",
       "                                                  Pipeline(steps=[('simple '\n",
       "                                                                   'impute',\n",
       "                                                                   SimpleImputer()),\n",
       "                                                                  ('scaler',\n",
       "                                                                   StandardScaler())]),\n",
       "                                                  ['floor_area_sqm', 'mid',\n",
       "                                                   'hdb_age', 'max_floor_lvl',\n",
       "                                                   'Mall_Nearest_Distance',\n",
       "                                                   'Hawker_Nearest_Distance',\n",
       "                                                   'mrt_nearest_distance',\n",
       "                                                   'cutoff_point']),\n",
       "                                                 ('cat',\n",
       "                                                  Pipeline(steps=[('encoder',\n",
       "                                                                   OneHotEncoder(drop='first',\n",
       "                                                                                 handle_unknown='ignore'))]),\n",
       "                                                  ['flat_type', 'flat_model',\n",
       "                                                   'Tranc_Year',\n",
       "                                                   'planning_area',\n",
       "                                                   'bus_interchange',\n",
       "                                                   'mrt_interchange'])])),\n",
       "                ('Lasso Grid Search',\n",
       "                 GridSearchCV(cv=5, estimator=Lasso(max_iter=20000),\n",
       "                              param_grid={'alpha': [1, 10, 100, 1000]},\n",
       "                              return_train_score=True, verbose=3))])"
      ]
     },
     "execution_count": 37,
     "metadata": {},
     "output_type": "execute_result"
    }
   ],
   "source": [
    "lasso_grid_search_CV.fit(X_train, y_train)"
   ]
  },
  {
   "cell_type": "markdown",
   "id": "049c250e-db51-43ad-969a-aff056cbe2cc",
   "metadata": {},
   "source": [
    "How naive...   \n",
    "I started with 'lasso_params = {'alpha':[0.01, 0.1, 1, 10, 100]}'\n",
    "All alpha below 1 runs into convergence issues...  \n",
    "For `alpha = 0.01`, the scores from grid search are around `(train=0.892, test=0.891+/-0.002)`.  \n",
    "They also took a total of 2.6 minutes to run 10000 iterations and then conclude that the solution did not converge.  \n",
    "This is not acceptable, as it takes too long for a simple model.  \n",
    "So the final alphas to search are in the range of 1 to 100.\n",
    "Alpha is the constant that multiplies the L1 term, controlling regularization strength.  \n",
    "So the higher the Alpha, the more aggressive the penalization for complex model.  \n",
    "The higher the penalization, the faster the convergence, as the area bounded by the constraints are larger.  \n",
    "This is evident from the difference in total time used to compute the models."
   ]
  },
  {
   "cell_type": "code",
   "execution_count": 38,
   "id": "2bcaa065-d900-4861-bbd1-78b43fa42c72",
   "metadata": {},
   "outputs": [
    {
     "data": {
      "text/plain": [
       "0.891718599782989"
      ]
     },
     "execution_count": 38,
     "metadata": {},
     "output_type": "execute_result"
    }
   ],
   "source": [
    "lasso_grid_search_CV[1].best_score_"
   ]
  },
  {
   "cell_type": "code",
   "execution_count": 39,
   "id": "8658e193-8d7b-43ac-ac7f-c7f3efd2387f",
   "metadata": {},
   "outputs": [
    {
     "data": {
      "text/html": [
       "<div>\n",
       "<style scoped>\n",
       "    .dataframe tbody tr th:only-of-type {\n",
       "        vertical-align: middle;\n",
       "    }\n",
       "\n",
       "    .dataframe tbody tr th {\n",
       "        vertical-align: top;\n",
       "    }\n",
       "\n",
       "    .dataframe thead th {\n",
       "        text-align: right;\n",
       "    }\n",
       "</style>\n",
       "<table border=\"1\" class=\"dataframe\">\n",
       "  <thead>\n",
       "    <tr style=\"text-align: right;\">\n",
       "      <th></th>\n",
       "      <th>mean_fit_time</th>\n",
       "      <th>param_alpha</th>\n",
       "      <th>mean_test_score</th>\n",
       "      <th>mean_train_score</th>\n",
       "    </tr>\n",
       "  </thead>\n",
       "  <tbody>\n",
       "    <tr>\n",
       "      <th>0</th>\n",
       "      <td>125.670750</td>\n",
       "      <td>1</td>\n",
       "      <td>0.891719</td>\n",
       "      <td>0.891932</td>\n",
       "    </tr>\n",
       "    <tr>\n",
       "      <th>1</th>\n",
       "      <td>25.261951</td>\n",
       "      <td>10</td>\n",
       "      <td>0.891458</td>\n",
       "      <td>0.891685</td>\n",
       "    </tr>\n",
       "    <tr>\n",
       "      <th>2</th>\n",
       "      <td>0.988853</td>\n",
       "      <td>100</td>\n",
       "      <td>0.885856</td>\n",
       "      <td>0.886109</td>\n",
       "    </tr>\n",
       "    <tr>\n",
       "      <th>3</th>\n",
       "      <td>0.173646</td>\n",
       "      <td>1000</td>\n",
       "      <td>0.817216</td>\n",
       "      <td>0.817400</td>\n",
       "    </tr>\n",
       "  </tbody>\n",
       "</table>\n",
       "</div>"
      ],
      "text/plain": [
       "   mean_fit_time param_alpha  mean_test_score  mean_train_score\n",
       "0     125.670750           1         0.891719          0.891932\n",
       "1      25.261951          10         0.891458          0.891685\n",
       "2       0.988853         100         0.885856          0.886109\n",
       "3       0.173646        1000         0.817216          0.817400"
      ]
     },
     "execution_count": 39,
     "metadata": {},
     "output_type": "execute_result"
    }
   ],
   "source": [
    "# cv results\n",
    "cv_results = pd.DataFrame(lasso_grid_search_CV[1].cv_results_)\n",
    "cv_results[['mean_fit_time', 'param_alpha', 'mean_test_score', 'mean_train_score']]"
   ]
  },
  {
   "cell_type": "markdown",
   "id": "d1bd05e3-a21d-453a-8a57-f4db3664cf24",
   "metadata": {},
   "source": [
    "By looking the the results of the cross validation results, alpha = 1 gives the best result. \n",
    "The result becomes worse when alpha increases.  \n",
    "There could be a possibility that a minima exists between 0 and 1.  \n",
    "But I think the difference is minor and it doesn't warrant the time spent on searching for it.  \n",
    "There is also a possibility (very likely in fact) that if alpha = 0 is used, it will give the best result.  \n",
    "Which is simply using linear regression, like the previous section.  \n",
    "If Lasso Regression must be used, I will want to use Alpha >= 100.  \n",
    "This is becasue the model is solved much faster, with very small loss in performace.  "
   ]
  },
  {
   "cell_type": "markdown",
   "id": "0d6ac558-2d2d-4d5b-86b7-30577113d61c",
   "metadata": {},
   "source": [
    "## Ridge Regression"
   ]
  },
  {
   "cell_type": "markdown",
   "id": "21f18c79-e6f0-4a1f-b1e9-37eb613e99be",
   "metadata": {},
   "source": [
    "Ridge regression is a model tuning method that is used to analyse any data that suffers from multicollinearity.   \n",
    "This method performs L2 regularization.  \n",
    "It is UNABLE to shrink coefficients to 0.  \n",
    "Ridge Regression is given by:  \n",
    "<img src=\"../img/ridge.png\"></img>  \n",
    "Using my own naive understanding, Ridge is also solving for optimal point.  \n",
    "The solution to these optimal points appear when elliptical contours touch the constraints, like Lasso.   \n",
    "Unlike lasso, the contraint region from Ridge are cirular.   \n",
    "The coefficients will be unable to shrink to 0.  \n",
    "Amazing mathematics at work again!"
   ]
  },
  {
   "cell_type": "code",
   "execution_count": 40,
   "id": "3c7d6b7f-d31e-4e1e-99e8-0842b4266649",
   "metadata": {},
   "outputs": [],
   "source": [
    "# Build a pipeline for regression model\n",
    "# default setting did not converge\n",
    "ridge = Pipeline(\n",
    "    steps=[(\"preprocessor\", preprocessor), (\"Ridge\", Ridge())]\n",
    ")"
   ]
  },
  {
   "cell_type": "code",
   "execution_count": 41,
   "id": "8152bc4d-ca09-4e71-b49c-35837644a82a",
   "metadata": {},
   "outputs": [
    {
     "data": {
      "text/html": [
       "<style>#sk-container-id-5 {color: black;background-color: white;}#sk-container-id-5 pre{padding: 0;}#sk-container-id-5 div.sk-toggleable {background-color: white;}#sk-container-id-5 label.sk-toggleable__label {cursor: pointer;display: block;width: 100%;margin-bottom: 0;padding: 0.3em;box-sizing: border-box;text-align: center;}#sk-container-id-5 label.sk-toggleable__label-arrow:before {content: \"▸\";float: left;margin-right: 0.25em;color: #696969;}#sk-container-id-5 label.sk-toggleable__label-arrow:hover:before {color: black;}#sk-container-id-5 div.sk-estimator:hover label.sk-toggleable__label-arrow:before {color: black;}#sk-container-id-5 div.sk-toggleable__content {max-height: 0;max-width: 0;overflow: hidden;text-align: left;background-color: #f0f8ff;}#sk-container-id-5 div.sk-toggleable__content pre {margin: 0.2em;color: black;border-radius: 0.25em;background-color: #f0f8ff;}#sk-container-id-5 input.sk-toggleable__control:checked~div.sk-toggleable__content {max-height: 200px;max-width: 100%;overflow: auto;}#sk-container-id-5 input.sk-toggleable__control:checked~label.sk-toggleable__label-arrow:before {content: \"▾\";}#sk-container-id-5 div.sk-estimator input.sk-toggleable__control:checked~label.sk-toggleable__label {background-color: #d4ebff;}#sk-container-id-5 div.sk-label input.sk-toggleable__control:checked~label.sk-toggleable__label {background-color: #d4ebff;}#sk-container-id-5 input.sk-hidden--visually {border: 0;clip: rect(1px 1px 1px 1px);clip: rect(1px, 1px, 1px, 1px);height: 1px;margin: -1px;overflow: hidden;padding: 0;position: absolute;width: 1px;}#sk-container-id-5 div.sk-estimator {font-family: monospace;background-color: #f0f8ff;border: 1px dotted black;border-radius: 0.25em;box-sizing: border-box;margin-bottom: 0.5em;}#sk-container-id-5 div.sk-estimator:hover {background-color: #d4ebff;}#sk-container-id-5 div.sk-parallel-item::after {content: \"\";width: 100%;border-bottom: 1px solid gray;flex-grow: 1;}#sk-container-id-5 div.sk-label:hover label.sk-toggleable__label {background-color: #d4ebff;}#sk-container-id-5 div.sk-serial::before {content: \"\";position: absolute;border-left: 1px solid gray;box-sizing: border-box;top: 0;bottom: 0;left: 50%;z-index: 0;}#sk-container-id-5 div.sk-serial {display: flex;flex-direction: column;align-items: center;background-color: white;padding-right: 0.2em;padding-left: 0.2em;position: relative;}#sk-container-id-5 div.sk-item {position: relative;z-index: 1;}#sk-container-id-5 div.sk-parallel {display: flex;align-items: stretch;justify-content: center;background-color: white;position: relative;}#sk-container-id-5 div.sk-item::before, #sk-container-id-5 div.sk-parallel-item::before {content: \"\";position: absolute;border-left: 1px solid gray;box-sizing: border-box;top: 0;bottom: 0;left: 50%;z-index: -1;}#sk-container-id-5 div.sk-parallel-item {display: flex;flex-direction: column;z-index: 1;position: relative;background-color: white;}#sk-container-id-5 div.sk-parallel-item:first-child::after {align-self: flex-end;width: 50%;}#sk-container-id-5 div.sk-parallel-item:last-child::after {align-self: flex-start;width: 50%;}#sk-container-id-5 div.sk-parallel-item:only-child::after {width: 0;}#sk-container-id-5 div.sk-dashed-wrapped {border: 1px dashed gray;margin: 0 0.4em 0.5em 0.4em;box-sizing: border-box;padding-bottom: 0.4em;background-color: white;}#sk-container-id-5 div.sk-label label {font-family: monospace;font-weight: bold;display: inline-block;line-height: 1.2em;}#sk-container-id-5 div.sk-label-container {text-align: center;}#sk-container-id-5 div.sk-container {/* jupyter's `normalize.less` sets `[hidden] { display: none; }` but bootstrap.min.css set `[hidden] { display: none !important; }` so we also need the `!important` here to be able to override the default hidden behavior on the sphinx rendered scikit-learn.org. See: https://github.com/scikit-learn/scikit-learn/issues/21755 */display: inline-block !important;position: relative;}#sk-container-id-5 div.sk-text-repr-fallback {display: none;}</style><div id=\"sk-container-id-5\" class=\"sk-top-container\"><div class=\"sk-text-repr-fallback\"><pre>Pipeline(steps=[(&#x27;preprocessor&#x27;,\n",
       "                 ColumnTransformer(transformers=[(&#x27;num&#x27;,\n",
       "                                                  Pipeline(steps=[(&#x27;simple &#x27;\n",
       "                                                                   &#x27;impute&#x27;,\n",
       "                                                                   SimpleImputer()),\n",
       "                                                                  (&#x27;scaler&#x27;,\n",
       "                                                                   StandardScaler())]),\n",
       "                                                  [&#x27;floor_area_sqm&#x27;, &#x27;mid&#x27;,\n",
       "                                                   &#x27;hdb_age&#x27;, &#x27;max_floor_lvl&#x27;,\n",
       "                                                   &#x27;Mall_Nearest_Distance&#x27;,\n",
       "                                                   &#x27;Hawker_Nearest_Distance&#x27;,\n",
       "                                                   &#x27;mrt_nearest_distance&#x27;,\n",
       "                                                   &#x27;cutoff_point&#x27;]),\n",
       "                                                 (&#x27;cat&#x27;,\n",
       "                                                  Pipeline(steps=[(&#x27;encoder&#x27;,\n",
       "                                                                   OneHotEncoder(drop=&#x27;first&#x27;,\n",
       "                                                                                 handle_unknown=&#x27;ignore&#x27;))]),\n",
       "                                                  [&#x27;flat_type&#x27;, &#x27;flat_model&#x27;,\n",
       "                                                   &#x27;Tranc_Year&#x27;,\n",
       "                                                   &#x27;planning_area&#x27;,\n",
       "                                                   &#x27;bus_interchange&#x27;,\n",
       "                                                   &#x27;mrt_interchange&#x27;])])),\n",
       "                (&#x27;Ridge&#x27;, Ridge())])</pre><b>In a Jupyter environment, please rerun this cell to show the HTML representation or trust the notebook. <br />On GitHub, the HTML representation is unable to render, please try loading this page with nbviewer.org.</b></div><div class=\"sk-container\" hidden><div class=\"sk-item sk-dashed-wrapped\"><div class=\"sk-label-container\"><div class=\"sk-label sk-toggleable\"><input class=\"sk-toggleable__control sk-hidden--visually\" id=\"sk-estimator-id-35\" type=\"checkbox\" ><label for=\"sk-estimator-id-35\" class=\"sk-toggleable__label sk-toggleable__label-arrow\">Pipeline</label><div class=\"sk-toggleable__content\"><pre>Pipeline(steps=[(&#x27;preprocessor&#x27;,\n",
       "                 ColumnTransformer(transformers=[(&#x27;num&#x27;,\n",
       "                                                  Pipeline(steps=[(&#x27;simple &#x27;\n",
       "                                                                   &#x27;impute&#x27;,\n",
       "                                                                   SimpleImputer()),\n",
       "                                                                  (&#x27;scaler&#x27;,\n",
       "                                                                   StandardScaler())]),\n",
       "                                                  [&#x27;floor_area_sqm&#x27;, &#x27;mid&#x27;,\n",
       "                                                   &#x27;hdb_age&#x27;, &#x27;max_floor_lvl&#x27;,\n",
       "                                                   &#x27;Mall_Nearest_Distance&#x27;,\n",
       "                                                   &#x27;Hawker_Nearest_Distance&#x27;,\n",
       "                                                   &#x27;mrt_nearest_distance&#x27;,\n",
       "                                                   &#x27;cutoff_point&#x27;]),\n",
       "                                                 (&#x27;cat&#x27;,\n",
       "                                                  Pipeline(steps=[(&#x27;encoder&#x27;,\n",
       "                                                                   OneHotEncoder(drop=&#x27;first&#x27;,\n",
       "                                                                                 handle_unknown=&#x27;ignore&#x27;))]),\n",
       "                                                  [&#x27;flat_type&#x27;, &#x27;flat_model&#x27;,\n",
       "                                                   &#x27;Tranc_Year&#x27;,\n",
       "                                                   &#x27;planning_area&#x27;,\n",
       "                                                   &#x27;bus_interchange&#x27;,\n",
       "                                                   &#x27;mrt_interchange&#x27;])])),\n",
       "                (&#x27;Ridge&#x27;, Ridge())])</pre></div></div></div><div class=\"sk-serial\"><div class=\"sk-item sk-dashed-wrapped\"><div class=\"sk-label-container\"><div class=\"sk-label sk-toggleable\"><input class=\"sk-toggleable__control sk-hidden--visually\" id=\"sk-estimator-id-36\" type=\"checkbox\" ><label for=\"sk-estimator-id-36\" class=\"sk-toggleable__label sk-toggleable__label-arrow\">preprocessor: ColumnTransformer</label><div class=\"sk-toggleable__content\"><pre>ColumnTransformer(transformers=[(&#x27;num&#x27;,\n",
       "                                 Pipeline(steps=[(&#x27;simple impute&#x27;,\n",
       "                                                  SimpleImputer()),\n",
       "                                                 (&#x27;scaler&#x27;, StandardScaler())]),\n",
       "                                 [&#x27;floor_area_sqm&#x27;, &#x27;mid&#x27;, &#x27;hdb_age&#x27;,\n",
       "                                  &#x27;max_floor_lvl&#x27;, &#x27;Mall_Nearest_Distance&#x27;,\n",
       "                                  &#x27;Hawker_Nearest_Distance&#x27;,\n",
       "                                  &#x27;mrt_nearest_distance&#x27;, &#x27;cutoff_point&#x27;]),\n",
       "                                (&#x27;cat&#x27;,\n",
       "                                 Pipeline(steps=[(&#x27;encoder&#x27;,\n",
       "                                                  OneHotEncoder(drop=&#x27;first&#x27;,\n",
       "                                                                handle_unknown=&#x27;ignore&#x27;))]),\n",
       "                                 [&#x27;flat_type&#x27;, &#x27;flat_model&#x27;, &#x27;Tranc_Year&#x27;,\n",
       "                                  &#x27;planning_area&#x27;, &#x27;bus_interchange&#x27;,\n",
       "                                  &#x27;mrt_interchange&#x27;])])</pre></div></div></div><div class=\"sk-parallel\"><div class=\"sk-parallel-item\"><div class=\"sk-item\"><div class=\"sk-label-container\"><div class=\"sk-label sk-toggleable\"><input class=\"sk-toggleable__control sk-hidden--visually\" id=\"sk-estimator-id-37\" type=\"checkbox\" ><label for=\"sk-estimator-id-37\" class=\"sk-toggleable__label sk-toggleable__label-arrow\">num</label><div class=\"sk-toggleable__content\"><pre>[&#x27;floor_area_sqm&#x27;, &#x27;mid&#x27;, &#x27;hdb_age&#x27;, &#x27;max_floor_lvl&#x27;, &#x27;Mall_Nearest_Distance&#x27;, &#x27;Hawker_Nearest_Distance&#x27;, &#x27;mrt_nearest_distance&#x27;, &#x27;cutoff_point&#x27;]</pre></div></div></div><div class=\"sk-serial\"><div class=\"sk-item\"><div class=\"sk-serial\"><div class=\"sk-item\"><div class=\"sk-estimator sk-toggleable\"><input class=\"sk-toggleable__control sk-hidden--visually\" id=\"sk-estimator-id-38\" type=\"checkbox\" ><label for=\"sk-estimator-id-38\" class=\"sk-toggleable__label sk-toggleable__label-arrow\">SimpleImputer</label><div class=\"sk-toggleable__content\"><pre>SimpleImputer()</pre></div></div></div><div class=\"sk-item\"><div class=\"sk-estimator sk-toggleable\"><input class=\"sk-toggleable__control sk-hidden--visually\" id=\"sk-estimator-id-39\" type=\"checkbox\" ><label for=\"sk-estimator-id-39\" class=\"sk-toggleable__label sk-toggleable__label-arrow\">StandardScaler</label><div class=\"sk-toggleable__content\"><pre>StandardScaler()</pre></div></div></div></div></div></div></div></div><div class=\"sk-parallel-item\"><div class=\"sk-item\"><div class=\"sk-label-container\"><div class=\"sk-label sk-toggleable\"><input class=\"sk-toggleable__control sk-hidden--visually\" id=\"sk-estimator-id-40\" type=\"checkbox\" ><label for=\"sk-estimator-id-40\" class=\"sk-toggleable__label sk-toggleable__label-arrow\">cat</label><div class=\"sk-toggleable__content\"><pre>[&#x27;flat_type&#x27;, &#x27;flat_model&#x27;, &#x27;Tranc_Year&#x27;, &#x27;planning_area&#x27;, &#x27;bus_interchange&#x27;, &#x27;mrt_interchange&#x27;]</pre></div></div></div><div class=\"sk-serial\"><div class=\"sk-item\"><div class=\"sk-serial\"><div class=\"sk-item\"><div class=\"sk-estimator sk-toggleable\"><input class=\"sk-toggleable__control sk-hidden--visually\" id=\"sk-estimator-id-41\" type=\"checkbox\" ><label for=\"sk-estimator-id-41\" class=\"sk-toggleable__label sk-toggleable__label-arrow\">OneHotEncoder</label><div class=\"sk-toggleable__content\"><pre>OneHotEncoder(drop=&#x27;first&#x27;, handle_unknown=&#x27;ignore&#x27;)</pre></div></div></div></div></div></div></div></div></div></div><div class=\"sk-item\"><div class=\"sk-estimator sk-toggleable\"><input class=\"sk-toggleable__control sk-hidden--visually\" id=\"sk-estimator-id-42\" type=\"checkbox\" ><label for=\"sk-estimator-id-42\" class=\"sk-toggleable__label sk-toggleable__label-arrow\">Ridge</label><div class=\"sk-toggleable__content\"><pre>Ridge()</pre></div></div></div></div></div></div></div>"
      ],
      "text/plain": [
       "Pipeline(steps=[('preprocessor',\n",
       "                 ColumnTransformer(transformers=[('num',\n",
       "                                                  Pipeline(steps=[('simple '\n",
       "                                                                   'impute',\n",
       "                                                                   SimpleImputer()),\n",
       "                                                                  ('scaler',\n",
       "                                                                   StandardScaler())]),\n",
       "                                                  ['floor_area_sqm', 'mid',\n",
       "                                                   'hdb_age', 'max_floor_lvl',\n",
       "                                                   'Mall_Nearest_Distance',\n",
       "                                                   'Hawker_Nearest_Distance',\n",
       "                                                   'mrt_nearest_distance',\n",
       "                                                   'cutoff_point']),\n",
       "                                                 ('cat',\n",
       "                                                  Pipeline(steps=[('encoder',\n",
       "                                                                   OneHotEncoder(drop='first',\n",
       "                                                                                 handle_unknown='ignore'))]),\n",
       "                                                  ['flat_type', 'flat_model',\n",
       "                                                   'Tranc_Year',\n",
       "                                                   'planning_area',\n",
       "                                                   'bus_interchange',\n",
       "                                                   'mrt_interchange'])])),\n",
       "                ('Ridge', Ridge())])"
      ]
     },
     "execution_count": 41,
     "metadata": {},
     "output_type": "execute_result"
    }
   ],
   "source": [
    "ridge.fit(X_train, y_train)"
   ]
  },
  {
   "cell_type": "code",
   "execution_count": 42,
   "id": "5dd3e99c-96b6-4148-801f-5837829be258",
   "metadata": {},
   "outputs": [
    {
     "name": "stdout",
     "output_type": "stream",
     "text": [
      "The train score is: 0.891556\n",
      "The test score is: 0.890854\n"
     ]
    }
   ],
   "source": [
    "print(f\"The train score is: {round(ridge.score(X_train, y_train), 6)}\")\n",
    "print(f\"The test score is: {round(ridge.score(X_test, y_test), 6)}\")"
   ]
  },
  {
   "cell_type": "markdown",
   "id": "c8374134-a384-4a3c-8dbf-8af8ec6e09d7",
   "metadata": {},
   "source": [
    "It have a slightly worse performance compared to both Lasso and Linear Regression.  \n",
    "Now investigate with CV."
   ]
  },
  {
   "cell_type": "code",
   "execution_count": 43,
   "id": "0e8cc718-376f-48dd-8638-e11556341983",
   "metadata": {},
   "outputs": [],
   "source": [
    "ridge_CV = Pipeline(\n",
    "    steps=[(\"preprocessor\", preprocessor), (\"Ridge CV\", RidgeCV(alphas=[0.1, 1, 10, 100, 1000], store_cv_values=True, alpha_per_target=True))]\n",
    ")"
   ]
  },
  {
   "cell_type": "code",
   "execution_count": 44,
   "id": "0d28b042-d8e6-439a-9361-4461545ad462",
   "metadata": {},
   "outputs": [
    {
     "data": {
      "text/html": [
       "<style>#sk-container-id-6 {color: black;background-color: white;}#sk-container-id-6 pre{padding: 0;}#sk-container-id-6 div.sk-toggleable {background-color: white;}#sk-container-id-6 label.sk-toggleable__label {cursor: pointer;display: block;width: 100%;margin-bottom: 0;padding: 0.3em;box-sizing: border-box;text-align: center;}#sk-container-id-6 label.sk-toggleable__label-arrow:before {content: \"▸\";float: left;margin-right: 0.25em;color: #696969;}#sk-container-id-6 label.sk-toggleable__label-arrow:hover:before {color: black;}#sk-container-id-6 div.sk-estimator:hover label.sk-toggleable__label-arrow:before {color: black;}#sk-container-id-6 div.sk-toggleable__content {max-height: 0;max-width: 0;overflow: hidden;text-align: left;background-color: #f0f8ff;}#sk-container-id-6 div.sk-toggleable__content pre {margin: 0.2em;color: black;border-radius: 0.25em;background-color: #f0f8ff;}#sk-container-id-6 input.sk-toggleable__control:checked~div.sk-toggleable__content {max-height: 200px;max-width: 100%;overflow: auto;}#sk-container-id-6 input.sk-toggleable__control:checked~label.sk-toggleable__label-arrow:before {content: \"▾\";}#sk-container-id-6 div.sk-estimator input.sk-toggleable__control:checked~label.sk-toggleable__label {background-color: #d4ebff;}#sk-container-id-6 div.sk-label input.sk-toggleable__control:checked~label.sk-toggleable__label {background-color: #d4ebff;}#sk-container-id-6 input.sk-hidden--visually {border: 0;clip: rect(1px 1px 1px 1px);clip: rect(1px, 1px, 1px, 1px);height: 1px;margin: -1px;overflow: hidden;padding: 0;position: absolute;width: 1px;}#sk-container-id-6 div.sk-estimator {font-family: monospace;background-color: #f0f8ff;border: 1px dotted black;border-radius: 0.25em;box-sizing: border-box;margin-bottom: 0.5em;}#sk-container-id-6 div.sk-estimator:hover {background-color: #d4ebff;}#sk-container-id-6 div.sk-parallel-item::after {content: \"\";width: 100%;border-bottom: 1px solid gray;flex-grow: 1;}#sk-container-id-6 div.sk-label:hover label.sk-toggleable__label {background-color: #d4ebff;}#sk-container-id-6 div.sk-serial::before {content: \"\";position: absolute;border-left: 1px solid gray;box-sizing: border-box;top: 0;bottom: 0;left: 50%;z-index: 0;}#sk-container-id-6 div.sk-serial {display: flex;flex-direction: column;align-items: center;background-color: white;padding-right: 0.2em;padding-left: 0.2em;position: relative;}#sk-container-id-6 div.sk-item {position: relative;z-index: 1;}#sk-container-id-6 div.sk-parallel {display: flex;align-items: stretch;justify-content: center;background-color: white;position: relative;}#sk-container-id-6 div.sk-item::before, #sk-container-id-6 div.sk-parallel-item::before {content: \"\";position: absolute;border-left: 1px solid gray;box-sizing: border-box;top: 0;bottom: 0;left: 50%;z-index: -1;}#sk-container-id-6 div.sk-parallel-item {display: flex;flex-direction: column;z-index: 1;position: relative;background-color: white;}#sk-container-id-6 div.sk-parallel-item:first-child::after {align-self: flex-end;width: 50%;}#sk-container-id-6 div.sk-parallel-item:last-child::after {align-self: flex-start;width: 50%;}#sk-container-id-6 div.sk-parallel-item:only-child::after {width: 0;}#sk-container-id-6 div.sk-dashed-wrapped {border: 1px dashed gray;margin: 0 0.4em 0.5em 0.4em;box-sizing: border-box;padding-bottom: 0.4em;background-color: white;}#sk-container-id-6 div.sk-label label {font-family: monospace;font-weight: bold;display: inline-block;line-height: 1.2em;}#sk-container-id-6 div.sk-label-container {text-align: center;}#sk-container-id-6 div.sk-container {/* jupyter's `normalize.less` sets `[hidden] { display: none; }` but bootstrap.min.css set `[hidden] { display: none !important; }` so we also need the `!important` here to be able to override the default hidden behavior on the sphinx rendered scikit-learn.org. See: https://github.com/scikit-learn/scikit-learn/issues/21755 */display: inline-block !important;position: relative;}#sk-container-id-6 div.sk-text-repr-fallback {display: none;}</style><div id=\"sk-container-id-6\" class=\"sk-top-container\"><div class=\"sk-text-repr-fallback\"><pre>Pipeline(steps=[(&#x27;preprocessor&#x27;,\n",
       "                 ColumnTransformer(transformers=[(&#x27;num&#x27;,\n",
       "                                                  Pipeline(steps=[(&#x27;simple &#x27;\n",
       "                                                                   &#x27;impute&#x27;,\n",
       "                                                                   SimpleImputer()),\n",
       "                                                                  (&#x27;scaler&#x27;,\n",
       "                                                                   StandardScaler())]),\n",
       "                                                  [&#x27;floor_area_sqm&#x27;, &#x27;mid&#x27;,\n",
       "                                                   &#x27;hdb_age&#x27;, &#x27;max_floor_lvl&#x27;,\n",
       "                                                   &#x27;Mall_Nearest_Distance&#x27;,\n",
       "                                                   &#x27;Hawker_Nearest_Distance&#x27;,\n",
       "                                                   &#x27;mrt_nearest_distance&#x27;,\n",
       "                                                   &#x27;cutoff_point&#x27;]),\n",
       "                                                 (&#x27;cat&#x27;,\n",
       "                                                  Pipeline(steps=[(&#x27;encoder&#x27;,\n",
       "                                                                   OneHotEncoder(drop=&#x27;first&#x27;,\n",
       "                                                                                 handle_unknown=&#x27;ignore&#x27;))]),\n",
       "                                                  [&#x27;flat_type&#x27;, &#x27;flat_model&#x27;,\n",
       "                                                   &#x27;Tranc_Year&#x27;,\n",
       "                                                   &#x27;planning_area&#x27;,\n",
       "                                                   &#x27;bus_interchange&#x27;,\n",
       "                                                   &#x27;mrt_interchange&#x27;])])),\n",
       "                (&#x27;Ridge CV&#x27;,\n",
       "                 RidgeCV(alpha_per_target=True, alphas=[0.1, 1, 10, 100, 1000],\n",
       "                         store_cv_values=True))])</pre><b>In a Jupyter environment, please rerun this cell to show the HTML representation or trust the notebook. <br />On GitHub, the HTML representation is unable to render, please try loading this page with nbviewer.org.</b></div><div class=\"sk-container\" hidden><div class=\"sk-item sk-dashed-wrapped\"><div class=\"sk-label-container\"><div class=\"sk-label sk-toggleable\"><input class=\"sk-toggleable__control sk-hidden--visually\" id=\"sk-estimator-id-43\" type=\"checkbox\" ><label for=\"sk-estimator-id-43\" class=\"sk-toggleable__label sk-toggleable__label-arrow\">Pipeline</label><div class=\"sk-toggleable__content\"><pre>Pipeline(steps=[(&#x27;preprocessor&#x27;,\n",
       "                 ColumnTransformer(transformers=[(&#x27;num&#x27;,\n",
       "                                                  Pipeline(steps=[(&#x27;simple &#x27;\n",
       "                                                                   &#x27;impute&#x27;,\n",
       "                                                                   SimpleImputer()),\n",
       "                                                                  (&#x27;scaler&#x27;,\n",
       "                                                                   StandardScaler())]),\n",
       "                                                  [&#x27;floor_area_sqm&#x27;, &#x27;mid&#x27;,\n",
       "                                                   &#x27;hdb_age&#x27;, &#x27;max_floor_lvl&#x27;,\n",
       "                                                   &#x27;Mall_Nearest_Distance&#x27;,\n",
       "                                                   &#x27;Hawker_Nearest_Distance&#x27;,\n",
       "                                                   &#x27;mrt_nearest_distance&#x27;,\n",
       "                                                   &#x27;cutoff_point&#x27;]),\n",
       "                                                 (&#x27;cat&#x27;,\n",
       "                                                  Pipeline(steps=[(&#x27;encoder&#x27;,\n",
       "                                                                   OneHotEncoder(drop=&#x27;first&#x27;,\n",
       "                                                                                 handle_unknown=&#x27;ignore&#x27;))]),\n",
       "                                                  [&#x27;flat_type&#x27;, &#x27;flat_model&#x27;,\n",
       "                                                   &#x27;Tranc_Year&#x27;,\n",
       "                                                   &#x27;planning_area&#x27;,\n",
       "                                                   &#x27;bus_interchange&#x27;,\n",
       "                                                   &#x27;mrt_interchange&#x27;])])),\n",
       "                (&#x27;Ridge CV&#x27;,\n",
       "                 RidgeCV(alpha_per_target=True, alphas=[0.1, 1, 10, 100, 1000],\n",
       "                         store_cv_values=True))])</pre></div></div></div><div class=\"sk-serial\"><div class=\"sk-item sk-dashed-wrapped\"><div class=\"sk-label-container\"><div class=\"sk-label sk-toggleable\"><input class=\"sk-toggleable__control sk-hidden--visually\" id=\"sk-estimator-id-44\" type=\"checkbox\" ><label for=\"sk-estimator-id-44\" class=\"sk-toggleable__label sk-toggleable__label-arrow\">preprocessor: ColumnTransformer</label><div class=\"sk-toggleable__content\"><pre>ColumnTransformer(transformers=[(&#x27;num&#x27;,\n",
       "                                 Pipeline(steps=[(&#x27;simple impute&#x27;,\n",
       "                                                  SimpleImputer()),\n",
       "                                                 (&#x27;scaler&#x27;, StandardScaler())]),\n",
       "                                 [&#x27;floor_area_sqm&#x27;, &#x27;mid&#x27;, &#x27;hdb_age&#x27;,\n",
       "                                  &#x27;max_floor_lvl&#x27;, &#x27;Mall_Nearest_Distance&#x27;,\n",
       "                                  &#x27;Hawker_Nearest_Distance&#x27;,\n",
       "                                  &#x27;mrt_nearest_distance&#x27;, &#x27;cutoff_point&#x27;]),\n",
       "                                (&#x27;cat&#x27;,\n",
       "                                 Pipeline(steps=[(&#x27;encoder&#x27;,\n",
       "                                                  OneHotEncoder(drop=&#x27;first&#x27;,\n",
       "                                                                handle_unknown=&#x27;ignore&#x27;))]),\n",
       "                                 [&#x27;flat_type&#x27;, &#x27;flat_model&#x27;, &#x27;Tranc_Year&#x27;,\n",
       "                                  &#x27;planning_area&#x27;, &#x27;bus_interchange&#x27;,\n",
       "                                  &#x27;mrt_interchange&#x27;])])</pre></div></div></div><div class=\"sk-parallel\"><div class=\"sk-parallel-item\"><div class=\"sk-item\"><div class=\"sk-label-container\"><div class=\"sk-label sk-toggleable\"><input class=\"sk-toggleable__control sk-hidden--visually\" id=\"sk-estimator-id-45\" type=\"checkbox\" ><label for=\"sk-estimator-id-45\" class=\"sk-toggleable__label sk-toggleable__label-arrow\">num</label><div class=\"sk-toggleable__content\"><pre>[&#x27;floor_area_sqm&#x27;, &#x27;mid&#x27;, &#x27;hdb_age&#x27;, &#x27;max_floor_lvl&#x27;, &#x27;Mall_Nearest_Distance&#x27;, &#x27;Hawker_Nearest_Distance&#x27;, &#x27;mrt_nearest_distance&#x27;, &#x27;cutoff_point&#x27;]</pre></div></div></div><div class=\"sk-serial\"><div class=\"sk-item\"><div class=\"sk-serial\"><div class=\"sk-item\"><div class=\"sk-estimator sk-toggleable\"><input class=\"sk-toggleable__control sk-hidden--visually\" id=\"sk-estimator-id-46\" type=\"checkbox\" ><label for=\"sk-estimator-id-46\" class=\"sk-toggleable__label sk-toggleable__label-arrow\">SimpleImputer</label><div class=\"sk-toggleable__content\"><pre>SimpleImputer()</pre></div></div></div><div class=\"sk-item\"><div class=\"sk-estimator sk-toggleable\"><input class=\"sk-toggleable__control sk-hidden--visually\" id=\"sk-estimator-id-47\" type=\"checkbox\" ><label for=\"sk-estimator-id-47\" class=\"sk-toggleable__label sk-toggleable__label-arrow\">StandardScaler</label><div class=\"sk-toggleable__content\"><pre>StandardScaler()</pre></div></div></div></div></div></div></div></div><div class=\"sk-parallel-item\"><div class=\"sk-item\"><div class=\"sk-label-container\"><div class=\"sk-label sk-toggleable\"><input class=\"sk-toggleable__control sk-hidden--visually\" id=\"sk-estimator-id-48\" type=\"checkbox\" ><label for=\"sk-estimator-id-48\" class=\"sk-toggleable__label sk-toggleable__label-arrow\">cat</label><div class=\"sk-toggleable__content\"><pre>[&#x27;flat_type&#x27;, &#x27;flat_model&#x27;, &#x27;Tranc_Year&#x27;, &#x27;planning_area&#x27;, &#x27;bus_interchange&#x27;, &#x27;mrt_interchange&#x27;]</pre></div></div></div><div class=\"sk-serial\"><div class=\"sk-item\"><div class=\"sk-serial\"><div class=\"sk-item\"><div class=\"sk-estimator sk-toggleable\"><input class=\"sk-toggleable__control sk-hidden--visually\" id=\"sk-estimator-id-49\" type=\"checkbox\" ><label for=\"sk-estimator-id-49\" class=\"sk-toggleable__label sk-toggleable__label-arrow\">OneHotEncoder</label><div class=\"sk-toggleable__content\"><pre>OneHotEncoder(drop=&#x27;first&#x27;, handle_unknown=&#x27;ignore&#x27;)</pre></div></div></div></div></div></div></div></div></div></div><div class=\"sk-item\"><div class=\"sk-estimator sk-toggleable\"><input class=\"sk-toggleable__control sk-hidden--visually\" id=\"sk-estimator-id-50\" type=\"checkbox\" ><label for=\"sk-estimator-id-50\" class=\"sk-toggleable__label sk-toggleable__label-arrow\">RidgeCV</label><div class=\"sk-toggleable__content\"><pre>RidgeCV(alpha_per_target=True, alphas=[0.1, 1, 10, 100, 1000],\n",
       "        store_cv_values=True)</pre></div></div></div></div></div></div></div>"
      ],
      "text/plain": [
       "Pipeline(steps=[('preprocessor',\n",
       "                 ColumnTransformer(transformers=[('num',\n",
       "                                                  Pipeline(steps=[('simple '\n",
       "                                                                   'impute',\n",
       "                                                                   SimpleImputer()),\n",
       "                                                                  ('scaler',\n",
       "                                                                   StandardScaler())]),\n",
       "                                                  ['floor_area_sqm', 'mid',\n",
       "                                                   'hdb_age', 'max_floor_lvl',\n",
       "                                                   'Mall_Nearest_Distance',\n",
       "                                                   'Hawker_Nearest_Distance',\n",
       "                                                   'mrt_nearest_distance',\n",
       "                                                   'cutoff_point']),\n",
       "                                                 ('cat',\n",
       "                                                  Pipeline(steps=[('encoder',\n",
       "                                                                   OneHotEncoder(drop='first',\n",
       "                                                                                 handle_unknown='ignore'))]),\n",
       "                                                  ['flat_type', 'flat_model',\n",
       "                                                   'Tranc_Year',\n",
       "                                                   'planning_area',\n",
       "                                                   'bus_interchange',\n",
       "                                                   'mrt_interchange'])])),\n",
       "                ('Ridge CV',\n",
       "                 RidgeCV(alpha_per_target=True, alphas=[0.1, 1, 10, 100, 1000],\n",
       "                         store_cv_values=True))])"
      ]
     },
     "execution_count": 44,
     "metadata": {},
     "output_type": "execute_result"
    }
   ],
   "source": [
    "ridge_CV.fit(X_train, y_train)"
   ]
  },
  {
   "cell_type": "code",
   "execution_count": 45,
   "id": "92b86a21-4a24-43c6-8c6b-1390eb9b5924",
   "metadata": {},
   "outputs": [
    {
     "name": "stdout",
     "output_type": "stream",
     "text": [
      "The train score is: 0.891919\n",
      "The test score is: 0.891239\n"
     ]
    }
   ],
   "source": [
    "print(f\"The train score is: {round(ridge_CV.score(X_train, y_train), 6)}\")\n",
    "print(f\"The test score is: {round(ridge_CV.score(X_test, y_test), 6)}\")"
   ]
  },
  {
   "cell_type": "code",
   "execution_count": 46,
   "id": "d46e9e50-7bce-426e-b0e6-7f305fb690af",
   "metadata": {},
   "outputs": [
    {
     "data": {
      "text/plain": [
       "(119817, 5)"
      ]
     },
     "execution_count": 46,
     "metadata": {},
     "output_type": "execute_result"
    }
   ],
   "source": [
    "cv_results= pd.DataFrame(ridge_CV[1].cv_values_, columns=['alpha=0.1', 'alpha=1', 'alpha=10', 'alpha=100', 'alpha=1000'])\n",
    "cv_results.shape"
   ]
  },
  {
   "cell_type": "code",
   "execution_count": 47,
   "id": "9bc11068-f08e-4756-a589-9ab1ae73cd30",
   "metadata": {},
   "outputs": [
    {
     "data": {
      "text/html": [
       "<div>\n",
       "<style scoped>\n",
       "    .dataframe tbody tr th:only-of-type {\n",
       "        vertical-align: middle;\n",
       "    }\n",
       "\n",
       "    .dataframe tbody tr th {\n",
       "        vertical-align: top;\n",
       "    }\n",
       "\n",
       "    .dataframe thead th {\n",
       "        text-align: right;\n",
       "    }\n",
       "</style>\n",
       "<table border=\"1\" class=\"dataframe\">\n",
       "  <thead>\n",
       "    <tr style=\"text-align: right;\">\n",
       "      <th></th>\n",
       "      <th>alpha=0.1</th>\n",
       "      <th>alpha=1</th>\n",
       "      <th>alpha=10</th>\n",
       "      <th>alpha=100</th>\n",
       "      <th>alpha=1000</th>\n",
       "    </tr>\n",
       "  </thead>\n",
       "  <tbody>\n",
       "    <tr>\n",
       "      <th>0</th>\n",
       "      <td>2.748284e+09</td>\n",
       "      <td>2.755258e+09</td>\n",
       "      <td>2.813214e+09</td>\n",
       "      <td>3.193140e+09</td>\n",
       "      <td>4.817755e+09</td>\n",
       "    </tr>\n",
       "    <tr>\n",
       "      <th>1</th>\n",
       "      <td>1.418368e+09</td>\n",
       "      <td>1.423038e+09</td>\n",
       "      <td>1.457278e+09</td>\n",
       "      <td>1.611593e+09</td>\n",
       "      <td>1.377079e+09</td>\n",
       "    </tr>\n",
       "    <tr>\n",
       "      <th>2</th>\n",
       "      <td>1.991506e+07</td>\n",
       "      <td>1.945613e+07</td>\n",
       "      <td>1.547463e+07</td>\n",
       "      <td>8.832042e+05</td>\n",
       "      <td>1.783817e+03</td>\n",
       "    </tr>\n",
       "    <tr>\n",
       "      <th>3</th>\n",
       "      <td>4.380845e+09</td>\n",
       "      <td>4.388701e+09</td>\n",
       "      <td>4.462062e+09</td>\n",
       "      <td>5.059141e+09</td>\n",
       "      <td>8.126840e+09</td>\n",
       "    </tr>\n",
       "    <tr>\n",
       "      <th>4</th>\n",
       "      <td>1.690679e+09</td>\n",
       "      <td>1.691574e+09</td>\n",
       "      <td>1.703623e+09</td>\n",
       "      <td>1.891572e+09</td>\n",
       "      <td>3.635783e+09</td>\n",
       "    </tr>\n",
       "  </tbody>\n",
       "</table>\n",
       "</div>"
      ],
      "text/plain": [
       "      alpha=0.1       alpha=1      alpha=10     alpha=100    alpha=1000\n",
       "0  2.748284e+09  2.755258e+09  2.813214e+09  3.193140e+09  4.817755e+09\n",
       "1  1.418368e+09  1.423038e+09  1.457278e+09  1.611593e+09  1.377079e+09\n",
       "2  1.991506e+07  1.945613e+07  1.547463e+07  8.832042e+05  1.783817e+03\n",
       "3  4.380845e+09  4.388701e+09  4.462062e+09  5.059141e+09  8.126840e+09\n",
       "4  1.690679e+09  1.691574e+09  1.703623e+09  1.891572e+09  3.635783e+09"
      ]
     },
     "execution_count": 47,
     "metadata": {},
     "output_type": "execute_result"
    }
   ],
   "source": [
    "cv_results.head()"
   ]
  },
  {
   "cell_type": "code",
   "execution_count": 48,
   "id": "ef43a441-aa16-4c59-9480-2407b5efdc81",
   "metadata": {},
   "outputs": [
    {
     "data": {
      "text/plain": [
       "0.1"
      ]
     },
     "execution_count": 48,
     "metadata": {},
     "output_type": "execute_result"
    }
   ],
   "source": [
    "ridge_CV[1].alpha_"
   ]
  },
  {
   "cell_type": "code",
   "execution_count": 49,
   "id": "e908a309-2674-4d81-ae2c-9c69dc84553b",
   "metadata": {},
   "outputs": [
    {
     "data": {
      "text/plain": [
       "-2222773760.7176504"
      ]
     },
     "execution_count": 49,
     "metadata": {},
     "output_type": "execute_result"
    }
   ],
   "source": [
    "ridge_CV[1].best_score_"
   ]
  },
  {
   "cell_type": "code",
   "execution_count": 50,
   "id": "8163d140-446e-4bff-9085-109cfe413baf",
   "metadata": {},
   "outputs": [
    {
     "data": {
      "text/plain": [
       "75"
      ]
     },
     "execution_count": 50,
     "metadata": {},
     "output_type": "execute_result"
    }
   ],
   "source": [
    "ridge_CV[1].n_features_in_"
   ]
  },
  {
   "cell_type": "markdown",
   "id": "b3d93435-564c-4ae1-9205-f144278cf4b0",
   "metadata": {},
   "source": [
    "The best Alpha selected is 0.1.  \n",
    "This means the default Ridge() is good enough.  \n",
    "I will now move on to Elastic Net."
   ]
  },
  {
   "cell_type": "markdown",
   "id": "29e59fae-afc2-4e41-92ff-45134939f934",
   "metadata": {},
   "source": [
    "## Elastic Net Regression"
   ]
  },
  {
   "cell_type": "markdown",
   "id": "e7223cb2-11a6-4bb0-b561-df48ffd43281",
   "metadata": {},
   "source": [
    "Elastic Net Regression is a combination of Lasso (L1) and Ridge (L2).  \n",
    "Maybe that's why it is called elastic net?"
   ]
  },
  {
   "cell_type": "code",
   "execution_count": 51,
   "id": "a09c8f54-70b1-4645-8431-84adc91fb778",
   "metadata": {},
   "outputs": [],
   "source": [
    "# Build a pipeline for regression model\n",
    "# default setting did not converge\n",
    "e_net = Pipeline(\n",
    "    steps=[(\"preprocessor\", preprocessor), (\"ENet\", ElasticNet())]\n",
    ")"
   ]
  },
  {
   "cell_type": "code",
   "execution_count": 52,
   "id": "5a347ca6-fd9f-459d-93c0-7c9e206d4bd5",
   "metadata": {},
   "outputs": [
    {
     "data": {
      "text/html": [
       "<style>#sk-container-id-7 {color: black;background-color: white;}#sk-container-id-7 pre{padding: 0;}#sk-container-id-7 div.sk-toggleable {background-color: white;}#sk-container-id-7 label.sk-toggleable__label {cursor: pointer;display: block;width: 100%;margin-bottom: 0;padding: 0.3em;box-sizing: border-box;text-align: center;}#sk-container-id-7 label.sk-toggleable__label-arrow:before {content: \"▸\";float: left;margin-right: 0.25em;color: #696969;}#sk-container-id-7 label.sk-toggleable__label-arrow:hover:before {color: black;}#sk-container-id-7 div.sk-estimator:hover label.sk-toggleable__label-arrow:before {color: black;}#sk-container-id-7 div.sk-toggleable__content {max-height: 0;max-width: 0;overflow: hidden;text-align: left;background-color: #f0f8ff;}#sk-container-id-7 div.sk-toggleable__content pre {margin: 0.2em;color: black;border-radius: 0.25em;background-color: #f0f8ff;}#sk-container-id-7 input.sk-toggleable__control:checked~div.sk-toggleable__content {max-height: 200px;max-width: 100%;overflow: auto;}#sk-container-id-7 input.sk-toggleable__control:checked~label.sk-toggleable__label-arrow:before {content: \"▾\";}#sk-container-id-7 div.sk-estimator input.sk-toggleable__control:checked~label.sk-toggleable__label {background-color: #d4ebff;}#sk-container-id-7 div.sk-label input.sk-toggleable__control:checked~label.sk-toggleable__label {background-color: #d4ebff;}#sk-container-id-7 input.sk-hidden--visually {border: 0;clip: rect(1px 1px 1px 1px);clip: rect(1px, 1px, 1px, 1px);height: 1px;margin: -1px;overflow: hidden;padding: 0;position: absolute;width: 1px;}#sk-container-id-7 div.sk-estimator {font-family: monospace;background-color: #f0f8ff;border: 1px dotted black;border-radius: 0.25em;box-sizing: border-box;margin-bottom: 0.5em;}#sk-container-id-7 div.sk-estimator:hover {background-color: #d4ebff;}#sk-container-id-7 div.sk-parallel-item::after {content: \"\";width: 100%;border-bottom: 1px solid gray;flex-grow: 1;}#sk-container-id-7 div.sk-label:hover label.sk-toggleable__label {background-color: #d4ebff;}#sk-container-id-7 div.sk-serial::before {content: \"\";position: absolute;border-left: 1px solid gray;box-sizing: border-box;top: 0;bottom: 0;left: 50%;z-index: 0;}#sk-container-id-7 div.sk-serial {display: flex;flex-direction: column;align-items: center;background-color: white;padding-right: 0.2em;padding-left: 0.2em;position: relative;}#sk-container-id-7 div.sk-item {position: relative;z-index: 1;}#sk-container-id-7 div.sk-parallel {display: flex;align-items: stretch;justify-content: center;background-color: white;position: relative;}#sk-container-id-7 div.sk-item::before, #sk-container-id-7 div.sk-parallel-item::before {content: \"\";position: absolute;border-left: 1px solid gray;box-sizing: border-box;top: 0;bottom: 0;left: 50%;z-index: -1;}#sk-container-id-7 div.sk-parallel-item {display: flex;flex-direction: column;z-index: 1;position: relative;background-color: white;}#sk-container-id-7 div.sk-parallel-item:first-child::after {align-self: flex-end;width: 50%;}#sk-container-id-7 div.sk-parallel-item:last-child::after {align-self: flex-start;width: 50%;}#sk-container-id-7 div.sk-parallel-item:only-child::after {width: 0;}#sk-container-id-7 div.sk-dashed-wrapped {border: 1px dashed gray;margin: 0 0.4em 0.5em 0.4em;box-sizing: border-box;padding-bottom: 0.4em;background-color: white;}#sk-container-id-7 div.sk-label label {font-family: monospace;font-weight: bold;display: inline-block;line-height: 1.2em;}#sk-container-id-7 div.sk-label-container {text-align: center;}#sk-container-id-7 div.sk-container {/* jupyter's `normalize.less` sets `[hidden] { display: none; }` but bootstrap.min.css set `[hidden] { display: none !important; }` so we also need the `!important` here to be able to override the default hidden behavior on the sphinx rendered scikit-learn.org. See: https://github.com/scikit-learn/scikit-learn/issues/21755 */display: inline-block !important;position: relative;}#sk-container-id-7 div.sk-text-repr-fallback {display: none;}</style><div id=\"sk-container-id-7\" class=\"sk-top-container\"><div class=\"sk-text-repr-fallback\"><pre>Pipeline(steps=[(&#x27;preprocessor&#x27;,\n",
       "                 ColumnTransformer(transformers=[(&#x27;num&#x27;,\n",
       "                                                  Pipeline(steps=[(&#x27;simple &#x27;\n",
       "                                                                   &#x27;impute&#x27;,\n",
       "                                                                   SimpleImputer()),\n",
       "                                                                  (&#x27;scaler&#x27;,\n",
       "                                                                   StandardScaler())]),\n",
       "                                                  [&#x27;floor_area_sqm&#x27;, &#x27;mid&#x27;,\n",
       "                                                   &#x27;hdb_age&#x27;, &#x27;max_floor_lvl&#x27;,\n",
       "                                                   &#x27;Mall_Nearest_Distance&#x27;,\n",
       "                                                   &#x27;Hawker_Nearest_Distance&#x27;,\n",
       "                                                   &#x27;mrt_nearest_distance&#x27;,\n",
       "                                                   &#x27;cutoff_point&#x27;]),\n",
       "                                                 (&#x27;cat&#x27;,\n",
       "                                                  Pipeline(steps=[(&#x27;encoder&#x27;,\n",
       "                                                                   OneHotEncoder(drop=&#x27;first&#x27;,\n",
       "                                                                                 handle_unknown=&#x27;ignore&#x27;))]),\n",
       "                                                  [&#x27;flat_type&#x27;, &#x27;flat_model&#x27;,\n",
       "                                                   &#x27;Tranc_Year&#x27;,\n",
       "                                                   &#x27;planning_area&#x27;,\n",
       "                                                   &#x27;bus_interchange&#x27;,\n",
       "                                                   &#x27;mrt_interchange&#x27;])])),\n",
       "                (&#x27;ENet&#x27;, ElasticNet())])</pre><b>In a Jupyter environment, please rerun this cell to show the HTML representation or trust the notebook. <br />On GitHub, the HTML representation is unable to render, please try loading this page with nbviewer.org.</b></div><div class=\"sk-container\" hidden><div class=\"sk-item sk-dashed-wrapped\"><div class=\"sk-label-container\"><div class=\"sk-label sk-toggleable\"><input class=\"sk-toggleable__control sk-hidden--visually\" id=\"sk-estimator-id-51\" type=\"checkbox\" ><label for=\"sk-estimator-id-51\" class=\"sk-toggleable__label sk-toggleable__label-arrow\">Pipeline</label><div class=\"sk-toggleable__content\"><pre>Pipeline(steps=[(&#x27;preprocessor&#x27;,\n",
       "                 ColumnTransformer(transformers=[(&#x27;num&#x27;,\n",
       "                                                  Pipeline(steps=[(&#x27;simple &#x27;\n",
       "                                                                   &#x27;impute&#x27;,\n",
       "                                                                   SimpleImputer()),\n",
       "                                                                  (&#x27;scaler&#x27;,\n",
       "                                                                   StandardScaler())]),\n",
       "                                                  [&#x27;floor_area_sqm&#x27;, &#x27;mid&#x27;,\n",
       "                                                   &#x27;hdb_age&#x27;, &#x27;max_floor_lvl&#x27;,\n",
       "                                                   &#x27;Mall_Nearest_Distance&#x27;,\n",
       "                                                   &#x27;Hawker_Nearest_Distance&#x27;,\n",
       "                                                   &#x27;mrt_nearest_distance&#x27;,\n",
       "                                                   &#x27;cutoff_point&#x27;]),\n",
       "                                                 (&#x27;cat&#x27;,\n",
       "                                                  Pipeline(steps=[(&#x27;encoder&#x27;,\n",
       "                                                                   OneHotEncoder(drop=&#x27;first&#x27;,\n",
       "                                                                                 handle_unknown=&#x27;ignore&#x27;))]),\n",
       "                                                  [&#x27;flat_type&#x27;, &#x27;flat_model&#x27;,\n",
       "                                                   &#x27;Tranc_Year&#x27;,\n",
       "                                                   &#x27;planning_area&#x27;,\n",
       "                                                   &#x27;bus_interchange&#x27;,\n",
       "                                                   &#x27;mrt_interchange&#x27;])])),\n",
       "                (&#x27;ENet&#x27;, ElasticNet())])</pre></div></div></div><div class=\"sk-serial\"><div class=\"sk-item sk-dashed-wrapped\"><div class=\"sk-label-container\"><div class=\"sk-label sk-toggleable\"><input class=\"sk-toggleable__control sk-hidden--visually\" id=\"sk-estimator-id-52\" type=\"checkbox\" ><label for=\"sk-estimator-id-52\" class=\"sk-toggleable__label sk-toggleable__label-arrow\">preprocessor: ColumnTransformer</label><div class=\"sk-toggleable__content\"><pre>ColumnTransformer(transformers=[(&#x27;num&#x27;,\n",
       "                                 Pipeline(steps=[(&#x27;simple impute&#x27;,\n",
       "                                                  SimpleImputer()),\n",
       "                                                 (&#x27;scaler&#x27;, StandardScaler())]),\n",
       "                                 [&#x27;floor_area_sqm&#x27;, &#x27;mid&#x27;, &#x27;hdb_age&#x27;,\n",
       "                                  &#x27;max_floor_lvl&#x27;, &#x27;Mall_Nearest_Distance&#x27;,\n",
       "                                  &#x27;Hawker_Nearest_Distance&#x27;,\n",
       "                                  &#x27;mrt_nearest_distance&#x27;, &#x27;cutoff_point&#x27;]),\n",
       "                                (&#x27;cat&#x27;,\n",
       "                                 Pipeline(steps=[(&#x27;encoder&#x27;,\n",
       "                                                  OneHotEncoder(drop=&#x27;first&#x27;,\n",
       "                                                                handle_unknown=&#x27;ignore&#x27;))]),\n",
       "                                 [&#x27;flat_type&#x27;, &#x27;flat_model&#x27;, &#x27;Tranc_Year&#x27;,\n",
       "                                  &#x27;planning_area&#x27;, &#x27;bus_interchange&#x27;,\n",
       "                                  &#x27;mrt_interchange&#x27;])])</pre></div></div></div><div class=\"sk-parallel\"><div class=\"sk-parallel-item\"><div class=\"sk-item\"><div class=\"sk-label-container\"><div class=\"sk-label sk-toggleable\"><input class=\"sk-toggleable__control sk-hidden--visually\" id=\"sk-estimator-id-53\" type=\"checkbox\" ><label for=\"sk-estimator-id-53\" class=\"sk-toggleable__label sk-toggleable__label-arrow\">num</label><div class=\"sk-toggleable__content\"><pre>[&#x27;floor_area_sqm&#x27;, &#x27;mid&#x27;, &#x27;hdb_age&#x27;, &#x27;max_floor_lvl&#x27;, &#x27;Mall_Nearest_Distance&#x27;, &#x27;Hawker_Nearest_Distance&#x27;, &#x27;mrt_nearest_distance&#x27;, &#x27;cutoff_point&#x27;]</pre></div></div></div><div class=\"sk-serial\"><div class=\"sk-item\"><div class=\"sk-serial\"><div class=\"sk-item\"><div class=\"sk-estimator sk-toggleable\"><input class=\"sk-toggleable__control sk-hidden--visually\" id=\"sk-estimator-id-54\" type=\"checkbox\" ><label for=\"sk-estimator-id-54\" class=\"sk-toggleable__label sk-toggleable__label-arrow\">SimpleImputer</label><div class=\"sk-toggleable__content\"><pre>SimpleImputer()</pre></div></div></div><div class=\"sk-item\"><div class=\"sk-estimator sk-toggleable\"><input class=\"sk-toggleable__control sk-hidden--visually\" id=\"sk-estimator-id-55\" type=\"checkbox\" ><label for=\"sk-estimator-id-55\" class=\"sk-toggleable__label sk-toggleable__label-arrow\">StandardScaler</label><div class=\"sk-toggleable__content\"><pre>StandardScaler()</pre></div></div></div></div></div></div></div></div><div class=\"sk-parallel-item\"><div class=\"sk-item\"><div class=\"sk-label-container\"><div class=\"sk-label sk-toggleable\"><input class=\"sk-toggleable__control sk-hidden--visually\" id=\"sk-estimator-id-56\" type=\"checkbox\" ><label for=\"sk-estimator-id-56\" class=\"sk-toggleable__label sk-toggleable__label-arrow\">cat</label><div class=\"sk-toggleable__content\"><pre>[&#x27;flat_type&#x27;, &#x27;flat_model&#x27;, &#x27;Tranc_Year&#x27;, &#x27;planning_area&#x27;, &#x27;bus_interchange&#x27;, &#x27;mrt_interchange&#x27;]</pre></div></div></div><div class=\"sk-serial\"><div class=\"sk-item\"><div class=\"sk-serial\"><div class=\"sk-item\"><div class=\"sk-estimator sk-toggleable\"><input class=\"sk-toggleable__control sk-hidden--visually\" id=\"sk-estimator-id-57\" type=\"checkbox\" ><label for=\"sk-estimator-id-57\" class=\"sk-toggleable__label sk-toggleable__label-arrow\">OneHotEncoder</label><div class=\"sk-toggleable__content\"><pre>OneHotEncoder(drop=&#x27;first&#x27;, handle_unknown=&#x27;ignore&#x27;)</pre></div></div></div></div></div></div></div></div></div></div><div class=\"sk-item\"><div class=\"sk-estimator sk-toggleable\"><input class=\"sk-toggleable__control sk-hidden--visually\" id=\"sk-estimator-id-58\" type=\"checkbox\" ><label for=\"sk-estimator-id-58\" class=\"sk-toggleable__label sk-toggleable__label-arrow\">ElasticNet</label><div class=\"sk-toggleable__content\"><pre>ElasticNet()</pre></div></div></div></div></div></div></div>"
      ],
      "text/plain": [
       "Pipeline(steps=[('preprocessor',\n",
       "                 ColumnTransformer(transformers=[('num',\n",
       "                                                  Pipeline(steps=[('simple '\n",
       "                                                                   'impute',\n",
       "                                                                   SimpleImputer()),\n",
       "                                                                  ('scaler',\n",
       "                                                                   StandardScaler())]),\n",
       "                                                  ['floor_area_sqm', 'mid',\n",
       "                                                   'hdb_age', 'max_floor_lvl',\n",
       "                                                   'Mall_Nearest_Distance',\n",
       "                                                   'Hawker_Nearest_Distance',\n",
       "                                                   'mrt_nearest_distance',\n",
       "                                                   'cutoff_point']),\n",
       "                                                 ('cat',\n",
       "                                                  Pipeline(steps=[('encoder',\n",
       "                                                                   OneHotEncoder(drop='first',\n",
       "                                                                                 handle_unknown='ignore'))]),\n",
       "                                                  ['flat_type', 'flat_model',\n",
       "                                                   'Tranc_Year',\n",
       "                                                   'planning_area',\n",
       "                                                   'bus_interchange',\n",
       "                                                   'mrt_interchange'])])),\n",
       "                ('ENet', ElasticNet())])"
      ]
     },
     "execution_count": 52,
     "metadata": {},
     "output_type": "execute_result"
    }
   ],
   "source": [
    "e_net.fit(X_train, y_train)"
   ]
  },
  {
   "cell_type": "code",
   "execution_count": 53,
   "id": "2fb5250b-4b8d-438e-bf93-a3dd1c2ddd9c",
   "metadata": {},
   "outputs": [
    {
     "name": "stdout",
     "output_type": "stream",
     "text": [
      "The train score is: 0.665517\n",
      "The test score is: 0.665156\n"
     ]
    }
   ],
   "source": [
    "print(f\"The train score is: {round(e_net.score(X_train, y_train), 6)}\")\n",
    "print(f\"The test score is: {round(e_net.score(X_test, y_test), 6)}\")"
   ]
  },
  {
   "cell_type": "markdown",
   "id": "68fae39c-af0c-44d8-a00f-f885662df90e",
   "metadata": {},
   "source": [
    "Wow! That is a huge drop in performance!  \n",
    "Maybe do a grid sreach CV to tune the hyperparameters."
   ]
  },
  {
   "cell_type": "code",
   "execution_count": 54,
   "id": "d091402a-b37c-46ea-ad5f-a9b2352a6ebd",
   "metadata": {},
   "outputs": [],
   "source": [
    "enet_CV = Pipeline(\n",
    "    steps=[(\"preprocessor\", preprocessor), (\"Ridge CV\", ElasticNetCV(l1_ratio=[.1, .3 , .5, .7, .9], \n",
    "                                                                     max_iter=10000, #when l1 ratio is 0.9, it is close to a lasso, which takes a long time to run\n",
    "                                                                     cv=5\n",
    "                                                                    ))]\n",
    ")"
   ]
  },
  {
   "cell_type": "code",
   "execution_count": 55,
   "id": "056d543f-54df-4947-b26b-790c582a2238",
   "metadata": {},
   "outputs": [
    {
     "data": {
      "text/html": [
       "<style>#sk-container-id-8 {color: black;background-color: white;}#sk-container-id-8 pre{padding: 0;}#sk-container-id-8 div.sk-toggleable {background-color: white;}#sk-container-id-8 label.sk-toggleable__label {cursor: pointer;display: block;width: 100%;margin-bottom: 0;padding: 0.3em;box-sizing: border-box;text-align: center;}#sk-container-id-8 label.sk-toggleable__label-arrow:before {content: \"▸\";float: left;margin-right: 0.25em;color: #696969;}#sk-container-id-8 label.sk-toggleable__label-arrow:hover:before {color: black;}#sk-container-id-8 div.sk-estimator:hover label.sk-toggleable__label-arrow:before {color: black;}#sk-container-id-8 div.sk-toggleable__content {max-height: 0;max-width: 0;overflow: hidden;text-align: left;background-color: #f0f8ff;}#sk-container-id-8 div.sk-toggleable__content pre {margin: 0.2em;color: black;border-radius: 0.25em;background-color: #f0f8ff;}#sk-container-id-8 input.sk-toggleable__control:checked~div.sk-toggleable__content {max-height: 200px;max-width: 100%;overflow: auto;}#sk-container-id-8 input.sk-toggleable__control:checked~label.sk-toggleable__label-arrow:before {content: \"▾\";}#sk-container-id-8 div.sk-estimator input.sk-toggleable__control:checked~label.sk-toggleable__label {background-color: #d4ebff;}#sk-container-id-8 div.sk-label input.sk-toggleable__control:checked~label.sk-toggleable__label {background-color: #d4ebff;}#sk-container-id-8 input.sk-hidden--visually {border: 0;clip: rect(1px 1px 1px 1px);clip: rect(1px, 1px, 1px, 1px);height: 1px;margin: -1px;overflow: hidden;padding: 0;position: absolute;width: 1px;}#sk-container-id-8 div.sk-estimator {font-family: monospace;background-color: #f0f8ff;border: 1px dotted black;border-radius: 0.25em;box-sizing: border-box;margin-bottom: 0.5em;}#sk-container-id-8 div.sk-estimator:hover {background-color: #d4ebff;}#sk-container-id-8 div.sk-parallel-item::after {content: \"\";width: 100%;border-bottom: 1px solid gray;flex-grow: 1;}#sk-container-id-8 div.sk-label:hover label.sk-toggleable__label {background-color: #d4ebff;}#sk-container-id-8 div.sk-serial::before {content: \"\";position: absolute;border-left: 1px solid gray;box-sizing: border-box;top: 0;bottom: 0;left: 50%;z-index: 0;}#sk-container-id-8 div.sk-serial {display: flex;flex-direction: column;align-items: center;background-color: white;padding-right: 0.2em;padding-left: 0.2em;position: relative;}#sk-container-id-8 div.sk-item {position: relative;z-index: 1;}#sk-container-id-8 div.sk-parallel {display: flex;align-items: stretch;justify-content: center;background-color: white;position: relative;}#sk-container-id-8 div.sk-item::before, #sk-container-id-8 div.sk-parallel-item::before {content: \"\";position: absolute;border-left: 1px solid gray;box-sizing: border-box;top: 0;bottom: 0;left: 50%;z-index: -1;}#sk-container-id-8 div.sk-parallel-item {display: flex;flex-direction: column;z-index: 1;position: relative;background-color: white;}#sk-container-id-8 div.sk-parallel-item:first-child::after {align-self: flex-end;width: 50%;}#sk-container-id-8 div.sk-parallel-item:last-child::after {align-self: flex-start;width: 50%;}#sk-container-id-8 div.sk-parallel-item:only-child::after {width: 0;}#sk-container-id-8 div.sk-dashed-wrapped {border: 1px dashed gray;margin: 0 0.4em 0.5em 0.4em;box-sizing: border-box;padding-bottom: 0.4em;background-color: white;}#sk-container-id-8 div.sk-label label {font-family: monospace;font-weight: bold;display: inline-block;line-height: 1.2em;}#sk-container-id-8 div.sk-label-container {text-align: center;}#sk-container-id-8 div.sk-container {/* jupyter's `normalize.less` sets `[hidden] { display: none; }` but bootstrap.min.css set `[hidden] { display: none !important; }` so we also need the `!important` here to be able to override the default hidden behavior on the sphinx rendered scikit-learn.org. See: https://github.com/scikit-learn/scikit-learn/issues/21755 */display: inline-block !important;position: relative;}#sk-container-id-8 div.sk-text-repr-fallback {display: none;}</style><div id=\"sk-container-id-8\" class=\"sk-top-container\"><div class=\"sk-text-repr-fallback\"><pre>Pipeline(steps=[(&#x27;preprocessor&#x27;,\n",
       "                 ColumnTransformer(transformers=[(&#x27;num&#x27;,\n",
       "                                                  Pipeline(steps=[(&#x27;simple &#x27;\n",
       "                                                                   &#x27;impute&#x27;,\n",
       "                                                                   SimpleImputer()),\n",
       "                                                                  (&#x27;scaler&#x27;,\n",
       "                                                                   StandardScaler())]),\n",
       "                                                  [&#x27;floor_area_sqm&#x27;, &#x27;mid&#x27;,\n",
       "                                                   &#x27;hdb_age&#x27;, &#x27;max_floor_lvl&#x27;,\n",
       "                                                   &#x27;Mall_Nearest_Distance&#x27;,\n",
       "                                                   &#x27;Hawker_Nearest_Distance&#x27;,\n",
       "                                                   &#x27;mrt_nearest_distance&#x27;,\n",
       "                                                   &#x27;cutoff_point&#x27;]),\n",
       "                                                 (&#x27;cat&#x27;,\n",
       "                                                  Pipeline(steps=[(&#x27;encoder&#x27;,\n",
       "                                                                   OneHotEncoder(drop=&#x27;first&#x27;,\n",
       "                                                                                 handle_unknown=&#x27;ignore&#x27;))]),\n",
       "                                                  [&#x27;flat_type&#x27;, &#x27;flat_model&#x27;,\n",
       "                                                   &#x27;Tranc_Year&#x27;,\n",
       "                                                   &#x27;planning_area&#x27;,\n",
       "                                                   &#x27;bus_interchange&#x27;,\n",
       "                                                   &#x27;mrt_interchange&#x27;])])),\n",
       "                (&#x27;Ridge CV&#x27;,\n",
       "                 ElasticNetCV(cv=5, l1_ratio=[0.1, 0.3, 0.5, 0.7, 0.9],\n",
       "                              max_iter=10000))])</pre><b>In a Jupyter environment, please rerun this cell to show the HTML representation or trust the notebook. <br />On GitHub, the HTML representation is unable to render, please try loading this page with nbviewer.org.</b></div><div class=\"sk-container\" hidden><div class=\"sk-item sk-dashed-wrapped\"><div class=\"sk-label-container\"><div class=\"sk-label sk-toggleable\"><input class=\"sk-toggleable__control sk-hidden--visually\" id=\"sk-estimator-id-59\" type=\"checkbox\" ><label for=\"sk-estimator-id-59\" class=\"sk-toggleable__label sk-toggleable__label-arrow\">Pipeline</label><div class=\"sk-toggleable__content\"><pre>Pipeline(steps=[(&#x27;preprocessor&#x27;,\n",
       "                 ColumnTransformer(transformers=[(&#x27;num&#x27;,\n",
       "                                                  Pipeline(steps=[(&#x27;simple &#x27;\n",
       "                                                                   &#x27;impute&#x27;,\n",
       "                                                                   SimpleImputer()),\n",
       "                                                                  (&#x27;scaler&#x27;,\n",
       "                                                                   StandardScaler())]),\n",
       "                                                  [&#x27;floor_area_sqm&#x27;, &#x27;mid&#x27;,\n",
       "                                                   &#x27;hdb_age&#x27;, &#x27;max_floor_lvl&#x27;,\n",
       "                                                   &#x27;Mall_Nearest_Distance&#x27;,\n",
       "                                                   &#x27;Hawker_Nearest_Distance&#x27;,\n",
       "                                                   &#x27;mrt_nearest_distance&#x27;,\n",
       "                                                   &#x27;cutoff_point&#x27;]),\n",
       "                                                 (&#x27;cat&#x27;,\n",
       "                                                  Pipeline(steps=[(&#x27;encoder&#x27;,\n",
       "                                                                   OneHotEncoder(drop=&#x27;first&#x27;,\n",
       "                                                                                 handle_unknown=&#x27;ignore&#x27;))]),\n",
       "                                                  [&#x27;flat_type&#x27;, &#x27;flat_model&#x27;,\n",
       "                                                   &#x27;Tranc_Year&#x27;,\n",
       "                                                   &#x27;planning_area&#x27;,\n",
       "                                                   &#x27;bus_interchange&#x27;,\n",
       "                                                   &#x27;mrt_interchange&#x27;])])),\n",
       "                (&#x27;Ridge CV&#x27;,\n",
       "                 ElasticNetCV(cv=5, l1_ratio=[0.1, 0.3, 0.5, 0.7, 0.9],\n",
       "                              max_iter=10000))])</pre></div></div></div><div class=\"sk-serial\"><div class=\"sk-item sk-dashed-wrapped\"><div class=\"sk-label-container\"><div class=\"sk-label sk-toggleable\"><input class=\"sk-toggleable__control sk-hidden--visually\" id=\"sk-estimator-id-60\" type=\"checkbox\" ><label for=\"sk-estimator-id-60\" class=\"sk-toggleable__label sk-toggleable__label-arrow\">preprocessor: ColumnTransformer</label><div class=\"sk-toggleable__content\"><pre>ColumnTransformer(transformers=[(&#x27;num&#x27;,\n",
       "                                 Pipeline(steps=[(&#x27;simple impute&#x27;,\n",
       "                                                  SimpleImputer()),\n",
       "                                                 (&#x27;scaler&#x27;, StandardScaler())]),\n",
       "                                 [&#x27;floor_area_sqm&#x27;, &#x27;mid&#x27;, &#x27;hdb_age&#x27;,\n",
       "                                  &#x27;max_floor_lvl&#x27;, &#x27;Mall_Nearest_Distance&#x27;,\n",
       "                                  &#x27;Hawker_Nearest_Distance&#x27;,\n",
       "                                  &#x27;mrt_nearest_distance&#x27;, &#x27;cutoff_point&#x27;]),\n",
       "                                (&#x27;cat&#x27;,\n",
       "                                 Pipeline(steps=[(&#x27;encoder&#x27;,\n",
       "                                                  OneHotEncoder(drop=&#x27;first&#x27;,\n",
       "                                                                handle_unknown=&#x27;ignore&#x27;))]),\n",
       "                                 [&#x27;flat_type&#x27;, &#x27;flat_model&#x27;, &#x27;Tranc_Year&#x27;,\n",
       "                                  &#x27;planning_area&#x27;, &#x27;bus_interchange&#x27;,\n",
       "                                  &#x27;mrt_interchange&#x27;])])</pre></div></div></div><div class=\"sk-parallel\"><div class=\"sk-parallel-item\"><div class=\"sk-item\"><div class=\"sk-label-container\"><div class=\"sk-label sk-toggleable\"><input class=\"sk-toggleable__control sk-hidden--visually\" id=\"sk-estimator-id-61\" type=\"checkbox\" ><label for=\"sk-estimator-id-61\" class=\"sk-toggleable__label sk-toggleable__label-arrow\">num</label><div class=\"sk-toggleable__content\"><pre>[&#x27;floor_area_sqm&#x27;, &#x27;mid&#x27;, &#x27;hdb_age&#x27;, &#x27;max_floor_lvl&#x27;, &#x27;Mall_Nearest_Distance&#x27;, &#x27;Hawker_Nearest_Distance&#x27;, &#x27;mrt_nearest_distance&#x27;, &#x27;cutoff_point&#x27;]</pre></div></div></div><div class=\"sk-serial\"><div class=\"sk-item\"><div class=\"sk-serial\"><div class=\"sk-item\"><div class=\"sk-estimator sk-toggleable\"><input class=\"sk-toggleable__control sk-hidden--visually\" id=\"sk-estimator-id-62\" type=\"checkbox\" ><label for=\"sk-estimator-id-62\" class=\"sk-toggleable__label sk-toggleable__label-arrow\">SimpleImputer</label><div class=\"sk-toggleable__content\"><pre>SimpleImputer()</pre></div></div></div><div class=\"sk-item\"><div class=\"sk-estimator sk-toggleable\"><input class=\"sk-toggleable__control sk-hidden--visually\" id=\"sk-estimator-id-63\" type=\"checkbox\" ><label for=\"sk-estimator-id-63\" class=\"sk-toggleable__label sk-toggleable__label-arrow\">StandardScaler</label><div class=\"sk-toggleable__content\"><pre>StandardScaler()</pre></div></div></div></div></div></div></div></div><div class=\"sk-parallel-item\"><div class=\"sk-item\"><div class=\"sk-label-container\"><div class=\"sk-label sk-toggleable\"><input class=\"sk-toggleable__control sk-hidden--visually\" id=\"sk-estimator-id-64\" type=\"checkbox\" ><label for=\"sk-estimator-id-64\" class=\"sk-toggleable__label sk-toggleable__label-arrow\">cat</label><div class=\"sk-toggleable__content\"><pre>[&#x27;flat_type&#x27;, &#x27;flat_model&#x27;, &#x27;Tranc_Year&#x27;, &#x27;planning_area&#x27;, &#x27;bus_interchange&#x27;, &#x27;mrt_interchange&#x27;]</pre></div></div></div><div class=\"sk-serial\"><div class=\"sk-item\"><div class=\"sk-serial\"><div class=\"sk-item\"><div class=\"sk-estimator sk-toggleable\"><input class=\"sk-toggleable__control sk-hidden--visually\" id=\"sk-estimator-id-65\" type=\"checkbox\" ><label for=\"sk-estimator-id-65\" class=\"sk-toggleable__label sk-toggleable__label-arrow\">OneHotEncoder</label><div class=\"sk-toggleable__content\"><pre>OneHotEncoder(drop=&#x27;first&#x27;, handle_unknown=&#x27;ignore&#x27;)</pre></div></div></div></div></div></div></div></div></div></div><div class=\"sk-item\"><div class=\"sk-estimator sk-toggleable\"><input class=\"sk-toggleable__control sk-hidden--visually\" id=\"sk-estimator-id-66\" type=\"checkbox\" ><label for=\"sk-estimator-id-66\" class=\"sk-toggleable__label sk-toggleable__label-arrow\">ElasticNetCV</label><div class=\"sk-toggleable__content\"><pre>ElasticNetCV(cv=5, l1_ratio=[0.1, 0.3, 0.5, 0.7, 0.9], max_iter=10000)</pre></div></div></div></div></div></div></div>"
      ],
      "text/plain": [
       "Pipeline(steps=[('preprocessor',\n",
       "                 ColumnTransformer(transformers=[('num',\n",
       "                                                  Pipeline(steps=[('simple '\n",
       "                                                                   'impute',\n",
       "                                                                   SimpleImputer()),\n",
       "                                                                  ('scaler',\n",
       "                                                                   StandardScaler())]),\n",
       "                                                  ['floor_area_sqm', 'mid',\n",
       "                                                   'hdb_age', 'max_floor_lvl',\n",
       "                                                   'Mall_Nearest_Distance',\n",
       "                                                   'Hawker_Nearest_Distance',\n",
       "                                                   'mrt_nearest_distance',\n",
       "                                                   'cutoff_point']),\n",
       "                                                 ('cat',\n",
       "                                                  Pipeline(steps=[('encoder',\n",
       "                                                                   OneHotEncoder(drop='first',\n",
       "                                                                                 handle_unknown='ignore'))]),\n",
       "                                                  ['flat_type', 'flat_model',\n",
       "                                                   'Tranc_Year',\n",
       "                                                   'planning_area',\n",
       "                                                   'bus_interchange',\n",
       "                                                   'mrt_interchange'])])),\n",
       "                ('Ridge CV',\n",
       "                 ElasticNetCV(cv=5, l1_ratio=[0.1, 0.3, 0.5, 0.7, 0.9],\n",
       "                              max_iter=10000))])"
      ]
     },
     "execution_count": 55,
     "metadata": {},
     "output_type": "execute_result"
    }
   ],
   "source": [
    "enet_CV.fit(X_train, y_train)"
   ]
  },
  {
   "cell_type": "code",
   "execution_count": 56,
   "id": "8ec01cbf-7700-4905-9c61-e87322a5c7f7",
   "metadata": {},
   "outputs": [
    {
     "name": "stdout",
     "output_type": "stream",
     "text": [
      "The train score is: 0.160196\n",
      "The test score is: 0.160537\n"
     ]
    }
   ],
   "source": [
    "print(f\"The train score is: {round(enet_CV.score(X_train, y_train), 6)}\")\n",
    "print(f\"The test score is: {round(enet_CV.score(X_test, y_test), 6)}\")"
   ]
  },
  {
   "cell_type": "markdown",
   "id": "3aa7711c-f0b9-40ef-8f11-b243205514c6",
   "metadata": {},
   "source": [
    "Wow, this is a surprisingly low socre...  \n",
    "What about grid search CV?"
   ]
  },
  {
   "cell_type": "code",
   "execution_count": 57,
   "id": "e30e88b6-49d1-42d6-a06f-b1ec53d490c0",
   "metadata": {},
   "outputs": [],
   "source": [
    "# Perform grid search using GridSearchCV()\n",
    "enet_grid_search = GridSearchCV(ElasticNet(max_iter=10000),\n",
    "                           param_grid={'alpha': [0.1, 1, 10],\n",
    "                                       'l1_ratio':[0.1, 0.3, 0.5, 0.7, 0.9],\n",
    "                                       'selection': ['cyclic', 'random'],\n",
    "                                      },\n",
    "                           cv=5,\n",
    "                           verbose = 1,\n",
    "                           return_train_score=True\n",
    "                           )\n",
    "\n",
    "enet_grid_search_CV = Pipeline(\n",
    "    steps=[(\"preprocessor\", preprocessor), (\"Lasso Grid Search\", enet_grid_search)]\n",
    ") "
   ]
  },
  {
   "cell_type": "code",
   "execution_count": 58,
   "id": "ab14173c-8075-42a6-822d-c5570ab96494",
   "metadata": {},
   "outputs": [
    {
     "name": "stdout",
     "output_type": "stream",
     "text": [
      "Fitting 5 folds for each of 30 candidates, totalling 150 fits\n"
     ]
    },
    {
     "data": {
      "text/html": [
       "<style>#sk-container-id-9 {color: black;background-color: white;}#sk-container-id-9 pre{padding: 0;}#sk-container-id-9 div.sk-toggleable {background-color: white;}#sk-container-id-9 label.sk-toggleable__label {cursor: pointer;display: block;width: 100%;margin-bottom: 0;padding: 0.3em;box-sizing: border-box;text-align: center;}#sk-container-id-9 label.sk-toggleable__label-arrow:before {content: \"▸\";float: left;margin-right: 0.25em;color: #696969;}#sk-container-id-9 label.sk-toggleable__label-arrow:hover:before {color: black;}#sk-container-id-9 div.sk-estimator:hover label.sk-toggleable__label-arrow:before {color: black;}#sk-container-id-9 div.sk-toggleable__content {max-height: 0;max-width: 0;overflow: hidden;text-align: left;background-color: #f0f8ff;}#sk-container-id-9 div.sk-toggleable__content pre {margin: 0.2em;color: black;border-radius: 0.25em;background-color: #f0f8ff;}#sk-container-id-9 input.sk-toggleable__control:checked~div.sk-toggleable__content {max-height: 200px;max-width: 100%;overflow: auto;}#sk-container-id-9 input.sk-toggleable__control:checked~label.sk-toggleable__label-arrow:before {content: \"▾\";}#sk-container-id-9 div.sk-estimator input.sk-toggleable__control:checked~label.sk-toggleable__label {background-color: #d4ebff;}#sk-container-id-9 div.sk-label input.sk-toggleable__control:checked~label.sk-toggleable__label {background-color: #d4ebff;}#sk-container-id-9 input.sk-hidden--visually {border: 0;clip: rect(1px 1px 1px 1px);clip: rect(1px, 1px, 1px, 1px);height: 1px;margin: -1px;overflow: hidden;padding: 0;position: absolute;width: 1px;}#sk-container-id-9 div.sk-estimator {font-family: monospace;background-color: #f0f8ff;border: 1px dotted black;border-radius: 0.25em;box-sizing: border-box;margin-bottom: 0.5em;}#sk-container-id-9 div.sk-estimator:hover {background-color: #d4ebff;}#sk-container-id-9 div.sk-parallel-item::after {content: \"\";width: 100%;border-bottom: 1px solid gray;flex-grow: 1;}#sk-container-id-9 div.sk-label:hover label.sk-toggleable__label {background-color: #d4ebff;}#sk-container-id-9 div.sk-serial::before {content: \"\";position: absolute;border-left: 1px solid gray;box-sizing: border-box;top: 0;bottom: 0;left: 50%;z-index: 0;}#sk-container-id-9 div.sk-serial {display: flex;flex-direction: column;align-items: center;background-color: white;padding-right: 0.2em;padding-left: 0.2em;position: relative;}#sk-container-id-9 div.sk-item {position: relative;z-index: 1;}#sk-container-id-9 div.sk-parallel {display: flex;align-items: stretch;justify-content: center;background-color: white;position: relative;}#sk-container-id-9 div.sk-item::before, #sk-container-id-9 div.sk-parallel-item::before {content: \"\";position: absolute;border-left: 1px solid gray;box-sizing: border-box;top: 0;bottom: 0;left: 50%;z-index: -1;}#sk-container-id-9 div.sk-parallel-item {display: flex;flex-direction: column;z-index: 1;position: relative;background-color: white;}#sk-container-id-9 div.sk-parallel-item:first-child::after {align-self: flex-end;width: 50%;}#sk-container-id-9 div.sk-parallel-item:last-child::after {align-self: flex-start;width: 50%;}#sk-container-id-9 div.sk-parallel-item:only-child::after {width: 0;}#sk-container-id-9 div.sk-dashed-wrapped {border: 1px dashed gray;margin: 0 0.4em 0.5em 0.4em;box-sizing: border-box;padding-bottom: 0.4em;background-color: white;}#sk-container-id-9 div.sk-label label {font-family: monospace;font-weight: bold;display: inline-block;line-height: 1.2em;}#sk-container-id-9 div.sk-label-container {text-align: center;}#sk-container-id-9 div.sk-container {/* jupyter's `normalize.less` sets `[hidden] { display: none; }` but bootstrap.min.css set `[hidden] { display: none !important; }` so we also need the `!important` here to be able to override the default hidden behavior on the sphinx rendered scikit-learn.org. See: https://github.com/scikit-learn/scikit-learn/issues/21755 */display: inline-block !important;position: relative;}#sk-container-id-9 div.sk-text-repr-fallback {display: none;}</style><div id=\"sk-container-id-9\" class=\"sk-top-container\"><div class=\"sk-text-repr-fallback\"><pre>Pipeline(steps=[(&#x27;preprocessor&#x27;,\n",
       "                 ColumnTransformer(transformers=[(&#x27;num&#x27;,\n",
       "                                                  Pipeline(steps=[(&#x27;simple &#x27;\n",
       "                                                                   &#x27;impute&#x27;,\n",
       "                                                                   SimpleImputer()),\n",
       "                                                                  (&#x27;scaler&#x27;,\n",
       "                                                                   StandardScaler())]),\n",
       "                                                  [&#x27;floor_area_sqm&#x27;, &#x27;mid&#x27;,\n",
       "                                                   &#x27;hdb_age&#x27;, &#x27;max_floor_lvl&#x27;,\n",
       "                                                   &#x27;Mall_Nearest_Distance&#x27;,\n",
       "                                                   &#x27;Hawker_Nearest_Distance&#x27;,\n",
       "                                                   &#x27;mrt_nearest_distance&#x27;,\n",
       "                                                   &#x27;cutoff_point&#x27;]),\n",
       "                                                 (&#x27;cat&#x27;,\n",
       "                                                  Pipeline(steps=[(&#x27;encoder&#x27;,\n",
       "                                                                   OneHotEncoder(drop=&#x27;first&#x27;,\n",
       "                                                                                 handle_unknown=&#x27;ignore&#x27;))]),\n",
       "                                                  [&#x27;flat_type&#x27;, &#x27;flat_model&#x27;,\n",
       "                                                   &#x27;Tranc_Year&#x27;,\n",
       "                                                   &#x27;planning_area&#x27;,\n",
       "                                                   &#x27;bus_interchange&#x27;,\n",
       "                                                   &#x27;mrt_interchange&#x27;])])),\n",
       "                (&#x27;Lasso Grid Search&#x27;,\n",
       "                 GridSearchCV(cv=5, estimator=ElasticNet(max_iter=10000),\n",
       "                              param_grid={&#x27;alpha&#x27;: [0.1, 1, 10],\n",
       "                                          &#x27;l1_ratio&#x27;: [0.1, 0.3, 0.5, 0.7, 0.9],\n",
       "                                          &#x27;selection&#x27;: [&#x27;cyclic&#x27;, &#x27;random&#x27;]},\n",
       "                              return_train_score=True, verbose=1))])</pre><b>In a Jupyter environment, please rerun this cell to show the HTML representation or trust the notebook. <br />On GitHub, the HTML representation is unable to render, please try loading this page with nbviewer.org.</b></div><div class=\"sk-container\" hidden><div class=\"sk-item sk-dashed-wrapped\"><div class=\"sk-label-container\"><div class=\"sk-label sk-toggleable\"><input class=\"sk-toggleable__control sk-hidden--visually\" id=\"sk-estimator-id-67\" type=\"checkbox\" ><label for=\"sk-estimator-id-67\" class=\"sk-toggleable__label sk-toggleable__label-arrow\">Pipeline</label><div class=\"sk-toggleable__content\"><pre>Pipeline(steps=[(&#x27;preprocessor&#x27;,\n",
       "                 ColumnTransformer(transformers=[(&#x27;num&#x27;,\n",
       "                                                  Pipeline(steps=[(&#x27;simple &#x27;\n",
       "                                                                   &#x27;impute&#x27;,\n",
       "                                                                   SimpleImputer()),\n",
       "                                                                  (&#x27;scaler&#x27;,\n",
       "                                                                   StandardScaler())]),\n",
       "                                                  [&#x27;floor_area_sqm&#x27;, &#x27;mid&#x27;,\n",
       "                                                   &#x27;hdb_age&#x27;, &#x27;max_floor_lvl&#x27;,\n",
       "                                                   &#x27;Mall_Nearest_Distance&#x27;,\n",
       "                                                   &#x27;Hawker_Nearest_Distance&#x27;,\n",
       "                                                   &#x27;mrt_nearest_distance&#x27;,\n",
       "                                                   &#x27;cutoff_point&#x27;]),\n",
       "                                                 (&#x27;cat&#x27;,\n",
       "                                                  Pipeline(steps=[(&#x27;encoder&#x27;,\n",
       "                                                                   OneHotEncoder(drop=&#x27;first&#x27;,\n",
       "                                                                                 handle_unknown=&#x27;ignore&#x27;))]),\n",
       "                                                  [&#x27;flat_type&#x27;, &#x27;flat_model&#x27;,\n",
       "                                                   &#x27;Tranc_Year&#x27;,\n",
       "                                                   &#x27;planning_area&#x27;,\n",
       "                                                   &#x27;bus_interchange&#x27;,\n",
       "                                                   &#x27;mrt_interchange&#x27;])])),\n",
       "                (&#x27;Lasso Grid Search&#x27;,\n",
       "                 GridSearchCV(cv=5, estimator=ElasticNet(max_iter=10000),\n",
       "                              param_grid={&#x27;alpha&#x27;: [0.1, 1, 10],\n",
       "                                          &#x27;l1_ratio&#x27;: [0.1, 0.3, 0.5, 0.7, 0.9],\n",
       "                                          &#x27;selection&#x27;: [&#x27;cyclic&#x27;, &#x27;random&#x27;]},\n",
       "                              return_train_score=True, verbose=1))])</pre></div></div></div><div class=\"sk-serial\"><div class=\"sk-item sk-dashed-wrapped\"><div class=\"sk-label-container\"><div class=\"sk-label sk-toggleable\"><input class=\"sk-toggleable__control sk-hidden--visually\" id=\"sk-estimator-id-68\" type=\"checkbox\" ><label for=\"sk-estimator-id-68\" class=\"sk-toggleable__label sk-toggleable__label-arrow\">preprocessor: ColumnTransformer</label><div class=\"sk-toggleable__content\"><pre>ColumnTransformer(transformers=[(&#x27;num&#x27;,\n",
       "                                 Pipeline(steps=[(&#x27;simple impute&#x27;,\n",
       "                                                  SimpleImputer()),\n",
       "                                                 (&#x27;scaler&#x27;, StandardScaler())]),\n",
       "                                 [&#x27;floor_area_sqm&#x27;, &#x27;mid&#x27;, &#x27;hdb_age&#x27;,\n",
       "                                  &#x27;max_floor_lvl&#x27;, &#x27;Mall_Nearest_Distance&#x27;,\n",
       "                                  &#x27;Hawker_Nearest_Distance&#x27;,\n",
       "                                  &#x27;mrt_nearest_distance&#x27;, &#x27;cutoff_point&#x27;]),\n",
       "                                (&#x27;cat&#x27;,\n",
       "                                 Pipeline(steps=[(&#x27;encoder&#x27;,\n",
       "                                                  OneHotEncoder(drop=&#x27;first&#x27;,\n",
       "                                                                handle_unknown=&#x27;ignore&#x27;))]),\n",
       "                                 [&#x27;flat_type&#x27;, &#x27;flat_model&#x27;, &#x27;Tranc_Year&#x27;,\n",
       "                                  &#x27;planning_area&#x27;, &#x27;bus_interchange&#x27;,\n",
       "                                  &#x27;mrt_interchange&#x27;])])</pre></div></div></div><div class=\"sk-parallel\"><div class=\"sk-parallel-item\"><div class=\"sk-item\"><div class=\"sk-label-container\"><div class=\"sk-label sk-toggleable\"><input class=\"sk-toggleable__control sk-hidden--visually\" id=\"sk-estimator-id-69\" type=\"checkbox\" ><label for=\"sk-estimator-id-69\" class=\"sk-toggleable__label sk-toggleable__label-arrow\">num</label><div class=\"sk-toggleable__content\"><pre>[&#x27;floor_area_sqm&#x27;, &#x27;mid&#x27;, &#x27;hdb_age&#x27;, &#x27;max_floor_lvl&#x27;, &#x27;Mall_Nearest_Distance&#x27;, &#x27;Hawker_Nearest_Distance&#x27;, &#x27;mrt_nearest_distance&#x27;, &#x27;cutoff_point&#x27;]</pre></div></div></div><div class=\"sk-serial\"><div class=\"sk-item\"><div class=\"sk-serial\"><div class=\"sk-item\"><div class=\"sk-estimator sk-toggleable\"><input class=\"sk-toggleable__control sk-hidden--visually\" id=\"sk-estimator-id-70\" type=\"checkbox\" ><label for=\"sk-estimator-id-70\" class=\"sk-toggleable__label sk-toggleable__label-arrow\">SimpleImputer</label><div class=\"sk-toggleable__content\"><pre>SimpleImputer()</pre></div></div></div><div class=\"sk-item\"><div class=\"sk-estimator sk-toggleable\"><input class=\"sk-toggleable__control sk-hidden--visually\" id=\"sk-estimator-id-71\" type=\"checkbox\" ><label for=\"sk-estimator-id-71\" class=\"sk-toggleable__label sk-toggleable__label-arrow\">StandardScaler</label><div class=\"sk-toggleable__content\"><pre>StandardScaler()</pre></div></div></div></div></div></div></div></div><div class=\"sk-parallel-item\"><div class=\"sk-item\"><div class=\"sk-label-container\"><div class=\"sk-label sk-toggleable\"><input class=\"sk-toggleable__control sk-hidden--visually\" id=\"sk-estimator-id-72\" type=\"checkbox\" ><label for=\"sk-estimator-id-72\" class=\"sk-toggleable__label sk-toggleable__label-arrow\">cat</label><div class=\"sk-toggleable__content\"><pre>[&#x27;flat_type&#x27;, &#x27;flat_model&#x27;, &#x27;Tranc_Year&#x27;, &#x27;planning_area&#x27;, &#x27;bus_interchange&#x27;, &#x27;mrt_interchange&#x27;]</pre></div></div></div><div class=\"sk-serial\"><div class=\"sk-item\"><div class=\"sk-serial\"><div class=\"sk-item\"><div class=\"sk-estimator sk-toggleable\"><input class=\"sk-toggleable__control sk-hidden--visually\" id=\"sk-estimator-id-73\" type=\"checkbox\" ><label for=\"sk-estimator-id-73\" class=\"sk-toggleable__label sk-toggleable__label-arrow\">OneHotEncoder</label><div class=\"sk-toggleable__content\"><pre>OneHotEncoder(drop=&#x27;first&#x27;, handle_unknown=&#x27;ignore&#x27;)</pre></div></div></div></div></div></div></div></div></div></div><div class=\"sk-item sk-dashed-wrapped\"><div class=\"sk-label-container\"><div class=\"sk-label sk-toggleable\"><input class=\"sk-toggleable__control sk-hidden--visually\" id=\"sk-estimator-id-74\" type=\"checkbox\" ><label for=\"sk-estimator-id-74\" class=\"sk-toggleable__label sk-toggleable__label-arrow\">Lasso Grid Search: GridSearchCV</label><div class=\"sk-toggleable__content\"><pre>GridSearchCV(cv=5, estimator=ElasticNet(max_iter=10000),\n",
       "             param_grid={&#x27;alpha&#x27;: [0.1, 1, 10],\n",
       "                         &#x27;l1_ratio&#x27;: [0.1, 0.3, 0.5, 0.7, 0.9],\n",
       "                         &#x27;selection&#x27;: [&#x27;cyclic&#x27;, &#x27;random&#x27;]},\n",
       "             return_train_score=True, verbose=1)</pre></div></div></div><div class=\"sk-parallel\"><div class=\"sk-parallel-item\"><div class=\"sk-item\"><div class=\"sk-label-container\"><div class=\"sk-label sk-toggleable\"><input class=\"sk-toggleable__control sk-hidden--visually\" id=\"sk-estimator-id-75\" type=\"checkbox\" ><label for=\"sk-estimator-id-75\" class=\"sk-toggleable__label sk-toggleable__label-arrow\">estimator: ElasticNet</label><div class=\"sk-toggleable__content\"><pre>ElasticNet(max_iter=10000)</pre></div></div></div><div class=\"sk-serial\"><div class=\"sk-item\"><div class=\"sk-estimator sk-toggleable\"><input class=\"sk-toggleable__control sk-hidden--visually\" id=\"sk-estimator-id-76\" type=\"checkbox\" ><label for=\"sk-estimator-id-76\" class=\"sk-toggleable__label sk-toggleable__label-arrow\">ElasticNet</label><div class=\"sk-toggleable__content\"><pre>ElasticNet(max_iter=10000)</pre></div></div></div></div></div></div></div></div></div></div></div></div>"
      ],
      "text/plain": [
       "Pipeline(steps=[('preprocessor',\n",
       "                 ColumnTransformer(transformers=[('num',\n",
       "                                                  Pipeline(steps=[('simple '\n",
       "                                                                   'impute',\n",
       "                                                                   SimpleImputer()),\n",
       "                                                                  ('scaler',\n",
       "                                                                   StandardScaler())]),\n",
       "                                                  ['floor_area_sqm', 'mid',\n",
       "                                                   'hdb_age', 'max_floor_lvl',\n",
       "                                                   'Mall_Nearest_Distance',\n",
       "                                                   'Hawker_Nearest_Distance',\n",
       "                                                   'mrt_nearest_distance',\n",
       "                                                   'cutoff_point']),\n",
       "                                                 ('cat',\n",
       "                                                  Pipeline(steps=[('encoder',\n",
       "                                                                   OneHotEncoder(drop='first',\n",
       "                                                                                 handle_unknown='ignore'))]),\n",
       "                                                  ['flat_type', 'flat_model',\n",
       "                                                   'Tranc_Year',\n",
       "                                                   'planning_area',\n",
       "                                                   'bus_interchange',\n",
       "                                                   'mrt_interchange'])])),\n",
       "                ('Lasso Grid Search',\n",
       "                 GridSearchCV(cv=5, estimator=ElasticNet(max_iter=10000),\n",
       "                              param_grid={'alpha': [0.1, 1, 10],\n",
       "                                          'l1_ratio': [0.1, 0.3, 0.5, 0.7, 0.9],\n",
       "                                          'selection': ['cyclic', 'random']},\n",
       "                              return_train_score=True, verbose=1))])"
      ]
     },
     "execution_count": 58,
     "metadata": {},
     "output_type": "execute_result"
    }
   ],
   "source": [
    "enet_grid_search_CV.fit(X_train, y_train)"
   ]
  },
  {
   "cell_type": "code",
   "execution_count": 59,
   "id": "e2e55921-b51b-402d-a291-6aae1bf07c2e",
   "metadata": {},
   "outputs": [
    {
     "data": {
      "text/plain": [
       "0.8630536371629208"
      ]
     },
     "execution_count": 59,
     "metadata": {},
     "output_type": "execute_result"
    }
   ],
   "source": [
    "enet_grid_search_CV[1].best_score_"
   ]
  },
  {
   "cell_type": "code",
   "execution_count": 60,
   "id": "bada391b-4787-4b67-aef2-83cec39cc14d",
   "metadata": {},
   "outputs": [
    {
     "data": {
      "text/html": [
       "<div>\n",
       "<style scoped>\n",
       "    .dataframe tbody tr th:only-of-type {\n",
       "        vertical-align: middle;\n",
       "    }\n",
       "\n",
       "    .dataframe tbody tr th {\n",
       "        vertical-align: top;\n",
       "    }\n",
       "\n",
       "    .dataframe thead th {\n",
       "        text-align: right;\n",
       "    }\n",
       "</style>\n",
       "<table border=\"1\" class=\"dataframe\">\n",
       "  <thead>\n",
       "    <tr style=\"text-align: right;\">\n",
       "      <th></th>\n",
       "      <th>mean_fit_time</th>\n",
       "      <th>param_alpha</th>\n",
       "      <th>param_l1_ratio</th>\n",
       "      <th>mean_test_score</th>\n",
       "      <th>mean_train_score</th>\n",
       "    </tr>\n",
       "  </thead>\n",
       "  <tbody>\n",
       "    <tr>\n",
       "      <th>0</th>\n",
       "      <td>0.470074</td>\n",
       "      <td>0.1</td>\n",
       "      <td>0.1</td>\n",
       "      <td>0.780479</td>\n",
       "      <td>0.780646</td>\n",
       "    </tr>\n",
       "    <tr>\n",
       "      <th>2</th>\n",
       "      <td>0.477274</td>\n",
       "      <td>0.1</td>\n",
       "      <td>0.3</td>\n",
       "      <td>0.792875</td>\n",
       "      <td>0.793047</td>\n",
       "    </tr>\n",
       "    <tr>\n",
       "      <th>4</th>\n",
       "      <td>0.545874</td>\n",
       "      <td>0.1</td>\n",
       "      <td>0.5</td>\n",
       "      <td>0.808604</td>\n",
       "      <td>0.808781</td>\n",
       "    </tr>\n",
       "    <tr>\n",
       "      <th>6</th>\n",
       "      <td>0.721930</td>\n",
       "      <td>0.1</td>\n",
       "      <td>0.7</td>\n",
       "      <td>0.830033</td>\n",
       "      <td>0.830218</td>\n",
       "    </tr>\n",
       "    <tr>\n",
       "      <th>8</th>\n",
       "      <td>1.290726</td>\n",
       "      <td>0.1</td>\n",
       "      <td>0.9</td>\n",
       "      <td>0.863054</td>\n",
       "      <td>0.863257</td>\n",
       "    </tr>\n",
       "    <tr>\n",
       "      <th>10</th>\n",
       "      <td>0.182142</td>\n",
       "      <td>1</td>\n",
       "      <td>0.1</td>\n",
       "      <td>0.592554</td>\n",
       "      <td>0.592667</td>\n",
       "    </tr>\n",
       "    <tr>\n",
       "      <th>12</th>\n",
       "      <td>0.179008</td>\n",
       "      <td>1</td>\n",
       "      <td>0.3</td>\n",
       "      <td>0.626981</td>\n",
       "      <td>0.627100</td>\n",
       "    </tr>\n",
       "    <tr>\n",
       "      <th>14</th>\n",
       "      <td>0.187351</td>\n",
       "      <td>1</td>\n",
       "      <td>0.5</td>\n",
       "      <td>0.665405</td>\n",
       "      <td>0.665532</td>\n",
       "    </tr>\n",
       "    <tr>\n",
       "      <th>16</th>\n",
       "      <td>0.209069</td>\n",
       "      <td>1</td>\n",
       "      <td>0.7</td>\n",
       "      <td>0.709749</td>\n",
       "      <td>0.709888</td>\n",
       "    </tr>\n",
       "    <tr>\n",
       "      <th>18</th>\n",
       "      <td>0.323398</td>\n",
       "      <td>1</td>\n",
       "      <td>0.9</td>\n",
       "      <td>0.775101</td>\n",
       "      <td>0.775266</td>\n",
       "    </tr>\n",
       "    <tr>\n",
       "      <th>20</th>\n",
       "      <td>0.082008</td>\n",
       "      <td>10</td>\n",
       "      <td>0.1</td>\n",
       "      <td>0.180660</td>\n",
       "      <td>0.180715</td>\n",
       "    </tr>\n",
       "    <tr>\n",
       "      <th>22</th>\n",
       "      <td>0.079700</td>\n",
       "      <td>10</td>\n",
       "      <td>0.3</td>\n",
       "      <td>0.218107</td>\n",
       "      <td>0.218168</td>\n",
       "    </tr>\n",
       "    <tr>\n",
       "      <th>24</th>\n",
       "      <td>0.079266</td>\n",
       "      <td>10</td>\n",
       "      <td>0.5</td>\n",
       "      <td>0.275185</td>\n",
       "      <td>0.275254</td>\n",
       "    </tr>\n",
       "    <tr>\n",
       "      <th>26</th>\n",
       "      <td>0.093647</td>\n",
       "      <td>10</td>\n",
       "      <td>0.7</td>\n",
       "      <td>0.372831</td>\n",
       "      <td>0.372913</td>\n",
       "    </tr>\n",
       "    <tr>\n",
       "      <th>28</th>\n",
       "      <td>0.118756</td>\n",
       "      <td>10</td>\n",
       "      <td>0.9</td>\n",
       "      <td>0.576517</td>\n",
       "      <td>0.576627</td>\n",
       "    </tr>\n",
       "  </tbody>\n",
       "</table>\n",
       "</div>"
      ],
      "text/plain": [
       "    mean_fit_time param_alpha param_l1_ratio  mean_test_score  \\\n",
       "0        0.470074         0.1            0.1         0.780479   \n",
       "2        0.477274         0.1            0.3         0.792875   \n",
       "4        0.545874         0.1            0.5         0.808604   \n",
       "6        0.721930         0.1            0.7         0.830033   \n",
       "8        1.290726         0.1            0.9         0.863054   \n",
       "10       0.182142           1            0.1         0.592554   \n",
       "12       0.179008           1            0.3         0.626981   \n",
       "14       0.187351           1            0.5         0.665405   \n",
       "16       0.209069           1            0.7         0.709749   \n",
       "18       0.323398           1            0.9         0.775101   \n",
       "20       0.082008          10            0.1         0.180660   \n",
       "22       0.079700          10            0.3         0.218107   \n",
       "24       0.079266          10            0.5         0.275185   \n",
       "26       0.093647          10            0.7         0.372831   \n",
       "28       0.118756          10            0.9         0.576517   \n",
       "\n",
       "    mean_train_score  \n",
       "0           0.780646  \n",
       "2           0.793047  \n",
       "4           0.808781  \n",
       "6           0.830218  \n",
       "8           0.863257  \n",
       "10          0.592667  \n",
       "12          0.627100  \n",
       "14          0.665532  \n",
       "16          0.709888  \n",
       "18          0.775266  \n",
       "20          0.180715  \n",
       "22          0.218168  \n",
       "24          0.275254  \n",
       "26          0.372913  \n",
       "28          0.576627  "
      ]
     },
     "execution_count": 60,
     "metadata": {},
     "output_type": "execute_result"
    }
   ],
   "source": [
    "# cv results\n",
    "cv_results = pd.DataFrame(enet_grid_search_CV[1].cv_results_)\n",
    "cv_results = cv_results.loc[cv_results['param_selection'] == 'cyclic']\n",
    "cv_results[['mean_fit_time', 'param_alpha', 'param_l1_ratio', 'mean_test_score', 'mean_train_score']]"
   ]
  },
  {
   "cell_type": "code",
   "execution_count": 65,
   "id": "0602a85b-db66-48f0-9950-01481ee7338b",
   "metadata": {},
   "outputs": [
    {
     "data": {
      "text/html": [
       "<style>#sk-container-id-10 {color: black;background-color: white;}#sk-container-id-10 pre{padding: 0;}#sk-container-id-10 div.sk-toggleable {background-color: white;}#sk-container-id-10 label.sk-toggleable__label {cursor: pointer;display: block;width: 100%;margin-bottom: 0;padding: 0.3em;box-sizing: border-box;text-align: center;}#sk-container-id-10 label.sk-toggleable__label-arrow:before {content: \"▸\";float: left;margin-right: 0.25em;color: #696969;}#sk-container-id-10 label.sk-toggleable__label-arrow:hover:before {color: black;}#sk-container-id-10 div.sk-estimator:hover label.sk-toggleable__label-arrow:before {color: black;}#sk-container-id-10 div.sk-toggleable__content {max-height: 0;max-width: 0;overflow: hidden;text-align: left;background-color: #f0f8ff;}#sk-container-id-10 div.sk-toggleable__content pre {margin: 0.2em;color: black;border-radius: 0.25em;background-color: #f0f8ff;}#sk-container-id-10 input.sk-toggleable__control:checked~div.sk-toggleable__content {max-height: 200px;max-width: 100%;overflow: auto;}#sk-container-id-10 input.sk-toggleable__control:checked~label.sk-toggleable__label-arrow:before {content: \"▾\";}#sk-container-id-10 div.sk-estimator input.sk-toggleable__control:checked~label.sk-toggleable__label {background-color: #d4ebff;}#sk-container-id-10 div.sk-label input.sk-toggleable__control:checked~label.sk-toggleable__label {background-color: #d4ebff;}#sk-container-id-10 input.sk-hidden--visually {border: 0;clip: rect(1px 1px 1px 1px);clip: rect(1px, 1px, 1px, 1px);height: 1px;margin: -1px;overflow: hidden;padding: 0;position: absolute;width: 1px;}#sk-container-id-10 div.sk-estimator {font-family: monospace;background-color: #f0f8ff;border: 1px dotted black;border-radius: 0.25em;box-sizing: border-box;margin-bottom: 0.5em;}#sk-container-id-10 div.sk-estimator:hover {background-color: #d4ebff;}#sk-container-id-10 div.sk-parallel-item::after {content: \"\";width: 100%;border-bottom: 1px solid gray;flex-grow: 1;}#sk-container-id-10 div.sk-label:hover label.sk-toggleable__label {background-color: #d4ebff;}#sk-container-id-10 div.sk-serial::before {content: \"\";position: absolute;border-left: 1px solid gray;box-sizing: border-box;top: 0;bottom: 0;left: 50%;z-index: 0;}#sk-container-id-10 div.sk-serial {display: flex;flex-direction: column;align-items: center;background-color: white;padding-right: 0.2em;padding-left: 0.2em;position: relative;}#sk-container-id-10 div.sk-item {position: relative;z-index: 1;}#sk-container-id-10 div.sk-parallel {display: flex;align-items: stretch;justify-content: center;background-color: white;position: relative;}#sk-container-id-10 div.sk-item::before, #sk-container-id-10 div.sk-parallel-item::before {content: \"\";position: absolute;border-left: 1px solid gray;box-sizing: border-box;top: 0;bottom: 0;left: 50%;z-index: -1;}#sk-container-id-10 div.sk-parallel-item {display: flex;flex-direction: column;z-index: 1;position: relative;background-color: white;}#sk-container-id-10 div.sk-parallel-item:first-child::after {align-self: flex-end;width: 50%;}#sk-container-id-10 div.sk-parallel-item:last-child::after {align-self: flex-start;width: 50%;}#sk-container-id-10 div.sk-parallel-item:only-child::after {width: 0;}#sk-container-id-10 div.sk-dashed-wrapped {border: 1px dashed gray;margin: 0 0.4em 0.5em 0.4em;box-sizing: border-box;padding-bottom: 0.4em;background-color: white;}#sk-container-id-10 div.sk-label label {font-family: monospace;font-weight: bold;display: inline-block;line-height: 1.2em;}#sk-container-id-10 div.sk-label-container {text-align: center;}#sk-container-id-10 div.sk-container {/* jupyter's `normalize.less` sets `[hidden] { display: none; }` but bootstrap.min.css set `[hidden] { display: none !important; }` so we also need the `!important` here to be able to override the default hidden behavior on the sphinx rendered scikit-learn.org. See: https://github.com/scikit-learn/scikit-learn/issues/21755 */display: inline-block !important;position: relative;}#sk-container-id-10 div.sk-text-repr-fallback {display: none;}</style><div id=\"sk-container-id-10\" class=\"sk-top-container\"><div class=\"sk-text-repr-fallback\"><pre>Pipeline(steps=[(&#x27;preprocessor&#x27;,\n",
       "                 ColumnTransformer(transformers=[(&#x27;num&#x27;,\n",
       "                                                  Pipeline(steps=[(&#x27;simple &#x27;\n",
       "                                                                   &#x27;impute&#x27;,\n",
       "                                                                   SimpleImputer()),\n",
       "                                                                  (&#x27;scaler&#x27;,\n",
       "                                                                   StandardScaler())]),\n",
       "                                                  [&#x27;floor_area_sqm&#x27;, &#x27;mid&#x27;,\n",
       "                                                   &#x27;hdb_age&#x27;, &#x27;max_floor_lvl&#x27;,\n",
       "                                                   &#x27;Mall_Nearest_Distance&#x27;,\n",
       "                                                   &#x27;Hawker_Nearest_Distance&#x27;,\n",
       "                                                   &#x27;mrt_nearest_distance&#x27;,\n",
       "                                                   &#x27;cutoff_point&#x27;]),\n",
       "                                                 (&#x27;cat&#x27;,\n",
       "                                                  Pipeline(steps=[(&#x27;encoder&#x27;,\n",
       "                                                                   OneHotEncoder(drop=&#x27;first&#x27;,\n",
       "                                                                                 handle_unknown=&#x27;ignore&#x27;))]),\n",
       "                                                  [&#x27;flat_type&#x27;, &#x27;flat_model&#x27;,\n",
       "                                                   &#x27;Tranc_Year&#x27;,\n",
       "                                                   &#x27;planning_area&#x27;,\n",
       "                                                   &#x27;bus_interchange&#x27;,\n",
       "                                                   &#x27;mrt_interchange&#x27;])])),\n",
       "                (&#x27;ENet&#x27;, ElasticNet(alpha=0.1, l1_ratio=0.9))])</pre><b>In a Jupyter environment, please rerun this cell to show the HTML representation or trust the notebook. <br />On GitHub, the HTML representation is unable to render, please try loading this page with nbviewer.org.</b></div><div class=\"sk-container\" hidden><div class=\"sk-item sk-dashed-wrapped\"><div class=\"sk-label-container\"><div class=\"sk-label sk-toggleable\"><input class=\"sk-toggleable__control sk-hidden--visually\" id=\"sk-estimator-id-77\" type=\"checkbox\" ><label for=\"sk-estimator-id-77\" class=\"sk-toggleable__label sk-toggleable__label-arrow\">Pipeline</label><div class=\"sk-toggleable__content\"><pre>Pipeline(steps=[(&#x27;preprocessor&#x27;,\n",
       "                 ColumnTransformer(transformers=[(&#x27;num&#x27;,\n",
       "                                                  Pipeline(steps=[(&#x27;simple &#x27;\n",
       "                                                                   &#x27;impute&#x27;,\n",
       "                                                                   SimpleImputer()),\n",
       "                                                                  (&#x27;scaler&#x27;,\n",
       "                                                                   StandardScaler())]),\n",
       "                                                  [&#x27;floor_area_sqm&#x27;, &#x27;mid&#x27;,\n",
       "                                                   &#x27;hdb_age&#x27;, &#x27;max_floor_lvl&#x27;,\n",
       "                                                   &#x27;Mall_Nearest_Distance&#x27;,\n",
       "                                                   &#x27;Hawker_Nearest_Distance&#x27;,\n",
       "                                                   &#x27;mrt_nearest_distance&#x27;,\n",
       "                                                   &#x27;cutoff_point&#x27;]),\n",
       "                                                 (&#x27;cat&#x27;,\n",
       "                                                  Pipeline(steps=[(&#x27;encoder&#x27;,\n",
       "                                                                   OneHotEncoder(drop=&#x27;first&#x27;,\n",
       "                                                                                 handle_unknown=&#x27;ignore&#x27;))]),\n",
       "                                                  [&#x27;flat_type&#x27;, &#x27;flat_model&#x27;,\n",
       "                                                   &#x27;Tranc_Year&#x27;,\n",
       "                                                   &#x27;planning_area&#x27;,\n",
       "                                                   &#x27;bus_interchange&#x27;,\n",
       "                                                   &#x27;mrt_interchange&#x27;])])),\n",
       "                (&#x27;ENet&#x27;, ElasticNet(alpha=0.1, l1_ratio=0.9))])</pre></div></div></div><div class=\"sk-serial\"><div class=\"sk-item sk-dashed-wrapped\"><div class=\"sk-label-container\"><div class=\"sk-label sk-toggleable\"><input class=\"sk-toggleable__control sk-hidden--visually\" id=\"sk-estimator-id-78\" type=\"checkbox\" ><label for=\"sk-estimator-id-78\" class=\"sk-toggleable__label sk-toggleable__label-arrow\">preprocessor: ColumnTransformer</label><div class=\"sk-toggleable__content\"><pre>ColumnTransformer(transformers=[(&#x27;num&#x27;,\n",
       "                                 Pipeline(steps=[(&#x27;simple impute&#x27;,\n",
       "                                                  SimpleImputer()),\n",
       "                                                 (&#x27;scaler&#x27;, StandardScaler())]),\n",
       "                                 [&#x27;floor_area_sqm&#x27;, &#x27;mid&#x27;, &#x27;hdb_age&#x27;,\n",
       "                                  &#x27;max_floor_lvl&#x27;, &#x27;Mall_Nearest_Distance&#x27;,\n",
       "                                  &#x27;Hawker_Nearest_Distance&#x27;,\n",
       "                                  &#x27;mrt_nearest_distance&#x27;, &#x27;cutoff_point&#x27;]),\n",
       "                                (&#x27;cat&#x27;,\n",
       "                                 Pipeline(steps=[(&#x27;encoder&#x27;,\n",
       "                                                  OneHotEncoder(drop=&#x27;first&#x27;,\n",
       "                                                                handle_unknown=&#x27;ignore&#x27;))]),\n",
       "                                 [&#x27;flat_type&#x27;, &#x27;flat_model&#x27;, &#x27;Tranc_Year&#x27;,\n",
       "                                  &#x27;planning_area&#x27;, &#x27;bus_interchange&#x27;,\n",
       "                                  &#x27;mrt_interchange&#x27;])])</pre></div></div></div><div class=\"sk-parallel\"><div class=\"sk-parallel-item\"><div class=\"sk-item\"><div class=\"sk-label-container\"><div class=\"sk-label sk-toggleable\"><input class=\"sk-toggleable__control sk-hidden--visually\" id=\"sk-estimator-id-79\" type=\"checkbox\" ><label for=\"sk-estimator-id-79\" class=\"sk-toggleable__label sk-toggleable__label-arrow\">num</label><div class=\"sk-toggleable__content\"><pre>[&#x27;floor_area_sqm&#x27;, &#x27;mid&#x27;, &#x27;hdb_age&#x27;, &#x27;max_floor_lvl&#x27;, &#x27;Mall_Nearest_Distance&#x27;, &#x27;Hawker_Nearest_Distance&#x27;, &#x27;mrt_nearest_distance&#x27;, &#x27;cutoff_point&#x27;]</pre></div></div></div><div class=\"sk-serial\"><div class=\"sk-item\"><div class=\"sk-serial\"><div class=\"sk-item\"><div class=\"sk-estimator sk-toggleable\"><input class=\"sk-toggleable__control sk-hidden--visually\" id=\"sk-estimator-id-80\" type=\"checkbox\" ><label for=\"sk-estimator-id-80\" class=\"sk-toggleable__label sk-toggleable__label-arrow\">SimpleImputer</label><div class=\"sk-toggleable__content\"><pre>SimpleImputer()</pre></div></div></div><div class=\"sk-item\"><div class=\"sk-estimator sk-toggleable\"><input class=\"sk-toggleable__control sk-hidden--visually\" id=\"sk-estimator-id-81\" type=\"checkbox\" ><label for=\"sk-estimator-id-81\" class=\"sk-toggleable__label sk-toggleable__label-arrow\">StandardScaler</label><div class=\"sk-toggleable__content\"><pre>StandardScaler()</pre></div></div></div></div></div></div></div></div><div class=\"sk-parallel-item\"><div class=\"sk-item\"><div class=\"sk-label-container\"><div class=\"sk-label sk-toggleable\"><input class=\"sk-toggleable__control sk-hidden--visually\" id=\"sk-estimator-id-82\" type=\"checkbox\" ><label for=\"sk-estimator-id-82\" class=\"sk-toggleable__label sk-toggleable__label-arrow\">cat</label><div class=\"sk-toggleable__content\"><pre>[&#x27;flat_type&#x27;, &#x27;flat_model&#x27;, &#x27;Tranc_Year&#x27;, &#x27;planning_area&#x27;, &#x27;bus_interchange&#x27;, &#x27;mrt_interchange&#x27;]</pre></div></div></div><div class=\"sk-serial\"><div class=\"sk-item\"><div class=\"sk-serial\"><div class=\"sk-item\"><div class=\"sk-estimator sk-toggleable\"><input class=\"sk-toggleable__control sk-hidden--visually\" id=\"sk-estimator-id-83\" type=\"checkbox\" ><label for=\"sk-estimator-id-83\" class=\"sk-toggleable__label sk-toggleable__label-arrow\">OneHotEncoder</label><div class=\"sk-toggleable__content\"><pre>OneHotEncoder(drop=&#x27;first&#x27;, handle_unknown=&#x27;ignore&#x27;)</pre></div></div></div></div></div></div></div></div></div></div><div class=\"sk-item\"><div class=\"sk-estimator sk-toggleable\"><input class=\"sk-toggleable__control sk-hidden--visually\" id=\"sk-estimator-id-84\" type=\"checkbox\" ><label for=\"sk-estimator-id-84\" class=\"sk-toggleable__label sk-toggleable__label-arrow\">ElasticNet</label><div class=\"sk-toggleable__content\"><pre>ElasticNet(alpha=0.1, l1_ratio=0.9)</pre></div></div></div></div></div></div></div>"
      ],
      "text/plain": [
       "Pipeline(steps=[('preprocessor',\n",
       "                 ColumnTransformer(transformers=[('num',\n",
       "                                                  Pipeline(steps=[('simple '\n",
       "                                                                   'impute',\n",
       "                                                                   SimpleImputer()),\n",
       "                                                                  ('scaler',\n",
       "                                                                   StandardScaler())]),\n",
       "                                                  ['floor_area_sqm', 'mid',\n",
       "                                                   'hdb_age', 'max_floor_lvl',\n",
       "                                                   'Mall_Nearest_Distance',\n",
       "                                                   'Hawker_Nearest_Distance',\n",
       "                                                   'mrt_nearest_distance',\n",
       "                                                   'cutoff_point']),\n",
       "                                                 ('cat',\n",
       "                                                  Pipeline(steps=[('encoder',\n",
       "                                                                   OneHotEncoder(drop='first',\n",
       "                                                                                 handle_unknown='ignore'))]),\n",
       "                                                  ['flat_type', 'flat_model',\n",
       "                                                   'Tranc_Year',\n",
       "                                                   'planning_area',\n",
       "                                                   'bus_interchange',\n",
       "                                                   'mrt_interchange'])])),\n",
       "                ('ENet', ElasticNet(alpha=0.1, l1_ratio=0.9))])"
      ]
     },
     "execution_count": 65,
     "metadata": {},
     "output_type": "execute_result"
    }
   ],
   "source": [
    "# New e net with better score\n",
    "e_net = Pipeline(\n",
    "    steps=[(\"preprocessor\", preprocessor), (\"ENet\", ElasticNet(alpha=0.1, l1_ratio=0.9))]\n",
    ")\n",
    "e_net.fit(X_train, y_train)"
   ]
  },
  {
   "cell_type": "markdown",
   "id": "0163e5e8-c801-46bc-b84c-8271eeb952ee",
   "metadata": {},
   "source": [
    "It is evident that when the model behaves like lasso regressor, the performance is better.  \n",
    "With this, I have completed the investigation on Elastic Net Regression."
   ]
  },
  {
   "cell_type": "markdown",
   "id": "abb20cce-2c10-4e81-85d9-55c248654389",
   "metadata": {},
   "source": [
    "## Model Evaluation"
   ]
  },
  {
   "cell_type": "markdown",
   "id": "387b48ee-afdc-48f3-b42c-51bd000df66b",
   "metadata": {},
   "source": [
    "Here, I will take a (slightly) closer look at the four models used.  \n",
    "I will look at the scores, where the default is the r-squared value, first.  \n",
    "I will peek at the coefficients.  \n",
    "Then I will make inference using the models, and take a look at the MSE, RMSE, AME."
   ]
  },
  {
   "cell_type": "markdown",
   "id": "33642185-af58-47b3-8b79-08b22edee323",
   "metadata": {},
   "source": [
    "Lasso is using 'diamond' shaped constriants.  \n",
    "Ridge is using 'circle' shaped constraints.  \n",
    "Once the elliptical contours hits the constraints, optimality is reached.  \n",
    "But becasue 'diamond' have vertices on axis, it will shrink at least 1 coefficient to 0.\n",
    "\n",
    "<img src=\"../img/lasso_vs_ridge.png\" width=\"500\" height=\"600\"></img>  \n",
    "\n",
    "Ridge, on the other hand will not, as optimal point will not lie on axis, which are representing features.  \n",
    "(Unless the whole B_hat lies on axis, resulting in a trivial solution? This is just my guess)"
   ]
  },
  {
   "cell_type": "markdown",
   "id": "8e558ef5-882c-47a2-8b1a-ada6a4e0c7b5",
   "metadata": {},
   "source": [
    "Based oon the scores alone, which is in fact R squared value.   \n",
    "Lasso regression edges out a little bit, followed closely by Lasso, then Ridge.   \n",
    "Elastic Net have the worst performance.  "
   ]
  },
  {
   "cell_type": "markdown",
   "id": "b33a529f-d235-44ef-952d-6c1b18ccbd70",
   "metadata": {},
   "source": [
    "Now, I will test this with kaggle.  "
   ]
  },
  {
   "cell_type": "code",
   "execution_count": 26,
   "id": "75457e01-0b70-4448-a08c-32f848832748",
   "metadata": {},
   "outputs": [
    {
     "name": "stderr",
     "output_type": "stream",
     "text": [
      "/tmp/ipykernel_1652/575172797.py:2: DtypeWarning: Columns (41) have mixed types. Specify dtype option on import or set low_memory=False.\n",
      "  test = pd.read_csv('../datasets/test.csv')\n"
     ]
    }
   ],
   "source": [
    "# Import test set\n",
    "test = pd.read_csv('../datasets/test.csv')"
   ]
  },
  {
   "cell_type": "code",
   "execution_count": 28,
   "id": "f13723e0-77a7-4aea-bf8a-ac3600f79b0b",
   "metadata": {},
   "outputs": [],
   "source": [
    "pred_res = lin_reg.predict(test)"
   ]
  },
  {
   "cell_type": "code",
   "execution_count": 29,
   "id": "2e6bcf04-f09d-4fbb-9694-794728dd84af",
   "metadata": {},
   "outputs": [],
   "source": [
    "id_col = test['id'].copy(deep=True)\n",
    "res = zip(id_col,pred_res)\n",
    "result = pd.DataFrame(res, columns=['id', 'Predicted'])\n",
    "result.to_csv('../datasets/prediction_linear.csv', index=False)"
   ]
  },
  {
   "cell_type": "markdown",
   "id": "84e34ac0-ea21-4ec6-87ef-0c4d1c32be40",
   "metadata": {},
   "source": [
    "The Root Mean Square Error (RMSE) score from the most basic linear regression model is:  \n",
    "<img src=\"../img/lin_reg_res.png\"></img> \n",
    "Looking at the score alone, it's kind of expected. It is not great, but not too bad."
   ]
  },
  {
   "cell_type": "code",
   "execution_count": 30,
   "id": "eefdf590-994c-4809-91ff-cc2bc00d1f3f",
   "metadata": {},
   "outputs": [],
   "source": [
    "pred_res = lasso.predict(test)"
   ]
  },
  {
   "cell_type": "code",
   "execution_count": 31,
   "id": "4b943157-3a1c-47e9-be58-b11ce7ddd95a",
   "metadata": {},
   "outputs": [],
   "source": [
    "id_col = test['id'].copy(deep=True)\n",
    "res = zip(id_col,pred_res)\n",
    "result_lasso = pd.DataFrame(res, columns=['id', 'Predicted'])\n",
    "result_lasso.to_csv('../datasets/prediction_lasso.csv', index=False)"
   ]
  },
  {
   "cell_type": "markdown",
   "id": "e7038f66-4cf6-4a5d-89d8-8c932aafc4e5",
   "metadata": {},
   "source": [
    "The Root Mean Square Error (RMSE) score from the lasso regression model is:  \n",
    "<img src=\"../img/lasso_res.png\"></img> \n",
    "This is actually (slightly) worse off compared to linear regression.  \n",
    "The difference is rather small, but one thing to keep in mind is the 'bias variance tradeoff'.  \n",
    "In lasso, my bias might be lower and my variance might be higher, the model might have over learned a tiny bit more compared to linear regression.  \n",
    "It doesn't generalise as well."
   ]
  },
  {
   "cell_type": "markdown",
   "id": "6f678445-b984-4b83-9b0e-f49e3f4148be",
   "metadata": {},
   "source": [
    "This also shows that high R sqaured doesn't mean it's good, as the original distribution of the data may not follow a linear distribution completely in the first place!  "
   ]
  },
  {
   "cell_type": "markdown",
   "id": "7c148dcb-8bca-4649-a2e5-67d6306d4b63",
   "metadata": {},
   "source": [
    "With this in mind, the last 'One Size Fit All' model to test will be the Elastic Net model.  \n",
    "This is because Elastic Net have a very different score compared to all other models. "
   ]
  },
  {
   "cell_type": "code",
   "execution_count": 66,
   "id": "18de1ed7-4199-4729-af5b-7aade306bf18",
   "metadata": {},
   "outputs": [],
   "source": [
    "pred_res = e_net.predict(test)"
   ]
  },
  {
   "cell_type": "code",
   "execution_count": 67,
   "id": "f0c0a682-7077-40a2-b48b-bbe973944d02",
   "metadata": {},
   "outputs": [],
   "source": [
    "id_col = test['id'].copy(deep=True)\n",
    "res = zip(id_col,pred_res)\n",
    "result_enet = pd.DataFrame(res, columns=['id', 'Predicted'])\n",
    "result_enet.to_csv('../datasets/prediction_enet.csv', index=False)"
   ]
  },
  {
   "cell_type": "markdown",
   "id": "552cd7d6-b2eb-47bb-9ad9-401c2d3fa718",
   "metadata": {},
   "source": [
    "<img src=\"../img/enet_res.png\"></img> \n",
    "The 2nd submission in the screenshot is using the original elastic net model, where all parameters are default value.  \n",
    "The 1st submission in the screenshot is using the optimised elastic net model from grid search CV.  \n",
    "It can be seen that is a huge improvement on RMSE.  \n",
    "However, they still pales in comparison to simple linear regression.  \n",
    "\n",
    "To conclude off, for this case, it seems that a simple linear regression should be the go to model.  \n",
    "This is becasue it is simple and fast, with good performance in terms of r sqaured score and RSME score.\n",
    "This concludes the exploration on a single model. "
   ]
  },
  {
   "cell_type": "markdown",
   "id": "3ee1587f-6ecf-407d-bb11-d04e8dacb16d",
   "metadata": {},
   "source": [
    "## Combined Model"
   ]
  },
  {
   "cell_type": "markdown",
   "id": "684dd287-81d7-4870-8e69-18b2bf5bf004",
   "metadata": {},
   "source": [
    "This section explors the possibility of using a combination of models to find the housing price.  \n",
    "The reason behind this is that, a single model can not capture the unique characteristics of what contributes to the housing price.  \n",
    "Hence, we use more than one model to 'learn' it!  \n",
    "This is makes the model more complex.  \n",
    "The base models will be simple linear regression, as linear regression is proven to work well in the previous section.  \n",
    "It ought to work well here too, as they share the same use case.  \n",
    "The drawback can be that the ammount of data for each model to learn is smaller.  "
   ]
  },
  {
   "cell_type": "code",
   "execution_count": null,
   "id": "bdb822d5-7e69-474a-9b11-5b545ee50c46",
   "metadata": {},
   "outputs": [],
   "source": []
  },
  {
   "cell_type": "code",
   "execution_count": null,
   "id": "2b78c784-c981-415b-a69f-9fc9f8a01766",
   "metadata": {},
   "outputs": [],
   "source": []
  },
  {
   "cell_type": "code",
   "execution_count": null,
   "id": "914bb54c-04fc-44fa-bde0-5a4bb9e3c191",
   "metadata": {},
   "outputs": [],
   "source": []
  },
  {
   "cell_type": "code",
   "execution_count": null,
   "id": "2a44c07f-48fd-4a82-81bf-c53c0ada6917",
   "metadata": {},
   "outputs": [],
   "source": []
  },
  {
   "cell_type": "code",
   "execution_count": null,
   "id": "116ff973-8aad-4abd-bedd-87b132865b27",
   "metadata": {},
   "outputs": [],
   "source": []
  },
  {
   "cell_type": "code",
   "execution_count": 86,
   "id": "f98b34c2-27bb-44f0-bbcc-3bb0db4ee423",
   "metadata": {},
   "outputs": [],
   "source": [
    "## failed attempt to do GridSearchCV on linear regression\n",
    "### problem identified to be preprocessor can't contain less features than specified\n",
    "## keeping for future investigation\n",
    "\n",
    "# build a function for preprocessor of dataset\n",
    "# def get_present_col_subset(selected_columns, df):\n",
    "#     '''return the currently available colmuns\n",
    "#     args:\n",
    "#         selected_colmuns: list of colmuns to select from\n",
    "#         df: dataframe being used currently\n",
    "#     return:\n",
    "#         subset_col: colmuns present in selected colmuns\n",
    "#     Note: Code taken from user: srggrs at https://github.com/scikit-learn/scikit-learn/issues/19014\n",
    "#     '''\n",
    "#     # get the intersecton of present and known-infrequent columns\n",
    "#     present_columns = df.columns\n",
    "#     return [col for col in present_columns if col in selected_columns]"
   ]
  },
  {
   "cell_type": "code",
   "execution_count": 85,
   "id": "5bf59261-0e57-4f73-bdad-01f879e17cfd",
   "metadata": {},
   "outputs": [],
   "source": [
    "## failed attempt to do GridSearchCV on linear regression\n",
    "### problem identified to be preprocessor can't contain less features than specified\n",
    "\n",
    "# build the preprocessor for the dataset\n",
    "# preprocessor = ColumnTransformer(\n",
    "#     transformers=[\n",
    "#         ('num', numeric_transformer, functools.partial(get_present_col_subset, numerical_col)),\n",
    "#         ('cat', categorical_transformer, functools.partial(get_present_col_subset, categorical_col))\n",
    "#     ]\n",
    "# )"
   ]
  },
  {
   "cell_type": "code",
   "execution_count": 83,
   "id": "449298c3-eb12-4b40-9e4c-408370261831",
   "metadata": {},
   "outputs": [],
   "source": [
    "## failed attempt to do GridSearchCV on linear regression\n",
    "### problem identified to be preprocessor can't contain less features than specified\n",
    "\n",
    "# # Prepare the training data to be 5 folds\n",
    "# folds = KFold(n_splits = 5, shuffle = True, random_state = 0)\n",
    "\n",
    "# # Specify range of hyperparameters to tune\n",
    "# hyper_params = [{'n_features_to_select': list(range(1, len(X_train.columns)))}]\n",
    "\n",
    "# # Build Feature ranking with recursive feature elimination\n",
    "# lin_reg.fit(X_train,y_train)\n",
    "# rfe = RFE(lin_reg)  \n",
    "\n",
    "# # Perform grid search using GridSearchCV()\n",
    "# lin_reg_cv = GridSearchCV(estimator = lin_reg, \n",
    "#                         param_grid = hyper_params, \n",
    "#                         scoring= 'r2', \n",
    "#                         cv = folds, \n",
    "#                         verbose = 1,\n",
    "#                         return_train_score=True)      \n",
    "\n",
    "# # Fit the model\n",
    "# lin_reg_cv.fit(X_train, y_train) "
   ]
  }
 ],
 "metadata": {
  "kernelspec": {
   "display_name": "Python [conda env:dsi-sg]",
   "language": "python",
   "name": "conda-env-dsi-sg-py"
  },
  "language_info": {
   "codemirror_mode": {
    "name": "ipython",
    "version": 3
   },
   "file_extension": ".py",
   "mimetype": "text/x-python",
   "name": "python",
   "nbconvert_exporter": "python",
   "pygments_lexer": "ipython3",
   "version": "3.9.13"
  }
 },
 "nbformat": 4,
 "nbformat_minor": 5
}

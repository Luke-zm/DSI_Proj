{
 "cells": [
  {
   "cell_type": "markdown",
   "id": "5bc4d17d-4409-4a4f-854b-9b2c18ebb2a5",
   "metadata": {},
   "source": [
    "# Prediction of Singapore's housing price using simple regression based models\n",
    "## Exploratory Data Analysis notebook\n",
    "\n",
    "This project is about the prediction of resale price of a house located in singapore, using simple regression model.   \n",
    "This notebook is only for the purpose of doing Exploratory Data Analysis (EDA)."
   ]
  },
  {
   "cell_type": "markdown",
   "id": "78470134-815d-4643-a24c-10353c5aad24",
   "metadata": {},
   "source": [
    "content:  \n",
    "1. [Problem Statement](#Problem-Statement)\n",
    "2. [Data Import](#Data-Import)\n",
    "3. [Missing Values](#Missing-Values)\n",
    "4. [Data Distribution](#Data-Distribution)\n",
    "5. [Outliers](#Outliers)\n",
    "6. [Summary Statistics](#Summary-Statistics)\n",
    "7. [Evaluation based on EDA](#Evaluation-based-on-EDA)"
   ]
  },
  {
   "cell_type": "markdown",
   "id": "243556e2-ff7e-44d0-9569-ee4eea3220d2",
   "metadata": {},
   "source": [
    "## Problem Statement "
   ]
  },
  {
   "cell_type": "markdown",
   "id": "1de3b308-b05c-4c56-82c2-4ff9cb28ad66",
   "metadata": {},
   "source": [
    "The goal of this project is to build a regression model, using data contained in the [datasets](../datasets) folder. The model should be able to make an accurate prediction of the resale price (`resale_price`) of the house, for every house id (`Id`) that appeared in the [test set](../datasets/test.csv).  \n",
    "Success will be evaluated based on common evaluation metrics such as Mean Absolute Error (MAE) and Mean Square Error (MSE), apart from scores.\n",
    "\n",
    "Motivation:  \n",
    "While this is a toy project for the purpose of learning, it shows the importance of prediction models.  \n",
    "House owners who are looking to sale their property, property agents, those seeking to purchase a house, all stand to benefit from this model.  "
   ]
  },
  {
   "cell_type": "markdown",
   "id": "6b788a7c-e394-42ad-b09a-f481dee1ac2a",
   "metadata": {},
   "source": [
    "## Data Import"
   ]
  },
  {
   "cell_type": "markdown",
   "id": "0416c25c-dd9c-415f-a44a-bcc2da94090f",
   "metadata": {},
   "source": [
    "Here, the neccessary libraries, dependencies and data are imported."
   ]
  },
  {
   "cell_type": "code",
   "execution_count": 1,
   "id": "fcafa1a4-f8a2-4a69-99f8-d0c3b10a4210",
   "metadata": {},
   "outputs": [],
   "source": [
    "%matplotlib inline\n",
    "import numpy as np\n",
    "import pandas as pd \n",
    "import matplotlib.pyplot as plt\n",
    "import scipy.stats as stats\n",
    "import sklearn.linear_model as linear_model\n",
    "import seaborn as sns\n",
    "from sklearn.model_selection import KFold\n",
    "from IPython.display import HTML, display\n",
    "from sklearn.manifold import TSNE\n",
    "from sklearn.cluster import KMeans\n",
    "from sklearn.decomposition import PCA\n",
    "from sklearn.preprocessing import StandardScaler\n",
    "\n",
    "pd.options.display.max_rows = 100\n",
    "pd.options.display.max_columns = 80"
   ]
  },
  {
   "cell_type": "markdown",
   "id": "62ca25a7-17c8-46c2-91b5-9cd0c9c0494b",
   "metadata": {},
   "source": [
    "If simply use `.read_csv()` method from Pandas, a warning will appear.  \n",
    "\n",
    "`DtypeWarning: Columns (42) have mixed types. Specify dtype option on import or set low_memory=False.`  \n",
    "`train = pd.read_csv('../datasets/train.csv')`   "
   ]
  },
  {
   "cell_type": "code",
   "execution_count": 2,
   "id": "a117a629-ff62-4f95-9ed0-054fb1b86df4",
   "metadata": {},
   "outputs": [
    {
     "name": "stderr",
     "output_type": "stream",
     "text": [
      "/tmp/ipykernel_567/3171447742.py:2: DtypeWarning: Columns (42) have mixed types. Specify dtype option on import or set low_memory=False.\n",
      "  train = pd.read_csv('../datasets/train.csv')\n"
     ]
    }
   ],
   "source": [
    "sample = pd.read_csv('../datasets/sample_sub_reg.csv')\n",
    "train = pd.read_csv('../datasets/train.csv')"
   ]
  },
  {
   "cell_type": "code",
   "execution_count": 3,
   "id": "23ad66f3-c052-41b7-93e3-715e434d7352",
   "metadata": {},
   "outputs": [
    {
     "data": {
      "text/plain": [
       "(150634, 78)"
      ]
     },
     "execution_count": 3,
     "metadata": {},
     "output_type": "execute_result"
    }
   ],
   "source": [
    "train.shape"
   ]
  },
  {
   "cell_type": "code",
   "execution_count": 4,
   "id": "334ce6b0-3f8c-45cd-931f-0f2ce4254936",
   "metadata": {},
   "outputs": [
    {
     "data": {
      "text/plain": [
       "0         382003\n",
       "1         570153\n",
       "2         651289\n",
       "3         570232\n",
       "4         760876\n",
       "           ...  \n",
       "150629    730849\n",
       "150630    644648\n",
       "150631    410639\n",
       "150632    270032\n",
       "150633    762666\n",
       "Name: postal, Length: 150634, dtype: object"
      ]
     },
     "execution_count": 4,
     "metadata": {},
     "output_type": "execute_result"
    }
   ],
   "source": [
    "# Take a look at the column with warning\n",
    "train.iloc[:,42]"
   ]
  },
  {
   "cell_type": "code",
   "execution_count": 5,
   "id": "2687da8c-d29b-4ca9-987f-233dcb15b7ef",
   "metadata": {},
   "outputs": [
    {
     "name": "stdout",
     "output_type": "stream",
     "text": [
      "<class 'int'>\n",
      "35946\n",
      "0\n"
     ]
    }
   ],
   "source": [
    "# From output above, the main dtpye is object. Upon checking (and guessing from convention), it is of str type.\n",
    "# Check what is the total number of data points that is not in str datatype.\n",
    "not_str = [x for x in train.iloc[:,42] if type(x) != str]\n",
    "# Check what type can these data points be.\n",
    "print(type(not_str[0]))\n",
    "print(len(not_str))\n",
    "# Check are there any more data types\n",
    "not_int = [s for s in not_str if type(s) != int]\n",
    "print(len(not_int))"
   ]
  },
  {
   "cell_type": "code",
   "execution_count": 6,
   "id": "c5273b14-820e-48ce-a6a9-e252ab0eac43",
   "metadata": {},
   "outputs": [
    {
     "data": {
      "text/plain": [
       "114688"
      ]
     },
     "execution_count": 6,
     "metadata": {},
     "output_type": "execute_result"
    }
   ],
   "source": [
    "# Check are there any other types of data I have not considered.\n",
    "is_str = [x for x in train.iloc[:,42] if type(x) == str]\n",
    "len(is_str)"
   ]
  },
  {
   "cell_type": "code",
   "execution_count": 7,
   "id": "a251338e-04df-48bf-924a-c266a5dbb65f",
   "metadata": {},
   "outputs": [
    {
     "data": {
      "text/plain": [
       "'postal'"
      ]
     },
     "execution_count": 7,
     "metadata": {},
     "output_type": "execute_result"
    }
   ],
   "source": [
    "train.columns[42]"
   ]
  },
  {
   "cell_type": "markdown",
   "id": "bb0cf8a9-8e7a-42e3-933e-1d5dee90d554",
   "metadata": {},
   "source": [
    "## Missing Values"
   ]
  },
  {
   "cell_type": "code",
   "execution_count": 8,
   "id": "501556ba-f585-4490-957e-2d0d01f40155",
   "metadata": {},
   "outputs": [
    {
     "name": "stdout",
     "output_type": "stream",
     "text": [
      "33\n",
      "0.00021907404702789542\n"
     ]
    }
   ],
   "source": [
    "# While coding, I discovered that some of the 'postal' have 'NIL' in the entry\n",
    "nil_lst = train['postal'].loc[train['postal'] == 'NIL']\n",
    "print(len(nil_lst))\n",
    "print(len(nil_lst)/150634)"
   ]
  },
  {
   "cell_type": "code",
   "execution_count": 9,
   "id": "d10be4da-21f2-4c73-a740-6b23b195860e",
   "metadata": {},
   "outputs": [
    {
     "data": {
      "text/plain": [
       "Series([], Name: postal, dtype: object)"
      ]
     },
     "execution_count": 9,
     "metadata": {},
     "output_type": "execute_result"
    }
   ],
   "source": [
    "train['postal'].loc[train['postal']==-1]"
   ]
  },
  {
   "cell_type": "code",
   "execution_count": 10,
   "id": "5b862afb-639d-4c1a-88e8-9eacd306d8d7",
   "metadata": {},
   "outputs": [],
   "source": [
    "# 114688 + 35946 == 150634. There are only 2 data types in column 42. int and str.\n",
    "# define function to convert all string to int. \n",
    "def convert_dtype(x):\n",
    "    if (type(x) != int):\n",
    "        try:\n",
    "            return int(x)\n",
    "        except:\n",
    "            if x == 'NIL':\n",
    "                return -1\n",
    "    else:\n",
    "        return x\n",
    "train['postal']=train['postal'].apply(convert_dtype)"
   ]
  },
  {
   "cell_type": "code",
   "execution_count": 11,
   "id": "562979a6-35a3-4e86-b4d4-556f4c92d591",
   "metadata": {},
   "outputs": [
    {
     "data": {
      "text/plain": [
       "0"
      ]
     },
     "execution_count": 11,
     "metadata": {},
     "output_type": "execute_result"
    }
   ],
   "source": [
    "# It is VERY important to note that I have converted all 'NIL' to -1\n",
    "# so I dont have to convert the datatype for postal code from float to int again later.\n",
    "# -1 is selected because there's no postal code with -1.\n",
    "train['postal'].isnull().sum()"
   ]
  },
  {
   "cell_type": "code",
   "execution_count": 12,
   "id": "51c19688-e28f-49d0-aaf5-796da303b843",
   "metadata": {},
   "outputs": [
    {
     "data": {
      "text/plain": [
       "id                            0.000000\n",
       "Tranc_YearMonth               0.000000\n",
       "town                          0.000000\n",
       "flat_type                     0.000000\n",
       "block                         0.000000\n",
       "street_name                   0.000000\n",
       "storey_range                  0.000000\n",
       "floor_area_sqm                0.000000\n",
       "flat_model                    0.000000\n",
       "lease_commence_date           0.000000\n",
       "resale_price                  0.000000\n",
       "Tranc_Year                    0.000000\n",
       "Tranc_Month                   0.000000\n",
       "mid_storey                    0.000000\n",
       "lower                         0.000000\n",
       "upper                         0.000000\n",
       "mid                           0.000000\n",
       "full_flat_type                0.000000\n",
       "address                       0.000000\n",
       "floor_area_sqft               0.000000\n",
       "price_per_sqft                0.000000\n",
       "hdb_age                       0.000000\n",
       "max_floor_lvl                 0.000000\n",
       "year_completed                0.000000\n",
       "residential                   0.000000\n",
       "commercial                    0.000000\n",
       "market_hawker                 0.000000\n",
       "multistorey_carpark           0.000000\n",
       "precinct_pavilion             0.000000\n",
       "total_dwelling_units          0.000000\n",
       "1room_sold                    0.000000\n",
       "2room_sold                    0.000000\n",
       "3room_sold                    0.000000\n",
       "4room_sold                    0.000000\n",
       "5room_sold                    0.000000\n",
       "exec_sold                     0.000000\n",
       "multigen_sold                 0.000000\n",
       "studio_apartment_sold         0.000000\n",
       "1room_rental                  0.000000\n",
       "2room_rental                  0.000000\n",
       "3room_rental                  0.000000\n",
       "other_room_rental             0.000000\n",
       "postal                        0.000000\n",
       "Latitude                      0.000000\n",
       "Longitude                     0.000000\n",
       "planning_area                 0.000000\n",
       "Mall_Nearest_Distance         0.550341\n",
       "Mall_Within_500m             61.598975\n",
       "Mall_Within_1km              16.879323\n",
       "Mall_Within_2km               1.287890\n",
       "Hawker_Nearest_Distance       0.000000\n",
       "Hawker_Within_500m           64.653398\n",
       "Hawker_Within_1km            40.407876\n",
       "Hawker_Within_2km            19.386062\n",
       "hawker_food_stalls            0.000000\n",
       "hawker_market_stalls          0.000000\n",
       "mrt_nearest_distance          0.000000\n",
       "mrt_name                      0.000000\n",
       "bus_interchange               0.000000\n",
       "mrt_interchange               0.000000\n",
       "mrt_latitude                  0.000000\n",
       "mrt_longitude                 0.000000\n",
       "bus_stop_nearest_distance     0.000000\n",
       "bus_stop_name                 0.000000\n",
       "bus_stop_latitude             0.000000\n",
       "bus_stop_longitude            0.000000\n",
       "pri_sch_nearest_distance      0.000000\n",
       "pri_sch_name                  0.000000\n",
       "vacancy                       0.000000\n",
       "pri_sch_affiliation           0.000000\n",
       "pri_sch_latitude              0.000000\n",
       "pri_sch_longitude             0.000000\n",
       "sec_sch_nearest_dist          0.000000\n",
       "sec_sch_name                  0.000000\n",
       "cutoff_point                  0.000000\n",
       "affiliation                   0.000000\n",
       "sec_sch_latitude              0.000000\n",
       "sec_sch_longitude             0.000000\n",
       "dtype: float64"
      ]
     },
     "execution_count": 12,
     "metadata": {},
     "output_type": "execute_result"
    }
   ],
   "source": [
    "# find percentage of data missing\n",
    "train.isnull().sum()/150634*100"
   ]
  },
  {
   "cell_type": "code",
   "execution_count": 13,
   "id": "60f491bd-bd02-4116-892b-77ce4b8b88d6",
   "metadata": {},
   "outputs": [
    {
     "data": {
      "text/plain": [
       "<AxesSubplot: >"
      ]
     },
     "execution_count": 13,
     "metadata": {},
     "output_type": "execute_result"
    },
    {
     "data": {
      "image/png": "[encoded data removed]",
      "text/plain": [
       "<Figure size 640x480 with 1 Axes>"
      ]
     },
     "metadata": {},
     "output_type": "display_data"
    }
   ],
   "source": [
    "# Graphically\n",
    "\n",
    "missing = train.isnull().sum()\n",
    "missing = missing[missing > 0]\n",
    "missing.sort_values(inplace=True)\n",
    "missing.plot.bar()"
   ]
  },
  {
   "cell_type": "markdown",
   "id": "3533c8b9-3a51-4673-a8a6-858b6451e667",
   "metadata": {},
   "source": [
    "There are a total of 7 + 1 features with `null` values in this dataset.  \n",
    "The +1 is the postal code feature, where `null` was converted to `-1`. It have 33 entries, or 0.02% fo the data.  \n",
    "The other 7 features with `null` are:\n",
    "|Fetures|Percentage|\n",
    "|-------|----------|\n",
    "|Mall_Nearest_Distance|       0.005503|\n",
    "|Mall_Within_500m|             0.615990\n",
    "|Mall_Within_1km|              0.168793\n",
    "Mall_Within_2km|              0.012879\n",
    "Hawker_Within_500m|           0.646534\n",
    "Hawker_Within_1km|            0.404079\n",
    "Hawker_Within_2km|            0.193861  \n",
    "\n",
    "Since only 0.5% of `Mall_Nearest_Distance` is `null`, drop the `null` together with `postal` feature.   \n",
    "Worst case senario, I am lose 0.52% of the data.  \n",
    "\n",
    "As for the other 6 features, the `Mall_Nearest_Distance` and `Hawker_Nearest_Distance` already covered this information.  \n",
    "The columns can be removed, as they are essentially the same information and they are obvious correlated. Which is not ideal for regression models."
   ]
  },
  {
   "cell_type": "code",
   "execution_count": 14,
   "id": "486d294d-ba40-47d1-9ebc-2cc8236946f0",
   "metadata": {},
   "outputs": [
    {
     "data": {
      "text/plain": [
       "(150634, 72)"
      ]
     },
     "execution_count": 14,
     "metadata": {},
     "output_type": "execute_result"
    }
   ],
   "source": [
    "train.drop(columns=['Mall_Within_500m', 'Mall_Within_1km', 'Mall_Within_2km', \n",
    "'Hawker_Within_500m', 'Hawker_Within_1km', 'Hawker_Within_2km'], inplace=True)\n",
    "train.shape"
   ]
  },
  {
   "cell_type": "code",
   "execution_count": 15,
   "id": "8df0bae0-9e28-497b-93c5-496b1d08d140",
   "metadata": {},
   "outputs": [
    {
     "data": {
      "text/plain": [
       "(149805, 72)"
      ]
     },
     "execution_count": 15,
     "metadata": {},
     "output_type": "execute_result"
    }
   ],
   "source": [
    "train.dropna(inplace=True)\n",
    "train.shape"
   ]
  },
  {
   "cell_type": "code",
   "execution_count": 16,
   "id": "d4913b2e-da29-496c-920f-d601ab7af3d4",
   "metadata": {},
   "outputs": [
    {
     "data": {
      "text/html": [
       "<div>\n",
       "<style scoped>\n",
       "    .dataframe tbody tr th:only-of-type {\n",
       "        vertical-align: middle;\n",
       "    }\n",
       "\n",
       "    .dataframe tbody tr th {\n",
       "        vertical-align: top;\n",
       "    }\n",
       "\n",
       "    .dataframe thead th {\n",
       "        text-align: right;\n",
       "    }\n",
       "</style>\n",
       "<table border=\"1\" class=\"dataframe\">\n",
       "  <thead>\n",
       "    <tr style=\"text-align: right;\">\n",
       "      <th></th>\n",
       "      <th>id</th>\n",
       "      <th>Tranc_YearMonth</th>\n",
       "      <th>town</th>\n",
       "      <th>flat_type</th>\n",
       "      <th>block</th>\n",
       "      <th>street_name</th>\n",
       "      <th>storey_range</th>\n",
       "      <th>floor_area_sqm</th>\n",
       "      <th>flat_model</th>\n",
       "      <th>lease_commence_date</th>\n",
       "      <th>resale_price</th>\n",
       "      <th>Tranc_Year</th>\n",
       "      <th>Tranc_Month</th>\n",
       "      <th>mid_storey</th>\n",
       "      <th>lower</th>\n",
       "      <th>upper</th>\n",
       "      <th>mid</th>\n",
       "      <th>full_flat_type</th>\n",
       "      <th>address</th>\n",
       "      <th>floor_area_sqft</th>\n",
       "      <th>price_per_sqft</th>\n",
       "      <th>hdb_age</th>\n",
       "      <th>max_floor_lvl</th>\n",
       "      <th>year_completed</th>\n",
       "      <th>residential</th>\n",
       "      <th>commercial</th>\n",
       "      <th>market_hawker</th>\n",
       "      <th>multistorey_carpark</th>\n",
       "      <th>precinct_pavilion</th>\n",
       "      <th>total_dwelling_units</th>\n",
       "      <th>1room_sold</th>\n",
       "      <th>2room_sold</th>\n",
       "      <th>3room_sold</th>\n",
       "      <th>4room_sold</th>\n",
       "      <th>5room_sold</th>\n",
       "      <th>exec_sold</th>\n",
       "      <th>multigen_sold</th>\n",
       "      <th>studio_apartment_sold</th>\n",
       "      <th>1room_rental</th>\n",
       "      <th>2room_rental</th>\n",
       "      <th>3room_rental</th>\n",
       "      <th>other_room_rental</th>\n",
       "      <th>postal</th>\n",
       "      <th>Latitude</th>\n",
       "      <th>Longitude</th>\n",
       "      <th>planning_area</th>\n",
       "      <th>Mall_Nearest_Distance</th>\n",
       "      <th>Hawker_Nearest_Distance</th>\n",
       "      <th>hawker_food_stalls</th>\n",
       "      <th>hawker_market_stalls</th>\n",
       "      <th>mrt_nearest_distance</th>\n",
       "      <th>mrt_name</th>\n",
       "      <th>bus_interchange</th>\n",
       "      <th>mrt_interchange</th>\n",
       "      <th>mrt_latitude</th>\n",
       "      <th>mrt_longitude</th>\n",
       "      <th>bus_stop_nearest_distance</th>\n",
       "      <th>bus_stop_name</th>\n",
       "      <th>bus_stop_latitude</th>\n",
       "      <th>bus_stop_longitude</th>\n",
       "      <th>pri_sch_nearest_distance</th>\n",
       "      <th>pri_sch_name</th>\n",
       "      <th>vacancy</th>\n",
       "      <th>pri_sch_affiliation</th>\n",
       "      <th>pri_sch_latitude</th>\n",
       "      <th>pri_sch_longitude</th>\n",
       "      <th>sec_sch_nearest_dist</th>\n",
       "      <th>sec_sch_name</th>\n",
       "      <th>cutoff_point</th>\n",
       "      <th>affiliation</th>\n",
       "      <th>sec_sch_latitude</th>\n",
       "      <th>sec_sch_longitude</th>\n",
       "    </tr>\n",
       "  </thead>\n",
       "  <tbody>\n",
       "    <tr>\n",
       "      <th>0</th>\n",
       "      <td>88471</td>\n",
       "      <td>2016-05</td>\n",
       "      <td>KALLANG/WHAMPOA</td>\n",
       "      <td>4 ROOM</td>\n",
       "      <td>3B</td>\n",
       "      <td>UPP BOON KENG RD</td>\n",
       "      <td>10 TO 12</td>\n",
       "      <td>90.0</td>\n",
       "      <td>Model A</td>\n",
       "      <td>2006</td>\n",
       "      <td>680000.0</td>\n",
       "      <td>2016</td>\n",
       "      <td>5</td>\n",
       "      <td>11</td>\n",
       "      <td>10</td>\n",
       "      <td>12</td>\n",
       "      <td>11</td>\n",
       "      <td>4 ROOM Model A</td>\n",
       "      <td>3B, UPP BOON KENG RD</td>\n",
       "      <td>968.760</td>\n",
       "      <td>701.928238</td>\n",
       "      <td>15</td>\n",
       "      <td>25</td>\n",
       "      <td>2005</td>\n",
       "      <td>Y</td>\n",
       "      <td>N</td>\n",
       "      <td>N</td>\n",
       "      <td>N</td>\n",
       "      <td>N</td>\n",
       "      <td>142</td>\n",
       "      <td>0</td>\n",
       "      <td>0</td>\n",
       "      <td>0</td>\n",
       "      <td>96</td>\n",
       "      <td>46</td>\n",
       "      <td>0</td>\n",
       "      <td>0</td>\n",
       "      <td>0</td>\n",
       "      <td>0</td>\n",
       "      <td>0</td>\n",
       "      <td>0</td>\n",
       "      <td>0</td>\n",
       "      <td>382003</td>\n",
       "      <td>1.314299</td>\n",
       "      <td>103.872828</td>\n",
       "      <td>Kallang</td>\n",
       "      <td>1094.090418</td>\n",
       "      <td>154.753357</td>\n",
       "      <td>84</td>\n",
       "      <td>60</td>\n",
       "      <td>330.083069</td>\n",
       "      <td>Kallang</td>\n",
       "      <td>0</td>\n",
       "      <td>0</td>\n",
       "      <td>1.311540</td>\n",
       "      <td>103.871731</td>\n",
       "      <td>29.427395</td>\n",
       "      <td>Blk 3B</td>\n",
       "      <td>1.314433</td>\n",
       "      <td>103.872600</td>\n",
       "      <td>1138.633422</td>\n",
       "      <td>Geylang Methodist School</td>\n",
       "      <td>78</td>\n",
       "      <td>1</td>\n",
       "      <td>1.317659</td>\n",
       "      <td>103.882504</td>\n",
       "      <td>1138.633422</td>\n",
       "      <td>Geylang Methodist School</td>\n",
       "      <td>224</td>\n",
       "      <td>0</td>\n",
       "      <td>1.317659</td>\n",
       "      <td>103.882504</td>\n",
       "    </tr>\n",
       "    <tr>\n",
       "      <th>1</th>\n",
       "      <td>122598</td>\n",
       "      <td>2012-07</td>\n",
       "      <td>BISHAN</td>\n",
       "      <td>5 ROOM</td>\n",
       "      <td>153</td>\n",
       "      <td>BISHAN ST 13</td>\n",
       "      <td>07 TO 09</td>\n",
       "      <td>130.0</td>\n",
       "      <td>Improved</td>\n",
       "      <td>1987</td>\n",
       "      <td>665000.0</td>\n",
       "      <td>2012</td>\n",
       "      <td>7</td>\n",
       "      <td>8</td>\n",
       "      <td>7</td>\n",
       "      <td>9</td>\n",
       "      <td>8</td>\n",
       "      <td>5 ROOM Improved</td>\n",
       "      <td>153, BISHAN ST 13</td>\n",
       "      <td>1399.320</td>\n",
       "      <td>475.230826</td>\n",
       "      <td>34</td>\n",
       "      <td>9</td>\n",
       "      <td>1987</td>\n",
       "      <td>Y</td>\n",
       "      <td>N</td>\n",
       "      <td>N</td>\n",
       "      <td>N</td>\n",
       "      <td>N</td>\n",
       "      <td>112</td>\n",
       "      <td>0</td>\n",
       "      <td>0</td>\n",
       "      <td>0</td>\n",
       "      <td>56</td>\n",
       "      <td>56</td>\n",
       "      <td>0</td>\n",
       "      <td>0</td>\n",
       "      <td>0</td>\n",
       "      <td>0</td>\n",
       "      <td>0</td>\n",
       "      <td>0</td>\n",
       "      <td>0</td>\n",
       "      <td>570153</td>\n",
       "      <td>1.346086</td>\n",
       "      <td>103.855078</td>\n",
       "      <td>Bishan</td>\n",
       "      <td>866.941448</td>\n",
       "      <td>640.151925</td>\n",
       "      <td>80</td>\n",
       "      <td>77</td>\n",
       "      <td>903.659703</td>\n",
       "      <td>Bishan</td>\n",
       "      <td>1</td>\n",
       "      <td>1</td>\n",
       "      <td>1.350580</td>\n",
       "      <td>103.848305</td>\n",
       "      <td>58.207761</td>\n",
       "      <td>BLK 151A MKT</td>\n",
       "      <td>1.345659</td>\n",
       "      <td>103.855381</td>\n",
       "      <td>415.607357</td>\n",
       "      <td>Kuo Chuan Presbyterian Primary School</td>\n",
       "      <td>45</td>\n",
       "      <td>1</td>\n",
       "      <td>1.349783</td>\n",
       "      <td>103.854529</td>\n",
       "      <td>447.894399</td>\n",
       "      <td>Kuo Chuan Presbyterian Secondary School</td>\n",
       "      <td>232</td>\n",
       "      <td>0</td>\n",
       "      <td>1.350110</td>\n",
       "      <td>103.854892</td>\n",
       "    </tr>\n",
       "    <tr>\n",
       "      <th>2</th>\n",
       "      <td>170897</td>\n",
       "      <td>2013-07</td>\n",
       "      <td>BUKIT BATOK</td>\n",
       "      <td>EXECUTIVE</td>\n",
       "      <td>289B</td>\n",
       "      <td>BT BATOK ST 25</td>\n",
       "      <td>13 TO 15</td>\n",
       "      <td>144.0</td>\n",
       "      <td>Apartment</td>\n",
       "      <td>1997</td>\n",
       "      <td>838000.0</td>\n",
       "      <td>2013</td>\n",
       "      <td>7</td>\n",
       "      <td>14</td>\n",
       "      <td>13</td>\n",
       "      <td>15</td>\n",
       "      <td>14</td>\n",
       "      <td>EXECUTIVE Apartment</td>\n",
       "      <td>289B, BT BATOK ST 25</td>\n",
       "      <td>1550.016</td>\n",
       "      <td>540.639580</td>\n",
       "      <td>24</td>\n",
       "      <td>16</td>\n",
       "      <td>1996</td>\n",
       "      <td>Y</td>\n",
       "      <td>N</td>\n",
       "      <td>N</td>\n",
       "      <td>N</td>\n",
       "      <td>N</td>\n",
       "      <td>90</td>\n",
       "      <td>0</td>\n",
       "      <td>0</td>\n",
       "      <td>0</td>\n",
       "      <td>0</td>\n",
       "      <td>30</td>\n",
       "      <td>60</td>\n",
       "      <td>0</td>\n",
       "      <td>0</td>\n",
       "      <td>0</td>\n",
       "      <td>0</td>\n",
       "      <td>0</td>\n",
       "      <td>0</td>\n",
       "      <td>651289</td>\n",
       "      <td>1.343867</td>\n",
       "      <td>103.760535</td>\n",
       "      <td>Bukit Batok</td>\n",
       "      <td>1459.579948</td>\n",
       "      <td>1762.082341</td>\n",
       "      <td>84</td>\n",
       "      <td>95</td>\n",
       "      <td>1334.251197</td>\n",
       "      <td>Bukit Batok</td>\n",
       "      <td>1</td>\n",
       "      <td>0</td>\n",
       "      <td>1.349561</td>\n",
       "      <td>103.749970</td>\n",
       "      <td>214.747860</td>\n",
       "      <td>Blk 289E</td>\n",
       "      <td>1.344064</td>\n",
       "      <td>103.758613</td>\n",
       "      <td>498.849039</td>\n",
       "      <td>Keming Primary School</td>\n",
       "      <td>39</td>\n",
       "      <td>0</td>\n",
       "      <td>1.345245</td>\n",
       "      <td>103.756265</td>\n",
       "      <td>180.074558</td>\n",
       "      <td>Yusof Ishak Secondary School</td>\n",
       "      <td>188</td>\n",
       "      <td>0</td>\n",
       "      <td>1.342334</td>\n",
       "      <td>103.760013</td>\n",
       "    </tr>\n",
       "    <tr>\n",
       "      <th>3</th>\n",
       "      <td>86070</td>\n",
       "      <td>2012-04</td>\n",
       "      <td>BISHAN</td>\n",
       "      <td>4 ROOM</td>\n",
       "      <td>232</td>\n",
       "      <td>BISHAN ST 22</td>\n",
       "      <td>01 TO 05</td>\n",
       "      <td>103.0</td>\n",
       "      <td>Model A</td>\n",
       "      <td>1992</td>\n",
       "      <td>550000.0</td>\n",
       "      <td>2012</td>\n",
       "      <td>4</td>\n",
       "      <td>3</td>\n",
       "      <td>1</td>\n",
       "      <td>5</td>\n",
       "      <td>3</td>\n",
       "      <td>4 ROOM Model A</td>\n",
       "      <td>232, BISHAN ST 22</td>\n",
       "      <td>1108.692</td>\n",
       "      <td>496.080066</td>\n",
       "      <td>29</td>\n",
       "      <td>11</td>\n",
       "      <td>1990</td>\n",
       "      <td>Y</td>\n",
       "      <td>Y</td>\n",
       "      <td>N</td>\n",
       "      <td>N</td>\n",
       "      <td>N</td>\n",
       "      <td>75</td>\n",
       "      <td>0</td>\n",
       "      <td>0</td>\n",
       "      <td>0</td>\n",
       "      <td>68</td>\n",
       "      <td>7</td>\n",
       "      <td>0</td>\n",
       "      <td>0</td>\n",
       "      <td>0</td>\n",
       "      <td>0</td>\n",
       "      <td>0</td>\n",
       "      <td>0</td>\n",
       "      <td>0</td>\n",
       "      <td>570232</td>\n",
       "      <td>1.358245</td>\n",
       "      <td>103.845504</td>\n",
       "      <td>Bishan</td>\n",
       "      <td>950.175199</td>\n",
       "      <td>726.215262</td>\n",
       "      <td>32</td>\n",
       "      <td>86</td>\n",
       "      <td>907.453484</td>\n",
       "      <td>Bishan</td>\n",
       "      <td>1</td>\n",
       "      <td>1</td>\n",
       "      <td>1.350580</td>\n",
       "      <td>103.848305</td>\n",
       "      <td>43.396521</td>\n",
       "      <td>Opp Bishan Nth Shop Mall</td>\n",
       "      <td>1.358045</td>\n",
       "      <td>103.845169</td>\n",
       "      <td>389.515528</td>\n",
       "      <td>Catholic High School</td>\n",
       "      <td>20</td>\n",
       "      <td>1</td>\n",
       "      <td>1.354789</td>\n",
       "      <td>103.844934</td>\n",
       "      <td>389.515528</td>\n",
       "      <td>Catholic High School</td>\n",
       "      <td>253</td>\n",
       "      <td>1</td>\n",
       "      <td>1.354789</td>\n",
       "      <td>103.844934</td>\n",
       "    </tr>\n",
       "    <tr>\n",
       "      <th>4</th>\n",
       "      <td>153632</td>\n",
       "      <td>2017-12</td>\n",
       "      <td>YISHUN</td>\n",
       "      <td>4 ROOM</td>\n",
       "      <td>876</td>\n",
       "      <td>YISHUN ST 81</td>\n",
       "      <td>01 TO 03</td>\n",
       "      <td>83.0</td>\n",
       "      <td>Simplified</td>\n",
       "      <td>1987</td>\n",
       "      <td>298000.0</td>\n",
       "      <td>2017</td>\n",
       "      <td>12</td>\n",
       "      <td>2</td>\n",
       "      <td>1</td>\n",
       "      <td>3</td>\n",
       "      <td>2</td>\n",
       "      <td>4 ROOM Simplified</td>\n",
       "      <td>876, YISHUN ST 81</td>\n",
       "      <td>893.412</td>\n",
       "      <td>333.552717</td>\n",
       "      <td>34</td>\n",
       "      <td>4</td>\n",
       "      <td>1987</td>\n",
       "      <td>Y</td>\n",
       "      <td>N</td>\n",
       "      <td>N</td>\n",
       "      <td>N</td>\n",
       "      <td>N</td>\n",
       "      <td>48</td>\n",
       "      <td>0</td>\n",
       "      <td>0</td>\n",
       "      <td>0</td>\n",
       "      <td>30</td>\n",
       "      <td>18</td>\n",
       "      <td>0</td>\n",
       "      <td>0</td>\n",
       "      <td>0</td>\n",
       "      <td>0</td>\n",
       "      <td>0</td>\n",
       "      <td>0</td>\n",
       "      <td>0</td>\n",
       "      <td>760876</td>\n",
       "      <td>1.414745</td>\n",
       "      <td>103.835532</td>\n",
       "      <td>Yishun</td>\n",
       "      <td>729.771895</td>\n",
       "      <td>1540.151439</td>\n",
       "      <td>45</td>\n",
       "      <td>0</td>\n",
       "      <td>412.343032</td>\n",
       "      <td>Khatib</td>\n",
       "      <td>0</td>\n",
       "      <td>0</td>\n",
       "      <td>1.417131</td>\n",
       "      <td>103.832692</td>\n",
       "      <td>129.422752</td>\n",
       "      <td>Blk 873</td>\n",
       "      <td>1.415424</td>\n",
       "      <td>103.836477</td>\n",
       "      <td>401.200584</td>\n",
       "      <td>Naval Base Primary School</td>\n",
       "      <td>74</td>\n",
       "      <td>0</td>\n",
       "      <td>1.416280</td>\n",
       "      <td>103.838798</td>\n",
       "      <td>312.025435</td>\n",
       "      <td>Orchid Park Secondary School</td>\n",
       "      <td>208</td>\n",
       "      <td>0</td>\n",
       "      <td>1.414888</td>\n",
       "      <td>103.838335</td>\n",
       "    </tr>\n",
       "  </tbody>\n",
       "</table>\n",
       "</div>"
      ],
      "text/plain": [
       "       id Tranc_YearMonth             town  flat_type block       street_name  \\\n",
       "0   88471         2016-05  KALLANG/WHAMPOA     4 ROOM    3B  UPP BOON KENG RD   \n",
       "1  122598         2012-07           BISHAN     5 ROOM   153      BISHAN ST 13   \n",
       "2  170897         2013-07      BUKIT BATOK  EXECUTIVE  289B    BT BATOK ST 25   \n",
       "3   86070         2012-04           BISHAN     4 ROOM   232      BISHAN ST 22   \n",
       "4  153632         2017-12           YISHUN     4 ROOM   876      YISHUN ST 81   \n",
       "\n",
       "  storey_range  floor_area_sqm  flat_model  lease_commence_date  resale_price  \\\n",
       "0     10 TO 12            90.0     Model A                 2006      680000.0   \n",
       "1     07 TO 09           130.0    Improved                 1987      665000.0   \n",
       "2     13 TO 15           144.0   Apartment                 1997      838000.0   \n",
       "3     01 TO 05           103.0     Model A                 1992      550000.0   \n",
       "4     01 TO 03            83.0  Simplified                 1987      298000.0   \n",
       "\n",
       "   Tranc_Year  Tranc_Month  mid_storey  lower  upper  mid  \\\n",
       "0        2016            5          11     10     12   11   \n",
       "1        2012            7           8      7      9    8   \n",
       "2        2013            7          14     13     15   14   \n",
       "3        2012            4           3      1      5    3   \n",
       "4        2017           12           2      1      3    2   \n",
       "\n",
       "        full_flat_type               address  floor_area_sqft  price_per_sqft  \\\n",
       "0       4 ROOM Model A  3B, UPP BOON KENG RD          968.760      701.928238   \n",
       "1      5 ROOM Improved     153, BISHAN ST 13         1399.320      475.230826   \n",
       "2  EXECUTIVE Apartment  289B, BT BATOK ST 25         1550.016      540.639580   \n",
       "3       4 ROOM Model A     232, BISHAN ST 22         1108.692      496.080066   \n",
       "4    4 ROOM Simplified     876, YISHUN ST 81          893.412      333.552717   \n",
       "\n",
       "   hdb_age  max_floor_lvl  year_completed residential commercial  \\\n",
       "0       15             25            2005           Y          N   \n",
       "1       34              9            1987           Y          N   \n",
       "2       24             16            1996           Y          N   \n",
       "3       29             11            1990           Y          Y   \n",
       "4       34              4            1987           Y          N   \n",
       "\n",
       "  market_hawker multistorey_carpark precinct_pavilion  total_dwelling_units  \\\n",
       "0             N                   N                 N                   142   \n",
       "1             N                   N                 N                   112   \n",
       "2             N                   N                 N                    90   \n",
       "3             N                   N                 N                    75   \n",
       "4             N                   N                 N                    48   \n",
       "\n",
       "   1room_sold  2room_sold  3room_sold  4room_sold  5room_sold  exec_sold  \\\n",
       "0           0           0           0          96          46          0   \n",
       "1           0           0           0          56          56          0   \n",
       "2           0           0           0           0          30         60   \n",
       "3           0           0           0          68           7          0   \n",
       "4           0           0           0          30          18          0   \n",
       "\n",
       "   multigen_sold  studio_apartment_sold  1room_rental  2room_rental  \\\n",
       "0              0                      0             0             0   \n",
       "1              0                      0             0             0   \n",
       "2              0                      0             0             0   \n",
       "3              0                      0             0             0   \n",
       "4              0                      0             0             0   \n",
       "\n",
       "   3room_rental  other_room_rental  postal  Latitude   Longitude  \\\n",
       "0             0                  0  382003  1.314299  103.872828   \n",
       "1             0                  0  570153  1.346086  103.855078   \n",
       "2             0                  0  651289  1.343867  103.760535   \n",
       "3             0                  0  570232  1.358245  103.845504   \n",
       "4             0                  0  760876  1.414745  103.835532   \n",
       "\n",
       "  planning_area  Mall_Nearest_Distance  Hawker_Nearest_Distance  \\\n",
       "0       Kallang            1094.090418               154.753357   \n",
       "1        Bishan             866.941448               640.151925   \n",
       "2   Bukit Batok            1459.579948              1762.082341   \n",
       "3        Bishan             950.175199               726.215262   \n",
       "4        Yishun             729.771895              1540.151439   \n",
       "\n",
       "   hawker_food_stalls  hawker_market_stalls  mrt_nearest_distance  \\\n",
       "0                  84                    60            330.083069   \n",
       "1                  80                    77            903.659703   \n",
       "2                  84                    95           1334.251197   \n",
       "3                  32                    86            907.453484   \n",
       "4                  45                     0            412.343032   \n",
       "\n",
       "      mrt_name  bus_interchange  mrt_interchange  mrt_latitude  mrt_longitude  \\\n",
       "0      Kallang                0                0      1.311540     103.871731   \n",
       "1       Bishan                1                1      1.350580     103.848305   \n",
       "2  Bukit Batok                1                0      1.349561     103.749970   \n",
       "3       Bishan                1                1      1.350580     103.848305   \n",
       "4       Khatib                0                0      1.417131     103.832692   \n",
       "\n",
       "   bus_stop_nearest_distance             bus_stop_name  bus_stop_latitude  \\\n",
       "0                  29.427395                    Blk 3B           1.314433   \n",
       "1                  58.207761              BLK 151A MKT           1.345659   \n",
       "2                 214.747860                  Blk 289E           1.344064   \n",
       "3                  43.396521  Opp Bishan Nth Shop Mall           1.358045   \n",
       "4                 129.422752                   Blk 873           1.415424   \n",
       "\n",
       "   bus_stop_longitude  pri_sch_nearest_distance  \\\n",
       "0          103.872600               1138.633422   \n",
       "1          103.855381                415.607357   \n",
       "2          103.758613                498.849039   \n",
       "3          103.845169                389.515528   \n",
       "4          103.836477                401.200584   \n",
       "\n",
       "                            pri_sch_name  vacancy  pri_sch_affiliation  \\\n",
       "0               Geylang Methodist School       78                    1   \n",
       "1  Kuo Chuan Presbyterian Primary School       45                    1   \n",
       "2                  Keming Primary School       39                    0   \n",
       "3                   Catholic High School       20                    1   \n",
       "4              Naval Base Primary School       74                    0   \n",
       "\n",
       "   pri_sch_latitude  pri_sch_longitude  sec_sch_nearest_dist  \\\n",
       "0          1.317659         103.882504           1138.633422   \n",
       "1          1.349783         103.854529            447.894399   \n",
       "2          1.345245         103.756265            180.074558   \n",
       "3          1.354789         103.844934            389.515528   \n",
       "4          1.416280         103.838798            312.025435   \n",
       "\n",
       "                              sec_sch_name  cutoff_point  affiliation  \\\n",
       "0                 Geylang Methodist School           224            0   \n",
       "1  Kuo Chuan Presbyterian Secondary School           232            0   \n",
       "2             Yusof Ishak Secondary School           188            0   \n",
       "3                     Catholic High School           253            1   \n",
       "4             Orchid Park Secondary School           208            0   \n",
       "\n",
       "   sec_sch_latitude  sec_sch_longitude  \n",
       "0          1.317659         103.882504  \n",
       "1          1.350110         103.854892  \n",
       "2          1.342334         103.760013  \n",
       "3          1.354789         103.844934  \n",
       "4          1.414888         103.838335  "
      ]
     },
     "metadata": {},
     "output_type": "display_data"
    }
   ],
   "source": [
    "train = train[train['postal']>-1]\n",
    "train.shape\n",
    "train.reset_index(drop=True, inplace=True)\n",
    "display(train.head())"
   ]
  },
  {
   "cell_type": "markdown",
   "id": "5202bb5a-f0b0-473c-864f-0875d97de68b",
   "metadata": {},
   "source": [
    "With this, `null` values are removed and dataset is ready for EDA and further cleaning.  \n",
    "Also note that there's `price_per_sqft` feature.   (=_=)|||    \n",
    "However, this feature is not in GA Singapore's kaggle Data Dictionary.  \n",
    "So it should be dropped before analysis. "
   ]
  },
  {
   "cell_type": "code",
   "execution_count": 17,
   "id": "90d23ec4-183b-40e0-917a-9bbd9d47913a",
   "metadata": {},
   "outputs": [],
   "source": [
    "train.drop(columns=['price_per_sqft'], inplace=True)"
   ]
  },
  {
   "cell_type": "markdown",
   "id": "60369bcc-e695-42be-aea9-a5813ad7bf32",
   "metadata": {},
   "source": [
    "## Data Distribution"
   ]
  },
  {
   "cell_type": "markdown",
   "id": "42e319c8-6a3c-450a-b223-12c08ce963ad",
   "metadata": {},
   "source": [
    "content:  \n",
    "[Value to preict](#Value-to-predict)  \n",
    "[Features used for prediction](#Features-used-for-prediction)  \n",
    "[Numerical features](#Numerical-features)  \n",
    "[Categorical features](#Categorical-features)   "
   ]
  },
  {
   "cell_type": "markdown",
   "id": "dda1b105-3497-4e5e-8664-85c87b63eb91",
   "metadata": {},
   "source": [
    "### Value-to-predict"
   ]
  },
  {
   "cell_type": "markdown",
   "id": "c316d088-4055-4823-9453-1be97c55f837",
   "metadata": {},
   "source": [
    "First, take a look at the distribution of feature to be predicted, `resale_price`."
   ]
  },
  {
   "cell_type": "code",
   "execution_count": 18,
   "id": "f85249de-8748-4e06-aeb8-df81bad79546",
   "metadata": {},
   "outputs": [
    {
     "data": {
      "text/plain": [
       "count    1.497720e+05\n",
       "mean     4.486613e+05\n",
       "std      1.432260e+05\n",
       "min      1.500000e+05\n",
       "25%      3.460000e+05\n",
       "50%      4.200000e+05\n",
       "75%      5.200000e+05\n",
       "max      1.258000e+06\n",
       "Name: resale_price, dtype: float64"
      ]
     },
     "execution_count": 18,
     "metadata": {},
     "output_type": "execute_result"
    }
   ],
   "source": [
    "train.resale_price.describe()"
   ]
  },
  {
   "cell_type": "markdown",
   "id": "7e2f759e-c4ab-4b75-b67c-62cb935d2196",
   "metadata": {},
   "source": [
    "We can see the resale price have a range of 150,000 to 1,258,000 SGD.   \n",
    "Mean price is at 448,661.13 SGD. While median price is at 420,000 SGD. This shows a likely right skewness.  \n",
    "This also shows most houses are still affordable back then.  \n",
    "However, a good property can go up to 1.258 million SGD. That IS A LOT of money.  "
   ]
  },
  {
   "cell_type": "code",
   "execution_count": 31,
   "id": "f86d8379-5130-4b96-a878-b96dcdaa67a7",
   "metadata": {},
   "outputs": [
    {
     "data": {
      "text/plain": [
       "<Figure size 1000x3000 with 0 Axes>"
      ]
     },
     "metadata": {},
     "output_type": "display_data"
    },
    {
     "data": {
      "image/png": "[encoded data removed]",
      "text/plain": [
       "<Figure size 500x500 with 1 Axes>"
      ]
     },
     "metadata": {},
     "output_type": "display_data"
    }
   ],
   "source": [
    "plt.figure(figsize = (10,30)); # plt.plot() is using plt to plot. plt.figure() is asking plt to give a canvas for drawing of anything\n",
    "sns.displot(train.resale_price, kde=True, bins=list(range(150000, 1258000, 50000)))\n",
    "plt.title('Distribution of resale_price');"
   ]
  },
  {
   "cell_type": "markdown",
   "id": "b57e58b0-a664-4d8b-a528-2f983a3b677c",
   "metadata": {},
   "source": [
    "Here, I am using a value of 50,000 per bin.  \n",
    "This is becasue the default value and value of 10,000 per bin will both yeild very fine histograms which does not give a good overall representation of the distribution of the prices.   \n",
    "At 50,000 per bin, that's roughly about 1 year's wage for many normal Singaporeans. This will give the rought shape of the distribution, with right ammount of details.  \n",
    "\n",
    "From the figure above, we can see that model resale price is between 0.45 to 0.5 million SGD.   \n",
    "Welp, the only thing I can say is get a girlfriend and buy early...   \n",
    "Jokes aside, the defining features I can observe are:  \n",
    "1. It is right skewed.\n",
    "2. It deviates from normal distribution.\n",
    "3. it is single peaked."
   ]
  },
  {
   "cell_type": "code",
   "execution_count": 33,
   "id": "4011cf27-b4e2-4c52-85e4-273a27815482",
   "metadata": {},
   "outputs": [
    {
     "name": "stdout",
     "output_type": "stream",
     "text": [
      "Skewness: 1.088377\n",
      "Kurtosis: 1.338013\n"
     ]
    }
   ],
   "source": [
    "#skewness and kurtosis\n",
    "print(\"Skewness: %f\" % train.resale_price.skew())\n",
    "print(\"Kurtosis: %f\" % train.resale_price.kurt())"
   ]
  },
  {
   "cell_type": "markdown",
   "id": "8534164b-569d-4362-ae86-1b372dda5778",
   "metadata": {},
   "source": [
    "Note to self:  \n",
    "Skewness:   \n",
    "<img src=\"../img/wiki_skewness.png\" width=\"200\" height=\"100\"></img>  \n",
    "This image refers to the sample skewness, from Google.  \n",
    "Skewness is a measure of the symmetry in a distribution.  A symmetrical dataset will have a skewness equal to 0.  So, a normal distribution will have a skewness of 0.   Skewness essentially measures the relative size of the two tails.   \n",
    "Kurtosis:  \n",
    "<img src=\"../img/goog_kurtosis.png\" width=\"200\" height=\"100\"></img>  \n",
    "This image refers to kurtosis of data, from Google.  \n",
    "The kurtosis parameter is a measure of the combined weight of the tails relative to the rest of the distribution.  \n",
    "Taken from [SPCforExcel website](https://www.spcforexcel.com/knowledge/basic-statistics/are-skewness-and-kurtosis-useful-statistics)."
   ]
  },
  {
   "cell_type": "markdown",
   "id": "0db5ee51-98bf-4215-8d6f-5d1bfbe17058",
   "metadata": {},
   "source": [
    "Essentially, these parameters are saying `resale_price` is not normally distributed and the center of the distribution still makes a large portion of the data."
   ]
  },
  {
   "cell_type": "markdown",
   "id": "ba057561-2f83-4ad4-ac87-0e998f4be21a",
   "metadata": {},
   "source": [
    "### Features used for prediction "
   ]
  },
  {
   "cell_type": "markdown",
   "id": "614474a9-2988-4636-b477-46630640b327",
   "metadata": {},
   "source": [
    "Next, look at the data dictionary provided in GA Singapore's kaggle to check for the meaning od eacf feature.  \n",
    "With this, I can get a rough sense of should the data be included in the first place.  \n",
    "As we know, multicollinearity, where several independent variables in a model are correlated, will result in poorer model performance.  \n",
    "Although tideous, this can be a good time to do a preliminary seiving for what variables to keep. "
   ]
  },
  {
   "cell_type": "markdown",
   "id": "3795834b-3b30-4a5d-bfef-ab56f26d6e77",
   "metadata": {},
   "source": [
    "|feature name| description| comment|\n",
    "|---|---|---| \n",
    "|Tranc_YearMonth| year and month of the resale transaction, e.g. 2015-02|  categorical, should remove as other features covered this|\n",
    "town| HDB township where the flat is located, e.g. BUKIT MERAH | categorical, correlated to location features  \n",
    "flat_type| type of the resale flat unit, e.g. 3 ROOM | categorical   \n",
    "block| block number of the resale flat, e.g. 454 | categorical, correlated to location features like postal code  \n",
    "street_name|street name where the resale flat resides, e.g. TAMPINES ST 42 | categorical, correlated to location features  \n",
    "storey_range| floor level (range) of the resale flat unit, e.g. 07 TO 09 | categorical    \n",
    "floor_area_sqm| floor area of the resale flat unit in square metres  | numerical  \n",
    "flat_model| HDB model of the resale flat, e.g. Multi Generation  | categorical  \n",
    "lease_commence_date| commencement year of the flat unit's 99-year lease | numerical, becasue find how long the house is left with   \n",
    "Tranc_Year| year of resale transaction  | categorical  \n",
    "Tranc_Month| month of resale transaction  | categorical  \n",
    "mid_storey| median value of storey_range  | ???  \n",
    "lower| lower value of storey_range |???  \n",
    "upper| upper value of storey_range |???   \n",
    "mid| middle value of storey_range | ???   \n",
    "full_flat_type| combination of flat_type and flat_model | should remove as other features covered it   \n",
    "address| combination of block and street_name| categorical, correalted to location    \n",
    "floor_area_sqft| floor area of the resale flat unit in square feet | numerical, correlated to floor_area_sqm, just keep 1   \n",
    "hdb_age| number of years from lease_commence_date to present year  | numerical, correlated to lease_commence_date, just keep 1  \n",
    "max_floor_lvl| highest floor of the resale flat  | ???   \n",
    "year_completed| year which construction was completed for resale flat | should remove as highly correlated to lease \n",
    "residential| boolean value if resale flat has residential units in the same block  | categorical\n",
    "commercial| boolean value if resale flat has commercial units in the same block  | categorical\n",
    "market_hawker| boolean value if resale flat has a market or hawker centre in the same block  | categorical\n",
    "multistorey_carpark| boolean value if resale flat has a multistorey carpark in the same block  | categorical\n",
    "precinct_pavilion| boolean value if resale flat has a pavilion in the same block  | categorical\n",
    "total_dwelling_units| total number of residential dwelling units in the resale flat  | numerical\n",
    "1room_sold| number of 1-room residential units in the resale flat  | numerical\n",
    "2room_sold| number of 2-room residential units in the resale flat  |numerical\n",
    "3room_sold| number of 3-room residential units in the resale flat  |numerical\n",
    "4room_sold| number of 4-room residential units in the resale flat  |numerical\n",
    "5room_sold| number of 5-room residential units in the resale flat  | numerical\n",
    "exec_sold| number of executive type residential units in the resale flat block  |numerical\n",
    "multigen_sold| number of multi-generational type residential units in the resale flat block  |numerical\n",
    "studio_apartment_sold| number of studio apartment type residential units in the resale flat block  |numerical\n",
    "1room_rental| number of 1-room rental residential units in the resale flat block  |numerical\n",
    "2room_rental| number of 2-room rental residential units in the resale flat block  |numerical\n",
    "3room_rental| number of 3-room rental residential units in the resale flat block  |numerical\n",
    "other_room_rental| number of \"other\" type rental residential units in the resale flat block |numerical \n",
    "postal| postal code of the resale flat block  |numerical, but actually it is doing categorical job\n",
    "Latitude| Latitude based on postal code |numerical \n",
    "Longitude| Longitude based on postal code  |numerical\n",
    "planning_area| Government planning area that the flat is located  | categorical\n",
    "Mall_Nearest_Distance| distance (in metres) to the nearest mall  |numerical\n",
    "Mall_Within_500m| number of malls within 500 metres  |dropped\n",
    "Mall_Within_1km| number of malls within 1 kilometre  |dropped\n",
    "Mall_Within_2km| number of malls within 2 kilometres  |dropped\n",
    "Hawker_Nearest_Distance| distance (in metres) to the nearest hawker centre  | numerical\n",
    "Hawker_Within_500m| number of hawker centres within 500 metres  |dropped\n",
    "Hawker_Within_1km| number of hawker centres within 1 kilometre  |dropped\n",
    "Hawker_Within_2km| number of hawker centres within 2 kilometres  |dropped\n",
    "hawker_food_stalls| number of hawker food stalls in the nearest hawker centre  | numerical\n",
    "hawker_market_stalls| number of hawker and market stalls in the nearest hawker centre  | numerical, correlated to the feature on top\n",
    "mrt_nearest_distance| distance (in metres) to the nearest MRT station  |numerical\n",
    "mrt_name| name of the nearest MRT station  | categorical\n",
    "bus_interchange| boolean value if the nearest MRT station is also a bus interchange  | categorical\n",
    "mrt_interchange| boolean value if the nearest MRT station is a train interchange station  |categorical, correlated to the feature on top\n",
    "mrt_latitude| latitude (in decimal degrees) of the the nearest MRT station  | numerical\n",
    "mrt_longitude| longitude (in decimal degrees) of the nearest MRT station  |numerical\n",
    "bus_stop_nearest_distance| distance (in metres) to the nearest bus stop  |numerical\n",
    "bus_stop_name| name of the nearest bus stop |??? \n",
    "bus_stop_latitude| latitude (in decimal degrees) of the the nearest bus stop  | numerical, correlated to distance to bus stop\n",
    "bus_stop_longitude| longitude (in decimal degrees) of the nearest bus stop  | numerical, correlated to distance to bus stop\n",
    "pri_sch_nearest_distance| distance (in metres) to the nearest primary school  | categorical\n",
    "pri_sch_name| name of the nearest primary school  | categorical\n",
    "vacancy| number of vacancies in the nearest primary school  | numerical, could be important if they want kids to go more prestigeous school?\n",
    "pri_sch_affiliation| boolean value if the nearest primary school has a secondary school affiliation  | categorical\n",
    "pri_sch_latitude| latitude (in decimal degrees) of the the nearest primary school | numerical, correlated\n",
    "pri_sch_longitude| longitude (in decimal degrees) of the nearest primary school | numerical, correlated\n",
    "sec_sch_nearest_dist| distance (in metres) to the nearest secondary school | numerical \n",
    "sec_sch_name| name of the nearest secondary school  | categorical\n",
    "cutoff_point| PSLE cutoff point of the nearest secondary school | numerical \n",
    "affiliation| boolean value if the nearest secondary school has an primary school affiliation | drop, same as pri sch affiliate with sec sch\n",
    "sec_sch_latitude| latitude (in decimal degrees) of the the nearest secondary school  | numerical, correlated\n",
    "sec_sch_longitude| longitude (in decimal degrees) of the nearest secondary school  | numerical, correlated"
   ]
  },
  {
   "cell_type": "markdown",
   "id": "fbb5e45d-b4f1-4dae-bef7-8bea8221eba4",
   "metadata": {},
   "source": [
    "That is A LOT of work. However, now I have a better understanding of what I am dealing with.  \n",
    "I can also guess on what are the more important predictors.  \n",
    "Like distance to MRT, size of flat, age of flat, etc."
   ]
  },
  {
   "cell_type": "markdown",
   "id": "48e12dc5-c2d0-4de1-9cfc-fc1335668723",
   "metadata": {},
   "source": [
    "### The ??? are things I don't know how to interpret. It might be wise to check/ ask if such option is valid."
   ]
  },
  {
   "cell_type": "markdown",
   "id": "3e879f0f-95cd-4b16-b23a-cba67032b2f5",
   "metadata": {},
   "source": [
    "### Numerical features"
   ]
  },
  {
   "cell_type": "code",
   "execution_count": null,
   "id": "35dfb4e5-7b58-4307-b31f-dabd896c8c3c",
   "metadata": {},
   "outputs": [],
   "source": []
  },
  {
   "cell_type": "code",
   "execution_count": null,
   "id": "cdef907e-e974-4cef-a43c-9543ba6c672c",
   "metadata": {},
   "outputs": [],
   "source": []
  },
  {
   "cell_type": "markdown",
   "id": "4211fab5-0d57-4e7a-91c1-aa2dcac96c95",
   "metadata": {},
   "source": [
    "### Categorical features"
   ]
  },
  {
   "cell_type": "code",
   "execution_count": null,
   "id": "556eb328-0b94-470c-87fc-6bca20a93e49",
   "metadata": {},
   "outputs": [],
   "source": []
  },
  {
   "cell_type": "code",
   "execution_count": null,
   "id": "24d1c6ce-b7dc-44f9-b6f3-0ae7fbfffc6f",
   "metadata": {},
   "outputs": [],
   "source": []
  },
  {
   "cell_type": "markdown",
   "id": "103f49d0-39ba-4463-9e19-82e976c4b64d",
   "metadata": {},
   "source": [
    "## Outliers"
   ]
  },
  {
   "cell_type": "markdown",
   "id": "b9609507-eaed-47fd-a8e3-052c1a2489a2",
   "metadata": {},
   "source": [
    "## Summary Statistics"
   ]
  },
  {
   "cell_type": "markdown",
   "id": "d860d784-7ff9-419e-8b4f-68839b151c7a",
   "metadata": {},
   "source": [
    "## Evaluation based on EDA"
   ]
  },
  {
   "cell_type": "markdown",
   "id": "7b51a69c-20d0-4f98-9a92-cf8fb579eef8",
   "metadata": {},
   "source": [
    "##Data Cleaning and EDA  \n",
    "- Are missing values imputed appropriately?\n",
    "- Are distributions examined and described?\n",
    "- Are outliers identified and addressed?\n",
    "- Are appropriate summary statistics provided?\n",
    "- Are steps taken during data cleaning and EDA framed appropriately?\n",
    "- Does the student address whether or not they are likely to be able to answer their problem statement with the provided data given what they've discovered during EDA?"
   ]
  },
  {
   "cell_type": "markdown",
   "id": "6ce9f242-a04d-41b2-ba0a-33bf43c79bc5",
   "metadata": {},
   "source": []
  },
  {
   "cell_type": "code",
   "execution_count": null,
   "id": "3231ab9e-c1ba-4566-a229-ba6d906f073f",
   "metadata": {},
   "outputs": [],
   "source": []
  },
  {
   "cell_type": "code",
   "execution_count": null,
   "id": "cfe5590d-d4b4-4ac7-953c-8e6bc9270848",
   "metadata": {},
   "outputs": [],
   "source": []
  },
  {
   "cell_type": "code",
   "execution_count": null,
   "id": "57cc64ca-c4c6-417d-88da-88cff46fa6bc",
   "metadata": {},
   "outputs": [],
   "source": []
  },
  {
   "cell_type": "code",
   "execution_count": null,
   "id": "3e410f6d-391b-4676-9d1a-2bf179102080",
   "metadata": {},
   "outputs": [],
   "source": []
  }
 ],
 "metadata": {
  "kernelspec": {
   "display_name": "Python [conda env:dsi-sg]",
   "language": "python",
   "name": "conda-env-dsi-sg-py"
  },
  "language_info": {
   "codemirror_mode": {
    "name": "ipython",
    "version": 3
   },
   "file_extension": ".py",
   "mimetype": "text/x-python",
   "name": "python",
   "nbconvert_exporter": "python",
   "pygments_lexer": "ipython3",
   "version": "3.9.13"
  }
 },
 "nbformat": 4,
 "nbformat_minor": 5
}
